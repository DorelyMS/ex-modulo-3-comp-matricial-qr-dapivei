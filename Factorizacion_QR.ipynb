{
 "cells": [
  {
   "cell_type": "markdown",
   "metadata": {},
   "source": [
    "# FUNCIONES"
   ]
  },
  {
   "cell_type": "code",
   "execution_count": 23,
   "metadata": {},
   "outputs": [],
   "source": [
    "import os\n",
    "import numpy as np\n",
    "import copy\n",
    "from math import sqrt\n",
    "from scipy.linalg import solve_triangular"
   ]
  },
  {
   "cell_type": "markdown",
   "metadata": {},
   "source": [
    "### Creación matrices"
   ]
  },
  {
   "cell_type": "code",
   "execution_count": 24,
   "metadata": {},
   "outputs": [],
   "source": [
    "def crea_matriz(renglones,columnas,maximo_valor,minimo_valor,entero=False):\n",
    "    \"\"\"\n",
    "    Función de apoyo para genear matrices aleatorias\n",
    "                            \n",
    "    params: renglones       no. de renglones de la matriz\n",
    "            columnas        no. de renglones de la matriz\n",
    "            maximo_valor    valor máximo de las entradas de la matriz\n",
    "            minimo_valor    valor mínimo de las entradas de la matriz\n",
    "            entero          Indica si las entradas serán enteras (True) o no\n",
    "            \n",
    "    return: M               Matriz con numeros al azar\n",
    "    \"\"\"\n",
    "    M=np.zeros((renglones, columnas))\n",
    "    for i in range(renglones):\n",
    "        for j in range(columnas):\n",
    "            if entero:\n",
    "                M[i][j]=(np.random.rand(1)*(maximo_valor+1-minimo_valor)+minimo_valor)//1\n",
    "            else:\n",
    "                M[i][j]=np.random.rand(1)*(maximo_valor-minimo_valor)+minimo_valor\n",
    "    return M"
   ]
  },
  {
   "cell_type": "markdown",
   "metadata": {},
   "source": [
    "### Factorización QR"
   ]
  },
  {
   "cell_type": "code",
   "execution_count": 25,
   "metadata": {},
   "outputs": [],
   "source": [
    "def house(x):\n",
    "    \"\"\"\n",
    "    Función que calcula la proyección de householder\n",
    "    \n",
    "    params: x       vector al que se le hará la reflexión householder\n",
    "                    \n",
    "    return: Beta    constante utilizada para obtener v\n",
    "            v       vector que representa la reflexión de householder\n",
    "    \"\"\"\n",
    "    m=len(x)\n",
    "    norm_2_m=x[1:m].dot(np.transpose(x[1:m]))\n",
    "    v=np.concatenate((1,x[1:m]), axis=None)\n",
    "    Beta=0\n",
    "    if (norm_2_m==0 and x[0]>=0):\n",
    "        Beta=0\n",
    "    elif (norm_2_m==0 and x[0]<0):\n",
    "        Beta=2\n",
    "    else:\n",
    "        norm_x=np.sqrt(pow(x[0],2)+norm_2_m)\n",
    "        if (x[0]<=0):\n",
    "            v[0]=x[0]-norm_x\n",
    "        else:\n",
    "            v[0]=-norm_2_m/(x[0]+norm_x)\n",
    "        Beta=2*pow(v[0],2)/(norm_2_m+pow(v[0],2))\n",
    "        v=v/v[0]\n",
    "    return Beta, v"
   ]
  },
  {
   "cell_type": "code",
   "execution_count": 26,
   "metadata": {},
   "outputs": [],
   "source": [
    "def factorizacion_QR(A):\n",
    "    \"\"\"\n",
    "    Función que genera una matriz que contendrá información escencial de las proyecciones householder\n",
    "    (vectores v's) y componentes de la matriz triangular superior R, del estilo:\n",
    "    [r11      r12      r13      r14    ]\n",
    "    [v_2_(1)  r22      r23      r24    ]\n",
    "    [v_3_(1)  v_3_(2)  r33      r34    ]\n",
    "    [v_4_(1)  v_4_(2)  v_4_(3)  r44    ]\n",
    "    [v_5_(1)  v_5_(2)  v_5_(3)  v_5_(4)]\n",
    "    \n",
    "    params: A      Matriz (mxn) de la que se desea obtner factorización QR\n",
    "            \n",
    "    return: A_r_v  Matriz (mxn) con la información escencial (es igual a la matriz R, pero en lugar de tener ceros\n",
    "                   en la parte inferior, contiene info de los vectores householder que serán útiles para\n",
    "                   futuros cálculos, que entre otros están el calcular la matriz ortonormal Q)\n",
    "    \"\"\"\n",
    "    m=A.shape[0]\n",
    "    n=A.shape[1]\n",
    "    A_r_v=copy.copy(A)\n",
    "    for j in range(n):\n",
    "        beta, v=house(A_r_v[j:m,j])\n",
    "        A_r_v[j:m,j:n]=A_r_v[j:m,j:n]-beta*(np.outer(v,v)@A_r_v[j:m,j:n])\n",
    "        A_r_v[(j+1):m,j]=v[1:(m-j)]\n",
    "    return A_r_v"
   ]
  },
  {
   "cell_type": "code",
   "execution_count": 27,
   "metadata": {},
   "outputs": [],
   "source": [
    "def QT_C(A_r_v,C):\n",
    "    \"\"\"\n",
    "    Función que calcula el producto matricial de Q_transpuesta por una matriz dada C\n",
    "                            \n",
    "    params: A_r_v   Matriz (mxn) con la info escencial\n",
    "            C       Matriz (mxp) (si se pasa por ejemplo C=Identidad (mxm) la funcion devolverá Q)\n",
    "\n",
    "    return: M       Matriz con numero al azar\n",
    "    \"\"\"\n",
    "    m=A_r_v.shape[0]\n",
    "    n=A_r_v.shape[1]\n",
    "    QT_por_C=np.eye(m)\n",
    "    for j in range(n-1,-1,-1):\n",
    "        v=np.concatenate((1,A_r_v[(j+1):m,j]), axis=None)\n",
    "        beta=2/(1+A_r_v[(j+1):m,j].dot(A_r_v[(j+1):m,j]))\n",
    "        QT_por_C[j:m,j:m]=C[j:m,j:m]-beta*np.outer(v,v)@C[j:m,j:m]\n",
    "    return QT_por_C"
   ]
  },
  {
   "cell_type": "code",
   "execution_count": 28,
   "metadata": {},
   "outputs": [],
   "source": [
    "def Q_j(A_r_v,j):\n",
    "    \"\"\"\n",
    "    Función que calcula la matriz Qj (en el proceso de obtención de factorización QR se van obteniendo n Qj's,\n",
    "    que si se multiplican todas da por resultado Q=Q1*Q2*...*Qn)\n",
    "                            \n",
    "    params: A_r_v   Matriz (mxn) con la info escencial\n",
    "            C       Matriz (mxp) (si se pasa por ejemplo C=Identidad (mxm) la funcion devolverá Q)\n",
    "\n",
    "    return: Qj      Matriz Q de la j-esima iteración del proceso iterativo de factorización QR\n",
    "    \"\"\"\n",
    "    m=A_r_v.shape[0]\n",
    "    n=A_r_v.shape[1]\n",
    "    Qj=np.eye(m)\n",
    "    v=np.concatenate((1,A_r_v[(j+1):m,j]), axis=None)\n",
    "    beta=2/(1+A_r_v[(j+1):m,j].dot(A_r_v[(j+1):m,j]))\n",
    "    Qj[j:m,j:m]=np.eye(m-j)-beta*np.outer(v,v)\n",
    "    return Qj"
   ]
  },
  {
   "cell_type": "markdown",
   "metadata": {},
   "source": [
    "### Funciones para solución de Sistemas de Ecuaciones Lineales"
   ]
  },
  {
   "cell_type": "code",
   "execution_count": 29,
   "metadata": {},
   "outputs": [],
   "source": [
    "def Solucion_SEL_QR_nxn(A,b):\n",
    "    \"\"\"\n",
    "    Función que obtiene la solución de un sistema de ecuaciones lineala (SEL) con n ecuaciones y n incognitas\n",
    "            \n",
    "    params: A   Matriz (nxn) que representa los coeficientas de las ecuaciones\n",
    "            b   vector (nx1) constantes del sistema\n",
    "\n",
    "    return: x   vector que satisface (Ax=b)\n",
    "    \"\"\"\n",
    "    A_r_v=factorizacion_QR(A)\n",
    "    m=A_r_v.shape[0]\n",
    "    #Q=np.transpose(QT_C(A_r_v,np.eye(m)))\n",
    "    #R=np.transpose(Q)@A\n",
    "    n=A_r_v.shape[0]\n",
    "    Q=np.eye(m)\n",
    "    R=copy.copy(A)\n",
    "    for j in range(m):\n",
    "        Qj=Q_j(A_r_v,j)\n",
    "        Q=Q@Qj\n",
    "        R=Q_j(A_r_v,j)@R\n",
    "    b_prima=np.transpose(Q)@b\n",
    "    x = solve_triangular(R, np.transpose(Q)@b)\n",
    "    return x"
   ]
  },
  {
   "cell_type": "markdown",
   "metadata": {},
   "source": [
    "#### Eliminación por bloques"
   ]
  },
  {
   "cell_type": "code",
   "execution_count": 30,
   "metadata": {},
   "outputs": [],
   "source": [
    "def bloques(A, b=False, n1=False, n2=False):\n",
    "    \"\"\"\n",
    "    Esta es la función para la creación de bloques usando un arreglo de numpy\n",
    "    \n",
    "    params: A   Matriz (nxn) que representa los coeficientas de las ecuaciones\n",
    "            b   vector (nx1) constantes del sistema\n",
    "            n1  Numero de renglones que tendrá el 1er bloque\n",
    "            n2  Numero de renglones que tendrá el 2do bloque\n",
    "    \n",
    "    return: A11 Fraccion de la matriz dividida\n",
    "            A12 Fraccion de la matriz dividida\n",
    "            A12 Fraccion de la matriz dividida\n",
    "            A12 Fraccion de la matriz dividida\n",
    "            b1  Fraccion del vector dividido\n",
    "            b2  Fraccion del vector dividido\n",
    "    \"\"\"\n",
    "\n",
    "    # Primero definimos el n\n",
    "    m,n = A.shape\n",
    "\n",
    "    # Condiciones de A\n",
    "    # Si no se dan los n deseados, se intentan hacer los bloques casi iguales\n",
    "    if  not (n1&n2):\n",
    "        n1 = n//2\n",
    "        n2 = n - n1\n",
    "    # Los bloques deben cumplir la condicion de tamaño\n",
    "    elif n1+n1 != n:\n",
    "        sys.exit('n1 + n2 debe ser igual a n')\n",
    "    else:\n",
    "        None\n",
    "\n",
    "    # Condiciones de b\n",
    "    if  b is False:\n",
    "        b1 = None\n",
    "        b2 = None\n",
    "        print('condicion1')\n",
    "    elif len(b) == m:\n",
    "        b1 = b[:n1]\n",
    "        b2 = b[n1:m]\n",
    "    else:\n",
    "        sys.exit('los renglones de A y b deben ser del mismo tamaño')\n",
    "\n",
    "    A11 = A[:n1,:n1]\n",
    "    A12 = A[:n1,n1:n]\n",
    "    A21 = A[n1:m,:n1]\n",
    "    A22 = A[n1:m,n1:n]\n",
    "\n",
    "    return A11,A12,A21,A22,b1,b2"
   ]
  },
  {
   "cell_type": "code",
   "execution_count": 31,
   "metadata": {},
   "outputs": [],
   "source": [
    "def eliminacion_bloques(A,b):\n",
    "    \"\"\"\n",
    "    Función que obtiene la solución de un sistema de ecuaciones lineala (SEL) con n ecuaciones y n incognitas\n",
    "            \n",
    "    params: A   Matriz (nxn) que representa los coeficientas de las ecuaciones\n",
    "            b   vector (nx1) constantes del sistema\n",
    "    \n",
    "    return: x1 Solucion al 1er sistema de ecuaciones obtenido con la división por bloques\n",
    "            x2 Solucion al 2do sistema de ecuaciones obtenido con la división por bloques\n",
    "    \"\"\"\n",
    "    if np.linalg.det(A)==0:\n",
    "        sys.exit('A debe ser no singular')\n",
    "\n",
    "    A11,A12,A21,A22,b1,b2 = bloques(A,b)\n",
    "\n",
    "    if np.linalg.det(A11)==0:\n",
    "        sys.exit('A11 debe ser no singular')\n",
    "\n",
    "    ## 1. Calcular A11^{-1}A12 y A11^{-1}b1 teniendo cuidado en no calcular la inversa sino un sistema de ecuaciones lineales\n",
    "    ## Aquí se debe usar el método QR una vez que esté desarrollado\n",
    "\n",
    "    ## Definimos y = A11^{-1}b1, por tanto A11y=b1. Resolviendo el sistema anterior para 11y:\n",
    "    y = Solucion_SEL_QR_nxn(A11,b1)\n",
    "    #y = np.linalg.solve(A11,b1)\n",
    "\n",
    "    ## Definimos Y = A11^{-1}A12\n",
    "    Y = Solucion_SEL_QR_nxn(A11,A12)\n",
    "    #Y = np.linalg.solve(A11,A12)\n",
    "\n",
    "    ## 2. Calcular el complemento de Schur del bloque A11 en A. Calcular b_hat\n",
    "    S = A22 - A21@Y\n",
    "    b_h = b2 - A21@y\n",
    "\n",
    "    ## 3. Resolver Sx2 = b_hat\n",
    "    x2 = Solucion_SEL_QR_nxn(S,b_h)\n",
    "    #x2 = np.linalg.solve(S,b_h)\n",
    "\n",
    "    ## 4. Resolver A11x1 = b1-A12X2\n",
    "    x1 = Solucion_SEL_QR_nxn(A11,b1-A12@x2)\n",
    "    #x1 = np.linalg.solve(A11,b1-A12@x2)\n",
    "\n",
    "    return np.concatenate((x1,x2), axis=0)"
   ]
  },
  {
   "cell_type": "code",
   "execution_count": null,
   "metadata": {},
   "outputs": [],
   "source": []
  },
  {
   "cell_type": "code",
   "execution_count": null,
   "metadata": {},
   "outputs": [],
   "source": []
  },
  {
   "cell_type": "code",
   "execution_count": null,
   "metadata": {},
   "outputs": [],
   "source": []
  },
  {
   "cell_type": "markdown",
   "metadata": {},
   "source": [
    "# EJEMPLOS"
   ]
  },
  {
   "cell_type": "markdown",
   "metadata": {},
   "source": [
    "**Generación de matrices**"
   ]
  },
  {
   "cell_type": "code",
   "execution_count": 32,
   "metadata": {},
   "outputs": [
    {
     "data": {
      "text/plain": [
       "array([[1., 2., 1.],\n",
       "       [2., 3., 2.],\n",
       "       [1., 2., 3.]])"
      ]
     },
     "execution_count": 32,
     "metadata": {},
     "output_type": "execute_result"
    }
   ],
   "source": [
    "#Prueba también definiendo una matriz entrada por entrada, solo asegurate que sus entradas sean\n",
    "#tipo flotantes/dobles (pues si son de tipo enteras arrastrarán errores de redondeo considerables)\n",
    "m=3\n",
    "n=3\n",
    "A=np.array([[1, 2, 1], [2, 3, 2], [1, 2, 3]], dtype='d')\n",
    "A"
   ]
  },
  {
   "cell_type": "code",
   "execution_count": 33,
   "metadata": {},
   "outputs": [
    {
     "data": {
      "text/plain": [
       "array([[ 5.88, -5.89,  5.73],\n",
       "       [ 5.15, -4.67, -0.53],\n",
       "       [ 0.72,  1.92,  3.08],\n",
       "       [ 3.61,  3.1 , -2.42],\n",
       "       [ 4.36, -4.51,  1.88]])"
      ]
     },
     "execution_count": 33,
     "metadata": {},
     "output_type": "execute_result"
    }
   ],
   "source": [
    "#Generar una matriz aleatoria de tamaño definido (renglones y columnas) y valores aleatorios comprendidos en un rango, pudiendo ser sus entradas de tipo enteros o dobles\n",
    "m=5\n",
    "n=3\n",
    "A=np.round(crea_matriz(m,n,6,-6,False),2)\n",
    "A"
   ]
  },
  {
   "cell_type": "markdown",
   "metadata": {},
   "source": [
    "**Ejemplos de factorización de una matriz A**"
   ]
  },
  {
   "cell_type": "code",
   "execution_count": 34,
   "metadata": {},
   "outputs": [
    {
     "data": {
      "text/plain": [
       "array([[ 9.6777, -6.7965,  3.3728],\n",
       "       [-1.3561,  6.6291, -2.7784],\n",
       "       [-0.1896, -0.2077,  5.7355],\n",
       "       [-0.9506, -0.3934, -1.8217],\n",
       "       [-1.1481,  0.3445, -2.5155]])"
      ]
     },
     "execution_count": 34,
     "metadata": {},
     "output_type": "execute_result"
    }
   ],
   "source": [
    "A_r_v = factorizacion_QR(A)\n",
    "np.round(A_r_v,4)"
   ]
  },
  {
   "cell_type": "code",
   "execution_count": 35,
   "metadata": {},
   "outputs": [
    {
     "data": {
      "text/plain": [
       "array([[ 0.6076,  0.5322,  0.0744,  0.373 ,  0.4505],\n",
       "       [ 0.5322,  0.2783, -0.1009, -0.5059, -0.611 ],\n",
       "       [ 0.0744, -0.1009,  0.9859, -0.0707, -0.0854],\n",
       "       [ 0.373 , -0.5059, -0.0707,  0.6454, -0.4283],\n",
       "       [ 0.4505, -0.611 , -0.0854, -0.4283,  0.4828]])"
      ]
     },
     "execution_count": 35,
     "metadata": {},
     "output_type": "execute_result"
    }
   ],
   "source": [
    "#Obtención de Q con la función QT_C\n",
    "Q=np.transpose(QT_C(A_r_v,np.eye(m)))\n",
    "np.round(Q,4)"
   ]
  },
  {
   "cell_type": "code",
   "execution_count": 36,
   "metadata": {},
   "outputs": [
    {
     "data": {
      "text/plain": [
       "array([[ 9.6777, -6.7965,  3.3728],\n",
       "       [ 0.    , -3.4407,  2.6666],\n",
       "       [ 0.    ,  2.0919,  3.5269],\n",
       "       [ 0.    ,  3.9617, -0.1793],\n",
       "       [ 0.    , -3.4693,  4.5862]])"
      ]
     },
     "execution_count": 36,
     "metadata": {},
     "output_type": "execute_result"
    }
   ],
   "source": [
    "#Así obtenemos R\n",
    "R=np.transpose(Q)@A\n",
    "np.round(R,4)"
   ]
  },
  {
   "cell_type": "code",
   "execution_count": 37,
   "metadata": {},
   "outputs": [
    {
     "name": "stdout",
     "output_type": "stream",
     "text": [
      "\n",
      "Q 0 :\n",
      " [[ 0.6076  0.5322  0.0744  0.373   0.4505]\n",
      " [ 0.5322  0.2783 -0.1009 -0.5059 -0.611 ]\n",
      " [ 0.0744 -0.1009  0.9859 -0.0707 -0.0854]\n",
      " [ 0.373  -0.5059 -0.0707  0.6454 -0.4283]\n",
      " [ 0.4505 -0.611  -0.0854 -0.4283  0.4828]]\n",
      "\n",
      "Aplicando las Qjs a A por la izquierda para obtener R, iteracion  0 :\n",
      " [[ 9.6777 -6.7965  3.3728]\n",
      " [ 0.     -3.4407  2.6666]\n",
      " [ 0.      2.0919  3.5269]\n",
      " [ 0.      3.9617 -0.1793]\n",
      " [ 0.     -3.4693  4.5862]]\n",
      "\n",
      "Q 1 :\n",
      " [[ 1.      0.      0.      0.      0.    ]\n",
      " [ 0.     -0.519   0.3156  0.5976 -0.5233]\n",
      " [ 0.      0.3156  0.9344 -0.1241  0.1087]\n",
      " [ 0.      0.5976 -0.1241  0.7649  0.2059]\n",
      " [ 0.     -0.5233  0.1087  0.2059  0.8197]]\n",
      "\n",
      "Aplicando las Qjs a A por la izquierda para obtener R, iteracion  1 :\n",
      " [[ 9.6777 -6.7965  3.3728]\n",
      " [-0.      6.6291 -2.7784]\n",
      " [ 0.      0.      4.658 ]\n",
      " [ 0.     -0.      1.9628]\n",
      " [ 0.      0.      2.7103]]\n",
      "\n",
      "Q 2 :\n",
      " [[ 1.      0.      0.      0.      0.    ]\n",
      " [ 0.      1.      0.      0.      0.    ]\n",
      " [ 0.      0.      0.8121  0.3422  0.4726]\n",
      " [ 0.      0.      0.3422  0.3765 -0.8609]\n",
      " [ 0.      0.      0.4726 -0.8609 -0.1887]]\n",
      "\n",
      "Aplicando las Qjs a A por la izquierda para obtener R, iteracion  2 :\n",
      " [[ 9.6777 -6.7965  3.3728]\n",
      " [-0.      6.6291 -2.7784]\n",
      " [ 0.      0.      5.7355]\n",
      " [ 0.     -0.     -0.    ]\n",
      " [-0.     -0.     -0.    ]]\n",
      "\n",
      "\n",
      "\n",
      "Resultados finales:\n",
      "\n",
      "R es el resultado de multiplicar todas las Qjs a A\n",
      " [[ 9.6777 -6.7965  3.3728]\n",
      " [-0.      6.6291 -2.7784]\n",
      " [ 0.      0.      5.7355]\n",
      " [ 0.     -0.     -0.    ]\n",
      " [-0.     -0.     -0.    ]]\n",
      "\n",
      "Q es el resultado de multiplicar todas las Qjs y transponer:\n",
      " [[ 0.6076 -0.2656  0.5131  0.1896 -0.511 ]\n",
      " [ 0.5322 -0.1589 -0.4823  0.5265  0.4263]\n",
      " [ 0.0744  0.3659  0.6705  0.1435  0.6248]\n",
      " [ 0.373   0.8501 -0.2295 -0.1119 -0.2702]\n",
      " [ 0.4505 -0.2184 -0.043  -0.8086  0.3061]]\n"
     ]
    }
   ],
   "source": [
    "#Ejemplo ilustrativo de cómo obtener Q y R, visualizando cada iteración\n",
    "Q=np.eye(m)\n",
    "R=copy.copy(A)\n",
    "for j in range(n):\n",
    "    Qj=Q_j(A_r_v,j)\n",
    "    print('\\nQ',j,':\\n',np.round(Qj,4))\n",
    "    Q=Q@Qj\n",
    "    R=Q_j(A_r_v,j)@R\n",
    "    print('\\nAplicando las Qjs a A por la izquierda para obtener R, iteracion ',j,':\\n',np.round(R,4))\n",
    "\n",
    "print('\\n\\n\\nResultados finales:')\n",
    "print('\\nR es el resultado de multiplicar todas las Qjs a A\\n',np.round(R,4))\n",
    "print('\\nQ es el resultado de multiplicar todas las Qjs y transponer:\\n',np.round(Q,4))"
   ]
  },
  {
   "cell_type": "code",
   "execution_count": 38,
   "metadata": {},
   "outputs": [
    {
     "data": {
      "text/plain": [
       "array([[ 6.33213250e+01,  2.98206015e+00, -4.78701291e-01, ...,\n",
       "         4.75119401e+00, -4.25444351e-01,  4.96567310e+00],\n",
       "       [-6.16510221e-04,  6.41135946e+01,  3.93309746e+00, ...,\n",
       "         1.43879242e+00, -3.47087697e+00, -1.55807105e+00],\n",
       "       [-1.15133284e-01, -1.31427912e-01,  6.60921099e+01, ...,\n",
       "        -4.83569383e+00,  4.49658419e+00,  9.50941830e+00],\n",
       "       ...,\n",
       "       [ 4.36180981e-02,  1.36084171e-01,  4.67173867e-02, ...,\n",
       "        -2.17457044e-03,  1.88677662e-01, -1.11831885e-01],\n",
       "       [-1.19294728e-01,  1.22287780e-01,  5.30385014e-02, ...,\n",
       "         1.74975954e-01, -2.29575016e-01,  1.74943207e-01],\n",
       "       [-1.60292657e-02,  1.34846071e-02, -1.47976041e-01, ...,\n",
       "         8.45097376e-02, -1.37344965e-01,  2.20156191e-01]])"
      ]
     },
     "execution_count": 38,
     "metadata": {},
     "output_type": "execute_result"
    }
   ],
   "source": [
    "#Se prueba un ejemplo más grande con 10^4 entradas\n",
    "m=125\n",
    "n=80\n",
    "A=np.round(crea_matriz(m,n,10,-10,False),2)\n",
    "A_r_v = factorizacion_QR(A)\n",
    "A_r_v"
   ]
  },
  {
   "cell_type": "markdown",
   "metadata": {},
   "source": [
    "**Solucion de SEL**"
   ]
  },
  {
   "cell_type": "markdown",
   "metadata": {},
   "source": [
    "### A) Sistema con soluciones únicas"
   ]
  },
  {
   "cell_type": "code",
   "execution_count": 39,
   "metadata": {},
   "outputs": [
    {
     "name": "stdout",
     "output_type": "stream",
     "text": [
      "A: [[-3.03 -2.23  5.52 -0.13 -0.    1.93]\n",
      " [ 5.04  3.7   0.6   2.71  0.98  5.92]\n",
      " [ 5.71  4.59  2.06  0.93 -4.95  0.91]\n",
      " [ 1.16  4.03  2.58 -2.25  4.81  2.28]\n",
      " [ 2.45  3.48  4.95  1.57  5.2   1.27]\n",
      " [ 5.65 -1.22  5.19 -3.03  3.83  0.18]]\n",
      "b: [[ 2.08]\n",
      " [ 2.55]\n",
      " [-5.59]\n",
      " [-4.79]\n",
      " [ 4.9 ]\n",
      " [ 4.87]]\n"
     ]
    }
   ],
   "source": [
    "#Generamos un sistema de ecuaciones lineales\n",
    "m=6\n",
    "n=6\n",
    "A=np.round(crea_matriz(m,n,6,-6,False),2)\n",
    "b = np.round(crea_matriz(m,1,6,-6,False),2)\n",
    "print(\"A:\",A)\n",
    "print(\"b:\",b)"
   ]
  },
  {
   "cell_type": "markdown",
   "metadata": {},
   "source": [
    "##### Primero resolvamos el sistema de ecuaciones usando la paquetería de numpy para comparar."
   ]
  },
  {
   "cell_type": "code",
   "execution_count": 40,
   "metadata": {},
   "outputs": [
    {
     "data": {
      "text/plain": [
       "array([[ 0.66745352],\n",
       "       [-1.50599918],\n",
       "       [ 0.24512067],\n",
       "       [ 1.7983445 ],\n",
       "       [ 0.90688667],\n",
       "       [-0.19444319]])"
      ]
     },
     "execution_count": 40,
     "metadata": {},
     "output_type": "execute_result"
    }
   ],
   "source": [
    "np.linalg.solve(A,b)"
   ]
  },
  {
   "cell_type": "markdown",
   "metadata": {},
   "source": [
    "##### Ahora usemos la factorización QR"
   ]
  },
  {
   "cell_type": "code",
   "execution_count": 41,
   "metadata": {},
   "outputs": [
    {
     "data": {
      "text/plain": [
       "array([[ 0.66745352],\n",
       "       [-1.50599918],\n",
       "       [ 0.24512067],\n",
       "       [ 1.7983445 ],\n",
       "       [ 0.90688667],\n",
       "       [-0.19444319]])"
      ]
     },
     "execution_count": 41,
     "metadata": {},
     "output_type": "execute_result"
    }
   ],
   "source": [
    "x=Solucion_SEL_QR_nxn(A,b)\n",
    "x"
   ]
  },
  {
   "cell_type": "code",
   "execution_count": 42,
   "metadata": {},
   "outputs": [
    {
     "data": {
      "text/plain": [
       "array([[ 2.08],\n",
       "       [ 2.55],\n",
       "       [-5.59],\n",
       "       [-4.79],\n",
       "       [ 4.9 ],\n",
       "       [ 4.87]])"
      ]
     },
     "execution_count": 42,
     "metadata": {},
     "output_type": "execute_result"
    }
   ],
   "source": [
    "#Checamos que sea solucion (debe ser igual al vector b)\n",
    "A@x"
   ]
  },
  {
   "cell_type": "markdown",
   "metadata": {},
   "source": [
    "##### Por último usemos eliminación por bloques con QR"
   ]
  },
  {
   "cell_type": "code",
   "execution_count": 43,
   "metadata": {},
   "outputs": [
    {
     "data": {
      "text/plain": [
       "array([[ 0.66745352],\n",
       "       [-1.50599918],\n",
       "       [ 0.24512067],\n",
       "       [ 1.7983445 ],\n",
       "       [ 0.90688667],\n",
       "       [-0.19444319]])"
      ]
     },
     "execution_count": 43,
     "metadata": {},
     "output_type": "execute_result"
    }
   ],
   "source": [
    "eliminacion_bloques(A,b)"
   ]
  },
  {
   "cell_type": "markdown",
   "metadata": {},
   "source": [
    "### B) Sistema sin solución"
   ]
  },
  {
   "cell_type": "code",
   "execution_count": null,
   "metadata": {},
   "outputs": [],
   "source": []
  },
  {
   "cell_type": "markdown",
   "metadata": {},
   "source": [
    "### C) Sistema con infinitas soluciones"
   ]
  },
  {
   "cell_type": "code",
   "execution_count": null,
   "metadata": {},
   "outputs": [],
   "source": []
  }
 ],
 "metadata": {
  "kernelspec": {
   "display_name": "Python 3",
   "language": "python",
   "name": "python3"
  },
  "language_info": {
   "codemirror_mode": {
    "name": "ipython",
    "version": 3
   },
   "file_extension": ".py",
   "mimetype": "text/x-python",
   "name": "python",
   "nbconvert_exporter": "python",
   "pygments_lexer": "ipython3",
   "version": "3.7.4"
  }
 },
 "nbformat": 4,
 "nbformat_minor": 4
}
