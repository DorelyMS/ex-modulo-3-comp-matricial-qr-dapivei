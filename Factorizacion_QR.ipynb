{
 "cells": [
  {
   "cell_type": "markdown",
   "metadata": {},
   "source": [
    "# FUNCIONES"
   ]
  },
  {
   "cell_type": "code",
   "execution_count": 1,
   "metadata": {},
   "outputs": [],
   "source": [
    "import os\n",
    "import numpy as np\n",
    "import copy\n",
    "from math import sqrt\n",
    "from scipy.linalg import solve_triangular"
   ]
  },
  {
   "cell_type": "markdown",
   "metadata": {},
   "source": [
    "### Creación matrices"
   ]
  },
  {
   "cell_type": "code",
   "execution_count": 2,
   "metadata": {},
   "outputs": [],
   "source": [
    "def crea_matriz(renglones,columnas,maximo_valor,minimo_valor,entero=False):\n",
    "    \"\"\"\n",
    "    Función de apoyo para genear matrices aleatorias\n",
    "                            \n",
    "    params: renglones       no. de renglones de la matriz\n",
    "            columnas        no. de renglones de la matriz\n",
    "            maximo_valor    valor máximo de las entradas de la matriz\n",
    "            minimo_valor    valor mínimo de las entradas de la matriz\n",
    "            entero          Indica si las entradas serán enteras (True) o no\n",
    "            \n",
    "    return: M               Matriz con numeros al azar\n",
    "    \"\"\"\n",
    "    M=np.zeros((renglones, columnas))\n",
    "    for i in range(renglones):\n",
    "        for j in range(columnas):\n",
    "            if entero:\n",
    "                M[i][j]=(np.random.rand(1)*(maximo_valor+1-minimo_valor)+minimo_valor)//1\n",
    "            else:\n",
    "                M[i][j]=np.random.rand(1)*(maximo_valor-minimo_valor)+minimo_valor\n",
    "    return M"
   ]
  },
  {
   "cell_type": "markdown",
   "metadata": {},
   "source": [
    "### Factorización QR"
   ]
  },
  {
   "cell_type": "code",
   "execution_count": 3,
   "metadata": {},
   "outputs": [],
   "source": [
    "def house(x):\n",
    "    \"\"\"\n",
    "    Función que calcula la proyección de householder\n",
    "    \n",
    "    params: x       vector al que se le hará la reflexión householder\n",
    "                    \n",
    "    return: Beta    constante utilizada para obtener v\n",
    "            v       vector que representa la reflexión de householder\n",
    "    \"\"\"\n",
    "    m=len(x)\n",
    "    norm_2_m=x[1:m].dot(np.transpose(x[1:m]))\n",
    "    v=np.concatenate((1,x[1:m]), axis=None)\n",
    "    Beta=0\n",
    "    if (norm_2_m==0 and x[0]>=0):\n",
    "        Beta=0\n",
    "    elif (norm_2_m==0 and x[0]<0):\n",
    "        Beta=2\n",
    "    else:\n",
    "        norm_x=np.sqrt(pow(x[0],2)+norm_2_m)\n",
    "        if (x[0]<=0):\n",
    "            v[0]=x[0]-norm_x\n",
    "        else:\n",
    "            v[0]=-norm_2_m/(x[0]+norm_x)\n",
    "        Beta=2*pow(v[0],2)/(norm_2_m+pow(v[0],2))\n",
    "        v=v/v[0]\n",
    "    return Beta, v"
   ]
  },
  {
   "cell_type": "code",
   "execution_count": 9,
   "metadata": {},
   "outputs": [],
   "source": [
    "def factorizacion_QR(A):\n",
    "    \"\"\"\n",
    "    Función que genera una matriz que contendrá información escencial de las proyecciones householder\n",
    "    (vectores v's) y componentes de la matriz triangular superior R, del estilo:\n",
    "    [r11      r12      r13      r14    ]\n",
    "    [v_2_(1)  r22      r23      r24    ]\n",
    "    [v_3_(1)  v_3_(2)  r33      r34    ]\n",
    "    [v_4_(1)  v_4_(2)  v_4_(3)  r44    ]\n",
    "    [v_5_(1)  v_5_(2)  v_5_(3)  v_5_(4)]\n",
    "    \n",
    "    params: A      Matriz (mxn) de la que se desea obtner factorización QR\n",
    "            \n",
    "    return: A_r_v  Matriz (mxn) con la información escencial (es igual a la matriz R, pero en lugar de tener ceros\n",
    "                   en la parte inferior, contiene info de los vectores householder que serán útiles para\n",
    "                   futuros cálculos, que entre otros están el calcular la matriz ortonormal Q)\n",
    "    \"\"\"\n",
    "    m=A.shape[0]\n",
    "    n=A.shape[1]\n",
    "    A_r_v=copy.copy(A)\n",
    "    for j in range(n):\n",
    "        beta, v=house(A_r_v[j:m,j])\n",
    "        A_r_v[j:m,j:n]=A_r_v[j:m,j:n]-beta*(np.outer(v,v)@A_r_v[j:m,j:n])\n",
    "        A_r_v[(j+1):m,j]=v[1:(m-j)]\n",
    "    return A_r_v"
   ]
  },
  {
   "cell_type": "code",
   "execution_count": 10,
   "metadata": {},
   "outputs": [],
   "source": [
    "def QT_C(A_r_v,C):\n",
    "    \"\"\"\n",
    "    Función que calcula el producto matricial de Q_transpuesta por una matriz dada C\n",
    "                            \n",
    "    params: A_r_v   Matriz (mxn) con la info escencial\n",
    "            C       Matriz (mxp) (si se pasa por ejemplo C=Identidad (mxm) la funcion devolverá Q)\n",
    "\n",
    "    return: M       Matriz con numero al azar\n",
    "    \"\"\"\n",
    "    m=A_r_v.shape[0]\n",
    "    n=A_r_v.shape[1]\n",
    "    QT_por_C=np.eye(m)\n",
    "    for j in range(n-1,-1,-1):\n",
    "        v=np.concatenate((1,A_r_v[(j+1):m,j]), axis=None)\n",
    "        beta=2/(1+A_r_v[(j+1):m,j].dot(A_r_v[(j+1):m,j]))\n",
    "        QT_por_C[j:m,j:m]=C[j:m,j:m]-beta*np.outer(v,v)@C[j:m,j:m]\n",
    "    return QT_por_C"
   ]
  },
  {
   "cell_type": "code",
   "execution_count": 11,
   "metadata": {},
   "outputs": [],
   "source": [
    "def Q_j(A_r_v,j):\n",
    "    \"\"\"\n",
    "    Función que calcula la matriz Qj (en el proceso de obtención de factorización QR se van obteniendo n Qj's,\n",
    "    que si se multiplican todas da por resultado Q=Q1*Q2*...*Qn)\n",
    "                            \n",
    "    params: A_r_v   Matriz (mxn) con la info escencial\n",
    "            C       Matriz (mxp) (si se pasa por ejemplo C=Identidad (mxm) la funcion devolverá Q)\n",
    "\n",
    "    return: Qj      Matriz Q de la j-esima iteración del proceso iterativo de factorización QR\n",
    "    \"\"\"\n",
    "    m=A_r_v.shape[0]\n",
    "    n=A_r_v.shape[1]\n",
    "    Qj=np.eye(m)\n",
    "    v=np.concatenate((1,A_r_v[(j+1):m,j]), axis=None)\n",
    "    beta=2/(1+A_r_v[(j+1):m,j].dot(A_r_v[(j+1):m,j]))\n",
    "    Qj[j:m,j:m]=np.eye(m-j)-beta*np.outer(v,v)\n",
    "    return Qj"
   ]
  },
  {
   "cell_type": "markdown",
   "metadata": {},
   "source": [
    "### Funciones para solución de Sistemas de Ecuaciones Lineales"
   ]
  },
  {
   "cell_type": "code",
   "execution_count": 56,
   "metadata": {},
   "outputs": [],
   "source": [
    "def Solucion_SEL_QR_nxn(A,b):\n",
    "    \"\"\"\n",
    "    Función que obtiene la solución de un sistema de ecuaciones lineala (SEL) con n ecuaciones y n incognitas\n",
    "            \n",
    "    params: A   Matriz (nxn) que representa los coeficientas de las ecuaciones\n",
    "            b   vector (nx1) constantes del sistema\n",
    "\n",
    "    return: x   vector que satisface (Ax=b)\n",
    "    \"\"\"\n",
    "    A_r_v=factorizacion_QR(A)\n",
    "    m=A_r_v.shape[0]\n",
    "    #Q=np.transpose(QT_C(A_r_v,np.eye(m)))\n",
    "    #R=np.transpose(Q)@A\n",
    "    n=A_r_v.shape[0]\n",
    "    Q=np.eye(m)\n",
    "    R=copy.copy(A)\n",
    "    for j in range(m):\n",
    "        Qj=Q_j(A_r_v,j)\n",
    "        Q=Q@Qj\n",
    "        R=Q_j(A_r_v,j)@R\n",
    "    b_prima=np.transpose(Q)@b\n",
    "    x = solve_triangular(R, np.transpose(Q)@b)\n",
    "    return x"
   ]
  },
  {
   "cell_type": "markdown",
   "metadata": {},
   "source": [
    "#### Eliminación por bloques"
   ]
  },
  {
   "cell_type": "code",
   "execution_count": 13,
   "metadata": {},
   "outputs": [],
   "source": [
    "def bloques(A, b=False, n1=False, n2=False):\n",
    "    \"\"\"\n",
    "    Esta es la función para la creación de bloques usando un arreglo de numpy\n",
    "    \n",
    "    params: A   Matriz (nxn) que representa los coeficientas de las ecuaciones\n",
    "            b   vector (nx1) constantes del sistema\n",
    "            n1  Numero de renglones que tendrá el 1er bloque\n",
    "            n2  Numero de renglones que tendrá el 2do bloque\n",
    "    \n",
    "    return: A11 Fraccion de la matriz dividida\n",
    "            A12 Fraccion de la matriz dividida\n",
    "            A12 Fraccion de la matriz dividida\n",
    "            A12 Fraccion de la matriz dividida\n",
    "            b1  Fraccion del vector dividido\n",
    "            b2  Fraccion del vector dividido\n",
    "    \"\"\"\n",
    "\n",
    "    # Primero definimos el n\n",
    "    m,n = A.shape\n",
    "\n",
    "    # Condiciones de A\n",
    "    # Si no se dan los n deseados, se intentan hacer los bloques casi iguales\n",
    "    if  not (n1&n2):\n",
    "        n1 = n//2\n",
    "        n2 = n - n1\n",
    "    # Los bloques deben cumplir la condicion de tamaño\n",
    "    elif n1+n1 != n:\n",
    "        sys.exit('n1 + n2 debe ser igual a n')\n",
    "    else:\n",
    "        None\n",
    "\n",
    "    # Condiciones de b\n",
    "    if  b is False:\n",
    "        b1 = None\n",
    "        b2 = None\n",
    "        print('condicion1')\n",
    "    elif len(b) == m:\n",
    "        b1 = b[:n1]\n",
    "        b2 = b[n1:m]\n",
    "    else:\n",
    "        sys.exit('los renglones de A y b deben ser del mismo tamaño')\n",
    "\n",
    "    A11 = A[:n1,:n1]\n",
    "    A12 = A[:n1,n1:n]\n",
    "    A21 = A[n1:m,:n1]\n",
    "    A22 = A[n1:m,n1:n]\n",
    "\n",
    "    return A11,A12,A21,A22,b1,b2"
   ]
  },
  {
   "cell_type": "code",
   "execution_count": 14,
   "metadata": {},
   "outputs": [],
   "source": [
    "def eliminacion_bloques(A,b):\n",
    "    \"\"\"\n",
    "    Función que obtiene la solución de un sistema de ecuaciones lineala (SEL) con n ecuaciones y n incognitas\n",
    "            \n",
    "    params: A   Matriz (nxn) que representa los coeficientas de las ecuaciones\n",
    "            b   vector (nx1) constantes del sistema\n",
    "    \n",
    "    return: x1 Solucion al 1er sistema de ecuaciones obtenido con la división por bloques\n",
    "            x2 Solucion al 2do sistema de ecuaciones obtenido con la división por bloques\n",
    "    \"\"\"\n",
    "    if np.linalg.det(A)==0:\n",
    "        sys.exit('A debe ser no singular')\n",
    "\n",
    "    A11,A12,A21,A22,b1,b2 = bloques(A,b)\n",
    "\n",
    "    if np.linalg.det(A11)==0:\n",
    "        ys.exit('A11 debe ser no singular')\n",
    "\n",
    "    ## 1. Calcular A11^{-1}A12 y A11^{-1}b1 teniendo cuidado en no calcular la inversa sino un sistema de ecuaciones lineales\n",
    "    ## Aquí se debe usar el método QR una vez que esté desarrollado\n",
    "\n",
    "    ## Definimos y = A11^{-1}b1, por tanto A11y=b1. Resolviendo el sistema anterior para 11y:\n",
    "    y = Solucion_SEL_QR_nxn(A11,b1)\n",
    "    #y = np.linalg.solve(A11,b1)\n",
    "\n",
    "    ## Definimos Y = A11^{-1}A12\n",
    "    Y = Solucion_SEL_QR_nxn(A11,A12)\n",
    "    #Y = np.linalg.solve(A11,A12)\n",
    "\n",
    "    ## 2. Calcular el complemento de Schur del bloque A11 en A. Calcular b_hat\n",
    "    S = A22 - A21@Y\n",
    "    b_h = b2 - A21@y\n",
    "\n",
    "    ## 3. Resolver Sx2 = b_hat\n",
    "    x2 = Solucion_SEL_QR_nxn(S,b_h)\n",
    "    #x2 = np.linalg.solve(S,b_h)\n",
    "\n",
    "    ## 4. Resolver A11x1 = b1-A12X2\n",
    "    x1 = Solucion_SEL_QR_nxn(A11,b1-A12@x2)\n",
    "    #x1 = np.linalg.solve(A11,b1-A12@x2)\n",
    "\n",
    "    return np.concatenate((x1,x2), axis=0)"
   ]
  },
  {
   "cell_type": "code",
   "execution_count": null,
   "metadata": {},
   "outputs": [],
   "source": []
  },
  {
   "cell_type": "code",
   "execution_count": null,
   "metadata": {},
   "outputs": [],
   "source": []
  },
  {
   "cell_type": "code",
   "execution_count": null,
   "metadata": {},
   "outputs": [],
   "source": []
  },
  {
   "cell_type": "markdown",
   "metadata": {},
   "source": [
    "# EJEMPLOS"
   ]
  },
  {
   "cell_type": "markdown",
   "metadata": {},
   "source": [
    "**Generación de matrices**"
   ]
  },
  {
   "cell_type": "code",
   "execution_count": 16,
   "metadata": {},
   "outputs": [
    {
     "data": {
      "text/plain": [
       "array([[1., 2., 1.],\n",
       "       [2., 3., 2.],\n",
       "       [1., 2., 3.]])"
      ]
     },
     "execution_count": 16,
     "metadata": {},
     "output_type": "execute_result"
    }
   ],
   "source": [
    "#Prueba también definiendo una matriz entrada por entrada, solo asegurate que sus entradas sean\n",
    "#tipo flotantes/dobles (pues si son de tipo enteras arrastrarán errores de redondeo considerables)\n",
    "m=3\n",
    "n=3\n",
    "A=np.array([[1, 2, 1], [2, 3, 2], [1, 2, 3]], dtype='d')\n",
    "A"
   ]
  },
  {
   "cell_type": "code",
   "execution_count": 18,
   "metadata": {},
   "outputs": [
    {
     "data": {
      "text/plain": [
       "array([[ 2.49,  2.14, -1.71],\n",
       "       [ 5.05,  0.01, -5.  ],\n",
       "       [ 1.12,  4.02,  1.97],\n",
       "       [ 0.31,  2.89,  5.06],\n",
       "       [-4.96,  4.65,  0.41]])"
      ]
     },
     "execution_count": 18,
     "metadata": {},
     "output_type": "execute_result"
    }
   ],
   "source": [
    "#Generar una matriz aleatoria de tamaño definido (renglones y columnas) y valores aleatorios comprendidos en un rango, pudiendo ser sus entradas de tipo enteros o dobles\n",
    "m=5\n",
    "n=3\n",
    "A=np.round(crea_matriz(m,n,6,-6,False),2)\n",
    "A"
   ]
  },
  {
   "cell_type": "markdown",
   "metadata": {},
   "source": [
    "**Ejemplos de factorización de una matriz A**"
   ]
  },
  {
   "cell_type": "code",
   "execution_count": 26,
   "metadata": {},
   "outputs": [
    {
     "data": {
      "text/plain": [
       "array([[ 7.5931, -1.6181, -3.6568],\n",
       "       [-0.9896,  6.9352,  2.1373],\n",
       "       [-0.2195, -1.5111,  6.2957],\n",
       "       [-0.0607, -0.9726, -0.0094],\n",
       "       [ 0.972 , -0.311 ,  0.2636]])"
      ]
     },
     "execution_count": 26,
     "metadata": {},
     "output_type": "execute_result"
    }
   ],
   "source": [
    "A_r_v = factorizacion_QR(A)\n",
    "np.round(A_r_v,4)"
   ]
  },
  {
   "cell_type": "code",
   "execution_count": 27,
   "metadata": {},
   "outputs": [
    {
     "data": {
      "text/plain": [
       "array([[ 0.3279,  0.6651,  0.1475,  0.0408, -0.6532],\n",
       "       [ 0.6651,  0.3418, -0.146 , -0.0404,  0.6464],\n",
       "       [ 0.1475, -0.146 ,  0.9676, -0.009 ,  0.1434],\n",
       "       [ 0.0408, -0.0404, -0.009 ,  0.9975,  0.0397],\n",
       "       [-0.6532,  0.6464,  0.1434,  0.0397,  0.3651]])"
      ]
     },
     "execution_count": 27,
     "metadata": {},
     "output_type": "execute_result"
    }
   ],
   "source": [
    "#Obtención de Q con la función QT_C\n",
    "Q=np.transpose(QT_C(A_r_v,np.eye(m)))\n",
    "np.round(Q,4)"
   ]
  },
  {
   "cell_type": "code",
   "execution_count": 28,
   "metadata": {},
   "outputs": [
    {
     "data": {
      "text/plain": [
       "array([[ 7.5931, -1.6181, -3.6568],\n",
       "       [ 0.    ,  3.7291, -3.0734],\n",
       "       [ 0.    ,  4.8448,  2.3973],\n",
       "       [ 0.    ,  3.1183,  5.1783],\n",
       "       [-0.    ,  0.9972, -1.4822]])"
      ]
     },
     "execution_count": 28,
     "metadata": {},
     "output_type": "execute_result"
    }
   ],
   "source": [
    "#Así obtenemos R\n",
    "R=np.transpose(Q)@A\n",
    "np.round(R,4)"
   ]
  },
  {
   "cell_type": "code",
   "execution_count": 29,
   "metadata": {},
   "outputs": [
    {
     "name": "stdout",
     "output_type": "stream",
     "text": [
      "\n",
      "Q 0 :\n",
      " [[ 0.3279  0.6651  0.1475  0.0408 -0.6532]\n",
      " [ 0.6651  0.3418 -0.146  -0.0404  0.6464]\n",
      " [ 0.1475 -0.146   0.9676 -0.009   0.1434]\n",
      " [ 0.0408 -0.0404 -0.009   0.9975  0.0397]\n",
      " [-0.6532  0.6464  0.1434  0.0397  0.3651]]\n",
      "\n",
      "Aplicando las Qjs a A por la izquierda para obtener R, iteracion  0 :\n",
      " [[ 7.5931 -1.6181 -3.6568]\n",
      " [ 0.      3.7291 -3.0734]\n",
      " [ 0.      4.8448  2.3973]\n",
      " [ 0.      3.1183  5.1783]\n",
      " [-0.      0.9972 -1.4822]]\n",
      "\n",
      "Q 1 :\n",
      " [[ 1.      0.      0.      0.      0.    ]\n",
      " [ 0.      0.5377  0.6986  0.4496  0.1438]\n",
      " [ 0.      0.6986 -0.0557 -0.6795 -0.2173]\n",
      " [ 0.      0.4496 -0.6795  0.5627 -0.1399]\n",
      " [ 0.      0.1438 -0.2173 -0.1399  0.9553]]\n",
      "\n",
      "Aplicando las Qjs a A por la izquierda para obtener R, iteracion  1 :\n",
      " [[ 7.5931 -1.6181 -3.6568]\n",
      " [ 0.      6.9352  2.1373]\n",
      " [ 0.     -0.     -5.4768]\n",
      " [ 0.     -0.      0.1102]\n",
      " [-0.     -0.     -3.103 ]]\n",
      "\n",
      "Q 2 :\n",
      " [[ 1.      0.      0.      0.      0.    ]\n",
      " [ 0.      1.      0.      0.      0.    ]\n",
      " [ 0.      0.     -0.8699  0.0175 -0.4929]\n",
      " [ 0.      0.      0.0175  0.9998  0.0046]\n",
      " [ 0.      0.     -0.4929  0.0046  0.8701]]\n",
      "\n",
      "Aplicando las Qjs a A por la izquierda para obtener R, iteracion  2 :\n",
      " [[ 7.5931 -1.6181 -3.6568]\n",
      " [ 0.      6.9352  2.1373]\n",
      " [-0.      0.      6.2957]\n",
      " [ 0.     -0.     -0.    ]\n",
      " [-0.      0.      0.    ]]\n",
      "\n",
      "\n",
      "\n",
      "Resultados finales:\n",
      "\n",
      "R es el resultado de multiplicar todas las Qjs a A\n",
      " [[ 7.5931 -1.6181 -3.6568]\n",
      " [ 0.      6.9352  2.1373]\n",
      " [-0.      0.      6.2957]\n",
      " [ 0.     -0.     -0.    ]\n",
      " [-0.      0.      0.    ]]\n",
      "\n",
      "Q es el resultado de multiplicar todas las Qjs y transponer:\n",
      " [[ 0.3279  0.3851 -0.2119  0.3205 -0.7724]\n",
      " [ 0.6651  0.1566 -0.4611  0.1453  0.5472]\n",
      " [ 0.1475  0.6141  0.1901 -0.7517  0.0048]\n",
      " [ 0.0408  0.4262  0.6827  0.5306  0.2627]\n",
      " [-0.6532  0.5181 -0.4902  0.1723  0.1869]]\n"
     ]
    }
   ],
   "source": [
    "#Ejemplo ilustrativo de cómo obtener Q y R, visualizando cada iteración\n",
    "Q=np.eye(m)\n",
    "R=copy.copy(A)\n",
    "for j in range(n):\n",
    "    Qj=Q_j(A_r_v,j)\n",
    "    print('\\nQ',j,':\\n',np.round(Qj,4))\n",
    "    Q=Q@Qj\n",
    "    R=Q_j(A_r_v,j)@R\n",
    "    print('\\nAplicando las Qjs a A por la izquierda para obtener R, iteracion ',j,':\\n',np.round(R,4))\n",
    "\n",
    "print('\\n\\n\\nResultados finales:')\n",
    "print('\\nR es el resultado de multiplicar todas las Qjs a A\\n',np.round(R,4))\n",
    "print('\\nQ es el resultado de multiplicar todas las Qjs y transponer:\\n',np.round(Q,4))"
   ]
  },
  {
   "cell_type": "code",
   "execution_count": 31,
   "metadata": {},
   "outputs": [
    {
     "data": {
      "text/plain": [
       "array([[ 6.15033568e+01,  7.77385211e-01,  4.76226039e-01, ...,\n",
       "        -4.52931375e-01, -7.81323370e+00, -2.08715762e+00],\n",
       "       [-1.07089700e-01,  6.51779209e+01, -3.51895715e+00, ...,\n",
       "        -6.11006753e+00,  1.06230650e+01,  2.80690950e+00],\n",
       "       [ 1.34754539e-01, -4.52623106e-03,  6.37240288e+01, ...,\n",
       "         9.19699119e+00, -8.38007003e+00, -3.03195907e+00],\n",
       "       ...,\n",
       "       [ 1.94843759e-02,  5.54718683e-02, -1.44156077e-02, ...,\n",
       "        -1.78932287e-01, -1.64536367e-01,  7.96156686e-02],\n",
       "       [ 9.95041794e-02, -1.05126168e-01, -1.53877002e-01, ...,\n",
       "         8.19434479e-02, -4.65339962e-02,  5.03881923e-02],\n",
       "       [ 3.16807029e-02,  7.41492130e-02, -1.19758714e-01, ...,\n",
       "        -1.13059862e-01,  3.07917029e-02, -1.35085392e-01]])"
      ]
     },
     "execution_count": 31,
     "metadata": {},
     "output_type": "execute_result"
    }
   ],
   "source": [
    "#Se prueba un ejemplo más grande con 10^4 entradas\n",
    "m=125\n",
    "n=80\n",
    "A=np.round(crea_matriz(m,n,10,-10,False),2)\n",
    "A_r_v = factorizacion_QR(A)\n",
    "A_r_v"
   ]
  },
  {
   "cell_type": "markdown",
   "metadata": {},
   "source": [
    "**Solucion de SEL**"
   ]
  },
  {
   "cell_type": "markdown",
   "metadata": {},
   "source": [
    "### A) Sistema con soluciones únicas"
   ]
  },
  {
   "cell_type": "code",
   "execution_count": 57,
   "metadata": {},
   "outputs": [
    {
     "name": "stdout",
     "output_type": "stream",
     "text": [
      "A: [[-0.07  3.27 -1.79  4.04 -5.38 -2.56]\n",
      " [ 5.29 -1.63  1.93  2.43  2.17  2.42]\n",
      " [ 4.76 -0.74  1.83  0.47 -5.62 -2.24]\n",
      " [ 0.39 -1.79 -1.99 -4.93 -4.45 -2.97]\n",
      " [-2.9   4.14 -2.59 -4.46 -2.28  0.46]\n",
      " [ 5.17 -5.7   0.13  2.46  2.95 -2.8 ]]\n",
      "b: [[ 5.43]\n",
      " [ 5.92]\n",
      " [ 3.06]\n",
      " [ 5.  ]\n",
      " [ 1.93]\n",
      " [-4.59]]\n"
     ]
    }
   ],
   "source": [
    "#Generamos un sistema de ecuaciones lineales\n",
    "m=6\n",
    "n=6\n",
    "A=np.round(crea_matriz(m,n,6,-6,False),2)\n",
    "b = np.round(crea_matriz(m,1,6,-6,False),2)\n",
    "print(\"A:\",A)\n",
    "print(\"b:\",b)"
   ]
  },
  {
   "cell_type": "markdown",
   "metadata": {},
   "source": [
    "##### Primero resolvamos el sistema de ecuaciones usando la paquetería de numpy para comparar."
   ]
  },
  {
   "cell_type": "code",
   "execution_count": 58,
   "metadata": {},
   "outputs": [
    {
     "data": {
      "text/plain": [
       "array([[ 0.15637675],\n",
       "       [-2.42679687],\n",
       "       [-3.16977472],\n",
       "       [ 0.98960498],\n",
       "       [-2.86444165],\n",
       "       [ 4.57266594]])"
      ]
     },
     "execution_count": 58,
     "metadata": {},
     "output_type": "execute_result"
    }
   ],
   "source": [
    "np.linalg.solve(A,b)"
   ]
  },
  {
   "cell_type": "markdown",
   "metadata": {},
   "source": [
    "##### Ahora usemos la factorización QR"
   ]
  },
  {
   "cell_type": "code",
   "execution_count": 59,
   "metadata": {},
   "outputs": [
    {
     "data": {
      "text/plain": [
       "array([[ 0.15637675],\n",
       "       [-2.42679687],\n",
       "       [-3.16977472],\n",
       "       [ 0.98960498],\n",
       "       [-2.86444165],\n",
       "       [ 4.57266594]])"
      ]
     },
     "execution_count": 59,
     "metadata": {},
     "output_type": "execute_result"
    }
   ],
   "source": [
    "x=Solucion_SEL_QR_nxn(A,b)\n",
    "x"
   ]
  },
  {
   "cell_type": "code",
   "execution_count": 61,
   "metadata": {},
   "outputs": [
    {
     "data": {
      "text/plain": [
       "array([[ 5.43],\n",
       "       [ 5.92],\n",
       "       [ 3.06],\n",
       "       [ 5.  ],\n",
       "       [ 1.93],\n",
       "       [-4.59]])"
      ]
     },
     "execution_count": 61,
     "metadata": {},
     "output_type": "execute_result"
    }
   ],
   "source": [
    "#Checamos que sea solucion (debe ser igual al vector b)\n",
    "A@x"
   ]
  },
  {
   "cell_type": "markdown",
   "metadata": {},
   "source": [
    "##### Por último usemos eliminación por bloques con QR"
   ]
  },
  {
   "cell_type": "code",
   "execution_count": 38,
   "metadata": {},
   "outputs": [
    {
     "data": {
      "text/plain": [
       "array([[2.29471547],\n",
       "       [1.66948307],\n",
       "       [0.94052672],\n",
       "       [0.6261769 ],\n",
       "       [2.17306118],\n",
       "       [0.30206387]])"
      ]
     },
     "execution_count": 38,
     "metadata": {},
     "output_type": "execute_result"
    }
   ],
   "source": [
    "eliminacion_bloques(A,b)"
   ]
  },
  {
   "cell_type": "markdown",
   "metadata": {},
   "source": [
    "### B) Sistema sin solución"
   ]
  },
  {
   "cell_type": "code",
   "execution_count": null,
   "metadata": {},
   "outputs": [],
   "source": []
  },
  {
   "cell_type": "markdown",
   "metadata": {},
   "source": [
    "### C) Sistema con infinitas soluciones"
   ]
  },
  {
   "cell_type": "code",
   "execution_count": null,
   "metadata": {},
   "outputs": [],
   "source": []
  }
 ],
 "metadata": {
  "kernelspec": {
   "display_name": "Python 3",
   "language": "python",
   "name": "python3"
  },
  "language_info": {
   "codemirror_mode": {
    "name": "ipython",
    "version": 3
   },
   "file_extension": ".py",
   "mimetype": "text/x-python",
   "name": "python",
   "nbconvert_exporter": "python",
   "pygments_lexer": "ipython3",
   "version": "3.6.9"
  }
 },
 "nbformat": 4,
 "nbformat_minor": 4
}
