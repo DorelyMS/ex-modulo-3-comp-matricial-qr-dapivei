{
 "cells": [
  {
   "cell_type": "code",
   "execution_count": 1,
   "metadata": {},
   "outputs": [],
   "source": [
    "import os\n",
    "import numpy as np\n",
    "from math import sqrt\n",
    "from pprint import pprint"
   ]
  },
  {
   "cell_type": "markdown",
   "metadata": {},
   "source": [
    "#### Algoritmo para el cálculo del vector de Householder, nombre de función: $house(\\cdot)$"
   ]
  },
  {
   "cell_type": "code",
   "execution_count": 3,
   "metadata": {},
   "outputs": [],
   "source": [
    "x = np.array([1,2,3,4,4,2])\n",
    "e = np.array([2,4,6,4,5,2])"
   ]
  },
  {
   "cell_type": "code",
   "execution_count": 4,
   "metadata": {},
   "outputs": [],
   "source": [
    "def house():\n",
    "    m = len(x) #Definimos el tamaño de x\n",
    "    norm_2_m = (x[2:m].T).dot(x[2:m]) #Definimos la norma\n",
    "    \n",
    "    #Definimos el signo de x_1\n",
    "    def signo(x_1):\n",
    "        if x[0] >= 0:\n",
    "            return np.copysign(x[0], 1)\n",
    "        if x[0] < 0:\n",
    "            return np.copysign(x[0], -1)\n",
    "    \n",
    "    #Definimos el vector de Householder con v_1 = 1\n",
    "    v = x+signo(x[0])*np.linalg.norm(x)*e  \n",
    "    v[0] = 1\n",
    "    beta = (2)/((np.transpose(v)).dot(v))\n",
    "    \n",
    "    #Verificamos las siguientes condiciones si x es un múltiplo del vector canónico e_1 y el signo de x_1\n",
    "    if norm_2_m == 0:\n",
    "        if x[0] >= 0:\n",
    "            beta == 0\n",
    "    else:\n",
    "        if norm_2_m == 0:\n",
    "            if x[0] < 0:\n",
    "                beta == 2\n",
    "            else:\n",
    "                def beta():\n",
    "                    return (2*((v[0])**2)) / (norm_2_m + ((v[0])**2))\n",
    "                def v():\n",
    "                    return v/(v[0])\n",
    "                norm_x = sqrt(x[0]**2 + norm_2_m)\n",
    "                if x[0] <= 0:\n",
    "                    v[0] = x[0] - norm_x\n",
    "                else:\n",
    "                    v[0] = -((-norm_2_m) / (x[0] + norm_x))\n",
    "    R = np.eye(m)-beta*np.outer(v,np.transpose(v))\n",
    "    return v, R"
   ]
  },
  {
   "cell_type": "code",
   "execution_count": 5,
   "metadata": {},
   "outputs": [],
   "source": [
    "v, R = house()"
   ]
  },
  {
   "cell_type": "code",
   "execution_count": 6,
   "metadata": {},
   "outputs": [
    {
     "data": {
      "text/plain": [
       "array([ 1.        , 30.28427125, 45.42640687, 32.28427125, 39.35533906,\n",
       "       16.14213562])"
      ]
     },
     "execution_count": 6,
     "metadata": {},
     "output_type": "execute_result"
    }
   ],
   "source": [
    "v"
   ]
  },
  {
   "cell_type": "code",
   "execution_count": 7,
   "metadata": {},
   "outputs": [
    {
     "data": {
      "text/plain": [
       "array([[ 0.99965715, -0.01038309, -0.01557464, -0.0110688 , -0.01349315,\n",
       "        -0.0055344 ],\n",
       "       [-0.01038309,  0.68555557, -0.47166665, -0.33521062, -0.40863018,\n",
       "        -0.16760531],\n",
       "       [-0.01557464, -0.47166665,  0.29250002, -0.50281593, -0.61294527,\n",
       "        -0.25140797],\n",
       "       [-0.0110688 , -0.33521062, -0.50281593,  0.64265177, -0.43561648,\n",
       "        -0.17867411],\n",
       "       [-0.01349315, -0.40863018, -0.61294527, -0.43561648,  0.46897255,\n",
       "        -0.21780824],\n",
       "       [-0.0055344 , -0.16760531, -0.25140797, -0.17867411, -0.21780824,\n",
       "         0.91066294]])"
      ]
     },
     "execution_count": 7,
     "metadata": {},
     "output_type": "execute_result"
    }
   ],
   "source": [
    "R"
   ]
  }
 ],
 "metadata": {
  "kernelspec": {
   "display_name": "Python 3",
   "language": "python",
   "name": "python3"
  },
  "language_info": {
   "codemirror_mode": {
    "name": "ipython",
    "version": 3
   },
   "file_extension": ".py",
   "mimetype": "text/x-python",
   "name": "python",
   "nbconvert_exporter": "python",
   "pygments_lexer": "ipython3",
   "version": "3.7.4"
  }
 },
 "nbformat": 4,
 "nbformat_minor": 4
}
