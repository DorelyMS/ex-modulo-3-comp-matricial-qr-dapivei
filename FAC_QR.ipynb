{
 "cells": [
  {
   "cell_type": "code",
   "execution_count": 1,
   "metadata": {},
   "outputs": [],
   "source": [
    "###############################################################################################\n",
    "############################################ FUNCIONES ########################################\n",
    "###############################################################################################"
   ]
  },
  {
   "cell_type": "code",
   "execution_count": 2,
   "metadata": {},
   "outputs": [],
   "source": [
    "import numpy as np\n",
    "import copy"
   ]
  },
  {
   "cell_type": "code",
   "execution_count": 3,
   "metadata": {},
   "outputs": [],
   "source": [
    "def crea_matriz(renglones,columnas,maximo_valor,minimo_valor,entero=False):\n",
    "    \"\"\"\n",
    "    Función de apoyo para genear matrices aleatorias\n",
    "                            \n",
    "    params: renglones       no. de renglones de la matriz\n",
    "            columnas        no. de renglones de la matriz\n",
    "            maximo_valor    valor máximo de las entradas de la matriz\n",
    "            minimo_valor    valor mínimo de las entradas de la matriz\n",
    "            entero          Indica si las entradas serán enteras (True) o no\n",
    "            \n",
    "    return: M               Matriz con numeros al azar\n",
    "    \"\"\"\n",
    "    M=np.zeros((renglones, columnas))\n",
    "    for i in range(renglones):\n",
    "        for j in range(columnas):\n",
    "            if entero:\n",
    "                M[i][j]=(np.random.rand(1)*(maximo_valor+1-minimo_valor)+minimo_valor)//1\n",
    "            else:\n",
    "                M[i][j]=np.random.rand(1)*(maximo_valor-minimo_valor)+minimo_valor\n",
    "    return M"
   ]
  },
  {
   "cell_type": "code",
   "execution_count": 4,
   "metadata": {},
   "outputs": [],
   "source": [
    "def house(x):\n",
    "    \"\"\"\n",
    "    Función que calcula la proyección de householder\n",
    "    \n",
    "    params: x       vector al que se le hará la reflexión householder\n",
    "                    \n",
    "    return: Beta    constante utilizada para obtener v\n",
    "            v       vector que representa la reflexión de householder\n",
    "    \"\"\"\n",
    "    m=len(x)\n",
    "    norm_2_m=x[1:m].dot(np.transpose(x[1:m]))\n",
    "    v=np.concatenate((1,x[1:m]), axis=None)\n",
    "    Beta=0\n",
    "    if (norm_2_m==0 and x[0]>=0):\n",
    "        Beta=0\n",
    "    elif (norm_2_m==0 and x[0]<0):\n",
    "        Beta=2\n",
    "    else:\n",
    "        norm_x=np.sqrt(pow(x[0],2)+norm_2_m)\n",
    "        if (x[0]<=0):\n",
    "            v[0]=x[0]-norm_x\n",
    "        else:\n",
    "            v[0]=-norm_2_m/(x[0]+norm_x)\n",
    "        Beta=2*pow(v[0],2)/(norm_2_m+pow(v[0],2))\n",
    "        v=v/v[0]\n",
    "    return Beta, v"
   ]
  },
  {
   "cell_type": "code",
   "execution_count": 5,
   "metadata": {},
   "outputs": [],
   "source": [
    "def factorizacion_QR(A):\n",
    "    \"\"\"\n",
    "    Función que genera una matriz que contendrá información escencial de las proyecciones householder\n",
    "    (vectores v's) y componentes de la matriz triangular superior R, del estilo:\n",
    "    [r11      r12      r13      r14    ]\n",
    "    [v_2_(1)  r22      r23      r24    ]\n",
    "    [v_3_(1)  v_3_(2)  r33      r34    ]\n",
    "    [v_4_(1)  v_4_(2)  v_4_(3)  r44    ]\n",
    "    [v_5_(1)  v_5_(2)  v_5_(3)  v_5_(4)]\n",
    "    \n",
    "    params: A      Matriz (mxn) de la que se desea obtner factorización QR\n",
    "            \n",
    "    return: A_r_v  Matriz (mxn) con la información escencial (es igual a la matriz R, pero en lugar de tener ceros\n",
    "                   en la parte inferior, contiene info de los vectores householder que serán útiles para\n",
    "                   futuros cálculos, que entre otros están el calcular la matriz ortonormal Q)\n",
    "\n",
    "    \"\"\"\n",
    "    m=A.shape[0]\n",
    "    n=A.shape[1]\n",
    "    A_r_v=copy.copy(A)\n",
    "    for j in range(n):\n",
    "        beta, v=house(A_r_v[j:m,j])\n",
    "        A_r_v[j:m,j:n]=A_r_v[j:m,j:n]-beta*(np.outer(v,v)@A_r_v[j:m,j:n])\n",
    "        A_r_v[(j+1):m,j]=v[1:(m-j)]\n",
    "    return A_r_v"
   ]
  },
  {
   "cell_type": "code",
   "execution_count": 6,
   "metadata": {},
   "outputs": [],
   "source": [
    "def QT_C(A_r_v,C):\n",
    "    \"\"\"\n",
    "    Función que calcula el producto matricial de Q_transpuesta por una matriz dada C\n",
    "                            \n",
    "    params: A_r_v   Matriz (mxn) con la info escencial\n",
    "            C       Matriz (mxp) (si se pasa por ejemplo C=Identidad (mxm) la funcion devolverá Q)\n",
    "\n",
    "    return: M       Matriz con numero al azar\n",
    "    \"\"\"\n",
    "    m=A_r_v.shape[0]\n",
    "    n=A_r_v.shape[1]\n",
    "    QT_por_C=np.eye(m)\n",
    "    for j in range(n-1,-1,-1):\n",
    "        v=np.concatenate((1,A_r_v[(j+1):m,j]), axis=None)\n",
    "        beta=2/(1+A_r_v[(j+1):m,j].dot(A_r_v[(j+1):m,j]))\n",
    "        QT_por_C[j:m,j:m]=C[j:m,j:m]-beta*np.outer(v,v)@C[j:m,j:m]\n",
    "    return QT_por_C"
   ]
  },
  {
   "cell_type": "code",
   "execution_count": 7,
   "metadata": {},
   "outputs": [],
   "source": [
    "def Q_j(A_r_v,j):\n",
    "    \"\"\"\n",
    "    Función que calcula la matriz Qj (en el proceso de obtención de factorización QR se van obteniendo n Qj's,\n",
    "    que si se multiplican todas da por resultado Q=Q1*Q2*...*Qn)\n",
    "                            \n",
    "    params: A_r_v   Matriz (mxn) con la info escencial\n",
    "            C       Matriz (mxp) (si se pasa por ejemplo C=Identidad (mxm) la funcion devolverá Q)\n",
    "\n",
    "    return: Qj      Matriz Q de la j-esima iteración del proceso iterativo de factorización QR\n",
    "    \"\"\"\n",
    "    m=A_r_v.shape[0]\n",
    "    n=A_r_v.shape[1]\n",
    "    Qj=np.eye(m)\n",
    "    v=np.concatenate((1,A_r_v[(j+1):m,j]), axis=None)\n",
    "    beta=2/(1+A_r_v[(j+1):m,j].dot(A_r_v[(j+1):m,j]))\n",
    "    Qj[j:m,j:m]=np.eye(m-j)-beta*np.outer(v,v)\n",
    "    return Qj"
   ]
  },
  {
   "cell_type": "code",
   "execution_count": 8,
   "metadata": {},
   "outputs": [],
   "source": [
    "def Solucion_SEL_QR_nxn(A,b):\n",
    "    \"\"\"\n",
    "    Función que obtiene la solución de un sistema de ecuaciones lineala (SEL) con n ecuaciones y n incognitas\n",
    "            \n",
    "    params: A   Matriz (nxn) que representa los coeficientas de las ecuaciones\n",
    "            b   vector (nx1) constantes del sistema\n",
    "\n",
    "    return: x   vector que satisface (Ax=b)\n",
    "    \"\"\"\n",
    "    #FALTA CONTEMPLAR POSIBLES PROBLEMAS/SOLUCIONES PARA LOS DIFERENTES TIPOS DE SEL (SIN SOLUCION, MULTIPLES SOLUCIONES,\n",
    "    #SOLUCION ÚNICA). INCORPORAR ESTO PARA EVITAR ERRORES FATALES/DESBORDAMIENTO/ETC\n",
    "    m=A_r_v.shape[0]\n",
    "    A_r_v=factorizacion_QR(A)\n",
    "    Q=np.transpose(QT_C(A_r_v,np.eye(m)))\n",
    "    R=np.transpose(Q)@A\n",
    "    b_prima=np.transpose(Q)@b\n",
    "    x=Solucion_SHA_triangula_nxn(R,b_prima)\n",
    "    return x"
   ]
  },
  {
   "cell_type": "code",
   "execution_count": null,
   "metadata": {},
   "outputs": [],
   "source": [
    "def Solucion_SHA_triangular_superior_nxn(R,b_prima):\n",
    "    #ALGORITMO SIMPLE DE SUSTITUCION HACIA ATRAS CON UNA MATRIZ TRIANGULAR SUPERIOR (SOLO HAY QUE SUSTITUIR ITERATIVAMENTE)\n",
    "    return x"
   ]
  },
  {
   "cell_type": "code",
   "execution_count": null,
   "metadata": {},
   "outputs": [],
   "source": []
  },
  {
   "cell_type": "code",
   "execution_count": null,
   "metadata": {},
   "outputs": [],
   "source": []
  },
  {
   "cell_type": "code",
   "execution_count": 9,
   "metadata": {},
   "outputs": [],
   "source": [
    "###############################################################################################\n",
    "##################################### PRUEBA DE FUNCIONES #####################################\n",
    "###############################################################################################"
   ]
  },
  {
   "cell_type": "code",
   "execution_count": 10,
   "metadata": {},
   "outputs": [],
   "source": [
    "m=5\n",
    "n=3\n",
    "A=np.round(crea_matriz(m,n,6,-6,False),2)\n",
    "\n",
    "#Prueba también definiendo una matriz entrada por entrada, solo asegurate que sus entradas sean\n",
    "#tipo flotantes/dobles (pues si son de tipo enteras arrastrarán errores de redondeo considerables)\n",
    "# m=3\n",
    "# n=3\n",
    "#A=np.array([[1, 2, 1], [2, 3, 2], [1, 2, 3]], dtype='d')"
   ]
  },
  {
   "cell_type": "code",
   "execution_count": 11,
   "metadata": {},
   "outputs": [
    {
     "data": {
      "text/plain": [
       "array([[ 6.8903, -1.805 ,  3.4823],\n",
       "       [ 0.5446,  6.1372,  0.8945],\n",
       "       [-0.4461, -0.5083,  6.1648],\n",
       "       [ 0.5769,  0.1314,  0.1671],\n",
       "       [ 0.54  , -1.2968,  0.8475]])"
      ]
     },
     "execution_count": 11,
     "metadata": {},
     "output_type": "execute_result"
    }
   ],
   "source": [
    "A_r_v=factorizacion_QR(A)\n",
    "np.round(A_r_v,4)"
   ]
  },
  {
   "cell_type": "code",
   "execution_count": 12,
   "metadata": {},
   "outputs": [
    {
     "data": {
      "text/plain": [
       "array([[ 0.0566, -0.5138,  0.4209, -0.5442, -0.5094],\n",
       "       [-0.5138,  0.7202,  0.2292, -0.2964, -0.2774],\n",
       "       [ 0.4209,  0.2292,  0.8122,  0.2428,  0.2273],\n",
       "       [-0.5442, -0.2964,  0.2428,  0.686 , -0.2939],\n",
       "       [-0.5094, -0.2774,  0.2273, -0.2939,  0.7249]])"
      ]
     },
     "execution_count": 12,
     "metadata": {},
     "output_type": "execute_result"
    }
   ],
   "source": [
    "#Obtención de Q con la función QT_C\n",
    "Q=np.transpose(QT_C(A_r_v,np.eye(m)))\n",
    "np.round(Q,4)"
   ]
  },
  {
   "cell_type": "code",
   "execution_count": 13,
   "metadata": {},
   "outputs": [
    {
     "data": {
      "text/plain": [
       "array([[ 6.8903, -1.805 ,  3.4823],\n",
       "       [-0.    ,  1.9865, -5.1621],\n",
       "       [-0.    ,  2.1096,  2.1819],\n",
       "       [ 0.    , -0.5452, -1.9752],\n",
       "       [ 0.    ,  5.3825,  1.8698]])"
      ]
     },
     "execution_count": 13,
     "metadata": {},
     "output_type": "execute_result"
    }
   ],
   "source": [
    "#Así obtenemos R\n",
    "R=np.transpose(Q)@A\n",
    "np.round(R,4)"
   ]
  },
  {
   "cell_type": "code",
   "execution_count": 14,
   "metadata": {},
   "outputs": [
    {
     "name": "stdout",
     "output_type": "stream",
     "text": [
      "\n",
      "Q 0 :\n",
      " [[ 0.0566 -0.5138  0.4209 -0.5442 -0.5094]\n",
      " [-0.5138  0.7202  0.2292 -0.2964 -0.2774]\n",
      " [ 0.4209  0.2292  0.8122  0.2428  0.2273]\n",
      " [-0.5442 -0.2964  0.2428  0.686  -0.2939]\n",
      " [-0.5094 -0.2774  0.2273 -0.2939  0.7249]]\n",
      "\n",
      "Aplicando las Qjs a A por la izquierda para obtener R, iteracion  0 :\n",
      " [[ 6.8903 -1.805   3.4823]\n",
      " [-0.      1.9865 -5.1621]\n",
      " [-0.      2.1096  2.1819]\n",
      " [ 0.     -0.5452 -1.9752]\n",
      " [ 0.      5.3825  1.8698]]\n",
      "\n",
      "Q 1 :\n",
      " [[ 1.      0.      0.      0.      0.    ]\n",
      " [ 0.      0.3237  0.3437 -0.0888  0.877 ]\n",
      " [ 0.      0.3437  0.8253  0.0452 -0.4458]\n",
      " [ 0.     -0.0888  0.0452  0.9883  0.1152]\n",
      " [ 0.      0.877  -0.4458  0.1152 -0.1373]]\n",
      "\n",
      "Aplicando las Qjs a A por la izquierda para obtener R, iteracion  1 :\n",
      " [[ 6.8903 -1.805   3.4823]\n",
      " [ 0.      6.1372  0.8945]\n",
      " [-0.     -0.     -0.8964]\n",
      " [ 0.     -0.     -1.1796]\n",
      " [ 0.     -0.     -5.9841]]\n",
      "\n",
      "Q 2 :\n",
      " [[ 1.      0.      0.      0.      0.    ]\n",
      " [ 0.      1.      0.      0.      0.    ]\n",
      " [ 0.      0.     -0.1454 -0.1913 -0.9707]\n",
      " [ 0.      0.     -0.1913  0.968  -0.1622]\n",
      " [ 0.      0.     -0.9707 -0.1622  0.1774]]\n",
      "\n",
      "Aplicando las Qjs a A por la izquierda para obtener R, iteracion  2 :\n",
      " [[ 6.8903 -1.805   3.4823]\n",
      " [ 0.      6.1372  0.8945]\n",
      " [-0.      0.      6.1648]\n",
      " [ 0.     -0.      0.    ]\n",
      " [-0.      0.      0.    ]]\n",
      "\n",
      "\n",
      "\n",
      "Resultados finales:\n",
      "\n",
      "R es el resultado de multiplicar todas las Qjs a A\n",
      " [[ 6.8903 -1.805   3.4823]\n",
      " [ 0.      6.1372  0.8945]\n",
      " [-0.      0.      6.1648]\n",
      " [ 0.     -0.      0.    ]\n",
      " [-0.      0.      0.    ]]\n",
      "\n",
      "Q es el resultado de multiplicar todas las Qjs y transponer:\n",
      " [[ 0.0566 -0.42    0.66   -0.484  -0.388 ]\n",
      " [-0.5138  0.0949 -0.5249 -0.5576 -0.375 ]\n",
      " [ 0.4209  0.5311  0.0096  0.174  -0.7144]\n",
      " [-0.5442 -0.3312  0.0732  0.6502 -0.4075]\n",
      " [-0.5094  0.6502  0.5324 -0.0423  0.1802]]\n"
     ]
    }
   ],
   "source": [
    "#Ejemplo ilustrativo de cómo obtener Q y R, visualizando cada iteración\n",
    "Q=np.eye(m)\n",
    "R=copy.copy(A)\n",
    "for j in range(n):\n",
    "    Qj=Q_j(A_r_v,j)\n",
    "    print('\\nQ',j,':\\n',np.round(Qj,4))\n",
    "    Q=Q@Qj\n",
    "    R=Q_j(A_r_v,j)@R\n",
    "    print('\\nAplicando las Qjs a A por la izquierda para obtener R, iteracion ',j,':\\n',np.round(R,4))\n",
    "\n",
    "print('\\n\\n\\nResultados finales:')\n",
    "print('\\nR es el resultado de multiplicar todas las Qjs a A\\n',np.round(R,4))\n",
    "print('\\nQ es el resultado de multiplicar todas las Qjs y transponer:\\n',np.round(Q,4))\n"
   ]
  },
  {
   "cell_type": "code",
   "execution_count": null,
   "metadata": {},
   "outputs": [],
   "source": []
  },
  {
   "cell_type": "code",
   "execution_count": 15,
   "metadata": {},
   "outputs": [],
   "source": [
    "##################################### FUNCION DESECHADA #####################################\n",
    "\n",
    "# def Factorizacion_Q_R(A):\n",
    "#     m=A.shape[0]\n",
    "#     n=A.shape[1]\n",
    "#     R=copy.copy(A)\n",
    "#     Q=np.eye(m)\n",
    "#     for j in range(n):\n",
    "#         Qj=np.eye(m)\n",
    "#         beta, v=house(R[j:m,j])\n",
    "#         P=np.eye(m-j)-beta*(np.outer(v,v))\n",
    "#         R[j:m,j:n]=P@R[j:m,j:n]\n",
    "#         Qj[j:m,j:m]=P\n",
    "#         Q=Qj@Q\n",
    "#     Q=np.transpose(Q)\n",
    "#     return Q,R\n",
    "\n",
    "\n",
    "# Q,R=Factorizacion_Q_R(A)\n",
    "# print('\\n\\nQ:\\n',np.round(Q,4))\n",
    "# print('\\nR:\\n',np.round(R,4))\n",
    "# print('\\nQ@R:\\n',np.round(Q@R,4))\n",
    "# print('\\nA:\\n',A)"
   ]
  },
  {
   "cell_type": "code",
   "execution_count": 16,
   "metadata": {},
   "outputs": [
    {
     "data": {
      "text/plain": [
       "array([[ 6.57258458e+01, -9.02900515e+00, -5.51529000e+00, ...,\n",
       "         3.68092639e+00,  5.04291875e+00, -4.67291667e+00],\n",
       "       [ 1.06189872e-01,  6.28972660e+01, -1.71800761e+00, ...,\n",
       "        -1.65263617e+00,  8.67220428e+00,  2.57170497e+00],\n",
       "       [ 2.84800422e-03,  4.52402847e-02,  6.22779128e+01, ...,\n",
       "         9.98059676e+00, -3.18247865e+00, -1.26995984e+01],\n",
       "       ...,\n",
       "       [ 9.71033820e-02, -9.83803022e-02,  2.61975378e-02, ...,\n",
       "         2.24952874e-01,  2.13025970e-02,  1.30474492e-01],\n",
       "       [-9.07292774e-02,  8.91852938e-02, -1.09253068e-01, ...,\n",
       "         1.61016740e-01,  2.60233535e-02,  3.03451385e-02],\n",
       "       [ 2.56320380e-02, -9.50611807e-03, -5.57806922e-02, ...,\n",
       "        -5.19127394e-02,  3.90623445e-02,  1.05213578e-01]])"
      ]
     },
     "execution_count": 16,
     "metadata": {},
     "output_type": "execute_result"
    }
   ],
   "source": [
    "#Prubemos un ejemplo más grande con 10^4 entradas\n",
    "m=125\n",
    "n=80\n",
    "A=np.round(crea_matriz(m,n,10,-10,False),2)\n",
    "A_r_v=factorizacion_QR(A)\n",
    "A_r_v"
   ]
  },
  {
   "cell_type": "code",
   "execution_count": null,
   "metadata": {},
   "outputs": [],
   "source": []
  },
  {
   "cell_type": "code",
   "execution_count": null,
   "metadata": {},
   "outputs": [],
   "source": []
  },
  {
   "cell_type": "code",
   "execution_count": null,
   "metadata": {},
   "outputs": [],
   "source": []
  },
  {
   "cell_type": "code",
   "execution_count": null,
   "metadata": {},
   "outputs": [],
   "source": []
  },
  {
   "cell_type": "code",
   "execution_count": null,
   "metadata": {},
   "outputs": [],
   "source": []
  },
  {
   "cell_type": "code",
   "execution_count": null,
   "metadata": {},
   "outputs": [],
   "source": []
  }
 ],
 "metadata": {
  "kernelspec": {
   "display_name": "Python 3",
   "language": "python",
   "name": "python3"
  },
  "language_info": {
   "codemirror_mode": {
    "name": "ipython",
    "version": 3
   },
   "file_extension": ".py",
   "mimetype": "text/x-python",
   "name": "python",
   "nbconvert_exporter": "python",
   "pygments_lexer": "ipython3",
   "version": "3.7.3"
  }
 },
 "nbformat": 4,
 "nbformat_minor": 2
}
