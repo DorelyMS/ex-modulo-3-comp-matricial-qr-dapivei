{
 "cells": [
  {
   "cell_type": "code",
   "execution_count": 1,
   "metadata": {},
   "outputs": [],
   "source": [
    "import os\n",
    "import numpy as np\n",
    "import copy\n",
    "from math import sqrt\n",
    "from scipy.linalg import solve_triangular"
   ]
  },
  {
   "cell_type": "markdown",
   "metadata": {},
   "source": [
    "#### Algoritmo para el cálculo del vector de Householder, nombre de función: $house(\\cdot)$"
   ]
  },
  {
   "cell_type": "code",
   "execution_count": 2,
   "metadata": {},
   "outputs": [],
   "source": [
    "\"\"\"\n",
    "    Función que calcula la proyección de householder\n",
    "    \n",
    "    params: x       vector al que se le hará la reflexión householder\n",
    "                    \n",
    "    return: Beta    constante utilizada para obtener v\n",
    "            v       vector que representa la reflexión de householder\n",
    "\"\"\"\n",
    "def house(x):\n",
    "    m=len(x)\n",
    "    norm_2_m=x[1:m].dot(np.transpose(x[1:m]))\n",
    "    v=np.concatenate((1,x[1:m]), axis=None)\n",
    "    Beta=0\n",
    "    if (norm_2_m==0 and x[0]>=0):\n",
    "        Beta=0\n",
    "    elif (norm_2_m==0 and x[0]<0):\n",
    "        Beta=2\n",
    "    else:\n",
    "        norm_x=np.sqrt(pow(x[0],2)+norm_2_m)\n",
    "        if (x[0]<=0):\n",
    "            v[0]=x[0]-norm_x\n",
    "        else:\n",
    "            v[0]=-norm_2_m/(x[0]+norm_x)\n",
    "        Beta=2*pow(v[0],2)/(norm_2_m+pow(v[0],2))\n",
    "        v=v/v[0]\n",
    "    return Beta, v"
   ]
  },
  {
   "cell_type": "markdown",
   "metadata": {},
   "source": [
    "#### Algoritmo para calcular la factorización $QR$ con reflexiones de Householder"
   ]
  },
  {
   "cell_type": "code",
   "execution_count": 3,
   "metadata": {},
   "outputs": [],
   "source": [
    "\"\"\"\n",
    "    Función de apoyo para genear matrices aleatorias\n",
    "                            \n",
    "    params: renglones       no. de renglones de la matriz\n",
    "            columnas        no. de renglones de la matriz\n",
    "            maximo_valor    valor máximo de las entradas de la matriz\n",
    "            minimo_valor    valor mínimo de las entradas de la matriz\n",
    "            entero          Indica si las entradas serán enteras (True) o no\n",
    "            \n",
    "    return: M               Matriz con numeros al azar\n",
    "\"\"\"\n",
    "def crea_matriz(renglones,columnas,maximo_valor,minimo_valor,entero=False):\n",
    "    M=np.zeros((renglones, columnas))\n",
    "    for i in range(renglones):\n",
    "        for j in range(columnas):\n",
    "            if entero:\n",
    "                M[i][j]=(np.random.rand(1)*(maximo_valor+1-minimo_valor)+minimo_valor)//1\n",
    "            else:\n",
    "                M[i][j]=np.random.rand(1)*(maximo_valor-minimo_valor)+minimo_valor\n",
    "    return M"
   ]
  },
  {
   "cell_type": "code",
   "execution_count": 4,
   "metadata": {},
   "outputs": [],
   "source": [
    " \"\"\"\n",
    "    Función que genera una matriz que contendrá información escencial de las proyecciones householder\n",
    "    (vectores v's) y componentes de la matriz triangular superior R, del estilo:\n",
    "    [r11      r12      r13      r14    ]\n",
    "    [v_2_(1)  r22      r23      r24    ]\n",
    "    [v_3_(1)  v_3_(2)  r33      r34    ]\n",
    "    [v_4_(1)  v_4_(2)  v_4_(3)  r44    ]\n",
    "    [v_5_(1)  v_5_(2)  v_5_(3)  v_5_(4)]\n",
    "    \n",
    "    params: A      Matriz (mxn) de la que se desea obtner factorización QR\n",
    "            \n",
    "    return: A_r_v  Matriz (mxn) con la información escencial (es igual a la matriz R, pero en lugar de tener ceros\n",
    "                   en la parte inferior, contiene info de los vectores householder que serán útiles para\n",
    "                   futuros cálculos, que entre otros están el calcular la matriz ortonormal Q)\n",
    "\"\"\"\n",
    "def QR(A):\n",
    "    m=A.shape[0]\n",
    "    n=A.shape[1]\n",
    "    A_r_v=copy.copy(A)\n",
    "    for j in range(n):\n",
    "        beta, v=house(A_r_v[j:m,j])\n",
    "        A_r_v[j:m,j:n]=A_r_v[j:m,j:n]-beta*(np.outer(v,v)@A_r_v[j:m,j:n])\n",
    "        A_r_v[(j+1):m,j]=v[1:(m-j)]\n",
    "    return A_r_v"
   ]
  },
  {
   "cell_type": "code",
   "execution_count": 5,
   "metadata": {},
   "outputs": [],
   "source": [
    "\"\"\"\n",
    "    Función que calcula el producto matricial de Q_transpuesta por una matriz dada C\n",
    "                            \n",
    "    params: A_r_v   Matriz (mxn) con la info escencial\n",
    "            C       Matriz (mxp) (si se pasa por ejemplo C=Identidad (mxm) la funcion devolverá Q)\n",
    "\n",
    "    return: M       Matriz con numero al azar\n",
    "\"\"\"\n",
    "def QT_C(A_r_v,C):\n",
    "    m=A_r_v.shape[0]\n",
    "    n=A_r_v.shape[1]\n",
    "    QT_por_C=np.eye(m)\n",
    "    for j in range(n-1,-1,-1):\n",
    "        v=np.concatenate((1,A_r_v[(j+1):m,j]), axis=None)\n",
    "        beta=2/(1+A_r_v[(j+1):m,j].dot(A_r_v[(j+1):m,j]))\n",
    "        QT_por_C[j:m,j:m]=C[j:m,j:m]-beta*np.outer(v,v)@C[j:m,j:m]\n",
    "    return QT_por_C"
   ]
  },
  {
   "cell_type": "code",
   "execution_count": 6,
   "metadata": {},
   "outputs": [],
   "source": [
    "\"\"\"\n",
    "    Función que calcula la matriz Qj (en el proceso de obtención de factorización QR se van obteniendo n Qj's,\n",
    "    que si se multiplican todas da por resultado Q=Q1*Q2*...*Qn)\n",
    "                            \n",
    "    params: A_r_v   Matriz (mxn) con la info escencial\n",
    "            C       Matriz (mxp) (si se pasa por ejemplo C=Identidad (mxm) la funcion devolverá Q)\n",
    "\n",
    "    return: Qj      Matriz Q de la j-esima iteración del proceso iterativo de factorización QR\n",
    "\"\"\"\n",
    "def Q_j(A_r_v,j):\n",
    "    m=A_r_v.shape[0]\n",
    "    n=A_r_v.shape[1]\n",
    "    Qj=np.eye(m)\n",
    "    v=np.concatenate((1,A_r_v[(j+1):m,j]), axis=None)\n",
    "    beta=2/(1+A_r_v[(j+1):m,j].dot(A_r_v[(j+1):m,j]))\n",
    "    Qj[j:m,j:m]=np.eye(m-j)-beta*np.outer(v,v)\n",
    "    return Qj"
   ]
  },
  {
   "cell_type": "code",
   "execution_count": 7,
   "metadata": {},
   "outputs": [],
   "source": [
    "\"\"\"\n",
    "    Función que obtiene la solución de un sistema de ecuaciones lineala (SEL) con n ecuaciones y n incognitas\n",
    "            \n",
    "    params: A   Matriz (nxn) que representa los coeficientas de las ecuaciones\n",
    "            b   vector (nx1) constantes del sistema\n",
    "\n",
    "    return: x   vector que satisface (Ax=b)\n",
    "\"\"\"\n",
    "    #FALTA CONTEMPLAR POSIBLES PROBLEMAS/SOLUCIONES PARA LOS DIFERENTES TIPOS DE SEL (SIN SOLUCION, MULTIPLES SOLUCIONES,\n",
    "    #SOLUCION ÚNICA). INCORPORAR ESTO PARA EVITAR ERRORES FATALES/DESBORDAMIENTO/ETC  \n",
    "def Solucion_SEL_QR_nxn(A,b):\n",
    "    A_r_v=QR(A)\n",
    "    m=A_r_v.shape[0]\n",
    "    n=A_r_v.shape[0]\n",
    "    Q=np.eye(m)\n",
    "    R=copy.copy(A)\n",
    "    for j in range(n):\n",
    "        Qj=Q_j(A_r_v,j)\n",
    "        Q=Q@Qj\n",
    "        R=Q_j(A_r_v,j)@R\n",
    "    b_prima=np.transpose(Q)@b\n",
    "    x = solve_triangular(R, np.transpose(Q)@b)\n",
    "    return x"
   ]
  },
  {
   "cell_type": "code",
   "execution_count": 8,
   "metadata": {},
   "outputs": [],
   "source": [
    "#ALGORITMO SIMPLE DE SUSTITUCION HACIA ATRAS CON UNA MATRIZ TRIANGULAR SUPERIOR (SOLO HAY QUE SUSTITUIR ITERATIVAMENTE)\n",
    "\n",
    "def Solucion_SHA_triangular_superior_nxn(R,b_prima):\n",
    "    return x"
   ]
  },
  {
   "cell_type": "code",
   "execution_count": 9,
   "metadata": {},
   "outputs": [],
   "source": [
    "#PRUEBA DE SOLUCIONES"
   ]
  },
  {
   "cell_type": "code",
   "execution_count": 10,
   "metadata": {},
   "outputs": [],
   "source": [
    "#Generar una matriz de 5\n",
    "m=5\n",
    "n=3\n",
    "A=np.round(crea_matriz(m,n,6,-6,False),2)\n",
    "#Prueba también definiendo una matriz entrada por entrada, solo asegurate que sus entradas sean\n",
    "#tipo flotantes/dobles (pues si son de tipo enteras arrastrarán errores de redondeo considerables)"
   ]
  },
  {
   "cell_type": "code",
   "execution_count": 11,
   "metadata": {},
   "outputs": [
    {
     "data": {
      "text/plain": [
       "array([[-2.68, -2.75, -5.54],\n",
       "       [ 2.29,  5.96, -5.68],\n",
       "       [-0.3 ,  1.23, -0.27],\n",
       "       [ 4.04, -5.07, -3.49],\n",
       "       [-2.59, -0.1 , -1.92]])"
      ]
     },
     "execution_count": 11,
     "metadata": {},
     "output_type": "execute_result"
    }
   ],
   "source": [
    "A"
   ]
  },
  {
   "cell_type": "code",
   "execution_count": 12,
   "metadata": {},
   "outputs": [
    {
     "data": {
      "text/plain": [
       "array([[ 5.9621,  0.0714, -1.2086],\n",
       "       [-0.265 ,  8.3849, -0.1166],\n",
       "       [ 0.0347, -0.4186,  8.7988],\n",
       "       [-0.4675,  2.0138, -0.6822],\n",
       "       [ 0.2997, -0.235 ,  0.1875]])"
      ]
     },
     "execution_count": 12,
     "metadata": {},
     "output_type": "execute_result"
    }
   ],
   "source": [
    "A_r_v = QR(A)\n",
    "np.round(A_r_v,4)"
   ]
  },
  {
   "cell_type": "code",
   "execution_count": 13,
   "metadata": {},
   "outputs": [
    {
     "data": {
      "text/plain": [
       "array([[-0.4495,  0.3841, -0.0503,  0.6776, -0.4344],\n",
       "       [ 0.3841,  0.8982,  0.0133, -0.1796,  0.1151],\n",
       "       [-0.0503,  0.0133,  0.9983,  0.0235, -0.0151],\n",
       "       [ 0.6776, -0.1796,  0.0235,  0.6832,  0.2031],\n",
       "       [-0.4344,  0.1151, -0.0151,  0.2031,  0.8698]])"
      ]
     },
     "execution_count": 13,
     "metadata": {},
     "output_type": "execute_result"
    }
   ],
   "source": [
    "#Obtención de Q con la función QT_C\n",
    "Q=np.transpose(QT_C(A_r_v,np.eye(m)))\n",
    "np.round(Q,4)"
   ]
  },
  {
   "cell_type": "code",
   "execution_count": 14,
   "metadata": {},
   "outputs": [
    {
     "data": {
      "text/plain": [
       "array([[ 5.9621,  0.0714, -1.2086],\n",
       "       [-0.    ,  5.2124, -6.8277],\n",
       "       [ 0.    ,  1.3279, -0.1196],\n",
       "       [-0.    , -6.3889, -5.5148],\n",
       "       [ 0.    ,  0.7456, -0.6219]])"
      ]
     },
     "execution_count": 14,
     "metadata": {},
     "output_type": "execute_result"
    }
   ],
   "source": [
    "#Así obtenemos R\n",
    "R=np.transpose(Q)@A\n",
    "np.round(R,4)"
   ]
  },
  {
   "cell_type": "code",
   "execution_count": 15,
   "metadata": {},
   "outputs": [
    {
     "name": "stdout",
     "output_type": "stream",
     "text": [
      "\n",
      "Q 0 :\n",
      " [[-0.4495  0.3841 -0.0503  0.6776 -0.4344]\n",
      " [ 0.3841  0.8982  0.0133 -0.1796  0.1151]\n",
      " [-0.0503  0.0133  0.9983  0.0235 -0.0151]\n",
      " [ 0.6776 -0.1796  0.0235  0.6832  0.2031]\n",
      " [-0.4344  0.1151 -0.0151  0.2031  0.8698]]\n",
      "\n",
      "Aplicando las Qjs a A por la izquierda para obtener R, iteracion  0 :\n",
      " [[ 5.9621  0.0714 -1.2086]\n",
      " [-0.      5.2124 -6.8277]\n",
      " [ 0.      1.3279 -0.1196]\n",
      " [-0.     -6.3889 -5.5148]\n",
      " [ 0.      0.7456 -0.6219]]\n",
      "\n",
      "Q 1 :\n",
      " [[ 1.      0.      0.      0.      0.    ]\n",
      " [ 0.      0.6216  0.1584 -0.762   0.0889]\n",
      " [ 0.      0.1584  0.9337  0.3189 -0.0372]\n",
      " [ 0.     -0.762   0.3189 -0.5345  0.1791]\n",
      " [ 0.      0.0889 -0.0372  0.1791  0.9791]]\n",
      "\n",
      "Aplicando las Qjs a A por la izquierda para obtener R, iteracion  1 :\n",
      " [[ 5.9621  0.0714 -1.2086]\n",
      " [ 0.      8.3849 -0.1166]\n",
      " [-0.      0.     -2.9288]\n",
      " [ 0.     -0.      8.0003]\n",
      " [ 0.      0.     -2.1991]]\n",
      "\n",
      "Q 2 :\n",
      " [[ 1.      0.      0.      0.      0.    ]\n",
      " [ 0.      1.      0.      0.      0.    ]\n",
      " [ 0.      0.     -0.3329  0.9093 -0.2499]\n",
      " [ 0.      0.      0.9093  0.3797  0.1705]\n",
      " [ 0.      0.     -0.2499  0.1705  0.9531]]\n",
      "\n",
      "Aplicando las Qjs a A por la izquierda para obtener R, iteracion  2 :\n",
      " [[ 5.9621  0.0714 -1.2086]\n",
      " [ 0.      8.3849 -0.1166]\n",
      " [ 0.     -0.      8.7988]\n",
      " [ 0.      0.      0.    ]\n",
      " [ 0.     -0.     -0.    ]]\n",
      "\n",
      "\n",
      "\n",
      "Resultados finales:\n",
      "\n",
      "R es el resultado de multiplicar todas las Qjs a A\n",
      " [[ 5.9621  0.0714 -1.2086]\n",
      " [ 0.      8.3849 -0.1166]\n",
      " [ 0.     -0.      8.7988]\n",
      " [ 0.      0.      0.    ]\n",
      " [ 0.     -0.     -0.    ]]\n",
      "\n",
      "Q es el resultado de multiplicar todas las Qjs y transponer:\n",
      " [[-0.4495 -0.3241 -0.6957 -0.1062 -0.4446]\n",
      " [ 0.3841  0.7075 -0.5834 -0.102   0.0331]\n",
      " [-0.0503  0.1471 -0.0356  0.9601 -0.2299]\n",
      " [ 0.6776 -0.6104 -0.3117  0.1672  0.2077]\n",
      " [-0.4344 -0.0082 -0.278   0.1693  0.8398]]\n"
     ]
    }
   ],
   "source": [
    "#Ejemplo ilustrativo de cómo obtener Q y R, visualizando cada iteración\n",
    "Q=np.eye(m)\n",
    "R=copy.copy(A)\n",
    "for j in range(n):\n",
    "    Qj=Q_j(A_r_v,j)\n",
    "    print('\\nQ',j,':\\n',np.round(Qj,4))\n",
    "    Q=Q@Qj\n",
    "    R=Q_j(A_r_v,j)@R\n",
    "    print('\\nAplicando las Qjs a A por la izquierda para obtener R, iteracion ',j,':\\n',np.round(R,4))\n",
    "\n",
    "print('\\n\\n\\nResultados finales:')\n",
    "print('\\nR es el resultado de multiplicar todas las Qjs a A\\n',np.round(R,4))\n",
    "print('\\nQ es el resultado de multiplicar todas las Qjs y transponer:\\n',np.round(Q,4))"
   ]
  },
  {
   "cell_type": "code",
   "execution_count": 16,
   "metadata": {},
   "outputs": [
    {
     "data": {
      "text/plain": [
       "array([[ 6.37876555e+01,  6.67270487e+00,  2.85838221e+00, ...,\n",
       "         2.50762156e+00, -8.86426214e+00, -2.16130847e+00],\n",
       "       [ 7.11767191e-02,  6.27367987e+01, -2.12117360e+00, ...,\n",
       "         9.93024500e+00,  1.44170921e+01,  6.08702200e+00],\n",
       "       [ 4.65592072e-02, -1.10799680e-01,  6.42716576e+01, ...,\n",
       "        -3.02921186e+00, -6.34915157e+00,  6.99613162e+00],\n",
       "       ...,\n",
       "       [ 1.41104724e-01, -1.19299411e-01,  1.00659903e-01, ...,\n",
       "         3.08204820e-01,  1.44105746e-01, -1.05177293e-01],\n",
       "       [ 1.28260805e-01,  1.04911219e-01, -1.23458631e-01, ...,\n",
       "         1.79489114e-01, -1.15822139e-01,  3.19862058e-01],\n",
       "       [-1.59478664e-01, -9.86021008e-04, -1.42224485e-01, ...,\n",
       "         2.08334481e-02, -1.93517644e-01,  6.93193649e-02]])"
      ]
     },
     "execution_count": 16,
     "metadata": {},
     "output_type": "execute_result"
    }
   ],
   "source": [
    "#Se prueba un ejemplo más grande con 10^4 entradas\n",
    "m=125\n",
    "n=80\n",
    "A=np.round(crea_matriz(m,n,10,-10,False),2)\n",
    "A_r_v = QR(A)\n",
    "A_r_v"
   ]
  },
  {
   "cell_type": "markdown",
   "metadata": {},
   "source": [
    "#### Eliminación por bloques"
   ]
  },
  {
   "cell_type": "code",
   "execution_count": 17,
   "metadata": {},
   "outputs": [],
   "source": [
    "def bloques(A, b=False, n1=False, n2=False):\n",
    "    \n",
    "    \"\"\"\n",
    "    Esta es la función para la creación de bloques usando un arreglo de numpy\n",
    "    \"\"\"\n",
    "\n",
    "    # Primero definimos el n\n",
    "    m,n = A.shape\n",
    "\n",
    "    # Condiciones de A\n",
    "    # Si no se dan los n deseados, se intentan hacer los bloques casi iguales\n",
    "    if  not (n1&n2):\n",
    "        n1 = n//2\n",
    "        n2 = n - n1\n",
    "    # Los bloques deben cumplir la condicion de tamaño\n",
    "    elif n1+n1 != n:\n",
    "        sys.exit('n1 + n2 debe ser igual a n')\n",
    "    else:\n",
    "        None\n",
    "\n",
    "    # Condiciones de b\n",
    "    if  b is False:\n",
    "        b1 = None\n",
    "        b2 = None\n",
    "        print('condicion1')\n",
    "    elif len(b) == m:\n",
    "        b1 = b[:n1]\n",
    "        b2 = b[n1:m]\n",
    "    else:\n",
    "        sys.exit('los renglones de A y b deben ser del mismo tamaño')\n",
    "\n",
    "\n",
    "    A11 = A[:n1,:n1]\n",
    "    A12 = A[:n1,n1:n]\n",
    "    A21 = A[n1:m,:n1]\n",
    "    A22 = A[n1:m,n1:n]\n",
    "\n",
    "    return A11,A12,A21,A22,b1,b2"
   ]
  },
  {
   "cell_type": "code",
   "execution_count": 18,
   "metadata": {},
   "outputs": [],
   "source": [
    "def eliminacion_bloques(A,b):\n",
    "\n",
    "    ## Sean A y A11 no singulares\n",
    "\n",
    "    if np.linalg.det(A)==0:\n",
    "        sys.exit('A debe ser no singular')\n",
    "\n",
    "    A11,A12,A21,A22,b1,b2 = bloques(A,b)\n",
    "\n",
    "    if np.linalg.det(A11)==0:\n",
    "        ys.exit('A11 debe ser no singular')\n",
    "\n",
    "    ## 1. Calcular A11^{-1}A12 y A11^{-1}b1 teniendo cuidado en no calcular la inversa sino un sistema de ecuaciones lineales\n",
    "    ## Aquí se debe usar el método QR una vez que esté desarrollado\n",
    "\n",
    "    ## Definimos y = A11^{-1}b1, por tanto A11y=b1. Resolviendo el sistema anterior para 11y:\n",
    "    y = Solucion_SEL_QR_nxn(A11,b1)\n",
    "    #y = np.linalg.solve(A11,b1)\n",
    "\n",
    "    ## Definimos Y = A11^{-1}A12\n",
    "    Y = Solucion_SEL_QR_nxn(A11,A12)\n",
    "    #Y = np.linalg.solve(A11,A12)\n",
    "\n",
    "    ## 2. Calcular el complemento de Schur del bloque A11 en A. Calcular b_hat\n",
    "    S = A22 - A21@Y\n",
    "    b_h = b2 - A21@y\n",
    "\n",
    "    ## 3. Resolver Sx2 = b_hat\n",
    "    x2 = Solucion_SEL_QR_nxn(S,b_h)\n",
    "    #x2 = np.linalg.solve(S,b_h)\n",
    "\n",
    "    ## 4. Resolver A11x1 = b1-A12X2\n",
    "    x1 = Solucion_SEL_QR_nxn(A11,b1-A12@x2)\n",
    "    #x1 = np.linalg.solve(A11,b1-A12@x2)\n",
    "\n",
    "    return np.concatenate((x1,x2), axis=0)"
   ]
  },
  {
   "cell_type": "code",
   "execution_count": 19,
   "metadata": {},
   "outputs": [],
   "source": [
    "m=6\n",
    "n=6\n",
    "A=np.round(crea_matriz(m,n,6,-6,False),2)\n",
    "b = np.round(crea_matriz(m,1,6,-6,False),2)"
   ]
  },
  {
   "cell_type": "code",
   "execution_count": 20,
   "metadata": {},
   "outputs": [
    {
     "name": "stdout",
     "output_type": "stream",
     "text": [
      "A: [[-0.3  -5.85 -2.99  2.46 -1.58  2.1 ]\n",
      " [-5.43 -3.49  0.16  2.46 -3.64  2.05]\n",
      " [-0.67 -1.39 -5.93 -4.49  5.79  2.23]\n",
      " [ 5.24 -4.77  2.97 -0.78  4.36 -5.01]\n",
      " [-5.82 -4.98 -5.89 -0.75 -2.72 -2.42]\n",
      " [-4.72  4.82  4.21 -0.79 -4.77  0.51]]\n",
      "b: [[-0.05]\n",
      " [-3.27]\n",
      " [ 0.94]\n",
      " [ 3.2 ]\n",
      " [-5.28]\n",
      " [-4.26]]\n"
     ]
    }
   ],
   "source": [
    "print(\"A:\",A)\n",
    "print(\"b:\",b)"
   ]
  },
  {
   "cell_type": "markdown",
   "metadata": {},
   "source": [
    "##### Primero resolvamos el sistema de ecuaciones usando la paquetería de numpy para comparar."
   ]
  },
  {
   "cell_type": "code",
   "execution_count": 21,
   "metadata": {},
   "outputs": [
    {
     "data": {
      "text/plain": [
       "array([[0.48783479],\n",
       "       [0.0521657 ],\n",
       "       [0.03661165],\n",
       "       [0.34027567],\n",
       "       [0.45938243],\n",
       "       [0.19034988]])"
      ]
     },
     "execution_count": 21,
     "metadata": {},
     "output_type": "execute_result"
    }
   ],
   "source": [
    "np.linalg.solve(A,b)"
   ]
  },
  {
   "cell_type": "markdown",
   "metadata": {},
   "source": [
    "##### Ahora usemos la factorización QR"
   ]
  },
  {
   "cell_type": "code",
   "execution_count": 22,
   "metadata": {},
   "outputs": [
    {
     "data": {
      "text/plain": [
       "array([[0.48783479],\n",
       "       [0.0521657 ],\n",
       "       [0.03661165],\n",
       "       [0.34027567],\n",
       "       [0.45938243],\n",
       "       [0.19034988]])"
      ]
     },
     "execution_count": 22,
     "metadata": {},
     "output_type": "execute_result"
    }
   ],
   "source": [
    "Solucion_SEL_QR_nxn(A,b)"
   ]
  },
  {
   "cell_type": "markdown",
   "metadata": {},
   "source": [
    "##### Por último usemos eliminación por bloques con QR"
   ]
  },
  {
   "cell_type": "code",
   "execution_count": 23,
   "metadata": {},
   "outputs": [
    {
     "data": {
      "text/plain": [
       "array([[0.48783479],\n",
       "       [0.0521657 ],\n",
       "       [0.03661165],\n",
       "       [0.34027567],\n",
       "       [0.45938243],\n",
       "       [0.19034988]])"
      ]
     },
     "execution_count": 23,
     "metadata": {},
     "output_type": "execute_result"
    }
   ],
   "source": [
    "eliminacion_bloques(A,b)"
   ]
  }
 ],
 "metadata": {
  "kernelspec": {
   "display_name": "Python 3",
   "language": "python",
   "name": "python3"
  },
  "language_info": {
   "codemirror_mode": {
    "name": "ipython",
    "version": 3
   },
   "file_extension": ".py",
   "mimetype": "text/x-python",
   "name": "python",
   "nbconvert_exporter": "python",
   "pygments_lexer": "ipython3",
   "version": "3.7.4"
  }
 },
 "nbformat": 4,
 "nbformat_minor": 4
}
