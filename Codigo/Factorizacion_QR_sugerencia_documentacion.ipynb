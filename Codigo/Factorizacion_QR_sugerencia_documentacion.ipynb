{
 "cells": [
  {
   "cell_type": "markdown",
   "metadata": {},
   "source": [
    "# FUNCIONES"
   ]
  },
  {
   "cell_type": "code",
   "execution_count": 175,
   "metadata": {},
   "outputs": [],
   "source": [
    "import os\n",
    "import numpy as np\n",
    "import copy\n",
    "from math import sqrt\n",
    "from scipy.linalg import solve_triangular"
   ]
  },
  {
   "cell_type": "markdown",
   "metadata": {},
   "source": [
    "### Creación matrices"
   ]
  },
  {
   "cell_type": "code",
   "execution_count": 176,
   "metadata": {},
   "outputs": [],
   "source": [
    "def crea_matriz(renglones,columnas,maximo_valor,minimo_valor,entero=False):\n",
    "    \"\"\"\n",
    "    Función de apoyo para genear matrices aleatorias\n",
    "\n",
    "    params: renglones       no. de renglones de la matriz\n",
    "            columnas        no. de columnas de la matriz\n",
    "            maximo_valor    valor máximo de las entradas de la matriz\n",
    "            minimo_valor    valor mínimo de las entradas de la matriz\n",
    "            entero          Indica si las entradas serán enteras (True) o no\n",
    "            \n",
    "    return: M               Matriz con numeros al azar\n",
    "    \"\"\"\n",
    "    #Se inicializa una matriz llena de ceros con las dimensiones deseadas (mxn)\n",
    "    M=np.zeros((renglones, columnas))\n",
    "    for i in range(renglones):\n",
    "        for j in range(columnas):\n",
    "            #Si entero es verdadero se obtiene el maximo entero menor o igual a 1 (//1)\n",
    "            if entero:\n",
    "                M[i][j]=(np.random.rand(1)*(maximo_valor+1-minimo_valor)+minimo_valor)//1\n",
    "            else:\n",
    "                M[i][j]=np.random.rand(1)*(maximo_valor-minimo_valor)+minimo_valor\n",
    "    return M\n",
    "\n",
    "crea_matriz.__doc__ =\"Descripción:\\n\"\\\n",
    "\"        Función que genera matrices de tamaño definido con entradas dentro del rango indicado\\n\"\\\n",
    "\"\\n\"\\\n",
    "\"Parametros:\\n\"\\\n",
    "\"        renglones       integer indica renglones de la matriz\\n\"\\\n",
    "\"        columnas        integer indica columnas de la matriz\\n\"\\\n",
    "\"        maximo_valor    integer o double señala valor máximo de las entradas de la matriz\\n\"\\\n",
    "\"        minimo_valor    integer o double señala valor mínimo de las entradas de la matriz\\n\"\\\n",
    "\"        entero          Boolean, indica si las entradas serán enteras (True) o no (False)\\n\"\\\n",
    "\"\\n\"\\\n",
    "\"Resultado:\\n\"\\\n",
    "\"        M               Matriz (mxn) con numeros al azar en el rango indicado\\n\"\\\n",
    "\"\\n\"\\\n",
    "\"Ejemplo de matriz de m=4 renglones y n=3 columnas, con entradas reales entre 3.4 y 15.6\\n\"\\\n",
    "\"crea_matriz(m,n,3.4,15.6)\\n\"\\\n",
    "\"Ejemplo de matriz de m=2 renglones y n=2 columnas, con entradas enteras entre 0 y 1\\n\"\\\n",
    "\"crea_matriz(2,2,0,1,True)\\n\""
   ]
  },
  {
   "cell_type": "code",
   "execution_count": 177,
   "metadata": {},
   "outputs": [
    {
     "name": "stdout",
     "output_type": "stream",
     "text": [
      "Help on function crea_matriz in module __main__:\n",
      "\n",
      "crea_matriz(renglones, columnas, maximo_valor, minimo_valor, entero=False)\n",
      "    Descripción:\n",
      "            Función que genera matrices de tamaño definido con entradas dentro del rango indicado\n",
      "    \n",
      "    Parametros:\n",
      "            renglones       integer indica renglones de la matriz\n",
      "            columnas        integer indica columnas de la matriz\n",
      "            maximo_valor    integer o double señala valor máximo de las entradas de la matriz\n",
      "            minimo_valor    integer o double señala valor mínimo de las entradas de la matriz\n",
      "            entero          Boolean, indica si las entradas serán enteras (True) o no (False)\n",
      "    \n",
      "    Resultado:\n",
      "            M               Matriz (mxn) con numeros al azar en el rango indicado\n",
      "    \n",
      "    Ejemplo de matriz de m=4 renglones y n=3 columnas, con entradas reales entre 3.4 y 15.6\n",
      "    crea_matriz(m,n,3.4,15.6)\n",
      "    Ejemplo de matriz de m=2 renglones y n=2 columnas, con entradas enteras entre 0 y 1\n",
      "    crea_matriz(2,2,0,1,True)\n",
      "\n"
     ]
    }
   ],
   "source": [
    "help(crea_matriz)"
   ]
  },
  {
   "cell_type": "markdown",
   "metadata": {},
   "source": [
    "### Factorización QR"
   ]
  },
  {
   "cell_type": "code",
   "execution_count": 178,
   "metadata": {},
   "outputs": [],
   "source": [
    "def house(x):\n",
    "    \"\"\"\n",
    "    Función que calcula vector de householder\n",
    "    \n",
    "    params: x       vector al que se le hará la reflexión householder\n",
    "                    \n",
    "    return: Beta    componente para obtener matriz de reflexión householder v\n",
    "            v       vector que representa la reflexión de householder\n",
    "    \"\"\"\n",
    "    #longitud del vector x=(x_0,x_1,x_2,...,x_(m-1))\n",
    "    m=len(x)\n",
    "    norm_2_m=x[1:m].dot(np.transpose(x[1:m]))\n",
    "    #Se hace v=x=(1,x_1,x_2,...,x_(m-1))\n",
    "    v=np.concatenate((1,x[1:m]), axis=None)\n",
    "    Beta=0\n",
    "    if (norm_2_m==0 and x[0]>=0):\n",
    "        Beta=0\n",
    "    elif (norm_2_m==0 and x[0]<0):\n",
    "        Beta=2\n",
    "    else:\n",
    "        norm_x=np.sqrt(pow(x[0],2)+norm_2_m)\n",
    "        if (x[0]<=0):\n",
    "            v[0]=x[0]-norm_x\n",
    "        else:\n",
    "            v[0]=-norm_2_m/(x[0]+norm_x)\n",
    "        Beta=2*pow(v[0],2)/(norm_2_m+pow(v[0],2))\n",
    "        v=v/v[0]\n",
    "    return Beta, v\n",
    "\n",
    "house.__doc__ =\"Descripción:\\n\"\\\n",
    "\"        Función que calcula vector de householder\\n\"\\\n",
    "\"\\n\"\\\n",
    "\"Parametros:\\n\"\\\n",
    "\"        x       np.ndarray que representa vector al que se le hará la reflexión householder\\n\"\\\n",
    "\"\\n\"\\\n",
    "\"Resultado:\\n\"\\\n",
    "\"        Beta    double para obtener matriz de reflexión householder v\\n\"\\\n",
    "\"        v       np.ndarray que representa vector que representa la reflexión de householder\\n\"\\\n",
    "\"\\n\"\\\n",
    "\"Con el vector v y el factor beta obtenidos se puede calcular la matriz de reflexión de householder R,\\n\"\\\n",
    "\"donde R= Identidad(mxm) - Beta*v*v_transpuesta (v*v_transpuesta es matriz de pxp si v tiene p entradas)\\n\"\\\n",
    "\"El vector v está construido de tal forma que al generar la matriz de reflexión de householder Rf y\\n\"\\\n",
    "\"multiplicarse por x se obtiene una proyección de este último sobre el vector canónico e_1=(1,0,0,...,0)\\n\"\\\n",
    "\"obteniendo un vector con todas sus entradas ingualas a cero excepto la primera, que de hecho es.\\n\"\\\n",
    "\"que de hecho es ||x||e_1\\n\"\\\n",
    "\"\\n\"\\\n",
    "\"Esta mecánica se puede implementar en matrices para generar matrices triangulares superiores (generando ceros en\\n\"\\\n",
    "\"el triangulo inferior) como se ilustra a continuación\\n\"\\\n",
    "\"\\n\"\\\n",
    "\"   [ a00 a01 a02 a03 ]\\n\"\\\n",
    "\"A= [ a10 a11 a12 a13 ]\\n\"\\\n",
    "\"   [ a20 a21 a22 a23 ]\\n\"\\\n",
    "\"   [ a30 a31 a32 a33 ]\\n\"\\\n",
    "\"Tomese x=A[:,0]=[a00,a10,a20,a30], calcular (v,Beta) y con ello la matriz de reflexión Rf_0. Con el producto Rf_0*A\\n\"\\\n",
    "\"se obtiene una matriz de la forma:\\n\"\\\n",
    "\"   [  *   *   *   *  ]\\n\"\\\n",
    "\"A= [  0   *   *   *  ]\\n\"\\\n",
    "\"   [  0   *   *   *  ]\\n\"\\\n",
    "\"   [  0   *   *   *  ]\\n\"\\\n",
    "\"Tomese x=A[:,1]=[a11,a21,a31], calcular (v,Beta) y con ello la matriz de reflexión Rf_1. Con el producto Rf_1*Rf_0*A\\n\"\\\n",
    "\"se obtiene una matriz de la forma:\\n\"\\\n",
    "\"   [  *   *   *   *  ]\\n\"\\\n",
    "\"A= [  0   *   *   *  ]\\n\"\\\n",
    "\"   [  0   0   *   *  ]\\n\"\\\n",
    "\"   [  0   0   *   *  ]\\n\"\\\n"
   ]
  },
  {
   "cell_type": "code",
   "execution_count": 179,
   "metadata": {},
   "outputs": [
    {
     "name": "stdout",
     "output_type": "stream",
     "text": [
      "Help on function house in module __main__:\n",
      "\n",
      "house(x)\n",
      "    Descripción:\n",
      "            Función que calcula vector de householder\n",
      "    \n",
      "    Parametros:\n",
      "            x       np.ndarray que representa vector al que se le hará la reflexión householder\n",
      "    \n",
      "    Resultado:\n",
      "            Beta    double para obtener matriz de reflexión householder v\n",
      "            v       np.ndarray que representa vector que representa la reflexión de householder\n",
      "    \n",
      "    Con el vector v y el factor beta obtenidos se puede calcular la matriz de reflexión de householder R,\n",
      "    donde R= Identidad(mxm) - Beta*v*v_transpuesta (v*v_transpuesta es matriz de pxp si v tiene p entradas)\n",
      "    El vector v está construido de tal forma que al generar la matriz de reflexión de householder Rf y\n",
      "    multiplicarse por x se obtiene una proyección de este último sobre el vector canónico e_1=(1,0,0,...,0)\n",
      "    obteniendo un vector con todas sus entradas ingualas a cero excepto la primera, que de hecho es.\n",
      "    que de hecho es ||x||e_1\n",
      "    \n",
      "    Esta mecánica se puede implementar en matrices para generar matrices triangulares superiores (generando ceros en\n",
      "    el triangulo inferior) como se ilustra a continuación\n",
      "    \n",
      "       [ a00 a01 a02 a03 ]\n",
      "    A= [ a10 a11 a12 a13 ]\n",
      "       [ a20 a21 a22 a23 ]\n",
      "       [ a30 a31 a32 a33 ]\n",
      "    Tomese x=A[:,0]=[a00,a10,a20,a30], calcular (v,Beta) y con ello la matriz de reflexión Rf_0. Con el producto Rf_0*A\n",
      "    se obtiene una matriz de la forma:\n",
      "       [  *   *   *   *  ]\n",
      "    A= [  0   *   *   *  ]\n",
      "       [  0   *   *   *  ]\n",
      "       [  0   *   *   *  ]\n",
      "    Tomese x=A[:,1]=[a11,a21,a31], calcular (v,Beta) y con ello la matriz de reflexión Rf_1. Con el producto Rf_1*Rf_0*A\n",
      "    se obtiene una matriz de la forma:\n",
      "       [  *   *   *   *  ]\n",
      "    A= [  0   *   *   *  ]\n",
      "       [  0   0   *   *  ]\n",
      "       [  0   0   *   *  ]\n",
      "\n"
     ]
    }
   ],
   "source": [
    "help(house)"
   ]
  },
  {
   "cell_type": "code",
   "execution_count": 180,
   "metadata": {},
   "outputs": [
    {
     "name": "stdout",
     "output_type": "stream",
     "text": [
      "x= [1. 2. 3.]\n",
      "\n",
      "Beta= 0.7327\n",
      "\n",
      "v= [ 1.     -0.7295 -1.0942]\n",
      "\n",
      "R= [[ 0.2673  0.5345  0.8018]\n",
      " [ 0.5345  0.6101 -0.5849]\n",
      " [ 0.8018 -0.5849  0.1227]]\n",
      "\n",
      "Rx= [3.7417 0.     0.    ]\n"
     ]
    }
   ],
   "source": [
    "x=np.array([1,2,3.])\n",
    "print(\"x=\",x)\n",
    "\n",
    "Beta,v=house(x)\n",
    "print(\"\\nBeta=\",np.round(Beta,4))\n",
    "print(\"\\nv=\",np.round(v,4))\n",
    "\n",
    "#Calculando matriz de reflexión de householder R\n",
    "R=np.eye(3)-Bet*np.outer(ve,ve)\n",
    "print(\"\\nR=\",np.round(R,4))\n",
    "\n",
    "#Observese como el producto de Rx da por resultado un vector con\n",
    "#todas sus entradas igualas a cero excepto la primera\n",
    "print(\"\\nRx=\",np.round(R@x,4))"
   ]
  },
  {
   "cell_type": "code",
   "execution_count": 181,
   "metadata": {},
   "outputs": [],
   "source": [
    "def matriz_Arv(A):\n",
    "    \"\"\"\n",
    "    Función que genera una matriz que contiene los elementos r distintos de cero de la matriz R y las entradas  \n",
    "    de los vectores householder v (excepto la primera), con los cuales se puede calcular la matriz Q. Ambas matrices\n",
    "    componentes de la factorización QR\n",
    "    \n",
    "    params: A      Matriz (mxn) de la que se desea obtner factorización QR\n",
    "            \n",
    "    return: Arv    Matriz (mxn) que incluye las componentes distintas de cero de la matriz R y los vectores\n",
    "                   householder con los que se puede obtener la matriz Q, y con ello la factorización QR\n",
    "    \"\"\"\n",
    "    #m contiene el numero de renglones y n el de columnas\n",
    "    m=A.shape[0]\n",
    "    n=A.shape[1]\n",
    "    #se crea una matriz con los valores de A\n",
    "    Arv=copy.copy(A)\n",
    "    for j in range(n):\n",
    "        beta, v=house(Arv[j:m,j])\n",
    "        #Con esta multiplicación se van generando las componentes r de la matriz R\n",
    "        Arv[j:m,j:n]=Arv[j:m,j:n]-beta*(np.outer(v,v)@Arv[j:m,j:n])\n",
    "        #se guarda en cada columnas los valores de v d, excepto la primer componente (que vale 1)\n",
    "        Arv[(j+1):m,j]=v[1:(m-j)]\n",
    "    return Arv\n",
    "\n",
    "matriz_Arv.__doc__ =\"Descripción:\\n\"\\\n",
    "\"        Función que genera una matriz que contiene los elementos r distintos de cero de la matriz R y las entradas\\n\"\\\n",
    "\"        de los vectores householder v (excepto la primera), con los cuales se puede calcular la matriz Q. Ambas matrices\\n\"\\\n",
    "\"        componentes de la factorización QR\\n\"\\\n",
    "\"\\n\"\\\n",
    "\"Parametros:\\n\"\\\n",
    "\"        A      numpy.ndarray que representa matriz (mxn) de la que se desea obtener elemento de \\n\"\\\n",
    "\"               factorización QR\\n\"\\\n",
    "\"\\n\"\\\n",
    "\"Resultado:\\n\"\\\n",
    "\"        Arv    numpy.ndarray que representa matriz (mxn) que incluye las componentes distintas de \\n\"\\\n",
    "\"               cero de la matriz R y los vectores householder con los que se puede obtener la matriz \\n\"\\\n",
    "\"               Q, y con ello la factorización QR\\n\"\\\n",
    "\"\\n\"\\\n",
    "\"La factorización QR consiste en encontrar 2 matrices tales que A=Q*R \\n\"\\\n",
    "\"donde Q es una matriz ortogonal y R es una matriz triangular superior \\n\"\\\n",
    "\"Las entradas de la matriz que arroja esta función, Arv, se pueden visualizar como:\\n\"\\\n",
    "\"     [ r11  r12  r13  r14 ]\\n\"\\\n",
    "\"     [ v21  r22  r23  r24 ]\\n\"\\\n",
    "\"Arv= [ v31  v32  r33  r34 ]\\n\"\\\n",
    "\"     [ v41  v42  v43  r44 ]\\n\"\\\n",
    "\"     [ v51  v52  v53  v54 ]\\n\"\\\n",
    "\"\\n\"\\\n",
    "\"Las entradas r conforman la matriz R (triangular superior): \\n\"\\\n",
    "\"     [ r11  r12  r13  r14 ] \\n\"\\\n",
    "\"     [  0   r22  r23  r24 ] \\n\"\\\n",
    "\"R=   [  0    0   r33  r34 ] \\n\"\\\n",
    "\"     [  0    0    0   r44 ] \\n\"\\\n",
    "\"     [  0    0    0    0  ] \\n\"\\\n",
    "\"La matriz Q puede obtenerse a partir de los vectores householder v, los cuales \\n\"\\\n",
    "\"sirven para construir la matriz de reflexión de householder R, con \\n\"\\\n",
    "\"R=Identidad(mxm) - Beta*v*v_trans  y  Beta=2/(v_trans*v) \\n\"\\\n",
    "\"                       [  1                 ]\\n\"\\\n",
    "\"                       [ v21   1            ]\\n\"\\\n",
    "\"vectores householder*= [ v31  v32   1       ]\\n\"\\\n",
    "\"                       [ v41  v42  v43   1  ]\\n\"\\\n",
    "\"                       [ v51  v52  v53  v54 ]\\n\"\\\n",
    "\"*Notese que Avr no tiene la primera entrada de los vectores v, pero sabemos por construcción \\n\"\\\n",
    "\"que es igual a 1\""
   ]
  },
  {
   "cell_type": "code",
   "execution_count": 182,
   "metadata": {},
   "outputs": [
    {
     "name": "stdout",
     "output_type": "stream",
     "text": [
      "Help on function matriz_Arv in module __main__:\n",
      "\n",
      "matriz_Arv(A)\n",
      "    Descripción:\n",
      "            Función que genera una matriz que contiene los elementos r distintos de cero de la matriz R y las entradas\n",
      "            de los vectores householder v (excepto la primera), con los cuales se puede calcular la matriz Q. Ambas matrices\n",
      "            componentes de la factorización QR\n",
      "    \n",
      "    Parametros:\n",
      "            A      numpy.ndarray que representa matriz (mxn) de la que se desea obtener elemento de \n",
      "                   factorización QR\n",
      "    \n",
      "    Resultado:\n",
      "            Arv    numpy.ndarray que representa matriz (mxn) que incluye las componentes distintas de \n",
      "                   cero de la matriz R y los vectores householder con los que se puede obtener la matriz \n",
      "                   Q, y con ello la factorización QR\n",
      "    \n",
      "    La factorización QR consiste en encontrar 2 matrices tales que A=Q*R \n",
      "    donde Q es una matriz ortogonal y R es una matriz triangular superior \n",
      "    Las entradas de la matriz que arroja esta función, Arv, se pueden visualizar como:\n",
      "         [ r11  r12  r13  r14 ]\n",
      "         [ v21  r22  r23  r24 ]\n",
      "    Arv= [ v31  v32  r33  r34 ]\n",
      "         [ v41  v42  v43  r44 ]\n",
      "         [ v51  v52  v53  v54 ]\n",
      "    \n",
      "    Las entradas r conforman la matriz R (triangular superior): \n",
      "         [ r11  r12  r13  r14 ] \n",
      "         [  0   r22  r23  r24 ] \n",
      "    R=   [  0    0   r33  r34 ] \n",
      "         [  0    0    0   r44 ] \n",
      "         [  0    0    0    0  ] \n",
      "    La matriz Q puede obtenerse a partir de los vectores householder v, los cuales \n",
      "    sirven para construir la matriz de reflexión de householder R, con \n",
      "    R=Identidad(mxm) - Beta*v*v_trans  y  Beta=2/(v_trans*v) \n",
      "                           [  1                 ]\n",
      "                           [ v21   1            ]\n",
      "    vectores householder*= [ v31  v32   1       ]\n",
      "                           [ v41  v42  v43   1  ]\n",
      "                           [ v51  v52  v53  v54 ]\n",
      "    *Notese que Avr no tiene la primera entrada de los vectores v, pero sabemos por construcción \n",
      "    que es igual a 1\n",
      "\n"
     ]
    }
   ],
   "source": [
    "help(matriz_Arv)"
   ]
  },
  {
   "cell_type": "code",
   "execution_count": 183,
   "metadata": {},
   "outputs": [],
   "source": [
    "def matriz_R(A_r_v):\n",
    "    \"\"\"\n",
    "    Función que devuelve la matriz R de la factorización QR de una matriz A, \n",
    "    apartir de la matriz Arv\n",
    "    \n",
    "    params: A_r_v   Matriz (mxn) que incluye elementos de la matriz R y Q, de la factorización QR\n",
    "\n",
    "    return: R       Matriz (mxn) R de la factorización A=QR\n",
    "    \"\"\"\n",
    "    m=A_r_v.shape[0]\n",
    "    n=A_r_v.shape[1]\n",
    "    R=np.zeros((m,n))\n",
    "    #la matriz A_r_v ya tiene los elementos de r en el triangulo superior\n",
    "    #por lo que únicamente se sustraen dichos valores y lo demás se deja en ceros\n",
    "    for j in range(n):\n",
    "        R[0:(j+1),j]=A_r_v[0:(j+1),j]\n",
    "    return R\n",
    "\n",
    "matriz_R.__doc__ =\"Descripción:\\n\"\\\n",
    "\"        Función que devuelve la matriz R de la factorización QR de una matriz A,\\n\"\\\n",
    "\"        apartir de la matriz Arv\\n\"\\\n",
    "\"\\n\"\\\n",
    "\"Parametros:\\n\"\\\n",
    "\"        A_r_v   np.ndarray que representa matriz (mxn) que incluye elementos de la matriz R y Q,\\n\"\\\n",
    "\"                de la factorización QR\\n\"\\\n",
    "\"\\n\"\\\n",
    "\"Resultado:\\n\"\\\n",
    "\"        R       np.ndarray que representa matriz (mxn) R de la factorización A=QR\\n\"\\\n",
    "\"\\n\"\\\n",
    "\"Visualmente la sustracción de los elementos de R se ve así:\\n\"\\\n",
    "\"     [ r11  r12  r13  r14 ]            [ r11  r12  r13  r14 ]\\n\"\\\n",
    "\"     [ v21  r22  r23  r24 ]            [  0   r22  r23  r24 ]\\n\"\\\n",
    "\"Arv= [ v31  v32  r33  r34 ]   -->   R= [  0    0   r33  r34 ]\\n\"\\\n",
    "\"     [ v41  v42  v43  r44 ]            [  0    0    0   r44 ]\\n\"\\\n",
    "\"     [ v51  v52  v53  v54 ]            [  0    0    0    0  ]\\n\""
   ]
  },
  {
   "cell_type": "code",
   "execution_count": 184,
   "metadata": {},
   "outputs": [
    {
     "name": "stdout",
     "output_type": "stream",
     "text": [
      "Help on function matriz_R in module __main__:\n",
      "\n",
      "matriz_R(A_r_v)\n",
      "    Descripción:\n",
      "            Función que devuelve la matriz R de la factorización QR de una matriz A,\n",
      "            apartir de la matriz Arv\n",
      "    \n",
      "    Parametros:\n",
      "            A_r_v   np.ndarray que representa matriz (mxn) que incluye elementos de la matriz R y Q,\n",
      "                    de la factorización QR\n",
      "    \n",
      "    Resultado:\n",
      "            R       np.ndarray que representa matriz (mxn) R de la factorización A=QR\n",
      "    \n",
      "    Visualmente la sustracción de los elementos de R se ve así:\n",
      "         [ r11  r12  r13  r14 ]            [ r11  r12  r13  r14 ]\n",
      "         [ v21  r22  r23  r24 ]            [  0   r22  r23  r24 ]\n",
      "    Arv= [ v31  v32  r33  r34 ]   -->   R= [  0    0   r33  r34 ]\n",
      "         [ v41  v42  v43  r44 ]            [  0    0    0   r44 ]\n",
      "         [ v51  v52  v53  v54 ]            [  0    0    0    0  ]\n",
      "\n"
     ]
    }
   ],
   "source": [
    "help(matriz_R)"
   ]
  },
  {
   "cell_type": "code",
   "execution_count": 185,
   "metadata": {},
   "outputs": [
    {
     "ename": "SyntaxError",
     "evalue": "EOL while scanning string literal (<ipython-input-185-99375f58b084>, line 39)",
     "output_type": "error",
     "traceback": [
      "\u001b[1;36m  File \u001b[1;32m\"<ipython-input-185-99375f58b084>\"\u001b[1;36m, line \u001b[1;32m39\u001b[0m\n\u001b[1;33m    \"El proceso...\u001b[0m\n\u001b[1;37m                  ^\u001b[0m\n\u001b[1;31mSyntaxError\u001b[0m\u001b[1;31m:\u001b[0m EOL while scanning string literal\n"
     ]
    }
   ],
   "source": [
    "def matriz_Q(A_r_v):\n",
    "    \"\"\"\n",
    "    Función que devuelve la matriz R de la factorización QR de una matriz A,\n",
    "    apartir de la matriz Arv\n",
    "    \n",
    "    params: A_r_v   Matriz (mxn) con la info escencial para la factorización\n",
    "\n",
    "    return: Q       Matriz Q (mxm) de la factorización A=QR\n",
    "    \"\"\"\n",
    "    m=A_r_v.shape[0]\n",
    "    n=A_r_v.shape[1]\n",
    "    Q=np.eye(m)\n",
    "    I=np.eye(m)\n",
    "    for j in range(n-1,-1,-1):\n",
    "        #Se sustrae la información de los vectores de householder contenida\n",
    "        #en la matriz Arv, agregando la primera entrada que no está en dicha matriz (y que es 1)\n",
    "        v=np.concatenate((1,A_r_v[(j+1):m,j]), axis=None)\n",
    "        #Se calcula el factor beta para obtener la matriz de reflexión\n",
    "        beta=2/(1+A_r_v[(j+1):m,j].dot(A_r_v[(j+1):m,j]))\n",
    "        #Aquí se va acumulando el producto de las Qj's para llegar a Q_(n-1)*Q(n-2)*...Q_2*Q_1*Q_0=Q\n",
    "        #al final del ciclo\n",
    "        Q[j:m,j:m]=(I[j:m,j:m]-beta*np.outer(v,v))@Q[j:m,j:m]\n",
    "    #La Q_(n-1) es la matriz más chica y la última que calculamos para generar ceros en la última\n",
    "    #columna de A, y la Q_1 es la matriz más grande y la primera que calculamos para generar ceros\n",
    "    #en la 1era columna de A\n",
    "    return Q\n",
    "\n",
    "matriz_R.__doc__ =\"Descripción:\\n\"\\\n",
    "\"        Función que devuelve la matriz R de la factorización QR de una matriz A,\\n\"\\\n",
    "\"        apartir de la matriz Arv\\n\"\\\n",
    "\"\\n\"\\\n",
    "\"Parametros:\\n\"\\\n",
    "\"        A_r_v   np.ndarray que representa matriz (mxn) que incluye elementos de la matriz R y Q,\\n\"\\\n",
    "\"                de la factorización QR\\n\"\\\n",
    "\"\\n\"\\\n",
    "\"Resultado:\\n\"\\\n",
    "\"        R       np.ndarray que representa matriz Q (mxm) de la factorización A=QR\\n\"\\\n",
    "\"\\n\"\\\n",
    "\"El proceso...\n"
   ]
  },
  {
   "cell_type": "code",
   "execution_count": null,
   "metadata": {},
   "outputs": [],
   "source": []
  },
  {
   "cell_type": "code",
   "execution_count": null,
   "metadata": {},
   "outputs": [],
   "source": [
    "# def QT_C(A_r_v,C):\n",
    "#     \"\"\"\n",
    "#     Función que calcula el producto matricial de Q_transpuesta por una matriz dada C\n",
    "                            \n",
    "#     params: A_r_v   Matriz (mxn) con la info escencial\n",
    "#             C       Matriz (mxp) (si se pasa por ejemplo C=Identidad (mxm) la funcion devolverá Q)\n",
    "\n",
    "#     return: M       Matriz con numero al azar\n",
    "#     \"\"\"\n",
    "#     m=A_r_v.shape[0]\n",
    "#     n=A_r_v.shape[1]\n",
    "#     QT_por_C=np.eye(m)\n",
    "#     for j in range(n-1,-1,-1):\n",
    "#         v=np.concatenate((1,A_r_v[(j+1):m,j]), axis=None)\n",
    "#         beta=2/(1+A_r_v[(j+1):m,j].dot(A_r_v[(j+1):m,j]))\n",
    "#         QT_por_C[j:m,j:m]=C[j:m,j:m]-beta*np.outer(v,v)@C[j:m,j:m]\n",
    "#     return QT_por_C"
   ]
  },
  {
   "cell_type": "code",
   "execution_count": null,
   "metadata": {},
   "outputs": [],
   "source": [
    "# def Q_j(A_r_v,j):\n",
    "#     \"\"\"\n",
    "#     Función que calcula la matriz Qj (en el proceso de obtención de factorización QR se van obteniendo n Qj's,\n",
    "#     que si se multiplican todas da por resultado Q=Q1*Q2*...*Qn)\n",
    "                            \n",
    "#     params: A_r_v   Matriz (mxn) con la info escencial\n",
    "#             C       Matriz (mxp) (si se pasa por ejemplo C=Identidad (mxm) la funcion devolverá Q)\n",
    "\n",
    "#     return: Qj      Matriz Q de la j-esima iteración del proceso iterativo de factorización QR\n",
    "#     \"\"\"\n",
    "#     m=A_r_v.shape[0]\n",
    "#     n=A_r_v.shape[1]\n",
    "#     Qj=np.eye(m)\n",
    "#     v=np.concatenate((1,A_r_v[(j+1):m,j]), axis=None)\n",
    "#     beta=2/(1+A_r_v[(j+1):m,j].dot(A_r_v[(j+1):m,j]))\n",
    "#     Qj[j:m,j:m]=np.eye(m-j)-beta*np.outer(v,v)\n",
    "#     return Qj"
   ]
  },
  {
   "cell_type": "markdown",
   "metadata": {},
   "source": [
    "### Funciones para solución de Sistemas de Ecuaciones Lineales"
   ]
  },
  {
   "cell_type": "code",
   "execution_count": null,
   "metadata": {},
   "outputs": [],
   "source": [
    "# def Solucion_SEL_QR_nxn(A,b):\n",
    "#     \"\"\"\n",
    "#     Función que obtiene la solución de un sistema de ecuaciones lineala (SEL) con n ecuaciones y n incognitas\n",
    "            \n",
    "#     params: A   Matriz (nxn) que representa los coeficientas de las ecuaciones\n",
    "#             b   vector (nx1) constantes del sistema\n",
    "\n",
    "#     return: x   vector que satisface (Ax=b)\n",
    "#     \"\"\"\n",
    "#     A_r_v=factorizacion_QR(A)\n",
    "#     m=A_r_v.shape[0]\n",
    "#     Q=np.transpose(Obtencion_Q(A_r_v))\n",
    "#     R=Obtencion_R(A_r_v)\n",
    "# #     n=A_r_v.shape[0]\n",
    "# #     Q=np.eye(m)\n",
    "# #     R=copy.copy(A)\n",
    "# #     for j in range(m):\n",
    "# #         Qj=Q_j(A_r_v,j)\n",
    "# #         Q=Q@Qj\n",
    "# #         R=Q_j(A_r_v,j)@R\n",
    "#     b_prima=np.transpose(Q)@b\n",
    "#     x = solve_triangular(R, np.transpose(Q)@b)\n",
    "#     return x"
   ]
  },
  {
   "cell_type": "code",
   "execution_count": null,
   "metadata": {},
   "outputs": [],
   "source": []
  },
  {
   "cell_type": "markdown",
   "metadata": {},
   "source": [
    "#### Eliminación por bloques"
   ]
  },
  {
   "cell_type": "code",
   "execution_count": null,
   "metadata": {},
   "outputs": [],
   "source": [
    "# def bloques(A, b=False, n1=False, n2=False):\n",
    "#     \"\"\"\n",
    "#     Esta es la función para la creación de bloques usando un arreglo de numpy\n",
    "    \n",
    "#     params: A   Matriz (nxn) que representa los coeficientas de las ecuaciones\n",
    "#             b   vector (nx1) constantes del sistema\n",
    "#             n1  Numero de renglones que tendrá el 1er bloque\n",
    "#             n2  Numero de renglones que tendrá el 2do bloque\n",
    "    \n",
    "#     return: A11 Fraccion de la matriz dividida\n",
    "#             A12 Fraccion de la matriz dividida\n",
    "#             A12 Fraccion de la matriz dividida\n",
    "#             A12 Fraccion de la matriz dividida\n",
    "#             b1  Fraccion del vector dividido\n",
    "#             b2  Fraccion del vector dividido\n",
    "#     \"\"\"\n",
    "\n",
    "#     # Primero definimos el n\n",
    "#     m,n = A.shape\n",
    "\n",
    "#     # Condiciones de A\n",
    "#     # Si no se dan los n deseados, se intentan hacer los bloques casi iguales\n",
    "#     if  not (n1&n2):\n",
    "#         n1 = n//2\n",
    "#         n2 = n - n1\n",
    "#     # Los bloques deben cumplir la condicion de tamaño\n",
    "#     elif n1+n1 != n:\n",
    "#         sys.exit('n1 + n2 debe ser igual a n')\n",
    "#     else:\n",
    "#         None\n",
    "\n",
    "#     # Condiciones de b\n",
    "#     if  b is False:\n",
    "#         b1 = None\n",
    "#         b2 = None\n",
    "#         print('condicion1')\n",
    "#     elif len(b) == m:\n",
    "#         b1 = b[:n1]\n",
    "#         b2 = b[n1:m]\n",
    "#     else:\n",
    "#         sys.exit('los renglones de A y b deben ser del mismo tamaño')\n",
    "\n",
    "#     A11 = A[:n1,:n1]\n",
    "#     A12 = A[:n1,n1:n]\n",
    "#     A21 = A[n1:m,:n1]\n",
    "#     A22 = A[n1:m,n1:n]\n",
    "\n",
    "#     return A11,A12,A21,A22,b1,b2"
   ]
  },
  {
   "cell_type": "code",
   "execution_count": null,
   "metadata": {},
   "outputs": [],
   "source": [
    "# def eliminacion_bloques(A,b):\n",
    "#     \"\"\"\n",
    "#     Función que obtiene la solución de un sistema de ecuaciones lineala (SEL) con n ecuaciones y n incognitas\n",
    "            \n",
    "#     params: A   Matriz (nxn) que representa los coeficientas de las ecuaciones\n",
    "#             b   vector (nx1) constantes del sistema\n",
    "    \n",
    "#     return: x1 Solucion al 1er sistema de ecuaciones obtenido con la división por bloques\n",
    "#             x2 Solucion al 2do sistema de ecuaciones obtenido con la división por bloques\n",
    "#     \"\"\"\n",
    "#     if np.linalg.det(A)==0:\n",
    "#         sys.exit('A debe ser no singular')\n",
    "\n",
    "#     A11,A12,A21,A22,b1,b2 = bloques(A,b)\n",
    "\n",
    "#     if np.linalg.det(A11)==0:\n",
    "#         ys.exit('A11 debe ser no singular')\n",
    "\n",
    "#     ## 1. Calcular A11^{-1}A12 y A11^{-1}b1 teniendo cuidado en no calcular la inversa sino un sistema de ecuaciones lineales\n",
    "#     ## Aquí se debe usar el método QR una vez que esté desarrollado\n",
    "\n",
    "#     ## Definimos y = A11^{-1}b1, por tanto A11y=b1. Resolviendo el sistema anterior para 11y:\n",
    "#     y = Solucion_SEL_QR_nxn(A11,b1)\n",
    "#     #y = np.linalg.solve(A11,b1)\n",
    "\n",
    "#     ## Definimos Y = A11^{-1}A12\n",
    "#     Y = Solucion_SEL_QR_nxn(A11,A12)\n",
    "#     #Y = np.linalg.solve(A11,A12)\n",
    "\n",
    "#     ## 2. Calcular el complemento de Schur del bloque A11 en A. Calcular b_hat\n",
    "#     S = A22 - A21@Y\n",
    "#     b_h = b2 - A21@y\n",
    "\n",
    "#     ## 3. Resolver Sx2 = b_hat\n",
    "#     x2 = Solucion_SEL_QR_nxn(S,b_h)\n",
    "#     #x2 = np.linalg.solve(S,b_h)\n",
    "\n",
    "#     ## 4. Resolver A11x1 = b1-A12X2\n",
    "#     x1 = Solucion_SEL_QR_nxn(A11,b1-A12@x2)\n",
    "#     #x1 = np.linalg.solve(A11,b1-A12@x2)\n",
    "\n",
    "#     return np.concatenate((x1,x2), axis=0)"
   ]
  },
  {
   "cell_type": "code",
   "execution_count": null,
   "metadata": {},
   "outputs": [],
   "source": []
  },
  {
   "cell_type": "code",
   "execution_count": null,
   "metadata": {},
   "outputs": [],
   "source": []
  },
  {
   "cell_type": "code",
   "execution_count": null,
   "metadata": {},
   "outputs": [],
   "source": []
  },
  {
   "cell_type": "markdown",
   "metadata": {},
   "source": [
    "# EJEMPLOS"
   ]
  },
  {
   "cell_type": "markdown",
   "metadata": {},
   "source": [
    "**Generación de matrices**"
   ]
  },
  {
   "cell_type": "code",
   "execution_count": null,
   "metadata": {},
   "outputs": [],
   "source": [
    "# #Prueba también definiendo una matriz entrada por entrada, solo asegurate que sus entradas sean\n",
    "# #tipo flotantes/dobles (pues si son de tipo enteras arrastrarán errores de redondeo considerables)\n",
    "# m=3\n",
    "# n=3\n",
    "# A=np.array([[1, 2, 1], [2, 3, 2], [1, 2, 3]], dtype='d')\n",
    "# A"
   ]
  },
  {
   "cell_type": "code",
   "execution_count": null,
   "metadata": {},
   "outputs": [],
   "source": [
    "# #Generar una matriz aleatoria de tamaño definido (renglones y columnas) y valores aleatorios comprendidos en un rango, pudiendo ser sus entradas de tipo enteros o dobles\n",
    "# m=5\n",
    "# n=3\n",
    "# A=np.round(crea_matriz(m,n,6,-6,False),2)\n",
    "# A"
   ]
  },
  {
   "cell_type": "markdown",
   "metadata": {},
   "source": [
    "**Ejemplos de factorización de una matriz A**"
   ]
  },
  {
   "cell_type": "code",
   "execution_count": null,
   "metadata": {},
   "outputs": [],
   "source": [
    "# A_r_v = factorizacion_QR(A)\n",
    "# np.round(A_r_v,4)"
   ]
  },
  {
   "cell_type": "code",
   "execution_count": null,
   "metadata": {},
   "outputs": [],
   "source": [
    "# #Obtención de Q con la función QT_C\n",
    "# Q=np.transpose(QT_C(A_r_v,np.eye(m)))\n",
    "# np.round(Q,4)"
   ]
  },
  {
   "cell_type": "code",
   "execution_count": null,
   "metadata": {},
   "outputs": [],
   "source": [
    "# #Así obtenemos R\n",
    "# R=np.transpose(Q)@A\n",
    "# np.round(R,4)"
   ]
  },
  {
   "cell_type": "code",
   "execution_count": null,
   "metadata": {},
   "outputs": [],
   "source": [
    "# #Ejemplo ilustrativo de cómo obtener Q y R, visualizando cada iteración\n",
    "# Q=np.eye(m)\n",
    "# R=copy.copy(A)\n",
    "# for j in range(n):\n",
    "#     Qj=Q_j(A_r_v,j)\n",
    "#     print('\\nQ',j,':\\n',np.round(Qj,4))\n",
    "#     Q=Q@Qj\n",
    "#     R=Q_j(A_r_v,j)@R\n",
    "#     print('\\nAplicando las Qjs a A por la izquierda para obtener R, iteracion ',j,':\\n',np.round(R,4))\n",
    "\n",
    "# print('\\n\\n\\nResultados finales:')\n",
    "# print('\\nR es el resultado de multiplicar todas las Qjs a A\\n',np.round(R,4))\n",
    "# print('\\nQ es el resultado de multiplicar todas las Qjs y transponer:\\n',np.round(Q,4))"
   ]
  },
  {
   "cell_type": "code",
   "execution_count": null,
   "metadata": {},
   "outputs": [],
   "source": [
    "Obtencion_R(A_r_v)"
   ]
  },
  {
   "cell_type": "code",
   "execution_count": null,
   "metadata": {},
   "outputs": [],
   "source": []
  },
  {
   "cell_type": "code",
   "execution_count": null,
   "metadata": {},
   "outputs": [],
   "source": []
  },
  {
   "cell_type": "code",
   "execution_count": null,
   "metadata": {},
   "outputs": [],
   "source": []
  },
  {
   "cell_type": "code",
   "execution_count": null,
   "metadata": {},
   "outputs": [],
   "source": []
  },
  {
   "cell_type": "code",
   "execution_count": null,
   "metadata": {},
   "outputs": [],
   "source": []
  },
  {
   "cell_type": "code",
   "execution_count": null,
   "metadata": {},
   "outputs": [],
   "source": []
  },
  {
   "cell_type": "code",
   "execution_count": null,
   "metadata": {},
   "outputs": [],
   "source": [
    "# #Se prueba un ejemplo más grande con 10^4 entradas\n",
    "# m=125\n",
    "# n=80\n",
    "# A=np.round(crea_matriz(m,n,10,-10,False),2)\n",
    "# A_r_v = factorizacion_QR(A)\n",
    "# A_r_v"
   ]
  },
  {
   "cell_type": "markdown",
   "metadata": {},
   "source": [
    "**Solucion de SEL**"
   ]
  },
  {
   "cell_type": "markdown",
   "metadata": {},
   "source": [
    "### A) Sistema con soluciones únicas"
   ]
  },
  {
   "cell_type": "code",
   "execution_count": null,
   "metadata": {},
   "outputs": [],
   "source": [
    "# #Generamos un sistema de ecuaciones lineales\n",
    "# m=6\n",
    "# n=6\n",
    "# A=np.round(crea_matriz(m,n,6,-6,False),2)\n",
    "# b = np.round(crea_matriz(m,1,6,-6,False),2)\n",
    "# print(\"A:\",A)\n",
    "# print(\"b:\",b)"
   ]
  },
  {
   "cell_type": "markdown",
   "metadata": {},
   "source": [
    "##### Primero resolvamos el sistema de ecuaciones usando la paquetería de numpy para comparar."
   ]
  },
  {
   "cell_type": "code",
   "execution_count": null,
   "metadata": {},
   "outputs": [],
   "source": [
    "# np.linalg.solve(A,b)"
   ]
  },
  {
   "cell_type": "markdown",
   "metadata": {},
   "source": [
    "##### Ahora usemos la factorización QR"
   ]
  },
  {
   "cell_type": "code",
   "execution_count": null,
   "metadata": {},
   "outputs": [],
   "source": [
    "# x=Solucion_SEL_QR_nxn(A,b)\n",
    "# x"
   ]
  },
  {
   "cell_type": "code",
   "execution_count": null,
   "metadata": {},
   "outputs": [],
   "source": [
    "# #Checamos que sea solucion (debe ser igual al vector b)\n",
    "# A@x"
   ]
  },
  {
   "cell_type": "markdown",
   "metadata": {},
   "source": [
    "##### Por último usemos eliminación por bloques con QR"
   ]
  },
  {
   "cell_type": "code",
   "execution_count": null,
   "metadata": {},
   "outputs": [],
   "source": [
    "# eliminacion_bloques(A,b)"
   ]
  },
  {
   "cell_type": "markdown",
   "metadata": {},
   "source": [
    "### B) Sistema sin solución"
   ]
  },
  {
   "cell_type": "code",
   "execution_count": null,
   "metadata": {},
   "outputs": [],
   "source": []
  },
  {
   "cell_type": "markdown",
   "metadata": {},
   "source": [
    "### C) Sistema con infinitas soluciones"
   ]
  },
  {
   "cell_type": "code",
   "execution_count": null,
   "metadata": {},
   "outputs": [],
   "source": []
  },
  {
   "cell_type": "code",
   "execution_count": null,
   "metadata": {},
   "outputs": [],
   "source": []
  },
  {
   "cell_type": "code",
   "execution_count": null,
   "metadata": {},
   "outputs": [],
   "source": []
  },
  {
   "cell_type": "code",
   "execution_count": null,
   "metadata": {},
   "outputs": [],
   "source": []
  },
  {
   "cell_type": "code",
   "execution_count": null,
   "metadata": {
    "scrolled": true
   },
   "outputs": [],
   "source": []
  },
  {
   "cell_type": "code",
   "execution_count": null,
   "metadata": {},
   "outputs": [],
   "source": []
  },
  {
   "cell_type": "code",
   "execution_count": null,
   "metadata": {},
   "outputs": [],
   "source": []
  },
  {
   "cell_type": "code",
   "execution_count": null,
   "metadata": {},
   "outputs": [],
   "source": []
  }
 ],
 "metadata": {
  "kernelspec": {
   "display_name": "Python 3",
   "language": "python",
   "name": "python3"
  },
  "language_info": {
   "codemirror_mode": {
    "name": "ipython",
    "version": 3
   },
   "file_extension": ".py",
   "mimetype": "text/x-python",
   "name": "python",
   "nbconvert_exporter": "python",
   "pygments_lexer": "ipython3",
   "version": "3.7.3"
  }
 },
 "nbformat": 4,
 "nbformat_minor": 4
}
