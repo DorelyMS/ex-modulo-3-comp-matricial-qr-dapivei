{
 "cells": [
  {
   "cell_type": "code",
   "execution_count": 1,
   "metadata": {},
   "outputs": [],
   "source": [
    "#paquetes python\n",
    "import os\n",
    "import numpy as np\n",
    "import copy\n",
    "import pprint\n",
    "from math import sqrt\n",
    "from scipy.linalg import solve_triangular\n",
    "import inspect\n",
    "import sys\n",
    "\n",
    "#paquetes funciones definidas obtenidas de archivos .py\n",
    "import funciones_factorizacion_QR as fQR"
   ]
  },
  {
   "cell_type": "markdown",
   "metadata": {},
   "source": []
  },
  {
   "cell_type": "markdown",
   "metadata": {},
   "source": [
    "**OBJETIVO:**\n",
    "\n",
    "El presente notebook tiene por finalidad exhibir y poner a prueba funciones definidas por el equipo QR para resolver un Sistema de Ecuaciones Lineales (SEL), a través de 3 pasos:\n",
    "\n",
    "    1) Obtención de factorización QR (A=QR)\n",
    "    2) Implementación del método de eliminación por bloques\n",
    "    3) Resolución de SEL (Ax=b) con los 2 pasos anteriores\n",
    "    \n",
    "Para lograr tal objetivo se presentarán a continuacion las funciones implementadas en python, así como una serie de ejemplos para entender mejor su funcionamiento"
   ]
  },
  {
   "cell_type": "markdown",
   "metadata": {},
   "source": [
    "## Factorización QR\n",
    "\n",
    "### Funciones"
   ]
  },
  {
   "cell_type": "code",
   "execution_count": 2,
   "metadata": {},
   "outputs": [
    {
     "name": "stdout",
     "output_type": "stream",
     "text": [
      "def crear_matriz_aleatoria(renglones,columnas,maximo_valor,minimo_valor,entero=False):\n",
      "    \"\"\"\n",
      "    Función de apoyo para genear matrices aleatorias\n",
      "\n",
      "    params: renglones       no. de renglones de la matriz\n",
      "            columnas        no. de columnas de la matriz\n",
      "            maximo_valor    valor máximo de las entradas de la matriz\n",
      "            minimo_valor    valor mínimo de las entradas de la matriz\n",
      "            entero          Indica si las entradas serán enteras (True) o no\n",
      "            \n",
      "    return: M               Matriz con numeros al azar\n",
      "    \"\"\"\n",
      "    \n",
      "    #Se checa que los parámetros sean congruentes con la funcionalidad\n",
      "    if isinstance(renglones, int)==False or isinstance(columnas, int)==False:\n",
      "        sys.exit('Los parámetros de renglones y columnas deben ser enteros positivos')\n",
      "    elif renglones<=0 or columnas<=0:\n",
      "        sys.exit('Los parámetros de renglones y columnas deben ser enteros positivos')            \n",
      "    if isinstance(maximo_valor, (int, float))==False or isinstance(minimo_valor, (int, float))==False:\n",
      "        sys.exit('Los parámetros maximo_valor y minimo_valor deben ser numericos')\n",
      "\n",
      "    #Se inicializa una matriz llena de ceros con las dimensiones deseadas (mxn)\n",
      "    M=np.zeros((renglones, columnas))\n",
      "    for i in range(renglones):\n",
      "        for j in range(columnas):\n",
      "            #Si entero es verdadero se obtiene el maximo entero menor o igual a 1 (//1)\n",
      "            if entero:\n",
      "                M[i][j]=(np.random.rand(1)*(maximo_valor+1-minimo_valor)+minimo_valor)//1\n",
      "            else:\n",
      "                M[i][j]=np.random.rand(1)*(maximo_valor-minimo_valor)+minimo_valor\n",
      "    return M\n",
      "\n"
     ]
    }
   ],
   "source": [
    "lines=inspect.getsource(fQR.crear_matriz_aleatoria)\n",
    "print(lines)"
   ]
  },
  {
   "cell_type": "code",
   "execution_count": 3,
   "metadata": {},
   "outputs": [
    {
     "name": "stdout",
     "output_type": "stream",
     "text": [
      "Help on function crear_matriz_aleatoria in module funciones_factorizacion_QR:\n",
      "\n",
      "crear_matriz_aleatoria(renglones, columnas, maximo_valor, minimo_valor, entero=False)\n",
      "    \r\n",
      "    Descripción:\r\n",
      "            Función que genera matrices de tamaño definido con entradas dentro del rango\r\n",
      "            indicado\r\n",
      "    \r\n",
      "    Parametros:\r\n",
      "            renglones       integer indica renglones de la matriz\r\n",
      "            columnas        integer indica columnas de la matriz\r\n",
      "            maximo_valor    integer o double señala valor máximo de las entradas de la matriz\r\n",
      "            minimo_valor    integer o double señala valor mínimo de las entradas de la matriz\r\n",
      "            entero          Boolean, indica si las entradas serán enteras (True) o no (False)\r\n",
      "    \r\n",
      "    Resultado:\r\n",
      "            M               np.ndarray que representa matriz (mxn) con numeros al azar en el\r\n",
      "                            rango indicado\r\n",
      "    \r\n",
      "    Ejemplos:\r\n",
      "    Crear matriz de m=4 renglones y n=3 columnas, con entradas reales entre 3.4 y 15.6:\r\n",
      "    crea_matriz(m,n,3.4,15.6)\r\n",
      "    \r\n",
      "    Crear matriz de m=2 renglones y n=2 columnas, con entradas enteras entre 0 y 1:\r\n",
      "    crea_matriz(2,2,0,1,True)\n",
      "\n"
     ]
    }
   ],
   "source": [
    "help(fQR.crear_matriz_aleatoria)"
   ]
  },
  {
   "cell_type": "code",
   "execution_count": 4,
   "metadata": {},
   "outputs": [
    {
     "name": "stdout",
     "output_type": "stream",
     "text": [
      "def house(x):\n",
      "    \"\"\"\n",
      "    Función que calcula vector de householder\n",
      "    \n",
      "    params: x       vector al que se le hará la reflexión householder\n",
      "                    \n",
      "    return: Beta    factor para obtener matriz de reflexión householder Rf\n",
      "            v       vector de householder\n",
      "    \"\"\"\n",
      "    \n",
      "    #Se checa que los parámetros sean congruentes con la funcionalidad\n",
      "    if type(x) is not np.ndarray:\n",
      "        sys.exit('x debe ser de tipo numpy.ndarray')\n",
      "    \n",
      "    #longitud del vector x=(x_0,x_1,x_2,...,x_(m-1))\n",
      "    m=len(x)\n",
      "    norm_2_m=x[1:m].dot(np.transpose(x[1:m]))\n",
      "    #Se hace v=x=(1,x_1,x_2,...,x_(m-1))\n",
      "    v=np.concatenate((1,x[1:m]), axis=None)\n",
      "    Beta=0\n",
      "    #con las siguientes condiciones se checa si x es múltiplo del vector canónico e_1 \n",
      "    #y el signo de x[0]\n",
      "    if (norm_2_m==0 and x[0]>=0):\n",
      "        Beta=0\n",
      "    elif (norm_2_m==0 and x[0]<0):\n",
      "        Beta=2\n",
      "    else:\n",
      "        norm_x=np.sqrt(pow(x[0],2)+norm_2_m)\n",
      "        if (x[0]<=0):\n",
      "            v[0]=x[0]-norm_x\n",
      "        else:\n",
      "            v[0]=-norm_2_m/(x[0]+norm_x)\n",
      "        Beta=2*pow(v[0],2)/(norm_2_m+pow(v[0],2))\n",
      "        v=v/v[0]\n",
      "    return Beta, v\n",
      "\n"
     ]
    }
   ],
   "source": [
    "lines=inspect.getsource(fQR.house)\n",
    "print(lines)"
   ]
  },
  {
   "cell_type": "code",
   "execution_count": 5,
   "metadata": {},
   "outputs": [
    {
     "name": "stdout",
     "output_type": "stream",
     "text": [
      "Help on function house in module funciones_factorizacion_QR:\n",
      "\n",
      "house(x)\n",
      "    \r\n",
      "    Descripción:\r\n",
      "            Función que calcula vector de householder\r\n",
      "    \r\n",
      "    Parametros:\r\n",
      "            x       np.ndarray que representa vector al que se le hará la reflexión householder\r\n",
      "    \r\n",
      "    Resultado:\r\n",
      "            Beta    double para obtener matriz de reflexión householder v\r\n",
      "            v       np.ndarray que representa vector que representa la reflexión de householder\r\n",
      "    \r\n",
      "    Con el vector v y el factor beta obtenidos se puede calcular la matriz de reflexión de\r\n",
      "    householder R, donde R= Identidad(mxm) - Beta*v*v_transpuesta (v*v_transpuesta es matriz  \r\n",
      "    de pxp si v tiene p entradas). El vector v está construido de tal forma que al generar la \r\n",
      "    matriz de reflexión de householder Rf y multiplicarse por x se obtiene una proyección de \r\n",
      "    este último sobre el vector canónico e_1=(1,0,0,...,0) obteniendo un vector con todas sus \r\n",
      "    entradas ingualas  a cero excepto la primera, que de hecho es ||x||*e_1=(||x||,0,0,...,0)\r\n",
      "    \r\n",
      "    Esta mecánica se puede implementar en matrices para generar matrices triangulares superiores \r\n",
      "    (generando ceros en el triangulo inferior) como se ilustra a continuación\r\n",
      "    \r\n",
      "       [ a00 a01 a02 a03 ]\r\n",
      "    A= [ a10 a11 a12 a13 ]\r\n",
      "       [ a20 a21 a22 a23 ]\r\n",
      "       [ a30 a31 a32 a33 ]\r\n",
      "    \r\n",
      "    Tomese x=A[:,0]=[a00,a10,a20,a30], calcular (v,Beta) y con ello la matriz de reflexión Rf_0. \r\n",
      "    Con el producto Rf_0*A se obtiene una matriz de la forma:\r\n",
      "       [  *   *   *   *  ]\r\n",
      "    A= [  0   *   *   *  ]\r\n",
      "       [  0   *   *   *  ]\r\n",
      "       [  0   *   *   *  ]\r\n",
      "    \r\n",
      "    Tomese x=A[:,1]=[a11,a21,a31], calcular (v,Beta) y con ello la matriz de reflexión Rf_1. \r\n",
      "    Con el producto Rf_1*Rf_0*A se obtiene una matriz de la forma:\r\n",
      "       [  *   *   *   *  ]\r\n",
      "    A= [  0   *   *   *  ]\r\n",
      "       [  0   0   *   *  ]\r\n",
      "       [  0   0   *   *  ]\n",
      "\n"
     ]
    }
   ],
   "source": [
    "help(fQR.house)"
   ]
  },
  {
   "cell_type": "code",
   "execution_count": 6,
   "metadata": {},
   "outputs": [
    {
     "name": "stdout",
     "output_type": "stream",
     "text": [
      "def matriz_auxiliar_Arv(A):\n",
      "    \"\"\"\n",
      "    Función que genera una matriz que contiene los elementos r distintos de cero de la \n",
      "    matriz R y las entradas de los vectores householder v (excepto la primera), con los \n",
      "    cuales se puede calcular la matriz Q. Ambas matrices componentes de la factorización QR\n",
      "    \n",
      "    params: A      Matriz (mxn) de la que se desea obtner factorización QR\n",
      "            \n",
      "    return: Arv    Matriz (mxn) que incluye las componentes distintas de cero de la matriz R \n",
      "                   y los vectores householder con los que se puede obtener la matriz Q, y \n",
      "                   con ello la factorización QR\n",
      "    \"\"\"\n",
      "    \n",
      "    #Se checa que los parámetros sean congruentes con la funcionalidad\n",
      "    if type(A) is not np.ndarray:\n",
      "        sys.exit('A debe ser de tipo numpy.ndarray')\n",
      "    m,n=A.shape\n",
      "    if m<n:\n",
      "        sys.exit('EL numero de renglones de A debe ser mayor o igual al no. de columnas')\n",
      "    \n",
      "    #m contiene el numero de renglones y n el de columnas\n",
      "    m=A.shape[0]\n",
      "    n=A.shape[1]\n",
      "    #se crea una matriz con los valores de A\n",
      "    Arv=copy.copy(A)\n",
      "    for j in range(n):\n",
      "        beta, v=house(Arv[j:m,j])\n",
      "        #Con esta multiplicación se van generando las componentes r de la matriz R\n",
      "        #Arv[j:m,j:n]=Arv[j:m,j:n]-beta*(np.outer(v,v)@Arv[j:m,j:n]) #OBSERVACIÓN: Checar cual es más eficiente (este o el renglón de abajo)\n",
      "        Arv[j:m,j:n]=Arv[j:m,j:n]-beta*np.outer(v,(np.transpose(v)@Arv[j:m,j:n]))\n",
      "        #se guarda en cada columnas los valores de v d, excepto la primer componente (que vale 1)\n",
      "        Arv[(j+1):m,j]=v[1:(m-j)]\n",
      "    return Arv\n",
      "\n"
     ]
    }
   ],
   "source": [
    "lines=inspect.getsource(fQR.matriz_auxiliar_Arv)\n",
    "print(lines)"
   ]
  },
  {
   "cell_type": "code",
   "execution_count": 7,
   "metadata": {},
   "outputs": [
    {
     "name": "stdout",
     "output_type": "stream",
     "text": [
      "Help on function matriz_auxiliar_Arv in module funciones_factorizacion_QR:\n",
      "\n",
      "matriz_auxiliar_Arv(A)\n",
      "    \r\n",
      "    Descripción:\r\n",
      "            Función que genera una matriz que contiene los elementos r distintos de cero de \r\n",
      "            la matriz R y las entradas de los vectores householder v (excepto la primera), \r\n",
      "            con los cuales se puede calcular la matriz Q. Ambas matrices componentes de la \r\n",
      "            factorización QR\r\n",
      "    \r\n",
      "    Parametros:\r\n",
      "            A      numpy.ndarray que representa matriz (mxn) de la que se desea obtener \r\n",
      "                   elemento de factorización QR\r\n",
      "    \r\n",
      "    Resultado:\r\n",
      "            Arv    numpy.ndarray que representa matriz (mxn) que incluye las componentes \r\n",
      "                   distintas de cero de la matriz R y los vectores householder con los \r\n",
      "                   que se puede obtener la matriz Q, y con ello la factorización QR\r\n",
      "    \r\n",
      "    La factorización QR consiste en encontrar 2 matrices tales que A=Q*R \r\n",
      "    donde Q es una matriz ortogonal y R es una matriz triangular superior \r\n",
      "    Las entradas de la matriz Arv que arroja esta función se pueden visualizar como:\r\n",
      "         [ r00  r01  r02  r03 ]\r\n",
      "         [ v10  r11  r12  r13 ]\r\n",
      "    Arv= [ v20  v21  r22  r23 ]\r\n",
      "         [ v30  v31  v32  r33 ]\r\n",
      "         [ v40  v41  v42  v43 ]\r\n",
      "    \r\n",
      "    Las entradas r conforman la matriz R (triangular superior): \r\n",
      "         [ r00  r01  r02  r03 ] \r\n",
      "         [  0   r11  r12  r13 ] \r\n",
      "    R=   [  0    0   r22  r23 ] \r\n",
      "         [  0    0    0   r33 ] \r\n",
      "         [  0    0    0    0  ]\r\n",
      "    \r\n",
      "    La matriz Q puede obtenerse a partir de los vectores householder v, los cuales \r\n",
      "    sirven para construir la matriz de reflexión de householder R, con \r\n",
      "    R=Identidad(mxm) - Beta*v*v_trans  y  Beta=2/(v_trans*v) \r\n",
      "                           [  1                 ]\r\n",
      "                           [ v10   1            ]\r\n",
      "    vectores householder*= [ v20  v21   1       ]\r\n",
      "                           [ v30  v31  v32   1  ]\r\n",
      "                           [ v40  v41  v42  v43 ]\r\n",
      "    \r\n",
      "    *Notese que Avr no tiene la primera entrada de los vectores v, pero sabemos por \r\n",
      "    construcción que es igual a 1. Con el vector v_1=(1,v10,v20,v30,v40) se puede\r\n",
      "    calcular Q_1, con v_2=(1,v21,v31,v41) se puede calcular Q_2, con v_3=(1,v32,v42)\r\n",
      "    se puede calcular Q_3 y con v_4=(1,v43) se puede calcular Q_4.\n",
      "\n"
     ]
    }
   ],
   "source": [
    "help(fQR.matriz_auxiliar_Arv)"
   ]
  },
  {
   "cell_type": "code",
   "execution_count": 8,
   "metadata": {},
   "outputs": [
    {
     "name": "stdout",
     "output_type": "stream",
     "text": [
      "def matriz_Q_R(A):\n",
      "    \"\"\"\n",
      "    Función que devuelve la matriz R y Q de la factorización QR de una matriz A\n",
      "    \n",
      "    params: A    Matriz (mxn)\n",
      "\n",
      "    return: Q    Matriz Q (mxm) de la factorización A=QR\n",
      "            R    Matriz Q (mxm) de la factorización A=QR\n",
      "    \"\"\"\n",
      "    \n",
      "    #Se checa que los parámetros sean congruentes con la funcionalidad\n",
      "    if type(A) is not np.ndarray:\n",
      "        sys.exit('A debe ser de tipo numpy.ndarray')\n",
      "    elif A.shape[0]<A.shape[1]:\n",
      "        sys.exit('El numero de renglones de A tiene que ser igual o mayor al no. de columnas')\n",
      "    \n",
      "    Arv=matriz_auxiliar_Arv(A)\n",
      "    m,n=A.shape\n",
      "    Q=np.eye(m)\n",
      "    R=copy.copy(A)\n",
      "    for j in range(n):\n",
      "        Qj=Q_j(Arv,j+1)\n",
      "        Q=Q@Qj\n",
      "        R=Q_j(Arv,j+1)@R\n",
      "    return Q,R\n",
      "\n"
     ]
    }
   ],
   "source": [
    "lines=inspect.getsource(fQR.matriz_Q_R)\n",
    "print(lines)"
   ]
  },
  {
   "cell_type": "code",
   "execution_count": 9,
   "metadata": {},
   "outputs": [
    {
     "name": "stdout",
     "output_type": "stream",
     "text": [
      "Help on function matriz_Q_R in module funciones_factorizacion_QR:\n",
      "\n",
      "matriz_Q_R(A)\n",
      "    \r\n",
      "    Descripción:\r\n",
      "            Función que devuelve la matriz Q y R de la factorización QR de una matriz A\r\n",
      "    \r\n",
      "    Parametros:\r\n",
      "            A     np.ndarray que representa una matriz (mxn)\r\n",
      "    \r\n",
      "    Resultado:\r\n",
      "            R     np.ndarray que representa matriz R (mxm) de la factorización A=QR\r\n",
      "            Q     np.ndarray que representa matriz Q (mxm) de la factorización A=QR\r\n",
      "    \r\n",
      "    \r\n",
      "    Para obtener la factorización primero se calcula la matriz auxiliar Arv. La matriz Q \r\n",
      "    (matriz ortogonal tal que Q_transpuesta*Q es igual a la identidad (mxm)\r\n",
      "    se calcula como el producto de las matrices Q_j's, las cuales se obtienen a partir\r\n",
      "    de las diferentes matrices de reflexión householder utilizadas para generar los ceros\r\n",
      "    en las columnas de A para formar la matriz R\r\n",
      "    \r\n",
      "    Q = Q_1*Q_2*Q_3*Q_4\r\n",
      "    \r\n",
      "    Nota: Cada matriz Q_j se calcula con el vector v_j, correspondiente al j-ésimo \r\n",
      "    vector de householder como: Q_j = Identidad(mxm) - Beta*v_j*v_j_transpuesta\r\n",
      "    Dichos vectores v están contenidos dentro de la matriz auxiliar Arv\r\n",
      "    \r\n",
      "    La matriz R es calculada como Q@A. Recordemos que la matriz Arv tiene elementos\r\n",
      "    de R como se puede ver a continuación:\r\n",
      "    \r\n",
      "         [ r11  r12  r13  r14 ]            [ r11  r12  r13  r14 ]\r\n",
      "         [ v21  r22  r23  r24 ]            [  0   r22  r23  r24 ]\r\n",
      "    Arv= [ v31  v32  r33  r34 ]   -->   R= [  0    0   r33  r34 ]\r\n",
      "         [ v41  v42  v43  r44 ]            [  0    0    0   r44 ]\r\n",
      "         [ v51  v52  v53  v54 ]            [  0    0    0    0  ]\n",
      "\n"
     ]
    }
   ],
   "source": [
    "help(fQR.matriz_Q_R)"
   ]
  },
  {
   "cell_type": "code",
   "execution_count": 10,
   "metadata": {},
   "outputs": [
    {
     "name": "stdout",
     "output_type": "stream",
     "text": [
      "def Q_j(Arv,j):\n",
      "    \"\"\"\n",
      "    Función que calcula la matriz Qj (en el proceso de obtención de factorización QR se van \n",
      "    obteniendo n Qj's, que si se multiplican todas da por resultado Q=Q_1*Q_2*...*Q_n)\n",
      "                            \n",
      "    params: Arv   Matriz (mxn) con la info escencial\n",
      "            j     indica el índice de la matriz Q_j\n",
      "\n",
      "    return: Qj    Matriz Q de la j-esima iteración del proceso iterativo de factorización QR\n",
      "    \"\"\"\n",
      "\n",
      "    #Se checa que los parámetros sean congruentes con la funcionalidad\n",
      "    if type(Arv) is not np.ndarray:\n",
      "        sys.exit('Arv debe ser de tipo numpy.ndarray')\n",
      "    elif Arv.shape[0]<Arv.shape[1]:\n",
      "        sys.exit('El numero de renglones de Arv tiene que ser igual o mayor al no. de columnas')\n",
      "    if isinstance(j, int)==False:\n",
      "        sys.exit('El parámetro j deber ser un entero')\n",
      "    elif 1>j or j>Arv.shape[1]:\n",
      "        sys.exit('El parámetro j debe estar en el rango [1,no. columnas de Arv]')\n",
      "    \n",
      "    m,n=Arv.shape\n",
      "    Qj=np.eye(m)\n",
      "    #Para construir Q_j requerimos usar el vector v contenido en Arv contenido\n",
      "    #en la j-1 columna (considerando que en Python la primer columna es la cero)\n",
      "    v=np.concatenate((1,Arv[j:m,(j-1)]), axis=None)\n",
      "    beta=2/(1+Arv[j:m,(j-1)].dot(Arv[j:m,(j-1)]))\n",
      "    Qj[(j-1):m,(j-1):m]=np.eye(m-(j-1))-beta*np.outer(v,v)\n",
      "    return Qj\n",
      "\n"
     ]
    }
   ],
   "source": [
    "lines=inspect.getsource(fQR.Q_j)\n",
    "print(lines)"
   ]
  },
  {
   "cell_type": "code",
   "execution_count": 11,
   "metadata": {},
   "outputs": [
    {
     "name": "stdout",
     "output_type": "stream",
     "text": [
      "Help on function Q_j in module funciones_factorizacion_QR:\n",
      "\n",
      "Q_j(Arv, j)\n",
      "    \n",
      "    Descripción:\n",
      "            Función que calcula la matriz Qj (en el proceso de obtención de \n",
      "            factorización QR se van obteniendo n Qj's, que si se multiplican todas \n",
      "            da por resultado Q=Q_1*Q_2*...*Q_n)\n",
      "    \n",
      "    Parámetros:                            \n",
      "            A_r_v   np.ndarray que representa la matriz auxiliar (mxn) que incluye \n",
      "                elementos de la matriz R y Q, de la factorización QR\n",
      "            j       integer que indica el índice de la matriz Q_j\n",
      "    \n",
      "    Resultado:\n",
      "            Qj      np.ndarray que representa la j-esima transformación de householder\n",
      "    \n",
      "    La matriz Q_j se calcula con el vector v_j, correspondiente al j-ésimo vector \n",
      "    de householder como: Q_j = Identidad(mxm) - Beta*v_j*v_j_transpuesta\n",
      "\n"
     ]
    }
   ],
   "source": [
    "help(fQR.Q_j)"
   ]
  },
  {
   "cell_type": "markdown",
   "metadata": {},
   "source": [
    "## Factorización QR\n",
    "\n",
    "### Ejemplos"
   ]
  },
  {
   "cell_type": "code",
   "execution_count": 12,
   "metadata": {},
   "outputs": [
    {
     "data": {
      "text/plain": [
       "array([[1., 2., 1.],\n",
       "       [2., 3., 2.],\n",
       "       [1., 2., 3.]])"
      ]
     },
     "execution_count": 12,
     "metadata": {},
     "output_type": "execute_result"
    }
   ],
   "source": [
    "#Pra probar el funcionamiento de estas funciones puede definirse una matriz entrada por entrada\n",
    "#o usar la función crear_matriz_aleatoria\n",
    "\n",
    "#Ejemplo a mano (asegurandose de que sus entradas sean tipo dobles -aunque sólo se capture\n",
    "#una parte entera-, pues de lo contrario se tendrán errores por redondeo significativos)\n",
    "A=np.array([[1, 2, 1], [2, 3, 2], [1, 2, 3]], dtype='d')\n",
    "A"
   ]
  },
  {
   "cell_type": "code",
   "execution_count": 13,
   "metadata": {},
   "outputs": [
    {
     "name": "stdout",
     "output_type": "stream",
     "text": [
      "x=\n",
      " [1. 2. 3.]\n",
      "\n",
      "\n",
      "Beta=\n",
      " 0.7327\n",
      "\n",
      "\n",
      "v=\n",
      " [ 1.     -0.7295 -1.0942]\n",
      "\n",
      "\n",
      "R=\n",
      " [[ 0.2673  0.5345  0.8018]\n",
      " [ 0.5345  0.6101 -0.5849]\n",
      " [ 0.8018 -0.5849  0.1227]]\n",
      "\n",
      "\n",
      "Rx=\n",
      " [3.7417 0.     0.    ]\n"
     ]
    }
   ],
   "source": [
    "x=np.array([1,2,3.])\n",
    "print(\"x=\\n\",x)\n",
    "\n",
    "Beta,v=fQR.house(x)\n",
    "print(\"\\n\\nBeta=\\n\",np.round(Beta,4))\n",
    "print(\"\\n\\nv=\\n\",np.round(v,4))\n",
    "\n",
    "#Calculando matriz de reflexión de householder R\n",
    "R=np.eye(3)-Beta*np.outer(v,v)\n",
    "print(\"\\n\\nR=\\n\",np.round(R,4))\n",
    "\n",
    "#Observese como el producto de Rx da por resultado un vector con\n",
    "#todas sus entradas igualas a cero excepto la primera\n",
    "print(\"\\n\\nRx=\\n\",np.round(R@x,4))"
   ]
  },
  {
   "cell_type": "code",
   "execution_count": 14,
   "metadata": {},
   "outputs": [
    {
     "name": "stdout",
     "output_type": "stream",
     "text": [
      "\n",
      "\n",
      "A=\n",
      " [[-2.1009 -1.8837  4.7537 -3.1834]\n",
      " [ 0.2417  3.2784 -2.193   2.485 ]\n",
      " [-3.8868  2.2063 -4.3178 -5.2122]\n",
      " [ 1.0856 -3.2768 -4.541  -0.0408]\n",
      " [-2.7726 -4.6618  4.9549 -5.4084]\n",
      " [-5.2281 -1.9616  3.9745 -1.8642]]\n",
      "\n",
      "\n",
      "Arv=\n",
      " [[ 7.4685e+00  2.1152e+00 -4.4428e+00  6.9954e+00]\n",
      " [-2.5300e-02  7.1419e+00 -4.5209e+00  2.3593e+00]\n",
      " [ 4.0620e-01 -9.6620e-01  8.1757e+00  1.1798e+00]\n",
      " [-1.1340e-01  9.4100e-01  4.2940e-01  4.5067e+00]\n",
      " [ 2.8970e-01  8.8360e-01 -2.0000e-03  5.1550e-01]\n",
      " [ 5.4630e-01 -5.6300e-02  6.5800e-02 -8.4450e-01]]\n",
      "\n",
      "\n",
      "Q=\n",
      " [[-0.2813 -0.1804  0.3288 -0.2613 -0.8095 -0.2379]\n",
      " [ 0.0324  0.4494 -0.0021  0.2664  0.0516 -0.8505]\n",
      " [-0.5204  0.4631 -0.5549 -0.4459 -0.0287  0.0849]\n",
      " [ 0.1454 -0.5019 -0.754   0.2254 -0.2581 -0.2028]\n",
      " [-0.3712 -0.5428  0.1042 -0.367   0.5237 -0.3844]\n",
      " [-0.7    -0.0673  0.0685  0.6902  0.0177  0.1549]]\n",
      "\n",
      "\n",
      "R=\n",
      " [[ 7.4685  2.1152 -4.4428  6.9954]\n",
      " [-0.      7.1419 -4.5209  2.3593]\n",
      " [ 0.      0.      8.1757  1.1798]\n",
      " [ 0.      0.     -0.      4.5067]\n",
      " [-0.      0.     -0.     -0.    ]\n",
      " [ 0.     -0.     -0.     -0.    ]]\n",
      "\n",
      "\n",
      "Q@R=\n",
      " [[-2.1009 -1.8837  4.7537 -3.1834]\n",
      " [ 0.2417  3.2784 -2.193   2.485 ]\n",
      " [-3.8868  2.2063 -4.3178 -5.2122]\n",
      " [ 1.0856 -3.2768 -4.541  -0.0408]\n",
      " [-2.7726 -4.6618  4.9549 -5.4084]\n",
      " [-5.2281 -1.9616  3.9745 -1.8642]]\n",
      "\n",
      "\n",
      "A=\n",
      " [[-2.1009 -1.8837  4.7537 -3.1834]\n",
      " [ 0.2417  3.2784 -2.193   2.485 ]\n",
      " [-3.8868  2.2063 -4.3178 -5.2122]\n",
      " [ 1.0856 -3.2768 -4.541  -0.0408]\n",
      " [-2.7726 -4.6618  4.9549 -5.4084]\n",
      " [-5.2281 -1.9616  3.9745 -1.8642]]\n"
     ]
    }
   ],
   "source": [
    "#Definase una matriz A\n",
    "A=fQR.crear_matriz_aleatoria(6,4,6,-6)\n",
    "print('\\n\\nA=\\n',np.round(A,4))\n",
    "\n",
    "#Calculamos la matriz auxiliar Arv para visualizarla\n",
    "Arv=fQR.matriz_auxiliar_Arv(A)\n",
    "print('\\n\\nArv=\\n',np.round(Arv,4))\n",
    "\n",
    "#Obtenemos la matriz Q y R a partir de Arv\n",
    "Q,R=fQR.matriz_Q_R(A)\n",
    "print('\\n\\nQ=\\n',np.round(Q,4))\n",
    "print('\\n\\nR=\\n',np.round(R,4))\n",
    "\n",
    "#Checamos que QR=A\n",
    "print('\\n\\nQ@R=\\n',np.round(Q@R,4))\n",
    "print('\\n\\nA=\\n',np.round(A,4))"
   ]
  },
  {
   "cell_type": "code",
   "execution_count": 15,
   "metadata": {},
   "outputs": [
    {
     "name": "stdout",
     "output_type": "stream",
     "text": [
      "Q_np=\n",
      " [[-0.2813  0.1804  0.3288  0.2613]\n",
      " [ 0.0324 -0.4494 -0.0021 -0.2664]\n",
      " [-0.5204 -0.4631 -0.5549  0.4459]\n",
      " [ 0.1454  0.5019 -0.754  -0.2254]\n",
      " [-0.3712  0.5428  0.1042  0.367 ]\n",
      " [-0.7     0.0673  0.0685 -0.6902]]\n",
      "\n",
      "R_np=\n",
      " [[ 7.4685  2.1152 -4.4428  6.9954]\n",
      " [ 0.     -7.1419  4.5209 -2.3593]\n",
      " [ 0.      0.      8.1757  1.1798]\n",
      " [ 0.      0.      0.     -4.5067]]\n",
      "\n",
      "Q_np@R_np=\n",
      " [[-2.1009 -1.8837  4.7537 -3.1834]\n",
      " [ 0.2417  3.2784 -2.193   2.485 ]\n",
      " [-3.8868  2.2063 -4.3178 -5.2122]\n",
      " [ 1.0856 -3.2768 -4.541  -0.0408]\n",
      " [-2.7726 -4.6618  4.9549 -5.4084]\n",
      " [-5.2281 -1.9616  3.9745 -1.8642]]\n"
     ]
    }
   ],
   "source": [
    "#Comparemos con el código de numpy\n",
    "Q_np, R_np=np.linalg.qr(A)\n",
    "#notamos que numpy obtiene con signos contrarios Q y R\n",
    "print('Q_np=\\n',np.round(Q_np,4))\n",
    "#Además R no guarda toda la matriz R de mxn, sino sólo la parte superior de nxn\n",
    "print('\\nR_np=\\n',np.round(R_np,4))\n",
    "#la multiplicación da por resultado A\n",
    "print('\\nQ_np@R_np=\\n',np.round(Q_np@R_np,4))"
   ]
  },
  {
   "cell_type": "code",
   "execution_count": 16,
   "metadata": {},
   "outputs": [
    {
     "data": {
      "text/plain": [
       "array([[-0.2813, -0.1804,  0.3288, -0.2613, -0.8095, -0.2379],\n",
       "       [ 0.0324,  0.4494, -0.0021,  0.2664,  0.0516, -0.8505],\n",
       "       [-0.5204,  0.4631, -0.5549, -0.4459, -0.0287,  0.0849],\n",
       "       [ 0.1454, -0.5019, -0.754 ,  0.2254, -0.2581, -0.2028],\n",
       "       [-0.3712, -0.5428,  0.1042, -0.367 ,  0.5237, -0.3844],\n",
       "       [-0.7   , -0.0673,  0.0685,  0.6902,  0.0177,  0.1549]])"
      ]
     },
     "execution_count": 16,
     "metadata": {},
     "output_type": "execute_result"
    }
   ],
   "source": [
    "#Observese que Q=(Q_4*Q_3*Q_2*Q_1)_transpuesta\n",
    "np.round(np.transpose(fQR.Q_j(Arv,4)@fQR.Q_j(Arv,3)@fQR.Q_j(Arv,2)@fQR.Q_j(Arv,1)),4)"
   ]
  },
  {
   "cell_type": "code",
   "execution_count": 17,
   "metadata": {},
   "outputs": [
    {
     "name": "stdout",
     "output_type": "stream",
     "text": [
      "[[ 1. -0. -0. -0. -0. -0.]\n",
      " [-0.  1.  0.  0.  0. -0.]\n",
      " [-0.  0.  1. -0. -0. -0.]\n",
      " [-0.  0. -0.  1.  0. -0.]\n",
      " [-0.  0. -0.  0.  1. -0.]\n",
      " [-0. -0. -0. -0. -0.  1.]]\n"
     ]
    }
   ],
   "source": [
    "#Puede comprobarse que Q_transpuesta*Q es igual a la identidad\n",
    "print(np.round(np.transpose(Q)@Q,4))"
   ]
  },
  {
   "cell_type": "code",
   "execution_count": 18,
   "metadata": {},
   "outputs": [
    {
     "name": "stdout",
     "output_type": "stream",
     "text": [
      "\n",
      "\n",
      "A=\n",
      " [[ 2.  5. -3. -2.  2.]\n",
      " [ 0. -1.  5.  5.  1.]\n",
      " [ 5. -1. -3. -4. -1.]\n",
      " [ 1.  4. -3. -3. -3.]\n",
      " [ 4.  2.  5. -2.  1.]]\n",
      "\n",
      "Q 1 :\n",
      " [[ 0.2949  0.      0.7372  0.1474  0.5898]\n",
      " [ 0.      1.      0.      0.      0.    ]\n",
      " [ 0.7372  0.      0.2292 -0.1542 -0.6166]\n",
      " [ 0.1474  0.     -0.1542  0.9692 -0.1233]\n",
      " [ 0.5898  0.     -0.6166 -0.1233  0.5067]]\n",
      "\n",
      " Q1 @ A=\n",
      " [[ 6.7823  2.5065 -0.5898 -5.1605  0.    ]\n",
      " [ 0.     -1.      5.      5.      1.    ]\n",
      " [-0.      1.607  -5.5199 -0.6957  1.091 ]\n",
      " [-0.      4.5214 -3.504  -2.3391 -2.5818]\n",
      " [-0.      4.0856  2.9841  0.6435  2.6728]]\n",
      "\n",
      "Q 2 :\n",
      " [[ 1.      0.      0.      0.      0.    ]\n",
      " [ 0.     -0.1567  0.2518  0.7086  0.6403]\n",
      " [ 0.      0.2518  0.9452 -0.1543 -0.1394]\n",
      " [ 0.      0.7086 -0.1543  0.566  -0.3922]\n",
      " [ 0.      0.6403 -0.1394 -0.3922  0.6456]]\n",
      "\n",
      " Q2 @ Q1 @ A=\n",
      " [[ 6.7823  2.5065 -0.5898 -5.1605  0.    ]\n",
      " [-0.      6.381  -2.7459 -2.2042  0.    ]\n",
      " [-0.      0.     -3.8335  0.8728  1.3087]\n",
      " [ 0.      0.      1.2409  2.074  -1.9692]\n",
      " [-0.      0.      7.2716  4.6312  3.2264]]\n",
      "\n",
      "Q 3 :\n",
      " [[ 1.      0.      0.      0.      0.    ]\n",
      " [ 0.      1.      0.      0.      0.    ]\n",
      " [ 0.      0.     -0.4611  0.1493  0.8747]\n",
      " [ 0.      0.      0.1493  0.9848 -0.0894]\n",
      " [ 0.      0.      0.8747 -0.0894  0.4764]]\n",
      "\n",
      " Q3 @ Q2 @ Q1 @ A=\n",
      " [[ 6.7823  2.5065 -0.5898 -5.1605  0.    ]\n",
      " [-0.      6.381  -2.7459 -2.2042  0.    ]\n",
      " [ 0.      0.      8.3134  3.9579  1.9246]\n",
      " [ 0.      0.     -0.      1.7588 -2.0321]\n",
      " [-0.      0.     -0.      2.7843  2.8577]]\n",
      "\n",
      "Q 4 :\n",
      " [[ 1.      0.      0.      0.      0.    ]\n",
      " [ 0.      1.      0.      0.      0.    ]\n",
      " [ 0.      0.      1.      0.      0.    ]\n",
      " [ 0.      0.      0.      0.5341  0.8454]\n",
      " [ 0.      0.      0.      0.8454 -0.5341]]\n",
      "\n",
      " Q4 @ Q3 @ Q2 @ Q1 @ A=\n",
      " [[ 6.7823  2.5065 -0.5898 -5.1605  0.    ]\n",
      " [-0.      6.381  -2.7459 -2.2042  0.    ]\n",
      " [ 0.      0.      8.3134  3.9579  1.9246]\n",
      " [-0.      0.     -0.      3.2933  1.3307]\n",
      " [ 0.      0.     -0.     -0.     -3.2442]]\n",
      "\n",
      "Q 5 :\n",
      " [[ 1.  0.  0.  0.  0.]\n",
      " [ 0.  1.  0.  0.  0.]\n",
      " [ 0.  0.  1.  0.  0.]\n",
      " [ 0.  0.  0.  1.  0.]\n",
      " [ 0.  0.  0.  0. -1.]]\n",
      "\n",
      " Q5 @ Q4 @ Q3 @ Q2 @ Q1 @ A=\n",
      " [[ 6.7823  2.5065 -0.5898 -5.1605  0.    ]\n",
      " [-0.      6.381  -2.7459 -2.2042  0.    ]\n",
      " [ 0.      0.      8.3134  3.9579  1.9246]\n",
      " [-0.      0.     -0.      3.2933  1.3307]\n",
      " [-0.     -0.      0.      0.      3.2442]]\n",
      "\n",
      "\n",
      "\n",
      "Resultados finales:\n",
      "\n",
      "R es el resultado de multiplicar todas las Qjs a A\n",
      " [[ 6.7823  2.5065 -0.5898 -5.1605  0.    ]\n",
      " [-0.      6.381  -2.7459 -2.2042  0.    ]\n",
      " [ 0.      0.      8.3134  3.9579  1.9246]\n",
      " [-0.      0.     -0.      3.2933  1.3307]\n",
      " [-0.     -0.      0.      0.      3.2442]]\n",
      "\n",
      "Q es el resultado de multiplicar todas las Qjs y transponer:\n",
      " [[ 0.2949  0.6677 -0.1194  0.4452  0.5047]\n",
      " [ 0.     -0.1567  0.5497  0.7527 -0.3266]\n",
      " [ 0.7372 -0.4463 -0.456   0.1899 -0.1156]\n",
      " [ 0.1474  0.5689 -0.1625 -0.1038 -0.7857]\n",
      " [ 0.5898  0.0818  0.6703 -0.434   0.0886]]\n",
      "\n",
      "Q@R:\n",
      " [[ 2.  5. -3. -2.  2.]\n",
      " [-0. -1.  5.  5.  1.]\n",
      " [ 5. -1. -3. -4. -1.]\n",
      " [ 1.  4. -3. -3. -3.]\n",
      " [ 4.  2.  5. -2.  1.]]\n",
      "\n",
      "A:\n",
      " [[ 2.  5. -3. -2.  2.]\n",
      " [ 0. -1.  5.  5.  1.]\n",
      " [ 5. -1. -3. -4. -1.]\n",
      " [ 1.  4. -3. -3. -3.]\n",
      " [ 4.  2.  5. -2.  1.]]\n"
     ]
    }
   ],
   "source": [
    "#Ejemplo ilustrativo de cómo obtener Q y R, visualizando cada iteración\n",
    "A=fQR.crear_matriz_aleatoria(5,5,5,-5,True)\n",
    "print('\\n\\nA=\\n',np.round(A,4))\n",
    "\n",
    "m=A.shape[0]\n",
    "n=A.shape[1]\n",
    "Q=np.eye(m)\n",
    "R=copy.copy(A)\n",
    "Arv=fQR.matriz_auxiliar_Arv(A)\n",
    "for j in range(n):\n",
    "    if j==0:\n",
    "        cadena='Q'+str(j+1)\n",
    "    else:\n",
    "        cadena='Q'+str(j+1) + ' @ ' + cadena\n",
    "    Qj=fQR.Q_j(Arv,j+1)\n",
    "    print('\\nQ',j+1,':\\n',np.round(Qj,4))\n",
    "    Q=Q@Qj\n",
    "    R=fQR.Q_j(Arv,j+1)@R\n",
    "    print('\\n',cadena,'@ A=\\n',np.round(R,4))\n",
    "\n",
    "print('\\n\\n\\nResultados finales:')\n",
    "print('\\nR es el resultado de multiplicar todas las Qjs a A\\n',np.round(R,4))\n",
    "print('\\nQ es el resultado de multiplicar todas las Qjs y transponer:\\n',np.round(Q,4))\n",
    "print('\\nQ@R:\\n',np.round(Q@R,4))\n",
    "print('\\nA:\\n',np.round(A,4))"
   ]
  },
  {
   "cell_type": "code",
   "execution_count": 19,
   "metadata": {},
   "outputs": [
    {
     "data": {
      "text/plain": [
       "array([[ 6.48428505e+01,  9.54616559e+00,  1.80734953e+00, ...,\n",
       "         5.81284123e+00,  4.44555726e+00, -6.60845037e+00],\n",
       "       [ 6.43909793e-02,  6.12381190e+01,  1.23759208e+01, ...,\n",
       "        -1.02652634e+00,  1.00065472e+00,  6.31406307e+00],\n",
       "       [ 9.55022008e-02, -1.26435010e-01,  6.00771472e+01, ...,\n",
       "         2.48422428e+00, -7.91513369e-01,  4.02960943e+00],\n",
       "       ...,\n",
       "       [-2.03965498e-02,  1.73125719e-01, -7.31552783e-02, ...,\n",
       "        -4.86030984e-01, -2.96262704e-01,  2.39843273e-01],\n",
       "       [ 6.10826392e-02,  8.67458065e-02,  7.83726270e-02, ...,\n",
       "         1.61102451e-02,  6.10936989e-02,  1.48438546e-02],\n",
       "       [-1.05816378e-01, -5.21263302e-02, -4.19837982e-02, ...,\n",
       "        -4.16923893e-01, -2.99205947e-01,  2.12789428e-01]])"
      ]
     },
     "execution_count": 19,
     "metadata": {},
     "output_type": "execute_result"
    }
   ],
   "source": [
    "#Se prueba un ejemplo más grande la función matriz_auxiliar_Arv\n",
    "#que es base para la obtención de Q y R\n",
    "A=fQR.crear_matriz_aleatoria(11**2,10**2,10,-10,False)\n",
    "Arv=fQR.matriz_auxiliar_Arv(A)\n",
    "Arv"
   ]
  },
  {
   "cell_type": "markdown",
   "metadata": {},
   "source": [
    "## Solución de Sistemas de Ecuaciones Lineales\n",
    "\n",
    "### Funciones"
   ]
  },
  {
   "cell_type": "code",
   "execution_count": 20,
   "metadata": {},
   "outputs": [
    {
     "name": "stdout",
     "output_type": "stream",
     "text": [
      "def Solucion_SEL_QR_nxn(A,b):\n",
      "    \"\"\"\n",
      "    Función que obtiene la solución de un sistema de ecuaciones lineales (SEL) con n ecuaciones y n incognitas\n",
      "            \n",
      "    params: A   Matriz (nxn) que representa los coeficientas de las ecuaciones\n",
      "            b   vector (nx1) constantes del sistema\n",
      "\n",
      "    return: x   vector que satisface (Ax=b)\n",
      "    \"\"\"\n",
      "\n",
      "    #Se checa que los parámetros sean congruentes con la funcionalidad\n",
      "    if type(A) is not np.ndarray or type(b) is not np.ndarray: #esto implica que A y b tienen más de 1 elemento\n",
      "        sys.exit('A y b deben ser de tipo numpy.ndarray')\n",
      "    m,n = A.shape\n",
      "    if m<n:\n",
      "        sys.exit('EL numero de renglones de A debe ser mayor o igual al no. de columnas')\n",
      "    elif b.shape[0]!= m:\n",
      "    #elif b.shape[0]!= m or b.shape[1]!= 1:\n",
      "        sys.exit('b debe representar un vector columna (mx1), m=no. renglones de A')\n",
      "    else:\n",
      "        try:\n",
      "            flag=b.shape[1]\n",
      "        except Exception:\n",
      "            flag=1\n",
      "        if flag!=1:\n",
      "            sys.exit(\"b debe representar un vector de m renglones y 1 columna\")\n",
      "\n",
      "    Q,R=matriz_Q_R(A)\n",
      "    b_prima=np.transpose(Q)@b\n",
      "    x=solve_triangular(R, b_prima,lower=False)\n",
      "    return x\n",
      "\n"
     ]
    }
   ],
   "source": [
    "lines=inspect.getsource(fQR.Solucion_SEL_QR_nxn)\n",
    "print(lines)"
   ]
  },
  {
   "cell_type": "code",
   "execution_count": 21,
   "metadata": {},
   "outputs": [
    {
     "name": "stdout",
     "output_type": "stream",
     "text": [
      "Help on function Solucion_SEL_QR_nxn in module funciones_factorizacion_QR:\n",
      "\n",
      "Solucion_SEL_QR_nxn(A, b)\n",
      "    \r\n",
      "    Descripción:\r\n",
      "            Función que obtiene la solución de un sistema de ecuaciones lineales (SEL) con \r\n",
      "        n ecuaciones y n incognitas\r\n",
      "    \r\n",
      "    Parámetros:                            \r\n",
      "            A      Matriz (nxn) que representa los coeficientas de las ecuaciones \r\n",
      "               elementos de la matriz R y Q, de la factorización QR\r\n",
      "            b      vector (nx1) constantes del sistema\r\n",
      "    \r\n",
      "    Resultado:\r\n",
      "            x      vector que satisface (Ax=b)\r\n",
      "    \r\n",
      "    El Sistema de Ecuaciones Lineales establecido como Ax=b, es resuelto con esta función\r\n",
      "    mediante la factorización QR como a continuación se explica:\r\n",
      "    \r\n",
      "      Si A*x = b y A = Q*R, con A matriz (mxn), b (mx1) y Q una matriz ortogonal (mxm) y \r\n",
      "                                R (mxn) una matriz triangular superior\r\n",
      "      entonces Q*R*x = b.\r\n",
      "      \r\n",
      "      Aprovechando la propiedad de Q^(-1)=Q, es decir, Q^(-1)*Q=Identidad,\r\n",
      "      si multiplicamos ambos lados de la última ecuación por Q^(-1) por la izquierda se tiene\r\n",
      "      \r\n",
      "      Q^(-1)*Q*R*x = Q^(-1)*b\r\n",
      "      \r\n",
      "      que equivale a:\r\n",
      "      \r\n",
      "      R*x = Q*b\r\n",
      "      \r\n",
      "      Es decir, el resolver el sistema Ax=b es equivalente a resolver R*x=Q*b, donde\r\n",
      "      R es una matriz triangular superior, por lo que se puede resolver este sistema con un \r\n",
      "      método de sustituición hacia atrás que implica una simple y paulatina sustitución\r\n",
      "      de valores. Nótese que por las propiedades de Q, no fue nunca necesario calcular\r\n",
      "      su inversa, lo cual hubiera implicado cálculos adicionales\n",
      "\n"
     ]
    }
   ],
   "source": [
    "help(fQR.Solucion_SEL_QR_nxn)"
   ]
  },
  {
   "cell_type": "markdown",
   "metadata": {},
   "source": [
    "## Eliminación por bloques\n",
    "\n",
    "### Funciones"
   ]
  },
  {
   "cell_type": "code",
   "execution_count": 22,
   "metadata": {},
   "outputs": [
    {
     "name": "stdout",
     "output_type": "stream",
     "text": [
      "def crear_bloques(A, b, m1=False, n1=False):\n",
      "    \"\"\"\n",
      "    Esta es la función para la creación de bloques usando un arreglo de numpy\n",
      "    \n",
      "    params: A   Matriz (mxn) que representa los coeficientas de las ecuaciones\n",
      "            b   vector (mx1) constantes del sistema\n",
      "            n1  Numero de renglones que tendrá el 1er bloque\n",
      "            m1  Numero de columnas que tendrá el 1er bloque\n",
      "    \n",
      "    return: A11 Fraccion de la matriz dividida\n",
      "            A12 Fraccion de la matriz dividida\n",
      "            A12 Fraccion de la matriz dividida\n",
      "            A12 Fraccion de la matriz dividida\n",
      "            b1  Fraccion del vector dividido\n",
      "            b2  Fraccion del vector dividido\n",
      "    \"\"\"\n",
      "\n",
      "    #Se checa que los parámetros sean congruentes con la funcionalidad\n",
      "    if type(A) is not np.ndarray or type(b) is not np.ndarray: #esto implica que A y b tienen más de 1 elemento\n",
      "        sys.exit('A y b deben ser de tipo numpy.ndarray')\n",
      "    m,n = A.shape\n",
      "    if m<n:\n",
      "        sys.exit('EL numero de renglones de A debe ser mayor o igual al no. de columnas')\n",
      "    elif b.shape[0]!= m:\n",
      "    #elif b.shape[0]!= m or b.shape[1]!= 1:\n",
      "        sys.exit('b debe representar un vector columna (mx1), m=no. renglones de A')\n",
      "    else:\n",
      "        try:\n",
      "            flag=b.shape[1]\n",
      "        except Exception:\n",
      "            flag=1\n",
      "        if flag!=1:\n",
      "            sys.exit(\"b debe representar un vector de m renglones y 1 columna\")    \n",
      "    \n",
      "    if m1==False:\n",
      "        m1=m//2\n",
      "    if n1==False:\n",
      "        n1=n//2\n",
      "    \n",
      "    b1 = b[:m1]\n",
      "    b2 = b[m1:m]\n",
      "    A11 = A[:m1,:n1]\n",
      "    A21 = A[m1:m,:n1]\n",
      "    A12 = A[:m1,n1:n]\n",
      "    A22 = A[m1:m,n1:n]\n",
      "\n",
      "    return A11,A21,A12,A22,b1,b2\n",
      "\n"
     ]
    }
   ],
   "source": [
    "lines=inspect.getsource(fQR.crear_bloques)\n",
    "print(lines)"
   ]
  },
  {
   "cell_type": "code",
   "execution_count": 23,
   "metadata": {},
   "outputs": [
    {
     "name": "stdout",
     "output_type": "stream",
     "text": [
      "Help on function crear_bloques in module funciones_factorizacion_QR:\n",
      "\n",
      "crear_bloques(A, b, m1=False, n1=False)\n",
      "    \r\n",
      "    Descripción:\r\n",
      "      Función que divide la matriz A(mxn) y el vector b(mx1) en cuatro submatrices y dos vectores respectivamente\r\n",
      "    \r\n",
      "    Parámetros:                            \r\n",
      "      A     Matriz (mxn) \r\n",
      "      b     vector (mx1)\r\n",
      "      m1    Número de renglones del los bloques superiores\r\n",
      "      n1    Número de columnas de los bloques de la izquierda\r\n",
      "    \r\n",
      "      En el caso en que no se de m1 o n1, éstos parámetros serán igual a la parte entera del número de renglones o el número de columnas entre dos.\r\n",
      "    \r\n",
      "      b es un parámetro opcional, si no es introducido solo regresa las submatrices de A\r\n",
      "    \r\n",
      "    \r\n",
      "    Resultado:\r\n",
      "      A11   numpy.ndarray que representa la matriz de dimensión m1xn1\r\n",
      "      A12   numpy.ndarray que representa la matriz de dimensión m2xn1\r\n",
      "      A12   numpy.ndarray que representa la matriz de dimensión m1xn2\r\n",
      "      A22   numpy.ndarray que representa la matriz de dimensión m2xn2\r\n",
      "      b1    numpy.ndarray que representa el vector de longitud m1\r\n",
      "      b2    numpy.ndarray que representa el vector de longitud m2\r\n",
      "    \r\n",
      "    Ejemplo:\r\n",
      "         [ A11  A12 ]\r\n",
      "    A =  [ A21  A22 ]\r\n",
      "    \r\n",
      "    b =  [  b1 ]\r\n",
      "         [  b2 ]\n",
      "\n"
     ]
    }
   ],
   "source": [
    "help(fQR.crear_bloques)"
   ]
  },
  {
   "cell_type": "code",
   "execution_count": 24,
   "metadata": {},
   "outputs": [
    {
     "name": "stdout",
     "output_type": "stream",
     "text": [
      "def eliminacion_bloques(A,b, m1=False, n1=False):\n",
      "    \"\"\"\n",
      "    Función que obtiene la solución de un sistema de ecuaciones lineala (SEL) con n ecuaciones y n incognitas\n",
      "            \n",
      "    params: A   Matriz (mxn) que representa los coeficientas de las ecuaciones\n",
      "            b   vector (mx1) constantes del sistema\n",
      "    \n",
      "    return: x1 Solucion al 1er sistema de ecuaciones obtenido con la división por bloques\n",
      "            x2 Solucion al 2do sistema de ecuaciones obtenido con la división por bloques\n",
      "    \"\"\"\n",
      "    \n",
      "    #Se checa que los parámetros sean congruentes con la funcionalidad\n",
      "    if type(A) is not np.ndarray or type(b) is not np.ndarray: #esto implica que A y b tienen más de 1 elemento\n",
      "        sys.exit('A y b deben ser de tipo numpy.ndarray')\n",
      "    m,n = A.shape\n",
      "    if m<n:\n",
      "        sys.exit('EL numero de renglones de A debe ser mayor o igual al no. de columnas')\n",
      "        \n",
      "    elif b.shape[0]!= m:\n",
      "        sys.exit('b debe representar un vector columna (mx1), m=no. renglones de A')\n",
      "    else:\n",
      "        try:\n",
      "            flag=b.shape[1]\n",
      "        except Exception:\n",
      "            flag=1\n",
      "        if flag!=1:\n",
      "            sys.exit(\"b debe representar un vector de m renglones y 1 columna\")\n",
      "    \n",
      "    if m1==False:\n",
      "        m1=m//2\n",
      "    if n1==False:\n",
      "        n1=n//2\n",
      "\n",
      "    if np.linalg.det(A)==0:\n",
      "        sys.exit('A debe ser no singular')\n",
      "\n",
      "    A11,A21,A12,A22,b1,b2=crear_bloques(A,b,m1,n1)\n",
      "\n",
      "    # 1. Calcular Y=A11^{-1}A12 y y=A11^{-1}b1 teniendo cuidado en no calcular la inversa sino un sistema de ecuaciones lineales\n",
      "    if np.linalg.det(A11)==0:\n",
      "        sys.exit('A11 debe ser no singular')\n",
      "    y=Solucion_SEL_QR_nxn(A11,b1)\n",
      "    #y=np.linalg.solve(A11,b1)\n",
      "    \n",
      "    Y=np.zeros((n1,n-n1))\n",
      "    for j in range(n-n1):\n",
      "        Y[:,j]=Solucion_SEL_QR_nxn(A11,A12[:,j])\n",
      "        #Y[:,j]=np.linalg.solve(A11,A12[:,j])\n",
      "    \n",
      "    # 2. Calcular el complemento de Schur del bloque A11 en A. Calcular b_hat\n",
      "    S=A22-A21@Y\n",
      "    b_h=b2-A21@y\n",
      "\n",
      "    # 3. Resolver Sx2 = b_hat\n",
      "    x2=Solucion_SEL_QR_nxn(S,b_h)\n",
      "    #x2=np.linalg.solve(S,b_h)\n",
      "\n",
      "    # 4. Resolver A11x1 = b1-A12x2\n",
      "    x1=Solucion_SEL_QR_nxn(A11,b1-A12@x2)\n",
      "    #x1=np.linalg.solve(A11,b1-A12@x2)\n",
      "\n",
      "    return np.concatenate((x1,x2), axis=0)\n",
      "\n"
     ]
    }
   ],
   "source": [
    "lines=inspect.getsource(fQR.eliminacion_bloques)\n",
    "print(lines)"
   ]
  },
  {
   "cell_type": "code",
   "execution_count": 25,
   "metadata": {},
   "outputs": [
    {
     "name": "stdout",
     "output_type": "stream",
     "text": [
      "Help on function eliminacion_bloques in module funciones_factorizacion_QR:\n",
      "\n",
      "eliminacion_bloques(A, b, m1=False, n1=False)\n",
      "    \r\n",
      "    Descripción:\r\n",
      "      Función que usa la eliminación por bloques para resolver un sistema de ecuaciones Ax=b.\r\n",
      "    \r\n",
      "    Parámetros:                            \r\n",
      "      A     numpy.ndarray que representa la matriz (mxn) que representan loc coeficientes del sistema de      ecuaciones\r\n",
      "      b     numpy.ndarray que representa el vector (mx1) que representan el lado derecho del sistema de       ecuaciones\r\n",
      "      m1    Número de renglones del los bloques superiores del subconjunto a resolver\r\n",
      "      n1    Número de columnas de los bloques del subconjunto a resolver\r\n",
      "    \r\n",
      "      En el caso en que no se de m1 o n1, éstos parámetros serán igual a la parte entera del número de renglones o el número de columnas entre dos.\r\n",
      "    \r\n",
      "    \r\n",
      "    Resultado:\r\n",
      "      x   numpy.ndarray que representa la solución al sistema de ecuaciones Ax=b\r\n",
      "    \r\n",
      "    Este método consiste en eliminar un subconjunto de variables y resolver un sistema más pequeño. Si el sistema más pequeño asociado a la submatriz puede resolverse entonces este método puede tener más eficiencia que uno que no trabaja por bloques.\n",
      "\n"
     ]
    }
   ],
   "source": [
    "help(fQR.eliminacion_bloques)"
   ]
  },
  {
   "cell_type": "markdown",
   "metadata": {},
   "source": [
    "## Solución de Sistemas de Ecuaciones Lineales\n",
    "\n",
    "### Ejemplos"
   ]
  },
  {
   "cell_type": "markdown",
   "metadata": {},
   "source": [
    "### A) Sistema con soluciones únicas"
   ]
  },
  {
   "cell_type": "code",
   "execution_count": 26,
   "metadata": {},
   "outputs": [
    {
     "name": "stdout",
     "output_type": "stream",
     "text": [
      "A: [[-1.73 -3.47 -4.16 -5.36  0.84 -5.45 -4.98 -0.54 -5.54 -1.77  5.76  3.76]\n",
      " [-4.09  0.33  0.6   2.32 -5.85 -5.95 -1.35 -5.47  1.03  4.84  4.52  2.77]\n",
      " [-1.2  -3.28  2.49  1.53  2.49 -4.99 -5.45 -3.82 -0.34 -2.2   5.91 -2.36]\n",
      " [ 1.78  2.03  4.69 -3.48 -5.7  -4.18  2.19  3.95 -2.88 -1.28 -5.22 -3.99]\n",
      " [ 2.52 -2.01 -4.1   0.09 -0.97 -4.63  1.44  3.07 -1.44 -1.86  0.4  -1.66]\n",
      " [ 3.03 -5.96 -5.28 -2.72 -1.29  3.47 -2.91 -0.13  0.38 -2.44 -2.3   2.39]\n",
      " [ 3.74 -1.47 -3.27 -1.26 -4.22 -5.82  1.63 -0.48  3.27  3.03  5.89 -2.83]\n",
      " [ 0.77 -2.38  2.28  2.06 -3.89  4.69  4.12  4.57 -2.01 -2.44 -5.42  5.92]\n",
      " [-4.38 -4.27 -0.61  1.27 -5.22 -2.35  0.96 -5.74 -4.75  3.61  5.88  2.15]\n",
      " [-5.   -3.6  -2.94 -1.03 -1.39 -3.16 -4.28  3.44 -3.35 -3.34  1.37 -5.5 ]\n",
      " [ 0.63 -5.02  2.77 -5.09  2.58 -4.43 -0.23 -1.14  2.63  5.86  4.28  1.51]\n",
      " [-5.52  2.86 -1.   -4.47  1.03  0.15 -3.12 -2.09 -0.5  -5.36 -3.71  2.81]]\n",
      "b: [[ 4.89]\n",
      " [ 2.01]\n",
      " [-2.4 ]\n",
      " [ 1.24]\n",
      " [-1.86]\n",
      " [-4.35]\n",
      " [-4.84]\n",
      " [ 3.81]\n",
      " [ 3.32]\n",
      " [-2.48]\n",
      " [-1.74]\n",
      " [-0.13]]\n"
     ]
    }
   ],
   "source": [
    "#Generamos un sistema de ecuaciones lineales\n",
    "m=12\n",
    "n=12\n",
    "A=np.round(fQR.crear_matriz_aleatoria(m,n,6,-6,False),2)\n",
    "b = np.round(fQR.crear_matriz_aleatoria(m,1,6,-6,False),2)\n",
    "print(\"A:\",A)\n",
    "print(\"b:\",b)"
   ]
  },
  {
   "cell_type": "markdown",
   "metadata": {},
   "source": [
    "Primero resolvamos el sistema de ecuaciones usando la paquetería de numpy para comparar."
   ]
  },
  {
   "cell_type": "code",
   "execution_count": 27,
   "metadata": {},
   "outputs": [
    {
     "data": {
      "text/plain": [
       "array([[ 5.52334977e-02],\n",
       "       [ 5.81121801e-01],\n",
       "       [ 2.34978880e-01],\n",
       "       [ 1.16914994e-01],\n",
       "       [ 2.63362950e-04],\n",
       "       [ 6.23594098e-02],\n",
       "       [-2.32115472e-01],\n",
       "       [ 3.53451975e-01],\n",
       "       [-9.35628452e-01],\n",
       "       [ 4.02030917e-01],\n",
       "       [ 2.07118604e-01],\n",
       "       [ 6.15957349e-01]])"
      ]
     },
     "execution_count": 27,
     "metadata": {},
     "output_type": "execute_result"
    }
   ],
   "source": [
    "np.linalg.solve(A,b)"
   ]
  },
  {
   "cell_type": "markdown",
   "metadata": {},
   "source": [
    "Ahora usemos la factorización QR"
   ]
  },
  {
   "cell_type": "code",
   "execution_count": 28,
   "metadata": {},
   "outputs": [
    {
     "data": {
      "text/plain": [
       "array([[ 5.52334977e-02],\n",
       "       [ 5.81121801e-01],\n",
       "       [ 2.34978880e-01],\n",
       "       [ 1.16914994e-01],\n",
       "       [ 2.63362950e-04],\n",
       "       [ 6.23594098e-02],\n",
       "       [-2.32115472e-01],\n",
       "       [ 3.53451975e-01],\n",
       "       [-9.35628452e-01],\n",
       "       [ 4.02030917e-01],\n",
       "       [ 2.07118604e-01],\n",
       "       [ 6.15957349e-01]])"
      ]
     },
     "execution_count": 28,
     "metadata": {},
     "output_type": "execute_result"
    }
   ],
   "source": [
    "x=fQR.Solucion_SEL_QR_nxn(A,b)\n",
    "x"
   ]
  },
  {
   "cell_type": "markdown",
   "metadata": {},
   "source": [
    "Por último usemos eliminación por bloques con QR"
   ]
  },
  {
   "cell_type": "code",
   "execution_count": 29,
   "metadata": {},
   "outputs": [
    {
     "data": {
      "text/plain": [
       "array([[ 5.52334977e-02],\n",
       "       [ 5.81121801e-01],\n",
       "       [ 2.34978880e-01],\n",
       "       [ 1.16914994e-01],\n",
       "       [ 2.63362950e-04],\n",
       "       [ 6.23594098e-02],\n",
       "       [-2.32115472e-01],\n",
       "       [ 3.53451975e-01],\n",
       "       [-9.35628452e-01],\n",
       "       [ 4.02030917e-01],\n",
       "       [ 2.07118604e-01],\n",
       "       [ 6.15957349e-01]])"
      ]
     },
     "execution_count": 29,
     "metadata": {},
     "output_type": "execute_result"
    }
   ],
   "source": [
    "fQR.eliminacion_bloques(A,b)"
   ]
  },
  {
   "cell_type": "code",
   "execution_count": null,
   "metadata": {},
   "outputs": [],
   "source": []
  },
  {
   "cell_type": "code",
   "execution_count": null,
   "metadata": {},
   "outputs": [],
   "source": []
  },
  {
   "cell_type": "markdown",
   "metadata": {},
   "source": [
    "### B) Sistema sin solución"
   ]
  },
  {
   "cell_type": "code",
   "execution_count": 30,
   "metadata": {},
   "outputs": [],
   "source": [
    "# #Generamos un sistema de ecuaciones lineales\n",
    "# A = np.array([[1, 0, 0], [0, 1, 0], [0, 0, 0]], dtype='d')\n",
    "# b = np.array([[3], [3], [5]], dtype='d')\n",
    "# print(\"A:\")\n",
    "# pprint.pprint(A)\n",
    "# print(\"b:\")\n",
    "# pprint.pprint(b)"
   ]
  },
  {
   "cell_type": "markdown",
   "metadata": {},
   "source": [
    "Primero resolvamos el sistema de ecuaciones usando la paquetería de numpy para comparar."
   ]
  },
  {
   "cell_type": "code",
   "execution_count": 31,
   "metadata": {},
   "outputs": [],
   "source": [
    "# np.linalg.solve(A,b)"
   ]
  },
  {
   "cell_type": "markdown",
   "metadata": {},
   "source": [
    "* Marca un error: \"Singular matrix\""
   ]
  },
  {
   "cell_type": "markdown",
   "metadata": {},
   "source": [
    "Ahora usemos la factorización QR"
   ]
  },
  {
   "cell_type": "code",
   "execution_count": 32,
   "metadata": {},
   "outputs": [],
   "source": [
    "# x=fQR.Solucion_SEL_QR_nxn(A,b)\n",
    "# x"
   ]
  },
  {
   "cell_type": "code",
   "execution_count": 33,
   "metadata": {},
   "outputs": [],
   "source": [
    "#Checamos que sea solucion (debe ser igual al vector b)\n",
    "# A@x"
   ]
  },
  {
   "cell_type": "markdown",
   "metadata": {},
   "source": [
    "Por último usemos eliminación por bloques con QR"
   ]
  },
  {
   "cell_type": "code",
   "execution_count": 34,
   "metadata": {},
   "outputs": [],
   "source": [
    "# fQR.eliminacion_bloques(A,b)"
   ]
  },
  {
   "cell_type": "markdown",
   "metadata": {},
   "source": [
    "* Se concluye que es un sistema de rectas paralelas, por lo tanto no existe solúción."
   ]
  },
  {
   "cell_type": "markdown",
   "metadata": {},
   "source": [
    "### C) Sistema con infinitas soluciones"
   ]
  },
  {
   "cell_type": "code",
   "execution_count": 35,
   "metadata": {},
   "outputs": [],
   "source": [
    "# #Generamos un sistema de ecuaciones lineales\n",
    "# A = np.array([[1, 0, 0], [0, 1, 0], [0, 0, 0]], dtype='d')\n",
    "# b = np.array([[3], [3], [0]], dtype='d')\n",
    "# print(\"A:\")\n",
    "# pprint.pprint(A)\n",
    "# print(\"b:\")\n",
    "# pprint.pprint(b)"
   ]
  },
  {
   "cell_type": "markdown",
   "metadata": {},
   "source": [
    "Primero resolvamos el sistema de ecuaciones usando la paquetería de numpy para comparar."
   ]
  },
  {
   "cell_type": "code",
   "execution_count": 36,
   "metadata": {},
   "outputs": [],
   "source": [
    "# np.linalg.solve(A,b)"
   ]
  },
  {
   "cell_type": "markdown",
   "metadata": {},
   "source": [
    "* Marca un error: \"Singular matrix\""
   ]
  },
  {
   "cell_type": "markdown",
   "metadata": {},
   "source": [
    "Ahora usemos la factorización QR"
   ]
  },
  {
   "cell_type": "code",
   "execution_count": 37,
   "metadata": {},
   "outputs": [],
   "source": [
    "# x=fQR.Solucion_SEL_QR_nxn(A,b)\n",
    "# x"
   ]
  },
  {
   "cell_type": "code",
   "execution_count": 38,
   "metadata": {},
   "outputs": [],
   "source": [
    "#Checamos que sea solucion (debe ser igual al vector b)\n",
    "# A@x"
   ]
  },
  {
   "cell_type": "markdown",
   "metadata": {},
   "source": [
    "Por último usemos eliminación por bloques con QR"
   ]
  },
  {
   "cell_type": "code",
   "execution_count": 39,
   "metadata": {},
   "outputs": [],
   "source": [
    "# fQR.eliminacion_bloques(A,b)"
   ]
  },
  {
   "cell_type": "code",
   "execution_count": null,
   "metadata": {},
   "outputs": [],
   "source": []
  },
  {
   "cell_type": "code",
   "execution_count": null,
   "metadata": {},
   "outputs": [],
   "source": []
  },
  {
   "cell_type": "code",
   "execution_count": null,
   "metadata": {},
   "outputs": [],
   "source": []
  },
  {
   "cell_type": "code",
   "execution_count": null,
   "metadata": {},
   "outputs": [],
   "source": []
  },
  {
   "cell_type": "code",
   "execution_count": null,
   "metadata": {},
   "outputs": [],
   "source": []
  },
  {
   "cell_type": "code",
   "execution_count": null,
   "metadata": {},
   "outputs": [],
   "source": []
  }
 ],
 "metadata": {
  "kernelspec": {
   "display_name": "Python 3",
   "language": "python",
   "name": "python3"
  },
  "language_info": {
   "codemirror_mode": {
    "name": "ipython",
    "version": 3
   },
   "file_extension": ".py",
   "mimetype": "text/x-python",
   "name": "python",
   "nbconvert_exporter": "python",
   "pygments_lexer": "ipython3",
   "version": "3.7.3"
  }
 },
 "nbformat": 4,
 "nbformat_minor": 4
}
