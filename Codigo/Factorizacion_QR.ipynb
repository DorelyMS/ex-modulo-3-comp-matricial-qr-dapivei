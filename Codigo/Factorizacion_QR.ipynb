{
 "cells": [
  {
   "cell_type": "code",
   "execution_count": 1,
   "metadata": {},
   "outputs": [],
   "source": [
    "#paquetes python\n",
    "import os\n",
    "import numpy as np\n",
    "import copy\n",
    "from math import sqrt\n",
    "from scipy.linalg import solve_triangular\n",
    "import inspect\n",
    "\n",
    "#paquetes funciones definidas obtenidas de archivos .py\n",
    "import funciones_factorizacion_QR as fQR"
   ]
  },
  {
   "cell_type": "markdown",
   "metadata": {},
   "source": []
  },
  {
   "cell_type": "markdown",
   "metadata": {},
   "source": [
    "**OBJETIVO:**\n",
    "\n",
    "El presente notebook tiene por finalidad exhibir y poner a prueba funciones definidas por el equipo QR para resolver un Sistema de Ecuaciones Lineales (SEL), a través de 3 pasos:\n",
    "\n",
    "    1) Obtención de factorización QR (A=QR)\n",
    "    2) Implementación del método de eliminación por bloques\n",
    "    3) Resolución de SEL (Ax=b) con los 2 pasos anteriores\n",
    "    \n",
    "Para lograr tal objetivo se presentarán a continuacion las funciones implementadas en python, así como una serie de ejemplos para entender mejor su funcionamiento"
   ]
  },
  {
   "cell_type": "markdown",
   "metadata": {},
   "source": [
    "## Factorización QR\n",
    "\n",
    "### Funciones"
   ]
  },
  {
   "cell_type": "code",
   "execution_count": 2,
   "metadata": {},
   "outputs": [
    {
     "name": "stdout",
     "output_type": "stream",
     "text": [
      "def crear_matriz_aleatoria(renglones,columnas,maximo_valor,minimo_valor,entero=False):\n",
      "    \"\"\"\n",
      "    Función de apoyo para genear matrices aleatorias\n",
      "\n",
      "    params: renglones       no. de renglones de la matriz\n",
      "            columnas        no. de columnas de la matriz\n",
      "            maximo_valor    valor máximo de las entradas de la matriz\n",
      "            minimo_valor    valor mínimo de las entradas de la matriz\n",
      "            entero          Indica si las entradas serán enteras (True) o no\n",
      "            \n",
      "    return: M               Matriz con numeros al azar\n",
      "    \"\"\"\n",
      "    #Se inicializa una matriz llena de ceros con las dimensiones deseadas (mxn)\n",
      "    M=np.zeros((renglones, columnas))\n",
      "    for i in range(renglones):\n",
      "        for j in range(columnas):\n",
      "            #Si entero es verdadero se obtiene el maximo entero menor o igual a 1 (//1)\n",
      "            if entero:\n",
      "                M[i][j]=(np.random.rand(1)*(maximo_valor+1-minimo_valor)+minimo_valor)//1\n",
      "            else:\n",
      "                M[i][j]=np.random.rand(1)*(maximo_valor-minimo_valor)+minimo_valor\n",
      "    return M\n",
      "\n"
     ]
    }
   ],
   "source": [
    "lines=inspect.getsource(fQR.crear_matriz_aleatoria)\n",
    "print(lines)"
   ]
  },
  {
   "cell_type": "code",
   "execution_count": 3,
   "metadata": {},
   "outputs": [
    {
     "name": "stdout",
     "output_type": "stream",
     "text": [
      "Help on function crear_matriz_aleatoria in module funciones_factorizacion_QR:\n",
      "\n",
      "crear_matriz_aleatoria(renglones, columnas, maximo_valor, minimo_valor, entero=False)\n",
      "    \r\n",
      "    Descripción:\r\n",
      "            Función que genera matrices de tamaño definido con entradas dentro del rango\r\n",
      "            indicado\r\n",
      "    \r\n",
      "    Parametros:\r\n",
      "            renglones       integer indica renglones de la matriz\r\n",
      "            columnas        integer indica columnas de la matriz\r\n",
      "            maximo_valor    integer o double señala valor máximo de las entradas de la matriz\r\n",
      "            minimo_valor    integer o double señala valor mínimo de las entradas de la matriz\r\n",
      "            entero          Boolean, indica si las entradas serán enteras (True) o no (False)\r\n",
      "    \r\n",
      "    Resultado:\r\n",
      "            M               np.ndarray que representa matriz (mxn) con numeros al azar en el\r\n",
      "                            rango indicado\r\n",
      "    \r\n",
      "    Ejemplos:\r\n",
      "    Crear matriz de m=4 renglones y n=3 columnas, con entradas reales entre 3.4 y 15.6:\r\n",
      "    crea_matriz(m,n,3.4,15.6)\r\n",
      "    \r\n",
      "    Crear matriz de m=2 renglones y n=2 columnas, con entradas enteras entre 0 y 1:\r\n",
      "    crea_matriz(2,2,0,1,True)\n",
      "\n"
     ]
    }
   ],
   "source": [
    "help(fQR.crear_matriz_aleatoria)"
   ]
  },
  {
   "cell_type": "code",
   "execution_count": 4,
   "metadata": {},
   "outputs": [
    {
     "name": "stdout",
     "output_type": "stream",
     "text": [
      "def house(x):\n",
      "    \"\"\"\n",
      "    Función que calcula vector de householder\n",
      "    \n",
      "    params: x       vector al que se le hará la reflexión householder\n",
      "                    \n",
      "    return: Beta    factor para obtener matriz de reflexión householder Rf\n",
      "            v       vector de householder\n",
      "    \"\"\"\n",
      "    #longitud del vector x=(x_0,x_1,x_2,...,x_(m-1))\n",
      "    m=len(x)\n",
      "    norm_2_m=x[1:m].dot(np.transpose(x[1:m]))\n",
      "    #Se hace v=x=(1,x_1,x_2,...,x_(m-1))\n",
      "    v=np.concatenate((1,x[1:m]), axis=None)\n",
      "    Beta=0\n",
      "    #con las siguientes condiciones se checa si x es múltiplo del vector canónico e_1 \n",
      "    #y el signo de x[0]\n",
      "    if (norm_2_m==0 and x[0]>=0):\n",
      "        Beta=0\n",
      "    elif (norm_2_m==0 and x[0]<0):\n",
      "        Beta=2\n",
      "    else:\n",
      "        norm_x=np.sqrt(pow(x[0],2)+norm_2_m)\n",
      "        if (x[0]<=0):\n",
      "            v[0]=x[0]-norm_x\n",
      "        else:\n",
      "            v[0]=-norm_2_m/(x[0]+norm_x)\n",
      "        Beta=2*pow(v[0],2)/(norm_2_m+pow(v[0],2))\n",
      "        v=v/v[0]\n",
      "    return Beta, v\n",
      "\n"
     ]
    }
   ],
   "source": [
    "lines=inspect.getsource(fQR.house)\n",
    "print(lines)"
   ]
  },
  {
   "cell_type": "code",
   "execution_count": 5,
   "metadata": {},
   "outputs": [
    {
     "name": "stdout",
     "output_type": "stream",
     "text": [
      "Help on function house in module funciones_factorizacion_QR:\n",
      "\n",
      "house(x)\n",
      "    \r\n",
      "    Descripción:\r\n",
      "            Función que calcula vector de householder\r\n",
      "    \r\n",
      "    Parametros:\r\n",
      "            x       np.ndarray que representa vector al que se le hará la reflexión householder\r\n",
      "    \r\n",
      "    Resultado:\r\n",
      "            Beta    double para obtener matriz de reflexión householder v\r\n",
      "            v       np.ndarray que representa vector que representa la reflexión de householder\r\n",
      "    \r\n",
      "    Con el vector v y el factor beta obtenidos se puede calcular la matriz de reflexión de\r\n",
      "    householder R, donde R= Identidad(mxm) - Beta*v*v_transpuesta (v*v_transpuesta es matriz  \r\n",
      "    de pxp si v tiene p entradas). El vector v está construido de tal forma que al generar la \r\n",
      "    matriz de reflexión de householder Rf y multiplicarse por x se obtiene una proyección de \r\n",
      "    este último sobre el vector canónico e_1=(1,0,0,...,0) obteniendo un vector con todas sus \r\n",
      "    entradas ingualas  a cero excepto la primera, que de hecho es ||x||*e_1=(||x||,0,0,...,0)\r\n",
      "    \r\n",
      "    Esta mecánica se puede implementar en matrices para generar matrices triangulares superiores \r\n",
      "    (generando ceros en el triangulo inferior) como se ilustra a continuación\r\n",
      "    \r\n",
      "       [ a00 a01 a02 a03 ]\r\n",
      "    A= [ a10 a11 a12 a13 ]\r\n",
      "       [ a20 a21 a22 a23 ]\r\n",
      "       [ a30 a31 a32 a33 ]\r\n",
      "    \r\n",
      "    Tomese x=A[:,0]=[a00,a10,a20,a30], calcular (v,Beta) y con ello la matriz de reflexión Rf_0. \r\n",
      "    Con el producto Rf_0*A se obtiene una matriz de la forma:\r\n",
      "       [  *   *   *   *  ]\r\n",
      "    A= [  0   *   *   *  ]\r\n",
      "       [  0   *   *   *  ]\r\n",
      "       [  0   *   *   *  ]\r\n",
      "    \r\n",
      "    Tomese x=A[:,1]=[a11,a21,a31], calcular (v,Beta) y con ello la matriz de reflexión Rf_1. \r\n",
      "    Con el producto Rf_1*Rf_0*A se obtiene una matriz de la forma:\r\n",
      "       [  *   *   *   *  ]\r\n",
      "    A= [  0   *   *   *  ]\r\n",
      "       [  0   0   *   *  ]\r\n",
      "       [  0   0   *   *  ]\n",
      "\n"
     ]
    }
   ],
   "source": [
    "help(fQR.house)"
   ]
  },
  {
   "cell_type": "code",
   "execution_count": 6,
   "metadata": {},
   "outputs": [
    {
     "name": "stdout",
     "output_type": "stream",
     "text": [
      "def matriz_auxiliar_Arv(A):\n",
      "    \"\"\"\n",
      "    Función que genera una matriz que contiene los elementos r distintos de cero de la \n",
      "    matriz R y las entradas de los vectores householder v (excepto la primera), con los \n",
      "    cuales se puede calcular la matriz Q. Ambas matrices componentes de la factorización QR\n",
      "    \n",
      "    params: A      Matriz (mxn) de la que se desea obtner factorización QR\n",
      "            \n",
      "    return: Arv    Matriz (mxn) que incluye las componentes distintas de cero de la matriz R \n",
      "                   y los vectores householder con los que se puede obtener la matriz Q, y \n",
      "                   con ello la factorización QR\n",
      "    \"\"\"\n",
      "    #m contiene el numero de renglones y n el de columnas\n",
      "    m=A.shape[0]\n",
      "    n=A.shape[1]\n",
      "    #se crea una matriz con los valores de A\n",
      "    Arv=copy.copy(A)\n",
      "    for j in range(n):\n",
      "        beta, v=house(Arv[j:m,j])\n",
      "        #Con esta multiplicación se van generando las componentes r de la matriz R\n",
      "        Arv[j:m,j:n]=Arv[j:m,j:n]-beta*(np.outer(v,v)@Arv[j:m,j:n])\n",
      "        #se guarda en cada columnas los valores de v d, excepto la primer componente (que vale 1)\n",
      "        Arv[(j+1):m,j]=v[1:(m-j)]\n",
      "    return Arv\n",
      "\n"
     ]
    }
   ],
   "source": [
    "lines=inspect.getsource(fQR.matriz_auxiliar_Arv)\n",
    "print(lines)"
   ]
  },
  {
   "cell_type": "code",
   "execution_count": 7,
   "metadata": {},
   "outputs": [
    {
     "name": "stdout",
     "output_type": "stream",
     "text": [
      "Help on function matriz_auxiliar_Arv in module funciones_factorizacion_QR:\n",
      "\n",
      "matriz_auxiliar_Arv(A)\n",
      "    \n",
      "    Descripción:\n",
      "            Función que genera una matriz que contiene los elementos r distintos de cero de \n",
      "            la matriz R y las entradas de los vectores householder v (excepto la primera), \n",
      "            con los cuales se puede calcular la matriz Q. Ambas matrices componentes de la \n",
      "            factorización QR\n",
      "    \n",
      "    Parametros:\n",
      "            A      numpy.ndarray que representa matriz (mxn) de la que se desea obtener \n",
      "                   elemento de factorización QR\n",
      "    \n",
      "    Resultado:\n",
      "            Arv    numpy.ndarray que representa matriz (mxn) que incluye las componentes \n",
      "                   distintas de cero de la matriz R y los vectores householder con los \n",
      "                   que se puede obtener la matriz Q, y con ello la factorización QR\n",
      "    \n",
      "    La factorización QR consiste en encontrar 2 matrices tales que A=Q*R \n",
      "    donde Q es una matriz ortogonal y R es una matriz triangular superior \n",
      "    Las entradas de la matriz Arv que arroja esta función se pueden visualizar como:\n",
      "         [ r00  r01  r02  r03 ]\n",
      "         [ v10  r11  r12  r13 ]\n",
      "    Arv= [ v20  v21  r22  r23 ]\n",
      "         [ v30  v31  v32  r33 ]\n",
      "         [ v40  v41  v42  v43 ]\n",
      "    \n",
      "    Las entradas r conforman la matriz R (triangular superior): \n",
      "         [ r00  r01  r02  r03 ] \n",
      "         [  0   r11  r12  r13 ] \n",
      "    R=   [  0    0   r22  r23 ] \n",
      "         [  0    0    0   r33 ] \n",
      "         [  0    0    0    0  ]\n",
      "    \n",
      "    La matriz Q puede obtenerse a partir de los vectores householder v, los cuales \n",
      "    sirven para construir la matriz de reflexión de householder R, con \n",
      "    R=Identidad(mxm) - Beta*v*v_trans  y  Beta=2/(v_trans*v) \n",
      "                           [  1                 ]\n",
      "                           [ v10   1            ]\n",
      "    vectores householder*= [ v20  v21   1       ]\n",
      "                           [ v30  v31  v32   1  ]\n",
      "                           [ v40  v41  v42  v43 ]\n",
      "    \n",
      "    *Notese que Avr no tiene la primera entrada de los vectores v, pero sabemos por \n",
      "    construcción que es igual a 1. Con el vector v_1=(1,v10,v20,v30,v40) se puede\n",
      "    calcular Q_1, con v_2=(1,v21,v31,v41) se puede calcular Q_2, con v_3=(1,v32,v42)\n",
      "    se puede calcular Q_3 y con v_4=(1,v43) se puede calcular Q_4.\n",
      "\n"
     ]
    }
   ],
   "source": [
    "help(fQR.matriz_auxiliar_Arv)"
   ]
  },
  {
   "cell_type": "code",
   "execution_count": 8,
   "metadata": {},
   "outputs": [
    {
     "name": "stdout",
     "output_type": "stream",
     "text": [
      "def matriz_R(A_r_v):\n",
      "    \"\"\"\n",
      "    Función que devuelve la matriz R de la factorización QR de una matriz A, \n",
      "    apartir de la matriz Arv\n",
      "    \n",
      "    params: A_r_v   Matriz (mxn) que incluye elementos de la matriz R y Q, de la factorización QR\n",
      "\n",
      "    return: R       Matriz (mxn) R de la factorización A=QR\n",
      "    \"\"\"\n",
      "    m=A_r_v.shape[0]\n",
      "    n=A_r_v.shape[1]\n",
      "    R=np.zeros((m,n))\n",
      "    #la matriz A_r_v ya tiene los elementos de r en el triangulo superior\n",
      "    #por lo que únicamente se sustraen dichos valores y lo demás se deja en ceros\n",
      "    for j in range(n):\n",
      "        R[0:(j+1),j]=A_r_v[0:(j+1),j]\n",
      "    return R\n",
      "\n"
     ]
    }
   ],
   "source": [
    "lines=inspect.getsource(fQR.matriz_R)\n",
    "print(lines)"
   ]
  },
  {
   "cell_type": "code",
   "execution_count": 9,
   "metadata": {},
   "outputs": [
    {
     "name": "stdout",
     "output_type": "stream",
     "text": [
      "Help on function matriz_R in module funciones_factorizacion_QR:\n",
      "\n",
      "matriz_R(A_r_v)\n",
      "    \r\n",
      "    Descripción:\r\n",
      "            Función que devuelve la matriz R de la factorización QR de una matriz A,\r\n",
      "            apartir de la matriz Arv\r\n",
      "    \r\n",
      "    Parametros:\r\n",
      "            A_r_v   np.ndarray que representa matriz (mxn) que incluye elementos de \r\n",
      "                    la matriz R y Q, de la factorización QR\r\n",
      "    \r\n",
      "    Resultado:\r\n",
      "            R       np.ndarray que representa matriz (mxn) R de la factorización A=QR\r\n",
      "    \r\n",
      "    Visualmente la sustracción de los elementos de R se ve así:\r\n",
      "         [ r11  r12  r13  r14 ]            [ r11  r12  r13  r14 ]\r\n",
      "         [ v21  r22  r23  r24 ]            [  0   r22  r23  r24 ]\r\n",
      "    Arv= [ v31  v32  r33  r34 ]   -->   R= [  0    0   r33  r34 ]\r\n",
      "         [ v41  v42  v43  r44 ]            [  0    0    0   r44 ]\r\n",
      "         [ v51  v52  v53  v54 ]            [  0    0    0    0  ]\n",
      "\n"
     ]
    }
   ],
   "source": [
    "help(fQR.matriz_R)"
   ]
  },
  {
   "cell_type": "code",
   "execution_count": 10,
   "metadata": {},
   "outputs": [
    {
     "name": "stdout",
     "output_type": "stream",
     "text": [
      "def matriz_Q(A_r_v):\n",
      "    \"\"\"\n",
      "    Función que devuelve la matriz R de la factorización QR de una matriz A,\n",
      "    apartir de la matriz Arv\n",
      "    \n",
      "    params: A_r_v   Matriz (mxn) con la info escencial para la factorización\n",
      "\n",
      "    return: Q       Matriz Q (mxm) de la factorización A=QR\n",
      "    \"\"\"\n",
      "    m=A_r_v.shape[0]\n",
      "    n=A_r_v.shape[1]\n",
      "    Q=np.eye(m)\n",
      "    I=np.eye(m)\n",
      "    for j in range(n-1,-1,-1):\n",
      "        #Se sustrae la información de los vectores de householder contenida\n",
      "        #en la matriz Arv, agregando la primera entrada que no está en dicha matriz (y que es 1)\n",
      "        v=np.concatenate((1,A_r_v[(j+1):m,j]), axis=None)\n",
      "        #Se calcula el factor beta para obtener la matriz de reflexión\n",
      "        beta=2/(1+A_r_v[(j+1):m,j].dot(A_r_v[(j+1):m,j]))\n",
      "        #Aquí se va acumulando el producto de las Qj's para llegar a Q_(n-1)*Q(n-2)*...Q_2*Q_1*Q_0=Q\n",
      "        #al final del ciclo\n",
      "        Q[j:m,j:m]=(I[j:m,j:m]-beta*np.outer(v,v))@Q[j:m,j:m]\n",
      "    #La Q_(n-1) es la matriz más chica y la última que calculamos para generar ceros en la última\n",
      "    #columna de A, y la Q_1 es la matriz más grande y la primera que calculamos para generar ceros\n",
      "    #en la 1era columna de A\n",
      "    return Q\n",
      "\n"
     ]
    }
   ],
   "source": [
    "lines=inspect.getsource(fQR.matriz_Q)\n",
    "print(lines)"
   ]
  },
  {
   "cell_type": "code",
   "execution_count": 11,
   "metadata": {},
   "outputs": [
    {
     "name": "stdout",
     "output_type": "stream",
     "text": [
      "Help on function matriz_Q in module funciones_factorizacion_QR:\n",
      "\n",
      "matriz_Q(A_r_v)\n",
      "    \n",
      "    Descripción:\n",
      "            Función que devuelve la matriz R de la factorización QR de una matriz A,\n",
      "            apartir de la matriz Arv\n",
      "    \n",
      "    Parametros:\n",
      "            A_r_v   np.ndarray que representa la matriz auxiliar (mxn) que incluye \n",
      "                    elementos de la matriz R y Q, de la factorización QR\n",
      "    \n",
      "    Resultado:\n",
      "            R       np.ndarray que representa matriz Q (mxm) de la factorización A=QR\n",
      "    \n",
      "    La matriz Q (matriz ortogonal tal que Q_transpuesta*Q es igual a la identidad (mxm)\n",
      "    se calcula como el producto de las matrices Q_j's, las cuales se obtienen a partir\n",
      "    de las diferentes matrices de reflexión householder utilizadas para generar los ceros\n",
      "    en las columnas de A para formar la matriz R\n",
      "    \n",
      "    Q = Q_1*Q_2*Q_3*Q_4\n",
      "    \n",
      "    Nota: Cada matriz Q_j se calcula con el vector v_j, correspondiente al j-ésimo \n",
      "    vector de householder como: Q_j = Identidad(mxm) - Beta*v_j*v_j_transpuesta\n",
      "    Dichos vectores v están contenidos dentro de la matriz auxiliar Arv\n",
      "\n"
     ]
    }
   ],
   "source": [
    "help(fQR.matriz_Q)"
   ]
  },
  {
   "cell_type": "code",
   "execution_count": 12,
   "metadata": {},
   "outputs": [
    {
     "name": "stdout",
     "output_type": "stream",
     "text": [
      "def Q_j(A_r_v,j):\n",
      "    \"\"\"\n",
      "    Función que calcula la matriz Qj (en el proceso de obtención de factorización QR se van \n",
      "    obteniendo n Qj's, que si se multiplican todas da por resultado Q=Q_1*Q_2*...*Q_n)\n",
      "                            \n",
      "    params: A_r_v   Matriz (mxn) con la info escencial\n",
      "            C       Matriz (mxp) (si se pasa por ejemplo C=Identidad (mxm) la funcion \n",
      "                    devolverá Q)\n",
      "\n",
      "    return: Qj      Matriz Q de la j-esima iteración del proceso iterativo de factorización QR\n",
      "    \"\"\"\n",
      "    m=A_r_v.shape[0]\n",
      "    n=A_r_v.shape[1]\n",
      "    Qj=np.eye(m)\n",
      "    #Para construir Q_j requerimos usar el vector v contenido en Arv contenido\n",
      "    #en la j-1 columna (considerando que en Python la primer columna es la cero)\n",
      "    v=np.concatenate((1,A_r_v[j:m,(j-1)]), axis=None)\n",
      "    beta=2/(1+A_r_v[j:m,(j-1)].dot(A_r_v[j:m,(j-1)]))\n",
      "    Qj[(j-1):m,(j-1):m]=np.eye(m-(j-1))-beta*np.outer(v,v)\n",
      "    return Qj\n",
      "\n"
     ]
    }
   ],
   "source": [
    "lines=inspect.getsource(fQR.Q_j)\n",
    "print(lines)"
   ]
  },
  {
   "cell_type": "code",
   "execution_count": 13,
   "metadata": {},
   "outputs": [
    {
     "name": "stdout",
     "output_type": "stream",
     "text": [
      "Help on function Q_j in module funciones_factorizacion_QR:\n",
      "\n",
      "Q_j(A_r_v, j)\n",
      "    \r\n",
      "    Descripción:\r\n",
      "            Función que calcula la matriz Qj (en el proceso de obtención de \r\n",
      "            factorización QR se van obteniendo n Qj's, que si se multiplican todas \r\n",
      "            da por resultado Q=Q_1*Q_2*...*Q_n)\r\n",
      "    \r\n",
      "    Parámetros:                            \r\n",
      "            A_r_v   np.ndarray que representa la matriz auxiliar (mxn) que incluye \r\n",
      "                    elementos de la matriz R y Q, de la factorización QR\r\n",
      "            j       integer que indica el índice de la matriz Q_j\r\n",
      "    \r\n",
      "    Resultado:\r\n",
      "            Qj      np.ndarray que representa la j-esima transformación de householder\r\n",
      "    \r\n",
      "    La matriz Q_j se calcula con el vector v_j, correspondiente al j-ésimo vector \r\n",
      "    de householder como: Q_j = Identidad(mxm) - Beta*v_j*v_j_transpuesta\n",
      "\n"
     ]
    }
   ],
   "source": [
    "help(fQR.Q_j)"
   ]
  },
  {
   "cell_type": "markdown",
   "metadata": {},
   "source": [
    "## Factorización QR\n",
    "\n",
    "### Ejemplos"
   ]
  },
  {
   "cell_type": "code",
   "execution_count": 14,
   "metadata": {},
   "outputs": [
    {
     "data": {
      "text/plain": [
       "array([[1., 2., 1.],\n",
       "       [2., 3., 2.],\n",
       "       [1., 2., 3.]])"
      ]
     },
     "execution_count": 14,
     "metadata": {},
     "output_type": "execute_result"
    }
   ],
   "source": [
    "#Pra probar el funcionamiento de estas funciones puede definirse una matriz entrada por entrada\n",
    "#o usar la función crear_matriz_aleatoria\n",
    "\n",
    "#Ejemplo a mano (asegurandose de que sus entradas sean tipo dobles -aunque sólo se capture\n",
    "#una parte entera-, pues de lo contrario se tendrán errores por redondeo significativos)\n",
    "A=np.array([[1, 2, 1], [2, 3, 2], [1, 2, 3]], dtype='d')\n",
    "A"
   ]
  },
  {
   "cell_type": "code",
   "execution_count": 15,
   "metadata": {},
   "outputs": [
    {
     "name": "stdout",
     "output_type": "stream",
     "text": [
      "x=\n",
      " [1. 2. 3.]\n",
      "\n",
      "\n",
      "Beta=\n",
      " 0.7327\n",
      "\n",
      "\n",
      "v=\n",
      " [ 1.     -0.7295 -1.0942]\n",
      "\n",
      "\n",
      "R=\n",
      " [[ 0.2673  0.5345  0.8018]\n",
      " [ 0.5345  0.6101 -0.5849]\n",
      " [ 0.8018 -0.5849  0.1227]]\n",
      "\n",
      "\n",
      "Rx=\n",
      " [3.7417 0.     0.    ]\n"
     ]
    }
   ],
   "source": [
    "x=np.array([1,2,3.])\n",
    "print(\"x=\\n\",x)\n",
    "\n",
    "Beta,v=fQR.house(x)\n",
    "print(\"\\n\\nBeta=\\n\",np.round(Beta,4))\n",
    "print(\"\\n\\nv=\\n\",np.round(v,4))\n",
    "\n",
    "#Calculando matriz de reflexión de householder R\n",
    "R=np.eye(3)-Beta*np.outer(v,v)\n",
    "print(\"\\n\\nR=\\n\",np.round(R,4))\n",
    "\n",
    "#Observese como el producto de Rx da por resultado un vector con\n",
    "#todas sus entradas igualas a cero excepto la primera\n",
    "print(\"\\n\\nRx=\\n\",np.round(R@x,4))"
   ]
  },
  {
   "cell_type": "code",
   "execution_count": 16,
   "metadata": {},
   "outputs": [
    {
     "name": "stdout",
     "output_type": "stream",
     "text": [
      "\n",
      "\n",
      "A=\n",
      " [[ 5.773   5.8775  4.5341 -3.1363]\n",
      " [ 0.9423  1.9839 -5.4641  5.7398]\n",
      " [-2.      5.2231 -0.8418  0.4013]\n",
      " [-0.4444 -1.4694 -2.1212  4.2137]\n",
      " [-1.1651  4.4189 -5.281   5.4279]\n",
      " [-3.0522  0.5997 -2.9408  4.0577]\n",
      " [-0.3204  5.8759 -0.638  -0.4054]]\n",
      "\n",
      "\n",
      "Arv=\n",
      " [[ 7.0135  2.4447  5.5587 -4.8409]\n",
      " [-0.7596 10.7868 -2.5873  2.2925]\n",
      " [ 1.6123  0.0503  7.4144 -8.4103]\n",
      " [ 0.3582  0.4357  0.0252  2.714 ]\n",
      " [ 0.9392 -0.1928  0.7824 -0.1388]\n",
      " [ 2.4605  1.2666 -0.6557  1.7552]\n",
      " [ 0.2583 -0.8053  0.5166  0.0272]]\n",
      "\n",
      "\n",
      "Q=\n",
      " [[ 0.8231  0.3583  0.1194  0.3801  0.0518  0.1802 -0.0137]\n",
      " [ 0.1344  0.1535 -0.7841 -0.205  -0.4972  0.1868  0.1392]\n",
      " [-0.2852  0.5488  0.2918  0.0798 -0.5455 -0.0299 -0.477 ]\n",
      " [-0.0634 -0.1219 -0.2811  0.6714 -0.1285 -0.6589  0.0263]\n",
      " [-0.1661  0.4473 -0.4316 -0.0117  0.6534 -0.0378 -0.3969]\n",
      " [-0.4352  0.1542 -0.0165  0.5373  0.0637  0.5717  0.4086]\n",
      " [-0.0457  0.5551  0.1419 -0.26    0.0709 -0.4114  0.654 ]]\n",
      "\n",
      "\n",
      "R=\n",
      " [[ 7.0135  2.4447  5.5587 -4.8409]\n",
      " [ 0.     10.7868 -2.5873  2.2925]\n",
      " [ 0.      0.      7.4144 -8.4103]\n",
      " [ 0.      0.      0.      2.714 ]\n",
      " [ 0.      0.      0.      0.    ]\n",
      " [ 0.      0.      0.      0.    ]\n",
      " [ 0.      0.      0.      0.    ]]\n",
      "\n",
      "\n",
      "Q@R=\n",
      " [[ 5.773   5.8775  4.5341 -3.1363]\n",
      " [ 0.9423  1.9839 -5.4641  5.7398]\n",
      " [-2.      5.2231 -0.8418  0.4013]\n",
      " [-0.4444 -1.4694 -2.1212  4.2137]\n",
      " [-1.1651  4.4189 -5.281   5.4279]\n",
      " [-3.0522  0.5997 -2.9408  4.0577]\n",
      " [-0.3204  5.8759 -0.638  -0.4054]]\n"
     ]
    }
   ],
   "source": [
    "#Definase una matriz A\n",
    "A=fQR.crear_matriz_aleatoria(7,4,6,-6)\n",
    "print('\\n\\nA=\\n',np.round(A,4))\n",
    "\n",
    "#Calculamos la matriz auxiliar Arv\n",
    "Arv=fQR.matriz_auxiliar_Arv(A)\n",
    "print('\\n\\nArv=\\n',np.round(Arv,4))\n",
    "\n",
    "#Obtenemos la matriz Q y R a partir de Arv\n",
    "Q=fQR.matriz_Q(Arv)\n",
    "print('\\n\\nQ=\\n',np.round(Q,4))\n",
    "R=fQR.matriz_R(Arv)\n",
    "print('\\n\\nR=\\n',np.round(R,4))\n",
    "\n",
    "#Checamos que QR=A\n",
    "print('\\n\\nQ@R=\\n',np.round(Q@R,4))"
   ]
  },
  {
   "cell_type": "code",
   "execution_count": 17,
   "metadata": {},
   "outputs": [
    {
     "data": {
      "text/plain": [
       "array([[ 0.8231,  0.3583,  0.1194,  0.3801,  0.0518,  0.1802, -0.0137],\n",
       "       [ 0.1344,  0.1535, -0.7841, -0.205 , -0.4972,  0.1868,  0.1392],\n",
       "       [-0.2852,  0.5488,  0.2918,  0.0798, -0.5455, -0.0299, -0.477 ],\n",
       "       [-0.0634, -0.1219, -0.2811,  0.6714, -0.1285, -0.6589,  0.0263],\n",
       "       [-0.1661,  0.4473, -0.4316, -0.0117,  0.6534, -0.0378, -0.3969],\n",
       "       [-0.4352,  0.1542, -0.0165,  0.5373,  0.0637,  0.5717,  0.4086],\n",
       "       [-0.0457,  0.5551,  0.1419, -0.26  ,  0.0709, -0.4114,  0.654 ]])"
      ]
     },
     "execution_count": 17,
     "metadata": {},
     "output_type": "execute_result"
    }
   ],
   "source": [
    "#Observese que Q=(Q_4*Q_3*Q_2*Q_1)_transpuesta\n",
    "np.round(np.transpose(fQR.Q_j(Arv,4)@fQR.Q_j(Arv,3)@fQR.Q_j(Arv,2)@fQR.Q_j(Arv,1)),4)"
   ]
  },
  {
   "cell_type": "code",
   "execution_count": 18,
   "metadata": {},
   "outputs": [
    {
     "name": "stdout",
     "output_type": "stream",
     "text": [
      "[[ 1.  0.  0.  0.  0.  0.  0.]\n",
      " [ 0.  1.  0. -0.  0. -0. -0.]\n",
      " [ 0.  0.  1. -0.  0. -0.  0.]\n",
      " [ 0. -0. -0.  1. -0. -0.  0.]\n",
      " [ 0.  0.  0. -0.  1. -0. -0.]\n",
      " [ 0. -0. -0. -0. -0.  1. -0.]\n",
      " [ 0. -0.  0.  0. -0. -0.  1.]]\n"
     ]
    }
   ],
   "source": [
    "#Puede comprobarse que Q_transpuesta*Q es igual a la identidad\n",
    "print(np.round(np.transpose(Q)@Q,4))"
   ]
  },
  {
   "cell_type": "code",
   "execution_count": 19,
   "metadata": {},
   "outputs": [
    {
     "name": "stdout",
     "output_type": "stream",
     "text": [
      "\n",
      "\n",
      "A=\n",
      " [[ 1.  2. -1. -4.]\n",
      " [ 4. -3. -2.  4.]\n",
      " [ 3. -2.  5. -4.]\n",
      " [-5.  5.  1. -5.]\n",
      " [-4. -5.  2.  5.]]\n",
      "\n",
      " Q1 :\n",
      " [[ 0.1222  0.4887  0.3665 -0.6108 -0.4887]\n",
      " [ 0.4887  0.728  -0.204   0.3401  0.272 ]\n",
      " [ 0.3665 -0.204   0.847   0.255   0.204 ]\n",
      " [-0.6108  0.3401  0.255   0.5749 -0.3401]\n",
      " [-0.4887  0.272   0.204  -0.3401  0.728 ]]\n",
      "\n",
      " Q1 @ A=\n",
      " [[ 8.1854 -2.5656 -0.8552  0.6108]\n",
      " [-0.     -0.4584 -2.0806  1.4332]\n",
      " [ 0.     -0.0938  4.9395 -5.9251]\n",
      " [-0.      1.823   1.1008 -1.7915]\n",
      " [ 0.     -7.5416  2.0806  7.5668]]\n",
      "\n",
      " Q2 @ Q1 :\n",
      " [[ 1.      0.      0.      0.      0.    ]\n",
      " [ 0.     -0.059  -0.0121  0.2345 -0.9702]\n",
      " [ 0.     -0.0121  0.9999  0.0027 -0.0111]\n",
      " [ 0.      0.2345  0.0027  0.9481  0.2149]\n",
      " [ 0.     -0.9702 -0.0111  0.2149  0.1111]]\n",
      "\n",
      " Q2 @ Q1 @ A=\n",
      " [[ 8.1854 -2.5656 -0.8552  0.6108]\n",
      " [-0.      7.7729 -1.6974 -7.7748]\n",
      " [ 0.      0.      4.9439 -6.03  ]\n",
      " [-0.      0.      1.0159  0.2478]\n",
      " [ 0.      0.      2.4317 -0.8697]]\n",
      "\n",
      " Q3 @ Q2 @ Q1 :\n",
      " [[ 1.      0.      0.      0.      0.    ]\n",
      " [ 0.      1.      0.      0.      0.    ]\n",
      " [ 0.      0.      0.8825  0.1813  0.434 ]\n",
      " [ 0.      0.      0.1813  0.7203 -0.6696]\n",
      " [ 0.      0.      0.434  -0.6696 -0.6027]]\n",
      "\n",
      " Q3 @ Q2 @ Q1 @ A=\n",
      " [[ 8.1854 -2.5656 -0.8552  0.6108]\n",
      " [-0.      7.7729 -1.6974 -7.7748]\n",
      " [ 0.      0.      5.6024 -5.6538]\n",
      " [-0.     -0.     -0.     -0.3326]\n",
      " [ 0.     -0.      0.     -2.2591]]\n",
      "\n",
      " Q4 @ Q3 @ Q2 @ Q1 :\n",
      " [[ 1.      0.      0.      0.      0.    ]\n",
      " [ 0.      1.      0.      0.      0.    ]\n",
      " [ 0.      0.      1.      0.      0.    ]\n",
      " [ 0.      0.      0.     -0.1457 -0.9893]\n",
      " [ 0.      0.      0.     -0.9893  0.1457]]\n",
      "\n",
      " Q4 @ Q3 @ Q2 @ Q1 @ A=\n",
      " [[ 8.1854 -2.5656 -0.8552  0.6108]\n",
      " [-0.      7.7729 -1.6974 -7.7748]\n",
      " [ 0.      0.      5.6024 -5.6538]\n",
      " [-0.      0.     -0.      2.2834]\n",
      " [ 0.      0.      0.     -0.    ]]\n",
      "\n",
      "\n",
      "\n",
      "Resultados finales:\n",
      "\n",
      "R es el resultado de multiplicar todas las Qjs a A\n",
      " [[ 8.1854 -2.5656 -0.8552  0.6108]\n",
      " [-0.      7.7729 -1.6974 -7.7748]\n",
      " [ 0.      0.      5.6024 -5.6538]\n",
      " [-0.      0.     -0.      2.2834]\n",
      " [ 0.      0.      0.     -0.    ]]\n",
      "\n",
      "Q es el resultado de multiplicar todas las Qjs y transponer:\n",
      " [[ 0.1222  0.2976 -0.0697 -0.9435  0.0369]\n",
      " [ 0.4887 -0.2247 -0.3505 -0.0117 -0.7667]\n",
      " [ 0.3665 -0.1363  0.9071 -0.068  -0.1401]\n",
      " [-0.6108  0.4416  0.2191  0.0199 -0.6192]\n",
      " [-0.4887 -0.8046  0.0386 -0.3234 -0.0885]]\n"
     ]
    }
   ],
   "source": [
    "#Ejemplo ilustrativo de cómo obtener Q y R, visualizando cada iteración\n",
    "A=fQR.crear_matriz_aleatoria(5,4,5,-5,True)\n",
    "print('\\n\\nA=\\n',np.round(A,4))\n",
    "\n",
    "m=A.shape[0]\n",
    "n=A.shape[1]\n",
    "Q=np.eye(m)\n",
    "R=copy.copy(A)\n",
    "Arv=fQR.matriz_auxiliar_Arv(A)\n",
    "for j in range(n):\n",
    "    if j==0:\n",
    "        cadena='Q'+str(j+1)\n",
    "    else:\n",
    "        cadena='Q'+str(j+1) + ' @ ' + cadena\n",
    "    Qj=fQR.Q_j(Arv,j+1)\n",
    "    print('\\n',cadena,':\\n',np.round(Qj,4))\n",
    "    Q=Q@Qj\n",
    "    R=fQR.Q_j(Arv,j+1)@R\n",
    "    print('\\n',cadena,'@ A=\\n',np.round(R,4))\n",
    "\n",
    "print('\\n\\n\\nResultados finales:')\n",
    "print('\\nR es el resultado de multiplicar todas las Qjs a A\\n',np.round(R,4))\n",
    "print('\\nQ es el resultado de multiplicar todas las Qjs y transponer:\\n',np.round(Q,4))"
   ]
  },
  {
   "cell_type": "code",
   "execution_count": 20,
   "metadata": {},
   "outputs": [
    {
     "data": {
      "text/plain": [
       "array([[ 6.25813417e+01, -9.42603536e-01,  1.12280057e+01, ...,\n",
       "        -3.84548759e+00, -7.60478759e+00,  3.31427440e+00],\n",
       "       [-1.72806334e-02,  6.57620286e+01,  5.94327988e+00, ...,\n",
       "        -4.77932864e-01,  2.74097116e+00,  5.10593806e+00],\n",
       "       [-6.42417584e-02,  1.15046254e-01,  6.36396277e+01, ...,\n",
       "        -9.87617135e-01,  3.19251620e+00,  9.33088669e+00],\n",
       "       ...,\n",
       "       [-2.56119100e-02,  1.26296451e-01, -8.81728860e-02, ...,\n",
       "         2.82220301e-03,  6.23830157e-03,  9.75439694e-02],\n",
       "       [-3.78212435e-02,  1.39264305e-01,  6.00361397e-02, ...,\n",
       "        -2.49018792e-01,  3.02459670e-01,  1.79448639e-01],\n",
       "       [ 8.32562422e-02, -1.26765158e-01,  9.53291730e-02, ...,\n",
       "         1.70987223e-01,  4.02839254e-02, -3.64566853e-02]])"
      ]
     },
     "execution_count": 20,
     "metadata": {},
     "output_type": "execute_result"
    }
   ],
   "source": [
    "#Se prueba un ejemplo más grande la función matriz_auxiliar_Arv\n",
    "#que es base para la obtención de Q y R\n",
    "A=fQR.crear_matriz_aleatoria(11**2,10**2,10,-10,False)\n",
    "Arv=fQR.matriz_auxiliar_Arv(A)\n",
    "Arv"
   ]
  },
  {
   "cell_type": "markdown",
   "metadata": {},
   "source": [
    "## Solución de Sistemas de Ecuaciones Lineales\n",
    "\n",
    "### Funciones"
   ]
  },
  {
   "cell_type": "code",
   "execution_count": 21,
   "metadata": {},
   "outputs": [],
   "source": [
    "def Solucion_SEL_QR_nxn(A,b):\n",
    "    \"\"\"\n",
    "    Función que obtiene la solución de un sistema de ecuaciones lineala (SEL) con n ecuaciones y n incognitas\n",
    "            \n",
    "    params: A   Matriz (nxn) que representa los coeficientas de las ecuaciones\n",
    "            b   vector (nx1) constantes del sistema\n",
    "\n",
    "    return: x   vector que satisface (Ax=b)\n",
    "    \"\"\"\n",
    "    Arv=fQR.matriz_auxiliar_Arv(A)\n",
    "    m=Arv.shape[0]\n",
    "    n=Arv.shape[0]\n",
    "    Q=fQR.matriz_Q(Arv)\n",
    "    R=fQR.matriz_R(Arv)\n",
    "    b_prima=np.transpose(Q)@b\n",
    "    x = solve_triangular(R, np.transpose(Q)@b)\n",
    "    return x"
   ]
  },
  {
   "cell_type": "markdown",
   "metadata": {},
   "source": [
    "## Eliminación por bloques\n",
    "\n",
    "### Funciones"
   ]
  },
  {
   "cell_type": "code",
   "execution_count": 22,
   "metadata": {},
   "outputs": [],
   "source": [
    "def bloques(A, b=False, n1=False, n2=False):\n",
    "    \"\"\"\n",
    "    Esta es la función para la creación de bloques usando un arreglo de numpy\n",
    "    \n",
    "    params: A   Matriz (nxn) que representa los coeficientas de las ecuaciones\n",
    "            b   vector (nx1) constantes del sistema\n",
    "            n1  Numero de renglones que tendrá el 1er bloque\n",
    "            n2  Numero de renglones que tendrá el 2do bloque\n",
    "    \n",
    "    return: A11 Fraccion de la matriz dividida\n",
    "            A12 Fraccion de la matriz dividida\n",
    "            A12 Fraccion de la matriz dividida\n",
    "            A12 Fraccion de la matriz dividida\n",
    "            b1  Fraccion del vector dividido\n",
    "            b2  Fraccion del vector dividido\n",
    "    \"\"\"\n",
    "\n",
    "    # Primero definimos el n\n",
    "    m,n = A.shape\n",
    "\n",
    "    # Condiciones de A\n",
    "    # Si no se dan los n deseados, se intentan hacer los bloques casi iguales\n",
    "    if  not (n1&n2):\n",
    "        n1 = n//2\n",
    "        n2 = n - n1\n",
    "    # Los bloques deben cumplir la condicion de tamaño\n",
    "    elif n1+n1 != n:\n",
    "        sys.exit('n1 + n2 debe ser igual a n')\n",
    "    else:\n",
    "        None\n",
    "\n",
    "    # Condiciones de b\n",
    "    if  b is False:\n",
    "        b1 = None\n",
    "        b2 = None\n",
    "        print('condicion1')\n",
    "    elif len(b) == m:\n",
    "        b1 = b[:n1]\n",
    "        b2 = b[n1:m]\n",
    "    else:\n",
    "        sys.exit('los renglones de A y b deben ser del mismo tamaño')\n",
    "\n",
    "    A11 = A[:n1,:n1]\n",
    "    A12 = A[:n1,n1:n]\n",
    "    A21 = A[n1:m,:n1]\n",
    "    A22 = A[n1:m,n1:n]\n",
    "\n",
    "    return A11,A12,A21,A22,b1,b2"
   ]
  },
  {
   "cell_type": "code",
   "execution_count": 23,
   "metadata": {},
   "outputs": [],
   "source": [
    "def eliminacion_bloques(A,b):\n",
    "    \"\"\"\n",
    "    Función que obtiene la solución de un sistema de ecuaciones lineala (SEL) con n ecuaciones y n incognitas\n",
    "            \n",
    "    params: A   Matriz (nxn) que representa los coeficientas de las ecuaciones\n",
    "            b   vector (nx1) constantes del sistema\n",
    "    \n",
    "    return: x1 Solucion al 1er sistema de ecuaciones obtenido con la división por bloques\n",
    "            x2 Solucion al 2do sistema de ecuaciones obtenido con la división por bloques\n",
    "    \"\"\"\n",
    "    if np.linalg.det(A)==0:\n",
    "        sys.exit('A debe ser no singular')\n",
    "\n",
    "    A11,A12,A21,A22,b1,b2 = bloques(A,b)\n",
    "\n",
    "    if np.linalg.det(A11)==0:\n",
    "        sys.exit('A11 debe ser no singular')\n",
    "\n",
    "    ## 1. Calcular A11^{-1}A12 y A11^{-1}b1 teniendo cuidado en no calcular la inversa sino un sistema de ecuaciones lineales\n",
    "    ## Aquí se debe usar el método QR una vez que esté desarrollado\n",
    "\n",
    "    ## Definimos y = A11^{-1}b1, por tanto A11y=b1. Resolviendo el sistema anterior para 11y:\n",
    "    y = Solucion_SEL_QR_nxn(A11,b1)\n",
    "    #y = np.linalg.solve(A11,b1)\n",
    "\n",
    "    ## Definimos Y = A11^{-1}A12\n",
    "    Y = Solucion_SEL_QR_nxn(A11,A12)\n",
    "    #Y = np.linalg.solve(A11,A12)\n",
    "\n",
    "    ## 2. Calcular el complemento de Schur del bloque A11 en A. Calcular b_hat\n",
    "    S = A22 - A21@Y\n",
    "    b_h = b2 - A21@y\n",
    "\n",
    "    ## 3. Resolver Sx2 = b_hat\n",
    "    x2 = Solucion_SEL_QR_nxn(S,b_h)\n",
    "    #x2 = np.linalg.solve(S,b_h)\n",
    "\n",
    "    ## 4. Resolver A11x1 = b1-A12X2\n",
    "    x1 = Solucion_SEL_QR_nxn(A11,b1-A12@x2)\n",
    "    #x1 = np.linalg.solve(A11,b1-A12@x2)\n",
    "\n",
    "    return np.concatenate((x1,x2), axis=0)"
   ]
  },
  {
   "cell_type": "markdown",
   "metadata": {},
   "source": [
    "## Solución de Sistemas de Ecuaciones Lineales\n",
    "\n",
    "### Ejemplos"
   ]
  },
  {
   "cell_type": "markdown",
   "metadata": {},
   "source": [
    "### A) Sistema con soluciones únicas"
   ]
  },
  {
   "cell_type": "code",
   "execution_count": 24,
   "metadata": {},
   "outputs": [
    {
     "name": "stdout",
     "output_type": "stream",
     "text": [
      "A: [[ 1.38 -1.38  5.39 -2.61 -3.   -4.73]\n",
      " [-3.62  0.86 -4.67  0.2   0.13 -0.96]\n",
      " [ 0.28  5.77  1.08  4.47 -1.37  5.56]\n",
      " [-3.17 -4.92 -1.73 -4.39  1.01 -1.52]\n",
      " [-5.05  4.15 -1.84  1.93 -4.87 -4.54]\n",
      " [ 1.02 -2.98  2.84 -3.73  0.69  4.35]]\n",
      "b: [[ 5.27]\n",
      " [ 1.2 ]\n",
      " [-5.09]\n",
      " [-4.18]\n",
      " [-3.87]\n",
      " [ 1.41]]\n"
     ]
    }
   ],
   "source": [
    "#Generamos un sistema de ecuaciones lineales\n",
    "m=6\n",
    "n=6\n",
    "A=np.round(fQR.crear_matriz_aleatoria(m,n,6,-6,False),2)\n",
    "b = np.round(fQR.crear_matriz_aleatoria(m,1,6,-6,False),2)\n",
    "print(\"A:\",A)\n",
    "print(\"b:\",b)"
   ]
  },
  {
   "cell_type": "markdown",
   "metadata": {},
   "source": [
    "Primero resolvamos el sistema de ecuaciones usando la paquetería de numpy para comparar."
   ]
  },
  {
   "cell_type": "code",
   "execution_count": 25,
   "metadata": {},
   "outputs": [
    {
     "data": {
      "text/plain": [
       "array([[ 3.32287037],\n",
       "       [ 5.85509161],\n",
       "       [-1.75418441],\n",
       "       [-6.57109102],\n",
       "       [ 1.48688747],\n",
       "       [-1.16905584]])"
      ]
     },
     "execution_count": 25,
     "metadata": {},
     "output_type": "execute_result"
    }
   ],
   "source": [
    "np.linalg.solve(A,b)"
   ]
  },
  {
   "cell_type": "markdown",
   "metadata": {},
   "source": [
    "Ahora usemos la factorización QR"
   ]
  },
  {
   "cell_type": "code",
   "execution_count": 26,
   "metadata": {},
   "outputs": [
    {
     "data": {
      "text/plain": [
       "array([[ 3.32287037],\n",
       "       [ 5.85509161],\n",
       "       [-1.75418441],\n",
       "       [-6.57109102],\n",
       "       [ 1.48688747],\n",
       "       [-1.16905584]])"
      ]
     },
     "execution_count": 26,
     "metadata": {},
     "output_type": "execute_result"
    }
   ],
   "source": [
    "x=Solucion_SEL_QR_nxn(A,b)\n",
    "x"
   ]
  },
  {
   "cell_type": "code",
   "execution_count": 27,
   "metadata": {},
   "outputs": [
    {
     "data": {
      "text/plain": [
       "array([[ 5.27],\n",
       "       [ 1.2 ],\n",
       "       [-5.09],\n",
       "       [-4.18],\n",
       "       [-3.87],\n",
       "       [ 1.41]])"
      ]
     },
     "execution_count": 27,
     "metadata": {},
     "output_type": "execute_result"
    }
   ],
   "source": [
    "#Checamos que sea solucion (debe ser igual al vector b)\n",
    "A@x"
   ]
  },
  {
   "cell_type": "markdown",
   "metadata": {},
   "source": [
    "Por último usemos eliminación por bloques con QR"
   ]
  },
  {
   "cell_type": "code",
   "execution_count": 28,
   "metadata": {},
   "outputs": [
    {
     "data": {
      "text/plain": [
       "array([[ 3.32287037],\n",
       "       [ 5.85509161],\n",
       "       [-1.75418441],\n",
       "       [-6.57109102],\n",
       "       [ 1.48688747],\n",
       "       [-1.16905584]])"
      ]
     },
     "execution_count": 28,
     "metadata": {},
     "output_type": "execute_result"
    }
   ],
   "source": [
    "eliminacion_bloques(A,b)"
   ]
  },
  {
   "cell_type": "markdown",
   "metadata": {},
   "source": [
    "### B) Sistema sin solución"
   ]
  },
  {
   "cell_type": "code",
   "execution_count": null,
   "metadata": {},
   "outputs": [],
   "source": []
  },
  {
   "cell_type": "markdown",
   "metadata": {},
   "source": [
    "### C) Sistema con infinitas soluciones"
   ]
  },
  {
   "cell_type": "code",
   "execution_count": null,
   "metadata": {},
   "outputs": [],
   "source": []
  },
  {
   "cell_type": "code",
   "execution_count": null,
   "metadata": {},
   "outputs": [],
   "source": []
  },
  {
   "cell_type": "code",
   "execution_count": null,
   "metadata": {},
   "outputs": [],
   "source": []
  },
  {
   "cell_type": "code",
   "execution_count": null,
   "metadata": {},
   "outputs": [],
   "source": []
  },
  {
   "cell_type": "code",
   "execution_count": null,
   "metadata": {},
   "outputs": [],
   "source": []
  },
  {
   "cell_type": "code",
   "execution_count": null,
   "metadata": {},
   "outputs": [],
   "source": []
  },
  {
   "cell_type": "code",
   "execution_count": null,
   "metadata": {},
   "outputs": [],
   "source": []
  }
 ],
 "metadata": {
  "kernelspec": {
   "display_name": "Python 3",
   "language": "python",
   "name": "python3"
  },
  "language_info": {
   "codemirror_mode": {
    "name": "ipython",
    "version": 3
   },
   "file_extension": ".py",
   "mimetype": "text/x-python",
   "name": "python",
   "nbconvert_exporter": "python",
   "pygments_lexer": "ipython3",
   "version": "3.7.3"
  }
 },
 "nbformat": 4,
 "nbformat_minor": 4
}
