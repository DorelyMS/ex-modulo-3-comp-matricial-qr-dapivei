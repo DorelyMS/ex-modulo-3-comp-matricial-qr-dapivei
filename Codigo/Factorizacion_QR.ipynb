{
 "cells": [
  {
   "cell_type": "code",
   "execution_count": 1,
   "metadata": {},
   "outputs": [],
   "source": [
    "#paquetes python\n",
    "import os\n",
    "import numpy as np\n",
    "import copy\n",
    "import pprint\n",
    "from math import sqrt\n",
    "from scipy.linalg import solve_triangular\n",
    "import inspect\n",
    "import sys\n",
    "\n",
    "#paquetes funciones definidas obtenidas de archivos .py\n",
    "import funciones_factorizacion_QR as fQR"
   ]
  },
  {
   "cell_type": "markdown",
   "metadata": {},
   "source": [
    "**OBJETIVO:**\n",
    "\n",
    "El presente notebook tiene por finalidad exhibir el uso y entendimiento de las funciones definidas para resolver un Sistema de Ecuaciones Lineales (SEL) a través de 3 pasos:\n",
    "\n",
    "    1) Obtención de factorización QR (A=QR)\n",
    "    2) Implementación del método de eliminación por bloques\n",
    "    3) Resolución de SEL (Ax=b) con los 2 pasos anteriores\n",
    "    \n",
    "Para lograr tal objetivo se presentarán a continuacion las funciones implementadas en python, así como una serie de ejemplos para entender mejor su funcionamiento"
   ]
  },
  {
   "cell_type": "markdown",
   "metadata": {},
   "source": [
    "## Factorización QR\n",
    "\n",
    "### Funciones"
   ]
  },
  {
   "cell_type": "code",
   "execution_count": 2,
   "metadata": {},
   "outputs": [
    {
     "name": "stdout",
     "output_type": "stream",
     "text": [
      "def crear_matriz_aleatoria(renglones,columnas,maximo_valor,minimo_valor,entero=False):\n",
      "    \"\"\"\n",
      "    Función de apoyo para genear matrices aleatorias\n",
      "\n",
      "    params: renglones       no. de renglones de la matriz\n",
      "            columnas        no. de columnas de la matriz\n",
      "            maximo_valor    valor máximo de las entradas de la matriz\n",
      "            minimo_valor    valor mínimo de las entradas de la matriz\n",
      "            entero          Indica si las entradas serán enteras (True) o no\n",
      "            \n",
      "    return: M               Matriz con numeros al azar\n",
      "    \"\"\"\n",
      "    \n",
      "    #Se checa que los parámetros sean congruentes con la funcionalidad\n",
      "    if isinstance(renglones, int)==False or isinstance(columnas, int)==False:\n",
      "        sys.exit('Los parámetros de renglones y columnas deben ser enteros positivos')\n",
      "    elif renglones<=0 or columnas<=0:\n",
      "        sys.exit('Los parámetros de renglones y columnas deben ser enteros positivos')            \n",
      "    if isinstance(maximo_valor, (int, float))==False or isinstance(minimo_valor, (int, float))==False:\n",
      "        sys.exit('Los parámetros maximo_valor y minimo_valor deben ser numericos')\n",
      "\n",
      "    #Se inicializa una matriz llena de ceros con las dimensiones deseadas (mxn)\n",
      "    M=np.zeros((renglones, columnas))\n",
      "    for i in range(renglones):\n",
      "        for j in range(columnas):\n",
      "            #Si entero es verdadero se obtiene el maximo entero menor o igual a 1 (//1)\n",
      "            if entero:\n",
      "                M[i][j]=(np.random.rand(1)*(maximo_valor+1-minimo_valor)+minimo_valor)//1\n",
      "            else:\n",
      "                M[i][j]=np.random.rand(1)*(maximo_valor-minimo_valor)+minimo_valor\n",
      "    return M\n",
      "\n"
     ]
    }
   ],
   "source": [
    "#Código \"crear_matriz_aleatoria\"\n",
    "lines=inspect.getsource(fQR.crear_matriz_aleatoria)\n",
    "print(lines)"
   ]
  },
  {
   "cell_type": "code",
   "execution_count": 3,
   "metadata": {},
   "outputs": [
    {
     "name": "stdout",
     "output_type": "stream",
     "text": [
      "Help on function crear_matriz_aleatoria in module funciones_factorizacion_QR:\n",
      "\n",
      "crear_matriz_aleatoria(renglones, columnas, maximo_valor, minimo_valor, entero=False)\n",
      "    \r\n",
      "    Descripción:\r\n",
      "            Función que genera matrices de tamaño definido con entradas dentro del rango\r\n",
      "            indicado\r\n",
      "    \r\n",
      "    Parametros:\r\n",
      "            renglones       integer indica renglones de la matriz\r\n",
      "            columnas        integer indica columnas de la matriz\r\n",
      "            maximo_valor    integer o double señala valor máximo de las entradas de la matriz\r\n",
      "            minimo_valor    integer o double señala valor mínimo de las entradas de la matriz\r\n",
      "            entero          Boolean, indica si las entradas serán enteras (True) o no (False)\r\n",
      "    \r\n",
      "    Resultado:\r\n",
      "            M               np.ndarray que representa matriz (mxn) con numeros al azar en el\r\n",
      "                            rango indicado\r\n",
      "    \r\n",
      "    Ejemplos:\r\n",
      "    Crear matriz de m=4 renglones y n=3 columnas, con entradas reales entre 3.4 y 15.6:\r\n",
      "    crea_matriz(m,n,3.4,15.6)\r\n",
      "    \r\n",
      "    Crear matriz de m=2 renglones y n=2 columnas, con entradas enteras entre 0 y 1:\r\n",
      "    crea_matriz(2,2,0,1,True)\n",
      "\n"
     ]
    }
   ],
   "source": [
    "#ayuda \"crear_matriz_aleatoria\"\n",
    "help(fQR.crear_matriz_aleatoria)"
   ]
  },
  {
   "cell_type": "code",
   "execution_count": 4,
   "metadata": {},
   "outputs": [
    {
     "name": "stdout",
     "output_type": "stream",
     "text": [
      "def house(x):\n",
      "    \"\"\"\n",
      "    Función que calcula vector de householder\n",
      "    \n",
      "    params: x       vector al que se le hará la reflexión householder\n",
      "                    \n",
      "    return: Beta    factor para obtener matriz de reflexión householder Rf\n",
      "            v       vector de householder\n",
      "    \"\"\"\n",
      "    \n",
      "    #Se checa que los parámetros sean congruentes con la funcionalidad\n",
      "    if type(x) is not np.ndarray:\n",
      "        sys.exit('x debe ser de tipo numpy.ndarray')\n",
      "    \n",
      "    #longitud del vector x=(x_0,x_1,x_2,...,x_(m-1))\n",
      "    m=len(x)\n",
      "    norm_2_m=x[1:m].dot(np.transpose(x[1:m]))\n",
      "    #Se hace v=x=(1,x_1,x_2,...,x_(m-1))\n",
      "    v=np.concatenate((1,x[1:m]), axis=None)\n",
      "    Beta=0\n",
      "    #con las siguientes condiciones se checa si x es múltiplo del vector canónico e_1 \n",
      "    #y el signo de x[0]\n",
      "    if (norm_2_m==0 and x[0]>=0):\n",
      "        Beta=0\n",
      "    elif (norm_2_m==0 and x[0]<0):\n",
      "        Beta=2\n",
      "    else:\n",
      "        norm_x=np.sqrt(pow(x[0],2)+norm_2_m)\n",
      "        if (x[0]<=0):\n",
      "            v[0]=x[0]-norm_x\n",
      "        else:\n",
      "            v[0]=-norm_2_m/(x[0]+norm_x)\n",
      "        Beta=2*pow(v[0],2)/(norm_2_m+pow(v[0],2))\n",
      "        v=v/v[0]\n",
      "    return Beta, v\n",
      "\n"
     ]
    }
   ],
   "source": [
    "#código \"house\"\n",
    "lines=inspect.getsource(fQR.house)\n",
    "print(lines)"
   ]
  },
  {
   "cell_type": "code",
   "execution_count": 5,
   "metadata": {},
   "outputs": [
    {
     "name": "stdout",
     "output_type": "stream",
     "text": [
      "Help on function house in module funciones_factorizacion_QR:\n",
      "\n",
      "house(x)\n",
      "    \r\n",
      "    Descripción:\r\n",
      "            Función que calcula vector de householder\r\n",
      "    \r\n",
      "    Parametros:\r\n",
      "            x       np.ndarray que representa vector al que se le hará la reflexión householder\r\n",
      "    \r\n",
      "    Resultado:\r\n",
      "            Beta    double para obtener matriz de reflexión householder v\r\n",
      "            v       np.ndarray que representa vector que representa la reflexión de householder\r\n",
      "    \r\n",
      "    Con el vector v y el factor beta obtenidos se puede calcular la matriz de reflexión de\r\n",
      "    householder R, donde R= Identidad(mxm) - Beta*v*v_transpuesta (v*v_transpuesta es matriz  \r\n",
      "    de pxp si v tiene p entradas). El vector v está construido de tal forma que al generar la \r\n",
      "    matriz de reflexión de householder Rf y multiplicarse por x se obtiene una proyección de \r\n",
      "    este último sobre el vector canónico e_1=(1,0,0,...,0) obteniendo un vector con todas sus \r\n",
      "    entradas ingualas  a cero excepto la primera, que de hecho es ||x||*e_1=(||x||,0,0,...,0)\r\n",
      "    \r\n",
      "    Esta mecánica se puede implementar en matrices para generar matrices triangulares superiores \r\n",
      "    (generando ceros en el triangulo inferior) como se ilustra a continuación\r\n",
      "    \r\n",
      "       [ a00 a01 a02 a03 ]\r\n",
      "    A= [ a10 a11 a12 a13 ]\r\n",
      "       [ a20 a21 a22 a23 ]\r\n",
      "       [ a30 a31 a32 a33 ]\r\n",
      "    \r\n",
      "    Tomese x=A[:,0]=[a00,a10,a20,a30], calcular (v,Beta) y con ello la matriz de reflexión Rf_0. \r\n",
      "    Con el producto Rf_0*A se obtiene una matriz de la forma:\r\n",
      "       [  *   *   *   *  ]\r\n",
      "    A= [  0   *   *   *  ]\r\n",
      "       [  0   *   *   *  ]\r\n",
      "       [  0   *   *   *  ]\r\n",
      "    \r\n",
      "    Tomese x=A[:,1]=[a11,a21,a31], calcular (v,Beta) y con ello la matriz de reflexión Rf_1. \r\n",
      "    Con el producto Rf_1*Rf_0*A se obtiene una matriz de la forma:\r\n",
      "       [  *   *   *   *  ]\r\n",
      "    A= [  0   *   *   *  ]\r\n",
      "       [  0   0   *   *  ]\r\n",
      "       [  0   0   *   *  ]\n",
      "\n"
     ]
    }
   ],
   "source": [
    "#ayuda \"house\"\n",
    "help(fQR.house)"
   ]
  },
  {
   "cell_type": "code",
   "execution_count": 6,
   "metadata": {},
   "outputs": [
    {
     "name": "stdout",
     "output_type": "stream",
     "text": [
      "def matriz_auxiliar_Arv(A,ind_singular=False):\n",
      "    \"\"\"\n",
      "    Función que genera una matriz que contiene los elementos r distintos de cero de la \n",
      "    matriz R y las entradas de los vectores householder v (excepto la primera), con los \n",
      "    cuales se puede calcular la matriz Q. Ambas matrices componentes de la factorización QR\n",
      "    \n",
      "    params: A      Matriz (mxn) de la que se desea obtner factorización QR\n",
      "            \n",
      "    return: Arv    Matriz (mxn) que incluye las componentes distintas de cero de la matriz R \n",
      "                   y los vectores householder con los que se puede obtener la matriz Q, y \n",
      "                   con ello la factorización QR\n",
      "    \"\"\"\n",
      "    \n",
      "    #Se checa que los parámetros sean congruentes con la funcionalidad\n",
      "    if type(A) is not np.ndarray:\n",
      "        sys.exit('A debe ser de tipo numpy.ndarray')\n",
      "    m,n=A.shape\n",
      "    if m<n:\n",
      "        sys.exit('EL numero de renglones de A debe ser mayor o igual al no. de columnas')\n",
      "    \n",
      "    #m contiene el numero de renglones y n el de columnas\n",
      "    m,n=A.shape\n",
      "    #se crea una matriz con los valores de A\n",
      "    Arv=copy.copy(A)\n",
      "    \n",
      "    #si no se pide que se cheque que la matriz es singular, se obtendrá la matriz R\n",
      "    #aún si esta es singula (que exista algún elemento de la diagonal que sea 0\n",
      "    if ind_singular==False:\n",
      "        for j in range(n):\n",
      "            beta, v=house(Arv[j:m,j])\n",
      "            #Con esta multiplicación se van generando las componentes r de la matriz R\n",
      "            Arv[j:m,j:n]=Arv[j:m,j:n]-beta*np.outer(v,(np.transpose(v)@Arv[j:m,j:n]))\n",
      "            #se guarda en cada columnas los valores de v d, excepto la primer componente (que vale 1)\n",
      "            Arv[(j+1):m,j]=v[1:(m-j)]\n",
      "    else:\n",
      "        for j in range(n):\n",
      "            beta, v=house(Arv[j:m,j])\n",
      "            Arv[j:m,j:n]=Arv[j:m,j:n]-beta*np.outer(v,(np.transpose(v)@Arv[j:m,j:n]))\n",
      "            #Si se detecta que alguna entrada de la diagonal (elemento de la maatriz R)\n",
      "            #es cero, se devuelve un valor nulo (None), y para el cálculo de Arv\n",
      "            #No se condiciona sobre si alcanza el valor de cero, sino más bien\n",
      "            #si está lo suficientemente cercano, pues dados los errores por redondeo\n",
      "            #no siempre se alcanza el cero aunque teóricamente sí lo sea, pero el\n",
      "            #algoritmos arroja un valor cercano a cero\n",
      "            if Arv[j,j]<10**(-14) or Arv[j,j]>-10**(-14):\n",
      "                return None\n",
      "            Arv[(j+1):m,j]=v[1:(m-j)]\n",
      "    return Arv\n",
      "\n"
     ]
    }
   ],
   "source": [
    "#código \"matriz_auxiliar_Arv\"\n",
    "lines=inspect.getsource(fQR.matriz_auxiliar_Arv)\n",
    "print(lines)"
   ]
  },
  {
   "cell_type": "code",
   "execution_count": 7,
   "metadata": {},
   "outputs": [
    {
     "name": "stdout",
     "output_type": "stream",
     "text": [
      "Help on function matriz_auxiliar_Arv in module funciones_factorizacion_QR:\n",
      "\n",
      "matriz_auxiliar_Arv(A, ind_singular=False)\n",
      "    \r\n",
      "    Descripción:\r\n",
      "            Función que genera una matriz que contiene los elementos r distintos de cero de \r\n",
      "            la matriz R y las entradas de los vectores householder v (excepto la primera), \r\n",
      "            con los cuales se puede calcular la matriz Q. Ambas matrices componentes de la \r\n",
      "            factorización QR\r\n",
      "    \r\n",
      "    Parametros:\r\n",
      "            A      numpy.ndarray que representa matriz (mxn) de la que se desea obtener \r\n",
      "                   elemento de factorización QR\r\n",
      "    \r\n",
      "    Resultado:\r\n",
      "            Arv    numpy.ndarray que representa matriz (mxn) que incluye las componentes \r\n",
      "                   distintas de cero de la matriz R y los vectores householder con los \r\n",
      "                   que se puede obtener la matriz Q, y con ello la factorización QR\r\n",
      "    \r\n",
      "    La factorización QR consiste en encontrar 2 matrices tales que A=Q*R \r\n",
      "    donde Q es una matriz ortogonal y R es una matriz triangular superior \r\n",
      "    Las entradas de la matriz Arv que arroja esta función se pueden visualizar como:\r\n",
      "         [ r00  r01  r02  r03 ]\r\n",
      "         [ v10  r11  r12  r13 ]\r\n",
      "    Arv= [ v20  v21  r22  r23 ]\r\n",
      "         [ v30  v31  v32  r33 ]\r\n",
      "         [ v40  v41  v42  v43 ]\r\n",
      "    \r\n",
      "    Las entradas r conforman la matriz R (triangular superior): \r\n",
      "         [ r00  r01  r02  r03 ] \r\n",
      "         [  0   r11  r12  r13 ] \r\n",
      "    R=   [  0    0   r22  r23 ] \r\n",
      "         [  0    0    0   r33 ] \r\n",
      "         [  0    0    0    0  ]\r\n",
      "    \r\n",
      "    La matriz Q puede obtenerse a partir de los vectores householder v, los cuales \r\n",
      "    sirven para construir la matriz de reflexión de householder R, con \r\n",
      "    R=Identidad(mxm) - Beta*v*v_trans  y  Beta=2/(v_trans*v) \r\n",
      "                           [  1                 ]\r\n",
      "                           [ v10   1            ]\r\n",
      "    vectores householder*= [ v20  v21   1       ]\r\n",
      "                           [ v30  v31  v32   1  ]\r\n",
      "                           [ v40  v41  v42  v43 ]\r\n",
      "    \r\n",
      "    *Notese que Avr no tiene la primera entrada de los vectores v, pero sabemos por \r\n",
      "    construcción que es igual a 1. Con el vector v_1=(1,v10,v20,v30,v40) se puede\r\n",
      "    calcular Q_1, con v_2=(1,v21,v31,v41) se puede calcular Q_2, con v_3=(1,v32,v42)\r\n",
      "    se puede calcular Q_3 y con v_4=(1,v43) se puede calcular Q_4.\n",
      "\n"
     ]
    }
   ],
   "source": [
    "#Código \"matriz_auxiliar_Arv\"\n",
    "help(fQR.matriz_auxiliar_Arv)"
   ]
  },
  {
   "cell_type": "code",
   "execution_count": 8,
   "metadata": {},
   "outputs": [
    {
     "name": "stdout",
     "output_type": "stream",
     "text": [
      "def matriz_Q_R(A,ind_singular=False):\n",
      "    \"\"\"\n",
      "    Función que devuelve la matriz R y Q de la factorización QR de una matriz A\n",
      "    \n",
      "    params: A    Matriz (mxn)\n",
      "\n",
      "    return: Q    Matriz Q (mxm) de la factorización A=QR\n",
      "            R    Matriz Q (mxm) de la factorización A=QR\n",
      "    \"\"\"\n",
      "    \n",
      "    #Se checa que los parámetros sean congruentes con la funcionalidad\n",
      "    if type(A) is not np.ndarray:\n",
      "        sys.exit('A debe ser de tipo numpy.ndarray')\n",
      "    elif A.shape[0]<A.shape[1]:\n",
      "        sys.exit('El numero de renglones de A tiene que ser igual o mayor al no. de columnas')\n",
      "    \n",
      "    #si ind_singular es True, entonces no se devuelve la matriz R ni Q\n",
      "    #esto se plantea así como un sistema de contról, para evitar comprobar que las matrices\n",
      "    #sean singulares (y no tengan una única solución) mediante el determinante, que\n",
      "    #involucra un alto costo computacional para matrices de tamaño representativo\n",
      "    Arv=matriz_auxiliar_Arv(A,ind_singular)\n",
      "\n",
      "    if Arv is None:\n",
      "        return None, None\n",
      "    else:\n",
      "        m,n=A.shape\n",
      "        Q=np.eye(m)\n",
      "        R=copy.copy(A)\n",
      "        for j in range(n):\n",
      "            Qj=Q_j(Arv,j+1)\n",
      "            Q=Q@Qj\n",
      "            R=Q_j(Arv,j+1)@R\n",
      "        return Q,R\n",
      "\n"
     ]
    }
   ],
   "source": [
    "#Código \"matriz_Q_R\"\n",
    "lines=inspect.getsource(fQR.matriz_Q_R)\n",
    "print(lines)"
   ]
  },
  {
   "cell_type": "code",
   "execution_count": 9,
   "metadata": {},
   "outputs": [
    {
     "name": "stdout",
     "output_type": "stream",
     "text": [
      "Help on function matriz_Q_R in module funciones_factorizacion_QR:\n",
      "\n",
      "matriz_Q_R(A, ind_singular=False)\n",
      "    \r\n",
      "    Descripción:\r\n",
      "            Función que devuelve la matriz Q y R de la factorización QR de una matriz A\r\n",
      "    \r\n",
      "    Parametros:\r\n",
      "            A     np.ndarray que representa una matriz (mxn)\r\n",
      "    \r\n",
      "    Resultado:\r\n",
      "            R     np.ndarray que representa matriz R (mxm) de la factorización A=QR\r\n",
      "            Q     np.ndarray que representa matriz Q (mxm) de la factorización A=QR\r\n",
      "    \r\n",
      "    \r\n",
      "    Para obtener la factorización primero se calcula la matriz auxiliar Arv. La matriz Q \r\n",
      "    (matriz ortogonal tal que Q_transpuesta*Q es igual a la identidad (mxm)\r\n",
      "    se calcula como el producto de las matrices Q_j's, las cuales se obtienen a partir\r\n",
      "    de las diferentes matrices de reflexión householder utilizadas para generar los ceros\r\n",
      "    en las columnas de A para formar la matriz R\r\n",
      "    \r\n",
      "    Q = Q_1*Q_2*Q_3*Q_4\r\n",
      "    \r\n",
      "    Nota: Cada matriz Q_j se calcula con el vector v_j, correspondiente al j-ésimo \r\n",
      "    vector de householder como: Q_j = Identidad(mxm) - Beta*v_j*v_j_transpuesta\r\n",
      "    Dichos vectores v están contenidos dentro de la matriz auxiliar Arv\r\n",
      "    \r\n",
      "    La matriz R es calculada como Q@A. Recordemos que la matriz Arv tiene elementos\r\n",
      "    de R como se puede ver a continuación:\r\n",
      "    \r\n",
      "         [ r11  r12  r13  r14 ]            [ r11  r12  r13  r14 ]\r\n",
      "         [ v21  r22  r23  r24 ]            [  0   r22  r23  r24 ]\r\n",
      "    Arv= [ v31  v32  r33  r34 ]   -->   R= [  0    0   r33  r34 ]\r\n",
      "         [ v41  v42  v43  r44 ]            [  0    0    0   r44 ]\r\n",
      "         [ v51  v52  v53  v54 ]            [  0    0    0    0  ]\n",
      "\n"
     ]
    }
   ],
   "source": [
    "#Ayuda \"matriz_Q_R\"\n",
    "help(fQR.matriz_Q_R)"
   ]
  },
  {
   "cell_type": "code",
   "execution_count": 10,
   "metadata": {},
   "outputs": [
    {
     "name": "stdout",
     "output_type": "stream",
     "text": [
      "def Q_j(Arv,j):\n",
      "    \"\"\"\n",
      "    Función que calcula la matriz Qj (en el proceso de obtención de factorización QR se van \n",
      "    obteniendo n Qj's, que si se multiplican todas da por resultado Q=Q_1*Q_2*...*Q_n)\n",
      "                            \n",
      "    params: Arv   Matriz (mxn) con la info escencial\n",
      "            j     indica el índice de la matriz Q_j\n",
      "\n",
      "    return: Qj    Matriz Q de la j-esima iteración del proceso iterativo de factorización QR\n",
      "    \"\"\"\n",
      "    \n",
      "    #Se checa que los parámetros sean congruentes con la funcionalidad\n",
      "    if type(Arv) is not np.ndarray:\n",
      "        sys.exit('Arv debe ser de tipo numpy.ndarray')\n",
      "    elif Arv.shape[0]<Arv.shape[1]:\n",
      "        sys.exit('El numero de renglones de Arv tiene que ser igual o mayor al no. de columnas')\n",
      "    if isinstance(j, int)==False:\n",
      "        sys.exit('El parámetro j deber ser un entero')\n",
      "    elif 1>j or j>Arv.shape[1]:\n",
      "        sys.exit('El parámetro j debe estar en el rango [1,no. columnas de Arv]')\n",
      "    \n",
      "    m,n=Arv.shape\n",
      "    Qj=np.eye(m)\n",
      "    #Para construir Q_j requerimos usar el vector v contenido en Arv contenido\n",
      "    #en la j-1 columna (considerando que en Python la primer columna es la cero)\n",
      "    v=np.concatenate((1,Arv[j:m,(j-1)]), axis=None)\n",
      "    beta=2/(1+Arv[j:m,(j-1)].dot(Arv[j:m,(j-1)]))\n",
      "    Qj[(j-1):m,(j-1):m]=np.eye(m-(j-1))-beta*np.outer(v,v)\n",
      "    return Qj\n",
      "\n"
     ]
    }
   ],
   "source": [
    "#Código \"Q_j\"\n",
    "lines=inspect.getsource(fQR.Q_j)\n",
    "print(lines)"
   ]
  },
  {
   "cell_type": "code",
   "execution_count": 11,
   "metadata": {},
   "outputs": [
    {
     "name": "stdout",
     "output_type": "stream",
     "text": [
      "Help on function Q_j in module funciones_factorizacion_QR:\n",
      "\n",
      "Q_j(Arv, j)\n",
      "    \r\n",
      "    Descripción:\r\n",
      "            Función que calcula la matriz Qj (en el proceso de obtención de \r\n",
      "            factorización QR se van obteniendo n Qj's, que si se multiplican todas \r\n",
      "            da por resultado Q=Q_1*Q_2*...*Q_n)\r\n",
      "    \r\n",
      "    Parámetros:                            \r\n",
      "            A_r_v   np.ndarray que representa la matriz auxiliar (mxn) que incluye \r\n",
      "                elementos de la matriz R y Q, de la factorización QR\r\n",
      "            j       integer que indica el índice de la matriz Q_j\r\n",
      "    \r\n",
      "    Resultado:\r\n",
      "            Qj      np.ndarray que representa la j-esima transformación de householder\r\n",
      "    \r\n",
      "    La matriz Q_j se calcula con el vector v_j, correspondiente al j-ésimo vector \r\n",
      "    de householder como: Q_j = Identidad(mxm) - Beta*v_j*v_j_transpuesta\n",
      "\n"
     ]
    }
   ],
   "source": [
    "#Ayuda \"Q_j\"\n",
    "help(fQR.Q_j)"
   ]
  },
  {
   "cell_type": "markdown",
   "metadata": {},
   "source": [
    "## Factorización QR\n",
    "\n",
    "### Ejemplos"
   ]
  },
  {
   "cell_type": "code",
   "execution_count": 12,
   "metadata": {},
   "outputs": [
    {
     "data": {
      "text/plain": [
       "array([[1., 2., 1.],\n",
       "       [2., 3., 2.],\n",
       "       [1., 2., 3.]])"
      ]
     },
     "execution_count": 12,
     "metadata": {},
     "output_type": "execute_result"
    }
   ],
   "source": [
    "#Pra probar el funcionamiento de estas funciones puede definirse una matriz entrada por entrada\n",
    "#o usar la función crear_matriz_aleatoria\n",
    "\n",
    "#Ejemplo a mano (asegurandose de que sus entradas sean tipo dobles -aunque sólo se capture\n",
    "#una parte entera-, pues de lo contrario se tendrán errores por redondeo significativos)\n",
    "A=np.array([[1, 2, 1], [2, 3, 2], [1, 2, 3]], dtype='d')\n",
    "A"
   ]
  },
  {
   "cell_type": "code",
   "execution_count": 13,
   "metadata": {},
   "outputs": [
    {
     "name": "stdout",
     "output_type": "stream",
     "text": [
      "x=\n",
      " [1. 2. 3.]\n",
      "\n",
      "\n",
      "Beta=\n",
      " 0.7327\n",
      "\n",
      "\n",
      "v=\n",
      " [ 1.     -0.7295 -1.0942]\n",
      "\n",
      "\n",
      "R=\n",
      " [[ 0.2673  0.5345  0.8018]\n",
      " [ 0.5345  0.6101 -0.5849]\n",
      " [ 0.8018 -0.5849  0.1227]]\n",
      "\n",
      "\n",
      "Rx=\n",
      " [3.7417 0.     0.    ]\n"
     ]
    }
   ],
   "source": [
    "x=np.array([1,2,3.])\n",
    "print(\"x=\\n\",x)\n",
    "\n",
    "Beta,v=fQR.house(x)\n",
    "print(\"\\n\\nBeta=\\n\",np.round(Beta,4))\n",
    "print(\"\\n\\nv=\\n\",np.round(v,4))\n",
    "\n",
    "#Calculando matriz de reflexión de householder R\n",
    "R=np.eye(3)-Beta*np.outer(v,v)\n",
    "print(\"\\n\\nR=\\n\",np.round(R,4))\n",
    "\n",
    "#Observese como el producto de Rx da por resultado un vector con\n",
    "#todas sus entradas igualas a cero excepto la primera\n",
    "print(\"\\n\\nRx=\\n\",np.round(R@x,4))"
   ]
  },
  {
   "cell_type": "code",
   "execution_count": 14,
   "metadata": {},
   "outputs": [
    {
     "name": "stdout",
     "output_type": "stream",
     "text": [
      "\n",
      "\n",
      "A=\n",
      " [[ 1.0044  3.7357 -0.4083 -0.9154]\n",
      " [ 3.5217 -3.4771 -5.9838  4.4937]\n",
      " [-0.5128  4.5858  3.8352 -0.8523]\n",
      " [-2.7381  0.1452  1.8612  5.4076]\n",
      " [ 2.1032  5.0831 -0.5211  3.9373]\n",
      " [-2.9406 -3.055  -5.2158  3.4916]]\n",
      "\n",
      "\n",
      "Arv=\n",
      " [[ 5.8517  1.4409 -2.4445 -0.2478]\n",
      " [-0.7265  8.9549  6.0242 -1.3919]\n",
      " [ 0.1058 -0.4034  6.2733 -5.1334]\n",
      " [ 0.5649  0.1069 -0.2661  7.0952]\n",
      " [-0.4339 -0.5647  0.809  -9.436 ]\n",
      " [ 0.6067  0.4131  0.3045  2.156 ]]\n",
      "\n",
      "\n",
      "Q=\n",
      " [[ 0.1717  0.3895 -0.3723 -0.3159 -0.5385 -0.5389]\n",
      " [ 0.6018 -0.4851 -0.2535  0.3758  0.1947 -0.3988]\n",
      " [-0.0876  0.5262  0.0719  0.0321  0.7205 -0.436 ]\n",
      " [-0.4679  0.0915  0.0265  0.7829 -0.3117 -0.2487]\n",
      " [ 0.3594  0.5098 -0.4326  0.3545  0.0288  0.5453]\n",
      " [-0.5025 -0.2603 -0.7773 -0.1389  0.2344  0.0359]]\n",
      "\n",
      "\n",
      "R=\n",
      " [[ 5.8517  1.4409 -2.4445 -0.2478]\n",
      " [ 0.      8.9549  6.0242 -1.3919]\n",
      " [ 0.      0.      6.2733 -5.1334]\n",
      " [-0.     -0.     -0.      7.0952]\n",
      " [-0.      0.     -0.     -0.    ]\n",
      " [-0.      0.      0.      0.    ]]\n",
      "\n",
      "\n",
      "Q@R=\n",
      " [[ 1.0044  3.7357 -0.4083 -0.9154]\n",
      " [ 3.5217 -3.4771 -5.9838  4.4937]\n",
      " [-0.5128  4.5858  3.8352 -0.8523]\n",
      " [-2.7381  0.1452  1.8612  5.4076]\n",
      " [ 2.1032  5.0831 -0.5211  3.9373]\n",
      " [-2.9406 -3.055  -5.2158  3.4916]]\n",
      "\n",
      "\n",
      "A=\n",
      " [[ 1.0044  3.7357 -0.4083 -0.9154]\n",
      " [ 3.5217 -3.4771 -5.9838  4.4937]\n",
      " [-0.5128  4.5858  3.8352 -0.8523]\n",
      " [-2.7381  0.1452  1.8612  5.4076]\n",
      " [ 2.1032  5.0831 -0.5211  3.9373]\n",
      " [-2.9406 -3.055  -5.2158  3.4916]]\n"
     ]
    }
   ],
   "source": [
    "#Definase una matriz A\n",
    "A=fQR.crear_matriz_aleatoria(6,4,6,-6)\n",
    "print('\\n\\nA=\\n',np.round(A,4))\n",
    "\n",
    "#Calculamos la matriz auxiliar Arv para visualizarla\n",
    "Arv=fQR.matriz_auxiliar_Arv(A)\n",
    "print('\\n\\nArv=\\n',np.round(Arv,4))\n",
    "\n",
    "#Obtenemos la matriz Q y R a partir de Arv\n",
    "Q,R=fQR.matriz_Q_R(A)\n",
    "print('\\n\\nQ=\\n',np.round(Q,4))\n",
    "print('\\n\\nR=\\n',np.round(R,4))\n",
    "\n",
    "#Checamos que QR=A\n",
    "print('\\n\\nQ@R=\\n',np.round(Q@R,4))\n",
    "print('\\n\\nA=\\n',np.round(A,4))"
   ]
  },
  {
   "cell_type": "code",
   "execution_count": 15,
   "metadata": {},
   "outputs": [
    {
     "name": "stdout",
     "output_type": "stream",
     "text": [
      "Q_np=\n",
      " [[-0.1717  0.3895  0.3723  0.3159]\n",
      " [-0.6018 -0.4851  0.2535 -0.3758]\n",
      " [ 0.0876  0.5262 -0.0719 -0.0321]\n",
      " [ 0.4679  0.0915 -0.0265 -0.7829]\n",
      " [-0.3594  0.5098  0.4326 -0.3545]\n",
      " [ 0.5025 -0.2603  0.7773  0.1389]]\n",
      "\n",
      "R_np=\n",
      " [[-5.8517 -1.4409  2.4445  0.2478]\n",
      " [ 0.      8.9549  6.0242 -1.3919]\n",
      " [ 0.      0.     -6.2733  5.1334]\n",
      " [ 0.      0.      0.     -7.0952]]\n",
      "\n",
      "Q_np@R_np=\n",
      " [[ 1.0044  3.7357 -0.4083 -0.9154]\n",
      " [ 3.5217 -3.4771 -5.9838  4.4937]\n",
      " [-0.5128  4.5858  3.8352 -0.8523]\n",
      " [-2.7381  0.1452  1.8612  5.4076]\n",
      " [ 2.1032  5.0831 -0.5211  3.9373]\n",
      " [-2.9406 -3.055  -5.2158  3.4916]]\n"
     ]
    }
   ],
   "source": [
    "#Comparemos con el código de numpy\n",
    "Q_np, R_np=np.linalg.qr(A)\n",
    "#notamos que numpy obtiene con signos contrarios Q y R\n",
    "print('Q_np=\\n',np.round(Q_np,4))\n",
    "#Además R no guarda toda la matriz R de mxn, sino sólo la parte superior de nxn\n",
    "print('\\nR_np=\\n',np.round(R_np,4))\n",
    "#la multiplicación da por resultado A\n",
    "print('\\nQ_np@R_np=\\n',np.round(Q_np@R_np,4))"
   ]
  },
  {
   "cell_type": "code",
   "execution_count": 16,
   "metadata": {},
   "outputs": [
    {
     "data": {
      "text/plain": [
       "array([[ 0.1717,  0.3895, -0.3723, -0.3159, -0.5385, -0.5389],\n",
       "       [ 0.6018, -0.4851, -0.2535,  0.3758,  0.1947, -0.3988],\n",
       "       [-0.0876,  0.5262,  0.0719,  0.0321,  0.7205, -0.436 ],\n",
       "       [-0.4679,  0.0915,  0.0265,  0.7829, -0.3117, -0.2487],\n",
       "       [ 0.3594,  0.5098, -0.4326,  0.3545,  0.0288,  0.5453],\n",
       "       [-0.5025, -0.2603, -0.7773, -0.1389,  0.2344,  0.0359]])"
      ]
     },
     "execution_count": 16,
     "metadata": {},
     "output_type": "execute_result"
    }
   ],
   "source": [
    "#Observese que Q=(Q_4*Q_3*Q_2*Q_1)_transpuesta\n",
    "np.round(np.transpose(fQR.Q_j(Arv,4)@fQR.Q_j(Arv,3)@fQR.Q_j(Arv,2)@fQR.Q_j(Arv,1)),4)"
   ]
  },
  {
   "cell_type": "code",
   "execution_count": 17,
   "metadata": {},
   "outputs": [
    {
     "name": "stdout",
     "output_type": "stream",
     "text": [
      "[[ 1. -0. -0.  0.  0. -0.]\n",
      " [-0.  1.  0. -0.  0.  0.]\n",
      " [-0.  0.  1. -0. -0.  0.]\n",
      " [ 0. -0. -0.  1.  0. -0.]\n",
      " [ 0.  0. -0.  0.  1.  0.]\n",
      " [-0.  0.  0. -0.  0.  1.]]\n"
     ]
    }
   ],
   "source": [
    "#Puede comprobarse que Q_transpuesta*Q es igual a la identidad\n",
    "print(np.round(np.transpose(Q)@Q,4))"
   ]
  },
  {
   "cell_type": "code",
   "execution_count": 18,
   "metadata": {},
   "outputs": [
    {
     "name": "stdout",
     "output_type": "stream",
     "text": [
      "\n",
      "\n",
      "A=\n",
      " [[ 4. -1. -3. -3. -1.]\n",
      " [-5. -1. -4. -2.  4.]\n",
      " [ 5.  0. -1.  2. -1.]\n",
      " [ 2.  2.  0.  3.  4.]\n",
      " [ 0. -3. -1. -3.  3.]]\n",
      "\n",
      "Q 1 :\n",
      " [[ 0.4781 -0.5976  0.5976  0.239   0.    ]\n",
      " [-0.5976  0.3157  0.6843  0.2737  0.    ]\n",
      " [ 0.5976  0.6843  0.3157 -0.2737  0.    ]\n",
      " [ 0.239   0.2737 -0.2737  0.8905  0.    ]\n",
      " [ 0.      0.      0.      0.      1.    ]]\n",
      "\n",
      " Q1 @ A=\n",
      " [[ 8.3666  0.5976  0.3586  1.6733 -2.51  ]\n",
      " [-0.      0.8294 -0.1543  3.3512  2.271 ]\n",
      " [ 0.     -1.8294 -4.8457 -3.3512  0.729 ]\n",
      " [ 0.      1.2683 -1.5383  0.8595  4.6916]\n",
      " [ 0.     -3.     -1.     -3.      3.    ]]\n",
      "\n",
      "Q 2 :\n",
      " [[ 1.      0.      0.      0.      0.    ]\n",
      " [ 0.      0.2167 -0.4781  0.3314 -0.784 ]\n",
      " [ 0.     -0.4781  0.7082  0.2023 -0.4785]\n",
      " [ 0.      0.3314  0.2023  0.8598  0.3317]\n",
      " [ 0.     -0.784  -0.4785  0.3317  0.2153]]\n",
      "\n",
      " Q2 @ Q1 @ A=\n",
      " [[ 8.3666  0.5976  0.3586  1.6733 -2.51  ]\n",
      " [-0.      3.8266  2.5573  4.9652 -0.6533]\n",
      " [ 0.      0.     -3.1908 -2.3661 -1.0558]\n",
      " [-0.      0.     -2.6857  0.1766  5.929 ]\n",
      " [ 0.      0.      1.714  -1.3845  0.073 ]]\n",
      "\n",
      "Q 3 :\n",
      " [[ 1.      0.      0.      0.      0.    ]\n",
      " [ 0.      1.      0.      0.      0.    ]\n",
      " [ 0.      0.     -0.7076 -0.5956  0.3801]\n",
      " [ 0.      0.     -0.5956  0.7923  0.1326]\n",
      " [ 0.      0.      0.3801  0.1326  0.9154]]\n",
      "\n",
      " Q3 @ Q2 @ Q1 @ A=\n",
      " [[ 8.3666  0.5976  0.3586  1.6733 -2.51  ]\n",
      " [-0.      3.8266  2.5573  4.9652 -0.6533]\n",
      " [-0.     -0.      4.5091  1.0429 -2.7565]\n",
      " [-0.     -0.     -0.      1.3656  5.3358]\n",
      " [ 0.      0.      0.     -2.1433  0.4516]]\n",
      "\n",
      "Q 4 :\n",
      " [[ 1.      0.      0.      0.      0.    ]\n",
      " [ 0.      1.      0.      0.      0.    ]\n",
      " [ 0.      0.      1.      0.      0.    ]\n",
      " [ 0.      0.      0.      0.5373 -0.8434]\n",
      " [ 0.      0.      0.     -0.8434 -0.5373]]\n",
      "\n",
      " Q4 @ Q3 @ Q2 @ Q1 @ A=\n",
      " [[ 8.3666  0.5976  0.3586  1.6733 -2.51  ]\n",
      " [-0.      3.8266  2.5573  4.9652 -0.6533]\n",
      " [-0.     -0.      4.5091  1.0429 -2.7565]\n",
      " [-0.     -0.     -0.      2.5414  2.4863]\n",
      " [ 0.     -0.     -0.      0.     -4.7427]]\n",
      "\n",
      "Q 5 :\n",
      " [[ 1.  0.  0.  0.  0.]\n",
      " [ 0.  1.  0.  0.  0.]\n",
      " [ 0.  0.  1.  0.  0.]\n",
      " [ 0.  0.  0.  1.  0.]\n",
      " [ 0.  0.  0.  0. -1.]]\n",
      "\n",
      " Q5 @ Q4 @ Q3 @ Q2 @ Q1 @ A=\n",
      " [[ 8.3666  0.5976  0.3586  1.6733 -2.51  ]\n",
      " [-0.      3.8266  2.5573  4.9652 -0.6533]\n",
      " [-0.     -0.      4.5091  1.0429 -2.7565]\n",
      " [-0.     -0.     -0.      2.5414  2.4863]\n",
      " [-0.      0.      0.     -0.      4.7427]]\n",
      "\n",
      "\n",
      "\n",
      "Resultados finales:\n",
      "\n",
      "R es el resultado de multiplicar todas las Qjs a A\n",
      " [[ 8.3666  0.5976  0.3586  1.6733 -2.51  ]\n",
      " [-0.      3.8266  2.5573  4.9652 -0.6533]\n",
      " [-0.     -0.      4.5091  1.0429 -2.7565]\n",
      " [-0.     -0.     -0.      2.5414  2.4863]\n",
      " [-0.      0.      0.     -0.      4.7427]]\n",
      "\n",
      "Q es el resultado de multiplicar todas las Qjs y transponer:\n",
      " [[ 0.4781 -0.336  -0.5128 -0.6284  0.0273]\n",
      " [-0.5976 -0.168  -0.7443  0.2402 -0.0545]\n",
      " [ 0.5976 -0.0933 -0.2164  0.6646 -0.3816]\n",
      " [ 0.239   0.4853 -0.2943  0.1956  0.7632]\n",
      " [ 0.     -0.784   0.2229  0.2598  0.5179]]\n",
      "\n",
      "Q@R:\n",
      " [[ 4. -1. -3. -3. -1.]\n",
      " [-5. -1. -4. -2.  4.]\n",
      " [ 5. -0. -1.  2. -1.]\n",
      " [ 2.  2.  0.  3.  4.]\n",
      " [ 0. -3. -1. -3.  3.]]\n",
      "\n",
      "A:\n",
      " [[ 4. -1. -3. -3. -1.]\n",
      " [-5. -1. -4. -2.  4.]\n",
      " [ 5.  0. -1.  2. -1.]\n",
      " [ 2.  2.  0.  3.  4.]\n",
      " [ 0. -3. -1. -3.  3.]]\n"
     ]
    }
   ],
   "source": [
    "#Ejemplo ilustrativo de cómo obtener Q y R, visualizando cada iteración\n",
    "A=fQR.crear_matriz_aleatoria(5,5,5,-5,True)\n",
    "print('\\n\\nA=\\n',np.round(A,4))\n",
    "\n",
    "m=A.shape[0]\n",
    "n=A.shape[1]\n",
    "Q=np.eye(m)\n",
    "R=copy.copy(A)\n",
    "Arv=fQR.matriz_auxiliar_Arv(A)\n",
    "for j in range(n):\n",
    "    if j==0:\n",
    "        cadena='Q'+str(j+1)\n",
    "    else:\n",
    "        cadena='Q'+str(j+1) + ' @ ' + cadena\n",
    "    Qj=fQR.Q_j(Arv,j+1)\n",
    "    print('\\nQ',j+1,':\\n',np.round(Qj,4))\n",
    "    Q=Q@Qj\n",
    "    R=fQR.Q_j(Arv,j+1)@R\n",
    "    print('\\n',cadena,'@ A=\\n',np.round(R,4))\n",
    "\n",
    "print('\\n\\n\\nResultados finales:')\n",
    "print('\\nR es el resultado de multiplicar todas las Qjs a A\\n',np.round(R,4))\n",
    "print('\\nQ es el resultado de multiplicar todas las Qjs y transponer:\\n',np.round(Q,4))\n",
    "print('\\nQ@R:\\n',np.round(Q@R,4))\n",
    "print('\\nA:\\n',np.round(A,4))"
   ]
  },
  {
   "cell_type": "code",
   "execution_count": 19,
   "metadata": {},
   "outputs": [
    {
     "data": {
      "text/plain": [
       "array([[ 5.96317862e+01,  2.22802094e+00, -3.49768147e+00, ...,\n",
       "        -3.06589752e+00, -5.76594374e+00, -1.08240200e+00],\n",
       "       [ 1.08175499e-01,  6.47415544e+01, -7.55862460e+00, ...,\n",
       "        -5.34235642e+00,  1.37419790e+01,  4.83551946e+00],\n",
       "       [ 6.65085248e-02, -1.50151566e-01,  6.64749139e+01, ...,\n",
       "        -6.28138861e+00,  5.68003491e+00,  1.24241645e+00],\n",
       "       ...,\n",
       "       [-7.22637229e-03,  4.89241486e-02, -1.33029927e-01, ...,\n",
       "        -2.04904897e-01,  2.88443988e-02,  2.48068657e-01],\n",
       "       [ 8.32565790e-02, -7.08812735e-02,  1.43735082e-01, ...,\n",
       "        -5.31205595e-02, -2.68746555e-01, -3.80829295e-03],\n",
       "       [-1.19905557e-01,  4.56747270e-02, -8.54579003e-02, ...,\n",
       "         8.55698475e-02, -2.64537656e-01,  4.60791843e-03]])"
      ]
     },
     "execution_count": 19,
     "metadata": {},
     "output_type": "execute_result"
    }
   ],
   "source": [
    "#Se prueba un ejemplo más grande la función matriz_auxiliar_Arv\n",
    "#que es base para la obtención de Q y R\n",
    "A=fQR.crear_matriz_aleatoria(11**2,10**2,10,-10,False)\n",
    "Arv=fQR.matriz_auxiliar_Arv(A)\n",
    "Arv"
   ]
  },
  {
   "cell_type": "code",
   "execution_count": 20,
   "metadata": {},
   "outputs": [
    {
     "name": "stdout",
     "output_type": "stream",
     "text": [
      "A\n",
      " [[1. 2. 3.]\n",
      " [4. 5. 6.]\n",
      " [7. 8. 9.]]\n",
      "\n",
      "Q:\n",
      " [[ 0.12  0.9   0.41]\n",
      " [ 0.49  0.3  -0.82]\n",
      " [ 0.86 -0.3   0.41]]\n",
      "\n",
      "R:\n",
      " [[ 8.12  9.6  11.08]\n",
      " [-0.    0.9   1.81]\n",
      " [-0.    0.    0.  ]]\n",
      "\n",
      "Q@R:\n",
      " [[1. 2. 3.]\n",
      " [4. 5. 6.]\n",
      " [7. 8. 9.]]\n"
     ]
    },
    {
     "data": {
      "text/plain": [
       "(None, None)"
      ]
     },
     "execution_count": 20,
     "metadata": {},
     "output_type": "execute_result"
    }
   ],
   "source": [
    "#Se puede verificar si una matriz es singular mediante el determinante (si\n",
    "#este es igual a cero). La propiedad de singularidad o no singularidad se\n",
    "#preserva bajo las operaciones efectuadas a la matriz A para obtener R (QA=R)\n",
    "#y podemos checar si esta matriz es singular si alguno de los elementos\n",
    "#de su diagonal es igual a cero\n",
    "#La función fQR.matriz_auxiliar_Arv, fQR.matriz_Q_R tienen un argumentos adiciona\n",
    "#para que en caso de que se encuentre una matriz singular suspenda los cálculos\n",
    "\n",
    "#Obtención de matriz Q y R de una matriz singular A\n",
    "A = np.array([[1, 2, 3], [4, 5, 6], [7, 8, 9]], dtype='d')\n",
    "print('A\\n',A)\n",
    "Q,R=fQR.matriz_Q_R(A)\n",
    "print('\\nQ:\\n',np.round(Q,2))\n",
    "#Nótese como existe un cero en la diagonal de esta matriz\n",
    "print('\\nR:\\n',np.round(R,2))\n",
    "print('\\nQ@R:\\n',Q@R)\n",
    "\n",
    "#Al momento de calcular la factorización QR podemos solicitar que nos indique\n",
    "#si la matriz es singular y suspenda los cálculos (regresando valores None)\n",
    "fQR.matriz_Q_R(A,1)"
   ]
  },
  {
   "cell_type": "markdown",
   "metadata": {},
   "source": [
    "## Solución de Sistemas de Ecuaciones Lineales\n",
    "\n",
    "### Funciones"
   ]
  },
  {
   "cell_type": "code",
   "execution_count": 21,
   "metadata": {},
   "outputs": [
    {
     "name": "stdout",
     "output_type": "stream",
     "text": [
      "def Solucion_SEL_QR_nxn(A,b):\n",
      "    \"\"\"\n",
      "    Función que obtiene la solución de un sistema de ecuaciones lineales (SEL) con n ecuaciones y n incognitas\n",
      "            \n",
      "    params: A   Matriz (nxn) que representa los coeficientas de las ecuaciones\n",
      "            b   vector (nx1) constantes del sistema\n",
      "\n",
      "    return: x   vector que satisface (Ax=b)\n",
      "    \"\"\"\n",
      "\n",
      "    #Se checa que los parámetros sean congruentes con la funcionalidad\n",
      "    if type(A) is not np.ndarray or type(b) is not np.ndarray: #esto implica que A y b tienen más de 1 elemento\n",
      "        sys.exit('A y b deben ser de tipo numpy.ndarray')\n",
      "    m,n = A.shape\n",
      "    if m<n:\n",
      "        sys.exit('EL numero de renglones de A debe ser mayor o igual al no. de columnas')\n",
      "    elif b.shape[0]!= m:\n",
      "        sys.exit('b debe representar un vector columna (mx1), m=no. renglones de A')\n",
      "    else:\n",
      "        try:\n",
      "            flag=b.shape[1]\n",
      "        except Exception:\n",
      "            flag=1\n",
      "        if flag!=1:\n",
      "            sys.exit(\"b debe representar un vector de m renglones y 1 columna\")\n",
      "\n",
      "    #Si la matriz A es singular, Q y R serán igual a None\n",
      "    Q,R=matriz_Q_R(A,1)\n",
      "    if Q is None:\n",
      "        sys.exit('La matriz A asociada al sistema de ecuaciones es singular')\n",
      "    b_prima=np.transpose(Q)@b\n",
      "    x=solve_triangular(R, b_prima,lower=False)\n",
      "    return x\n",
      "\n"
     ]
    }
   ],
   "source": [
    "#Código Solucion_SEL_QR_nxn\n",
    "lines=inspect.getsource(fQR.Solucion_SEL_QR_nxn)\n",
    "print(lines)"
   ]
  },
  {
   "cell_type": "code",
   "execution_count": 22,
   "metadata": {},
   "outputs": [
    {
     "name": "stdout",
     "output_type": "stream",
     "text": [
      "Help on function Solucion_SEL_QR_nxn in module funciones_factorizacion_QR:\n",
      "\n",
      "Solucion_SEL_QR_nxn(A, b)\n",
      "    \n",
      "    Descripción:\n",
      "            Función que obtiene la solución de un sistema de ecuaciones lineales (SEL) con \n",
      "        n ecuaciones y n incognitas\n",
      "    \n",
      "    Parámetros:                            \n",
      "            A      Matriz (nxn) que representa los coeficientas de las ecuaciones \n",
      "               elementos de la matriz R y Q, de la factorización QR\n",
      "            b      vector (nx1) constantes del sistema\n",
      "    \n",
      "    Resultado:\n",
      "            x      vector que satisface (Ax=b)\n",
      "    \n",
      "    El Sistema de Ecuaciones Lineales establecido como Ax=b, es resuelto con esta función\n",
      "    mediante la factorización QR como a continuación se explica:\n",
      "    \n",
      "      Si A*x = b y A = Q*R, con A matriz (mxn), b (mx1) y Q una matriz ortogonal (mxm) y \n",
      "                                R (mxn) una matriz triangular superior\n",
      "      entonces Q*R*x = b.\n",
      "      \n",
      "      Aprovechando la propiedad de Q^(-1)=Q, es decir, Q^(-1)*Q=Identidad,\n",
      "      si multiplicamos ambos lados de la última ecuación por Q^(-1) por la izquierda se tiene\n",
      "      \n",
      "      Q^(-1)*Q*R*x = Q^(-1)*b\n",
      "      \n",
      "      que equivale a:\n",
      "      \n",
      "      R*x = Q*b\n",
      "      \n",
      "      Es decir, el resolver el sistema Ax=b es equivalente a resolver R*x=Q*b, donde\n",
      "      R es una matriz triangular superior, por lo que se puede resolver este sistema con un \n",
      "      método de sustituición hacia atrás que implica una simple y paulatina sustitución\n",
      "      de valores. Nótese que por las propiedades de Q, no fue nunca necesario calcular\n",
      "      su inversa, lo cual hubiera implicado cálculos adicionales\n",
      "\n"
     ]
    }
   ],
   "source": [
    "#Ayuda Solucion_SEL_QR_nxn\n",
    "help(fQR.Solucion_SEL_QR_nxn)"
   ]
  },
  {
   "cell_type": "markdown",
   "metadata": {},
   "source": [
    "## Eliminación por bloques\n",
    "\n",
    "### Funciones"
   ]
  },
  {
   "cell_type": "code",
   "execution_count": 23,
   "metadata": {},
   "outputs": [
    {
     "name": "stdout",
     "output_type": "stream",
     "text": [
      "def crear_bloques(A, b, m1=False, n1=False):\n",
      "    \"\"\"\n",
      "    Esta es la función para la creación de bloques usando un arreglo de numpy\n",
      "    \n",
      "    params: A   Matriz (mxn) que representa los coeficientas de las ecuaciones\n",
      "            b   vector (mx1) constantes del sistema\n",
      "            n1  Numero de renglones que tendrá el 1er bloque\n",
      "            m1  Numero de columnas que tendrá el 1er bloque\n",
      "    \n",
      "    return: A11 Fraccion de la matriz dividida\n",
      "            A12 Fraccion de la matriz dividida\n",
      "            A12 Fraccion de la matriz dividida\n",
      "            A12 Fraccion de la matriz dividida\n",
      "            b1  Fraccion del vector dividido\n",
      "            b2  Fraccion del vector dividido\n",
      "    \"\"\"\n",
      "\n",
      "    #Se checa que los parámetros sean congruentes con la funcionalidad\n",
      "    if type(A) is not np.ndarray or type(b) is not np.ndarray: #esto implica que A y b tienen más de 1 elemento\n",
      "        sys.exit('A y b deben ser de tipo numpy.ndarray')\n",
      "    m,n = A.shape\n",
      "    if m<n:\n",
      "        sys.exit('EL numero de renglones de A debe ser mayor o igual al no. de columnas')\n",
      "    elif b.shape[0]!= m:\n",
      "        sys.exit('b debe representar un vector columna (mx1), m=no. renglones de A')\n",
      "    else:\n",
      "        try:\n",
      "            flag=b.shape[1]\n",
      "        except Exception:\n",
      "            flag=1\n",
      "        if flag!=1:\n",
      "            sys.exit(\"b debe representar un vector de m renglones y 1 columna\")    \n",
      "    \n",
      "    if m1==False:\n",
      "        m1=m//2\n",
      "    if n1==False:\n",
      "        n1=n//2\n",
      "    \n",
      "    b1 = b[:m1]\n",
      "    b2 = b[m1:m]\n",
      "    A11 = A[:m1,:n1]\n",
      "    A21 = A[m1:m,:n1]\n",
      "    A12 = A[:m1,n1:n]\n",
      "    A22 = A[m1:m,n1:n]\n",
      "\n",
      "    return A11,A21,A12,A22,b1,b2\n",
      "\n"
     ]
    }
   ],
   "source": [
    "#Código \"crear_bloques\"\n",
    "lines=inspect.getsource(fQR.crear_bloques)\n",
    "print(lines)"
   ]
  },
  {
   "cell_type": "code",
   "execution_count": 24,
   "metadata": {},
   "outputs": [
    {
     "name": "stdout",
     "output_type": "stream",
     "text": [
      "Help on function crear_bloques in module funciones_factorizacion_QR:\n",
      "\n",
      "crear_bloques(A, b, m1=False, n1=False)\n",
      "    \r\n",
      "    Descripción:\r\n",
      "      Función que divide la matriz A(mxn) y el vector b(mx1) en cuatro submatrices y dos vectores respectivamente\r\n",
      "    \r\n",
      "    Parámetros:                            \r\n",
      "      A     Matriz (mxn) \r\n",
      "      b     vector (mx1)\r\n",
      "      m1    Número de renglones del los bloques superiores\r\n",
      "      n1    Número de columnas de los bloques de la izquierda\r\n",
      "    \r\n",
      "      En el caso en que no se de m1 o n1, éstos parámetros serán igual a la parte entera del número de renglones o el número de columnas entre dos.\r\n",
      "    \r\n",
      "      b es un parámetro opcional, si no es introducido solo regresa las submatrices de A\r\n",
      "    \r\n",
      "    \r\n",
      "    Resultado:\r\n",
      "      A11   numpy.ndarray que representa la matriz de dimensión m1xn1\r\n",
      "      A12   numpy.ndarray que representa la matriz de dimensión m2xn1\r\n",
      "      A12   numpy.ndarray que representa la matriz de dimensión m1xn2\r\n",
      "      A22   numpy.ndarray que representa la matriz de dimensión m2xn2\r\n",
      "      b1    numpy.ndarray que representa el vector de longitud m1\r\n",
      "      b2    numpy.ndarray que representa el vector de longitud m2\r\n",
      "    \r\n",
      "    Ejemplo:\r\n",
      "         [ A11  A12 ]\r\n",
      "    A =  [ A21  A22 ]\r\n",
      "    \r\n",
      "    b =  [  b1 ]\r\n",
      "         [  b2 ]\n",
      "\n"
     ]
    }
   ],
   "source": [
    "#Ayuda \"crear_bloques\"\n",
    "help(fQR.crear_bloques)"
   ]
  },
  {
   "cell_type": "code",
   "execution_count": 25,
   "metadata": {},
   "outputs": [
    {
     "name": "stdout",
     "output_type": "stream",
     "text": [
      "def eliminacion_bloques(A,b, m1=False, n1=False):\n",
      "    \"\"\"\n",
      "    Función que obtiene la solución de un sistema de ecuaciones lineala (SEL) con n ecuaciones y n incognitas\n",
      "            \n",
      "    params: A   Matriz (mxn) que representa los coeficientas de las ecuaciones\n",
      "            b   vector (mx1) constantes del sistema\n",
      "    \n",
      "    return: x1 Solucion al 1er sistema de ecuaciones obtenido con la división por bloques\n",
      "            x2 Solucion al 2do sistema de ecuaciones obtenido con la división por bloques\n",
      "    \"\"\"\n",
      "    \n",
      "    #Se checa que los parámetros sean congruentes con la funcionalidad\n",
      "    if type(A) is not np.ndarray or type(b) is not np.ndarray: #esto implica que A y b tienen más de 1 elemento\n",
      "        sys.exit('A y b deben ser de tipo numpy.ndarray')\n",
      "    m,n = A.shape\n",
      "    if m<n:\n",
      "        sys.exit('EL numero de renglones de A debe ser mayor o igual al no. de columnas')\n",
      "        \n",
      "    elif b.shape[0]!= m:\n",
      "        sys.exit('b debe representar un vector columna (mx1), m=no. renglones de A')\n",
      "    else:\n",
      "        try:\n",
      "            flag=b.shape[1]\n",
      "        except Exception:\n",
      "            flag=1\n",
      "        if flag!=1:\n",
      "            sys.exit(\"b debe representar un vector de m renglones y 1 columna\")\n",
      "    \n",
      "    if m1==False:\n",
      "        m1=m//2\n",
      "    if n1==False:\n",
      "        n1=n//2\n",
      "\n",
      "    if m != n:\n",
      "        sys.exit('A debe ser cuadrada')\n",
      "\n",
      "    if np.linalg.det(A)==0:\n",
      "        sys.exit('A debe ser no singular')\n",
      "\n",
      "    A11,A21,A12,A22,b1,b2=crear_bloques(A,b,m1,n1)\n",
      "\n",
      "    # 1. Calcular Y=A11^{-1}A12 y y=A11^{-1}b1 teniendo cuidado en no calcular la inversa sino un sistema de ecuaciones lineales\n",
      "    #if np.linalg.det(A11)==0:\n",
      "    #    sys.exit('A11 debe ser no singular')\n",
      "    y=Solucion_SEL_QR_nxn(A11,b1,1)\n",
      "    \n",
      "    Y=np.zeros((n1,n-n1))\n",
      "    for j in range(n-n1):\n",
      "        Y[:,j]=Solucion_SEL_QR_nxn(A11,A12[:,j],1)\n",
      "    \n",
      "    # 2. Calcular el complemento de Schur del bloque A11 en A. Calcular b_hat\n",
      "    S=A22-A21@Y\n",
      "    b_h=b2-A21@y\n",
      "\n",
      "    # 3. Resolver Sx2 = b_hat\n",
      "    x2=Solucion_SEL_QR_nxn(S,b_h,1)\n",
      "\n",
      "    # 4. Resolver A11x1 = b1-A12x2\n",
      "    x1=Solucion_SEL_QR_nxn(A11,b1-A12@x2,1)\n",
      "\n",
      "    return np.concatenate((x1,x2), axis=0)\n",
      "\n"
     ]
    }
   ],
   "source": [
    "#Código \"eliminacion_bloques\"\n",
    "lines=inspect.getsource(fQR.eliminacion_bloques)\n",
    "print(lines)"
   ]
  },
  {
   "cell_type": "code",
   "execution_count": 26,
   "metadata": {},
   "outputs": [
    {
     "name": "stdout",
     "output_type": "stream",
     "text": [
      "Help on function eliminacion_bloques in module funciones_factorizacion_QR:\n",
      "\n",
      "eliminacion_bloques(A, b, m1=False, n1=False)\n",
      "    \r\n",
      "    Descripción:\r\n",
      "      Función que usa la eliminación por bloques para resolver un sistema de ecuaciones Ax=b.\r\n",
      "    \r\n",
      "    Parámetros:                            \r\n",
      "      A     numpy.ndarray que representa la matriz (mxn) que representan loc coeficientes del sistema de      ecuaciones\r\n",
      "      b     numpy.ndarray que representa el vector (mx1) que representan el lado derecho del sistema de       ecuaciones\r\n",
      "      m1    Número de renglones del los bloques superiores del subconjunto a resolver\r\n",
      "      n1    Número de columnas de los bloques del subconjunto a resolver\r\n",
      "    \r\n",
      "      En el caso en que no se de m1 o n1, éstos parámetros serán igual a la parte entera del número de renglones o el número de columnas entre dos.\r\n",
      "    \r\n",
      "    \r\n",
      "    Resultado:\r\n",
      "      x   numpy.ndarray que representa la solución al sistema de ecuaciones Ax=b\r\n",
      "    \r\n",
      "    Este método consiste en eliminar un subconjunto de variables y resolver un sistema más pequeño. Si el sistema más pequeño asociado a la submatriz puede resolverse entonces este método puede tener más eficiencia que uno que no trabaja por bloques.\n",
      "\n"
     ]
    }
   ],
   "source": [
    "#Ayuda \"eliminacion_bloques\"\n",
    "help(fQR.eliminacion_bloques)"
   ]
  },
  {
   "cell_type": "markdown",
   "metadata": {},
   "source": [
    "## Solución de Sistemas de Ecuaciones Lineales\n",
    "\n",
    "### Ejemplos"
   ]
  },
  {
   "cell_type": "markdown",
   "metadata": {},
   "source": [
    "### A) Sistema con soluciones únicas"
   ]
  },
  {
   "cell_type": "code",
   "execution_count": 27,
   "metadata": {},
   "outputs": [
    {
     "name": "stdout",
     "output_type": "stream",
     "text": [
      "A: [[ 4.56 -3.26 -1.35 -5.81 -5.71 -3.26  5.62  2.73  2.15 -0.52  4.33 -0.14]\n",
      " [ 4.14 -1.73  2.49  0.61 -4.13  3.64 -5.51 -1.09 -2.4  -5.93 -0.61 -4.25]\n",
      " [-5.23  3.74  3.17 -2.33 -4.75 -1.5   4.1  -2.1   5.32 -5.59 -2.8  -3.73]\n",
      " [ 2.24  0.99 -4.5   4.7   4.72 -4.91  0.68  2.77  4.64  4.99  3.12  4.77]\n",
      " [-1.01 -5.01 -1.59  4.37  2.9  -2.95  3.86 -1.91  4.12 -1.35  5.62  1.05]\n",
      " [ 3.32  5.48 -2.63  4.83 -1.84  3.    3.32 -2.2   6.    2.33  1.56 -3.21]\n",
      " [-4.97 -4.86  2.4   0.03  0.43  4.26  5.57 -4.93 -2.38 -4.11 -0.17 -1.93]\n",
      " [ 3.89  0.44  4.53  1.31  3.87  3.09  2.09  5.87 -5.01 -2.69  5.19 -2.32]\n",
      " [-5.37 -3.79  2.94 -5.67 -0.26  5.85  0.98 -1.86 -0.22 -4.79  0.64 -0.55]\n",
      " [-0.33  4.16 -4.33 -5.27  5.14  1.32  5.12  0.16 -4.33 -0.59 -3.47  2.17]\n",
      " [ 4.21 -1.89 -4.01  1.67 -0.65 -3.78 -0.77  3.97  1.46  1.11  1.19 -4.26]\n",
      " [ 1.4  -2.53  0.21 -5.81  1.53 -0.14 -5.8   3.24  1.87  5.48  1.57 -5.79]]\n",
      "b: [[ 0.66]\n",
      " [-2.02]\n",
      " [ 5.04]\n",
      " [-3.51]\n",
      " [ 3.74]\n",
      " [ 4.64]\n",
      " [-5.53]\n",
      " [-4.37]\n",
      " [ 4.11]\n",
      " [-0.27]\n",
      " [-5.71]\n",
      " [-5.66]]\n"
     ]
    }
   ],
   "source": [
    "#Generamos un sistema de ecuaciones lineales\n",
    "m=12\n",
    "n=12\n",
    "A=np.round(fQR.crear_matriz_aleatoria(m,n,6,-6,False),2)\n",
    "b = np.round(fQR.crear_matriz_aleatoria(m,1,6,-6,False),2)\n",
    "print(\"A:\",A)\n",
    "print(\"b:\",b)"
   ]
  },
  {
   "cell_type": "markdown",
   "metadata": {},
   "source": [
    "Primero resolvamos el sistema de ecuaciones usando la paquetería de numpy para comparar."
   ]
  },
  {
   "cell_type": "code",
   "execution_count": 28,
   "metadata": {},
   "outputs": [
    {
     "data": {
      "text/plain": [
       "array([[-3.45572795],\n",
       "       [ 3.4290442 ],\n",
       "       [-3.0314013 ],\n",
       "       [-0.52511108],\n",
       "       [-2.13104925],\n",
       "       [-0.85729173],\n",
       "       [-1.87630433],\n",
       "       [-1.52914394],\n",
       "       [-2.53808301],\n",
       "       [-0.71875803],\n",
       "       [ 5.82913249],\n",
       "       [-0.37734315]])"
      ]
     },
     "execution_count": 28,
     "metadata": {},
     "output_type": "execute_result"
    }
   ],
   "source": [
    "np.linalg.solve(A,b)"
   ]
  },
  {
   "cell_type": "markdown",
   "metadata": {},
   "source": [
    "Ahora usemos la factorización QR"
   ]
  },
  {
   "cell_type": "code",
   "execution_count": 30,
   "metadata": {},
   "outputs": [
    {
     "ename": "SystemExit",
     "evalue": "La matriz A asociada al sistema de ecuaciones es singular",
     "output_type": "error",
     "traceback": [
      "An exception has occurred, use %tb to see the full traceback.\n",
      "\u001b[1;31mSystemExit\u001b[0m\u001b[1;31m:\u001b[0m La matriz A asociada al sistema de ecuaciones es singular\n"
     ]
    }
   ],
   "source": [
    "x=fQR.Solucion_SEL_QR_nxn(A,b)\n",
    "x"
   ]
  },
  {
   "cell_type": "code",
   "execution_count": 31,
   "metadata": {},
   "outputs": [
    {
     "ename": "SystemExit",
     "evalue": "La matriz A asociada al sistema de ecuaciones es singular",
     "output_type": "error",
     "traceback": [
      "An exception has occurred, use %tb to see the full traceback.\n",
      "\u001b[1;31mSystemExit\u001b[0m\u001b[1;31m:\u001b[0m La matriz A asociada al sistema de ecuaciones es singular\n"
     ]
    }
   ],
   "source": [
    "#Se prueba con un sistema más grande\n",
    "m=10**3\n",
    "n=10**3\n",
    "A=np.round(fQR.crear_matriz_aleatoria(m,n,10,-10,False),2)\n",
    "b=np.round(fQR.crear_matriz_aleatoria(m,1,10,-10,False),2)\n",
    "x=fQR.Solucion_SEL_QR_nxn(A,b)\n",
    "x"
   ]
  },
  {
   "cell_type": "markdown",
   "metadata": {},
   "source": [
    "Por último usemos eliminación por bloques con QR"
   ]
  },
  {
   "cell_type": "code",
   "execution_count": 32,
   "metadata": {},
   "outputs": [
    {
     "name": "stderr",
     "output_type": "stream",
     "text": [
      "C:\\Users\\GZARAZUA\\Anaconda3\\lib\\site-packages\\numpy\\linalg\\linalg.py:2125: RuntimeWarning: overflow encountered in det\n",
      "  r = _umath_linalg.det(a, signature=signature)\n"
     ]
    },
    {
     "ename": "TypeError",
     "evalue": "Solucion_SEL_QR_nxn() takes 2 positional arguments but 3 were given",
     "output_type": "error",
     "traceback": [
      "\u001b[1;31m---------------------------------------------------------------------------\u001b[0m",
      "\u001b[1;31mTypeError\u001b[0m                                 Traceback (most recent call last)",
      "\u001b[1;32m<ipython-input-32-26c315c5e224>\u001b[0m in \u001b[0;36m<module>\u001b[1;34m\u001b[0m\n\u001b[1;32m----> 1\u001b[1;33m \u001b[0mfQR\u001b[0m\u001b[1;33m.\u001b[0m\u001b[0meliminacion_bloques\u001b[0m\u001b[1;33m(\u001b[0m\u001b[0mA\u001b[0m\u001b[1;33m,\u001b[0m\u001b[0mb\u001b[0m\u001b[1;33m)\u001b[0m\u001b[1;33m\u001b[0m\u001b[1;33m\u001b[0m\u001b[0m\n\u001b[0m",
      "\u001b[1;32m~\\Desktop\\funciones_factorizacion_QR.py\u001b[0m in \u001b[0;36meliminacion_bloques\u001b[1;34m(A, b, m1, n1)\u001b[0m\n\u001b[0;32m    387\u001b[0m     \u001b[1;31m#if np.linalg.det(A11)==0:\u001b[0m\u001b[1;33m\u001b[0m\u001b[1;33m\u001b[0m\u001b[1;33m\u001b[0m\u001b[0m\n\u001b[0;32m    388\u001b[0m     \u001b[1;31m#    sys.exit('A11 debe ser no singular')\u001b[0m\u001b[1;33m\u001b[0m\u001b[1;33m\u001b[0m\u001b[1;33m\u001b[0m\u001b[0m\n\u001b[1;32m--> 389\u001b[1;33m     \u001b[0my\u001b[0m\u001b[1;33m=\u001b[0m\u001b[0mSolucion_SEL_QR_nxn\u001b[0m\u001b[1;33m(\u001b[0m\u001b[0mA11\u001b[0m\u001b[1;33m,\u001b[0m\u001b[0mb1\u001b[0m\u001b[1;33m,\u001b[0m\u001b[1;36m1\u001b[0m\u001b[1;33m)\u001b[0m\u001b[1;33m\u001b[0m\u001b[1;33m\u001b[0m\u001b[0m\n\u001b[0m\u001b[0;32m    390\u001b[0m \u001b[1;33m\u001b[0m\u001b[0m\n\u001b[0;32m    391\u001b[0m     \u001b[0mY\u001b[0m\u001b[1;33m=\u001b[0m\u001b[0mnp\u001b[0m\u001b[1;33m.\u001b[0m\u001b[0mzeros\u001b[0m\u001b[1;33m(\u001b[0m\u001b[1;33m(\u001b[0m\u001b[0mn1\u001b[0m\u001b[1;33m,\u001b[0m\u001b[0mn\u001b[0m\u001b[1;33m-\u001b[0m\u001b[0mn1\u001b[0m\u001b[1;33m)\u001b[0m\u001b[1;33m)\u001b[0m\u001b[1;33m\u001b[0m\u001b[1;33m\u001b[0m\u001b[0m\n",
      "\u001b[1;31mTypeError\u001b[0m: Solucion_SEL_QR_nxn() takes 2 positional arguments but 3 were given"
     ]
    }
   ],
   "source": [
    "fQR.eliminacion_bloques(A,b)"
   ]
  },
  {
   "cell_type": "markdown",
   "metadata": {},
   "source": [
    "### B) Sistema sin solución"
   ]
  },
  {
   "cell_type": "code",
   "execution_count": 33,
   "metadata": {},
   "outputs": [
    {
     "name": "stdout",
     "output_type": "stream",
     "text": [
      "A: [[1. 0. 0.]\n",
      " [0. 1. 0.]\n",
      " [0. 0. 0.]]\n",
      "b: [[3.]\n",
      " [3.]\n",
      " [5.]]\n"
     ]
    }
   ],
   "source": [
    "#Generamos un sistema de ecuaciones lineales\n",
    "A = np.array([[1, 0, 0], [0, 1, 0], [0, 0, 0]], dtype='d')\n",
    "b = np.array([[3], [3], [5]], dtype='d')\n",
    "print(\"A:\",A)\n",
    "print(\"b:\",b)"
   ]
  },
  {
   "cell_type": "markdown",
   "metadata": {},
   "source": [
    "Primero resolvamos el sistema de ecuaciones usando la paquetería de numpy para comparar."
   ]
  },
  {
   "cell_type": "code",
   "execution_count": 34,
   "metadata": {},
   "outputs": [
    {
     "ename": "LinAlgError",
     "evalue": "Singular matrix",
     "output_type": "error",
     "traceback": [
      "\u001b[1;31m---------------------------------------------------------------------------\u001b[0m",
      "\u001b[1;31mLinAlgError\u001b[0m                               Traceback (most recent call last)",
      "\u001b[1;32m<ipython-input-34-36718354ad3a>\u001b[0m in \u001b[0;36m<module>\u001b[1;34m\u001b[0m\n\u001b[1;32m----> 1\u001b[1;33m \u001b[0mnp\u001b[0m\u001b[1;33m.\u001b[0m\u001b[0mlinalg\u001b[0m\u001b[1;33m.\u001b[0m\u001b[0msolve\u001b[0m\u001b[1;33m(\u001b[0m\u001b[0mA\u001b[0m\u001b[1;33m,\u001b[0m\u001b[0mb\u001b[0m\u001b[1;33m)\u001b[0m\u001b[1;33m\u001b[0m\u001b[1;33m\u001b[0m\u001b[0m\n\u001b[0m",
      "\u001b[1;32m<__array_function__ internals>\u001b[0m in \u001b[0;36msolve\u001b[1;34m(*args, **kwargs)\u001b[0m\n",
      "\u001b[1;32m~\\Anaconda3\\lib\\site-packages\\numpy\\linalg\\linalg.py\u001b[0m in \u001b[0;36msolve\u001b[1;34m(a, b)\u001b[0m\n\u001b[0;32m    401\u001b[0m     \u001b[0msignature\u001b[0m \u001b[1;33m=\u001b[0m \u001b[1;34m'DD->D'\u001b[0m \u001b[1;32mif\u001b[0m \u001b[0misComplexType\u001b[0m\u001b[1;33m(\u001b[0m\u001b[0mt\u001b[0m\u001b[1;33m)\u001b[0m \u001b[1;32melse\u001b[0m \u001b[1;34m'dd->d'\u001b[0m\u001b[1;33m\u001b[0m\u001b[1;33m\u001b[0m\u001b[0m\n\u001b[0;32m    402\u001b[0m     \u001b[0mextobj\u001b[0m \u001b[1;33m=\u001b[0m \u001b[0mget_linalg_error_extobj\u001b[0m\u001b[1;33m(\u001b[0m\u001b[0m_raise_linalgerror_singular\u001b[0m\u001b[1;33m)\u001b[0m\u001b[1;33m\u001b[0m\u001b[1;33m\u001b[0m\u001b[0m\n\u001b[1;32m--> 403\u001b[1;33m     \u001b[0mr\u001b[0m \u001b[1;33m=\u001b[0m \u001b[0mgufunc\u001b[0m\u001b[1;33m(\u001b[0m\u001b[0ma\u001b[0m\u001b[1;33m,\u001b[0m \u001b[0mb\u001b[0m\u001b[1;33m,\u001b[0m \u001b[0msignature\u001b[0m\u001b[1;33m=\u001b[0m\u001b[0msignature\u001b[0m\u001b[1;33m,\u001b[0m \u001b[0mextobj\u001b[0m\u001b[1;33m=\u001b[0m\u001b[0mextobj\u001b[0m\u001b[1;33m)\u001b[0m\u001b[1;33m\u001b[0m\u001b[1;33m\u001b[0m\u001b[0m\n\u001b[0m\u001b[0;32m    404\u001b[0m \u001b[1;33m\u001b[0m\u001b[0m\n\u001b[0;32m    405\u001b[0m     \u001b[1;32mreturn\u001b[0m \u001b[0mwrap\u001b[0m\u001b[1;33m(\u001b[0m\u001b[0mr\u001b[0m\u001b[1;33m.\u001b[0m\u001b[0mastype\u001b[0m\u001b[1;33m(\u001b[0m\u001b[0mresult_t\u001b[0m\u001b[1;33m,\u001b[0m \u001b[0mcopy\u001b[0m\u001b[1;33m=\u001b[0m\u001b[1;32mFalse\u001b[0m\u001b[1;33m)\u001b[0m\u001b[1;33m)\u001b[0m\u001b[1;33m\u001b[0m\u001b[1;33m\u001b[0m\u001b[0m\n",
      "\u001b[1;32m~\\Anaconda3\\lib\\site-packages\\numpy\\linalg\\linalg.py\u001b[0m in \u001b[0;36m_raise_linalgerror_singular\u001b[1;34m(err, flag)\u001b[0m\n\u001b[0;32m     95\u001b[0m \u001b[1;33m\u001b[0m\u001b[0m\n\u001b[0;32m     96\u001b[0m \u001b[1;32mdef\u001b[0m \u001b[0m_raise_linalgerror_singular\u001b[0m\u001b[1;33m(\u001b[0m\u001b[0merr\u001b[0m\u001b[1;33m,\u001b[0m \u001b[0mflag\u001b[0m\u001b[1;33m)\u001b[0m\u001b[1;33m:\u001b[0m\u001b[1;33m\u001b[0m\u001b[1;33m\u001b[0m\u001b[0m\n\u001b[1;32m---> 97\u001b[1;33m     \u001b[1;32mraise\u001b[0m \u001b[0mLinAlgError\u001b[0m\u001b[1;33m(\u001b[0m\u001b[1;34m\"Singular matrix\"\u001b[0m\u001b[1;33m)\u001b[0m\u001b[1;33m\u001b[0m\u001b[1;33m\u001b[0m\u001b[0m\n\u001b[0m\u001b[0;32m     98\u001b[0m \u001b[1;33m\u001b[0m\u001b[0m\n\u001b[0;32m     99\u001b[0m \u001b[1;32mdef\u001b[0m \u001b[0m_raise_linalgerror_nonposdef\u001b[0m\u001b[1;33m(\u001b[0m\u001b[0merr\u001b[0m\u001b[1;33m,\u001b[0m \u001b[0mflag\u001b[0m\u001b[1;33m)\u001b[0m\u001b[1;33m:\u001b[0m\u001b[1;33m\u001b[0m\u001b[1;33m\u001b[0m\u001b[0m\n",
      "\u001b[1;31mLinAlgError\u001b[0m: Singular matrix"
     ]
    }
   ],
   "source": [
    "np.linalg.solve(A,b)"
   ]
  },
  {
   "cell_type": "markdown",
   "metadata": {},
   "source": [
    "* Marca un error: \"Singular matrix\""
   ]
  },
  {
   "cell_type": "markdown",
   "metadata": {},
   "source": [
    "Ahora usemos la eliminación por bloques usando la factorización QR"
   ]
  },
  {
   "cell_type": "code",
   "execution_count": 35,
   "metadata": {},
   "outputs": [
    {
     "ename": "SystemExit",
     "evalue": "A debe ser no singular",
     "output_type": "error",
     "traceback": [
      "An exception has occurred, use %tb to see the full traceback.\n",
      "\u001b[1;31mSystemExit\u001b[0m\u001b[1;31m:\u001b[0m A debe ser no singular\n"
     ]
    }
   ],
   "source": [
    "fQR.eliminacion_bloques(A,b)"
   ]
  },
  {
   "cell_type": "markdown",
   "metadata": {},
   "source": [
    "* Se concluye que es un sistema de rectas paralelas, por lo tanto no existe solúción."
   ]
  },
  {
   "cell_type": "markdown",
   "metadata": {},
   "source": [
    "### C) Sistema con infinitas soluciones"
   ]
  },
  {
   "cell_type": "code",
   "execution_count": 36,
   "metadata": {},
   "outputs": [
    {
     "name": "stdout",
     "output_type": "stream",
     "text": [
      "A: [[1. 0. 0.]\n",
      " [0. 1. 0.]\n",
      " [0. 0. 0.]]\n",
      "b: [[3.]\n",
      " [3.]\n",
      " [0.]]\n"
     ]
    }
   ],
   "source": [
    "#Generamos un sistema de ecuaciones lineales\n",
    "A = np.array([[1, 0, 0], [0, 1, 0], [0, 0, 0]], dtype='d')\n",
    "b = np.array([[3], [3], [0]], dtype='d')\n",
    "print(\"A:\",A)\n",
    "print(\"b:\",b)"
   ]
  },
  {
   "cell_type": "markdown",
   "metadata": {},
   "source": [
    "Primero resolvamos el sistema de ecuaciones usando la paquetería de numpy para comparar."
   ]
  },
  {
   "cell_type": "code",
   "execution_count": 37,
   "metadata": {},
   "outputs": [
    {
     "ename": "LinAlgError",
     "evalue": "Singular matrix",
     "output_type": "error",
     "traceback": [
      "\u001b[1;31m---------------------------------------------------------------------------\u001b[0m",
      "\u001b[1;31mLinAlgError\u001b[0m                               Traceback (most recent call last)",
      "\u001b[1;32m<ipython-input-37-36718354ad3a>\u001b[0m in \u001b[0;36m<module>\u001b[1;34m\u001b[0m\n\u001b[1;32m----> 1\u001b[1;33m \u001b[0mnp\u001b[0m\u001b[1;33m.\u001b[0m\u001b[0mlinalg\u001b[0m\u001b[1;33m.\u001b[0m\u001b[0msolve\u001b[0m\u001b[1;33m(\u001b[0m\u001b[0mA\u001b[0m\u001b[1;33m,\u001b[0m\u001b[0mb\u001b[0m\u001b[1;33m)\u001b[0m\u001b[1;33m\u001b[0m\u001b[1;33m\u001b[0m\u001b[0m\n\u001b[0m",
      "\u001b[1;32m<__array_function__ internals>\u001b[0m in \u001b[0;36msolve\u001b[1;34m(*args, **kwargs)\u001b[0m\n",
      "\u001b[1;32m~\\Anaconda3\\lib\\site-packages\\numpy\\linalg\\linalg.py\u001b[0m in \u001b[0;36msolve\u001b[1;34m(a, b)\u001b[0m\n\u001b[0;32m    401\u001b[0m     \u001b[0msignature\u001b[0m \u001b[1;33m=\u001b[0m \u001b[1;34m'DD->D'\u001b[0m \u001b[1;32mif\u001b[0m \u001b[0misComplexType\u001b[0m\u001b[1;33m(\u001b[0m\u001b[0mt\u001b[0m\u001b[1;33m)\u001b[0m \u001b[1;32melse\u001b[0m \u001b[1;34m'dd->d'\u001b[0m\u001b[1;33m\u001b[0m\u001b[1;33m\u001b[0m\u001b[0m\n\u001b[0;32m    402\u001b[0m     \u001b[0mextobj\u001b[0m \u001b[1;33m=\u001b[0m \u001b[0mget_linalg_error_extobj\u001b[0m\u001b[1;33m(\u001b[0m\u001b[0m_raise_linalgerror_singular\u001b[0m\u001b[1;33m)\u001b[0m\u001b[1;33m\u001b[0m\u001b[1;33m\u001b[0m\u001b[0m\n\u001b[1;32m--> 403\u001b[1;33m     \u001b[0mr\u001b[0m \u001b[1;33m=\u001b[0m \u001b[0mgufunc\u001b[0m\u001b[1;33m(\u001b[0m\u001b[0ma\u001b[0m\u001b[1;33m,\u001b[0m \u001b[0mb\u001b[0m\u001b[1;33m,\u001b[0m \u001b[0msignature\u001b[0m\u001b[1;33m=\u001b[0m\u001b[0msignature\u001b[0m\u001b[1;33m,\u001b[0m \u001b[0mextobj\u001b[0m\u001b[1;33m=\u001b[0m\u001b[0mextobj\u001b[0m\u001b[1;33m)\u001b[0m\u001b[1;33m\u001b[0m\u001b[1;33m\u001b[0m\u001b[0m\n\u001b[0m\u001b[0;32m    404\u001b[0m \u001b[1;33m\u001b[0m\u001b[0m\n\u001b[0;32m    405\u001b[0m     \u001b[1;32mreturn\u001b[0m \u001b[0mwrap\u001b[0m\u001b[1;33m(\u001b[0m\u001b[0mr\u001b[0m\u001b[1;33m.\u001b[0m\u001b[0mastype\u001b[0m\u001b[1;33m(\u001b[0m\u001b[0mresult_t\u001b[0m\u001b[1;33m,\u001b[0m \u001b[0mcopy\u001b[0m\u001b[1;33m=\u001b[0m\u001b[1;32mFalse\u001b[0m\u001b[1;33m)\u001b[0m\u001b[1;33m)\u001b[0m\u001b[1;33m\u001b[0m\u001b[1;33m\u001b[0m\u001b[0m\n",
      "\u001b[1;32m~\\Anaconda3\\lib\\site-packages\\numpy\\linalg\\linalg.py\u001b[0m in \u001b[0;36m_raise_linalgerror_singular\u001b[1;34m(err, flag)\u001b[0m\n\u001b[0;32m     95\u001b[0m \u001b[1;33m\u001b[0m\u001b[0m\n\u001b[0;32m     96\u001b[0m \u001b[1;32mdef\u001b[0m \u001b[0m_raise_linalgerror_singular\u001b[0m\u001b[1;33m(\u001b[0m\u001b[0merr\u001b[0m\u001b[1;33m,\u001b[0m \u001b[0mflag\u001b[0m\u001b[1;33m)\u001b[0m\u001b[1;33m:\u001b[0m\u001b[1;33m\u001b[0m\u001b[1;33m\u001b[0m\u001b[0m\n\u001b[1;32m---> 97\u001b[1;33m     \u001b[1;32mraise\u001b[0m \u001b[0mLinAlgError\u001b[0m\u001b[1;33m(\u001b[0m\u001b[1;34m\"Singular matrix\"\u001b[0m\u001b[1;33m)\u001b[0m\u001b[1;33m\u001b[0m\u001b[1;33m\u001b[0m\u001b[0m\n\u001b[0m\u001b[0;32m     98\u001b[0m \u001b[1;33m\u001b[0m\u001b[0m\n\u001b[0;32m     99\u001b[0m \u001b[1;32mdef\u001b[0m \u001b[0m_raise_linalgerror_nonposdef\u001b[0m\u001b[1;33m(\u001b[0m\u001b[0merr\u001b[0m\u001b[1;33m,\u001b[0m \u001b[0mflag\u001b[0m\u001b[1;33m)\u001b[0m\u001b[1;33m:\u001b[0m\u001b[1;33m\u001b[0m\u001b[1;33m\u001b[0m\u001b[0m\n",
      "\u001b[1;31mLinAlgError\u001b[0m: Singular matrix"
     ]
    }
   ],
   "source": [
    "np.linalg.solve(A,b)"
   ]
  },
  {
   "cell_type": "markdown",
   "metadata": {},
   "source": [
    "* Marca un error: \"Singular matrix\""
   ]
  },
  {
   "cell_type": "markdown",
   "metadata": {},
   "source": [
    "Ahora usemos eliminación por bloques usando la factorización QR"
   ]
  },
  {
   "cell_type": "code",
   "execution_count": 38,
   "metadata": {},
   "outputs": [
    {
     "ename": "SystemExit",
     "evalue": "A debe ser no singular",
     "output_type": "error",
     "traceback": [
      "An exception has occurred, use %tb to see the full traceback.\n",
      "\u001b[1;31mSystemExit\u001b[0m\u001b[1;31m:\u001b[0m A debe ser no singular\n"
     ]
    }
   ],
   "source": [
    "fQR.eliminacion_bloques(A,b)"
   ]
  },
  {
   "cell_type": "code",
   "execution_count": null,
   "metadata": {},
   "outputs": [],
   "source": []
  },
  {
   "cell_type": "code",
   "execution_count": null,
   "metadata": {},
   "outputs": [],
   "source": []
  },
  {
   "cell_type": "code",
   "execution_count": null,
   "metadata": {},
   "outputs": [],
   "source": []
  },
  {
   "cell_type": "code",
   "execution_count": null,
   "metadata": {},
   "outputs": [],
   "source": []
  },
  {
   "cell_type": "code",
   "execution_count": null,
   "metadata": {},
   "outputs": [],
   "source": []
  },
  {
   "cell_type": "code",
   "execution_count": null,
   "metadata": {},
   "outputs": [],
   "source": []
  }
 ],
 "metadata": {
  "kernelspec": {
   "display_name": "Python 3",
   "language": "python",
   "name": "python3"
  },
  "language_info": {
   "codemirror_mode": {
    "name": "ipython",
    "version": 3
   },
   "file_extension": ".py",
   "mimetype": "text/x-python",
   "name": "python",
   "nbconvert_exporter": "python",
   "pygments_lexer": "ipython3",
   "version": "3.7.3"
  }
 },
 "nbformat": 4,
 "nbformat_minor": 4
}
