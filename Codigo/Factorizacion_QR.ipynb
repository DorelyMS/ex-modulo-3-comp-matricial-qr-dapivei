{
 "cells": [
  {
   "cell_type": "code",
   "execution_count": 1,
   "metadata": {},
   "outputs": [],
   "source": [
    "#paquetes python\n",
    "import os\n",
    "import numpy as np\n",
    "import copy\n",
    "import pprint\n",
    "from math import sqrt\n",
    "from scipy.linalg import solve_triangular\n",
    "import inspect\n",
    "import sys\n",
    "\n",
    "#paquetes funciones definidas obtenidas de archivos .py\n",
    "import funciones_factorizacion_QR as fQR"
   ]
  },
  {
   "cell_type": "markdown",
   "metadata": {},
   "source": []
  },
  {
   "cell_type": "markdown",
   "metadata": {},
   "source": [
    "**OBJETIVO:**\n",
    "\n",
    "El presente notebook tiene por finalidad exhibir y poner a prueba funciones definidas por el equipo QR para resolver un Sistema de Ecuaciones Lineales (SEL), a través de 3 pasos:\n",
    "\n",
    "    1) Obtención de factorización QR (A=QR)\n",
    "    2) Implementación del método de eliminación por bloques\n",
    "    3) Resolución de SEL (Ax=b) con los 2 pasos anteriores\n",
    "    \n",
    "Para lograr tal objetivo se presentarán a continuacion las funciones implementadas en python, así como una serie de ejemplos para entender mejor su funcionamiento"
   ]
  },
  {
   "cell_type": "markdown",
   "metadata": {},
   "source": [
    "## Factorización QR\n",
    "\n",
    "### Funciones"
   ]
  },
  {
   "cell_type": "code",
   "execution_count": 2,
   "metadata": {},
   "outputs": [
    {
     "name": "stdout",
     "output_type": "stream",
     "text": [
      "def crear_matriz_aleatoria(renglones,columnas,maximo_valor,minimo_valor,entero=False):\n",
      "    \"\"\"\n",
      "    Función de apoyo para genear matrices aleatorias\n",
      "\n",
      "    params: renglones       no. de renglones de la matriz\n",
      "            columnas        no. de columnas de la matriz\n",
      "            maximo_valor    valor máximo de las entradas de la matriz\n",
      "            minimo_valor    valor mínimo de las entradas de la matriz\n",
      "            entero          Indica si las entradas serán enteras (True) o no\n",
      "            \n",
      "    return: M               Matriz con numeros al azar\n",
      "    \"\"\"\n",
      "    \n",
      "    #Se checa que los parámetros sean congruentes con la funcionalidad\n",
      "    if isinstance(renglones, int)==False or isinstance(columnas, int)==False:\n",
      "        sys.exit('Los parámetros de renglones y columnas deben ser enteros positivos')\n",
      "    elif renglones<=0 or columnas<=0:\n",
      "        sys.exit('Los parámetros de renglones y columnas deben ser enteros positivos')            \n",
      "    if isinstance(maximo_valor, (int, float))==False or isinstance(minimo_valor, (int, float))==False:\n",
      "        sys.exit('Los parámetros maximo_valor y minimo_valor deben ser numericos')\n",
      "\n",
      "    #Se inicializa una matriz llena de ceros con las dimensiones deseadas (mxn)\n",
      "    M=np.zeros((renglones, columnas))\n",
      "    for i in range(renglones):\n",
      "        for j in range(columnas):\n",
      "            #Si entero es verdadero se obtiene el maximo entero menor o igual a 1 (//1)\n",
      "            if entero:\n",
      "                M[i][j]=(np.random.rand(1)*(maximo_valor+1-minimo_valor)+minimo_valor)//1\n",
      "            else:\n",
      "                M[i][j]=np.random.rand(1)*(maximo_valor-minimo_valor)+minimo_valor\n",
      "    return M\n",
      "\n"
     ]
    }
   ],
   "source": [
    "lines=inspect.getsource(fQR.crear_matriz_aleatoria)\n",
    "print(lines)"
   ]
  },
  {
   "cell_type": "code",
   "execution_count": 3,
   "metadata": {},
   "outputs": [
    {
     "name": "stdout",
     "output_type": "stream",
     "text": [
      "Help on function crear_matriz_aleatoria in module funciones_factorizacion_QR:\n",
      "\n",
      "crear_matriz_aleatoria(renglones, columnas, maximo_valor, minimo_valor, entero=False)\n",
      "    \n",
      "    Descripción:\n",
      "            Función que genera matrices de tamaño definido con entradas dentro del rango\n",
      "            indicado\n",
      "    \n",
      "    Parametros:\n",
      "            renglones       integer indica renglones de la matriz\n",
      "            columnas        integer indica columnas de la matriz\n",
      "            maximo_valor    integer o double señala valor máximo de las entradas de la matriz\n",
      "            minimo_valor    integer o double señala valor mínimo de las entradas de la matriz\n",
      "            entero          Boolean, indica si las entradas serán enteras (True) o no (False)\n",
      "    \n",
      "    Resultado:\n",
      "            M               np.ndarray que representa matriz (mxn) con numeros al azar en el\n",
      "                            rango indicado\n",
      "    \n",
      "    Ejemplos:\n",
      "    Crear matriz de m=4 renglones y n=3 columnas, con entradas reales entre 3.4 y 15.6:\n",
      "    crea_matriz(m,n,3.4,15.6)\n",
      "    \n",
      "    Crear matriz de m=2 renglones y n=2 columnas, con entradas enteras entre 0 y 1:\n",
      "    crea_matriz(2,2,0,1,True)\n",
      "\n"
     ]
    }
   ],
   "source": [
    "help(fQR.crear_matriz_aleatoria)"
   ]
  },
  {
   "cell_type": "code",
   "execution_count": 4,
   "metadata": {},
   "outputs": [
    {
     "name": "stdout",
     "output_type": "stream",
     "text": [
      "def house(x):\n",
      "    \"\"\"\n",
      "    Función que calcula vector de householder\n",
      "    \n",
      "    params: x       vector al que se le hará la reflexión householder\n",
      "                    \n",
      "    return: Beta    factor para obtener matriz de reflexión householder Rf\n",
      "            v       vector de householder\n",
      "    \"\"\"\n",
      "    \n",
      "    #Se checa que los parámetros sean congruentes con la funcionalidad\n",
      "    if type(x) is not np.ndarray:\n",
      "        sys.exit('x debe ser de tipo numpy.ndarray')\n",
      "    \n",
      "    #longitud del vector x=(x_0,x_1,x_2,...,x_(m-1))\n",
      "    m=len(x)\n",
      "    norm_2_m=x[1:m].dot(np.transpose(x[1:m]))\n",
      "    #Se hace v=x=(1,x_1,x_2,...,x_(m-1))\n",
      "    v=np.concatenate((1,x[1:m]), axis=None)\n",
      "    Beta=0\n",
      "    #con las siguientes condiciones se checa si x es múltiplo del vector canónico e_1 \n",
      "    #y el signo de x[0]\n",
      "    if (norm_2_m==0 and x[0]>=0):\n",
      "        Beta=0\n",
      "    elif (norm_2_m==0 and x[0]<0):\n",
      "        Beta=2\n",
      "    else:\n",
      "        norm_x=np.sqrt(pow(x[0],2)+norm_2_m)\n",
      "        if (x[0]<=0):\n",
      "            v[0]=x[0]-norm_x\n",
      "        else:\n",
      "            v[0]=-norm_2_m/(x[0]+norm_x)\n",
      "        Beta=2*pow(v[0],2)/(norm_2_m+pow(v[0],2))\n",
      "        v=v/v[0]\n",
      "    return Beta, v\n",
      "\n"
     ]
    }
   ],
   "source": [
    "lines=inspect.getsource(fQR.house)\n",
    "print(lines)"
   ]
  },
  {
   "cell_type": "code",
   "execution_count": 5,
   "metadata": {},
   "outputs": [
    {
     "name": "stdout",
     "output_type": "stream",
     "text": [
      "Help on function house in module funciones_factorizacion_QR:\n",
      "\n",
      "house(x)\n",
      "    \n",
      "    Descripción:\n",
      "            Función que calcula vector de householder\n",
      "    \n",
      "    Parametros:\n",
      "            x       np.ndarray que representa vector al que se le hará la reflexión householder\n",
      "    \n",
      "    Resultado:\n",
      "            Beta    double para obtener matriz de reflexión householder v\n",
      "            v       np.ndarray que representa vector que representa la reflexión de householder\n",
      "    \n",
      "    Con el vector v y el factor beta obtenidos se puede calcular la matriz de reflexión de\n",
      "    householder R, donde R= Identidad(mxm) - Beta*v*v_transpuesta (v*v_transpuesta es matriz  \n",
      "    de pxp si v tiene p entradas). El vector v está construido de tal forma que al generar la \n",
      "    matriz de reflexión de householder Rf y multiplicarse por x se obtiene una proyección de \n",
      "    este último sobre el vector canónico e_1=(1,0,0,...,0) obteniendo un vector con todas sus \n",
      "    entradas ingualas  a cero excepto la primera, que de hecho es ||x||*e_1=(||x||,0,0,...,0)\n",
      "    \n",
      "    Esta mecánica se puede implementar en matrices para generar matrices triangulares superiores \n",
      "    (generando ceros en el triangulo inferior) como se ilustra a continuación\n",
      "    \n",
      "       [ a00 a01 a02 a03 ]\n",
      "    A= [ a10 a11 a12 a13 ]\n",
      "       [ a20 a21 a22 a23 ]\n",
      "       [ a30 a31 a32 a33 ]\n",
      "    \n",
      "    Tomese x=A[:,0]=[a00,a10,a20,a30], calcular (v,Beta) y con ello la matriz de reflexión Rf_0. \n",
      "    Con el producto Rf_0*A se obtiene una matriz de la forma:\n",
      "       [  *   *   *   *  ]\n",
      "    A= [  0   *   *   *  ]\n",
      "       [  0   *   *   *  ]\n",
      "       [  0   *   *   *  ]\n",
      "    \n",
      "    Tomese x=A[:,1]=[a11,a21,a31], calcular (v,Beta) y con ello la matriz de reflexión Rf_1. \n",
      "    Con el producto Rf_1*Rf_0*A se obtiene una matriz de la forma:\n",
      "       [  *   *   *   *  ]\n",
      "    A= [  0   *   *   *  ]\n",
      "       [  0   0   *   *  ]\n",
      "       [  0   0   *   *  ]\n",
      "\n"
     ]
    }
   ],
   "source": [
    "help(fQR.house)"
   ]
  },
  {
   "cell_type": "code",
   "execution_count": 6,
   "metadata": {},
   "outputs": [
    {
     "name": "stdout",
     "output_type": "stream",
     "text": [
      "def matriz_auxiliar_Arv(A):\n",
      "    \"\"\"\n",
      "    Función que genera una matriz que contiene los elementos r distintos de cero de la \n",
      "    matriz R y las entradas de los vectores householder v (excepto la primera), con los \n",
      "    cuales se puede calcular la matriz Q. Ambas matrices componentes de la factorización QR\n",
      "    \n",
      "    params: A      Matriz (mxn) de la que se desea obtner factorización QR\n",
      "            \n",
      "    return: Arv    Matriz (mxn) que incluye las componentes distintas de cero de la matriz R \n",
      "                   y los vectores householder con los que se puede obtener la matriz Q, y \n",
      "                   con ello la factorización QR\n",
      "    \"\"\"\n",
      "    \n",
      "    #Se checa que los parámetros sean congruentes con la funcionalidad\n",
      "    if type(A) is not np.ndarray:\n",
      "        sys.exit('A debe ser de tipo numpy.ndarray')\n",
      "    \n",
      "    #m contiene el numero de renglones y n el de columnas\n",
      "    m=A.shape[0]\n",
      "    n=A.shape[1]\n",
      "    #se crea una matriz con los valores de A\n",
      "    Arv=copy.copy(A)\n",
      "    for j in range(n):\n",
      "        beta, v=house(Arv[j:m,j])\n",
      "        #Con esta multiplicación se van generando las componentes r de la matriz R\n",
      "        #Arv[j:m,j:n]=Arv[j:m,j:n]-beta*(np.outer(v,v)@Arv[j:m,j:n]) #OBSERVACIÓN: Checar cual es más eficiente (este o el renglón de abajo)\n",
      "        Arv[j:m,j:n]=Arv[j:m,j:n]-beta*np.outer(v,(np.transpose(v)@Arv[j:m,j:n]))\n",
      "        #se guarda en cada columnas los valores de v d, excepto la primer componente (que vale 1)\n",
      "        Arv[(j+1):m,j]=v[1:(m-j)]\n",
      "    return Arv\n",
      "\n"
     ]
    }
   ],
   "source": [
    "lines=inspect.getsource(fQR.matriz_auxiliar_Arv)\n",
    "print(lines)"
   ]
  },
  {
   "cell_type": "code",
   "execution_count": 7,
   "metadata": {},
   "outputs": [
    {
     "name": "stdout",
     "output_type": "stream",
     "text": [
      "Help on function matriz_auxiliar_Arv in module funciones_factorizacion_QR:\n",
      "\n",
      "matriz_auxiliar_Arv(A)\n",
      "    \n",
      "    Descripción:\n",
      "            Función que genera una matriz que contiene los elementos r distintos de cero de \n",
      "            la matriz R y las entradas de los vectores householder v (excepto la primera), \n",
      "            con los cuales se puede calcular la matriz Q. Ambas matrices componentes de la \n",
      "            factorización QR\n",
      "    \n",
      "    Parametros:\n",
      "            A      numpy.ndarray que representa matriz (mxn) de la que se desea obtener \n",
      "                   elemento de factorización QR\n",
      "    \n",
      "    Resultado:\n",
      "            Arv    numpy.ndarray que representa matriz (mxn) que incluye las componentes \n",
      "                   distintas de cero de la matriz R y los vectores householder con los \n",
      "                   que se puede obtener la matriz Q, y con ello la factorización QR\n",
      "    \n",
      "    La factorización QR consiste en encontrar 2 matrices tales que A=Q*R \n",
      "    donde Q es una matriz ortogonal y R es una matriz triangular superior \n",
      "    Las entradas de la matriz Arv que arroja esta función se pueden visualizar como:\n",
      "         [ r00  r01  r02  r03 ]\n",
      "         [ v10  r11  r12  r13 ]\n",
      "    Arv= [ v20  v21  r22  r23 ]\n",
      "         [ v30  v31  v32  r33 ]\n",
      "         [ v40  v41  v42  v43 ]\n",
      "    \n",
      "    Las entradas r conforman la matriz R (triangular superior): \n",
      "         [ r00  r01  r02  r03 ] \n",
      "         [  0   r11  r12  r13 ] \n",
      "    R=   [  0    0   r22  r23 ] \n",
      "         [  0    0    0   r33 ] \n",
      "         [  0    0    0    0  ]\n",
      "    \n",
      "    La matriz Q puede obtenerse a partir de los vectores householder v, los cuales \n",
      "    sirven para construir la matriz de reflexión de householder R, con \n",
      "    R=Identidad(mxm) - Beta*v*v_trans  y  Beta=2/(v_trans*v) \n",
      "                           [  1                 ]\n",
      "                           [ v10   1            ]\n",
      "    vectores householder*= [ v20  v21   1       ]\n",
      "                           [ v30  v31  v32   1  ]\n",
      "                           [ v40  v41  v42  v43 ]\n",
      "    \n",
      "    *Notese que Avr no tiene la primera entrada de los vectores v, pero sabemos por \n",
      "    construcción que es igual a 1. Con el vector v_1=(1,v10,v20,v30,v40) se puede\n",
      "    calcular Q_1, con v_2=(1,v21,v31,v41) se puede calcular Q_2, con v_3=(1,v32,v42)\n",
      "    se puede calcular Q_3 y con v_4=(1,v43) se puede calcular Q_4.\n",
      "\n"
     ]
    }
   ],
   "source": [
    "help(fQR.matriz_auxiliar_Arv)"
   ]
  },
  {
   "cell_type": "code",
   "execution_count": 8,
   "metadata": {},
   "outputs": [
    {
     "name": "stdout",
     "output_type": "stream",
     "text": [
      "def matriz_R(Arv):\n",
      "    \"\"\"\n",
      "    Función que devuelve la matriz R de la factorización QR de una matriz A, \n",
      "    apartir de la matriz Arv\n",
      "    \n",
      "    params: Arv   Matriz (mxn) que incluye elementos de la matriz R y Q, de la factorización QR\n",
      "\n",
      "    return: R     Matriz (mxn) R de la factorización A=QR\n",
      "    \"\"\"\n",
      "    \n",
      "    #Se checa que los parámetros sean congruentes con la funcionalidad\n",
      "    if type(Arv) is not np.ndarray:\n",
      "        sys.exit('Arv debe ser de tipo numpy.ndarray')\n",
      "    elif Arv.shape[0]<Arv.shape[1]:\n",
      "        sys.exit('El numero de renglones de Arv tiene que ser igual o mayor al no. de columnas')\n",
      "\n",
      "    m=Arv.shape[0]\n",
      "    n=Arv.shape[1]\n",
      "    R=np.zeros((m,n))\n",
      "    #la matriz Arv ya tiene los elementos de r en el triangulo superior\n",
      "    #por lo que únicamente se sustraen dichos valores y lo demás se deja en ceros\n",
      "    for j in range(n):\n",
      "        R[0:(j+1),j]=Arv[0:(j+1),j]\n",
      "    return R\n",
      "\n"
     ]
    }
   ],
   "source": [
    "lines=inspect.getsource(fQR.matriz_R)\n",
    "print(lines)"
   ]
  },
  {
   "cell_type": "code",
   "execution_count": 9,
   "metadata": {},
   "outputs": [
    {
     "name": "stdout",
     "output_type": "stream",
     "text": [
      "Help on function matriz_R in module funciones_factorizacion_QR:\n",
      "\n",
      "matriz_R(Arv)\n",
      "    \n",
      "    Descripción:\n",
      "            Función que devuelve la matriz R de la factorización QR de una matriz A,\n",
      "            apartir de la matriz Arv\n",
      "    \n",
      "    Parametros:\n",
      "            Arv   np.ndarray que representa matriz (mxn) que incluye elementos de \n",
      "                  la matriz R y Q, de la factorización QR\n",
      "    \n",
      "    Resultado:\n",
      "            R     np.ndarray que representa matriz (mxn) R de la factorización A=QR\n",
      "    \n",
      "    Visualmente la sustracción de los elementos de R se ve así:\n",
      "         [ r11  r12  r13  r14 ]            [ r11  r12  r13  r14 ]\n",
      "         [ v21  r22  r23  r24 ]            [  0   r22  r23  r24 ]\n",
      "    Arv= [ v31  v32  r33  r34 ]   -->   R= [  0    0   r33  r34 ]\n",
      "         [ v41  v42  v43  r44 ]            [  0    0    0   r44 ]\n",
      "         [ v51  v52  v53  v54 ]            [  0    0    0    0  ]\n",
      "\n"
     ]
    }
   ],
   "source": [
    "help(fQR.matriz_R)"
   ]
  },
  {
   "cell_type": "code",
   "execution_count": 10,
   "metadata": {},
   "outputs": [
    {
     "name": "stdout",
     "output_type": "stream",
     "text": [
      "def matriz_Q(Arv):\n",
      "    \"\"\"\n",
      "    Función que devuelve la matriz R de la factorización QR de una matriz A,\n",
      "    apartir de la matriz Arv\n",
      "    \n",
      "    params: Arv  Matriz (mxn) con la info escencial para la factorización\n",
      "\n",
      "    return: Q    Matriz Q (mxm) de la factorización A=QR\n",
      "    \"\"\"\n",
      "    \n",
      "    #Se checa que los parámetros sean congruentes con la funcionalidad\n",
      "    if type(Arv) is not np.ndarray:\n",
      "        sys.exit('Arv debe ser de tipo numpy.ndarray')\n",
      "    elif Arv.shape[0]<Arv.shape[1]:\n",
      "        sys.exit('El numero de renglones de Arv tiene que ser igual o mayor al no. de columnas')\n",
      "        \n",
      "    m=Arv.shape[0]\n",
      "    n=Arv.shape[1]\n",
      "    Q=np.eye(m)\n",
      "    I=np.eye(m)\n",
      "    for j in range(n-1,-1,-1):\n",
      "        #Se sustrae la información de los vectores de householder contenida\n",
      "        #en la matriz Arv, agregando la primera entrada que no está en dicha matriz (y que es 1)\n",
      "        v=np.concatenate((1,Arv[(j+1):m,j]), axis=None)\n",
      "        #Se calcula el factor beta para obtener la matriz de reflexión\n",
      "        beta=2/(1+Arv[(j+1):m,j].dot(Arv[(j+1):m,j]))\n",
      "        #Aquí se va acumulando el producto de las Qj's para llegar a Q_(n-1)*Q(n-2)*...Q_2*Q_1*Q_0=Q\n",
      "        #al final del ciclo\n",
      "        #Q[j:m,j:m]=(I[j:m,j:m]-beta*np.outer(v,v))@Q[j:m,j:m] #OBSERVACION: Checar si este o el de abajo es más eficiente\n",
      "        Q[j:m,j:m]=I[j:m,j:m]@Q[j:m,j:m]-beta*np.outer(v,np.transpose(v)@Q[j:m,j:m])\n",
      "    #La Q_(n-1) es la matriz más chica y la última que calculamos para generar ceros en la última\n",
      "    #columna de A, y la Q_1 es la matriz más grande y la primera que calculamos para generar ceros\n",
      "    #en la 1era columna de A\n",
      "    return Q\n",
      "\n"
     ]
    }
   ],
   "source": [
    "lines=inspect.getsource(fQR.matriz_Q)\n",
    "print(lines)"
   ]
  },
  {
   "cell_type": "code",
   "execution_count": 11,
   "metadata": {},
   "outputs": [
    {
     "name": "stdout",
     "output_type": "stream",
     "text": [
      "Help on function matriz_Q in module funciones_factorizacion_QR:\n",
      "\n",
      "matriz_Q(Arv)\n",
      "    \n",
      "    Descripción:\n",
      "            Función que devuelve la matriz R de la factorización QR de una matriz A,\n",
      "            apartir de la matriz Arv\n",
      "    \n",
      "    Parametros:\n",
      "            Arv   np.ndarray que representa la matriz auxiliar (mxn) que incluye \n",
      "                  elementos de la matriz R y Q, de la factorización QR\n",
      "    \n",
      "    Resultado:\n",
      "            R     np.ndarray que representa matriz Q (mxm) de la factorización A=QR\n",
      "    \n",
      "    La matriz Q (matriz ortogonal tal que Q_transpuesta*Q es igual a la identidad (mxm)\n",
      "    se calcula como el producto de las matrices Q_j's, las cuales se obtienen a partir\n",
      "    de las diferentes matrices de reflexión householder utilizadas para generar los ceros\n",
      "    en las columnas de A para formar la matriz R\n",
      "    \n",
      "    Q = Q_1*Q_2*Q_3*Q_4\n",
      "    \n",
      "    Nota: Cada matriz Q_j se calcula con el vector v_j, correspondiente al j-ésimo \n",
      "    vector de householder como: Q_j = Identidad(mxm) - Beta*v_j*v_j_transpuesta\n",
      "    Dichos vectores v están contenidos dentro de la matriz auxiliar Arv\n",
      "\n"
     ]
    }
   ],
   "source": [
    "help(fQR.matriz_Q)"
   ]
  },
  {
   "cell_type": "code",
   "execution_count": 12,
   "metadata": {},
   "outputs": [
    {
     "name": "stdout",
     "output_type": "stream",
     "text": [
      "def Q_j(Arv,j):\n",
      "    \"\"\"\n",
      "    Función que calcula la matriz Qj (en el proceso de obtención de factorización QR se van \n",
      "    obteniendo n Qj's, que si se multiplican todas da por resultado Q=Q_1*Q_2*...*Q_n)\n",
      "                            \n",
      "    params: Arv   Matriz (mxn) con la info escencial\n",
      "            j     indica el índice de la matriz Q_j\n",
      "\n",
      "    return: Qj    Matriz Q de la j-esima iteración del proceso iterativo de factorización QR\n",
      "    \"\"\"\n",
      "\n",
      "    #Se checa que los parámetros sean congruentes con la funcionalidad\n",
      "    if type(Arv) is not np.ndarray:\n",
      "        sys.exit('Arv debe ser de tipo numpy.ndarray')\n",
      "    elif Arv.shape[0]<Arv.shape[1]:\n",
      "        sys.exit('El numero de renglones de Arv tiene que ser igual o mayor al no. de columnas')\n",
      "    if isinstance(j, int)==False:\n",
      "        sys.exit('El parámetro j deber ser un entero')\n",
      "    elif 1>j or j>Arv.shape[1]:\n",
      "        sys.exit('El parámetro j debe estar en el rango [1,no. columnas de Arv]')\n",
      "    \n",
      "    m=Arv.shape[0]\n",
      "    n=Arv.shape[1]\n",
      "    Qj=np.eye(m)\n",
      "    #Para construir Q_j requerimos usar el vector v contenido en Arv contenido\n",
      "    #en la j-1 columna (considerando que en Python la primer columna es la cero)\n",
      "    v=np.concatenate((1,Arv[j:m,(j-1)]), axis=None)\n",
      "    beta=2/(1+Arv[j:m,(j-1)].dot(Arv[j:m,(j-1)]))\n",
      "    Qj[(j-1):m,(j-1):m]=np.eye(m-(j-1))-beta*np.outer(v,v)\n",
      "    return Qj\n",
      "\n"
     ]
    }
   ],
   "source": [
    "lines=inspect.getsource(fQR.Q_j)\n",
    "print(lines)"
   ]
  },
  {
   "cell_type": "code",
   "execution_count": 13,
   "metadata": {},
   "outputs": [
    {
     "name": "stdout",
     "output_type": "stream",
     "text": [
      "Help on function Q_j in module funciones_factorizacion_QR:\n",
      "\n",
      "Q_j(Arv, j)\n",
      "    \n",
      "    Descripción:\n",
      "            Función que calcula la matriz Qj (en el proceso de obtención de \n",
      "            factorización QR se van obteniendo n Qj's, que si se multiplican todas \n",
      "            da por resultado Q=Q_1*Q_2*...*Q_n)\n",
      "    \n",
      "    Parámetros:                            \n",
      "            A_r_v   np.ndarray que representa la matriz auxiliar (mxn) que incluye \n",
      "                elementos de la matriz R y Q, de la factorización QR\n",
      "            j       integer que indica el índice de la matriz Q_j\n",
      "    \n",
      "    Resultado:\n",
      "            Qj      np.ndarray que representa la j-esima transformación de householder\n",
      "    \n",
      "    La matriz Q_j se calcula con el vector v_j, correspondiente al j-ésimo vector \n",
      "    de householder como: Q_j = Identidad(mxm) - Beta*v_j*v_j_transpuesta\n",
      "\n"
     ]
    }
   ],
   "source": [
    "help(fQR.Q_j)"
   ]
  },
  {
   "cell_type": "markdown",
   "metadata": {},
   "source": [
    "## Factorización QR\n",
    "\n",
    "### Ejemplos"
   ]
  },
  {
   "cell_type": "code",
   "execution_count": 14,
   "metadata": {},
   "outputs": [
    {
     "data": {
      "text/plain": [
       "array([[1., 2., 1.],\n",
       "       [2., 3., 2.],\n",
       "       [1., 2., 3.]])"
      ]
     },
     "execution_count": 14,
     "metadata": {},
     "output_type": "execute_result"
    }
   ],
   "source": [
    "#Pra probar el funcionamiento de estas funciones puede definirse una matriz entrada por entrada\n",
    "#o usar la función crear_matriz_aleatoria\n",
    "\n",
    "#Ejemplo a mano (asegurandose de que sus entradas sean tipo dobles -aunque sólo se capture\n",
    "#una parte entera-, pues de lo contrario se tendrán errores por redondeo significativos)\n",
    "A=np.array([[1, 2, 1], [2, 3, 2], [1, 2, 3]], dtype='d')\n",
    "A"
   ]
  },
  {
   "cell_type": "code",
   "execution_count": 15,
   "metadata": {},
   "outputs": [
    {
     "name": "stdout",
     "output_type": "stream",
     "text": [
      "x=\n",
      " [1. 2. 3.]\n",
      "\n",
      "\n",
      "Beta=\n",
      " 0.7327\n",
      "\n",
      "\n",
      "v=\n",
      " [ 1.     -0.7295 -1.0942]\n",
      "\n",
      "\n",
      "R=\n",
      " [[ 0.2673  0.5345  0.8018]\n",
      " [ 0.5345  0.6101 -0.5849]\n",
      " [ 0.8018 -0.5849  0.1227]]\n",
      "\n",
      "\n",
      "Rx=\n",
      " [3.7417 0.     0.    ]\n"
     ]
    }
   ],
   "source": [
    "x=np.array([1,2,3.])\n",
    "print(\"x=\\n\",x)\n",
    "\n",
    "Beta,v=fQR.house(x)\n",
    "print(\"\\n\\nBeta=\\n\",np.round(Beta,4))\n",
    "print(\"\\n\\nv=\\n\",np.round(v,4))\n",
    "\n",
    "#Calculando matriz de reflexión de householder R\n",
    "R=np.eye(3)-Beta*np.outer(v,v)\n",
    "print(\"\\n\\nR=\\n\",np.round(R,4))\n",
    "\n",
    "#Observese como el producto de Rx da por resultado un vector con\n",
    "#todas sus entradas igualas a cero excepto la primera\n",
    "print(\"\\n\\nRx=\\n\",np.round(R@x,4))"
   ]
  },
  {
   "cell_type": "code",
   "execution_count": 16,
   "metadata": {},
   "outputs": [
    {
     "name": "stdout",
     "output_type": "stream",
     "text": [
      "\n",
      "\n",
      "A=\n",
      " [[ 5.399   1.037  -5.6713  5.3381]\n",
      " [-3.2108  0.5237 -3.9984 -0.4543]\n",
      " [-3.7008 -2.0237 -3.7576  1.0023]\n",
      " [-5.328   5.8827 -3.7054 -3.9283]\n",
      " [-2.9431  5.8806  3.3777 -0.5544]\n",
      " [-1.442   2.3905 -5.234  -5.0265]\n",
      " [-2.156  -2.6865 -0.0525  4.959 ]]\n",
      "\n",
      "\n",
      "Arv=\n",
      " [[ 9.8454 -3.5447  1.3801  4.6405]\n",
      " [ 0.7221  8.6602 -1.1298 -3.6938]\n",
      " [ 0.8323  0.51   10.5653 -0.3852]\n",
      " [ 1.1983 -0.0343 -0.5028  7.7444]\n",
      " [ 0.6619 -0.2488 -0.8968  0.0679]\n",
      " [ 0.3243 -0.079   0.289   0.3829]\n",
      " [ 0.4849  0.4288 -0.2517 -0.2596]]\n",
      "\n",
      "\n",
      "Q=\n",
      " [[ 0.5484  0.3442 -0.5716  0.4964  0.07   -0.0523 -0.0014]\n",
      " [-0.3261 -0.073  -0.3437  0.0848 -0.2833  0.3024 -0.769 ]\n",
      " [-0.3759 -0.3875 -0.348   0.1525  0.6626 -0.3534 -0.0145]\n",
      " [-0.5412  0.4578 -0.2311  0.0239 -0.4055 -0.4597  0.2606]\n",
      " [-0.2989  0.5567  0.4183  0.3939  0.4272  0.2716 -0.1201]\n",
      " [-0.1465  0.2161 -0.4532 -0.4808  0.2303  0.5759  0.3327]\n",
      " [-0.219  -0.3998 -0.0191  0.5799 -0.2753  0.4053  0.4642]]\n",
      "\n",
      "\n",
      "R=\n",
      " [[ 9.8454 -3.5447  1.3801  4.6405]\n",
      " [ 0.      8.6602 -1.1298 -3.6938]\n",
      " [ 0.      0.     10.5653 -0.3852]\n",
      " [ 0.      0.      0.      7.7444]\n",
      " [ 0.      0.      0.      0.    ]\n",
      " [ 0.      0.      0.      0.    ]\n",
      " [ 0.      0.      0.      0.    ]]\n",
      "\n",
      "\n",
      "Q@R=\n",
      " [[ 5.399   1.037  -5.6713  5.3381]\n",
      " [-3.2108  0.5237 -3.9984 -0.4543]\n",
      " [-3.7008 -2.0237 -3.7576  1.0023]\n",
      " [-5.328   5.8827 -3.7054 -3.9283]\n",
      " [-2.9431  5.8806  3.3777 -0.5544]\n",
      " [-1.442   2.3905 -5.234  -5.0265]\n",
      " [-2.156  -2.6865 -0.0525  4.959 ]]\n"
     ]
    }
   ],
   "source": [
    "#Definase una matriz A\n",
    "A=fQR.crear_matriz_aleatoria(7,4,6,-6)\n",
    "print('\\n\\nA=\\n',np.round(A,4))\n",
    "\n",
    "#Calculamos la matriz auxiliar Arv\n",
    "Arv=fQR.matriz_auxiliar_Arv(A)\n",
    "print('\\n\\nArv=\\n',np.round(Arv,4))\n",
    "\n",
    "#Obtenemos la matriz Q y R a partir de Arv\n",
    "Q=fQR.matriz_Q(Arv)\n",
    "print('\\n\\nQ=\\n',np.round(Q,4))\n",
    "R=fQR.matriz_R(Arv)\n",
    "print('\\n\\nR=\\n',np.round(R,4))\n",
    "\n",
    "#Checamos que QR=A\n",
    "print('\\n\\nQ@R=\\n',np.round(Q@R,4))"
   ]
  },
  {
   "cell_type": "code",
   "execution_count": 17,
   "metadata": {},
   "outputs": [
    {
     "name": "stdout",
     "output_type": "stream",
     "text": [
      "Q_np=\n",
      " [[-0.5484  0.3442 -0.5716 -0.4964]\n",
      " [ 0.3261 -0.073  -0.3437 -0.0848]\n",
      " [ 0.3759 -0.3875 -0.348  -0.1525]\n",
      " [ 0.5412  0.4578 -0.2311 -0.0239]\n",
      " [ 0.2989  0.5567  0.4183 -0.3939]\n",
      " [ 0.1465  0.2161 -0.4532  0.4808]\n",
      " [ 0.219  -0.3998 -0.0191 -0.5799]]\n",
      "\n",
      "R_np=\n",
      " [[-9.8454  3.5447 -1.3801 -4.6405]\n",
      " [ 0.      8.6602 -1.1298 -3.6938]\n",
      " [ 0.      0.     10.5653 -0.3852]\n",
      " [ 0.      0.      0.     -7.7444]]\n",
      "\n",
      "Q_np@R_np=\n",
      " [[ 5.399   1.037  -5.6713  5.3381]\n",
      " [-3.2108  0.5237 -3.9984 -0.4543]\n",
      " [-3.7008 -2.0237 -3.7576  1.0023]\n",
      " [-5.328   5.8827 -3.7054 -3.9283]\n",
      " [-2.9431  5.8806  3.3777 -0.5544]\n",
      " [-1.442   2.3905 -5.234  -5.0265]\n",
      " [-2.156  -2.6865 -0.0525  4.959 ]]\n"
     ]
    }
   ],
   "source": [
    "#Comparemos con el código de numpy\n",
    "Q_np, R_np=np.linalg.qr(A)\n",
    "#notamos que numpy obtiene con signos contrarios Q y R\n",
    "print('Q_np=\\n',np.round(Q_np,4))\n",
    "#Además R no guarda toda la matriz R de mxn, sino sólo la parte superior de nxn\n",
    "print('\\nR_np=\\n',np.round(R_np,4))\n",
    "#la multiplicación da por resultado A\n",
    "print('\\nQ_np@R_np=\\n',np.round(Q_np@R_np,4))"
   ]
  },
  {
   "cell_type": "code",
   "execution_count": 18,
   "metadata": {},
   "outputs": [
    {
     "data": {
      "text/plain": [
       "array([[ 0.5484,  0.3442, -0.5716,  0.4964,  0.07  , -0.0523, -0.0014],\n",
       "       [-0.3261, -0.073 , -0.3437,  0.0848, -0.2833,  0.3024, -0.769 ],\n",
       "       [-0.3759, -0.3875, -0.348 ,  0.1525,  0.6626, -0.3534, -0.0145],\n",
       "       [-0.5412,  0.4578, -0.2311,  0.0239, -0.4055, -0.4597,  0.2606],\n",
       "       [-0.2989,  0.5567,  0.4183,  0.3939,  0.4272,  0.2716, -0.1201],\n",
       "       [-0.1465,  0.2161, -0.4532, -0.4808,  0.2303,  0.5759,  0.3327],\n",
       "       [-0.219 , -0.3998, -0.0191,  0.5799, -0.2753,  0.4053,  0.4642]])"
      ]
     },
     "execution_count": 18,
     "metadata": {},
     "output_type": "execute_result"
    }
   ],
   "source": [
    "#Observese que Q=(Q_4*Q_3*Q_2*Q_1)_transpuesta\n",
    "np.round(np.transpose(fQR.Q_j(Arv,4)@fQR.Q_j(Arv,3)@fQR.Q_j(Arv,2)@fQR.Q_j(Arv,1)),4)"
   ]
  },
  {
   "cell_type": "code",
   "execution_count": 19,
   "metadata": {},
   "outputs": [
    {
     "name": "stdout",
     "output_type": "stream",
     "text": [
      "[[ 1.  0. -0. -0. -0. -0.  0.]\n",
      " [ 0.  1. -0.  0. -0.  0. -0.]\n",
      " [-0. -0.  1.  0.  0.  0. -0.]\n",
      " [-0.  0.  0.  1.  0. -0. -0.]\n",
      " [-0. -0.  0.  0.  1.  0. -0.]\n",
      " [-0.  0.  0. -0.  0.  1.  0.]\n",
      " [ 0. -0. -0. -0. -0.  0.  1.]]\n"
     ]
    }
   ],
   "source": [
    "#Puede comprobarse que Q_transpuesta*Q es igual a la identidad\n",
    "print(np.round(np.transpose(Q)@Q,4))"
   ]
  },
  {
   "cell_type": "code",
   "execution_count": 20,
   "metadata": {},
   "outputs": [
    {
     "name": "stdout",
     "output_type": "stream",
     "text": [
      "\n",
      "\n",
      "A=\n",
      " [[-5. -2.  2. -3.]\n",
      " [ 2. -2. -1. -3.]\n",
      " [-4.  5.  3.  5.]\n",
      " [-1. -4.  1.  5.]\n",
      " [-5. -4.  5.  4.]]\n",
      "\n",
      " Q1 :\n",
      " [[-0.5934  0.2374 -0.4747 -0.1187 -0.5934]\n",
      " [ 0.2374  0.9646  0.0707  0.0177  0.0884]\n",
      " [-0.4747  0.0707  0.8586 -0.0354 -0.1768]\n",
      " [-0.1187  0.0177 -0.0354  0.9912 -0.0442]\n",
      " [-0.5934  0.0884 -0.1768 -0.0442  0.779 ]]\n",
      "\n",
      " Q1 @ A=\n",
      " [[ 8.4261  1.1868 -5.9339 -4.2724]\n",
      " [-0.     -2.4747  0.1819 -2.8105]\n",
      " [ 0.      5.9494  0.6363  4.6209]\n",
      " [ 0.     -3.7626  0.4091  4.9052]\n",
      " [ 0.     -2.8132  2.0454  3.5261]]\n",
      "\n",
      " Q2 @ Q1 :\n",
      " [[ 1.      0.      0.      0.      0.    ]\n",
      " [ 0.     -0.3103  0.7461 -0.4718 -0.3528]\n",
      " [ 0.      0.7461  0.5752  0.2687  0.2009]\n",
      " [ 0.     -0.4718  0.2687  0.8301 -0.127 ]\n",
      " [ 0.     -0.3528  0.2009 -0.127   0.905 ]]\n",
      "\n",
      " Q2 @ Q1 @ A=\n",
      " [[ 8.4261  1.1868 -5.9339 -4.2724]\n",
      " [ 0.      7.9744 -0.4963  0.7612]\n",
      " [ 0.     -0.      1.0224  2.5873]\n",
      " [ 0.      0.      0.1649  6.1914]\n",
      " [ 0.      0.      1.8628  4.4877]]\n",
      "\n",
      " Q3 @ Q2 @ Q1 :\n",
      " [[ 1.      0.      0.      0.      0.    ]\n",
      " [ 0.      1.      0.      0.      0.    ]\n",
      " [ 0.      0.      0.4797  0.0774  0.874 ]\n",
      " [ 0.      0.      0.0774  0.9885 -0.1299]\n",
      " [ 0.      0.      0.874  -0.1299 -0.4682]]\n",
      "\n",
      " Q3 @ Q2 @ Q1 @ A=\n",
      " [[ 8.4261  1.1868 -5.9339 -4.2724]\n",
      " [ 0.      7.9744 -0.4963  0.7612]\n",
      " [ 0.      0.      2.1313  5.6424]\n",
      " [ 0.      0.     -0.      5.7371]\n",
      " [-0.     -0.     -0.     -0.6444]]\n",
      "\n",
      " Q4 @ Q3 @ Q2 @ Q1 :\n",
      " [[ 1.      0.      0.      0.      0.    ]\n",
      " [ 0.      1.      0.      0.      0.    ]\n",
      " [ 0.      0.      1.      0.      0.    ]\n",
      " [ 0.      0.      0.      0.9938 -0.1116]\n",
      " [ 0.      0.      0.     -0.1116 -0.9938]]\n",
      "\n",
      " Q4 @ Q3 @ Q2 @ Q1 @ A=\n",
      " [[ 8.4261  1.1868 -5.9339 -4.2724]\n",
      " [ 0.      7.9744 -0.4963  0.7612]\n",
      " [ 0.      0.      2.1313  5.6424]\n",
      " [ 0.      0.     -0.      5.7732]\n",
      " [ 0.      0.      0.     -0.    ]]\n",
      "\n",
      "\n",
      "\n",
      "Resultados finales:\n",
      "\n",
      "R es el resultado de multiplicar todas las Qjs a A\n",
      " [[ 8.4261  1.1868 -5.9339 -4.2724]\n",
      " [ 0.      7.9744 -0.4963  0.7612]\n",
      " [ 0.      0.      2.1313  5.6424]\n",
      " [ 0.      0.     -0.      5.7732]\n",
      " [ 0.      0.      0.     -0.    ]]\n",
      "\n",
      "Q es el resultado de multiplicar todas las Qjs y transponer:\n",
      " [[-0.5934 -0.1625 -0.7515 -0.2028 -0.1246]\n",
      " [ 0.2374 -0.2861  0.125  -0.4284 -0.814 ]\n",
      " [-0.4747  0.6977  0.2484  0.18   -0.4403]\n",
      " [-0.1187 -0.4839  0.0261  0.8166 -0.2903]\n",
      " [-0.5934 -0.4133  0.5976 -0.2759  0.2092]]\n"
     ]
    }
   ],
   "source": [
    "#Ejemplo ilustrativo de cómo obtener Q y R, visualizando cada iteración\n",
    "A=fQR.crear_matriz_aleatoria(5,4,5,-5,True)\n",
    "print('\\n\\nA=\\n',np.round(A,4))\n",
    "\n",
    "m=A.shape[0]\n",
    "n=A.shape[1]\n",
    "Q=np.eye(m)\n",
    "R=copy.copy(A)\n",
    "Arv=fQR.matriz_auxiliar_Arv(A)\n",
    "for j in range(n):\n",
    "    if j==0:\n",
    "        cadena='Q'+str(j+1)\n",
    "    else:\n",
    "        cadena='Q'+str(j+1) + ' @ ' + cadena\n",
    "    Qj=fQR.Q_j(Arv,j+1)\n",
    "    print('\\n',cadena,':\\n',np.round(Qj,4))\n",
    "    Q=Q@Qj\n",
    "    R=fQR.Q_j(Arv,j+1)@R\n",
    "    print('\\n',cadena,'@ A=\\n',np.round(R,4))\n",
    "\n",
    "print('\\n\\n\\nResultados finales:')\n",
    "print('\\nR es el resultado de multiplicar todas las Qjs a A\\n',np.round(R,4))\n",
    "print('\\nQ es el resultado de multiplicar todas las Qjs y transponer:\\n',np.round(Q,4))"
   ]
  },
  {
   "cell_type": "code",
   "execution_count": 21,
   "metadata": {},
   "outputs": [
    {
     "data": {
      "text/plain": [
       "array([[ 6.52486441e+01,  8.80122622e+00, -5.00032819e+00, ...,\n",
       "        -8.20571879e+00, -7.95791242e+00,  1.02650296e+01],\n",
       "       [-7.67409779e-02,  6.61415075e+01,  4.44068162e+00, ...,\n",
       "        -3.41337515e-01,  4.86694878e+00, -1.02706975e+01],\n",
       "       [ 9.22344768e-02, -1.08416676e-01,  6.22927306e+01, ...,\n",
       "        -5.86180586e+00, -1.84837765e+00,  5.04938324e+00],\n",
       "       ...,\n",
       "       [-4.18395394e-02,  1.15686368e-01,  2.55152744e-02, ...,\n",
       "        -3.58366408e-01,  2.78803608e-01,  2.55153635e-01],\n",
       "       [-1.41638976e-02, -2.94026568e-02, -1.03628232e-01, ...,\n",
       "        -3.81759477e-02,  2.27571558e-02,  2.01055870e-02],\n",
       "       [ 1.15152902e-01,  1.11095444e-01,  6.86910962e-02, ...,\n",
       "         7.85969031e-02, -2.89768803e-01,  7.66046813e-02]])"
      ]
     },
     "execution_count": 21,
     "metadata": {},
     "output_type": "execute_result"
    }
   ],
   "source": [
    "#Se prueba un ejemplo más grande la función matriz_auxiliar_Arv\n",
    "#que es base para la obtención de Q y R\n",
    "A=fQR.crear_matriz_aleatoria(11**2,10**2,10,-10,False)\n",
    "Arv=fQR.matriz_auxiliar_Arv(A)\n",
    "Arv"
   ]
  },
  {
   "cell_type": "markdown",
   "metadata": {},
   "source": [
    "## Solución de Sistemas de Ecuaciones Lineales\n",
    "\n",
    "### Funciones"
   ]
  },
  {
   "cell_type": "code",
   "execution_count": 22,
   "metadata": {},
   "outputs": [
    {
     "name": "stdout",
     "output_type": "stream",
     "text": [
      "def Solucion_SEL_QR_nxn(A,b):\n",
      "    \"\"\"\n",
      "    Función que obtiene la solución de un sistema de ecuaciones lineales (SEL) con n ecuaciones y n incognitas\n",
      "            \n",
      "    params: A   Matriz (nxn) que representa los coeficientas de las ecuaciones\n",
      "            b   vector (nx1) constantes del sistema\n",
      "\n",
      "    return: x   vector que satisface (Ax=b)\n",
      "    \"\"\"\n",
      "    Arv=matriz_auxiliar_Arv(A)\n",
      "    m=Arv.shape[0]\n",
      "    n=Arv.shape[0]\n",
      "    Q=matriz_Q(Arv)\n",
      "    R=matriz_R(Arv)\n",
      "    b_prima=np.transpose(Q)@b\n",
      "    x = solve_triangular(R, np.transpose(Q)@b)\n",
      "    return x\n",
      "\n"
     ]
    }
   ],
   "source": [
    "lines=inspect.getsource(fQR.Solucion_SEL_QR_nxn)\n",
    "print(lines)"
   ]
  },
  {
   "cell_type": "code",
   "execution_count": 23,
   "metadata": {},
   "outputs": [
    {
     "name": "stdout",
     "output_type": "stream",
     "text": [
      "Help on function Solucion_SEL_QR_nxn in module funciones_factorizacion_QR:\n",
      "\n",
      "Solucion_SEL_QR_nxn(A, b)\n",
      "    \n",
      "    Descripción:\n",
      "            Función que obtiene la solución de un sistema de ecuaciones lineales (SEL) con \n",
      "        n ecuaciones y n incognitas\n",
      "    \n",
      "    Parámetros:                            \n",
      "            A      Matriz (nxn) que representa los coeficientas de las ecuaciones \n",
      "               elementos de la matriz R y Q, de la factorización QR\n",
      "            b      vector (nx1) constantes del sistema\n",
      "    \n",
      "    Resultado:\n",
      "            x      vector que satisface (Ax=b)\n",
      "    \n",
      "    El Sistema de Ecuaciones Lineales establecido como Ax=b, es resuelto con esta función\n",
      "    mediante la factorización QR como a continuación se explica:\n",
      "    \n",
      "      Si A*x = b y A = Q*R, con A matriz (mxn), b (mx1) y Q una matriz ortogonal (mxm) y \n",
      "                                R (mxn) una matriz triangular superior\n",
      "      entonces Q*R*x = b.\n",
      "      \n",
      "      Aprovechando la propiedad de Q^(-1)=Q, es decir, Q^(-1)*Q=Identidad,\n",
      "      si multiplicamos ambos lados de la última ecuación por Q^(-1) por la izquierda se tiene\n",
      "      \n",
      "      Q^(-1)*Q*R*x = Q^(-1)*b\n",
      "      \n",
      "      que equivale a:\n",
      "      \n",
      "      R*x = Q*b\n",
      "      \n",
      "      Es decir, el resolver el sistema Ax=b es equivalente a resolver R*x=Q*b, donde\n",
      "      R es una matriz triangular superior, por lo que se puede resolver este sistema con un \n",
      "      método de sustituición hacia atrás que implica una simple y paulatina sustitución\n",
      "      de valores. Nótese que por las propiedades de Q, no fue nunca necesario calcular\n",
      "      su inversa, lo cual hubiera implicado cálculos adicionales\n",
      "\n"
     ]
    }
   ],
   "source": [
    "help(fQR.Solucion_SEL_QR_nxn)"
   ]
  },
  {
   "cell_type": "markdown",
   "metadata": {},
   "source": [
    "## Eliminación por bloques\n",
    "\n",
    "### Funciones"
   ]
  },
  {
   "cell_type": "code",
   "execution_count": 24,
   "metadata": {},
   "outputs": [
    {
     "name": "stdout",
     "output_type": "stream",
     "text": [
      "def crear_bloques(A, b=True, m1=True, n1=True):\n",
      "    \"\"\"\n",
      "    Esta es la función para la creación de bloques usando un arreglo de numpy\n",
      "    \n",
      "    params: A   Matriz (nxn) que representa los coeficientas de las ecuaciones\n",
      "            b   vector (nx1) constantes del sistema\n",
      "            n1  Numero de renglones que tendrá el 1er bloque\n",
      "            n2  Numero de renglones que tendrá el 2do bloque\n",
      "    \n",
      "    return: A11 Fraccion de la matriz dividida\n",
      "            A12 Fraccion de la matriz dividida\n",
      "            A12 Fraccion de la matriz dividida\n",
      "            A12 Fraccion de la matriz dividida\n",
      "            b1  Fraccion del vector dividido\n",
      "            b2  Fraccion del vector dividido\n",
      "    \"\"\"\n",
      "\n",
      "    # Primero definimos el n\n",
      "    m,n = A.shape\n",
      "\n",
      "    # Condiciones de A\n",
      "    # Si no se dan los n deseados, se intentan hacer los bloques casi iguales\n",
      "    m1 = m//2 if m1 is True else m1\n",
      "    print(m1)\n",
      "    n1 = n//2 if n1 is True else n1\n",
      "    print(n1)\n",
      "\n",
      "    # Los bloques deben cumplir la condicion de tamaño\n",
      "    if m1 > m:\n",
      "        sys.exit('m1 debe ser menor que m')\n",
      "    elif n1 > n:\n",
      "        sys.exit('n1 debe ser menor que n')\n",
      "\n",
      "\n",
      "    # Condiciones de b\n",
      "    if  b is True:\n",
      "        b1 = None\n",
      "        b2 = None\n",
      "    elif len(b) == m:\n",
      "        b1 = b[:m1]\n",
      "        b2 = b[m1:m]\n",
      "    else:\n",
      "        sys.exit('los renglones de A y b deben ser del mismo tamaño')\n",
      "\n",
      "    A11 = A[:m1,:n1]\n",
      "    A21 = A[m1:m,:n1]\n",
      "    A12 = A[:m1,n1:n]\n",
      "    A22 = A[m1:m,n1:n]\n",
      "\n",
      "    return A11,A21,A12,A22,b1,b2\n",
      "\n"
     ]
    }
   ],
   "source": [
    "lines=inspect.getsource(fQR.crear_bloques)\n",
    "print(lines)"
   ]
  },
  {
   "cell_type": "code",
   "execution_count": 25,
   "metadata": {},
   "outputs": [
    {
     "name": "stdout",
     "output_type": "stream",
     "text": [
      "Help on function crear_bloques in module funciones_factorizacion_QR:\n",
      "\n",
      "crear_bloques(A, b=True, m1=True, n1=True)\n",
      "    Esta es la función para la creación de bloques usando un arreglo de numpy\n",
      "    \n",
      "    params: A   Matriz (nxn) que representa los coeficientas de las ecuaciones\n",
      "            b   vector (nx1) constantes del sistema\n",
      "            n1  Numero de renglones que tendrá el 1er bloque\n",
      "            n2  Numero de renglones que tendrá el 2do bloque\n",
      "    \n",
      "    return: A11 Fraccion de la matriz dividida\n",
      "            A12 Fraccion de la matriz dividida\n",
      "            A12 Fraccion de la matriz dividida\n",
      "            A12 Fraccion de la matriz dividida\n",
      "            b1  Fraccion del vector dividido\n",
      "            b2  Fraccion del vector dividido\n",
      "\n"
     ]
    }
   ],
   "source": [
    "help(fQR.crear_bloques)"
   ]
  },
  {
   "cell_type": "code",
   "execution_count": 26,
   "metadata": {},
   "outputs": [
    {
     "name": "stdout",
     "output_type": "stream",
     "text": [
      "def eliminacion_bloques(A,b, m1=True, n1=True):\n",
      "    \"\"\"\n",
      "    Función que obtiene la solución de un sistema de ecuaciones lineala (SEL) con n ecuaciones y n incognitas\n",
      "            \n",
      "    params: A   Matriz (nxn) que representa los coeficientas de las ecuaciones\n",
      "            b   vector (nx1) constantes del sistema\n",
      "    \n",
      "    return: x1 Solucion al 1er sistema de ecuaciones obtenido con la división por bloques\n",
      "            x2 Solucion al 2do sistema de ecuaciones obtenido con la división por bloques\n",
      "    \"\"\"\n",
      "    if np.linalg.det(A)==0:\n",
      "        sys.exit('A debe ser no singular')\n",
      "\n",
      "    A11,A21,A12,A22,b1,b2 = crear_bloques(A,b,m1,n1)\n",
      "\n",
      "    if np.linalg.det(A11)==0:\n",
      "        sys.exit('A11 debe ser no singular')\n",
      "\n",
      "    ## 1. Calcular A11^{-1}A12 y A11^{-1}b1 teniendo cuidado en no calcular la inversa sino un sistema de ecuaciones lineales\n",
      "    ## Aquí se debe usar el método QR una vez que esté desarrollado\n",
      "\n",
      "    ## Definimos y = A11^{-1}b1, por tanto A11y=b1. Resolviendo el sistema anterior para 11y:\n",
      "    y = Solucion_SEL_QR_nxn(A11,b1)\n",
      "    #y = np.linalg.solve(A11,b1)\n",
      "\n",
      "    ## Definimos Y = A11^{-1}A12\n",
      "    Y = Solucion_SEL_QR_nxn(A11,A12)\n",
      "    #Y = np.linalg.solve(A11,A12)\n",
      "\n",
      "    ## 2. Calcular el complemento de Schur del bloque A11 en A. Calcular b_hat\n",
      "    S = A22 - A21@Y\n",
      "    b_h = b2 - A21@y\n",
      "\n",
      "    ## 3. Resolver Sx2 = b_hat\n",
      "    x2 = Solucion_SEL_QR_nxn(S,b_h)\n",
      "    #x2 = np.linalg.solve(S,b_h)\n",
      "\n",
      "    ## 4. Resolver A11x1 = b1-A12X2\n",
      "    x1 = Solucion_SEL_QR_nxn(A11,b1-A12@x2)\n",
      "    #x1 = np.linalg.solve(A11,b1-A12@x2)\n",
      "\n",
      "    return np.concatenate((x1,x2), axis=0)\n",
      "\n"
     ]
    }
   ],
   "source": [
    "lines=inspect.getsource(fQR.eliminacion_bloques)\n",
    "print(lines)"
   ]
  },
  {
   "cell_type": "code",
   "execution_count": 27,
   "metadata": {},
   "outputs": [
    {
     "name": "stdout",
     "output_type": "stream",
     "text": [
      "Help on function eliminacion_bloques in module funciones_factorizacion_QR:\n",
      "\n",
      "eliminacion_bloques(A, b, m1=True, n1=True)\n",
      "    Función que obtiene la solución de un sistema de ecuaciones lineala (SEL) con n ecuaciones y n incognitas\n",
      "            \n",
      "    params: A   Matriz (nxn) que representa los coeficientas de las ecuaciones\n",
      "            b   vector (nx1) constantes del sistema\n",
      "    \n",
      "    return: x1 Solucion al 1er sistema de ecuaciones obtenido con la división por bloques\n",
      "            x2 Solucion al 2do sistema de ecuaciones obtenido con la división por bloques\n",
      "\n"
     ]
    }
   ],
   "source": [
    "help(fQR.eliminacion_bloques)"
   ]
  },
  {
   "cell_type": "markdown",
   "metadata": {},
   "source": [
    "## Solución de Sistemas de Ecuaciones Lineales\n",
    "\n",
    "### Ejemplos"
   ]
  },
  {
   "cell_type": "markdown",
   "metadata": {},
   "source": [
    "### A) Sistema con soluciones únicas"
   ]
  },
  {
   "cell_type": "code",
   "execution_count": 28,
   "metadata": {},
   "outputs": [
    {
     "name": "stdout",
     "output_type": "stream",
     "text": [
      "A: [[-0.91  3.04  4.13  1.86 -0.58  1.34]\n",
      " [ 4.81  4.7  -5.4   3.45 -1.61  3.07]\n",
      " [-3.78 -0.91 -4.15 -2.8   1.86 -5.16]\n",
      " [ 1.34  5.59  1.14  1.32  1.2   3.5 ]\n",
      " [ 1.24  1.12  4.88 -0.02  3.34  3.48]\n",
      " [-1.56 -1.11  5.59  1.57  1.87  2.44]]\n",
      "b: [[ 1.01]\n",
      " [-5.88]\n",
      " [ 4.48]\n",
      " [ 0.35]\n",
      " [-5.17]\n",
      " [-2.54]]\n"
     ]
    }
   ],
   "source": [
    "#Generamos un sistema de ecuaciones lineales\n",
    "m=6\n",
    "n=6\n",
    "A=np.round(fQR.crear_matriz_aleatoria(m,n,6,-6,False),2)\n",
    "b = np.round(fQR.crear_matriz_aleatoria(m,1,6,-6,False),2)\n",
    "print(\"A:\",A)\n",
    "print(\"b:\",b)"
   ]
  },
  {
   "cell_type": "markdown",
   "metadata": {},
   "source": [
    "Primero resolvamos el sistema de ecuaciones usando la paquetería de numpy para comparar."
   ]
  },
  {
   "cell_type": "code",
   "execution_count": 29,
   "metadata": {},
   "outputs": [
    {
     "data": {
      "text/plain": [
       "array([[-2.62198785],\n",
       "       [ 0.56546405],\n",
       "       [-0.57720686],\n",
       "       [-2.47897408],\n",
       "       [-2.04539603],\n",
       "       [ 2.02493044]])"
      ]
     },
     "execution_count": 29,
     "metadata": {},
     "output_type": "execute_result"
    }
   ],
   "source": [
    "np.linalg.solve(A,b)"
   ]
  },
  {
   "cell_type": "markdown",
   "metadata": {},
   "source": [
    "Ahora usemos la factorización QR"
   ]
  },
  {
   "cell_type": "code",
   "execution_count": 30,
   "metadata": {},
   "outputs": [
    {
     "data": {
      "text/plain": [
       "array([[ 0.25431183],\n",
       "       [ 0.92214874],\n",
       "       [ 0.78094419],\n",
       "       [-0.29174144],\n",
       "       [-0.52404568],\n",
       "       [-2.02493044]])"
      ]
     },
     "execution_count": 30,
     "metadata": {},
     "output_type": "execute_result"
    }
   ],
   "source": [
    "x=fQR.Solucion_SEL_QR_nxn(A,b)\n",
    "x"
   ]
  },
  {
   "cell_type": "code",
   "execution_count": 31,
   "metadata": {},
   "outputs": [
    {
     "data": {
      "text/plain": [
       "array([[ 2.84510853],\n",
       "       [-5.03909052],\n",
       "       [ 5.24941968],\n",
       "       [-1.71534438],\n",
       "       [-3.63207478],\n",
       "       [-3.4336633 ]])"
      ]
     },
     "execution_count": 31,
     "metadata": {},
     "output_type": "execute_result"
    }
   ],
   "source": [
    "#Checamos que sea solucion (debe ser igual al vector b)\n",
    "A@x"
   ]
  },
  {
   "cell_type": "markdown",
   "metadata": {},
   "source": [
    "Por último usemos eliminación por bloques con QR"
   ]
  },
  {
   "cell_type": "code",
   "execution_count": 32,
   "metadata": {},
   "outputs": [
    {
     "name": "stdout",
     "output_type": "stream",
     "text": [
      "3\n",
      "3\n"
     ]
    },
    {
     "data": {
      "text/plain": [
       "array([[-2.35223007],\n",
       "       [ 0.97231599],\n",
       "       [ 0.59337237],\n",
       "       [-3.77497903],\n",
       "       [-4.03990252],\n",
       "       [ 2.0631865 ]])"
      ]
     },
     "execution_count": 32,
     "metadata": {},
     "output_type": "execute_result"
    }
   ],
   "source": [
    "fQR.eliminacion_bloques(A,b)"
   ]
  },
  {
   "cell_type": "markdown",
   "metadata": {},
   "source": [
    "### B) Sistema sin solución"
   ]
  },
  {
   "cell_type": "code",
   "execution_count": 33,
   "metadata": {},
   "outputs": [
    {
     "name": "stdout",
     "output_type": "stream",
     "text": [
      "A:\n",
      "array([[1., 0., 0.],\n",
      "       [0., 1., 0.],\n",
      "       [0., 0., 0.]])\n",
      "b:\n",
      "array([[3.],\n",
      "       [3.],\n",
      "       [5.]])\n"
     ]
    }
   ],
   "source": [
    "#Generamos un sistema de ecuaciones lineales\n",
    "A = np.array([[1, 0, 0], [0, 1, 0], [0, 0, 0]], dtype='d')\n",
    "b = np.array([[3], [3], [5]], dtype='d')\n",
    "print(\"A:\")\n",
    "pprint.pprint(A)\n",
    "print(\"b:\")\n",
    "pprint.pprint(b)"
   ]
  },
  {
   "cell_type": "markdown",
   "metadata": {},
   "source": [
    "Primero resolvamos el sistema de ecuaciones usando la paquetería de numpy para comparar."
   ]
  },
  {
   "cell_type": "code",
   "execution_count": 34,
   "metadata": {},
   "outputs": [
    {
     "ename": "LinAlgError",
     "evalue": "Singular matrix",
     "output_type": "error",
     "traceback": [
      "\u001b[0;31m---------------------------------------------------------------------------\u001b[0m",
      "\u001b[0;31mLinAlgError\u001b[0m                               Traceback (most recent call last)",
      "\u001b[0;32m<ipython-input-34-36718354ad3a>\u001b[0m in \u001b[0;36m<module>\u001b[0;34m\u001b[0m\n\u001b[0;32m----> 1\u001b[0;31m \u001b[0mnp\u001b[0m\u001b[0;34m.\u001b[0m\u001b[0mlinalg\u001b[0m\u001b[0;34m.\u001b[0m\u001b[0msolve\u001b[0m\u001b[0;34m(\u001b[0m\u001b[0mA\u001b[0m\u001b[0;34m,\u001b[0m\u001b[0mb\u001b[0m\u001b[0;34m)\u001b[0m\u001b[0;34m\u001b[0m\u001b[0;34m\u001b[0m\u001b[0m\n\u001b[0m",
      "\u001b[0;32m<__array_function__ internals>\u001b[0m in \u001b[0;36msolve\u001b[0;34m(*args, **kwargs)\u001b[0m\n",
      "\u001b[0;32m~/.local/lib/python3.6/site-packages/numpy/linalg/linalg.py\u001b[0m in \u001b[0;36msolve\u001b[0;34m(a, b)\u001b[0m\n\u001b[1;32m    397\u001b[0m     \u001b[0msignature\u001b[0m \u001b[0;34m=\u001b[0m \u001b[0;34m'DD->D'\u001b[0m \u001b[0;32mif\u001b[0m \u001b[0misComplexType\u001b[0m\u001b[0;34m(\u001b[0m\u001b[0mt\u001b[0m\u001b[0;34m)\u001b[0m \u001b[0;32melse\u001b[0m \u001b[0;34m'dd->d'\u001b[0m\u001b[0;34m\u001b[0m\u001b[0;34m\u001b[0m\u001b[0m\n\u001b[1;32m    398\u001b[0m     \u001b[0mextobj\u001b[0m \u001b[0;34m=\u001b[0m \u001b[0mget_linalg_error_extobj\u001b[0m\u001b[0;34m(\u001b[0m\u001b[0m_raise_linalgerror_singular\u001b[0m\u001b[0;34m)\u001b[0m\u001b[0;34m\u001b[0m\u001b[0;34m\u001b[0m\u001b[0m\n\u001b[0;32m--> 399\u001b[0;31m     \u001b[0mr\u001b[0m \u001b[0;34m=\u001b[0m \u001b[0mgufunc\u001b[0m\u001b[0;34m(\u001b[0m\u001b[0ma\u001b[0m\u001b[0;34m,\u001b[0m \u001b[0mb\u001b[0m\u001b[0;34m,\u001b[0m \u001b[0msignature\u001b[0m\u001b[0;34m=\u001b[0m\u001b[0msignature\u001b[0m\u001b[0;34m,\u001b[0m \u001b[0mextobj\u001b[0m\u001b[0;34m=\u001b[0m\u001b[0mextobj\u001b[0m\u001b[0;34m)\u001b[0m\u001b[0;34m\u001b[0m\u001b[0;34m\u001b[0m\u001b[0m\n\u001b[0m\u001b[1;32m    400\u001b[0m \u001b[0;34m\u001b[0m\u001b[0m\n\u001b[1;32m    401\u001b[0m     \u001b[0;32mreturn\u001b[0m \u001b[0mwrap\u001b[0m\u001b[0;34m(\u001b[0m\u001b[0mr\u001b[0m\u001b[0;34m.\u001b[0m\u001b[0mastype\u001b[0m\u001b[0;34m(\u001b[0m\u001b[0mresult_t\u001b[0m\u001b[0;34m,\u001b[0m \u001b[0mcopy\u001b[0m\u001b[0;34m=\u001b[0m\u001b[0;32mFalse\u001b[0m\u001b[0;34m)\u001b[0m\u001b[0;34m)\u001b[0m\u001b[0;34m\u001b[0m\u001b[0;34m\u001b[0m\u001b[0m\n",
      "\u001b[0;32m~/.local/lib/python3.6/site-packages/numpy/linalg/linalg.py\u001b[0m in \u001b[0;36m_raise_linalgerror_singular\u001b[0;34m(err, flag)\u001b[0m\n\u001b[1;32m     95\u001b[0m \u001b[0;34m\u001b[0m\u001b[0m\n\u001b[1;32m     96\u001b[0m \u001b[0;32mdef\u001b[0m \u001b[0m_raise_linalgerror_singular\u001b[0m\u001b[0;34m(\u001b[0m\u001b[0merr\u001b[0m\u001b[0;34m,\u001b[0m \u001b[0mflag\u001b[0m\u001b[0;34m)\u001b[0m\u001b[0;34m:\u001b[0m\u001b[0;34m\u001b[0m\u001b[0;34m\u001b[0m\u001b[0m\n\u001b[0;32m---> 97\u001b[0;31m     \u001b[0;32mraise\u001b[0m \u001b[0mLinAlgError\u001b[0m\u001b[0;34m(\u001b[0m\u001b[0;34m\"Singular matrix\"\u001b[0m\u001b[0;34m)\u001b[0m\u001b[0;34m\u001b[0m\u001b[0;34m\u001b[0m\u001b[0m\n\u001b[0m\u001b[1;32m     98\u001b[0m \u001b[0;34m\u001b[0m\u001b[0m\n\u001b[1;32m     99\u001b[0m \u001b[0;32mdef\u001b[0m \u001b[0m_raise_linalgerror_nonposdef\u001b[0m\u001b[0;34m(\u001b[0m\u001b[0merr\u001b[0m\u001b[0;34m,\u001b[0m \u001b[0mflag\u001b[0m\u001b[0;34m)\u001b[0m\u001b[0;34m:\u001b[0m\u001b[0;34m\u001b[0m\u001b[0;34m\u001b[0m\u001b[0m\n",
      "\u001b[0;31mLinAlgError\u001b[0m: Singular matrix"
     ]
    }
   ],
   "source": [
    "np.linalg.solve(A,b)"
   ]
  },
  {
   "cell_type": "markdown",
   "metadata": {},
   "source": [
    "* Marca un error: \"Singular matrix\""
   ]
  },
  {
   "cell_type": "markdown",
   "metadata": {},
   "source": [
    "Ahora usemos la factorización QR"
   ]
  },
  {
   "cell_type": "code",
   "execution_count": null,
   "metadata": {},
   "outputs": [],
   "source": [
    "x=fQR.Solucion_SEL_QR_nxn(A,b)\n",
    "x"
   ]
  },
  {
   "cell_type": "code",
   "execution_count": null,
   "metadata": {},
   "outputs": [],
   "source": [
    "#Checamos que sea solucion (debe ser igual al vector b)\n",
    "A@x"
   ]
  },
  {
   "cell_type": "markdown",
   "metadata": {},
   "source": [
    "Por último usemos eliminación por bloques con QR"
   ]
  },
  {
   "cell_type": "code",
   "execution_count": null,
   "metadata": {},
   "outputs": [],
   "source": [
    "fQR.eliminacion_bloques(A,b)"
   ]
  },
  {
   "cell_type": "markdown",
   "metadata": {},
   "source": [
    "* Se concluye que es un sistema de rectas paralelas, por lo tanto no existe solúción."
   ]
  },
  {
   "cell_type": "markdown",
   "metadata": {},
   "source": [
    "### C) Sistema con infinitas soluciones"
   ]
  },
  {
   "cell_type": "code",
   "execution_count": null,
   "metadata": {},
   "outputs": [],
   "source": [
    "#Generamos un sistema de ecuaciones lineales\n",
    "A = np.array([[1, 0, 0], [0, 1, 0], [0, 0, 0]], dtype='d')\n",
    "b = np.array([[3], [3], [0]], dtype='d')\n",
    "print(\"A:\")\n",
    "pprint.pprint(A)\n",
    "print(\"b:\")\n",
    "pprint.pprint(b)"
   ]
  },
  {
   "cell_type": "markdown",
   "metadata": {},
   "source": [
    "Primero resolvamos el sistema de ecuaciones usando la paquetería de numpy para comparar."
   ]
  },
  {
   "cell_type": "code",
   "execution_count": null,
   "metadata": {},
   "outputs": [],
   "source": [
    "np.linalg.solve(A,b)"
   ]
  },
  {
   "cell_type": "markdown",
   "metadata": {},
   "source": [
    "* Marca un error: \"Singular matrix\""
   ]
  },
  {
   "cell_type": "markdown",
   "metadata": {},
   "source": [
    "Ahora usemos la factorización QR"
   ]
  },
  {
   "cell_type": "code",
   "execution_count": null,
   "metadata": {},
   "outputs": [],
   "source": [
    "x=fQR.Solucion_SEL_QR_nxn(A,b)\n",
    "x"
   ]
  },
  {
   "cell_type": "code",
   "execution_count": null,
   "metadata": {},
   "outputs": [],
   "source": [
    "#Checamos que sea solucion (debe ser igual al vector b)\n",
    "A@x"
   ]
  },
  {
   "cell_type": "markdown",
   "metadata": {},
   "source": [
    "Por último usemos eliminación por bloques con QR"
   ]
  },
  {
   "cell_type": "code",
   "execution_count": null,
   "metadata": {},
   "outputs": [],
   "source": [
    "fQR.eliminacion_bloques(A,b)"
   ]
  },
  {
   "cell_type": "code",
   "execution_count": null,
   "metadata": {},
   "outputs": [],
   "source": []
  }
 ],
 "metadata": {
  "kernelspec": {
   "display_name": "Python 3",
   "language": "python",
   "name": "python3"
  },
  "language_info": {
   "codemirror_mode": {
    "name": "ipython",
    "version": 3
   },
   "file_extension": ".py",
   "mimetype": "text/x-python",
   "name": "python",
   "nbconvert_exporter": "python",
   "pygments_lexer": "ipython3",
   "version": "3.6.9"
  }
 },
 "nbformat": 4,
 "nbformat_minor": 4
}
