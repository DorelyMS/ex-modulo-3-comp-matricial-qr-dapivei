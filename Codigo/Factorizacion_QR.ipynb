{
 "cells": [
  {
   "cell_type": "code",
   "execution_count": 1,
   "metadata": {},
   "outputs": [],
   "source": [
    "#paquetes python\n",
    "import os\n",
    "import numpy as np\n",
    "import copy\n",
    "import pprint\n",
    "from math import sqrt\n",
    "from scipy.linalg import solve_triangular\n",
    "import inspect\n",
    "import sys\n",
    "\n",
    "#paquetes funciones definidas obtenidas de archivos .py\n",
    "import funciones_factorizacion_QR as fQR"
   ]
  },
  {
   "cell_type": "markdown",
   "metadata": {},
   "source": []
  },
  {
   "cell_type": "markdown",
   "metadata": {},
   "source": [
    "**OBJETIVO:**\n",
    "\n",
    "El presente notebook tiene por finalidad exhibir y poner a prueba funciones definidas por el equipo QR para resolver un Sistema de Ecuaciones Lineales (SEL), a través de 3 pasos:\n",
    "\n",
    "    1) Obtención de factorización QR (A=QR)\n",
    "    2) Implementación del método de eliminación por bloques\n",
    "    3) Resolución de SEL (Ax=b) con los 2 pasos anteriores\n",
    "    \n",
    "Para lograr tal objetivo se presentarán a continuacion las funciones implementadas en python, así como una serie de ejemplos para entender mejor su funcionamiento"
   ]
  },
  {
   "cell_type": "markdown",
   "metadata": {},
   "source": [
    "## Factorización QR\n",
    "\n",
    "### Funciones"
   ]
  },
  {
   "cell_type": "code",
   "execution_count": 2,
   "metadata": {},
   "outputs": [
    {
     "name": "stdout",
     "output_type": "stream",
     "text": [
      "def crear_matriz_aleatoria(renglones,columnas,maximo_valor,minimo_valor,entero=False):\n",
      "    \"\"\"\n",
      "    Función de apoyo para genear matrices aleatorias\n",
      "\n",
      "    params: renglones       no. de renglones de la matriz\n",
      "            columnas        no. de columnas de la matriz\n",
      "            maximo_valor    valor máximo de las entradas de la matriz\n",
      "            minimo_valor    valor mínimo de las entradas de la matriz\n",
      "            entero          Indica si las entradas serán enteras (True) o no\n",
      "            \n",
      "    return: M               Matriz con numeros al azar\n",
      "    \"\"\"\n",
      "    \n",
      "    #Se checa que los parámetros sean congruentes con la funcionalidad\n",
      "    if isinstance(renglones, int)==False or isinstance(columnas, int)==False:\n",
      "        sys.exit('Los parámetros de renglones y columnas deben ser enteros positivos')\n",
      "    elif renglones<=0 or columnas<=0:\n",
      "        sys.exit('Los parámetros de renglones y columnas deben ser enteros positivos')            \n",
      "    if isinstance(maximo_valor, (int, float))==False or isinstance(minimo_valor, (int, float))==False:\n",
      "        sys.exit('Los parámetros maximo_valor y minimo_valor deben ser numericos')\n",
      "\n",
      "    #Se inicializa una matriz llena de ceros con las dimensiones deseadas (mxn)\n",
      "    M=np.zeros((renglones, columnas))\n",
      "    for i in range(renglones):\n",
      "        for j in range(columnas):\n",
      "            #Si entero es verdadero se obtiene el maximo entero menor o igual a 1 (//1)\n",
      "            if entero:\n",
      "                M[i][j]=(np.random.rand(1)*(maximo_valor+1-minimo_valor)+minimo_valor)//1\n",
      "            else:\n",
      "                M[i][j]=np.random.rand(1)*(maximo_valor-minimo_valor)+minimo_valor\n",
      "    return M\n",
      "\n"
     ]
    }
   ],
   "source": [
    "lines=inspect.getsource(fQR.crear_matriz_aleatoria)\n",
    "print(lines)"
   ]
  },
  {
   "cell_type": "code",
   "execution_count": 3,
   "metadata": {},
   "outputs": [
    {
     "name": "stdout",
     "output_type": "stream",
     "text": [
      "Help on function crear_matriz_aleatoria in module funciones_factorizacion_QR:\n",
      "\n",
      "crear_matriz_aleatoria(renglones, columnas, maximo_valor, minimo_valor, entero=False)\n",
      "    \n",
      "    Descripción:\n",
      "            Función que genera matrices de tamaño definido con entradas dentro del rango\n",
      "            indicado\n",
      "    \n",
      "    Parametros:\n",
      "            renglones       integer indica renglones de la matriz\n",
      "            columnas        integer indica columnas de la matriz\n",
      "            maximo_valor    integer o double señala valor máximo de las entradas de la matriz\n",
      "            minimo_valor    integer o double señala valor mínimo de las entradas de la matriz\n",
      "            entero          Boolean, indica si las entradas serán enteras (True) o no (False)\n",
      "    \n",
      "    Resultado:\n",
      "            M               np.ndarray que representa matriz (mxn) con numeros al azar en el\n",
      "                            rango indicado\n",
      "    \n",
      "    Ejemplos:\n",
      "    Crear matriz de m=4 renglones y n=3 columnas, con entradas reales entre 3.4 y 15.6:\n",
      "    crea_matriz(m,n,3.4,15.6)\n",
      "    \n",
      "    Crear matriz de m=2 renglones y n=2 columnas, con entradas enteras entre 0 y 1:\n",
      "    crea_matriz(2,2,0,1,True)\n",
      "\n"
     ]
    }
   ],
   "source": [
    "help(fQR.crear_matriz_aleatoria)"
   ]
  },
  {
   "cell_type": "code",
   "execution_count": 4,
   "metadata": {},
   "outputs": [
    {
     "name": "stdout",
     "output_type": "stream",
     "text": [
      "def house(x):\n",
      "    \"\"\"\n",
      "    Función que calcula vector de householder\n",
      "    \n",
      "    params: x       vector al que se le hará la reflexión householder\n",
      "                    \n",
      "    return: Beta    factor para obtener matriz de reflexión householder Rf\n",
      "            v       vector de householder\n",
      "    \"\"\"\n",
      "    \n",
      "    #Se checa que los parámetros sean congruentes con la funcionalidad\n",
      "    if type(x) is not np.ndarray:\n",
      "        sys.exit('x debe ser de tipo numpy.ndarray')\n",
      "    \n",
      "    #longitud del vector x=(x_0,x_1,x_2,...,x_(m-1))\n",
      "    m=len(x)\n",
      "    norm_2_m=x[1:m].dot(np.transpose(x[1:m]))\n",
      "    #Se hace v=x=(1,x_1,x_2,...,x_(m-1))\n",
      "    v=np.concatenate((1,x[1:m]), axis=None)\n",
      "    Beta=0\n",
      "    #con las siguientes condiciones se checa si x es múltiplo del vector canónico e_1 \n",
      "    #y el signo de x[0]\n",
      "    if (norm_2_m==0 and x[0]>=0):\n",
      "        Beta=0\n",
      "    elif (norm_2_m==0 and x[0]<0):\n",
      "        Beta=2\n",
      "    else:\n",
      "        norm_x=np.sqrt(pow(x[0],2)+norm_2_m)\n",
      "        if (x[0]<=0):\n",
      "            v[0]=x[0]-norm_x\n",
      "        else:\n",
      "            v[0]=-norm_2_m/(x[0]+norm_x)\n",
      "        Beta=2*pow(v[0],2)/(norm_2_m+pow(v[0],2))\n",
      "        v=v/v[0]\n",
      "    return Beta, v\n",
      "\n"
     ]
    }
   ],
   "source": [
    "lines=inspect.getsource(fQR.house)\n",
    "print(lines)"
   ]
  },
  {
   "cell_type": "code",
   "execution_count": 5,
   "metadata": {},
   "outputs": [
    {
     "name": "stdout",
     "output_type": "stream",
     "text": [
      "Help on function house in module funciones_factorizacion_QR:\n",
      "\n",
      "house(x)\n",
      "    \n",
      "    Descripción:\n",
      "            Función que calcula vector de householder\n",
      "    \n",
      "    Parametros:\n",
      "            x       np.ndarray que representa vector al que se le hará la reflexión householder\n",
      "    \n",
      "    Resultado:\n",
      "            Beta    double para obtener matriz de reflexión householder v\n",
      "            v       np.ndarray que representa vector que representa la reflexión de householder\n",
      "    \n",
      "    Con el vector v y el factor beta obtenidos se puede calcular la matriz de reflexión de\n",
      "    householder R, donde R= Identidad(mxm) - Beta*v*v_transpuesta (v*v_transpuesta es matriz  \n",
      "    de pxp si v tiene p entradas). El vector v está construido de tal forma que al generar la \n",
      "    matriz de reflexión de householder Rf y multiplicarse por x se obtiene una proyección de \n",
      "    este último sobre el vector canónico e_1=(1,0,0,...,0) obteniendo un vector con todas sus \n",
      "    entradas ingualas  a cero excepto la primera, que de hecho es ||x||*e_1=(||x||,0,0,...,0)\n",
      "    \n",
      "    Esta mecánica se puede implementar en matrices para generar matrices triangulares superiores \n",
      "    (generando ceros en el triangulo inferior) como se ilustra a continuación\n",
      "    \n",
      "       [ a00 a01 a02 a03 ]\n",
      "    A= [ a10 a11 a12 a13 ]\n",
      "       [ a20 a21 a22 a23 ]\n",
      "       [ a30 a31 a32 a33 ]\n",
      "    \n",
      "    Tomese x=A[:,0]=[a00,a10,a20,a30], calcular (v,Beta) y con ello la matriz de reflexión Rf_0. \n",
      "    Con el producto Rf_0*A se obtiene una matriz de la forma:\n",
      "       [  *   *   *   *  ]\n",
      "    A= [  0   *   *   *  ]\n",
      "       [  0   *   *   *  ]\n",
      "       [  0   *   *   *  ]\n",
      "    \n",
      "    Tomese x=A[:,1]=[a11,a21,a31], calcular (v,Beta) y con ello la matriz de reflexión Rf_1. \n",
      "    Con el producto Rf_1*Rf_0*A se obtiene una matriz de la forma:\n",
      "       [  *   *   *   *  ]\n",
      "    A= [  0   *   *   *  ]\n",
      "       [  0   0   *   *  ]\n",
      "       [  0   0   *   *  ]\n",
      "\n"
     ]
    }
   ],
   "source": [
    "help(fQR.house)"
   ]
  },
  {
   "cell_type": "code",
   "execution_count": 6,
   "metadata": {},
   "outputs": [
    {
     "name": "stdout",
     "output_type": "stream",
     "text": [
      "def matriz_auxiliar_Arv(A):\n",
      "    \"\"\"\n",
      "    Función que genera una matriz que contiene los elementos r distintos de cero de la \n",
      "    matriz R y las entradas de los vectores householder v (excepto la primera), con los \n",
      "    cuales se puede calcular la matriz Q. Ambas matrices componentes de la factorización QR\n",
      "    \n",
      "    params: A      Matriz (mxn) de la que se desea obtner factorización QR\n",
      "            \n",
      "    return: Arv    Matriz (mxn) que incluye las componentes distintas de cero de la matriz R \n",
      "                   y los vectores householder con los que se puede obtener la matriz Q, y \n",
      "                   con ello la factorización QR\n",
      "    \"\"\"\n",
      "    \n",
      "    #Se checa que los parámetros sean congruentes con la funcionalidad\n",
      "    if type(A) is not np.ndarray:\n",
      "        sys.exit('A debe ser de tipo numpy.ndarray')\n",
      "    m,n=A.shape\n",
      "    if m<n:\n",
      "        sys.exit('EL numero de renglones de A debe ser mayor o igual al no. de columnas')\n",
      "    \n",
      "    #m contiene el numero de renglones y n el de columnas\n",
      "    m=A.shape[0]\n",
      "    n=A.shape[1]\n",
      "    #se crea una matriz con los valores de A\n",
      "    Arv=copy.copy(A)\n",
      "    for j in range(n):\n",
      "        beta, v=house(Arv[j:m,j])\n",
      "        #Con esta multiplicación se van generando las componentes r de la matriz R\n",
      "        #Arv[j:m,j:n]=Arv[j:m,j:n]-beta*(np.outer(v,v)@Arv[j:m,j:n]) #OBSERVACIÓN: Checar cual es más eficiente (este o el renglón de abajo)\n",
      "        Arv[j:m,j:n]=Arv[j:m,j:n]-beta*np.outer(v,(np.transpose(v)@Arv[j:m,j:n]))\n",
      "        #se guarda en cada columnas los valores de v d, excepto la primer componente (que vale 1)\n",
      "        Arv[(j+1):m,j]=v[1:(m-j)]\n",
      "    return Arv\n",
      "\n"
     ]
    }
   ],
   "source": [
    "lines=inspect.getsource(fQR.matriz_auxiliar_Arv)\n",
    "print(lines)"
   ]
  },
  {
   "cell_type": "code",
   "execution_count": 7,
   "metadata": {},
   "outputs": [
    {
     "name": "stdout",
     "output_type": "stream",
     "text": [
      "Help on function matriz_auxiliar_Arv in module funciones_factorizacion_QR:\n",
      "\n",
      "matriz_auxiliar_Arv(A)\n",
      "    \n",
      "    Descripción:\n",
      "            Función que genera una matriz que contiene los elementos r distintos de cero de \n",
      "            la matriz R y las entradas de los vectores householder v (excepto la primera), \n",
      "            con los cuales se puede calcular la matriz Q. Ambas matrices componentes de la \n",
      "            factorización QR\n",
      "    \n",
      "    Parametros:\n",
      "            A      numpy.ndarray que representa matriz (mxn) de la que se desea obtener \n",
      "                   elemento de factorización QR\n",
      "    \n",
      "    Resultado:\n",
      "            Arv    numpy.ndarray que representa matriz (mxn) que incluye las componentes \n",
      "                   distintas de cero de la matriz R y los vectores householder con los \n",
      "                   que se puede obtener la matriz Q, y con ello la factorización QR\n",
      "    \n",
      "    La factorización QR consiste en encontrar 2 matrices tales que A=Q*R \n",
      "    donde Q es una matriz ortogonal y R es una matriz triangular superior \n",
      "    Las entradas de la matriz Arv que arroja esta función se pueden visualizar como:\n",
      "         [ r00  r01  r02  r03 ]\n",
      "         [ v10  r11  r12  r13 ]\n",
      "    Arv= [ v20  v21  r22  r23 ]\n",
      "         [ v30  v31  v32  r33 ]\n",
      "         [ v40  v41  v42  v43 ]\n",
      "    \n",
      "    Las entradas r conforman la matriz R (triangular superior): \n",
      "         [ r00  r01  r02  r03 ] \n",
      "         [  0   r11  r12  r13 ] \n",
      "    R=   [  0    0   r22  r23 ] \n",
      "         [  0    0    0   r33 ] \n",
      "         [  0    0    0    0  ]\n",
      "    \n",
      "    La matriz Q puede obtenerse a partir de los vectores householder v, los cuales \n",
      "    sirven para construir la matriz de reflexión de householder R, con \n",
      "    R=Identidad(mxm) - Beta*v*v_trans  y  Beta=2/(v_trans*v) \n",
      "                           [  1                 ]\n",
      "                           [ v10   1            ]\n",
      "    vectores householder*= [ v20  v21   1       ]\n",
      "                           [ v30  v31  v32   1  ]\n",
      "                           [ v40  v41  v42  v43 ]\n",
      "    \n",
      "    *Notese que Avr no tiene la primera entrada de los vectores v, pero sabemos por \n",
      "    construcción que es igual a 1. Con el vector v_1=(1,v10,v20,v30,v40) se puede\n",
      "    calcular Q_1, con v_2=(1,v21,v31,v41) se puede calcular Q_2, con v_3=(1,v32,v42)\n",
      "    se puede calcular Q_3 y con v_4=(1,v43) se puede calcular Q_4.\n",
      "\n"
     ]
    }
   ],
   "source": [
    "help(fQR.matriz_auxiliar_Arv)"
   ]
  },
  {
   "cell_type": "code",
   "execution_count": 8,
   "metadata": {},
   "outputs": [
    {
     "name": "stdout",
     "output_type": "stream",
     "text": [
      "def matriz_Q_R(A):\n",
      "    \"\"\"\n",
      "    Función que devuelve la matriz R y Q de la factorización QR de una matriz A\n",
      "    \n",
      "    params: A    Matriz (mxn)\n",
      "\n",
      "    return: Q    Matriz Q (mxm) de la factorización A=QR\n",
      "            R    Matriz Q (mxm) de la factorización A=QR\n",
      "    \"\"\"\n",
      "    \n",
      "    #Se checa que los parámetros sean congruentes con la funcionalidad\n",
      "    if type(A) is not np.ndarray:\n",
      "        sys.exit('A debe ser de tipo numpy.ndarray')\n",
      "    elif A.shape[0]<A.shape[1]:\n",
      "        sys.exit('El numero de renglones de A tiene que ser igual o mayor al no. de columnas')\n",
      "    \n",
      "    Arv=matriz_auxiliar_Arv(A)\n",
      "    m,n=A.shape\n",
      "    Q=np.eye(m)\n",
      "    R=copy.copy(A)\n",
      "    for j in range(n):\n",
      "        Qj=Q_j(Arv,j+1)\n",
      "        Q=Q@Qj\n",
      "        R=Q_j(Arv,j+1)@R\n",
      "    return Q,R\n",
      "\n"
     ]
    }
   ],
   "source": [
    "lines=inspect.getsource(fQR.matriz_Q_R)\n",
    "print(lines)"
   ]
  },
  {
   "cell_type": "code",
   "execution_count": 9,
   "metadata": {},
   "outputs": [
    {
     "name": "stdout",
     "output_type": "stream",
     "text": [
      "Help on function matriz_Q_R in module funciones_factorizacion_QR:\n",
      "\n",
      "matriz_Q_R(A)\n",
      "    \n",
      "    Descripción:\n",
      "            Función que devuelve la matriz Q y R de la factorización QR de una matriz A\n",
      "    \n",
      "    Parametros:\n",
      "            A     np.ndarray que representa una matriz (mxn)\n",
      "    \n",
      "    Resultado:\n",
      "            R     np.ndarray que representa matriz R (mxm) de la factorización A=QR\n",
      "            Q     np.ndarray que representa matriz Q (mxm) de la factorización A=QR\n",
      "    \n",
      "    \n",
      "    Para obtener la factorización primero se calcula la matriz auxiliar Arv. La matriz Q \n",
      "    (matriz ortogonal tal que Q_transpuesta*Q es igual a la identidad (mxm)\n",
      "    se calcula como el producto de las matrices Q_j's, las cuales se obtienen a partir\n",
      "    de las diferentes matrices de reflexión householder utilizadas para generar los ceros\n",
      "    en las columnas de A para formar la matriz R\n",
      "    \n",
      "    Q = Q_1*Q_2*Q_3*Q_4\n",
      "    \n",
      "    Nota: Cada matriz Q_j se calcula con el vector v_j, correspondiente al j-ésimo \n",
      "    vector de householder como: Q_j = Identidad(mxm) - Beta*v_j*v_j_transpuesta\n",
      "    Dichos vectores v están contenidos dentro de la matriz auxiliar Arv\n",
      "    \n",
      "    La matriz R es calculada como Q@A. Recordemos que la matriz Arv tiene elementos\n",
      "    de R como se puede ver a continuación:\n",
      "    \n",
      "         [ r11  r12  r13  r14 ]            [ r11  r12  r13  r14 ]\n",
      "         [ v21  r22  r23  r24 ]            [  0   r22  r23  r24 ]\n",
      "    Arv= [ v31  v32  r33  r34 ]   -->   R= [  0    0   r33  r34 ]\n",
      "         [ v41  v42  v43  r44 ]            [  0    0    0   r44 ]\n",
      "         [ v51  v52  v53  v54 ]            [  0    0    0    0  ]\n",
      "\n"
     ]
    }
   ],
   "source": [
    "help(fQR.matriz_Q_R)"
   ]
  },
  {
   "cell_type": "code",
   "execution_count": 10,
   "metadata": {},
   "outputs": [
    {
     "name": "stdout",
     "output_type": "stream",
     "text": [
      "def Q_j(Arv,j):\n",
      "    \"\"\"\n",
      "    Función que calcula la matriz Qj (en el proceso de obtención de factorización QR se van \n",
      "    obteniendo n Qj's, que si se multiplican todas da por resultado Q=Q_1*Q_2*...*Q_n)\n",
      "                            \n",
      "    params: Arv   Matriz (mxn) con la info escencial\n",
      "            j     indica el índice de la matriz Q_j\n",
      "\n",
      "    return: Qj    Matriz Q de la j-esima iteración del proceso iterativo de factorización QR\n",
      "    \"\"\"\n",
      "\n",
      "    #Se checa que los parámetros sean congruentes con la funcionalidad\n",
      "    if type(Arv) is not np.ndarray:\n",
      "        sys.exit('Arv debe ser de tipo numpy.ndarray')\n",
      "    elif Arv.shape[0]<Arv.shape[1]:\n",
      "        sys.exit('El numero de renglones de Arv tiene que ser igual o mayor al no. de columnas')\n",
      "    if isinstance(j, int)==False:\n",
      "        sys.exit('El parámetro j deber ser un entero')\n",
      "    elif 1>j or j>Arv.shape[1]:\n",
      "        sys.exit('El parámetro j debe estar en el rango [1,no. columnas de Arv]')\n",
      "    \n",
      "    m,n=Arv.shape\n",
      "    Qj=np.eye(m)\n",
      "    #Para construir Q_j requerimos usar el vector v contenido en Arv contenido\n",
      "    #en la j-1 columna (considerando que en Python la primer columna es la cero)\n",
      "    v=np.concatenate((1,Arv[j:m,(j-1)]), axis=None)\n",
      "    beta=2/(1+Arv[j:m,(j-1)].dot(Arv[j:m,(j-1)]))\n",
      "    Qj[(j-1):m,(j-1):m]=np.eye(m-(j-1))-beta*np.outer(v,v)\n",
      "    return Qj\n",
      "\n"
     ]
    }
   ],
   "source": [
    "lines=inspect.getsource(fQR.Q_j)\n",
    "print(lines)"
   ]
  },
  {
   "cell_type": "code",
   "execution_count": 11,
   "metadata": {},
   "outputs": [
    {
     "name": "stdout",
     "output_type": "stream",
     "text": [
      "Help on function Q_j in module funciones_factorizacion_QR:\n",
      "\n",
      "Q_j(Arv, j)\n",
      "    \n",
      "    Descripción:\n",
      "            Función que calcula la matriz Qj (en el proceso de obtención de \n",
      "            factorización QR se van obteniendo n Qj's, que si se multiplican todas \n",
      "            da por resultado Q=Q_1*Q_2*...*Q_n)\n",
      "    \n",
      "    Parámetros:                            \n",
      "            A_r_v   np.ndarray que representa la matriz auxiliar (mxn) que incluye \n",
      "                elementos de la matriz R y Q, de la factorización QR\n",
      "            j       integer que indica el índice de la matriz Q_j\n",
      "    \n",
      "    Resultado:\n",
      "            Qj      np.ndarray que representa la j-esima transformación de householder\n",
      "    \n",
      "    La matriz Q_j se calcula con el vector v_j, correspondiente al j-ésimo vector \n",
      "    de householder como: Q_j = Identidad(mxm) - Beta*v_j*v_j_transpuesta\n",
      "\n"
     ]
    }
   ],
   "source": [
    "help(fQR.Q_j)"
   ]
  },
  {
   "cell_type": "markdown",
   "metadata": {},
   "source": [
    "## Factorización QR\n",
    "\n",
    "### Ejemplos"
   ]
  },
  {
   "cell_type": "code",
   "execution_count": 12,
   "metadata": {},
   "outputs": [
    {
     "data": {
      "text/plain": [
       "array([[1., 2., 1.],\n",
       "       [2., 3., 2.],\n",
       "       [1., 2., 3.]])"
      ]
     },
     "execution_count": 12,
     "metadata": {},
     "output_type": "execute_result"
    }
   ],
   "source": [
    "#Pra probar el funcionamiento de estas funciones puede definirse una matriz entrada por entrada\n",
    "#o usar la función crear_matriz_aleatoria\n",
    "\n",
    "#Ejemplo a mano (asegurandose de que sus entradas sean tipo dobles -aunque sólo se capture\n",
    "#una parte entera-, pues de lo contrario se tendrán errores por redondeo significativos)\n",
    "A=np.array([[1, 2, 1], [2, 3, 2], [1, 2, 3]], dtype='d')\n",
    "A"
   ]
  },
  {
   "cell_type": "code",
   "execution_count": 13,
   "metadata": {},
   "outputs": [
    {
     "name": "stdout",
     "output_type": "stream",
     "text": [
      "x=\n",
      " [1. 2. 3.]\n",
      "\n",
      "\n",
      "Beta=\n",
      " 0.7327\n",
      "\n",
      "\n",
      "v=\n",
      " [ 1.     -0.7295 -1.0942]\n",
      "\n",
      "\n",
      "R=\n",
      " [[ 0.2673  0.5345  0.8018]\n",
      " [ 0.5345  0.6101 -0.5849]\n",
      " [ 0.8018 -0.5849  0.1227]]\n",
      "\n",
      "\n",
      "Rx=\n",
      " [3.7417 0.     0.    ]\n"
     ]
    }
   ],
   "source": [
    "x=np.array([1,2,3.])\n",
    "print(\"x=\\n\",x)\n",
    "\n",
    "Beta,v=fQR.house(x)\n",
    "print(\"\\n\\nBeta=\\n\",np.round(Beta,4))\n",
    "print(\"\\n\\nv=\\n\",np.round(v,4))\n",
    "\n",
    "#Calculando matriz de reflexión de householder R\n",
    "R=np.eye(3)-Beta*np.outer(v,v)\n",
    "print(\"\\n\\nR=\\n\",np.round(R,4))\n",
    "\n",
    "#Observese como el producto de Rx da por resultado un vector con\n",
    "#todas sus entradas igualas a cero excepto la primera\n",
    "print(\"\\n\\nRx=\\n\",np.round(R@x,4))"
   ]
  },
  {
   "cell_type": "code",
   "execution_count": 14,
   "metadata": {},
   "outputs": [
    {
     "name": "stdout",
     "output_type": "stream",
     "text": [
      "\n",
      "\n",
      "A=\n",
      " [[-4.0569 -3.6384 -2.9198 -2.663 ]\n",
      " [-1.754   3.5447 -4.2457  4.928 ]\n",
      " [-5.116   2.0583  1.8531 -4.7973]\n",
      " [ 0.9473  1.8715 -3.0936  1.4429]\n",
      " [-4.5414 -4.273   4.4925  3.6795]\n",
      " [-4.0209  2.4589 -0.7115 -2.0647]]\n",
      "\n",
      "\n",
      "Arv=\n",
      " [[ 9.1323  1.0188 -1.1673  2.1529]\n",
      " [ 0.133   7.5371 -3.4706 -0.3993]\n",
      " [ 0.3879 -1.1458  6.8437 -1.0776]\n",
      " [-0.0718 -0.4557  0.7029  8.2654]\n",
      " [ 0.3443  0.7914 -1.1202 -0.7796]\n",
      " [ 0.3049 -1.1499  0.1623 -0.686 ]]\n",
      "\n",
      "\n",
      "Q=\n",
      " [[-0.4442 -0.4227 -0.7168 -0.3203 -0.0265 -0.0833]\n",
      " [-0.1921  0.4963 -0.4015  0.6179 -0.245  -0.3375]\n",
      " [-0.5602  0.3488  0.3521 -0.3717  0.2817 -0.4722]\n",
      " [ 0.1037  0.2343 -0.3155  0.1177  0.8729  0.2428]\n",
      " [-0.4973 -0.4997  0.3182  0.592   0.1978  0.1101]\n",
      " [-0.4403  0.3858  0.0166 -0.1143 -0.2426  0.7649]]\n",
      "\n",
      "\n",
      "R=\n",
      " [[ 9.1323  1.0188 -1.1673  2.1529]\n",
      " [-0.      7.5371 -3.4706 -0.3993]\n",
      " [-0.     -0.      6.8437 -1.0776]\n",
      " [-0.     -0.     -0.      8.2654]\n",
      " [-0.      0.      0.     -0.    ]\n",
      " [-0.      0.      0.      0.    ]]\n",
      "\n",
      "\n",
      "Q@R=\n",
      " [[-4.0569 -3.6384 -2.9198 -2.663 ]\n",
      " [-1.754   3.5447 -4.2457  4.928 ]\n",
      " [-5.116   2.0583  1.8531 -4.7973]\n",
      " [ 0.9473  1.8715 -3.0936  1.4429]\n",
      " [-4.5414 -4.273   4.4925  3.6795]\n",
      " [-4.0209  2.4589 -0.7115 -2.0647]]\n",
      "\n",
      "\n",
      "A=\n",
      " [[-4.0569 -3.6384 -2.9198 -2.663 ]\n",
      " [-1.754   3.5447 -4.2457  4.928 ]\n",
      " [-5.116   2.0583  1.8531 -4.7973]\n",
      " [ 0.9473  1.8715 -3.0936  1.4429]\n",
      " [-4.5414 -4.273   4.4925  3.6795]\n",
      " [-4.0209  2.4589 -0.7115 -2.0647]]\n"
     ]
    }
   ],
   "source": [
    "#Definase una matriz A\n",
    "A=fQR.crear_matriz_aleatoria(6,4,6,-6)\n",
    "print('\\n\\nA=\\n',np.round(A,4))\n",
    "\n",
    "#Calculamos la matriz auxiliar Arv para visualizarla\n",
    "Arv=fQR.matriz_auxiliar_Arv(A)\n",
    "print('\\n\\nArv=\\n',np.round(Arv,4))\n",
    "\n",
    "#Obtenemos la matriz Q y R a partir de Arv\n",
    "Q,R=fQR.matriz_Q_R(A)\n",
    "print('\\n\\nQ=\\n',np.round(Q,4))\n",
    "print('\\n\\nR=\\n',np.round(R,4))\n",
    "\n",
    "#Checamos que QR=A\n",
    "print('\\n\\nQ@R=\\n',np.round(Q@R,4))\n",
    "print('\\n\\nA=\\n',np.round(A,4))"
   ]
  },
  {
   "cell_type": "code",
   "execution_count": 15,
   "metadata": {},
   "outputs": [
    {
     "name": "stdout",
     "output_type": "stream",
     "text": [
      "Q_np=\n",
      " [[-0.4442  0.4227  0.7168 -0.3203]\n",
      " [-0.1921 -0.4963  0.4015  0.6179]\n",
      " [-0.5602 -0.3488 -0.3521 -0.3717]\n",
      " [ 0.1037 -0.2343  0.3155  0.1177]\n",
      " [-0.4973  0.4997 -0.3182  0.592 ]\n",
      " [-0.4403 -0.3858 -0.0166 -0.1143]]\n",
      "\n",
      "R_np=\n",
      " [[ 9.1323  1.0188 -1.1673  2.1529]\n",
      " [ 0.     -7.5371  3.4706  0.3993]\n",
      " [ 0.      0.     -6.8437  1.0776]\n",
      " [ 0.      0.      0.      8.2654]]\n",
      "\n",
      "Q_np@R_np=\n",
      " [[-4.0569 -3.6384 -2.9198 -2.663 ]\n",
      " [-1.754   3.5447 -4.2457  4.928 ]\n",
      " [-5.116   2.0583  1.8531 -4.7973]\n",
      " [ 0.9473  1.8715 -3.0936  1.4429]\n",
      " [-4.5414 -4.273   4.4925  3.6795]\n",
      " [-4.0209  2.4589 -0.7115 -2.0647]]\n"
     ]
    }
   ],
   "source": [
    "#Comparemos con el código de numpy\n",
    "Q_np, R_np=np.linalg.qr(A)\n",
    "#notamos que numpy obtiene con signos contrarios Q y R\n",
    "print('Q_np=\\n',np.round(Q_np,4))\n",
    "#Además R no guarda toda la matriz R de mxn, sino sólo la parte superior de nxn\n",
    "print('\\nR_np=\\n',np.round(R_np,4))\n",
    "#la multiplicación da por resultado A\n",
    "print('\\nQ_np@R_np=\\n',np.round(Q_np@R_np,4))"
   ]
  },
  {
   "cell_type": "code",
   "execution_count": 16,
   "metadata": {},
   "outputs": [
    {
     "data": {
      "text/plain": [
       "array([[-0.4442, -0.4227, -0.7168, -0.3203, -0.0265, -0.0833],\n",
       "       [-0.1921,  0.4963, -0.4015,  0.6179, -0.245 , -0.3375],\n",
       "       [-0.5602,  0.3488,  0.3521, -0.3717,  0.2817, -0.4722],\n",
       "       [ 0.1037,  0.2343, -0.3155,  0.1177,  0.8729,  0.2428],\n",
       "       [-0.4973, -0.4997,  0.3182,  0.592 ,  0.1978,  0.1101],\n",
       "       [-0.4403,  0.3858,  0.0166, -0.1143, -0.2426,  0.7649]])"
      ]
     },
     "execution_count": 16,
     "metadata": {},
     "output_type": "execute_result"
    }
   ],
   "source": [
    "#Observese que Q=(Q_4*Q_3*Q_2*Q_1)_transpuesta\n",
    "np.round(np.transpose(fQR.Q_j(Arv,4)@fQR.Q_j(Arv,3)@fQR.Q_j(Arv,2)@fQR.Q_j(Arv,1)),4)"
   ]
  },
  {
   "cell_type": "code",
   "execution_count": 17,
   "metadata": {},
   "outputs": [
    {
     "name": "stdout",
     "output_type": "stream",
     "text": [
      "[[ 1. -0. -0. -0.  0.  0.]\n",
      " [-0.  1.  0. -0.  0. -0.]\n",
      " [-0.  0.  1. -0.  0.  0.]\n",
      " [-0. -0. -0.  1. -0. -0.]\n",
      " [ 0.  0.  0. -0.  1. -0.]\n",
      " [ 0. -0.  0. -0. -0.  1.]]\n"
     ]
    }
   ],
   "source": [
    "#Puede comprobarse que Q_transpuesta*Q es igual a la identidad\n",
    "print(np.round(np.transpose(Q)@Q,4))"
   ]
  },
  {
   "cell_type": "code",
   "execution_count": 18,
   "metadata": {},
   "outputs": [
    {
     "name": "stdout",
     "output_type": "stream",
     "text": [
      "\n",
      "\n",
      "A=\n",
      " [[-2. -4. -4.  4. -1.]\n",
      " [ 2.  1.  5. -4.  5.]\n",
      " [ 1.  2.  1. -5.  5.]\n",
      " [-2. -5. -1. -3.  3.]\n",
      " [ 1. -4.  4.  4.  2.]]\n",
      "\n",
      "Q 1 :\n",
      " [[-0.5345  0.5345  0.2673 -0.5345  0.2673]\n",
      " [ 0.5345  0.8138 -0.0931  0.1862 -0.0931]\n",
      " [ 0.2673 -0.0931  0.9535  0.0931 -0.0465]\n",
      " [-0.5345  0.1862  0.0931  0.8138  0.0931]\n",
      " [ 0.2673 -0.0931 -0.0465  0.0931  0.9535]]\n",
      "\n",
      " Q1 @ A=\n",
      " [[ 3.7417  4.8107  6.6815 -2.9399  3.4744]\n",
      " [-0.     -2.069   1.2793 -1.5826  3.4414]\n",
      " [-0.      0.4655 -0.8604 -3.7913  4.2207]\n",
      " [ 0.     -1.931   2.7207 -5.4174  4.5586]\n",
      " [-0.     -5.5345  2.1396  5.2087  1.2207]]\n",
      "\n",
      "Q 2 :\n",
      " [[ 1.      0.      0.      0.      0.    ]\n",
      " [ 0.     -0.3319  0.0747 -0.3098 -0.8879]\n",
      " [ 0.      0.0747  0.9958  0.0174  0.0498]\n",
      " [ 0.     -0.3098  0.0174  0.928  -0.2065]\n",
      " [ 0.     -0.8879  0.0498 -0.2065  0.4082]]\n",
      "\n",
      " Q2 @ Q1 @ A=\n",
      " [[ 3.7417  4.8107  6.6815 -2.9399  3.4744]\n",
      " [ 0.      6.2335 -3.2314 -2.7043 -3.323 ]\n",
      " [-0.      0.     -0.6075 -3.7284  4.6   ]\n",
      " [ 0.     -0.      1.6717 -5.6782  2.9853]\n",
      " [ 0.     -0.     -0.8672  4.461  -3.2885]]\n",
      "\n",
      "Q 3 :\n",
      " [[ 1.      0.      0.      0.      0.    ]\n",
      " [ 0.      1.      0.      0.      0.    ]\n",
      " [ 0.      0.     -0.307   0.8448 -0.4382]\n",
      " [ 0.      0.      0.8448  0.4539  0.2833]\n",
      " [ 0.      0.     -0.4382  0.2833  0.8531]]\n",
      "\n",
      " Q3 @ Q2 @ Q1 @ A=\n",
      " [[ 3.7417  4.8107  6.6815 -2.9399  3.4744]\n",
      " [ 0.      6.2335 -3.2314 -2.7043 -3.323 ]\n",
      " [ 0.     -0.      1.9787 -5.6074  2.551 ]\n",
      " [-0.     -0.      0.     -4.4637  4.3097]\n",
      " [ 0.     -0.     -0.      3.831  -3.9755]]\n",
      "\n",
      "Q 4 :\n",
      " [[ 1.      0.      0.      0.      0.    ]\n",
      " [ 0.      1.      0.      0.      0.    ]\n",
      " [ 0.      0.      1.      0.      0.    ]\n",
      " [ 0.      0.      0.     -0.7588  0.6513]\n",
      " [ 0.      0.      0.      0.6513  0.7588]]\n",
      "\n",
      " Q4 @ Q3 @ Q2 @ Q1 @ A=\n",
      " [[ 3.7417  4.8107  6.6815 -2.9399  3.4744]\n",
      " [ 0.      6.2335 -3.2314 -2.7043 -3.323 ]\n",
      " [ 0.     -0.      1.9787 -5.6074  2.551 ]\n",
      " [ 0.     -0.     -0.      5.8823 -5.8595]\n",
      " [ 0.     -0.     -0.      0.     -0.21  ]]\n",
      "\n",
      "Q 5 :\n",
      " [[ 1.  0.  0.  0.  0.]\n",
      " [ 0.  1.  0.  0.  0.]\n",
      " [ 0.  0.  1.  0.  0.]\n",
      " [ 0.  0.  0.  1.  0.]\n",
      " [ 0.  0.  0.  0. -1.]]\n",
      "\n",
      " Q5 @ Q4 @ Q3 @ Q2 @ Q1 @ A=\n",
      " [[ 3.7417  4.8107  6.6815 -2.9399  3.4744]\n",
      " [ 0.      6.2335 -3.2314 -2.7043 -3.323 ]\n",
      " [ 0.     -0.      1.9787 -5.6074  2.551 ]\n",
      " [ 0.     -0.     -0.      5.8823 -5.8595]\n",
      " [-0.      0.      0.     -0.      0.21  ]]\n",
      "\n",
      "\n",
      "\n",
      "Resultados finales:\n",
      "\n",
      "R es el resultado de multiplicar todas las Qjs a A\n",
      " [[ 3.7417  4.8107  6.6815 -2.9399  3.4744]\n",
      " [ 0.      6.2335 -3.2314 -2.7043 -3.323 ]\n",
      " [ 0.     -0.      1.9787 -5.6074  2.551 ]\n",
      " [ 0.     -0.     -0.      5.8823 -5.8595]\n",
      " [-0.      0.      0.     -0.      0.21  ]]\n",
      "\n",
      "Q es el resultado de multiplicar todas las Qjs y transponer:\n",
      " [[-0.5345 -0.2292 -0.5908 -0.2557  0.4973]\n",
      " [ 0.5345 -0.2521  0.3103 -0.233   0.7072]\n",
      " [ 0.2673  0.1146 -0.21   -0.8639 -0.3536]\n",
      " [-0.5345 -0.3896  0.6633 -0.324  -0.1326]\n",
      " [ 0.2673 -0.8479 -0.2657  0.1705 -0.3315]]\n",
      "\n",
      "Q@R:\n",
      " [[-2. -4. -4.  4. -1.]\n",
      " [ 2.  1.  5. -4.  5.]\n",
      " [ 1.  2.  1. -5.  5.]\n",
      " [-2. -5. -1. -3.  3.]\n",
      " [ 1. -4.  4.  4.  2.]]\n",
      "\n",
      "A:\n",
      " [[-2. -4. -4.  4. -1.]\n",
      " [ 2.  1.  5. -4.  5.]\n",
      " [ 1.  2.  1. -5.  5.]\n",
      " [-2. -5. -1. -3.  3.]\n",
      " [ 1. -4.  4.  4.  2.]]\n"
     ]
    }
   ],
   "source": [
    "#Ejemplo ilustrativo de cómo obtener Q y R, visualizando cada iteración\n",
    "A=fQR.crear_matriz_aleatoria(5,5,5,-5,True)\n",
    "print('\\n\\nA=\\n',np.round(A,4))\n",
    "\n",
    "m=A.shape[0]\n",
    "n=A.shape[1]\n",
    "Q=np.eye(m)\n",
    "R=copy.copy(A)\n",
    "Arv=fQR.matriz_auxiliar_Arv(A)\n",
    "for j in range(n):\n",
    "    if j==0:\n",
    "        cadena='Q'+str(j+1)\n",
    "    else:\n",
    "        cadena='Q'+str(j+1) + ' @ ' + cadena\n",
    "    Qj=fQR.Q_j(Arv,j+1)\n",
    "    print('\\nQ',j+1,':\\n',np.round(Qj,4))\n",
    "    Q=Q@Qj\n",
    "    R=fQR.Q_j(Arv,j+1)@R\n",
    "    print('\\n',cadena,'@ A=\\n',np.round(R,4))\n",
    "\n",
    "print('\\n\\n\\nResultados finales:')\n",
    "print('\\nR es el resultado de multiplicar todas las Qjs a A\\n',np.round(R,4))\n",
    "print('\\nQ es el resultado de multiplicar todas las Qjs y transponer:\\n',np.round(Q,4))\n",
    "print('\\nQ@R:\\n',np.round(Q@R,4))\n",
    "print('\\nA:\\n',np.round(A,4))"
   ]
  },
  {
   "cell_type": "code",
   "execution_count": 19,
   "metadata": {},
   "outputs": [
    {
     "data": {
      "text/plain": [
       "array([[ 6.39245028e+01,  2.82438413e+00, -2.70735278e+00, ...,\n",
       "         4.35546276e+00, -7.65059694e+00,  7.14299663e+00],\n",
       "       [-1.39267488e-01,  6.40847817e+01, -2.72243815e+00, ...,\n",
       "        -2.71358615e+00,  4.68095550e+00,  9.28885845e+00],\n",
       "       [ 9.38451166e-03, -1.21785917e-02,  6.41358414e+01, ...,\n",
       "         4.11821613e+00,  8.43966758e-01,  3.01693834e+00],\n",
       "       ...,\n",
       "       [ 8.57949383e-02,  1.04559400e-01, -1.12798431e-01, ...,\n",
       "         1.07045792e-01,  4.89674648e-02, -1.69449972e-01],\n",
       "       [-7.45331911e-02,  1.26698115e-01, -7.96881896e-02, ...,\n",
       "         8.75364198e-03, -5.97565735e-02, -3.94687602e-01],\n",
       "       [-1.09114859e-01,  8.85415624e-02,  1.28277690e-01, ...,\n",
       "         1.10165663e-01, -1.53976073e-01, -4.08919242e-01]])"
      ]
     },
     "execution_count": 19,
     "metadata": {},
     "output_type": "execute_result"
    }
   ],
   "source": [
    "#Se prueba un ejemplo más grande la función matriz_auxiliar_Arv\n",
    "#que es base para la obtención de Q y R\n",
    "A=fQR.crear_matriz_aleatoria(11**2,10**2,10,-10,False)\n",
    "Arv=fQR.matriz_auxiliar_Arv(A)\n",
    "Arv"
   ]
  },
  {
   "cell_type": "markdown",
   "metadata": {},
   "source": [
    "## Solución de Sistemas de Ecuaciones Lineales\n",
    "\n",
    "### Funciones"
   ]
  },
  {
   "cell_type": "code",
   "execution_count": 20,
   "metadata": {},
   "outputs": [
    {
     "name": "stdout",
     "output_type": "stream",
     "text": [
      "def Solucion_SEL_QR_nxn(A,b):\n",
      "    \"\"\"\n",
      "    Función que obtiene la solución de un sistema de ecuaciones lineales (SEL) con n ecuaciones y n incognitas\n",
      "            \n",
      "    params: A   Matriz (nxn) que representa los coeficientas de las ecuaciones\n",
      "            b   vector (nx1) constantes del sistema\n",
      "\n",
      "    return: x   vector que satisface (Ax=b)\n",
      "    \"\"\"\n",
      "\n",
      "    #Se checa que los parámetros sean congruentes con la funcionalidad\n",
      "    if type(A) is not np.ndarray or type(b) is not np.ndarray: #esto implica que A y b tienen más de 1 elemento\n",
      "        sys.exit('A y b deben ser de tipo numpy.ndarray')\n",
      "    m,n = A.shape\n",
      "    if m<n:\n",
      "        sys.exit('EL numero de renglones de A debe ser mayor o igual al no. de columnas')\n",
      "    elif b.shape[0]!= m:\n",
      "    #elif b.shape[0]!= m or b.shape[1]!= 1:\n",
      "        sys.exit('b debe representar un vector columna (mx1), m=no. renglones de A')\n",
      "    else:\n",
      "        try:\n",
      "            flag=b.shape[1]\n",
      "        except Exception:\n",
      "            flag=1\n",
      "        if flag!=1:\n",
      "            sys.exit(\"b debe representar un vector de m renglones y 1 columna\")\n",
      "\n",
      "    Q,R=matriz_Q_R(A)\n",
      "    b_prima=np.transpose(Q)@b\n",
      "    x=solve_triangular(R, b_prima,lower=False)\n",
      "    return x\n",
      "\n"
     ]
    }
   ],
   "source": [
    "lines=inspect.getsource(fQR.Solucion_SEL_QR_nxn)\n",
    "print(lines)"
   ]
  },
  {
   "cell_type": "code",
   "execution_count": 21,
   "metadata": {},
   "outputs": [
    {
     "name": "stdout",
     "output_type": "stream",
     "text": [
      "Help on function Solucion_SEL_QR_nxn in module funciones_factorizacion_QR:\n",
      "\n",
      "Solucion_SEL_QR_nxn(A, b)\n",
      "    \n",
      "    Descripción:\n",
      "            Función que obtiene la solución de un sistema de ecuaciones lineales (SEL) con \n",
      "        n ecuaciones y n incognitas\n",
      "    \n",
      "    Parámetros:                            \n",
      "            A      Matriz (nxn) que representa los coeficientas de las ecuaciones \n",
      "               elementos de la matriz R y Q, de la factorización QR\n",
      "            b      vector (nx1) constantes del sistema\n",
      "    \n",
      "    Resultado:\n",
      "            x      vector que satisface (Ax=b)\n",
      "    \n",
      "    El Sistema de Ecuaciones Lineales establecido como Ax=b, es resuelto con esta función\n",
      "    mediante la factorización QR como a continuación se explica:\n",
      "    \n",
      "      Si A*x = b y A = Q*R, con A matriz (mxn), b (mx1) y Q una matriz ortogonal (mxm) y \n",
      "                                R (mxn) una matriz triangular superior\n",
      "      entonces Q*R*x = b.\n",
      "      \n",
      "      Aprovechando la propiedad de Q^(-1)=Q, es decir, Q^(-1)*Q=Identidad,\n",
      "      si multiplicamos ambos lados de la última ecuación por Q^(-1) por la izquierda se tiene\n",
      "      \n",
      "      Q^(-1)*Q*R*x = Q^(-1)*b\n",
      "      \n",
      "      que equivale a:\n",
      "      \n",
      "      R*x = Q*b\n",
      "      \n",
      "      Es decir, el resolver el sistema Ax=b es equivalente a resolver R*x=Q*b, donde\n",
      "      R es una matriz triangular superior, por lo que se puede resolver este sistema con un \n",
      "      método de sustituición hacia atrás que implica una simple y paulatina sustitución\n",
      "      de valores. Nótese que por las propiedades de Q, no fue nunca necesario calcular\n",
      "      su inversa, lo cual hubiera implicado cálculos adicionales\n",
      "\n"
     ]
    }
   ],
   "source": [
    "help(fQR.Solucion_SEL_QR_nxn)"
   ]
  },
  {
   "cell_type": "markdown",
   "metadata": {},
   "source": [
    "## Eliminación por bloques\n",
    "\n",
    "### Funciones"
   ]
  },
  {
   "cell_type": "code",
   "execution_count": 22,
   "metadata": {},
   "outputs": [
    {
     "name": "stdout",
     "output_type": "stream",
     "text": [
      "def crear_bloques(A, b, m1=False, n1=False):\n",
      "    \"\"\"\n",
      "    Esta es la función para la creación de bloques usando un arreglo de numpy\n",
      "    \n",
      "    params: A   Matriz (mxn) que representa los coeficientas de las ecuaciones\n",
      "            b   vector (mx1) constantes del sistema\n",
      "            n1  Numero de renglones que tendrá el 1er bloque\n",
      "            m1  Numero de columnas que tendrá el 1er bloque\n",
      "    \n",
      "    return: A11 Fraccion de la matriz dividida\n",
      "            A12 Fraccion de la matriz dividida\n",
      "            A12 Fraccion de la matriz dividida\n",
      "            A12 Fraccion de la matriz dividida\n",
      "            b1  Fraccion del vector dividido\n",
      "            b2  Fraccion del vector dividido\n",
      "    \"\"\"\n",
      "\n",
      "    #Se checa que los parámetros sean congruentes con la funcionalidad\n",
      "    if type(A) is not np.ndarray or type(b) is not np.ndarray: #esto implica que A y b tienen más de 1 elemento\n",
      "        sys.exit('A y b deben ser de tipo numpy.ndarray')\n",
      "    m,n = A.shape\n",
      "    if m<n:\n",
      "        sys.exit('EL numero de renglones de A debe ser mayor o igual al no. de columnas')\n",
      "    elif b.shape[0]!= m:\n",
      "    #elif b.shape[0]!= m or b.shape[1]!= 1:\n",
      "        sys.exit('b debe representar un vector columna (mx1), m=no. renglones de A')\n",
      "    else:\n",
      "        try:\n",
      "            flag=b.shape[1]\n",
      "        except Exception:\n",
      "            flag=1\n",
      "        if flag!=1:\n",
      "            sys.exit(\"b debe representar un vector de m renglones y 1 columna\")    \n",
      "    \n",
      "    if m1==False:\n",
      "        m1=m//2\n",
      "    if n1==False:\n",
      "        n1=n//2\n",
      "    \n",
      "    b1 = b[:m1]\n",
      "    b2 = b[m1:m]\n",
      "    A11 = A[:m1,:n1]\n",
      "    A21 = A[m1:m,:n1]\n",
      "    A12 = A[:m1,n1:n]\n",
      "    A22 = A[m1:m,n1:n]\n",
      "\n",
      "    return A11,A21,A12,A22,b1,b2\n",
      "\n"
     ]
    }
   ],
   "source": [
    "lines=inspect.getsource(fQR.crear_bloques)\n",
    "print(lines)"
   ]
  },
  {
   "cell_type": "code",
   "execution_count": 23,
   "metadata": {},
   "outputs": [
    {
     "name": "stdout",
     "output_type": "stream",
     "text": [
      "Help on function crear_bloques in module funciones_factorizacion_QR:\n",
      "\n",
      "crear_bloques(A, b, m1=False, n1=False)\n",
      "    \n",
      "    Descripción:\n",
      "      Función que divide la matriz A(mxn) y el vector b(mx1) en cuatro submatrices y dos vectores respectivamente\n",
      "    \n",
      "    Parámetros:                            \n",
      "      A     Matriz (mxn) \n",
      "      b     vector (mx1)\n",
      "      m1    Número de renglones del los bloques superiores\n",
      "      n1    Número de columnas de los bloques de la izquierda\n",
      "    \n",
      "      En el caso en que no se de m1 o n1, éstos parámetros serán igual a la parte entera del número de renglones o el número de columnas entre dos.\n",
      "    \n",
      "      b es un parámetro opcional, si no es introducido solo regresa las submatrices de A\n",
      "    \n",
      "    \n",
      "    Resultado:\n",
      "      A11   numpy.ndarray que representa la matriz de dimensión m1xn1\n",
      "      A12   numpy.ndarray que representa la matriz de dimensión m2xn1\n",
      "      A12   numpy.ndarray que representa la matriz de dimensión m1xn2\n",
      "      A22   numpy.ndarray que representa la matriz de dimensión m2xn2\n",
      "      b1    numpy.ndarray que representa el vector de longitud m1\n",
      "      b2    numpy.ndarray que representa el vector de longitud m2\n",
      "    \n",
      "    Ejemplo:\n",
      "         [ A11  A12 ]\n",
      "    A =  [ A21  A22 ]\n",
      "    \n",
      "    b =  [  b1 ]\n",
      "         [  b2 ]\n",
      "\n"
     ]
    }
   ],
   "source": [
    "help(fQR.crear_bloques)"
   ]
  },
  {
   "cell_type": "code",
   "execution_count": 24,
   "metadata": {},
   "outputs": [
    {
     "name": "stdout",
     "output_type": "stream",
     "text": [
      "def eliminacion_bloques(A,b, m1=False, n1=False):\n",
      "    \"\"\"\n",
      "    Función que obtiene la solución de un sistema de ecuaciones lineala (SEL) con n ecuaciones y n incognitas\n",
      "            \n",
      "    params: A   Matriz (mxn) que representa los coeficientas de las ecuaciones\n",
      "            b   vector (mx1) constantes del sistema\n",
      "    \n",
      "    return: x1 Solucion al 1er sistema de ecuaciones obtenido con la división por bloques\n",
      "            x2 Solucion al 2do sistema de ecuaciones obtenido con la división por bloques\n",
      "    \"\"\"\n",
      "    \n",
      "    #Se checa que los parámetros sean congruentes con la funcionalidad\n",
      "    if type(A) is not np.ndarray or type(b) is not np.ndarray: #esto implica que A y b tienen más de 1 elemento\n",
      "        sys.exit('A y b deben ser de tipo numpy.ndarray')\n",
      "    m,n = A.shape\n",
      "    if m<n:\n",
      "        sys.exit('EL numero de renglones de A debe ser mayor o igual al no. de columnas')\n",
      "        \n",
      "    elif b.shape[0]!= m:\n",
      "        sys.exit('b debe representar un vector columna (mx1), m=no. renglones de A')\n",
      "    else:\n",
      "        try:\n",
      "            flag=b.shape[1]\n",
      "        except Exception:\n",
      "            flag=1\n",
      "        if flag!=1:\n",
      "            sys.exit(\"b debe representar un vector de m renglones y 1 columna\")\n",
      "    \n",
      "    if m1==False:\n",
      "        m1=m//2\n",
      "    if n1==False:\n",
      "        n1=n//2\n",
      "\n",
      "    if np.linalg.det(A)==0:\n",
      "        sys.exit('A debe ser no singular')\n",
      "\n",
      "    A11,A21,A12,A22,b1,b2=crear_bloques(A,b,m1,n1)\n",
      "\n",
      "    # 1. Calcular Y=A11^{-1}A12 y y=A11^{-1}b1 teniendo cuidado en no calcular la inversa sino un sistema de ecuaciones lineales\n",
      "    if np.linalg.det(A11)==0:\n",
      "        sys.exit('A11 debe ser no singular')\n",
      "    y=Solucion_SEL_QR_nxn(A11,b1)\n",
      "    #y=np.linalg.solve(A11,b1)\n",
      "    \n",
      "    Y=np.zeros((n1,n-n1))\n",
      "    for j in range(n-n1):\n",
      "        Y[:,j]=Solucion_SEL_QR_nxn(A11,A12[:,j])\n",
      "        #Y[:,j]=np.linalg.solve(A11,A12[:,j])\n",
      "    \n",
      "    # 2. Calcular el complemento de Schur del bloque A11 en A. Calcular b_hat\n",
      "    S=A22-A21@Y\n",
      "    b_h=b2-A21@y\n",
      "\n",
      "    # 3. Resolver Sx2 = b_hat\n",
      "    x2=Solucion_SEL_QR_nxn(S,b_h)\n",
      "    #x2=np.linalg.solve(S,b_h)\n",
      "\n",
      "    # 4. Resolver A11x1 = b1-A12x2\n",
      "    x1=Solucion_SEL_QR_nxn(A11,b1-A12@x2)\n",
      "    #x1=np.linalg.solve(A11,b1-A12@x2)\n",
      "\n",
      "    return np.concatenate((x1,x2), axis=0)\n",
      "\n"
     ]
    }
   ],
   "source": [
    "lines=inspect.getsource(fQR.eliminacion_bloques)\n",
    "print(lines)"
   ]
  },
  {
   "cell_type": "code",
   "execution_count": 25,
   "metadata": {},
   "outputs": [
    {
     "name": "stdout",
     "output_type": "stream",
     "text": [
      "Help on function eliminacion_bloques in module funciones_factorizacion_QR:\n",
      "\n",
      "eliminacion_bloques(A, b, m1=False, n1=False)\n",
      "    \n",
      "    Descripción:\n",
      "      Función que usa la eliminación por bloques para resolver un sistema de ecuaciones Ax=b.\n",
      "    \n",
      "    Parámetros:                            \n",
      "      A     numpy.ndarray que representa la matriz (mxn) que representan loc coeficientes del sistema de      ecuaciones\n",
      "      b     numpy.ndarray que representa el vector (mx1) que representan el lado derecho del sistema de       ecuaciones\n",
      "      m1    Número de renglones del los bloques superiores del subconjunto a resolver\n",
      "      n1    Número de columnas de los bloques del subconjunto a resolver\n",
      "    \n",
      "      En el caso en que no se de m1 o n1, éstos parámetros serán igual a la parte entera del número de renglones o el número de columnas entre dos.\n",
      "    \n",
      "    \n",
      "    Resultado:\n",
      "      x   numpy.ndarray que representa la solución al sistema de ecuaciones Ax=b\n",
      "    \n",
      "    Este método consiste en eliminar un subconjunto de variables y resolver un sistema más pequeño. Si el sistema más pequeño asociado a la submatriz puede resolverse entonces este método puede tener más eficiencia que uno que no trabaja por bloques.\n",
      "\n"
     ]
    }
   ],
   "source": [
    "help(fQR.eliminacion_bloques)"
   ]
  },
  {
   "cell_type": "markdown",
   "metadata": {},
   "source": [
    "## Solución de Sistemas de Ecuaciones Lineales\n",
    "\n",
    "### Ejemplos"
   ]
  },
  {
   "cell_type": "markdown",
   "metadata": {},
   "source": [
    "### A) Sistema con soluciones únicas"
   ]
  },
  {
   "cell_type": "code",
   "execution_count": 26,
   "metadata": {},
   "outputs": [
    {
     "name": "stdout",
     "output_type": "stream",
     "text": [
      "A: [[-1.88  0.36 -2.22  2.76  2.41  3.89  1.82 -1.82 -3.59 -2.39 -2.26 -1.55]\n",
      " [-3.51  1.56  1.37  3.24 -2.43  3.16 -4.85  1.91 -3.39 -2.24 -2.54  4.34]\n",
      " [-0.3   3.07 -5.07 -3.98  0.71  3.62  0.19  0.69 -1.63  0.47  2.39 -0.67]\n",
      " [ 1.14  2.07 -0.5  -3.24  3.26 -4.15 -5.91 -3.93  5.43  3.64 -5.93 -3.04]\n",
      " [-0.53  2.48  3.9   3.38  5.25  5.69 -3.82 -1.77 -2.04 -3.86 -3.87 -1.77]\n",
      " [ 4.65  4.74 -3.56  4.16  2.04  1.21 -3.9   1.6   5.88  2.01  1.75 -1.12]\n",
      " [-3.8   1.54 -1.17  1.54  5.31 -2.38  1.98  5.43 -2.43  3.46 -5.4  -1.88]\n",
      " [-3.19 -2.18 -4.33  1.99  0.81  1.58 -2.43  0.29  0.75 -0.04  3.11  3.22]\n",
      " [ 3.94 -3.28  4.72 -1.2   0.26 -0.16  3.66 -2.94  4.23 -3.48  2.9  -5.78]\n",
      " [-0.11  5.57  2.82 -3.08  1.18  4.16  3.62  4.37  0.91  1.33  1.58 -5.09]\n",
      " [ 2.04  0.59  4.43 -1.74  1.36 -0.75  1.12  5.98  5.99  4.19  0.4  -5.24]\n",
      " [ 0.4   2.25  2.41 -0.05  3.9   4.62 -3.88  0.83 -4.86  2.68  3.19 -3.35]]\n",
      "b: [[-3.47]\n",
      " [ 4.93]\n",
      " [-3.53]\n",
      " [ 1.75]\n",
      " [-1.21]\n",
      " [-2.33]\n",
      " [-0.31]\n",
      " [-3.97]\n",
      " [-5.2 ]\n",
      " [ 5.01]\n",
      " [ 3.6 ]\n",
      " [ 1.49]]\n"
     ]
    }
   ],
   "source": [
    "#Generamos un sistema de ecuaciones lineales\n",
    "m=12\n",
    "n=12\n",
    "A=np.round(fQR.crear_matriz_aleatoria(m,n,6,-6,False),2)\n",
    "b = np.round(fQR.crear_matriz_aleatoria(m,1,6,-6,False),2)\n",
    "print(\"A:\",A)\n",
    "print(\"b:\",b)"
   ]
  },
  {
   "cell_type": "markdown",
   "metadata": {},
   "source": [
    "Primero resolvamos el sistema de ecuaciones usando la paquetería de numpy para comparar."
   ]
  },
  {
   "cell_type": "code",
   "execution_count": 27,
   "metadata": {},
   "outputs": [
    {
     "data": {
      "text/plain": [
       "array([[-0.54950782],\n",
       "       [ 0.70981782],\n",
       "       [ 1.00459932],\n",
       "       [ 0.19777804],\n",
       "       [-0.84407887],\n",
       "       [ 0.38607155],\n",
       "       [ 0.27650284],\n",
       "       [-0.50449669],\n",
       "       [ 0.15322839],\n",
       "       [ 1.38554301],\n",
       "       [-0.25355661],\n",
       "       [ 0.43533786]])"
      ]
     },
     "execution_count": 27,
     "metadata": {},
     "output_type": "execute_result"
    }
   ],
   "source": [
    "np.linalg.solve(A,b)"
   ]
  },
  {
   "cell_type": "markdown",
   "metadata": {},
   "source": [
    "Ahora usemos la factorización QR"
   ]
  },
  {
   "cell_type": "code",
   "execution_count": 28,
   "metadata": {},
   "outputs": [
    {
     "data": {
      "text/plain": [
       "array([[-0.54950782],\n",
       "       [ 0.70981782],\n",
       "       [ 1.00459932],\n",
       "       [ 0.19777804],\n",
       "       [-0.84407887],\n",
       "       [ 0.38607155],\n",
       "       [ 0.27650284],\n",
       "       [-0.50449669],\n",
       "       [ 0.15322839],\n",
       "       [ 1.38554301],\n",
       "       [-0.25355661],\n",
       "       [ 0.43533786]])"
      ]
     },
     "execution_count": 28,
     "metadata": {},
     "output_type": "execute_result"
    }
   ],
   "source": [
    "x=fQR.Solucion_SEL_QR_nxn(A,b)\n",
    "x"
   ]
  },
  {
   "cell_type": "markdown",
   "metadata": {},
   "source": [
    "Por último usemos eliminación por bloques con QR"
   ]
  },
  {
   "cell_type": "code",
   "execution_count": 29,
   "metadata": {},
   "outputs": [
    {
     "data": {
      "text/plain": [
       "array([[-0.54950782],\n",
       "       [ 0.70981782],\n",
       "       [ 1.00459932],\n",
       "       [ 0.19777804],\n",
       "       [-0.84407887],\n",
       "       [ 0.38607155],\n",
       "       [ 0.27650284],\n",
       "       [-0.50449669],\n",
       "       [ 0.15322839],\n",
       "       [ 1.38554301],\n",
       "       [-0.25355661],\n",
       "       [ 0.43533786]])"
      ]
     },
     "execution_count": 29,
     "metadata": {},
     "output_type": "execute_result"
    }
   ],
   "source": [
    "fQR.eliminacion_bloques(A,b)"
   ]
  },
  {
   "cell_type": "code",
   "execution_count": null,
   "metadata": {},
   "outputs": [],
   "source": []
  },
  {
   "cell_type": "code",
   "execution_count": null,
   "metadata": {},
   "outputs": [],
   "source": []
  },
  {
   "cell_type": "markdown",
   "metadata": {},
   "source": [
    "### B) Sistema sin solución"
   ]
  },
  {
   "cell_type": "code",
   "execution_count": 34,
   "metadata": {},
   "outputs": [
    {
     "name": "stdout",
     "output_type": "stream",
     "text": [
      "A: [[1. 0. 0.]\n",
      " [0. 1. 0.]\n",
      " [0. 0. 0.]]\n",
      "b: [[3.]\n",
      " [3.]\n",
      " [5.]]\n"
     ]
    }
   ],
   "source": [
    "#Generamos un sistema de ecuaciones lineales\n",
    "A = np.array([[1, 0, 0], [0, 1, 0], [0, 0, 0]], dtype='d')\n",
    "b = np.array([[3], [3], [5]], dtype='d')\n",
    "print(\"A:\",A)\n",
    "print(\"b:\",b)"
   ]
  },
  {
   "cell_type": "markdown",
   "metadata": {},
   "source": [
    "Primero resolvamos el sistema de ecuaciones usando la paquetería de numpy para comparar."
   ]
  },
  {
   "cell_type": "code",
   "execution_count": 35,
   "metadata": {},
   "outputs": [
    {
     "ename": "LinAlgError",
     "evalue": "Singular matrix",
     "output_type": "error",
     "traceback": [
      "\u001b[0;31m---------------------------------------------------------------------------\u001b[0m",
      "\u001b[0;31mLinAlgError\u001b[0m                               Traceback (most recent call last)",
      "\u001b[0;32m<ipython-input-35-36718354ad3a>\u001b[0m in \u001b[0;36m<module>\u001b[0;34m\u001b[0m\n\u001b[0;32m----> 1\u001b[0;31m \u001b[0mnp\u001b[0m\u001b[0;34m.\u001b[0m\u001b[0mlinalg\u001b[0m\u001b[0;34m.\u001b[0m\u001b[0msolve\u001b[0m\u001b[0;34m(\u001b[0m\u001b[0mA\u001b[0m\u001b[0;34m,\u001b[0m\u001b[0mb\u001b[0m\u001b[0;34m)\u001b[0m\u001b[0;34m\u001b[0m\u001b[0;34m\u001b[0m\u001b[0m\n\u001b[0m",
      "\u001b[0;32m<__array_function__ internals>\u001b[0m in \u001b[0;36msolve\u001b[0;34m(*args, **kwargs)\u001b[0m\n",
      "\u001b[0;32m~/anaconda3/lib/python3.7/site-packages/numpy/linalg/linalg.py\u001b[0m in \u001b[0;36msolve\u001b[0;34m(a, b)\u001b[0m\n\u001b[1;32m    401\u001b[0m     \u001b[0msignature\u001b[0m \u001b[0;34m=\u001b[0m \u001b[0;34m'DD->D'\u001b[0m \u001b[0;32mif\u001b[0m \u001b[0misComplexType\u001b[0m\u001b[0;34m(\u001b[0m\u001b[0mt\u001b[0m\u001b[0;34m)\u001b[0m \u001b[0;32melse\u001b[0m \u001b[0;34m'dd->d'\u001b[0m\u001b[0;34m\u001b[0m\u001b[0;34m\u001b[0m\u001b[0m\n\u001b[1;32m    402\u001b[0m     \u001b[0mextobj\u001b[0m \u001b[0;34m=\u001b[0m \u001b[0mget_linalg_error_extobj\u001b[0m\u001b[0;34m(\u001b[0m\u001b[0m_raise_linalgerror_singular\u001b[0m\u001b[0;34m)\u001b[0m\u001b[0;34m\u001b[0m\u001b[0;34m\u001b[0m\u001b[0m\n\u001b[0;32m--> 403\u001b[0;31m     \u001b[0mr\u001b[0m \u001b[0;34m=\u001b[0m \u001b[0mgufunc\u001b[0m\u001b[0;34m(\u001b[0m\u001b[0ma\u001b[0m\u001b[0;34m,\u001b[0m \u001b[0mb\u001b[0m\u001b[0;34m,\u001b[0m \u001b[0msignature\u001b[0m\u001b[0;34m=\u001b[0m\u001b[0msignature\u001b[0m\u001b[0;34m,\u001b[0m \u001b[0mextobj\u001b[0m\u001b[0;34m=\u001b[0m\u001b[0mextobj\u001b[0m\u001b[0;34m)\u001b[0m\u001b[0;34m\u001b[0m\u001b[0;34m\u001b[0m\u001b[0m\n\u001b[0m\u001b[1;32m    404\u001b[0m \u001b[0;34m\u001b[0m\u001b[0m\n\u001b[1;32m    405\u001b[0m     \u001b[0;32mreturn\u001b[0m \u001b[0mwrap\u001b[0m\u001b[0;34m(\u001b[0m\u001b[0mr\u001b[0m\u001b[0;34m.\u001b[0m\u001b[0mastype\u001b[0m\u001b[0;34m(\u001b[0m\u001b[0mresult_t\u001b[0m\u001b[0;34m,\u001b[0m \u001b[0mcopy\u001b[0m\u001b[0;34m=\u001b[0m\u001b[0;32mFalse\u001b[0m\u001b[0;34m)\u001b[0m\u001b[0;34m)\u001b[0m\u001b[0;34m\u001b[0m\u001b[0;34m\u001b[0m\u001b[0m\n",
      "\u001b[0;32m~/anaconda3/lib/python3.7/site-packages/numpy/linalg/linalg.py\u001b[0m in \u001b[0;36m_raise_linalgerror_singular\u001b[0;34m(err, flag)\u001b[0m\n\u001b[1;32m     95\u001b[0m \u001b[0;34m\u001b[0m\u001b[0m\n\u001b[1;32m     96\u001b[0m \u001b[0;32mdef\u001b[0m \u001b[0m_raise_linalgerror_singular\u001b[0m\u001b[0;34m(\u001b[0m\u001b[0merr\u001b[0m\u001b[0;34m,\u001b[0m \u001b[0mflag\u001b[0m\u001b[0;34m)\u001b[0m\u001b[0;34m:\u001b[0m\u001b[0;34m\u001b[0m\u001b[0;34m\u001b[0m\u001b[0m\n\u001b[0;32m---> 97\u001b[0;31m     \u001b[0;32mraise\u001b[0m \u001b[0mLinAlgError\u001b[0m\u001b[0;34m(\u001b[0m\u001b[0;34m\"Singular matrix\"\u001b[0m\u001b[0;34m)\u001b[0m\u001b[0;34m\u001b[0m\u001b[0;34m\u001b[0m\u001b[0m\n\u001b[0m\u001b[1;32m     98\u001b[0m \u001b[0;34m\u001b[0m\u001b[0m\n\u001b[1;32m     99\u001b[0m \u001b[0;32mdef\u001b[0m \u001b[0m_raise_linalgerror_nonposdef\u001b[0m\u001b[0;34m(\u001b[0m\u001b[0merr\u001b[0m\u001b[0;34m,\u001b[0m \u001b[0mflag\u001b[0m\u001b[0;34m)\u001b[0m\u001b[0;34m:\u001b[0m\u001b[0;34m\u001b[0m\u001b[0;34m\u001b[0m\u001b[0m\n",
      "\u001b[0;31mLinAlgError\u001b[0m: Singular matrix"
     ]
    }
   ],
   "source": [
    "np.linalg.solve(A,b)"
   ]
  },
  {
   "cell_type": "markdown",
   "metadata": {},
   "source": [
    "* Marca un error: \"Singular matrix\""
   ]
  },
  {
   "cell_type": "markdown",
   "metadata": {},
   "source": [
    "Ahora usemos la eliminación por bloques usando la factorización QR"
   ]
  },
  {
   "cell_type": "code",
   "execution_count": 41,
   "metadata": {},
   "outputs": [
    {
     "ename": "SystemExit",
     "evalue": "A debe ser no singular",
     "output_type": "error",
     "traceback": [
      "An exception has occurred, use %tb to see the full traceback.\n",
      "\u001b[0;31mSystemExit\u001b[0m\u001b[0;31m:\u001b[0m A debe ser no singular\n"
     ]
    }
   ],
   "source": [
    "fQR.eliminacion_bloques(A,b)"
   ]
  },
  {
   "cell_type": "markdown",
   "metadata": {},
   "source": [
    "* Se concluye que es un sistema de rectas paralelas, por lo tanto no existe solúción."
   ]
  },
  {
   "cell_type": "markdown",
   "metadata": {},
   "source": [
    "### C) Sistema con infinitas soluciones"
   ]
  },
  {
   "cell_type": "code",
   "execution_count": 43,
   "metadata": {},
   "outputs": [
    {
     "name": "stdout",
     "output_type": "stream",
     "text": [
      "A: [[1. 0. 0.]\n",
      " [0. 1. 0.]\n",
      " [0. 0. 0.]]\n",
      "b: [[3.]\n",
      " [3.]\n",
      " [0.]]\n"
     ]
    }
   ],
   "source": [
    "#Generamos un sistema de ecuaciones lineales\n",
    "A = np.array([[1, 0, 0], [0, 1, 0], [0, 0, 0]], dtype='d')\n",
    "b = np.array([[3], [3], [0]], dtype='d')\n",
    "print(\"A:\",A)\n",
    "print(\"b:\",b)"
   ]
  },
  {
   "cell_type": "markdown",
   "metadata": {},
   "source": [
    "Primero resolvamos el sistema de ecuaciones usando la paquetería de numpy para comparar."
   ]
  },
  {
   "cell_type": "code",
   "execution_count": 45,
   "metadata": {},
   "outputs": [
    {
     "ename": "LinAlgError",
     "evalue": "Singular matrix",
     "output_type": "error",
     "traceback": [
      "\u001b[0;31m---------------------------------------------------------------------------\u001b[0m",
      "\u001b[0;31mLinAlgError\u001b[0m                               Traceback (most recent call last)",
      "\u001b[0;32m<ipython-input-45-36718354ad3a>\u001b[0m in \u001b[0;36m<module>\u001b[0;34m\u001b[0m\n\u001b[0;32m----> 1\u001b[0;31m \u001b[0mnp\u001b[0m\u001b[0;34m.\u001b[0m\u001b[0mlinalg\u001b[0m\u001b[0;34m.\u001b[0m\u001b[0msolve\u001b[0m\u001b[0;34m(\u001b[0m\u001b[0mA\u001b[0m\u001b[0;34m,\u001b[0m\u001b[0mb\u001b[0m\u001b[0;34m)\u001b[0m\u001b[0;34m\u001b[0m\u001b[0;34m\u001b[0m\u001b[0m\n\u001b[0m",
      "\u001b[0;32m<__array_function__ internals>\u001b[0m in \u001b[0;36msolve\u001b[0;34m(*args, **kwargs)\u001b[0m\n",
      "\u001b[0;32m~/anaconda3/lib/python3.7/site-packages/numpy/linalg/linalg.py\u001b[0m in \u001b[0;36msolve\u001b[0;34m(a, b)\u001b[0m\n\u001b[1;32m    401\u001b[0m     \u001b[0msignature\u001b[0m \u001b[0;34m=\u001b[0m \u001b[0;34m'DD->D'\u001b[0m \u001b[0;32mif\u001b[0m \u001b[0misComplexType\u001b[0m\u001b[0;34m(\u001b[0m\u001b[0mt\u001b[0m\u001b[0;34m)\u001b[0m \u001b[0;32melse\u001b[0m \u001b[0;34m'dd->d'\u001b[0m\u001b[0;34m\u001b[0m\u001b[0;34m\u001b[0m\u001b[0m\n\u001b[1;32m    402\u001b[0m     \u001b[0mextobj\u001b[0m \u001b[0;34m=\u001b[0m \u001b[0mget_linalg_error_extobj\u001b[0m\u001b[0;34m(\u001b[0m\u001b[0m_raise_linalgerror_singular\u001b[0m\u001b[0;34m)\u001b[0m\u001b[0;34m\u001b[0m\u001b[0;34m\u001b[0m\u001b[0m\n\u001b[0;32m--> 403\u001b[0;31m     \u001b[0mr\u001b[0m \u001b[0;34m=\u001b[0m \u001b[0mgufunc\u001b[0m\u001b[0;34m(\u001b[0m\u001b[0ma\u001b[0m\u001b[0;34m,\u001b[0m \u001b[0mb\u001b[0m\u001b[0;34m,\u001b[0m \u001b[0msignature\u001b[0m\u001b[0;34m=\u001b[0m\u001b[0msignature\u001b[0m\u001b[0;34m,\u001b[0m \u001b[0mextobj\u001b[0m\u001b[0;34m=\u001b[0m\u001b[0mextobj\u001b[0m\u001b[0;34m)\u001b[0m\u001b[0;34m\u001b[0m\u001b[0;34m\u001b[0m\u001b[0m\n\u001b[0m\u001b[1;32m    404\u001b[0m \u001b[0;34m\u001b[0m\u001b[0m\n\u001b[1;32m    405\u001b[0m     \u001b[0;32mreturn\u001b[0m \u001b[0mwrap\u001b[0m\u001b[0;34m(\u001b[0m\u001b[0mr\u001b[0m\u001b[0;34m.\u001b[0m\u001b[0mastype\u001b[0m\u001b[0;34m(\u001b[0m\u001b[0mresult_t\u001b[0m\u001b[0;34m,\u001b[0m \u001b[0mcopy\u001b[0m\u001b[0;34m=\u001b[0m\u001b[0;32mFalse\u001b[0m\u001b[0;34m)\u001b[0m\u001b[0;34m)\u001b[0m\u001b[0;34m\u001b[0m\u001b[0;34m\u001b[0m\u001b[0m\n",
      "\u001b[0;32m~/anaconda3/lib/python3.7/site-packages/numpy/linalg/linalg.py\u001b[0m in \u001b[0;36m_raise_linalgerror_singular\u001b[0;34m(err, flag)\u001b[0m\n\u001b[1;32m     95\u001b[0m \u001b[0;34m\u001b[0m\u001b[0m\n\u001b[1;32m     96\u001b[0m \u001b[0;32mdef\u001b[0m \u001b[0m_raise_linalgerror_singular\u001b[0m\u001b[0;34m(\u001b[0m\u001b[0merr\u001b[0m\u001b[0;34m,\u001b[0m \u001b[0mflag\u001b[0m\u001b[0;34m)\u001b[0m\u001b[0;34m:\u001b[0m\u001b[0;34m\u001b[0m\u001b[0;34m\u001b[0m\u001b[0m\n\u001b[0;32m---> 97\u001b[0;31m     \u001b[0;32mraise\u001b[0m \u001b[0mLinAlgError\u001b[0m\u001b[0;34m(\u001b[0m\u001b[0;34m\"Singular matrix\"\u001b[0m\u001b[0;34m)\u001b[0m\u001b[0;34m\u001b[0m\u001b[0;34m\u001b[0m\u001b[0m\n\u001b[0m\u001b[1;32m     98\u001b[0m \u001b[0;34m\u001b[0m\u001b[0m\n\u001b[1;32m     99\u001b[0m \u001b[0;32mdef\u001b[0m \u001b[0m_raise_linalgerror_nonposdef\u001b[0m\u001b[0;34m(\u001b[0m\u001b[0merr\u001b[0m\u001b[0;34m,\u001b[0m \u001b[0mflag\u001b[0m\u001b[0;34m)\u001b[0m\u001b[0;34m:\u001b[0m\u001b[0;34m\u001b[0m\u001b[0;34m\u001b[0m\u001b[0m\n",
      "\u001b[0;31mLinAlgError\u001b[0m: Singular matrix"
     ]
    }
   ],
   "source": [
    "np.linalg.solve(A,b)"
   ]
  },
  {
   "cell_type": "markdown",
   "metadata": {},
   "source": [
    "* Marca un error: \"Singular matrix\""
   ]
  },
  {
   "cell_type": "markdown",
   "metadata": {},
   "source": [
    "Ahora usemos eliminación por bloques usando la factorización QR"
   ]
  },
  {
   "cell_type": "code",
   "execution_count": 46,
   "metadata": {},
   "outputs": [
    {
     "ename": "SystemExit",
     "evalue": "A debe ser no singular",
     "output_type": "error",
     "traceback": [
      "An exception has occurred, use %tb to see the full traceback.\n",
      "\u001b[0;31mSystemExit\u001b[0m\u001b[0;31m:\u001b[0m A debe ser no singular\n"
     ]
    }
   ],
   "source": [
    "fQR.eliminacion_bloques(A,b)"
   ]
  },
  {
   "cell_type": "code",
   "execution_count": null,
   "metadata": {},
   "outputs": [],
   "source": []
  },
  {
   "cell_type": "code",
   "execution_count": null,
   "metadata": {},
   "outputs": [],
   "source": []
  },
  {
   "cell_type": "code",
   "execution_count": null,
   "metadata": {},
   "outputs": [],
   "source": []
  },
  {
   "cell_type": "code",
   "execution_count": null,
   "metadata": {},
   "outputs": [],
   "source": []
  },
  {
   "cell_type": "code",
   "execution_count": null,
   "metadata": {},
   "outputs": [],
   "source": []
  },
  {
   "cell_type": "code",
   "execution_count": null,
   "metadata": {},
   "outputs": [],
   "source": []
  }
 ],
 "metadata": {
  "kernelspec": {
   "display_name": "Python 3",
   "language": "python",
   "name": "python3"
  },
  "language_info": {
   "codemirror_mode": {
    "name": "ipython",
    "version": 3
   },
   "file_extension": ".py",
   "mimetype": "text/x-python",
   "name": "python",
   "nbconvert_exporter": "python",
   "pygments_lexer": "ipython3",
   "version": "3.7.4"
  }
 },
 "nbformat": 4,
 "nbformat_minor": 4
}
