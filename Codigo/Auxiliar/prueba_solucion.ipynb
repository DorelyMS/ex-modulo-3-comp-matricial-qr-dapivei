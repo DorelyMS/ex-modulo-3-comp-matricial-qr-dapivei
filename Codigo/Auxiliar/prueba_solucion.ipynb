{
 "cells": [
  {
   "cell_type": "code",
   "execution_count": 1,
   "metadata": {},
   "outputs": [],
   "source": [
    "#paquetes python\n",
    "import os\n",
    "import numpy as np\n",
    "import copy\n",
    "import pprint\n",
    "from math import sqrt\n",
    "from scipy.linalg import solve_triangular\n",
    "import inspect\n",
    "import sys\n",
    "\n",
    "#paquetes funciones definidas obtenidas de archivos .py\n",
    "import funciones_factorizacion_QR as fQR"
   ]
  },
  {
   "cell_type": "markdown",
   "metadata": {},
   "source": [
    "## Prueba solución incorrecta"
   ]
  },
  {
   "cell_type": "code",
   "execution_count": 2,
   "metadata": {},
   "outputs": [
    {
     "name": "stdout",
     "output_type": "stream",
     "text": [
      "A: [[-2.83 -4.87  4.23  4.65]\n",
      " [-4.34  2.31  3.92  3.16]\n",
      " [-1.39 -2.07 -1.42  2.06]\n",
      " [ 2.19 -5.87  0.26 -5.93]]\n",
      "b: [[-3.56]\n",
      " [-1.5 ]\n",
      " [ 0.69]\n",
      " [ 5.09]]\n"
     ]
    }
   ],
   "source": [
    "#Generamos un sistema de ecuaciones lineales\n",
    "m=4\n",
    "n=4\n",
    "A=np.round(fQR.crear_matriz_aleatoria(m,n,6,-6,False),2)\n",
    "b = np.round(fQR.crear_matriz_aleatoria(m,1,6,-6,False),2)\n",
    "print(\"A:\",A)\n",
    "print(\"b:\",b)"
   ]
  },
  {
   "cell_type": "code",
   "execution_count": 3,
   "metadata": {},
   "outputs": [
    {
     "data": {
      "text/plain": [
       "array([[-1.15384111],\n",
       "       [-0.21244429],\n",
       "       [-0.64617361],\n",
       "       [-1.10250745]])"
      ]
     },
     "execution_count": 3,
     "metadata": {},
     "output_type": "execute_result"
    }
   ],
   "source": [
    "np.linalg.solve(A,b)"
   ]
  },
  {
   "cell_type": "code",
   "execution_count": 4,
   "metadata": {},
   "outputs": [
    {
     "data": {
      "text/plain": [
       "array([[-1.15384111],\n",
       "       [-0.21244429],\n",
       "       [-0.64617361],\n",
       "       [-1.10250745]])"
      ]
     },
     "execution_count": 4,
     "metadata": {},
     "output_type": "execute_result"
    }
   ],
   "source": [
    "fQR.Solucion_SEL_QR_nxn(A,b)"
   ]
  },
  {
   "cell_type": "code",
   "execution_count": 5,
   "metadata": {},
   "outputs": [
    {
     "data": {
      "text/plain": [
       "array([[-1.15384111],\n",
       "       [-0.21244429],\n",
       "       [-0.64617361],\n",
       "       [-1.10250745]])"
      ]
     },
     "execution_count": 5,
     "metadata": {},
     "output_type": "execute_result"
    }
   ],
   "source": [
    "fQR.eliminacion_bloques(A,b)"
   ]
  },
  {
   "cell_type": "markdown",
   "metadata": {},
   "source": [
    "## Prueba solución correcta"
   ]
  },
  {
   "cell_type": "code",
   "execution_count": 10,
   "metadata": {},
   "outputs": [
    {
     "name": "stdout",
     "output_type": "stream",
     "text": [
      "A: [[ 1.49 -0.86 -1.35  4.76  2.77  4.93 -3.34 -2.23  2.61  4.92]\n",
      " [ 5.12  2.82 -3.8  -2.81  0.42 -1.92 -0.11  2.1  -1.1   5.22]\n",
      " [-5.58  1.42 -4.57  0.18 -1.63 -3.19  2.93  1.91 -5.37 -3.27]\n",
      " [-5.06 -4.44  0.01  1.72 -3.99 -5.73  2.61  1.59 -3.15  0.08]\n",
      " [ 5.21  1.13  1.85  0.1   0.69  3.52 -1.16  2.46  0.4  -5.41]\n",
      " [-4.56 -5.67 -1.72 -2.52  3.11  1.62  1.47  1.45  1.48  1.1 ]\n",
      " [-0.03  5.62 -1.66  4.61 -1.34  1.36 -2.7   4.71  5.82  4.71]\n",
      " [-4.23 -5.88  1.88 -4.32  5.25  4.26 -0.44 -2.36  1.24  4.81]\n",
      " [-1.11 -5.65 -0.91 -2.89 -2.47 -0.93 -3.13 -1.75  0.32 -5.79]\n",
      " [ 1.05 -0.9   4.2  -1.36 -4.36 -2.53  2.75 -5.6  -4.95 -3.46]]\n",
      "b: [[-0.1 ]\n",
      " [ 0.63]\n",
      " [-4.01]\n",
      " [-5.23]\n",
      " [ 2.5 ]\n",
      " [ 2.41]\n",
      " [ 3.36]\n",
      " [ 3.91]\n",
      " [ 0.58]\n",
      " [ 1.9 ]]\n"
     ]
    }
   ],
   "source": [
    "#Generamos un sistema de ecuaciones lineales\n",
    "m=10\n",
    "n=10\n",
    "A=np.round(fQR.crear_matriz_aleatoria(m,n,6,-6,False),2)\n",
    "b = np.round(fQR.crear_matriz_aleatoria(m,1,6,-6,False),2)\n",
    "print(\"A:\",A)\n",
    "print(\"b:\",b)"
   ]
  },
  {
   "cell_type": "code",
   "execution_count": 11,
   "metadata": {},
   "outputs": [
    {
     "data": {
      "text/plain": [
       "array([[ 0.05063153],\n",
       "       [ 0.06250187],\n",
       "       [-0.1950796 ],\n",
       "       [-0.97640005],\n",
       "       [-1.70848854],\n",
       "       [ 1.81391474],\n",
       "       [ 0.92209403],\n",
       "       [-0.00584456],\n",
       "       [ 0.59082345],\n",
       "       [ 0.32057775]])"
      ]
     },
     "execution_count": 11,
     "metadata": {},
     "output_type": "execute_result"
    }
   ],
   "source": [
    "np.linalg.solve(A,b)"
   ]
  },
  {
   "cell_type": "code",
   "execution_count": 12,
   "metadata": {},
   "outputs": [
    {
     "data": {
      "text/plain": [
       "array([[ 0.05063153],\n",
       "       [ 0.06250187],\n",
       "       [-0.1950796 ],\n",
       "       [-0.97640005],\n",
       "       [-1.70848854],\n",
       "       [ 1.81391474],\n",
       "       [ 0.92209403],\n",
       "       [-0.00584456],\n",
       "       [ 0.59082345],\n",
       "       [ 0.32057775]])"
      ]
     },
     "execution_count": 12,
     "metadata": {},
     "output_type": "execute_result"
    }
   ],
   "source": [
    "fQR.Solucion_SEL_QR_nxn(A,b)"
   ]
  },
  {
   "cell_type": "code",
   "execution_count": 13,
   "metadata": {},
   "outputs": [
    {
     "data": {
      "text/plain": [
       "array([[ 0.05063153],\n",
       "       [ 0.06250187],\n",
       "       [-0.1950796 ],\n",
       "       [-0.97640005],\n",
       "       [-1.70848854],\n",
       "       [ 1.81391474],\n",
       "       [ 0.92209403],\n",
       "       [-0.00584456],\n",
       "       [ 0.59082345],\n",
       "       [ 0.32057775]])"
      ]
     },
     "execution_count": 13,
     "metadata": {},
     "output_type": "execute_result"
    }
   ],
   "source": [
    "fQR.eliminacion_bloques(A,b)"
   ]
  },
  {
   "cell_type": "markdown",
   "metadata": {},
   "source": [
    "Prueba 10x10"
   ]
  },
  {
   "cell_type": "code",
   "execution_count": 10,
   "metadata": {},
   "outputs": [],
   "source": [
    "#Generamos un sistema de ecuaciones lineales\n",
    "m=1000\n",
    "n=1000\n",
    "A=np.round(fQR.crear_matriz_aleatoria(m,n,10,-10,False),2)\n",
    "b = np.round(fQR.crear_matriz_aleatoria(m,1,10,-10,False),2)\n",
    "#print(\"A:\",A)\n",
    "#print(\"b:\",b)"
   ]
  },
  {
   "cell_type": "code",
   "execution_count": 11,
   "metadata": {},
   "outputs": [],
   "source": [
    "x1=np.linalg.solve(A,b)"
   ]
  },
  {
   "cell_type": "code",
   "execution_count": null,
   "metadata": {},
   "outputs": [],
   "source": [
    "x2=fQR.eliminacion_bloques(A,b)"
   ]
  },
  {
   "cell_type": "code",
   "execution_count": 8,
   "metadata": {},
   "outputs": [
    {
     "data": {
      "text/plain": [
       "-0.0006959999999999997"
      ]
     },
     "execution_count": 8,
     "metadata": {},
     "output_type": "execute_result"
    }
   ],
   "source": [
    "np.mean(A)"
   ]
  },
  {
   "cell_type": "code",
   "execution_count": null,
   "metadata": {},
   "outputs": [],
   "source": [
    "2"
   ]
  },
  {
   "cell_type": "code",
   "execution_count": null,
   "metadata": {},
   "outputs": [],
   "source": []
  }
 ],
 "metadata": {
  "kernelspec": {
   "display_name": "Python 3",
   "language": "python",
   "name": "python3"
  },
  "language_info": {
   "codemirror_mode": {
    "name": "ipython",
    "version": 3
   },
   "file_extension": ".py",
   "mimetype": "text/x-python",
   "name": "python",
   "nbconvert_exporter": "python",
   "pygments_lexer": "ipython3",
   "version": "3.7.4"
  }
 },
 "nbformat": 4,
 "nbformat_minor": 4
}
