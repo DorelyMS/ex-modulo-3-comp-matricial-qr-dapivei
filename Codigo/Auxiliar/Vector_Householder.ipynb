{
 "cells": [
  {
   "cell_type": "code",
   "execution_count": 1,
   "metadata": {},
   "outputs": [],
   "source": [
    "import os\n",
    "import numpy as np\n",
    "from math import sqrt\n",
    "from pprint import pprint"
   ]
  },
  {
   "cell_type": "markdown",
   "metadata": {},
   "source": [
    "#### Algoritmo para el cálculo del vector de Householder, nombre de función: $house(\\cdot)$"
   ]
  },
  {
   "cell_type": "code",
   "execution_count": 2,
   "metadata": {},
   "outputs": [],
   "source": [
    "x = np.array([1,2,3,4,4,2])\n",
    "e = np.array([2,4,6,4,5,2])"
   ]
  },
  {
   "cell_type": "code",
   "execution_count": 7,
   "metadata": {},
   "outputs": [
    {
     "ename": "SyntaxError",
     "evalue": "invalid syntax (<ipython-input-7-a1eff612b52f>, line 18)",
     "output_type": "error",
     "traceback": [
      "\u001b[1;36m  File \u001b[1;32m\"<ipython-input-7-a1eff612b52f>\"\u001b[1;36m, line \u001b[1;32m18\u001b[0m\n\u001b[1;33m    if (norm_2_m == 0 and if x[0] >= 0):\u001b[0m\n\u001b[1;37m                           ^\u001b[0m\n\u001b[1;31mSyntaxError\u001b[0m\u001b[1;31m:\u001b[0m invalid syntax\n"
     ]
    }
   ],
   "source": [
    "def house(x):\n",
    "    m = len(x) #Definimos el tamaño de x\n",
    "    norm_2_m = (x[2:m].T).dot(x[2:m]) #Definimos la norma\n",
    "    \n",
    "    #Definimos el signo de x_1\n",
    "    def signo(x_1):\n",
    "        if x[0] >= 0:\n",
    "            return np.copysign(x[0], 1)\n",
    "        if x[0] < 0:\n",
    "            return np.copysign(x[0], -1)\n",
    "    \n",
    "    #Definimos el vector de Householder con v_1 = 1\n",
    "    v = x+signo(x[0])*np.linalg.norm(x)*e  \n",
    "    v[0] = 1\n",
    "    beta = (2)/((np.transpose(v)).dot(v))\n",
    "    \n",
    "    #Verificamos las siguientes condiciones si x es un múltiplo del vector canónico e_1 y el signo de x_1\n",
    "    if (norm_2_m == 0 and if x[0] >= 0):\n",
    "        beta == 0\n",
    "    elif (norm_2_m == 0 and if x[0] < 0):\n",
    "        beta == 2\n",
    "    else:\n",
    "        norm_x = sqrt(x[0]**2 + norm_2_m)\n",
    "        if x[0] <= 0:\n",
    "            v[0] = x[0] - norm_x\n",
    "        else:\n",
    "            v[0] = -((-norm_2_m) / (x[0] + norm_x))\n",
    "        beta = (2*((v[0])**2)) / (norm_2_m + ((v[0])**2))\n",
    "        v = v / v[0]\n",
    "    return v, beta"
   ]
  },
  {
   "cell_type": "code",
   "execution_count": 4,
   "metadata": {},
   "outputs": [],
   "source": [
    "v, beta = house(x)"
   ]
  },
  {
   "cell_type": "code",
   "execution_count": 5,
   "metadata": {},
   "outputs": [
    {
     "data": {
      "text/plain": [
       "array([ 1.        , 30.28427125, 45.42640687, 32.28427125, 39.35533906,\n",
       "       16.14213562])"
      ]
     },
     "execution_count": 5,
     "metadata": {},
     "output_type": "execute_result"
    }
   ],
   "source": [
    "v"
   ]
  },
  {
   "cell_type": "code",
   "execution_count": 6,
   "metadata": {},
   "outputs": [
    {
     "data": {
      "text/plain": [
       "0.00034285434411756503"
      ]
     },
     "execution_count": 6,
     "metadata": {},
     "output_type": "execute_result"
    }
   ],
   "source": [
    "beta"
   ]
  }
 ],
 "metadata": {
  "kernelspec": {
   "display_name": "Python 3",
   "language": "python",
   "name": "python3"
  },
  "language_info": {
   "codemirror_mode": {
    "name": "ipython",
    "version": 3
   },
   "file_extension": ".py",
   "mimetype": "text/x-python",
   "name": "python",
   "nbconvert_exporter": "python",
   "pygments_lexer": "ipython3",
   "version": "3.7.4"
  }
 },
 "nbformat": 4,
 "nbformat_minor": 4
}
