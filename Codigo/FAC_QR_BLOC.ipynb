{
 "cells": [
  {
   "cell_type": "code",
   "execution_count": 1,
   "metadata": {},
   "outputs": [],
   "source": [
    "###############################################################################################\n",
    "############################################ FUNCIONES ########################################\n",
    "###############################################################################################"
   ]
  },
  {
   "cell_type": "code",
   "execution_count": 34,
   "metadata": {},
   "outputs": [],
   "source": [
    "import numpy as np\n",
    "import copy\n",
    "import sys\n",
    "from scipy.linalg import solve_triangular"
   ]
  },
  {
   "cell_type": "code",
   "execution_count": 2,
   "metadata": {},
   "outputs": [],
   "source": [
    "def crea_matriz(renglones,columnas,maximo_valor,minimo_valor,entero=False):\n",
    "    \"\"\"\n",
    "    Función de apoyo para genear matrices aleatorias\n",
    "                            \n",
    "    params: renglones       no. de renglones de la matriz\n",
    "            columnas        no. de renglones de la matriz\n",
    "            maximo_valor    valor máximo de las entradas de la matriz\n",
    "            minimo_valor    valor mínimo de las entradas de la matriz\n",
    "            entero          Indica si las entradas serán enteras (True) o no\n",
    "            \n",
    "    return: M               Matriz con numeros al azar\n",
    "    \"\"\"\n",
    "    M=np.zeros((renglones, columnas))\n",
    "    for i in range(renglones):\n",
    "        for j in range(columnas):\n",
    "            if entero:\n",
    "                M[i][j]=(np.random.rand(1)*(maximo_valor+1-minimo_valor)+minimo_valor)//1\n",
    "            else:\n",
    "                M[i][j]=np.random.rand(1)*(maximo_valor-minimo_valor)+minimo_valor\n",
    "    return M"
   ]
  },
  {
   "cell_type": "code",
   "execution_count": 3,
   "metadata": {},
   "outputs": [],
   "source": [
    "def house(x):\n",
    "    \"\"\"\n",
    "    Función que calcula la proyección de householder\n",
    "    \n",
    "    params: x       vector al que se le hará la reflexión householder\n",
    "                    \n",
    "    return: Beta    constante utilizada para obtener v\n",
    "            v       vector que representa la reflexión de householder\n",
    "    \"\"\"\n",
    "    m=len(x)\n",
    "    norm_2_m=x[1:m].dot(np.transpose(x[1:m]))\n",
    "    v=np.concatenate((1,x[1:m]), axis=None)\n",
    "    Beta=0\n",
    "    if (norm_2_m==0 and x[0]>=0):\n",
    "        Beta=0\n",
    "    elif (norm_2_m==0 and x[0]<0):\n",
    "        Beta=2\n",
    "    else:\n",
    "        norm_x=np.sqrt(pow(x[0],2)+norm_2_m)\n",
    "        if (x[0]<=0):\n",
    "            v[0]=x[0]-norm_x\n",
    "        else:\n",
    "            v[0]=-norm_2_m/(x[0]+norm_x)\n",
    "        Beta=2*pow(v[0],2)/(norm_2_m+pow(v[0],2))\n",
    "        v=v/v[0]\n",
    "    return Beta, v"
   ]
  },
  {
   "cell_type": "code",
   "execution_count": 4,
   "metadata": {},
   "outputs": [],
   "source": [
    "def factorizacion_QR(A):\n",
    "    \"\"\"\n",
    "    Función que genera una matriz que contendrá información escencial de las proyecciones householder\n",
    "    (vectores v's) y componentes de la matriz triangular superior R, del estilo:\n",
    "    [r11      r12      r13      r14    ]\n",
    "    [v_2_(1)  r22      r23      r24    ]\n",
    "    [v_3_(1)  v_3_(2)  r33      r34    ]\n",
    "    [v_4_(1)  v_4_(2)  v_4_(3)  r44    ]\n",
    "    [v_5_(1)  v_5_(2)  v_5_(3)  v_5_(4)]\n",
    "    \n",
    "    params: A      Matriz (mxn) de la que se desea obtner factorización QR\n",
    "            \n",
    "    return: A_r_v  Matriz (mxn) con la información escencial (es igual a la matriz R, pero en lugar de tener ceros\n",
    "                   en la parte inferior, contiene info de los vectores householder que serán útiles para\n",
    "                   futuros cálculos, que entre otros están el calcular la matriz ortonormal Q)\n",
    "\n",
    "    \"\"\"\n",
    "    m=A.shape[0]\n",
    "    n=A.shape[1]\n",
    "    A_r_v=copy.copy(A)\n",
    "    for j in range(n):\n",
    "        beta, v=house(A_r_v[j:m,j])\n",
    "        A_r_v[j:m,j:n]=A_r_v[j:m,j:n]-beta*(np.outer(v,v)@A_r_v[j:m,j:n])\n",
    "        A_r_v[(j+1):m,j]=v[1:(m-j)]\n",
    "    return A_r_v"
   ]
  },
  {
   "cell_type": "code",
   "execution_count": 5,
   "metadata": {},
   "outputs": [],
   "source": [
    "def QT_C(A_r_v,C):\n",
    "    \"\"\"\n",
    "    Función que calcula el producto matricial de Q_transpuesta por una matriz dada C\n",
    "                            \n",
    "    params: A_r_v   Matriz (mxn) con la info escencial\n",
    "            C       Matriz (mxp) (si se pasa por ejemplo C=Identidad (mxm) la funcion devolverá Q)\n",
    "\n",
    "    return: M       Matriz con numero al azar\n",
    "    \"\"\"\n",
    "    m=A_r_v.shape[0]\n",
    "    n=A_r_v.shape[1]\n",
    "    QT_por_C=np.eye(m)\n",
    "    for j in range(n-1,-1,-1):\n",
    "        v=np.concatenate((1,A_r_v[(j+1):m,j]), axis=None)\n",
    "        beta=2/(1+A_r_v[(j+1):m,j].dot(A_r_v[(j+1):m,j]))\n",
    "        QT_por_C[j:m,j:m]=C[j:m,j:m]-beta*np.outer(v,v)@C[j:m,j:m]\n",
    "    return QT_por_C"
   ]
  },
  {
   "cell_type": "code",
   "execution_count": 6,
   "metadata": {},
   "outputs": [],
   "source": [
    "def Q_j(A_r_v,j):\n",
    "    \"\"\"\n",
    "    Función que calcula la matriz Qj (en el proceso de obtención de factorización QR se van obteniendo n Qj's,\n",
    "    que si se multiplican todas da por resultado Q=Q1*Q2*...*Qn)\n",
    "                            \n",
    "    params: A_r_v   Matriz (mxn) con la info escencial\n",
    "            C       Matriz (mxp) (si se pasa por ejemplo C=Identidad (mxm) la funcion devolverá Q)\n",
    "\n",
    "    return: Qj      Matriz Q de la j-esima iteración del proceso iterativo de factorización QR\n",
    "    \"\"\"\n",
    "    m=A_r_v.shape[0]\n",
    "    n=A_r_v.shape[1]\n",
    "    Qj=np.eye(m)\n",
    "    v=np.concatenate((1,A_r_v[(j+1):m,j]), axis=None)\n",
    "    beta=2/(1+A_r_v[(j+1):m,j].dot(A_r_v[(j+1):m,j]))\n",
    "    Qj[j:m,j:m]=np.eye(m-j)-beta*np.outer(v,v)\n",
    "    return Qj"
   ]
  },
  {
   "cell_type": "code",
   "execution_count": 117,
   "metadata": {},
   "outputs": [],
   "source": [
    "def Solucion_SEL_QR_nxn(A,b):\n",
    "    \"\"\"\n",
    "    Función que obtiene la solución de un sistema de ecuaciones lineala (SEL) con n ecuaciones y n incognitas\n",
    "            \n",
    "    params: A   Matriz (nxn) que representa los coeficientas de las ecuaciones\n",
    "            b   vector (nx1) constantes del sistema\n",
    "\n",
    "    return: x   vector que satisface (Ax=b)\n",
    "    \"\"\"\n",
    "    #FALTA CONTEMPLAR POSIBLES PROBLEMAS/SOLUCIONES PARA LOS DIFERENTES TIPOS DE SEL (SIN SOLUCION, MULTIPLES SOLUCIONES,\n",
    "    #SOLUCION ÚNICA). INCORPORAR ESTO PARA EVITAR ERRORES FATALES/DESBORDAMIENTO/ETC\n",
    "    A_r_v=factorizacion_QR(A)\n",
    "    m=A_r_v.shape[0]\n",
    "    n=A_r_v.shape[0]\n",
    "    #Q=np.transpose(QT_C(A_r_v,np.eye(m)))\n",
    "    #R=np.transpose(Q)@A\n",
    "    Q=np.eye(m)\n",
    "    R=copy.copy(A)\n",
    "    for j in range(n):\n",
    "        Qj=Q_j(A_r_v,j)\n",
    "        Q=Q@Qj\n",
    "        R=Q_j(A_r_v,j)@R\n",
    "    b_prima=np.transpose(Q)@b\n",
    "    #x=Solucion_SHA_triangula_nxn(R,b_prima)\n",
    "    x = solve_triangular(R, np.transpose(Q)@b)\n",
    "    return x"
   ]
  },
  {
   "cell_type": "code",
   "execution_count": 8,
   "metadata": {},
   "outputs": [],
   "source": [
    "def Solucion_SHA_triangular_superior_nxn(R,b_prima):\n",
    "    #ALGORITMO SIMPLE DE SUSTITUCION HACIA ATRAS CON UNA MATRIZ TRIANGULAR SUPERIOR (SOLO HAY QUE SUSTITUIR ITERATIVAMENTE)\n",
    "    return x"
   ]
  },
  {
   "cell_type": "code",
   "execution_count": null,
   "metadata": {},
   "outputs": [],
   "source": []
  },
  {
   "cell_type": "code",
   "execution_count": null,
   "metadata": {},
   "outputs": [],
   "source": []
  },
  {
   "cell_type": "code",
   "execution_count": 9,
   "metadata": {},
   "outputs": [],
   "source": [
    "###############################################################################################\n",
    "##################################### PRUEBA DE FUNCIONES #####################################\n",
    "###############################################################################################"
   ]
  },
  {
   "cell_type": "code",
   "execution_count": 10,
   "metadata": {},
   "outputs": [],
   "source": [
    "m=5\n",
    "n=3\n",
    "A=np.round(crea_matriz(m,n,6,-6,False),2)\n",
    "\n",
    "#Prueba también definiendo una matriz entrada por entrada, solo asegurate que sus entradas sean\n",
    "#tipo flotantes/dobles (pues si son de tipo enteras arrastrarán errores de redondeo considerables)\n",
    "# m=3\n",
    "# n=3\n",
    "#A=np.array([[1, 2, 1], [2, 3, 2], [1, 2, 3]], dtype='d')"
   ]
  },
  {
   "cell_type": "code",
   "execution_count": 11,
   "metadata": {},
   "outputs": [
    {
     "data": {
      "text/plain": [
       "array([[ 6.6072,  0.6731, -5.6347],\n",
       "       [-0.2181,  6.1281,  3.5372],\n",
       "       [ 0.1827,  1.6667,  5.5272],\n",
       "       [-0.2189, -0.2115,  5.074 ],\n",
       "       [ 0.1942,  0.1549,  5.9971]])"
      ]
     },
     "execution_count": 11,
     "metadata": {},
     "output_type": "execute_result"
    }
   ],
   "source": [
    "A_r_v=factorizacion_QR(A)\n",
    "np.round(A_r_v,4)"
   ]
  },
  {
   "cell_type": "code",
   "execution_count": 12,
   "metadata": {},
   "outputs": [
    {
     "data": {
      "text/plain": [
       "array([[-0.7144,  0.3738, -0.3133,  0.3754, -0.333 ],\n",
       "       [ 0.3738,  0.9185,  0.0683, -0.0818,  0.0726],\n",
       "       [-0.3133,  0.0683,  0.9427,  0.0686, -0.0608],\n",
       "       [ 0.3754, -0.0818,  0.0686,  0.9178,  0.0729],\n",
       "       [-0.333 ,  0.0726, -0.0608,  0.0729,  0.9353]])"
      ]
     },
     "execution_count": 12,
     "metadata": {},
     "output_type": "execute_result"
    }
   ],
   "source": [
    "#Obtención de Q con la función QT_C\n",
    "Q=np.transpose(QT_C(A_r_v,np.eye(m)))\n",
    "np.round(Q,4)"
   ]
  },
  {
   "cell_type": "code",
   "execution_count": 13,
   "metadata": {},
   "outputs": [
    {
     "data": {
      "text/plain": [
       "array([[ 6.6072,  0.6731, -5.6347],\n",
       "       [-0.    ,  2.942 , -2.952 ],\n",
       "       [ 0.    , -5.3104, -5.4648],\n",
       "       [-0.    ,  0.6738,  0.4779],\n",
       "       [ 0.    , -0.4937, -2.0626]])"
      ]
     },
     "execution_count": 13,
     "metadata": {},
     "output_type": "execute_result"
    }
   ],
   "source": [
    "#Así obtenemos R\n",
    "R=np.transpose(Q)@A\n",
    "np.round(R,4)"
   ]
  },
  {
   "cell_type": "code",
   "execution_count": 14,
   "metadata": {},
   "outputs": [
    {
     "name": "stdout",
     "output_type": "stream",
     "text": [
      "\n",
      "Q 0 :\n",
      " [[-0.7144  0.3738 -0.3133  0.3754 -0.333 ]\n",
      " [ 0.3738  0.9185  0.0683 -0.0818  0.0726]\n",
      " [-0.3133  0.0683  0.9427  0.0686 -0.0608]\n",
      " [ 0.3754 -0.0818  0.0686  0.9178  0.0729]\n",
      " [-0.333   0.0726 -0.0608  0.0729  0.9353]]\n",
      "\n",
      "Aplicando las Qjs a A por la izquierda para obtener R, iteracion  0 :\n",
      " [[ 6.6072  0.6731 -5.6347]\n",
      " [-0.      2.942  -2.952 ]\n",
      " [ 0.     -5.3104 -5.4648]\n",
      " [-0.      0.6738  0.4779]\n",
      " [ 0.     -0.4937 -2.0626]]\n",
      "\n",
      "Q 1 :\n",
      " [[ 1.      0.      0.      0.      0.    ]\n",
      " [ 0.      0.4801 -0.8666  0.1099 -0.0806]\n",
      " [ 0.     -0.8666 -0.4443  0.1833 -0.1343]\n",
      " [ 0.      0.1099  0.1833  0.9767  0.017 ]\n",
      " [ 0.     -0.0806 -0.1343  0.017   0.9875]]\n",
      "\n",
      "Aplicando las Qjs a A por la izquierda para obtener R, iteracion  1 :\n",
      " [[ 6.6072  0.6731 -5.6347]\n",
      " [-0.      6.1281  3.5372]\n",
      " [ 0.      0.      5.3509]\n",
      " [-0.     -0.     -0.8944]\n",
      " [ 0.      0.     -1.0572]]\n",
      "\n",
      "Q 2 :\n",
      " [[ 1.      0.      0.      0.      0.    ]\n",
      " [ 0.      1.      0.      0.      0.    ]\n",
      " [ 0.      0.      0.9681 -0.1618 -0.1913]\n",
      " [ 0.      0.     -0.1618  0.1789 -0.9705]\n",
      " [ 0.      0.     -0.1913 -0.9705 -0.147 ]]\n",
      "\n",
      "Aplicando las Qjs a A por la izquierda para obtener R, iteracion  2 :\n",
      " [[ 6.6072  0.6731 -5.6347]\n",
      " [-0.      6.1281  3.5372]\n",
      " [ 0.      0.      5.5272]\n",
      " [-0.     -0.      0.    ]\n",
      " [ 0.     -0.     -0.    ]]\n",
      "\n",
      "\n",
      "\n",
      "Resultados finales:\n",
      "\n",
      "R es el resultado de multiplicar todas las Qjs a A\n",
      " [[ 6.6072  0.6731 -5.6347]\n",
      " [-0.      6.1281  3.5372]\n",
      " [ 0.      0.      5.5272]\n",
      " [-0.     -0.      0.    ]\n",
      " [ 0.     -0.     -0.    ]]\n",
      "\n",
      "Q es el resultado de multiplicar todas las Qjs y transponer:\n",
      " [[-0.7144  0.5191 -0.0654  0.3745 -0.2752]\n",
      " [ 0.3738  0.3669 -0.8271  0.1564  0.1309]\n",
      " [-0.3133 -0.7717 -0.4461  0.3034 -0.1234]\n",
      " [ 0.3754 -0.0037  0.0304  0.0466 -0.9252]\n",
      " [-0.333   0.0203 -0.3343 -0.8608 -0.1895]]\n"
     ]
    }
   ],
   "source": [
    "#Ejemplo ilustrativo de cómo obtener Q y R, visualizando cada iteración\n",
    "Q=np.eye(m)\n",
    "R=copy.copy(A)\n",
    "for j in range(n):\n",
    "    Qj=Q_j(A_r_v,j)\n",
    "    print('\\nQ',j,':\\n',np.round(Qj,4))\n",
    "    Q=Q@Qj\n",
    "    R=Q_j(A_r_v,j)@R\n",
    "    print('\\nAplicando las Qjs a A por la izquierda para obtener R, iteracion ',j,':\\n',np.round(R,4))\n",
    "\n",
    "print('\\n\\n\\nResultados finales:')\n",
    "print('\\nR es el resultado de multiplicar todas las Qjs a A\\n',np.round(R,4))\n",
    "print('\\nQ es el resultado de multiplicar todas las Qjs y transponer:\\n',np.round(Q,4))\n"
   ]
  },
  {
   "cell_type": "code",
   "execution_count": null,
   "metadata": {},
   "outputs": [],
   "source": []
  },
  {
   "cell_type": "code",
   "execution_count": 15,
   "metadata": {},
   "outputs": [],
   "source": [
    "##################################### FUNCION DESECHADA #####################################\n",
    "\n",
    "# def Factorizacion_Q_R(A):\n",
    "#     m=A.shape[0]\n",
    "#     n=A.shape[1]\n",
    "#     R=copy.copy(A)\n",
    "#     Q=np.eye(m)\n",
    "#     for j in range(n):\n",
    "#         Qj=np.eye(m)\n",
    "#         beta, v=house(R[j:m,j])\n",
    "#         P=np.eye(m-j)-beta*(np.outer(v,v))\n",
    "#         R[j:m,j:n]=P@R[j:m,j:n]\n",
    "#         Qj[j:m,j:m]=P\n",
    "#         Q=Qj@Q\n",
    "#     Q=np.transpose(Q)\n",
    "#     return Q,R\n",
    "\n",
    "\n",
    "# Q,R=Factorizacion_Q_R(A)\n",
    "# print('\\n\\nQ:\\n',np.round(Q,4))\n",
    "# print('\\nR:\\n',np.round(R,4))\n",
    "# print('\\nQ@R:\\n',np.round(Q@R,4))\n",
    "# print('\\nA:\\n',A)"
   ]
  },
  {
   "cell_type": "code",
   "execution_count": 16,
   "metadata": {},
   "outputs": [
    {
     "data": {
      "text/plain": [
       "array([[ 6.57258458e+01, -9.02900515e+00, -5.51529000e+00, ...,\n",
       "         3.68092639e+00,  5.04291875e+00, -4.67291667e+00],\n",
       "       [ 1.06189872e-01,  6.28972660e+01, -1.71800761e+00, ...,\n",
       "        -1.65263617e+00,  8.67220428e+00,  2.57170497e+00],\n",
       "       [ 2.84800422e-03,  4.52402847e-02,  6.22779128e+01, ...,\n",
       "         9.98059676e+00, -3.18247865e+00, -1.26995984e+01],\n",
       "       ...,\n",
       "       [ 9.71033820e-02, -9.83803022e-02,  2.61975378e-02, ...,\n",
       "         2.24952874e-01,  2.13025970e-02,  1.30474492e-01],\n",
       "       [-9.07292774e-02,  8.91852938e-02, -1.09253068e-01, ...,\n",
       "         1.61016740e-01,  2.60233535e-02,  3.03451385e-02],\n",
       "       [ 2.56320380e-02, -9.50611807e-03, -5.57806922e-02, ...,\n",
       "        -5.19127394e-02,  3.90623445e-02,  1.05213578e-01]])"
      ]
     },
     "execution_count": 16,
     "metadata": {},
     "output_type": "execute_result"
    }
   ],
   "source": [
    "#Prubemos un ejemplo más grande con 10^4 entradas\n",
    "m=125\n",
    "n=80\n",
    "A=np.round(crea_matriz(m,n,10,-10,False),2)\n",
    "A_r_v=factorizacion_QR(A)\n",
    "A_r_v"
   ]
  },
  {
   "cell_type": "code",
   "execution_count": null,
   "metadata": {},
   "outputs": [],
   "source": []
  },
  {
   "cell_type": "markdown",
   "metadata": {},
   "source": [
    "## Eliminación por bloques"
   ]
  },
  {
   "cell_type": "code",
   "execution_count": 118,
   "metadata": {},
   "outputs": [],
   "source": [
    "def bloques(A, b=False, n1=False, n2=False):\n",
    "    \n",
    "    \"\"\"\n",
    "    Esta es la función para la creación de bloques usando un arreglo de numpy\n",
    "    \"\"\"\n",
    "\n",
    "    # Primero definimos el n\n",
    "    m,n = A.shape\n",
    "\n",
    "    # Condiciones de A\n",
    "    # Si no se dan los n deseados, se intentan hacer los bloques casi iguales\n",
    "    if  not (n1&n2):\n",
    "        n1 = n//2\n",
    "        n2 = n - n1\n",
    "    # Los bloques deben cumplir la condicion de tamaño\n",
    "    elif n1+n1 != n:\n",
    "        sys.exit('n1 + n2 debe ser igual a n')\n",
    "    else:\n",
    "        None\n",
    "\n",
    "    # Condiciones de b\n",
    "    if  b is False:\n",
    "        b1 = None\n",
    "        b2 = None\n",
    "        print('condicion1')\n",
    "    elif len(b) == m:\n",
    "        b1 = b[:n1]\n",
    "        b2 = b[n1:m]\n",
    "    else:\n",
    "        sys.exit('los renglones de A y b deben ser del mismo tamaño')\n",
    "\n",
    "\n",
    "    A11 = A[:n1,:n1]\n",
    "    A12 = A[:n1,n1:n]\n",
    "    A21 = A[n1:m,:n1]\n",
    "    A22 = A[n1:m,n1:n]\n",
    "\n",
    "    return A11,A12,A21,A22,b1,b2"
   ]
  },
  {
   "cell_type": "code",
   "execution_count": 119,
   "metadata": {},
   "outputs": [],
   "source": [
    "def eliminacion_bloques(A,b):\n",
    "\n",
    "    ## Sean A y A11 no singulares\n",
    "\n",
    "    if np.linalg.det(A)==0:\n",
    "        sys.exit('A debe ser no singular')\n",
    "\n",
    "    A11,A12,A21,A22,b1,b2 = bloques(A,b)\n",
    "\n",
    "    if np.linalg.det(A11)==0:\n",
    "        ys.exit('A11 debe ser no singular')\n",
    "\n",
    "    ## 1. Calcular A11^{-1}A12 y A11^{-1}b1 teniendo cuidado en no calcular la inversa sino un sistema de ecuaciones lineales\n",
    "    ## Aquí se debe usar el método QR una vez que esté desarrollado\n",
    "\n",
    "    ## Definimos y = A11^{-1}b1, por tanto A11y=b1. Resolviendo el sistema anterior para 11y:\n",
    "    y = Solucion_SEL_QR_nxn(A11,b1)\n",
    "    #y = np.linalg.solve(A11,b1)\n",
    "\n",
    "    ## Definimos Y = A11^{-1}A12\n",
    "    Y = Solucion_SEL_QR_nxn(A11,A12)\n",
    "    #Y = np.linalg.solve(A11,A12)\n",
    "\n",
    "    ## 2. Calcular el complemento de Schur del bloque A11 en A. Calcular b_hat\n",
    "    S = A22 - A21@Y\n",
    "    b_h = b2 - A21@y\n",
    "\n",
    "    ## 3. Resolver Sx2 = b_hat\n",
    "    x2 = Solucion_SEL_QR_nxn(S,b_h)\n",
    "    #x2 = np.linalg.solve(S,b_h)\n",
    "\n",
    "    ## 4. Resolver A11x1 = b1-A12X2\n",
    "    x1 = Solucion_SEL_QR_nxn(A11,b1-A12@x2)\n",
    "    #x1 = np.linalg.solve(A11,b1-A12@x2)\n",
    "\n",
    "    return np.concatenate((x1,x2), axis=0)"
   ]
  },
  {
   "cell_type": "code",
   "execution_count": 120,
   "metadata": {},
   "outputs": [],
   "source": [
    "m=6\n",
    "n=6\n",
    "A=np.round(crea_matriz(m,n,6,-6,False),2)\n",
    "b = np.round(crea_matriz(m,1,6,-6,False),2)"
   ]
  },
  {
   "cell_type": "code",
   "execution_count": 121,
   "metadata": {},
   "outputs": [
    {
     "name": "stdout",
     "output_type": "stream",
     "text": [
      "A: [[ 4.65  2.82  5.56  5.23  5.08 -1.02]\n",
      " [ 4.99  2.82 -1.12  4.15  0.87 -1.08]\n",
      " [ 1.42  1.    0.04 -5.8  -4.74 -1.62]\n",
      " [-1.98  5.03 -1.91 -3.91 -2.21  3.76]\n",
      " [-0.44  2.65  4.68  4.33 -2.33 -0.62]\n",
      " [-3.41  3.98  4.17  5.75 -3.51 -1.08]]\n",
      "b: [[ 4.87]\n",
      " [ 2.19]\n",
      " [ 4.3 ]\n",
      " [-0.68]\n",
      " [-0.66]\n",
      " [ 5.38]]\n"
     ]
    }
   ],
   "source": [
    "print(\"A:\",A)\n",
    "print(\"b:\",b)"
   ]
  },
  {
   "cell_type": "markdown",
   "metadata": {},
   "source": [
    "Primero resolvamos el sistema de ecuaciones usando la paquetería de numpy para comparar."
   ]
  },
  {
   "cell_type": "code",
   "execution_count": 126,
   "metadata": {},
   "outputs": [
    {
     "data": {
      "text/plain": [
       "array([[-1.36450007],\n",
       "       [ 2.20883656],\n",
       "       [-0.48675371],\n",
       "       [-0.85081159],\n",
       "       [ 1.57484597],\n",
       "       [-4.06067058]])"
      ]
     },
     "execution_count": 126,
     "metadata": {},
     "output_type": "execute_result"
    }
   ],
   "source": [
    "np.linalg.solve(A,b)"
   ]
  },
  {
   "cell_type": "markdown",
   "metadata": {},
   "source": [
    "Ahora usemos la factorización QR"
   ]
  },
  {
   "cell_type": "code",
   "execution_count": 127,
   "metadata": {},
   "outputs": [
    {
     "data": {
      "text/plain": [
       "array([[-1.36450007],\n",
       "       [ 2.20883656],\n",
       "       [-0.48675371],\n",
       "       [-0.85081159],\n",
       "       [ 1.57484597],\n",
       "       [-4.06067058]])"
      ]
     },
     "execution_count": 127,
     "metadata": {},
     "output_type": "execute_result"
    }
   ],
   "source": [
    "Solucion_SEL_QR_nxn(A,b)"
   ]
  },
  {
   "cell_type": "markdown",
   "metadata": {},
   "source": [
    "Por último usemos eliminación por bloques con QR"
   ]
  },
  {
   "cell_type": "code",
   "execution_count": 128,
   "metadata": {},
   "outputs": [
    {
     "data": {
      "text/plain": [
       "array([[-1.36450007],\n",
       "       [ 2.20883656],\n",
       "       [-0.48675371],\n",
       "       [-0.85081159],\n",
       "       [ 1.57484597],\n",
       "       [-4.06067058]])"
      ]
     },
     "execution_count": 128,
     "metadata": {},
     "output_type": "execute_result"
    }
   ],
   "source": [
    "eliminacion_bloques(A,b)"
   ]
  },
  {
   "cell_type": "code",
   "execution_count": null,
   "metadata": {},
   "outputs": [],
   "source": []
  }
 ],
 "metadata": {
  "kernelspec": {
   "display_name": "Python 3",
   "language": "python",
   "name": "python3"
  },
  "language_info": {
   "codemirror_mode": {
    "name": "ipython",
    "version": 3
   },
   "file_extension": ".py",
   "mimetype": "text/x-python",
   "name": "python",
   "nbconvert_exporter": "python",
   "pygments_lexer": "ipython3",
   "version": "3.7.4"
  }
 },
 "nbformat": 4,
 "nbformat_minor": 4
}
