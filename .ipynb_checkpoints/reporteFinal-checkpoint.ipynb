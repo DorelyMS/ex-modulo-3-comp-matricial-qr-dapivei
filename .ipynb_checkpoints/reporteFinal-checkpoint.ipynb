{
 "cells": [
  {
   "cell_type": "markdown",
   "metadata": {},
   "source": [
    "# Eliminación por Bloques con el apoyo el método matricial de factorización QR "
   ]
  },
  {
   "cell_type": "markdown",
   "metadata": {},
   "source": [
    "## Introducción"
   ]
  },
  {
   "cell_type": "markdown",
   "metadata": {},
   "source": [
    "Visualmente, la solución de sistemas de ecuaciones lineales (SEL) implica encontrar la intersección de rectas, planos o hiperplanos (dependiendo de las dimensiones en las que nos encontremos). Para la solución de este tipo de sistemas, existen diversos métodos, que son escogidos de conformidad con las características del sistema objeto de resolución (en específico, sus coeficientes).\n",
    "\n",
    "Un forma de resolver estos SEL consiste en la eliminación de un subconjunto de variables y resolver un sistema más pequeño (`eliminación por bloques`), para ello, en el presente trabajo se implementó un algoritmo directo basado en factorizaciones matriciales (FM): `factorización QR` que permiten encuentrar sistemas de ecuaciones equivalentes (es decir, sistemas de ecuaciones lineales que tengan un mismo conjunto de solución). Una vez calculada la FM de la matriz a resolver, se utilizaron métodos de sustitución hacia adelante y hacia atrás para resolver SEL triangulares.\n",
    "\n"
   ]
  },
  {
   "cell_type": "markdown",
   "metadata": {},
   "source": [
    "Para la implementación del presente trabajo, el equipo de programación desarrollo una serie funciones que permiten la implementación del algoritmo antes descrito; dichas funciones se encuentran principalmente en los siguientes el siguiente módulo:\n",
    "\n",
    "> [funciones_factorizacion_QR.py](https://github.com/mno-2020-gh-classroom/ex-modulo-3-comp-matricial-qr-dapivei/blob/master/Codigo/funciones_factorizacion_QR.py)\n",
    "\n",
    "La descripción explícita de las funciones implementadas, los parámetros, resultados esperados y ejemplos de implementación de las funciones, se encuentran en el siguiente documento auxiliar:\n",
    "> [Help_funciones_factorizacion_QR.txt](https://github.com/mno-2020-gh-classroom/ex-modulo-3-comp-matricial-qr-dapivei/blob/master/Codigo/Help_funciones_factorizacion_QR.txt)"
   ]
  },
  {
   "cell_type": "markdown",
   "metadata": {},
   "source": [
    "## Sobre los métodos empleados"
   ]
  },
  {
   "cell_type": "markdown",
   "metadata": {},
   "source": [
    "> Algoritmos"
   ]
  },
  {
   "cell_type": "markdown",
   "metadata": {},
   "source": [
    "## Funciones y módulos creados"
   ]
  },
  {
   "cell_type": "markdown",
   "metadata": {},
   "source": []
  },
  {
   "cell_type": "markdown",
   "metadata": {},
   "source": [
    "## Ejemplos de Aplicación"
   ]
  },
  {
   "cell_type": "markdown",
   "metadata": {},
   "source": [
    ">Tablas y gráficas "
   ]
  },
  {
   "cell_type": "markdown",
   "metadata": {},
   "source": [
    ">Errores relativos(condiciones de matrices)"
   ]
  },
  {
   "cell_type": "markdown",
   "metadata": {},
   "source": [
    ">Tiempos de ejecución"
   ]
  },
  {
   "cell_type": "markdown",
   "metadata": {},
   "source": [
    "## Pruebas"
   ]
  },
  {
   "cell_type": "markdown",
   "metadata": {},
   "source": []
  },
  {
   "cell_type": "markdown",
   "metadata": {},
   "source": []
  },
  {
   "cell_type": "markdown",
   "metadata": {},
   "source": []
  },
  {
   "cell_type": "markdown",
   "metadata": {},
   "source": [
    "## Conclusiones"
   ]
  },
  {
   "cell_type": "markdown",
   "metadata": {},
   "source": [
    "## Referencias"
   ]
  }
 ],
 "metadata": {
  "kernelspec": {
   "display_name": "Python 3",
   "language": "python",
   "name": "python3"
  },
  "language_info": {
   "codemirror_mode": {
    "name": "ipython",
    "version": 3
   },
   "file_extension": ".py",
   "mimetype": "text/x-python",
   "name": "python",
   "nbconvert_exporter": "python",
   "pygments_lexer": "ipython3",
   "version": "3.7.7"
  }
 },
 "nbformat": 4,
 "nbformat_minor": 4
}
