{
 "cells": [
  {
   "cell_type": "markdown",
   "metadata": {},
   "source": [
    "# Eliminación por Bloques con el apoyo el método matricial de factorización QR "
   ]
  },
  {
   "cell_type": "markdown",
   "metadata": {},
   "source": [
    "## Introducción"
   ]
  },
  {
   "cell_type": "markdown",
   "metadata": {},
   "source": [
    "Visualmente, la solución de sistemas de ecuaciones lineales (SEL) implica encontrar la intersección de rectas, planos o hiperplanos (dependiendo de las dimensiones en las que nos encontremos). Para la solución de este tipo de sistemas, existen diversos métodos, que son escogidos de conformidad con las características del sistema objeto de resolución (en específico, sus coeficientes).\n",
    "\n",
    "Un forma de resolver estos SEL consiste en la eliminación de un subconjunto de variables y resolver un sistema más pequeño (`eliminación por bloques`), para ello, en el presente trabajo se implementó un algoritmo directo basado en factorizaciones matriciales (FM): `factorización QR` que permiten encuentrar sistemas de ecuaciones equivalentes (es decir, sistemas de ecuaciones lineales que tengan un mismo conjunto de solución). Una vez calculada la FM de la matriz a resolver, se utilizaron métodos de sustitución hacia adelante y hacia atrás para resolver SEL triangulares.\n",
    "\n"
   ]
  },
  {
   "cell_type": "markdown",
   "metadata": {},
   "source": [
    "Para la implementación del presente trabajo, el equipo de programación desarrollo una serie funciones que permiten la implementación del algoritmo antes descrito; dichas funciones se encuentran principalmente en los siguientes el siguiente módulo:\n",
    "\n",
    "> [funciones_factorizacion_QR.py](https://github.com/mno-2020-gh-classroom/ex-modulo-3-comp-matricial-qr-dapivei/blob/master/Codigo/funciones_factorizacion_QR.py)\n",
    "\n",
    "La descripción explícita de las funciones implementadas, los parámetros, resultados esperados y ejemplos de implementación de las funciones, se encuentran en el siguiente documento auxiliar:\n",
    "> [Help_funciones_factorizacion_QR.txt](https://github.com/mno-2020-gh-classroom/ex-modulo-3-comp-matricial-qr-dapivei/blob/master/Codigo/Help_funciones_factorizacion_QR.txt)"
   ]
  },
  {
   "cell_type": "markdown",
   "metadata": {},
   "source": [
    "Durante la implementación de los métodos, gracias a los comentarios y revisiones del equipo revisor, se incluyeron las validaciones correspondientes sobre las condiciones necesarias para la aplicación del método de eliminación por bloques a la matriz $A$: matrix cuadrada ($nxn$) no singular. En caso de que no se cumplieran estas condiciones, el programa implementado arroja mensajes de error, como es esperado. Asimismo, se realizaron las mediciones de tiempo y errores relativos correspondientes para evaluar el desempeño del programa, ya sea por subdivisión de la matriz del sistema o no. "
   ]
  },
  {
   "cell_type": "markdown",
   "metadata": {},
   "source": [
    "El objeto del presente notebook es justamente reportar los hallazgos que obtuvimos durante la implementación del programa, ya sea durante de la programación del código o durante la revisión del algoritmo propuesto. Los detalles relacionados a la implementación del framwork de $scrum$ o la organización del trabajo son cubiertos en el [README.md](https://github.com/mno-2020-gh-classroom/ex-modulo-3-comp-matricial-qr-dapivei/blob/master/README.md) del repositorio."
   ]
  },
  {
   "cell_type": "markdown",
   "metadata": {},
   "source": [
    "## Sobre los métodos empleados"
   ]
  },
  {
   "cell_type": "markdown",
   "metadata": {},
   "source": [
    "> Algoritmos"
   ]
  },
  {
   "cell_type": "markdown",
   "metadata": {},
   "source": [
    "<p style='text-align: justify;'> Existen una gran cantidad de métodos para resolver SEL y por lo general se elige el método de acuerdo con los coeficientes de la matriz del sistema que determinan propiedades de la misma y sus dimensiones. Por lo que, para SEL no triangulares, más generales, es decir, que no cuentan con una estructura identificable, se tienen los métodos iterativos y directos o basados en factorizaciones matriciales (FM). Entre los directos o basados en FM se encuentra la factorización $QR$. \n",
    "    \n",
    "La factorización QR se calculó con reflexiones de Householder, la cual consiste en utilizar matrices simétricas, ortogonales. \n",
    "\n",
    "\n",
    "</p>"
   ]
  },
  {
   "cell_type": "markdown",
   "metadata": {},
   "source": [
    "![QR](https://github.com/mno-2020-gh-classroom/ex-modulo-3-comp-matricial-qr-dapivei/blob/master/Images/QR_descomposition.png)"
   ]
  },
  {
   "cell_type": "markdown",
   "metadata": {},
   "source": [
    "La factorización $QR$ con reflexiones de Householder se puede construir a partir de un vector ($v$), donde $v\\in \\mathbb{R}^{m}$ y debe ser diferente de cero. Una matrix $R$ de $m$x$m$ de la forma: $$R=I-\\beta v v^{T}, \\ \\ \\ \\beta=\\frac{{2}}{v^{T}v},$$ es una reflexión Householder. El vector $v$ es el vector Householder. Si un vector $x$ se multiplica por una matrix $R$, esto representa la reflexión del vector $x \\in \\mathbb{R}^{m}$ a través del hiperplano $span\\{v\\} ^{\\perp}$. \n",
    "\n",
    "Las reflexiones de Householder son similares a las transformaciones de Gauss, ya que son modificaciones en el rango 1 de la identidad, en particular suponemos que $0 \\neq x \\in \\mathbb{R}^{m}$ y queremos: $$Rx=\\left(I - \\frac{2vv^{T}}{v^{T}v}\\right)x = x - \\frac{2v^{T}x}{v^{T}v}v$$ debe ser un multiplo de $e_1=I_m(:,1)$. De esto concluimos que $v \\in span\\{x,e_1\\}$. Ajustando: $$v = x + \\alpha e_1$$ da $$v^{T}x = x^{T}x + \\alpha x_1$$ y $$v^{T}v = x^{T}.$$ Por tanto, $$Rx = \\left(1-2\\frac{x^Tx+\\alpha x_1}{x^Tx+2\\alpha x_1 + \\alpha_2}\\right)x - 2 \\alpha \\frac{v^Tx}{v^Tv}e_1.$$ Para que el coeficiente de $x = 0$, ajustamos $\\alpha = \\pm ||x||_2$, para ello: $$v = x \\pm ||x||_2 e_1 \\Rightarrow Rx=\\left(I - \\frac{2vv^{T}}{v^{T}v}\\right)x = \\mp ||x||_2 e_1.$$ Es esta simple determinación de $v$ que hace que las reflexiones de Householder sean tan útiles.\n",
    "    "
   ]
  },
  {
   "cell_type": "markdown",
   "metadata": {},
   "source": [
    "Ajustando la elección del signo en la definición de $v$ como sigue:$$v_1 = x_1 - ||x||_2,$$ se prueba que $Rx$ es un múltiplo positivo de $e_1$. Pero se debe tener cuidado si $x$ se encuentra cerca de un múltiplo de $e_1$ porque ocurriría una canselación severa. Sin embargo, la fórmula $$v_1=x_1-||x||_2 = \\frac{x_1^2-||x||_2^2}{x_1+||x||_2} = -\\frac{x_2^2+x_3^2+\\dots + x_m^2}{x_1+||x||_2}$$ no sufre esto en el caso de $x_1>0$. En la implementación del cálculo del vector de Householder, es útil que $v_1=1$ y así únicamente se almacenará $v(2:m)$. Al vector $v(2:m)$ se le nombra parte esencial del vector de Householder.\n",
    "    \n",
    "Recordando que $\\beta = \\frac{{2}}{v^{T}v}$, especificando la dimensión del vector $x$ y dado que $x \\in \\mathbb{R}^{m}$, el algoritmo que se uso para calcular el vector Householder con salida $v \\in \\mathbb{R}^m$ con $v_1 =1$ y $\\beta \\in \\mathbb{R}$ tal que $R=I_m-\\beta vv^T$ es ortogonal con $Rx = ||x||_2e_1$ es:\n",
    "\n",
    "* función [$v, \\beta$] = $house(x)$\n",
    "* $m =$ longitud de $x$\n",
    "* $norm\\text{_2_m} = x(2:m)^Tx(2:m)$\n",
    "*$v = \\left[\\begin{array}{c}\n",
    "1\\\\\n",
    "x(2:m)\n",
    "\\end{array}\n",
    "\\right]$\n",
    "\n",
    "* Se verifica si $x$ es un múltiplo del vector canónico $e_1$ y el $signo(x_1)$ con las siguientes condiciones:\n",
    "    \n",
    "    * Si $norm\\text{_2_m} = 0$ y $x_1 \\geq 0$, entonces hacer $\\beta=0$\n",
    "    * Si $norm\\text{_2_m} = 0$ y $x_1 <0$, entonces hacer $\\beta=2$\n",
    "    * En otro caso: \n",
    "        * $norm\\text{_x} = \\sqrt{x_1^2 + norm\\text{_2_m}}$ \n",
    "        * Si $x_1 \\leq 0$, entonces hacer $v_1 = x_1-norm\\text{_x}$\n",
    "        * En otro caso:\n",
    "          $v_1 = - \\frac{norm\\text{_2_m}}{x_1+norm\\text{_x}}$\n",
    "        * Definir: $\\beta = \\frac{2v_1^2}{norm\\text{_2_m}+v_1^2}$,\n",
    "        * Definir: $v = \\frac{v}{v_1}$\n",
    "\n",
    "En una situación típica house es aplicada a una subsolumna o subfila de una matriz y ($I-\\beta v v^{T}$) es aplicado a una submatriz. Si $A \\in \\mathbb{R}^{mxn}$ con $m \\geq n$, $1 \\leq j < n$ y $A(j:m, 1: j-1)$ es cero, entonces el algoritmo para calcular la factorización QR con reflexiones de Householder es el siguiente: \n",
    "\n",
    "* Se calcula [$v, \\beta$] = $house((A(j:m,j))$\n",
    "* $A(j:m, j:n) = A(j:m,j:n)-(\\beta v)(v^TA(j:m,j:n))$\n",
    "* $A(j+1:m,j) = v(2:m-j+1)$\n",
    "\n",
    "La parte triangular de la matriz $A$ se sobrescribe con la parte triangular superior de $R$ y las componentes $j+1:m$ del $j$-ésimo vector de Householder se almacenan en $A(j+1:m,j)$ para $j<m$. Si $v^{(j)} = [0, \\dots ,0,1,v_{j+1}^{(j)}, \\dots,v_m^{(j)}]^T$ es el $j$-ésimo vector de Householder para $j=1,\\dots,m$, entonces por ejemplo utilizando el algoritmo anterior con $m=4$ y $n=4$ se obtiene lo siguiente:    \n",
    "        \n",
    "$$A=\\begin{array}{l}\n",
    "\\left[ \\begin{array}{cccc}\n",
    "r_{11} & r_{12} & r_{13} & r_{14}\\\\\n",
    "v_2^{(1)} & r_{22} & r_{23} & r_{24}\\\\\n",
    "v_3^{(1)} & v_3^{(2)} & r_{33} & r_{34}\\\\\n",
    "v_4^{(1)} & v_4^{(2)} & v_4^{(3)} & r_{44}\\\\\n",
    "\\end{array}\n",
    "\\right]\n",
    "\\end{array}\n",
    "$$\n",
    "\n",
    "Donde los valores de las $\\beta's$ para cada vector Householder se pueden calcular con la expresión: $$\\beta_j = \\frac{2}{1+||A(j+1:m,j)||_2^2}$$ para $j=1,\\dots,m$.\n",
    "\n",
    "\n",
    "El almacenamiento de los vectores $v^{(1)}, v^{(2)}, \\dots, v^{(n)}$ y las $\\beta_j$'s correspondientes se le nombra *factor form representation* de $Q$.    \n",
    "\n",
    "Muchos algoritmos basados en la factorización de Householder tratan de realizar productos de matrices de Householder, es decir, típicamente no es necesario construír a la matriz $Q$ en la factorización $QR$. Para realizar la multiplicación $Q^TC$ con $C \\in \\mathbb{R}^{m \\times p}$ se realiza lo siguiente:\n",
    "\n",
    "* Para $j=1:n$\n",
    "  * $v(j:m) = \\left[\\begin{array}{c}\n",
    "1\\\\\n",
    "A(j+1:m,j)\n",
    "\\end{array}\n",
    "\\right]$\n",
    "\n",
    "   * $\\beta_j = \\frac{2}{1+||A(j+1:m,j)||_2^2}$\n",
    "\n",
    "    * $C(j:m,:) = C(j:m,:) - (\\beta_jv(j:m))(v(j:m)^TC(j:m,:))$"
   ]
  },
  {
   "cell_type": "markdown",
   "metadata": {},
   "source": [
    "### Eliminación por Bloque"
   ]
  },
  {
   "cell_type": "markdown",
   "metadata": {},
   "source": [
    "En términos generales, el método de eliminación por bloque consiste, en términos generales en encontrar un sistema de ecuaciones equivalentes; para ello elimina un subconjunto de variables. Para ello, considerés el siguiente sistema de ecuaciones lineals:"
   ]
  },
  {
   "cell_type": "markdown",
   "metadata": {},
   "source": [
    "$$\\left[\\begin{array}{c}\n",
    "A_{11} & A_{12}\\\\\n",
    "A_{21} & A_{22}\n",
    "\\end{array}\n",
    "\\right] \\times \\left[\\begin{array}{c}\n",
    "x_1\\\\\n",
    "x_2\n",
    "\\end{array}\n",
    "\\right] =\\left[\\begin{array}{c}\n",
    "b_1\\\\\n",
    "b_2\n",
    "\\end{array}\n",
    "\\right]$$"
   ]
  },
  {
   "cell_type": "markdown",
   "metadata": {},
   "source": [
    "Donde:"
   ]
  },
  {
   "cell_type": "markdown",
   "metadata": {},
   "source": [
    "+ $x_1 \\in R^{n_1}, x_2 \\in R^{n_2}$"
   ]
  },
  {
   "cell_type": "markdown",
   "metadata": {},
   "source": [
    "+ $A_{11} \\in R^{n_1xn_1}$"
   ]
  },
  {
   "cell_type": "markdown",
   "metadata": {},
   "source": [
    "+ $b_{1} \\in R^{n_1}, b_{2} \\in R^{n_2}$"
   ]
  },
  {
   "cell_type": "markdown",
   "metadata": {},
   "source": [
    "Si $A_{11}$ es invertible, entonces se puede obtener dos ecuaciones equivalentes al sistema original calculando el complemento de Schur ($S= A_{22}-A_{21}A_{11}^{-1}A_{12}$) del bloque $A_{11}$:"
   ]
  },
  {
   "cell_type": "markdown",
   "metadata": {},
   "source": [
    "Ecuación 1:"
   ]
  },
  {
   "cell_type": "markdown",
   "metadata": {},
   "source": [
    "$$x_{1}= A_{11}^{-1}(b_{1}-A_{12}x_{2}$$"
   ]
  },
  {
   "cell_type": "markdown",
   "metadata": {},
   "source": [
    "Sustituyendo $x_1$ en la segunda ecuación obtenemos la ecuación 2:\n",
    "$$(A_{22}-A_{21}A_{11}^{-1}A_{12})x_{2}=b_{2}-A_{21}A_{11}^{-1}b_{1}$$"
   ]
  },
  {
   "cell_type": "markdown",
   "metadata": {},
   "source": [
    "De esta, resolvemos $Sx_2= \\hat{b}$ y $A_{11}x_{1}=b_1-A_{12}x_{2}$, con el empleo de factorización QR. "
   ]
  },
  {
   "cell_type": "markdown",
   "metadata": {},
   "source": [
    "## Funciones y módulos creados"
   ]
  },
  {
   "cell_type": "markdown",
   "metadata": {},
   "source": [
    "Todas las función creadas para el proyecto se encuentran dentro del módulo *funciones_factorizacion_QR*. A continuación se enlistan y se da una breve descripción de las funcioines creadas para este proyecto:\n",
    "\n",
    "- *crear_matriz_aleatoria*: crea matrices aleatorias. Devuelve una matriz $A$ con con los renglones y columnas deseados.\n",
    "- *house*: calcula el vector de householder para un vector $\\vec{v}$ dado.\n",
    "- *matriz_auxiliar_Arv*: dada una matriz $A$, genera una matriz auxiliar que contiene los elementos $r$ distintos de cero de la matriz $R$ y las entradas de los vectores householder $\\vec{v}$ (excepto la primera entrada), con los cuales se puede calcular la matriz $Q$ correspondiente.\n",
    "- *Q_j*: calcula la j-esima iteración del proceso para la factorización $QR$, regresando la matriz $Q_j$ correspondiente con ayuda de la *matriz_auxiliar_Arv*.\n",
    "- *matriz_Q_R*: dada una matriz $A$, devuelve la matrices $Q$ y $R$ de la factorización $QR$ apoyándose de la función *Q_j* mediante la aplicación del método iterativo, en el que $Q=Q_1Q_2\\ldots Q_n$\n",
    "- *Solucion_SEL_QR_nxn*: obtiene la solución de un sistema de ecuaciones lineales $Ax=b$ con $n$ ecuaciones y $n$ incognitas usando la factorización $QR$ y usando el método de sustitución hacia adelante del paquete *scipy*.\n",
    "- *crear_bloques*: dada una matriz $A$, devuelve cuatro bloques que componen a esta matriz, en caso de no dar los argumentos para el tamaño de los bloques devuelve los bloques del mismo tamaño.\n",
    "- *eliminacion_bloques*: implementa el método de eliminación por bloques para resolver un sistemade ecuaciones usando la factorización $QR$.\n",
    "\n",
    "El módulo *funciones_factorización_QR* se encuentra en la siguiente liga [funciones](https://github.com/mno-2020-gh-classroom/ex-modulo-3-comp-matricial-qr-dapivei/blob/master/Codigo/funciones_factorizacion_QR.py)"
   ]
  },
  {
   "cell_type": "markdown",
   "metadata": {},
   "source": [
    "\n",
    "\n"
   ]
  },
  {
   "cell_type": "markdown",
   "metadata": {},
   "source": [
    "## Ejemplos de Aplicación"
   ]
  },
  {
   "cell_type": "markdown",
   "metadata": {},
   "source": [
    ">Tablas y gráficas "
   ]
  },
  {
   "cell_type": "markdown",
   "metadata": {},
   "source": [
    ">Errores relativos(condiciones de matrices)"
   ]
  },
  {
   "cell_type": "markdown",
   "metadata": {},
   "source": [
    ">Tiempos de ejecución"
   ]
  },
  {
   "cell_type": "markdown",
   "metadata": {},
   "source": [
    "## Pruebas"
   ]
  },
  {
   "cell_type": "markdown",
   "metadata": {},
   "source": []
  },
  {
   "cell_type": "markdown",
   "metadata": {},
   "source": []
  },
  {
   "cell_type": "markdown",
   "metadata": {},
   "source": []
  },
  {
   "cell_type": "markdown",
   "metadata": {},
   "source": [
    "## Conclusiones"
   ]
  },
  {
   "cell_type": "code",
   "execution_count": null,
   "metadata": {},
   "outputs": [],
   "source": []
  },
  {
   "cell_type": "code",
   "execution_count": null,
   "metadata": {},
   "outputs": [],
   "source": []
  },
  {
   "cell_type": "code",
   "execution_count": null,
   "metadata": {},
   "outputs": [],
   "source": []
  },
  {
   "cell_type": "markdown",
   "metadata": {},
   "source": [
    "## Referencias"
   ]
  }
 ],
 "metadata": {
  "kernelspec": {
   "display_name": "Python 3",
   "language": "python",
   "name": "python3"
  },
  "language_info": {
   "codemirror_mode": {
    "name": "ipython",
    "version": 3
   },
   "file_extension": ".py",
   "mimetype": "text/x-python",
   "name": "python",
   "nbconvert_exporter": "python",
   "pygments_lexer": "ipython3",
   "version": "3.7.7"
  }
 },
 "nbformat": 4,
 "nbformat_minor": 4
}
