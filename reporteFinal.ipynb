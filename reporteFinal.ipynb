{
 "cells": [
  {
   "cell_type": "markdown",
   "metadata": {},
   "source": [
    "# Eliminación por Bloques con el apoyo el método matricial de factorización QR "
   ]
  },
  {
   "cell_type": "markdown",
   "metadata": {},
   "source": [
    "## Introducción"
   ]
  },
  {
   "cell_type": "markdown",
   "metadata": {},
   "source": [
    "Visualmente, la solución de sistemas de ecuaciones lineales (SEL) implica encontrar la intersección de rectas, planos o hiperplanos (dependiendo de las dimensiones en las que nos encontremos). Para la solución de este tipo de sistemas, existen diversos métodos, que son escogidos de conformidad con las características del sistema objeto de resolución (en específico, sus coeficientes).\n",
    "\n",
    "Un forma de resolver estos SEL consiste en la eliminación de un subconjunto de variables y resolver un sistema más pequeño (`eliminación por bloques`), para ello, en el presente trabajo se implementó un algoritmo directo basado en factorizaciones matriciales (FM): `factorización QR` que permiten encuentrar sistemas de ecuaciones equivalentes (es decir, sistemas de ecuaciones lineales que tengan un mismo conjunto de solución). Una vez calculada la FM de la matriz a resolver, se utilizaron métodos de sustitución hacia adelante y hacia atrás para resolver SEL triangulares.\n",
    "\n"
   ]
  },
  {
   "cell_type": "markdown",
   "metadata": {},
   "source": [
    "Para la implementación del presente trabajo, el equipo de programación desarrollo una serie funciones que permiten la implementación del algoritmo antes descrito; dichas funciones se encuentran principalmente en los siguientes el siguiente módulo:\n",
    "\n",
    "> [funciones_factorizacion_QR.py](https://github.com/mno-2020-gh-classroom/ex-modulo-3-comp-matricial-qr-dapivei/blob/master/Codigo/funciones_factorizacion_QR.py)\n",
    "\n",
    "La descripción explícita de las funciones implementadas, los parámetros, resultados esperados y ejemplos de implementación de las funciones, se encuentran en el siguiente documento auxiliar:\n",
    "> [Help_funciones_factorizacion_QR.txt](https://github.com/mno-2020-gh-classroom/ex-modulo-3-comp-matricial-qr-dapivei/blob/master/Codigo/Help_funciones_factorizacion_QR.txt)"
   ]
  },
  {
   "cell_type": "markdown",
   "metadata": {},
   "source": [
    "## Sobre los métodos empleados"
   ]
  },
  {
   "cell_type": "markdown",
   "metadata": {},
   "source": [
    "> Algoritmos"
   ]
  },
  {
   "cell_type": "markdown",
   "metadata": {},
   "source": [
    "<p style='text-align: justify;'> Existen una gran cantidad de métodos para resolver SEL y por lo general se elige el método de acuerdo con los coeficientes de la matriz del sistema que determinan propiedades de la misma y sus dimensiones. Por lo que, para SEL no triangulares, más generales, es decir, que no cuentan con una estructura identificable, se tienen los métodos iterativos y directos o basados en factorizaciones matriciales (FM). Entre los directos o basados en FM se encuentra la factorización $QR$. \n",
    "    \n",
    "La factorización QR se calculó con reflexiones de Householder, la cual consiste en utilizar matrices simétricas, ortogonales. La factorización $QR$ con refleciones de Householder se puede construir a partir de un vector ($v$), donde $v\\in \\mathbb{R}^{m}$ y debe ser diferente de cero. Una matrix $R$ de $m$x$m$ de la forma: $$R=I-\\beta v v^{T}, \\ \\ \\ \\beta=\\frac{{2}}{v^{T}v},$$ es una reflexión Householder. El vector $v$ es el vector Householder. Si un vector $x$ se multiplica por una matrix $R$, esto representa la reflexión del vector $x \\in \\mathbb{R}^{m}$ a través del hiperplano $span\\{v\\} ^{\\perp}$. \n",
    "\n",
    "Las reflecciones de Householder son similares a las transformaciones de Gauss, ya que son modificaciones en el rango 1 de la identidad, en particular suponemos que $0 \\neq x \\in \\mathbb{R}^{m}$ y queremos: $$Rx=\\left(I - \\frac{2vv^{T}}{v^{T}v}\\right)x = x - \\frac{2v^{T}x}{v^{T}v}v$$ debe ser un multiplo de $e_1=I_m(:,1)$. De esto concluimos que $v \\in span\\{x,e_1\\}$. Ajustando: $$v = x + \\alpha e_1$$ da $$v^{T}x = x^{T}x + \\alpha x_1$$ y $$v^{T}v = x^{T}.$$ Por tanto, $$Rx = \\left(1-2\\frac{x^Tx+\\alpha x_1}{x^Tx+2\\alpha x_1 + \\alpha_2}\\right)x - 2 \\alpha \\frac{v^Tx}{v^Tv}e_1.$$ Para que el coeficiente de $x = 0$, ajustamos $\\alpha = \\pm ||x||_2$, para ello: $$v = x \\pm ||x||_2 e_1 \\Rightarrow Rx=\\left(I - \\frac{2vv^{T}}{v^{T}v}\\right)x = \\mp ||x||_2 e_1.$$ Es esta simple determinación de $v$ que hace que las reflexiones de Householder sean tan útiles.\n",
    "    \n",
    "\n",
    "\n",
    "\n",
    "\n",
    "</p>"
   ]
  },
  {
   "cell_type": "markdown",
   "metadata": {},
   "source": [
    "## Funciones y módulos creados"
   ]
  },
  {
   "cell_type": "markdown",
   "metadata": {},
   "source": []
  },
  {
   "cell_type": "markdown",
   "metadata": {},
   "source": [
    "## Ejemplos de Aplicación"
   ]
  },
  {
   "cell_type": "markdown",
   "metadata": {},
   "source": [
    ">Tablas y gráficas "
   ]
  },
  {
   "cell_type": "markdown",
   "metadata": {},
   "source": [
    ">Errores relativos(condiciones de matrices)"
   ]
  },
  {
   "cell_type": "markdown",
   "metadata": {},
   "source": [
    ">Tiempos de ejecución"
   ]
  },
  {
   "cell_type": "markdown",
   "metadata": {},
   "source": [
    "## Pruebas"
   ]
  },
  {
   "cell_type": "markdown",
   "metadata": {},
   "source": []
  },
  {
   "cell_type": "markdown",
   "metadata": {},
   "source": []
  },
  {
   "cell_type": "markdown",
   "metadata": {},
   "source": []
  },
  {
   "cell_type": "markdown",
   "metadata": {},
   "source": [
    "## Conclusiones"
   ]
  },
  {
   "cell_type": "markdown",
   "metadata": {},
   "source": [
    "## Referencias"
   ]
  }
 ],
 "metadata": {
  "kernelspec": {
   "display_name": "Python 3",
   "language": "python",
   "name": "python3"
  },
  "language_info": {
   "codemirror_mode": {
    "name": "ipython",
    "version": 3
   },
   "file_extension": ".py",
   "mimetype": "text/x-python",
   "name": "python",
   "nbconvert_exporter": "python",
   "pygments_lexer": "ipython3",
   "version": "3.7.4"
  }
 },
 "nbformat": 4,
 "nbformat_minor": 4
}
