{
 "cells": [
  {
   "cell_type": "markdown",
   "metadata": {},
   "source": [
    "# FUNCIONES"
   ]
  },
  {
   "cell_type": "code",
   "execution_count": 1,
   "metadata": {},
   "outputs": [],
   "source": [
    "import os\n",
    "import pprint\n",
    "import numpy as np\n",
    "import copy\n",
    "from math import sqrt\n",
    "from scipy.linalg import solve_triangular"
   ]
  },
  {
   "cell_type": "markdown",
   "metadata": {},
   "source": [
    "### Creación matrices"
   ]
  },
  {
   "cell_type": "code",
   "execution_count": 2,
   "metadata": {},
   "outputs": [],
   "source": [
    "def crea_matriz(renglones,columnas,maximo_valor,minimo_valor,entero=False):\n",
    "    \"\"\"\n",
    "    Función de apoyo para genear matrices aleatorias\n",
    "                            \n",
    "    params: renglones       no. de renglones de la matriz\n",
    "            columnas        no. de renglones de la matriz\n",
    "            maximo_valor    valor máximo de las entradas de la matriz\n",
    "            minimo_valor    valor mínimo de las entradas de la matriz\n",
    "            entero          Indica si las entradas serán enteras (True) o no\n",
    "            \n",
    "    return: M               Matriz con numeros al azar\n",
    "    \"\"\"\n",
    "    M=np.zeros((renglones, columnas))\n",
    "    for i in range(renglones):\n",
    "        for j in range(columnas):\n",
    "            if entero:\n",
    "                M[i][j]=(np.random.rand(1)*(maximo_valor+1-minimo_valor)+minimo_valor)//1\n",
    "            else:\n",
    "                M[i][j]=np.random.rand(1)*(maximo_valor-minimo_valor)+minimo_valor\n",
    "    return M"
   ]
  },
  {
   "cell_type": "markdown",
   "metadata": {},
   "source": [
    "### Factorización QR"
   ]
  },
  {
   "cell_type": "code",
   "execution_count": 3,
   "metadata": {},
   "outputs": [],
   "source": [
    "def house(x):\n",
    "    \"\"\"\n",
    "    Función que calcula la proyección de householder\n",
    "    \n",
    "    params: x       vector al que se le hará la reflexión householder\n",
    "                    \n",
    "    return: Beta    constante utilizada para obtener v\n",
    "            v       vector que representa la reflexión de householder\n",
    "    \"\"\"\n",
    "    m=len(x)\n",
    "    norm_2_m=x[1:m].dot(np.transpose(x[1:m]))\n",
    "    v=np.concatenate((1,x[1:m]), axis=None)\n",
    "    Beta=0\n",
    "    if (norm_2_m==0 and x[0]>=0):\n",
    "        Beta=0\n",
    "    elif (norm_2_m==0 and x[0]<0):\n",
    "        Beta=2\n",
    "    else:\n",
    "        norm_x=np.sqrt(pow(x[0],2)+norm_2_m)\n",
    "        if (x[0]<=0):\n",
    "            v[0]=x[0]-norm_x\n",
    "        else:\n",
    "            v[0]=-norm_2_m/(x[0]+norm_x)\n",
    "        Beta=2*pow(v[0],2)/(norm_2_m+pow(v[0],2))\n",
    "        v=v/v[0]\n",
    "    return Beta, v"
   ]
  },
  {
   "cell_type": "code",
   "execution_count": 4,
   "metadata": {},
   "outputs": [],
   "source": [
    "def factorizacion_QR(A):\n",
    "    \"\"\"\n",
    "    Función que genera una matriz que contendrá información escencial de las proyecciones householder\n",
    "    (vectores v's) y componentes de la matriz triangular superior R, del estilo:\n",
    "    [r11      r12      r13      r14    ]\n",
    "    [v_2_(1)  r22      r23      r24    ]\n",
    "    [v_3_(1)  v_3_(2)  r33      r34    ]\n",
    "    [v_4_(1)  v_4_(2)  v_4_(3)  r44    ]\n",
    "    [v_5_(1)  v_5_(2)  v_5_(3)  v_5_(4)]\n",
    "    \n",
    "    params: A      Matriz (mxn) de la que se desea obtener factorización QR\n",
    "            \n",
    "    return: A_r_v  Matriz (mxn) con la información esencial (es igual a la matriz R, pero en lugar de tener ceros\n",
    "                   en la parte inferior, contiene info de los vectores householder que serán útiles para\n",
    "                   futuros cálculos, que entre otros están el calcular la matriz ortonormal Q)\n",
    "    \"\"\"\n",
    "    m=A.shape[0]\n",
    "    n=A.shape[1]\n",
    "    A_r_v=copy.copy(A)\n",
    "    for j in range(n):\n",
    "        beta, v=house(A_r_v[j:m,j])\n",
    "        A_r_v[j:m,j:n]=A_r_v[j:m,j:n]-beta*(np.outer(v,v)@A_r_v[j:m,j:n])\n",
    "        A_r_v[(j+1):m,j]=v[1:(m-j)]\n",
    "    return A_r_v"
   ]
  },
  {
   "cell_type": "code",
   "execution_count": 5,
   "metadata": {},
   "outputs": [],
   "source": [
    "def QT_C(A_r_v,C):\n",
    "    \"\"\"\n",
    "    Función que calcula el producto matricial de Q_transpuesta por una matriz dada C\n",
    "                            \n",
    "    params: A_r_v   Matriz (mxn) con la información esencial (es igual a la matriz R, pero en lugar de tener ceros\n",
    "                    en la parte inferior, contiene información de los vectores householder que serán útiles para\n",
    "                    futuros cálculos, que entre otros están el calcular la matriz ortonormal Q)\n",
    "            C       Matriz (mxp) (si se pasa por ejemplo C=Identidad (mxm) la función devolverá Q)\n",
    "\n",
    "    return: M       Matriz con número al azar\n",
    "    \"\"\"\n",
    "    m=A_r_v.shape[0]\n",
    "    n=A_r_v.shape[1]\n",
    "    QT_por_C=np.eye(m)\n",
    "    for j in range(n-1,-1,-1):\n",
    "        v=np.concatenate((1,A_r_v[(j+1):m,j]), axis=None)\n",
    "        beta=2/(1+A_r_v[(j+1):m,j].dot(A_r_v[(j+1):m,j]))\n",
    "        QT_por_C[j:m,j:m]=C[j:m,j:m]-beta*np.outer(v,v)@C[j:m,j:m]\n",
    "    return QT_por_C"
   ]
  },
  {
   "cell_type": "code",
   "execution_count": 6,
   "metadata": {},
   "outputs": [],
   "source": [
    "def Q_j(A_r_v,j):\n",
    "    \"\"\"\n",
    "    Función que calcula la matriz Qj (en el proceso de obtención de factorización QR se van obteniendo n Qj's,\n",
    "    que si se multiplican todas da por resultado Q=Q1*Q2*...*Qn)\n",
    "                            \n",
    "    params: A_r_v   Matriz (mxn) con la información esencial (es igual a la matriz R, pero en lugar de tener ceros\n",
    "                    en la parte inferior, contiene información de los vectores householder que serán útiles para\n",
    "                    futuros cálculos, que entre otros están el calcular la matriz ortonormal Q)\n",
    "            C       Matriz (mxp) (si se pasa por ejemplo C=Identidad (mxm) la función devolverá Q)\n",
    "\n",
    "    return: Qj      Matriz Q de la j-esima iteración del proceso iterativo de factorización QR\n",
    "    \"\"\"\n",
    "    m=A_r_v.shape[0]\n",
    "    n=A_r_v.shape[1]\n",
    "    Qj=np.eye(m)\n",
    "    v=np.concatenate((1,A_r_v[(j+1):m,j]), axis=None)\n",
    "    beta=2/(1+A_r_v[(j+1):m,j].dot(A_r_v[(j+1):m,j]))\n",
    "    Qj[j:m,j:m]=np.eye(m-j)-beta*np.outer(v,v)\n",
    "    return Qj"
   ]
  },
  {
   "cell_type": "markdown",
   "metadata": {},
   "source": [
    "### Funciones para solución de Sistemas de Ecuaciones Lineales"
   ]
  },
  {
   "cell_type": "code",
   "execution_count": 7,
   "metadata": {},
   "outputs": [],
   "source": [
    "def Solucion_SEL_QR_nxn(A,b):\n",
    "    \"\"\"\n",
    "    Función que obtiene la solución de un sistema de ecuaciones lineales (SEL) con n ecuaciones y n incognitas\n",
    "            \n",
    "    params: A   Matriz (nxn) que representa los coeficientes de las ecuaciones\n",
    "            b   vector (nx1) constantes del sistema\n",
    "\n",
    "    return: x   vector que satisface (Ax=b)\n",
    "    \"\"\"\n",
    "    A_r_v=factorizacion_QR(A)\n",
    "    m=A_r_v.shape[0]\n",
    "    #Q=np.transpose(QT_C(A_r_v,np.eye(m)))\n",
    "    #R=np.transpose(Q)@A\n",
    "    n=A_r_v.shape[0]\n",
    "    Q=np.eye(m)\n",
    "    R=copy.copy(A)\n",
    "    for j in range(m):\n",
    "        Qj=Q_j(A_r_v,j)\n",
    "        Q=Q@Qj\n",
    "        R=Q_j(A_r_v,j)@R\n",
    "    b_prima=np.transpose(Q)@b\n",
    "    x = solve_triangular(R, np.transpose(Q)@b)\n",
    "    return x"
   ]
  },
  {
   "cell_type": "markdown",
   "metadata": {},
   "source": [
    "#### Eliminación por bloques"
   ]
  },
  {
   "cell_type": "code",
   "execution_count": 8,
   "metadata": {},
   "outputs": [],
   "source": [
    "def bloques(A, b=False, n1=False, n2=False):\n",
    "    \"\"\"\n",
    "    Esta es la función para la creación de bloques usando un arreglo de numpy\n",
    "    \n",
    "    params: A   Matriz (nxn) que representa los coeficientas de las ecuaciones\n",
    "            b   vector (nx1) constantes del sistema\n",
    "            n1  Numero de renglones que tendrá el 1er bloque\n",
    "            n2  Numero de renglones que tendrá el 2do bloque\n",
    "    \n",
    "    return: A11 Fraccion de la matriz dividida\n",
    "            A12 Fraccion de la matriz dividida\n",
    "            A12 Fraccion de la matriz dividida\n",
    "            A12 Fraccion de la matriz dividida\n",
    "            b1  Fraccion del vector dividido\n",
    "            b2  Fraccion del vector dividido\n",
    "    \"\"\"\n",
    "\n",
    "    # Primero definimos el n\n",
    "    m,n = A.shape\n",
    "\n",
    "    # Condiciones de A\n",
    "    # Si no se dan los n deseados, se intentan hacer los bloques casi iguales\n",
    "    if  not (n1&n2):\n",
    "        n1 = n//2\n",
    "        n2 = n - n1\n",
    "    # Los bloques deben cumplir la condicion de tamaño\n",
    "    elif n1+n1 != n:\n",
    "        sys.exit('n1 + n2 debe ser igual a n')\n",
    "    else:\n",
    "        None\n",
    "\n",
    "    # Condiciones de b\n",
    "    if  b is False:\n",
    "        b1 = None\n",
    "        b2 = None\n",
    "        print('condicion1')\n",
    "    elif len(b) == m:\n",
    "        b1 = b[:n1]\n",
    "        b2 = b[n1:m]\n",
    "    else:\n",
    "        sys.exit('los renglones de A y b deben ser del mismo tamaño')\n",
    "\n",
    "    A11 = A[:n1,:n1]\n",
    "    A12 = A[:n1,n1:n]\n",
    "    A21 = A[n1:m,:n1]\n",
    "    A22 = A[n1:m,n1:n]\n",
    "\n",
    "    return A11,A12,A21,A22,b1,b2"
   ]
  },
  {
   "cell_type": "code",
   "execution_count": 9,
   "metadata": {},
   "outputs": [],
   "source": [
    "def eliminacion_bloques(A,b):\n",
    "    \"\"\"\n",
    "    Función que obtiene la solución de un sistema de ecuaciones lineala (SEL) con n ecuaciones y n incognitas\n",
    "            \n",
    "    params: A   Matriz (nxn) que representa los coeficientas de las ecuaciones\n",
    "            b   vector (nx1) constantes del sistema\n",
    "    \n",
    "    return: x1 Solucion al 1er sistema de ecuaciones obtenido con la división por bloques\n",
    "            x2 Solucion al 2do sistema de ecuaciones obtenido con la división por bloques\n",
    "    \"\"\"\n",
    "    if np.linalg.det(A)==0:\n",
    "        sys.exit('A debe ser no singular')\n",
    "\n",
    "    A11,A12,A21,A22,b1,b2 = bloques(A,b)\n",
    "\n",
    "    if np.linalg.det(A11)==0:\n",
    "        ys.exit('A11 debe ser no singular')\n",
    "\n",
    "    ## 1. Calcular A11^{-1}A12 y A11^{-1}b1 teniendo cuidado en no calcular la inversa sino un sistema de ecuaciones lineales\n",
    "    ## Aquí se debe usar el método QR una vez que esté desarrollado\n",
    "\n",
    "    ## Definimos y = A11^{-1}b1, por tanto A11y=b1. Resolviendo el sistema anterior para 11y:\n",
    "    y = Solucion_SEL_QR_nxn(A11,b1)\n",
    "    #y = np.linalg.solve(A11,b1)\n",
    "\n",
    "    ## Definimos Y = A11^{-1}A12\n",
    "    Y = Solucion_SEL_QR_nxn(A11,A12)\n",
    "    #Y = np.linalg.solve(A11,A12)\n",
    "\n",
    "    ## 2. Calcular el complemento de Schur del bloque A11 en A. Calcular b_hat\n",
    "    S = A22 - A21@Y\n",
    "    b_h = b2 - A21@y\n",
    "\n",
    "    ## 3. Resolver Sx2 = b_hat\n",
    "    x2 = Solucion_SEL_QR_nxn(S,b_h)\n",
    "    #x2 = np.linalg.solve(S,b_h)\n",
    "\n",
    "    ## 4. Resolver A11x1 = b1-A12X2\n",
    "    x1 = Solucion_SEL_QR_nxn(A11,b1-A12@x2)\n",
    "    #x1 = np.linalg.solve(A11,b1-A12@x2)\n",
    "\n",
    "    return np.concatenate((x1,x2), axis=0)"
   ]
  },
  {
   "cell_type": "code",
   "execution_count": null,
   "metadata": {},
   "outputs": [],
   "source": []
  },
  {
   "cell_type": "markdown",
   "metadata": {},
   "source": [
    "# Prueba Precisión - Factorización QR"
   ]
  },
  {
   "cell_type": "markdown",
   "metadata": {},
   "source": [
    "Verificaremos que la factorización QR de una matriz obtenida con la función de numpy, es igual a la obtenida con la función implementada por los programadores."
   ]
  },
  {
   "cell_type": "markdown",
   "metadata": {},
   "source": [
    "Empezaremos por generar una matriz aleatoria con la función crea_matriz"
   ]
  },
  {
   "cell_type": "code",
   "execution_count": 10,
   "metadata": {},
   "outputs": [
    {
     "data": {
      "text/plain": [
       "array([[ 2.61, -1.09, -0.86],\n",
       "       [-5.45,  1.42,  2.8 ],\n",
       "       [-1.72,  0.2 , -2.33],\n",
       "       [ 5.98, -1.13,  5.22],\n",
       "       [ 4.05,  3.11, -1.45]])"
      ]
     },
     "execution_count": 10,
     "metadata": {},
     "output_type": "execute_result"
    }
   ],
   "source": [
    "# Generamos una matriz aleatoria de tamaño definido (renglones y columnas) y valores aleatorios comprendidos en un rango, pudiendo ser sus entradas de tipo enteros o dobles\n",
    "m=5\n",
    "n=3\n",
    "A=np.round(crea_matriz(m,n,6,-6,False),2)\n",
    "A"
   ]
  },
  {
   "cell_type": "markdown",
   "metadata": {},
   "source": [
    "### Implementación programadores"
   ]
  },
  {
   "cell_type": "markdown",
   "metadata": {},
   "source": [
    "Utilazaremos la función factorizacion_QR para obtener la factorización de la matriz A creada anteriormente."
   ]
  },
  {
   "cell_type": "code",
   "execution_count": 11,
   "metadata": {},
   "outputs": [
    {
     "data": {
      "text/plain": [
       "array([[ 9.5727, -0.5317,  1.2375],\n",
       "       [ 0.7827,  3.7297, -1.4217],\n",
       "       [ 0.247 , -0.1804,  6.3093],\n",
       "       [-0.8589,  0.8595,  0.2295],\n",
       "       [-0.5817, -1.4873, -0.8567]])"
      ]
     },
     "execution_count": 11,
     "metadata": {},
     "output_type": "execute_result"
    }
   ],
   "source": [
    "A_r_v = factorizacion_QR(A)\n",
    "np.round(A_r_v,4)"
   ]
  },
  {
   "cell_type": "markdown",
   "metadata": {},
   "source": [
    "Utilizamos la función QT_C para obetener Q."
   ]
  },
  {
   "cell_type": "code",
   "execution_count": 12,
   "metadata": {},
   "outputs": [
    {
     "data": {
      "text/plain": [
       "array([[ 0.2727, -0.5693, -0.1797,  0.6247,  0.4231],\n",
       "       [-0.5693,  0.5544, -0.1406,  0.489 ,  0.3312],\n",
       "       [-0.1797, -0.1406,  0.9556,  0.1543,  0.1045],\n",
       "       [ 0.6247,  0.489 ,  0.1543,  0.4635, -0.3634],\n",
       "       [ 0.4231,  0.3312,  0.1045, -0.3634,  0.7539]])"
      ]
     },
     "execution_count": 12,
     "metadata": {},
     "output_type": "execute_result"
    }
   ],
   "source": [
    "Q=np.transpose(QT_C(A_r_v,np.eye(m)))\n",
    "np.round(Q,4)"
   ]
  },
  {
   "cell_type": "markdown",
   "metadata": {},
   "source": [
    "Ahora resolvemos y obtenemos R."
   ]
  },
  {
   "cell_type": "code",
   "execution_count": 13,
   "metadata": {},
   "outputs": [
    {
     "data": {
      "text/plain": [
       "array([[ 9.5727, -0.5317,  1.2375],\n",
       "       [ 0.    ,  1.857 ,  4.4418],\n",
       "       [-0.    ,  0.3379, -1.8119],\n",
       "       [ 0.    , -1.6095,  3.4185],\n",
       "       [ 0.    ,  2.7853, -2.6701]])"
      ]
     },
     "execution_count": 13,
     "metadata": {},
     "output_type": "execute_result"
    }
   ],
   "source": [
    "R=np.transpose(Q)@A\n",
    "np.round(R,4)"
   ]
  },
  {
   "cell_type": "markdown",
   "metadata": {},
   "source": [
    "Calcularemos la multiplicación de las matrices Q y R para validar que obtenemos A."
   ]
  },
  {
   "cell_type": "code",
   "execution_count": 14,
   "metadata": {},
   "outputs": [
    {
     "name": "stdout",
     "output_type": "stream",
     "text": [
      "Q@R:\n",
      "array([[ 2.61, -1.09, -0.86],\n",
      "       [-5.45,  1.42,  2.8 ],\n",
      "       [-1.72,  0.2 , -2.33],\n",
      "       [ 5.98, -1.13,  5.22],\n",
      "       [ 4.05,  3.11, -1.45]])\n",
      "A:\n",
      "array([[ 2.61, -1.09, -0.86],\n",
      "       [-5.45,  1.42,  2.8 ],\n",
      "       [-1.72,  0.2 , -2.33],\n",
      "       [ 5.98, -1.13,  5.22],\n",
      "       [ 4.05,  3.11, -1.45]])\n"
     ]
    }
   ],
   "source": [
    "print('Q@R:')\n",
    "pprint.pprint(Q@R)\n",
    "print('A:')\n",
    "pprint.pprint(A)"
   ]
  },
  {
   "cell_type": "markdown",
   "metadata": {},
   "source": [
    "### Implementación Numpy"
   ]
  },
  {
   "cell_type": "markdown",
   "metadata": {},
   "source": [
    "Obtenemos Q y R con la función *numpy.linalg.qr()*"
   ]
  },
  {
   "cell_type": "code",
   "execution_count": 15,
   "metadata": {},
   "outputs": [
    {
     "name": "stdout",
     "output_type": "stream",
     "text": [
      "Q_np:\n",
      "array([[-0.27265137,  0.25337866, -0.24688273],\n",
      "       [ 0.56932949, -0.29956334,  0.62296543],\n",
      "       [ 0.1796783 , -0.02800876, -0.32774543],\n",
      "       [-0.62469547,  0.21391659,  0.65662448],\n",
      "       [-0.42307971, -0.89415673, -0.11131136]])\n",
      "R_np:\n",
      "array([[-9.57266421,  0.53170151, -1.23749248],\n",
      "       [ 0.        , -3.72971762,  1.42174929],\n",
      "       [ 0.        ,  0.        ,  6.30925046]])\n"
     ]
    }
   ],
   "source": [
    "Q_np, R_np = np.linalg.qr(A)\n",
    "print('Q_np:')\n",
    "pprint.pprint(Q_np)\n",
    "print('R_np:')\n",
    "pprint.pprint(R_np)"
   ]
  },
  {
   "cell_type": "markdown",
   "metadata": {},
   "source": [
    "Calcularemos la multiplicación de las matrices Q y R para validar que obtenemos A."
   ]
  },
  {
   "cell_type": "code",
   "execution_count": 16,
   "metadata": {},
   "outputs": [
    {
     "name": "stdout",
     "output_type": "stream",
     "text": [
      "Q_np@R_np:\n",
      "array([[ 2.61, -1.09, -0.86],\n",
      "       [-5.45,  1.42,  2.8 ],\n",
      "       [-1.72,  0.2 , -2.33],\n",
      "       [ 5.98, -1.13,  5.22],\n",
      "       [ 4.05,  3.11, -1.45]])\n",
      "A:\n",
      "array([[ 2.61, -1.09, -0.86],\n",
      "       [-5.45,  1.42,  2.8 ],\n",
      "       [-1.72,  0.2 , -2.33],\n",
      "       [ 5.98, -1.13,  5.22],\n",
      "       [ 4.05,  3.11, -1.45]])\n"
     ]
    }
   ],
   "source": [
    "print('Q_np@R_np:')\n",
    "pprint.pprint(Q_np@R_np)\n",
    "print('A:')\n",
    "pprint.pprint(A)"
   ]
  },
  {
   "cell_type": "markdown",
   "metadata": {},
   "source": [
    "### Comparación"
   ]
  },
  {
   "cell_type": "markdown",
   "metadata": {},
   "source": [
    "**Validación A = QR**"
   ]
  },
  {
   "cell_type": "markdown",
   "metadata": {},
   "source": [
    "Valores obtenidos con la función implementada por los programadores."
   ]
  },
  {
   "cell_type": "code",
   "execution_count": 17,
   "metadata": {},
   "outputs": [
    {
     "name": "stdout",
     "output_type": "stream",
     "text": [
      "Q@R:\n",
      "array([[ 2.61, -1.09, -0.86],\n",
      "       [-5.45,  1.42,  2.8 ],\n",
      "       [-1.72,  0.2 , -2.33],\n",
      "       [ 5.98, -1.13,  5.22],\n",
      "       [ 4.05,  3.11, -1.45]])\n",
      "A:\n",
      "array([[ 2.61, -1.09, -0.86],\n",
      "       [-5.45,  1.42,  2.8 ],\n",
      "       [-1.72,  0.2 , -2.33],\n",
      "       [ 5.98, -1.13,  5.22],\n",
      "       [ 4.05,  3.11, -1.45]])\n"
     ]
    }
   ],
   "source": [
    "print('Q@R:')\n",
    "pprint.pprint(Q@R)\n",
    "print('A:')\n",
    "pprint.pprint(A)"
   ]
  },
  {
   "cell_type": "markdown",
   "metadata": {},
   "source": [
    "Valores obtenidos con la función de numpy."
   ]
  },
  {
   "cell_type": "code",
   "execution_count": 18,
   "metadata": {},
   "outputs": [
    {
     "name": "stdout",
     "output_type": "stream",
     "text": [
      "Q_np@R_np:\n",
      "array([[ 2.61, -1.09, -0.86],\n",
      "       [-5.45,  1.42,  2.8 ],\n",
      "       [-1.72,  0.2 , -2.33],\n",
      "       [ 5.98, -1.13,  5.22],\n",
      "       [ 4.05,  3.11, -1.45]])\n",
      "A:\n",
      "array([[ 2.61, -1.09, -0.86],\n",
      "       [-5.45,  1.42,  2.8 ],\n",
      "       [-1.72,  0.2 , -2.33],\n",
      "       [ 5.98, -1.13,  5.22],\n",
      "       [ 4.05,  3.11, -1.45]])\n"
     ]
    }
   ],
   "source": [
    "print('Q_np@R_np:')\n",
    "pprint.pprint(Q_np@R_np)\n",
    "print('A:')\n",
    "pprint.pprint(A)"
   ]
  },
  {
   "cell_type": "markdown",
   "metadata": {},
   "source": [
    "Las dos funciones cumplen que A = QR.\n",
    "\n",
    "Podemos ver que obtenemos los mismos resultados al multiplicar las matrices Q y R obtenidas por cada función respectivamente."
   ]
  },
  {
   "cell_type": "markdown",
   "metadata": {},
   "source": [
    "**Validación Q**"
   ]
  },
  {
   "cell_type": "markdown",
   "metadata": {},
   "source": [
    "Valores obtenidos con la función implementada por los programadores."
   ]
  },
  {
   "cell_type": "code",
   "execution_count": 19,
   "metadata": {},
   "outputs": [
    {
     "name": "stdout",
     "output_type": "stream",
     "text": [
      "Q:\n",
      "array([[ 0.27265137, -0.56932949, -0.1796783 ,  0.62469547,  0.42307971],\n",
      "       [-0.56932949,  0.55435942, -0.14064253,  0.4889781 ,  0.3311641 ],\n",
      "       [-0.1796783 , -0.14064253,  0.95561373,  0.15431969,  0.10451417],\n",
      "       [ 0.62469547,  0.4889781 ,  0.15431969,  0.4634699 , -0.36336905],\n",
      "       [ 0.42307971,  0.3311641 ,  0.10451417, -0.36336905,  0.75390558]])\n"
     ]
    }
   ],
   "source": [
    "print('Q:')\n",
    "pprint.pprint(Q)"
   ]
  },
  {
   "cell_type": "markdown",
   "metadata": {},
   "source": [
    "Valores obtenidos con la función de numpy."
   ]
  },
  {
   "cell_type": "code",
   "execution_count": 20,
   "metadata": {},
   "outputs": [
    {
     "name": "stdout",
     "output_type": "stream",
     "text": [
      "Q_np:\n",
      "array([[-0.27265137,  0.25337866, -0.24688273],\n",
      "       [ 0.56932949, -0.29956334,  0.62296543],\n",
      "       [ 0.1796783 , -0.02800876, -0.32774543],\n",
      "       [-0.62469547,  0.21391659,  0.65662448],\n",
      "       [-0.42307971, -0.89415673, -0.11131136]])\n"
     ]
    }
   ],
   "source": [
    "print('Q_np:')\n",
    "pprint.pprint(Q_np)"
   ]
  },
  {
   "cell_type": "markdown",
   "metadata": {},
   "source": [
    "Por alguna razón, al comparar los valores de Q obtenidos por las dos funciones tenemos diferencias. \n"
   ]
  },
  {
   "cell_type": "markdown",
   "metadata": {},
   "source": [
    "**Validación R**"
   ]
  },
  {
   "cell_type": "markdown",
   "metadata": {},
   "source": [
    "Valores obtenidos con la función implementada por los programadores."
   ]
  },
  {
   "cell_type": "code",
   "execution_count": 21,
   "metadata": {},
   "outputs": [
    {
     "name": "stdout",
     "output_type": "stream",
     "text": [
      "R:\n",
      "array([[ 9.57266421e+00, -5.31701509e-01,  1.23749248e+00],\n",
      "       [ 6.35062829e-16,  1.85700611e+00,  4.44180459e+00],\n",
      "       [-4.63210225e-17,  3.37917524e-01, -1.81185250e+00],\n",
      "       [ 1.14423920e-15, -1.60950395e+00,  3.41853368e+00],\n",
      "       [ 9.09689110e-16,  2.78525234e+00, -2.67005662e+00]])\n"
     ]
    }
   ],
   "source": [
    "print('R:')\n",
    "pprint.pprint(R)"
   ]
  },
  {
   "cell_type": "markdown",
   "metadata": {},
   "source": [
    "Valores obtenidos con la función de numpy."
   ]
  },
  {
   "cell_type": "code",
   "execution_count": 22,
   "metadata": {},
   "outputs": [
    {
     "name": "stdout",
     "output_type": "stream",
     "text": [
      "R_np:\n",
      "array([[-9.57266421,  0.53170151, -1.23749248],\n",
      "       [ 0.        , -3.72971762,  1.42174929],\n",
      "       [ 0.        ,  0.        ,  6.30925046]])\n"
     ]
    }
   ],
   "source": [
    "print('R_np:')\n",
    "pprint.pprint(R_np)"
   ]
  },
  {
   "cell_type": "markdown",
   "metadata": {},
   "source": [
    "Por alguna razón, al comparar los valores de R obtenidos por las dos funciones tenemos diferencias. \n"
   ]
  },
  {
   "cell_type": "markdown",
   "metadata": {},
   "source": [
    "Tanto las funciones implementadas por los programadores para obtener la factorización $QR$ de una matriz, como la función *linalg.qr* de la librería numpy consideran una matriz de entrada A de dimensiones $mxn$. Como resultado se obtienen las siguientes dos matrices:\n",
    "\n",
    "+ Función implementa por los programadores:\n",
    "    + matriz ortogonal $Q$ de dimensiones $mxm$\n",
    "    + matriz triangular superior $R$ de dimensiones $mxn$\n",
    "\n",
    "+ Función linalg.qr de numpy\n",
    "    + matriz con columnas ortonormales $Q$ de dimensiones $mxn$\n",
    "    + matriz traingular superior $R$ con dimensiones $nxn$\n",
    "    \n",
    " \n",
    "En el caso de la función implementada en numpy, se obtiene lo que se conoce como \"Factorización thin QR\", en donde $Q$ ya no es una matriz ortogonal, si no una matriz con entradas ortonormales.\n",
    "\n",
    "Lo anterior muestra por qué en las secciones de **Validación Q** y **Validación R** se obtienen matrices distintas; sin embargo, como se demuestra en la sección **Comparación A=QR**, al multiplicar uno u otro par de matrices $QR$, se recupera la matriz original $A$."
   ]
  }
 ],
 "metadata": {
  "kernelspec": {
   "display_name": "Python 3",
   "language": "python",
   "name": "python3"
  },
  "language_info": {
   "codemirror_mode": {
    "name": "ipython",
    "version": 3
   },
   "file_extension": ".py",
   "mimetype": "text/x-python",
   "name": "python",
   "nbconvert_exporter": "python",
   "pygments_lexer": "ipython3",
   "version": "3.7.3"
  }
 },
 "nbformat": 4,
 "nbformat_minor": 4
}
