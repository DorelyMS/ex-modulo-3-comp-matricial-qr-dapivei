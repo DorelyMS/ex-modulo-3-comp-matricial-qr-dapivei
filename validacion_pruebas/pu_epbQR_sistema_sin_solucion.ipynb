{
 "cells": [
  {
   "cell_type": "markdown",
   "metadata": {},
   "source": [
    "# FUNCIONES"
   ]
  },
  {
   "cell_type": "code",
   "execution_count": 1,
   "metadata": {},
   "outputs": [],
   "source": [
    "import os\n",
    "import numpy as np\n",
    "import pprint\n",
    "import copy\n",
    "from math import sqrt\n",
    "from scipy.linalg import solve_triangular"
   ]
  },
  {
   "cell_type": "markdown",
   "metadata": {},
   "source": [
    "### Creación matrices"
   ]
  },
  {
   "cell_type": "code",
   "execution_count": 2,
   "metadata": {},
   "outputs": [],
   "source": [
    "def crea_matriz(renglones,columnas,maximo_valor,minimo_valor,entero=False):\n",
    "    \"\"\"\n",
    "    Función de apoyo para genear matrices aleatorias\n",
    "                            \n",
    "    params: renglones       no. de renglones de la matriz\n",
    "            columnas        no. de renglones de la matriz\n",
    "            maximo_valor    valor máximo de las entradas de la matriz\n",
    "            minimo_valor    valor mínimo de las entradas de la matriz\n",
    "            entero          Indica si las entradas serán enteras (True) o no\n",
    "            \n",
    "    return: M               Matriz con numeros al azar\n",
    "    \"\"\"\n",
    "    M=np.zeros((renglones, columnas))\n",
    "    for i in range(renglones):\n",
    "        for j in range(columnas):\n",
    "            if entero:\n",
    "                M[i][j]=(np.random.rand(1)*(maximo_valor+1-minimo_valor)+minimo_valor)//1\n",
    "            else:\n",
    "                M[i][j]=np.random.rand(1)*(maximo_valor-minimo_valor)+minimo_valor\n",
    "    return M"
   ]
  },
  {
   "cell_type": "markdown",
   "metadata": {},
   "source": [
    "### Factorización QR"
   ]
  },
  {
   "cell_type": "code",
   "execution_count": 3,
   "metadata": {},
   "outputs": [],
   "source": [
    "def house(x):\n",
    "    \"\"\"\n",
    "    Función que calcula la proyección de householder\n",
    "    \n",
    "    params: x       vector al que se le hará la reflexión householder\n",
    "                    \n",
    "    return: Beta    constante utilizada para obtener v\n",
    "            v       vector que representa la reflexión de householder\n",
    "    \"\"\"\n",
    "    m=len(x)\n",
    "    norm_2_m=x[1:m].dot(np.transpose(x[1:m]))\n",
    "    v=np.concatenate((1,x[1:m]), axis=None)\n",
    "    Beta=0\n",
    "    if (norm_2_m==0 and x[0]>=0):\n",
    "        Beta=0\n",
    "    elif (norm_2_m==0 and x[0]<0):\n",
    "        Beta=2\n",
    "    else:\n",
    "        norm_x=np.sqrt(pow(x[0],2)+norm_2_m)\n",
    "        if (x[0]<=0):\n",
    "            v[0]=x[0]-norm_x\n",
    "        else:\n",
    "            v[0]=-norm_2_m/(x[0]+norm_x)\n",
    "        Beta=2*pow(v[0],2)/(norm_2_m+pow(v[0],2))\n",
    "        v=v/v[0]\n",
    "    return Beta, v"
   ]
  },
  {
   "cell_type": "code",
   "execution_count": 4,
   "metadata": {},
   "outputs": [],
   "source": [
    "def factorizacion_QR(A):\n",
    "    \"\"\"\n",
    "    Función que genera una matriz que contendrá información escencial de las proyecciones householder\n",
    "    (vectores v's) y componentes de la matriz triangular superior R, del estilo:\n",
    "    [r11      r12      r13      r14    ]\n",
    "    [v_2_(1)  r22      r23      r24    ]\n",
    "    [v_3_(1)  v_3_(2)  r33      r34    ]\n",
    "    [v_4_(1)  v_4_(2)  v_4_(3)  r44    ]\n",
    "    [v_5_(1)  v_5_(2)  v_5_(3)  v_5_(4)]\n",
    "    \n",
    "    params: A      Matriz (mxn) de la que se desea obtner factorización QR\n",
    "            \n",
    "    return: A_r_v  Matriz (mxn) con la información escencial (es igual a la matriz R, pero en lugar de tener ceros\n",
    "                   en la parte inferior, contiene info de los vectores householder que serán útiles para\n",
    "                   futuros cálculos, que entre otros están el calcular la matriz ortonormal Q)\n",
    "    \"\"\"\n",
    "    m=A.shape[0]\n",
    "    n=A.shape[1]\n",
    "    A_r_v=copy.copy(A)\n",
    "    for j in range(n):\n",
    "        beta, v=house(A_r_v[j:m,j])\n",
    "        A_r_v[j:m,j:n]=A_r_v[j:m,j:n]-beta*(np.outer(v,v)@A_r_v[j:m,j:n])\n",
    "        A_r_v[(j+1):m,j]=v[1:(m-j)]\n",
    "    return A_r_v"
   ]
  },
  {
   "cell_type": "code",
   "execution_count": 5,
   "metadata": {},
   "outputs": [],
   "source": [
    "def QT_C(A_r_v,C):\n",
    "    \"\"\"\n",
    "    Función que calcula el producto matricial de Q_transpuesta por una matriz dada C\n",
    "                            \n",
    "    params: A_r_v   Matriz (mxn) con la info escencial\n",
    "            C       Matriz (mxp) (si se pasa por ejemplo C=Identidad (mxm) la funcion devolverá Q)\n",
    "\n",
    "    return: M       Matriz con numero al azar\n",
    "    \"\"\"\n",
    "    m=A_r_v.shape[0]\n",
    "    n=A_r_v.shape[1]\n",
    "    QT_por_C=np.eye(m)\n",
    "    for j in range(n-1,-1,-1):\n",
    "        v=np.concatenate((1,A_r_v[(j+1):m,j]), axis=None)\n",
    "        beta=2/(1+A_r_v[(j+1):m,j].dot(A_r_v[(j+1):m,j]))\n",
    "        QT_por_C[j:m,j:m]=C[j:m,j:m]-beta*np.outer(v,v)@C[j:m,j:m]\n",
    "    return QT_por_C"
   ]
  },
  {
   "cell_type": "code",
   "execution_count": 6,
   "metadata": {},
   "outputs": [],
   "source": [
    "def Q_j(A_r_v,j):\n",
    "    \"\"\"\n",
    "    Función que calcula la matriz Qj (en el proceso de obtención de factorización QR se van obteniendo n Qj's,\n",
    "    que si se multiplican todas da por resultado Q=Q1*Q2*...*Qn)\n",
    "                            \n",
    "    params: A_r_v   Matriz (mxn) con la info escencial\n",
    "            C       Matriz (mxp) (si se pasa por ejemplo C=Identidad (mxm) la funcion devolverá Q)\n",
    "\n",
    "    return: Qj      Matriz Q de la j-esima iteración del proceso iterativo de factorización QR\n",
    "    \"\"\"\n",
    "    m=A_r_v.shape[0]\n",
    "    n=A_r_v.shape[1]\n",
    "    Qj=np.eye(m)\n",
    "    v=np.concatenate((1,A_r_v[(j+1):m,j]), axis=None)\n",
    "    beta=2/(1+A_r_v[(j+1):m,j].dot(A_r_v[(j+1):m,j]))\n",
    "    Qj[j:m,j:m]=np.eye(m-j)-beta*np.outer(v,v)\n",
    "    return Qj"
   ]
  },
  {
   "cell_type": "markdown",
   "metadata": {},
   "source": [
    "### Funciones para solución de Sistemas de Ecuaciones Lineales"
   ]
  },
  {
   "cell_type": "code",
   "execution_count": 7,
   "metadata": {},
   "outputs": [],
   "source": [
    "def Solucion_SEL_QR_nxn(A,b):\n",
    "    \"\"\"\n",
    "    Función que obtiene la solución de un sistema de ecuaciones lineala (SEL) con n ecuaciones y n incognitas\n",
    "            \n",
    "    params: A   Matriz (nxn) que representa los coeficientas de las ecuaciones\n",
    "            b   vector (nx1) constantes del sistema\n",
    "\n",
    "    return: x   vector que satisface (Ax=b)\n",
    "    \"\"\"\n",
    "    A_r_v=factorizacion_QR(A)\n",
    "    m=A_r_v.shape[0]\n",
    "    #Q=np.transpose(QT_C(A_r_v,np.eye(m)))\n",
    "    #R=np.transpose(Q)@A\n",
    "    n=A_r_v.shape[0]\n",
    "    Q=np.eye(m)\n",
    "    R=copy.copy(A)\n",
    "    for j in range(m):\n",
    "        Qj=Q_j(A_r_v,j)\n",
    "        Q=Q@Qj\n",
    "        R=Q_j(A_r_v,j)@R\n",
    "    b_prima=np.transpose(Q)@b\n",
    "    x = solve_triangular(R, np.transpose(Q)@b)\n",
    "    return x"
   ]
  },
  {
   "cell_type": "markdown",
   "metadata": {},
   "source": [
    "#### Eliminación por bloques"
   ]
  },
  {
   "cell_type": "code",
   "execution_count": 8,
   "metadata": {},
   "outputs": [],
   "source": [
    "def bloques(A, b=False, n1=False, n2=False):\n",
    "    \"\"\"\n",
    "    Esta es la función para la creación de bloques usando un arreglo de numpy\n",
    "    \n",
    "    params: A   Matriz (nxn) que representa los coeficientas de las ecuaciones\n",
    "            b   vector (nx1) constantes del sistema\n",
    "            n1  Numero de renglones que tendrá el 1er bloque\n",
    "            n2  Numero de renglones que tendrá el 2do bloque\n",
    "    \n",
    "    return: A11 Fraccion de la matriz dividida\n",
    "            A12 Fraccion de la matriz dividida\n",
    "            A12 Fraccion de la matriz dividida\n",
    "            A12 Fraccion de la matriz dividida\n",
    "            b1  Fraccion del vector dividido\n",
    "            b2  Fraccion del vector dividido\n",
    "    \"\"\"\n",
    "\n",
    "    # Primero definimos el n\n",
    "    m,n = A.shape\n",
    "\n",
    "    # Condiciones de A\n",
    "    # Si no se dan los n deseados, se intentan hacer los bloques casi iguales\n",
    "    if  not (n1&n2):\n",
    "        n1 = n//2\n",
    "        n2 = n - n1\n",
    "    # Los bloques deben cumplir la condicion de tamaño\n",
    "    elif n1+n1 != n:\n",
    "        sys.exit('n1 + n2 debe ser igual a n')\n",
    "    else:\n",
    "        None\n",
    "\n",
    "    # Condiciones de b\n",
    "    if  b is False:\n",
    "        b1 = None\n",
    "        b2 = None\n",
    "        print('condicion1')\n",
    "    elif len(b) == m:\n",
    "        b1 = b[:n1]\n",
    "        b2 = b[n1:m]\n",
    "    else:\n",
    "        sys.exit('los renglones de A y b deben ser del mismo tamaño')\n",
    "\n",
    "    A11 = A[:n1,:n1]\n",
    "    A12 = A[:n1,n1:n]\n",
    "    A21 = A[n1:m,:n1]\n",
    "    A22 = A[n1:m,n1:n]\n",
    "\n",
    "    return A11,A12,A21,A22,b1,b2"
   ]
  },
  {
   "cell_type": "code",
   "execution_count": 9,
   "metadata": {},
   "outputs": [],
   "source": [
    "def eliminacion_bloques(A,b):\n",
    "    \"\"\"\n",
    "    Función que obtiene la solución de un sistema de ecuaciones lineala (SEL) con n ecuaciones y n incognitas\n",
    "            \n",
    "    params: A   Matriz (nxn) que representa los coeficientas de las ecuaciones\n",
    "            b   vector (nx1) constantes del sistema\n",
    "    \n",
    "    return: x1 Solucion al 1er sistema de ecuaciones obtenido con la división por bloques\n",
    "            x2 Solucion al 2do sistema de ecuaciones obtenido con la división por bloques\n",
    "    \"\"\"\n",
    "    if np.linalg.det(A)==0:\n",
    "        sys.exit('A debe ser no singular')\n",
    "\n",
    "    A11,A12,A21,A22,b1,b2 = bloques(A,b)\n",
    "\n",
    "    if np.linalg.det(A11)==0:\n",
    "        ys.exit('A11 debe ser no singular')\n",
    "\n",
    "    ## 1. Calcular A11^{-1}A12 y A11^{-1}b1 teniendo cuidado en no calcular la inversa sino un sistema de ecuaciones lineales\n",
    "    ## Aquí se debe usar el método QR una vez que esté desarrollado\n",
    "\n",
    "    ## Definimos y = A11^{-1}b1, por tanto A11y=b1. Resolviendo el sistema anterior para 11y:\n",
    "    y = Solucion_SEL_QR_nxn(A11,b1)\n",
    "    #y = np.linalg.solve(A11,b1)\n",
    "\n",
    "    ## Definimos Y = A11^{-1}A12\n",
    "    Y = Solucion_SEL_QR_nxn(A11,A12)\n",
    "    #Y = np.linalg.solve(A11,A12)\n",
    "\n",
    "    ## 2. Calcular el complemento de Schur del bloque A11 en A. Calcular b_hat\n",
    "    S = A22 - A21@Y\n",
    "    b_h = b2 - A21@y\n",
    "\n",
    "    ## 3. Resolver Sx2 = b_hat\n",
    "    x2 = Solucion_SEL_QR_nxn(S,b_h)\n",
    "    #x2 = np.linalg.solve(S,b_h)\n",
    "\n",
    "    ## 4. Resolver A11x1 = b1-A12X2\n",
    "    x1 = Solucion_SEL_QR_nxn(A11,b1-A12@x2)\n",
    "    #x1 = np.linalg.solve(A11,b1-A12@x2)\n",
    "\n",
    "    return np.concatenate((x1,x2), axis=0)"
   ]
  },
  {
   "cell_type": "markdown",
   "metadata": {},
   "source": [
    "# Prueba Unitaria"
   ]
  },
  {
   "cell_type": "markdown",
   "metadata": {},
   "source": [
    "## Eliminación por bloques con QR considerando sistemas sin solución"
   ]
  },
  {
   "cell_type": "markdown",
   "metadata": {},
   "source": [
    "### Ejemplo 1 - Matriz 3 x 3 (Fila con ceros)"
   ]
  },
  {
   "cell_type": "markdown",
   "metadata": {},
   "source": [
    "Empezaremos por generar un sistema de ecuaciones lineales sin solución."
   ]
  },
  {
   "cell_type": "code",
   "execution_count": 10,
   "metadata": {},
   "outputs": [
    {
     "name": "stdout",
     "output_type": "stream",
     "text": [
      "A:\n",
      "array([[1., 0., 0.],\n",
      "       [0., 1., 0.],\n",
      "       [0., 0., 0.]])\n",
      "b:\n",
      "array([[-2.],\n",
      "       [ 0.],\n",
      "       [ 5.]])\n"
     ]
    }
   ],
   "source": [
    "# Generamos una matriz 3 x 3\n",
    "A = np.array([[1, 0, 0], [0, 1, 0], [0, 0, 0]], dtype='d')\n",
    "b = np.array([[-2], [0], [5]], dtype='d')\n",
    "print(\"A:\")\n",
    "pprint.pprint(A)\n",
    "print(\"b:\")\n",
    "pprint.pprint(b)"
   ]
  },
  {
   "cell_type": "markdown",
   "metadata": {},
   "source": [
    "**Numpy**"
   ]
  },
  {
   "cell_type": "markdown",
   "metadata": {},
   "source": [
    "Utilizaremos la función de numpy *np.linalg.solve(A,b)*  para validar que el sistema de ecuaciones efectivamente no tiene solución."
   ]
  },
  {
   "cell_type": "code",
   "execution_count": 11,
   "metadata": {},
   "outputs": [
    {
     "ename": "LinAlgError",
     "evalue": "Singular matrix",
     "output_type": "error",
     "traceback": [
      "\u001b[0;31m---------------------------------------------------------------------------\u001b[0m",
      "\u001b[0;31mLinAlgError\u001b[0m                               Traceback (most recent call last)",
      "\u001b[0;32m<ipython-input-11-36718354ad3a>\u001b[0m in \u001b[0;36m<module>\u001b[0;34m\u001b[0m\n\u001b[0;32m----> 1\u001b[0;31m \u001b[0mnp\u001b[0m\u001b[0;34m.\u001b[0m\u001b[0mlinalg\u001b[0m\u001b[0;34m.\u001b[0m\u001b[0msolve\u001b[0m\u001b[0;34m(\u001b[0m\u001b[0mA\u001b[0m\u001b[0;34m,\u001b[0m\u001b[0mb\u001b[0m\u001b[0;34m)\u001b[0m\u001b[0;34m\u001b[0m\u001b[0;34m\u001b[0m\u001b[0m\n\u001b[0m",
      "\u001b[0;32m<__array_function__ internals>\u001b[0m in \u001b[0;36msolve\u001b[0;34m(*args, **kwargs)\u001b[0m\n",
      "\u001b[0;32m/usr/local/lib/python3.7/site-packages/numpy/linalg/linalg.py\u001b[0m in \u001b[0;36msolve\u001b[0;34m(a, b)\u001b[0m\n\u001b[1;32m    397\u001b[0m     \u001b[0msignature\u001b[0m \u001b[0;34m=\u001b[0m \u001b[0;34m'DD->D'\u001b[0m \u001b[0;32mif\u001b[0m \u001b[0misComplexType\u001b[0m\u001b[0;34m(\u001b[0m\u001b[0mt\u001b[0m\u001b[0;34m)\u001b[0m \u001b[0;32melse\u001b[0m \u001b[0;34m'dd->d'\u001b[0m\u001b[0;34m\u001b[0m\u001b[0;34m\u001b[0m\u001b[0m\n\u001b[1;32m    398\u001b[0m     \u001b[0mextobj\u001b[0m \u001b[0;34m=\u001b[0m \u001b[0mget_linalg_error_extobj\u001b[0m\u001b[0;34m(\u001b[0m\u001b[0m_raise_linalgerror_singular\u001b[0m\u001b[0;34m)\u001b[0m\u001b[0;34m\u001b[0m\u001b[0;34m\u001b[0m\u001b[0m\n\u001b[0;32m--> 399\u001b[0;31m     \u001b[0mr\u001b[0m \u001b[0;34m=\u001b[0m \u001b[0mgufunc\u001b[0m\u001b[0;34m(\u001b[0m\u001b[0ma\u001b[0m\u001b[0;34m,\u001b[0m \u001b[0mb\u001b[0m\u001b[0;34m,\u001b[0m \u001b[0msignature\u001b[0m\u001b[0;34m=\u001b[0m\u001b[0msignature\u001b[0m\u001b[0;34m,\u001b[0m \u001b[0mextobj\u001b[0m\u001b[0;34m=\u001b[0m\u001b[0mextobj\u001b[0m\u001b[0;34m)\u001b[0m\u001b[0;34m\u001b[0m\u001b[0;34m\u001b[0m\u001b[0m\n\u001b[0m\u001b[1;32m    400\u001b[0m \u001b[0;34m\u001b[0m\u001b[0m\n\u001b[1;32m    401\u001b[0m     \u001b[0;32mreturn\u001b[0m \u001b[0mwrap\u001b[0m\u001b[0;34m(\u001b[0m\u001b[0mr\u001b[0m\u001b[0;34m.\u001b[0m\u001b[0mastype\u001b[0m\u001b[0;34m(\u001b[0m\u001b[0mresult_t\u001b[0m\u001b[0;34m,\u001b[0m \u001b[0mcopy\u001b[0m\u001b[0;34m=\u001b[0m\u001b[0;32mFalse\u001b[0m\u001b[0;34m)\u001b[0m\u001b[0;34m)\u001b[0m\u001b[0;34m\u001b[0m\u001b[0;34m\u001b[0m\u001b[0m\n",
      "\u001b[0;32m/usr/local/lib/python3.7/site-packages/numpy/linalg/linalg.py\u001b[0m in \u001b[0;36m_raise_linalgerror_singular\u001b[0;34m(err, flag)\u001b[0m\n\u001b[1;32m     95\u001b[0m \u001b[0;34m\u001b[0m\u001b[0m\n\u001b[1;32m     96\u001b[0m \u001b[0;32mdef\u001b[0m \u001b[0m_raise_linalgerror_singular\u001b[0m\u001b[0;34m(\u001b[0m\u001b[0merr\u001b[0m\u001b[0;34m,\u001b[0m \u001b[0mflag\u001b[0m\u001b[0;34m)\u001b[0m\u001b[0;34m:\u001b[0m\u001b[0;34m\u001b[0m\u001b[0;34m\u001b[0m\u001b[0m\n\u001b[0;32m---> 97\u001b[0;31m     \u001b[0;32mraise\u001b[0m \u001b[0mLinAlgError\u001b[0m\u001b[0;34m(\u001b[0m\u001b[0;34m\"Singular matrix\"\u001b[0m\u001b[0;34m)\u001b[0m\u001b[0;34m\u001b[0m\u001b[0;34m\u001b[0m\u001b[0m\n\u001b[0m\u001b[1;32m     98\u001b[0m \u001b[0;34m\u001b[0m\u001b[0m\n\u001b[1;32m     99\u001b[0m \u001b[0;32mdef\u001b[0m \u001b[0m_raise_linalgerror_nonposdef\u001b[0m\u001b[0;34m(\u001b[0m\u001b[0merr\u001b[0m\u001b[0;34m,\u001b[0m \u001b[0mflag\u001b[0m\u001b[0;34m)\u001b[0m\u001b[0;34m:\u001b[0m\u001b[0;34m\u001b[0m\u001b[0;34m\u001b[0m\u001b[0m\n",
      "\u001b[0;31mLinAlgError\u001b[0m: Singular matrix"
     ]
    }
   ],
   "source": [
    "np.linalg.solve(A,b)"
   ]
  },
  {
   "cell_type": "markdown",
   "metadata": {},
   "source": [
    "Podemos observar que la función de numpy nos arroja un error al tratar de resolver un sistema de ecuaciones lineales sin solución.\n",
    "\n",
    "El error se refiere a que la matriz A es una matriz singular."
   ]
  },
  {
   "cell_type": "markdown",
   "metadata": {},
   "source": [
    "**Implementación Programadores - Eliminación por bloques con QR**"
   ]
  },
  {
   "cell_type": "markdown",
   "metadata": {},
   "source": [
    "Utilizaremos la función eliminacion_bloques implementada por los programadores para validar sus funcionalidad cuando trata de resolver un sistema de ecuaciones lineales sin solución."
   ]
  },
  {
   "cell_type": "code",
   "execution_count": 12,
   "metadata": {},
   "outputs": [
    {
     "ename": "NameError",
     "evalue": "name 'sys' is not defined",
     "output_type": "error",
     "traceback": [
      "\u001b[0;31m---------------------------------------------------------------------------\u001b[0m",
      "\u001b[0;31mNameError\u001b[0m                                 Traceback (most recent call last)",
      "\u001b[0;32m<ipython-input-12-382a0b9b7585>\u001b[0m in \u001b[0;36m<module>\u001b[0;34m\u001b[0m\n\u001b[0;32m----> 1\u001b[0;31m \u001b[0meliminacion_bloques\u001b[0m\u001b[0;34m(\u001b[0m\u001b[0mA\u001b[0m\u001b[0;34m,\u001b[0m\u001b[0mb\u001b[0m\u001b[0;34m)\u001b[0m\u001b[0;34m\u001b[0m\u001b[0;34m\u001b[0m\u001b[0m\n\u001b[0m",
      "\u001b[0;32m<ipython-input-9-4001de5c642d>\u001b[0m in \u001b[0;36meliminacion_bloques\u001b[0;34m(A, b)\u001b[0m\n\u001b[1;32m     10\u001b[0m     \"\"\"\n\u001b[1;32m     11\u001b[0m     \u001b[0;32mif\u001b[0m \u001b[0mnp\u001b[0m\u001b[0;34m.\u001b[0m\u001b[0mlinalg\u001b[0m\u001b[0;34m.\u001b[0m\u001b[0mdet\u001b[0m\u001b[0;34m(\u001b[0m\u001b[0mA\u001b[0m\u001b[0;34m)\u001b[0m\u001b[0;34m==\u001b[0m\u001b[0;36m0\u001b[0m\u001b[0;34m:\u001b[0m\u001b[0;34m\u001b[0m\u001b[0;34m\u001b[0m\u001b[0m\n\u001b[0;32m---> 12\u001b[0;31m         \u001b[0msys\u001b[0m\u001b[0;34m.\u001b[0m\u001b[0mexit\u001b[0m\u001b[0;34m(\u001b[0m\u001b[0;34m'A debe ser no singular'\u001b[0m\u001b[0;34m)\u001b[0m\u001b[0;34m\u001b[0m\u001b[0;34m\u001b[0m\u001b[0m\n\u001b[0m\u001b[1;32m     13\u001b[0m \u001b[0;34m\u001b[0m\u001b[0m\n\u001b[1;32m     14\u001b[0m     \u001b[0mA11\u001b[0m\u001b[0;34m,\u001b[0m\u001b[0mA12\u001b[0m\u001b[0;34m,\u001b[0m\u001b[0mA21\u001b[0m\u001b[0;34m,\u001b[0m\u001b[0mA22\u001b[0m\u001b[0;34m,\u001b[0m\u001b[0mb1\u001b[0m\u001b[0;34m,\u001b[0m\u001b[0mb2\u001b[0m \u001b[0;34m=\u001b[0m \u001b[0mbloques\u001b[0m\u001b[0;34m(\u001b[0m\u001b[0mA\u001b[0m\u001b[0;34m,\u001b[0m\u001b[0mb\u001b[0m\u001b[0;34m)\u001b[0m\u001b[0;34m\u001b[0m\u001b[0;34m\u001b[0m\u001b[0m\n",
      "\u001b[0;31mNameError\u001b[0m: name 'sys' is not defined"
     ]
    }
   ],
   "source": [
    "eliminacion_bloques(A,b)"
   ]
  },
  {
   "cell_type": "markdown",
   "metadata": {},
   "source": [
    "Podemos observar que la función nos arroja un error al tratar de resolver un sistema de ecuaciones lineales sin solución al igual que numpy. Sin embargo, no existe ningun mensaje que le de visibilidad al usuario del tipo de error al que se esta enfrentando."
   ]
  },
  {
   "cell_type": "markdown",
   "metadata": {},
   "source": [
    "### Ejemplo 2 - Matriz 10^2 x 10^2 (Fila con ceros)"
   ]
  },
  {
   "cell_type": "markdown",
   "metadata": {},
   "source": [
    "Empezamos por generar un sistema de ecuaciones lineales de 10^2 x 10^2"
   ]
  },
  {
   "cell_type": "code",
   "execution_count": 13,
   "metadata": {},
   "outputs": [
    {
     "name": "stdout",
     "output_type": "stream",
     "text": [
      "A:\n",
      "array([[-9.63, -6.12, -8.03, ..., -4.43,  6.24, -1.59],\n",
      "       [-0.26,  7.23,  8.82, ..., -0.24,  2.05, -4.42],\n",
      "       [ 3.99,  6.74,  4.2 , ...,  2.01, -6.11,  1.66],\n",
      "       ...,\n",
      "       [ 5.8 ,  0.46, -0.6 , ...,  7.06,  2.02,  5.08],\n",
      "       [ 8.47, -2.51, -8.59, ...,  0.13, -7.54, -3.79],\n",
      "       [-2.25, -8.52,  9.51, ...,  0.42,  4.89,  1.4 ]])\n",
      "b:\n",
      "array([[ 9.95],\n",
      "       [ 6.96],\n",
      "       [-9.03],\n",
      "       [ 1.18],\n",
      "       [ 6.34],\n",
      "       [-4.46],\n",
      "       [-1.12],\n",
      "       [-9.42],\n",
      "       [ 8.98],\n",
      "       [-2.25],\n",
      "       [ 9.35],\n",
      "       [-6.25],\n",
      "       [ 8.36],\n",
      "       [-7.46],\n",
      "       [-6.79],\n",
      "       [ 1.49],\n",
      "       [-1.86],\n",
      "       [-5.59],\n",
      "       [ 3.2 ],\n",
      "       [-9.51],\n",
      "       [-2.16],\n",
      "       [ 9.24],\n",
      "       [ 2.69],\n",
      "       [-0.26],\n",
      "       [-5.55],\n",
      "       [-6.02],\n",
      "       [ 4.71],\n",
      "       [-1.41],\n",
      "       [ 3.1 ],\n",
      "       [ 9.04],\n",
      "       [ 6.73],\n",
      "       [-0.1 ],\n",
      "       [-3.03],\n",
      "       [ 9.88],\n",
      "       [ 3.36],\n",
      "       [ 4.11],\n",
      "       [-3.69],\n",
      "       [ 5.04],\n",
      "       [ 7.57],\n",
      "       [ 1.8 ],\n",
      "       [-2.11],\n",
      "       [ 5.22],\n",
      "       [-7.81],\n",
      "       [ 8.28],\n",
      "       [-6.24],\n",
      "       [-6.86],\n",
      "       [-3.09],\n",
      "       [-1.06],\n",
      "       [ 2.31],\n",
      "       [ 4.03],\n",
      "       [-4.13],\n",
      "       [ 8.05],\n",
      "       [-6.8 ],\n",
      "       [ 1.17],\n",
      "       [-5.64],\n",
      "       [ 9.91],\n",
      "       [-2.76],\n",
      "       [-1.92],\n",
      "       [-3.92],\n",
      "       [ 2.08],\n",
      "       [ 5.24],\n",
      "       [-0.62],\n",
      "       [-0.18],\n",
      "       [ 4.34],\n",
      "       [-2.62],\n",
      "       [-5.75],\n",
      "       [-1.6 ],\n",
      "       [ 3.08],\n",
      "       [ 9.85],\n",
      "       [ 3.83],\n",
      "       [ 2.03],\n",
      "       [-7.18],\n",
      "       [ 6.76],\n",
      "       [ 3.25],\n",
      "       [ 6.21],\n",
      "       [-0.49],\n",
      "       [ 1.09],\n",
      "       [ 3.37],\n",
      "       [ 4.57],\n",
      "       [-8.97],\n",
      "       [-6.34],\n",
      "       [-4.51],\n",
      "       [-6.91],\n",
      "       [-4.01],\n",
      "       [-8.84],\n",
      "       [ 2.9 ],\n",
      "       [ 6.84],\n",
      "       [-1.45],\n",
      "       [-3.48],\n",
      "       [-5.63],\n",
      "       [ 9.52],\n",
      "       [ 5.56],\n",
      "       [-6.02],\n",
      "       [-6.76],\n",
      "       [-7.68],\n",
      "       [-6.58],\n",
      "       [-0.98],\n",
      "       [-4.55],\n",
      "       [-3.04],\n",
      "       [ 2.53]])\n"
     ]
    }
   ],
   "source": [
    "m = 100\n",
    "n = 100\n",
    "A = np.round(crea_matriz(m, n, 10, -10,False), 2)\n",
    "b = np.round(crea_matriz(m, 1, 10, -10,False), 2)\n",
    "print(\"A:\")\n",
    "pprint.pprint(A)\n",
    "print(\"b:\")\n",
    "pprint.pprint(b)"
   ]
  },
  {
   "cell_type": "markdown",
   "metadata": {},
   "source": [
    "Actualizaremos la ultima fila de la matriz con puros ceros para volverlo un sistema de ecuaciones lineales sin solución."
   ]
  },
  {
   "cell_type": "code",
   "execution_count": 14,
   "metadata": {},
   "outputs": [],
   "source": [
    "A[-1] = np.zeros(n)"
   ]
  },
  {
   "cell_type": "code",
   "execution_count": 15,
   "metadata": {},
   "outputs": [
    {
     "name": "stdout",
     "output_type": "stream",
     "text": [
      "A:\n",
      "array([[-9.63, -6.12, -8.03, ..., -4.43,  6.24, -1.59],\n",
      "       [-0.26,  7.23,  8.82, ..., -0.24,  2.05, -4.42],\n",
      "       [ 3.99,  6.74,  4.2 , ...,  2.01, -6.11,  1.66],\n",
      "       ...,\n",
      "       [ 5.8 ,  0.46, -0.6 , ...,  7.06,  2.02,  5.08],\n",
      "       [ 8.47, -2.51, -8.59, ...,  0.13, -7.54, -3.79],\n",
      "       [ 0.  ,  0.  ,  0.  , ...,  0.  ,  0.  ,  0.  ]])\n"
     ]
    }
   ],
   "source": [
    "print(\"A:\")\n",
    "pprint.pprint(A)"
   ]
  },
  {
   "cell_type": "markdown",
   "metadata": {},
   "source": [
    "**Numpy**"
   ]
  },
  {
   "cell_type": "markdown",
   "metadata": {},
   "source": [
    "Utilizaremos la función de numpy *np.linalg.solve(A,b)*  una vez mas para validar que el sistema de ecuaciones dado efectivamente no tiene solución."
   ]
  },
  {
   "cell_type": "code",
   "execution_count": 16,
   "metadata": {},
   "outputs": [
    {
     "ename": "LinAlgError",
     "evalue": "Singular matrix",
     "output_type": "error",
     "traceback": [
      "\u001b[0;31m---------------------------------------------------------------------------\u001b[0m",
      "\u001b[0;31mLinAlgError\u001b[0m                               Traceback (most recent call last)",
      "\u001b[0;32m<ipython-input-16-36718354ad3a>\u001b[0m in \u001b[0;36m<module>\u001b[0;34m\u001b[0m\n\u001b[0;32m----> 1\u001b[0;31m \u001b[0mnp\u001b[0m\u001b[0;34m.\u001b[0m\u001b[0mlinalg\u001b[0m\u001b[0;34m.\u001b[0m\u001b[0msolve\u001b[0m\u001b[0;34m(\u001b[0m\u001b[0mA\u001b[0m\u001b[0;34m,\u001b[0m\u001b[0mb\u001b[0m\u001b[0;34m)\u001b[0m\u001b[0;34m\u001b[0m\u001b[0;34m\u001b[0m\u001b[0m\n\u001b[0m",
      "\u001b[0;32m<__array_function__ internals>\u001b[0m in \u001b[0;36msolve\u001b[0;34m(*args, **kwargs)\u001b[0m\n",
      "\u001b[0;32m/usr/local/lib/python3.7/site-packages/numpy/linalg/linalg.py\u001b[0m in \u001b[0;36msolve\u001b[0;34m(a, b)\u001b[0m\n\u001b[1;32m    397\u001b[0m     \u001b[0msignature\u001b[0m \u001b[0;34m=\u001b[0m \u001b[0;34m'DD->D'\u001b[0m \u001b[0;32mif\u001b[0m \u001b[0misComplexType\u001b[0m\u001b[0;34m(\u001b[0m\u001b[0mt\u001b[0m\u001b[0;34m)\u001b[0m \u001b[0;32melse\u001b[0m \u001b[0;34m'dd->d'\u001b[0m\u001b[0;34m\u001b[0m\u001b[0;34m\u001b[0m\u001b[0m\n\u001b[1;32m    398\u001b[0m     \u001b[0mextobj\u001b[0m \u001b[0;34m=\u001b[0m \u001b[0mget_linalg_error_extobj\u001b[0m\u001b[0;34m(\u001b[0m\u001b[0m_raise_linalgerror_singular\u001b[0m\u001b[0;34m)\u001b[0m\u001b[0;34m\u001b[0m\u001b[0;34m\u001b[0m\u001b[0m\n\u001b[0;32m--> 399\u001b[0;31m     \u001b[0mr\u001b[0m \u001b[0;34m=\u001b[0m \u001b[0mgufunc\u001b[0m\u001b[0;34m(\u001b[0m\u001b[0ma\u001b[0m\u001b[0;34m,\u001b[0m \u001b[0mb\u001b[0m\u001b[0;34m,\u001b[0m \u001b[0msignature\u001b[0m\u001b[0;34m=\u001b[0m\u001b[0msignature\u001b[0m\u001b[0;34m,\u001b[0m \u001b[0mextobj\u001b[0m\u001b[0;34m=\u001b[0m\u001b[0mextobj\u001b[0m\u001b[0;34m)\u001b[0m\u001b[0;34m\u001b[0m\u001b[0;34m\u001b[0m\u001b[0m\n\u001b[0m\u001b[1;32m    400\u001b[0m \u001b[0;34m\u001b[0m\u001b[0m\n\u001b[1;32m    401\u001b[0m     \u001b[0;32mreturn\u001b[0m \u001b[0mwrap\u001b[0m\u001b[0;34m(\u001b[0m\u001b[0mr\u001b[0m\u001b[0;34m.\u001b[0m\u001b[0mastype\u001b[0m\u001b[0;34m(\u001b[0m\u001b[0mresult_t\u001b[0m\u001b[0;34m,\u001b[0m \u001b[0mcopy\u001b[0m\u001b[0;34m=\u001b[0m\u001b[0;32mFalse\u001b[0m\u001b[0;34m)\u001b[0m\u001b[0;34m)\u001b[0m\u001b[0;34m\u001b[0m\u001b[0;34m\u001b[0m\u001b[0m\n",
      "\u001b[0;32m/usr/local/lib/python3.7/site-packages/numpy/linalg/linalg.py\u001b[0m in \u001b[0;36m_raise_linalgerror_singular\u001b[0;34m(err, flag)\u001b[0m\n\u001b[1;32m     95\u001b[0m \u001b[0;34m\u001b[0m\u001b[0m\n\u001b[1;32m     96\u001b[0m \u001b[0;32mdef\u001b[0m \u001b[0m_raise_linalgerror_singular\u001b[0m\u001b[0;34m(\u001b[0m\u001b[0merr\u001b[0m\u001b[0;34m,\u001b[0m \u001b[0mflag\u001b[0m\u001b[0;34m)\u001b[0m\u001b[0;34m:\u001b[0m\u001b[0;34m\u001b[0m\u001b[0;34m\u001b[0m\u001b[0m\n\u001b[0;32m---> 97\u001b[0;31m     \u001b[0;32mraise\u001b[0m \u001b[0mLinAlgError\u001b[0m\u001b[0;34m(\u001b[0m\u001b[0;34m\"Singular matrix\"\u001b[0m\u001b[0;34m)\u001b[0m\u001b[0;34m\u001b[0m\u001b[0;34m\u001b[0m\u001b[0m\n\u001b[0m\u001b[1;32m     98\u001b[0m \u001b[0;34m\u001b[0m\u001b[0m\n\u001b[1;32m     99\u001b[0m \u001b[0;32mdef\u001b[0m \u001b[0m_raise_linalgerror_nonposdef\u001b[0m\u001b[0;34m(\u001b[0m\u001b[0merr\u001b[0m\u001b[0;34m,\u001b[0m \u001b[0mflag\u001b[0m\u001b[0;34m)\u001b[0m\u001b[0;34m:\u001b[0m\u001b[0;34m\u001b[0m\u001b[0;34m\u001b[0m\u001b[0m\n",
      "\u001b[0;31mLinAlgError\u001b[0m: Singular matrix"
     ]
    }
   ],
   "source": [
    "np.linalg.solve(A,b)"
   ]
  },
  {
   "cell_type": "markdown",
   "metadata": {},
   "source": [
    "Podemos observar que la función de numpy nos arroja el mismo error que en el Ejemplo 1."
   ]
  },
  {
   "cell_type": "markdown",
   "metadata": {},
   "source": [
    "**Implementación Programadores - Eliminación por bloques con QR**"
   ]
  },
  {
   "cell_type": "markdown",
   "metadata": {},
   "source": [
    "Utilizaremos la función eliminacion_bloques implementada por los programadores para validar sus funcionalidad cuando trata de resolver un sistema de ecuaciones lineales sin solución."
   ]
  },
  {
   "cell_type": "code",
   "execution_count": 17,
   "metadata": {},
   "outputs": [
    {
     "ename": "NameError",
     "evalue": "name 'sys' is not defined",
     "output_type": "error",
     "traceback": [
      "\u001b[0;31m---------------------------------------------------------------------------\u001b[0m",
      "\u001b[0;31mNameError\u001b[0m                                 Traceback (most recent call last)",
      "\u001b[0;32m<ipython-input-17-382a0b9b7585>\u001b[0m in \u001b[0;36m<module>\u001b[0;34m\u001b[0m\n\u001b[0;32m----> 1\u001b[0;31m \u001b[0meliminacion_bloques\u001b[0m\u001b[0;34m(\u001b[0m\u001b[0mA\u001b[0m\u001b[0;34m,\u001b[0m\u001b[0mb\u001b[0m\u001b[0;34m)\u001b[0m\u001b[0;34m\u001b[0m\u001b[0;34m\u001b[0m\u001b[0m\n\u001b[0m",
      "\u001b[0;32m<ipython-input-9-4001de5c642d>\u001b[0m in \u001b[0;36meliminacion_bloques\u001b[0;34m(A, b)\u001b[0m\n\u001b[1;32m     10\u001b[0m     \"\"\"\n\u001b[1;32m     11\u001b[0m     \u001b[0;32mif\u001b[0m \u001b[0mnp\u001b[0m\u001b[0;34m.\u001b[0m\u001b[0mlinalg\u001b[0m\u001b[0;34m.\u001b[0m\u001b[0mdet\u001b[0m\u001b[0;34m(\u001b[0m\u001b[0mA\u001b[0m\u001b[0;34m)\u001b[0m\u001b[0;34m==\u001b[0m\u001b[0;36m0\u001b[0m\u001b[0;34m:\u001b[0m\u001b[0;34m\u001b[0m\u001b[0;34m\u001b[0m\u001b[0m\n\u001b[0;32m---> 12\u001b[0;31m         \u001b[0msys\u001b[0m\u001b[0;34m.\u001b[0m\u001b[0mexit\u001b[0m\u001b[0;34m(\u001b[0m\u001b[0;34m'A debe ser no singular'\u001b[0m\u001b[0;34m)\u001b[0m\u001b[0;34m\u001b[0m\u001b[0;34m\u001b[0m\u001b[0m\n\u001b[0m\u001b[1;32m     13\u001b[0m \u001b[0;34m\u001b[0m\u001b[0m\n\u001b[1;32m     14\u001b[0m     \u001b[0mA11\u001b[0m\u001b[0;34m,\u001b[0m\u001b[0mA12\u001b[0m\u001b[0;34m,\u001b[0m\u001b[0mA21\u001b[0m\u001b[0;34m,\u001b[0m\u001b[0mA22\u001b[0m\u001b[0;34m,\u001b[0m\u001b[0mb1\u001b[0m\u001b[0;34m,\u001b[0m\u001b[0mb2\u001b[0m \u001b[0;34m=\u001b[0m \u001b[0mbloques\u001b[0m\u001b[0;34m(\u001b[0m\u001b[0mA\u001b[0m\u001b[0;34m,\u001b[0m\u001b[0mb\u001b[0m\u001b[0;34m)\u001b[0m\u001b[0;34m\u001b[0m\u001b[0;34m\u001b[0m\u001b[0m\n",
      "\u001b[0;31mNameError\u001b[0m: name 'sys' is not defined"
     ]
    }
   ],
   "source": [
    "eliminacion_bloques(A,b)"
   ]
  },
  {
   "cell_type": "markdown",
   "metadata": {},
   "source": [
    "Una vez mas, podemos observar que la función nos arroja un error al tratar de resolver un sistema de ecuaciones lineales sin solución al igual que numpy. Sin embargo, no existe ningun mensaje que le de visibilidad al usuario del tipo de error al que se esta enfrentando."
   ]
  },
  {
   "cell_type": "markdown",
   "metadata": {},
   "source": [
    "### Ejemplo 3 - Matriz 2 x 2 (Sistema incompatible - Rectas Paralelas)"
   ]
  },
  {
   "cell_type": "markdown",
   "metadata": {},
   "source": [
    "Empezaremos por generar un sistema de ecuaciones lineales sin solución (Rectas Paralelas)."
   ]
  },
  {
   "cell_type": "code",
   "execution_count": 18,
   "metadata": {},
   "outputs": [
    {
     "name": "stdout",
     "output_type": "stream",
     "text": [
      "A:\n",
      "array([[ 11.,   4.],\n",
      "       [132.,  48.]])\n",
      "b:\n",
      "array([[ 7.],\n",
      "       [-1.]])\n"
     ]
    }
   ],
   "source": [
    "# Generamos una matriz 2 x 2 incompatible\n",
    "A = np.array([[11, 4], [132, 48]], dtype='d')\n",
    "b = np.array([[7], [-1]], dtype='d')\n",
    "print(\"A:\")\n",
    "pprint.pprint(A)\n",
    "print(\"b:\")\n",
    "pprint.pprint(b)"
   ]
  },
  {
   "cell_type": "markdown",
   "metadata": {},
   "source": [
    "**Numpy**"
   ]
  },
  {
   "cell_type": "markdown",
   "metadata": {},
   "source": [
    "Utilizaremos la función de numpy *np.linalg.solve(A,b)*  una vez mas para validar que el sistema de ecuaciones dado efectivamente no tiene solución."
   ]
  },
  {
   "cell_type": "code",
   "execution_count": 19,
   "metadata": {},
   "outputs": [
    {
     "ename": "LinAlgError",
     "evalue": "Singular matrix",
     "output_type": "error",
     "traceback": [
      "\u001b[0;31m---------------------------------------------------------------------------\u001b[0m",
      "\u001b[0;31mLinAlgError\u001b[0m                               Traceback (most recent call last)",
      "\u001b[0;32m<ipython-input-19-36718354ad3a>\u001b[0m in \u001b[0;36m<module>\u001b[0;34m\u001b[0m\n\u001b[0;32m----> 1\u001b[0;31m \u001b[0mnp\u001b[0m\u001b[0;34m.\u001b[0m\u001b[0mlinalg\u001b[0m\u001b[0;34m.\u001b[0m\u001b[0msolve\u001b[0m\u001b[0;34m(\u001b[0m\u001b[0mA\u001b[0m\u001b[0;34m,\u001b[0m\u001b[0mb\u001b[0m\u001b[0;34m)\u001b[0m\u001b[0;34m\u001b[0m\u001b[0;34m\u001b[0m\u001b[0m\n\u001b[0m",
      "\u001b[0;32m<__array_function__ internals>\u001b[0m in \u001b[0;36msolve\u001b[0;34m(*args, **kwargs)\u001b[0m\n",
      "\u001b[0;32m/usr/local/lib/python3.7/site-packages/numpy/linalg/linalg.py\u001b[0m in \u001b[0;36msolve\u001b[0;34m(a, b)\u001b[0m\n\u001b[1;32m    397\u001b[0m     \u001b[0msignature\u001b[0m \u001b[0;34m=\u001b[0m \u001b[0;34m'DD->D'\u001b[0m \u001b[0;32mif\u001b[0m \u001b[0misComplexType\u001b[0m\u001b[0;34m(\u001b[0m\u001b[0mt\u001b[0m\u001b[0;34m)\u001b[0m \u001b[0;32melse\u001b[0m \u001b[0;34m'dd->d'\u001b[0m\u001b[0;34m\u001b[0m\u001b[0;34m\u001b[0m\u001b[0m\n\u001b[1;32m    398\u001b[0m     \u001b[0mextobj\u001b[0m \u001b[0;34m=\u001b[0m \u001b[0mget_linalg_error_extobj\u001b[0m\u001b[0;34m(\u001b[0m\u001b[0m_raise_linalgerror_singular\u001b[0m\u001b[0;34m)\u001b[0m\u001b[0;34m\u001b[0m\u001b[0;34m\u001b[0m\u001b[0m\n\u001b[0;32m--> 399\u001b[0;31m     \u001b[0mr\u001b[0m \u001b[0;34m=\u001b[0m \u001b[0mgufunc\u001b[0m\u001b[0;34m(\u001b[0m\u001b[0ma\u001b[0m\u001b[0;34m,\u001b[0m \u001b[0mb\u001b[0m\u001b[0;34m,\u001b[0m \u001b[0msignature\u001b[0m\u001b[0;34m=\u001b[0m\u001b[0msignature\u001b[0m\u001b[0;34m,\u001b[0m \u001b[0mextobj\u001b[0m\u001b[0;34m=\u001b[0m\u001b[0mextobj\u001b[0m\u001b[0;34m)\u001b[0m\u001b[0;34m\u001b[0m\u001b[0;34m\u001b[0m\u001b[0m\n\u001b[0m\u001b[1;32m    400\u001b[0m \u001b[0;34m\u001b[0m\u001b[0m\n\u001b[1;32m    401\u001b[0m     \u001b[0;32mreturn\u001b[0m \u001b[0mwrap\u001b[0m\u001b[0;34m(\u001b[0m\u001b[0mr\u001b[0m\u001b[0;34m.\u001b[0m\u001b[0mastype\u001b[0m\u001b[0;34m(\u001b[0m\u001b[0mresult_t\u001b[0m\u001b[0;34m,\u001b[0m \u001b[0mcopy\u001b[0m\u001b[0;34m=\u001b[0m\u001b[0;32mFalse\u001b[0m\u001b[0;34m)\u001b[0m\u001b[0;34m)\u001b[0m\u001b[0;34m\u001b[0m\u001b[0;34m\u001b[0m\u001b[0m\n",
      "\u001b[0;32m/usr/local/lib/python3.7/site-packages/numpy/linalg/linalg.py\u001b[0m in \u001b[0;36m_raise_linalgerror_singular\u001b[0;34m(err, flag)\u001b[0m\n\u001b[1;32m     95\u001b[0m \u001b[0;34m\u001b[0m\u001b[0m\n\u001b[1;32m     96\u001b[0m \u001b[0;32mdef\u001b[0m \u001b[0m_raise_linalgerror_singular\u001b[0m\u001b[0;34m(\u001b[0m\u001b[0merr\u001b[0m\u001b[0;34m,\u001b[0m \u001b[0mflag\u001b[0m\u001b[0;34m)\u001b[0m\u001b[0;34m:\u001b[0m\u001b[0;34m\u001b[0m\u001b[0;34m\u001b[0m\u001b[0m\n\u001b[0;32m---> 97\u001b[0;31m     \u001b[0;32mraise\u001b[0m \u001b[0mLinAlgError\u001b[0m\u001b[0;34m(\u001b[0m\u001b[0;34m\"Singular matrix\"\u001b[0m\u001b[0;34m)\u001b[0m\u001b[0;34m\u001b[0m\u001b[0;34m\u001b[0m\u001b[0m\n\u001b[0m\u001b[1;32m     98\u001b[0m \u001b[0;34m\u001b[0m\u001b[0m\n\u001b[1;32m     99\u001b[0m \u001b[0;32mdef\u001b[0m \u001b[0m_raise_linalgerror_nonposdef\u001b[0m\u001b[0;34m(\u001b[0m\u001b[0merr\u001b[0m\u001b[0;34m,\u001b[0m \u001b[0mflag\u001b[0m\u001b[0;34m)\u001b[0m\u001b[0;34m:\u001b[0m\u001b[0;34m\u001b[0m\u001b[0;34m\u001b[0m\u001b[0m\n",
      "\u001b[0;31mLinAlgError\u001b[0m: Singular matrix"
     ]
    }
   ],
   "source": [
    "np.linalg.solve(A,b)"
   ]
  },
  {
   "cell_type": "markdown",
   "metadata": {},
   "source": [
    "Podemos observar que la función de numpy nos arroja el mismo error que en el Ejemplo 1 y 2."
   ]
  },
  {
   "cell_type": "markdown",
   "metadata": {},
   "source": [
    "**Implementación Programadores - Eliminación por bloques con QR**"
   ]
  },
  {
   "cell_type": "markdown",
   "metadata": {},
   "source": [
    "Utilizaremos la función eliminacion_bloques implementada por los programadores para validar sus funcionalidad cuando trata de resolver un sistema de ecuaciones lineales sin solución."
   ]
  },
  {
   "cell_type": "code",
   "execution_count": 20,
   "metadata": {},
   "outputs": [
    {
     "ename": "NameError",
     "evalue": "name 'sys' is not defined",
     "output_type": "error",
     "traceback": [
      "\u001b[0;31m---------------------------------------------------------------------------\u001b[0m",
      "\u001b[0;31mNameError\u001b[0m                                 Traceback (most recent call last)",
      "\u001b[0;32m<ipython-input-20-382a0b9b7585>\u001b[0m in \u001b[0;36m<module>\u001b[0;34m\u001b[0m\n\u001b[0;32m----> 1\u001b[0;31m \u001b[0meliminacion_bloques\u001b[0m\u001b[0;34m(\u001b[0m\u001b[0mA\u001b[0m\u001b[0;34m,\u001b[0m\u001b[0mb\u001b[0m\u001b[0;34m)\u001b[0m\u001b[0;34m\u001b[0m\u001b[0;34m\u001b[0m\u001b[0m\n\u001b[0m",
      "\u001b[0;32m<ipython-input-9-4001de5c642d>\u001b[0m in \u001b[0;36meliminacion_bloques\u001b[0;34m(A, b)\u001b[0m\n\u001b[1;32m     10\u001b[0m     \"\"\"\n\u001b[1;32m     11\u001b[0m     \u001b[0;32mif\u001b[0m \u001b[0mnp\u001b[0m\u001b[0;34m.\u001b[0m\u001b[0mlinalg\u001b[0m\u001b[0;34m.\u001b[0m\u001b[0mdet\u001b[0m\u001b[0;34m(\u001b[0m\u001b[0mA\u001b[0m\u001b[0;34m)\u001b[0m\u001b[0;34m==\u001b[0m\u001b[0;36m0\u001b[0m\u001b[0;34m:\u001b[0m\u001b[0;34m\u001b[0m\u001b[0;34m\u001b[0m\u001b[0m\n\u001b[0;32m---> 12\u001b[0;31m         \u001b[0msys\u001b[0m\u001b[0;34m.\u001b[0m\u001b[0mexit\u001b[0m\u001b[0;34m(\u001b[0m\u001b[0;34m'A debe ser no singular'\u001b[0m\u001b[0;34m)\u001b[0m\u001b[0;34m\u001b[0m\u001b[0;34m\u001b[0m\u001b[0m\n\u001b[0m\u001b[1;32m     13\u001b[0m \u001b[0;34m\u001b[0m\u001b[0m\n\u001b[1;32m     14\u001b[0m     \u001b[0mA11\u001b[0m\u001b[0;34m,\u001b[0m\u001b[0mA12\u001b[0m\u001b[0;34m,\u001b[0m\u001b[0mA21\u001b[0m\u001b[0;34m,\u001b[0m\u001b[0mA22\u001b[0m\u001b[0;34m,\u001b[0m\u001b[0mb1\u001b[0m\u001b[0;34m,\u001b[0m\u001b[0mb2\u001b[0m \u001b[0;34m=\u001b[0m \u001b[0mbloques\u001b[0m\u001b[0;34m(\u001b[0m\u001b[0mA\u001b[0m\u001b[0;34m,\u001b[0m\u001b[0mb\u001b[0m\u001b[0;34m)\u001b[0m\u001b[0;34m\u001b[0m\u001b[0;34m\u001b[0m\u001b[0m\n",
      "\u001b[0;31mNameError\u001b[0m: name 'sys' is not defined"
     ]
    }
   ],
   "source": [
    "eliminacion_bloques(A,b)"
   ]
  },
  {
   "cell_type": "markdown",
   "metadata": {},
   "source": [
    "Una vez mas, podemos observar que la función nos arroja un error al tratar de resolver un sistema de ecuaciones lineales sin solución al igual que numpy. Sin embargo, no existe ningun mensaje que le de visibilidad al usuario del tipo de error al que se esta enfrentando."
   ]
  },
  {
   "cell_type": "markdown",
   "metadata": {},
   "source": [
    "### Ejemplo 4 - Matriz 4 x 3 no cuadrada"
   ]
  },
  {
   "cell_type": "code",
   "execution_count": 21,
   "metadata": {},
   "outputs": [
    {
     "name": "stdout",
     "output_type": "stream",
     "text": [
      "A:\n",
      "array([[-1.67, -9.95, -4.9 ],\n",
      "       [-8.67, -2.01,  1.69],\n",
      "       [ 1.85,  6.62,  9.91],\n",
      "       [-5.53, -9.39, -8.54]])\n",
      "b:\n",
      "array([[-8.54],\n",
      "       [-4.47],\n",
      "       [ 8.08],\n",
      "       [ 8.66]])\n"
     ]
    }
   ],
   "source": [
    "m = 4\n",
    "n = 3\n",
    "A = np.round(crea_matriz(m, n, 10, -10,False), 2)\n",
    "b = np.round(crea_matriz(m, 1, 10, -10,False), 2)\n",
    "print(\"A:\")\n",
    "pprint.pprint(A)\n",
    "print(\"b:\")\n",
    "pprint.pprint(b)"
   ]
  },
  {
   "cell_type": "markdown",
   "metadata": {},
   "source": [
    "**Numpy**"
   ]
  },
  {
   "cell_type": "markdown",
   "metadata": {},
   "source": [
    "Utilizaremos la función de numpy *np.linalg.solve(A,b)* para observar que hace cuando se enfrenta a una matriz no cuadrada."
   ]
  },
  {
   "cell_type": "code",
   "execution_count": 22,
   "metadata": {},
   "outputs": [
    {
     "ename": "LinAlgError",
     "evalue": "Last 2 dimensions of the array must be square",
     "output_type": "error",
     "traceback": [
      "\u001b[0;31m---------------------------------------------------------------------------\u001b[0m",
      "\u001b[0;31mLinAlgError\u001b[0m                               Traceback (most recent call last)",
      "\u001b[0;32m<ipython-input-22-36718354ad3a>\u001b[0m in \u001b[0;36m<module>\u001b[0;34m\u001b[0m\n\u001b[0;32m----> 1\u001b[0;31m \u001b[0mnp\u001b[0m\u001b[0;34m.\u001b[0m\u001b[0mlinalg\u001b[0m\u001b[0;34m.\u001b[0m\u001b[0msolve\u001b[0m\u001b[0;34m(\u001b[0m\u001b[0mA\u001b[0m\u001b[0;34m,\u001b[0m\u001b[0mb\u001b[0m\u001b[0;34m)\u001b[0m\u001b[0;34m\u001b[0m\u001b[0;34m\u001b[0m\u001b[0m\n\u001b[0m",
      "\u001b[0;32m<__array_function__ internals>\u001b[0m in \u001b[0;36msolve\u001b[0;34m(*args, **kwargs)\u001b[0m\n",
      "\u001b[0;32m/usr/local/lib/python3.7/site-packages/numpy/linalg/linalg.py\u001b[0m in \u001b[0;36msolve\u001b[0;34m(a, b)\u001b[0m\n\u001b[1;32m    384\u001b[0m     \u001b[0ma\u001b[0m\u001b[0;34m,\u001b[0m \u001b[0m_\u001b[0m \u001b[0;34m=\u001b[0m \u001b[0m_makearray\u001b[0m\u001b[0;34m(\u001b[0m\u001b[0ma\u001b[0m\u001b[0;34m)\u001b[0m\u001b[0;34m\u001b[0m\u001b[0;34m\u001b[0m\u001b[0m\n\u001b[1;32m    385\u001b[0m     \u001b[0m_assert_stacked_2d\u001b[0m\u001b[0;34m(\u001b[0m\u001b[0ma\u001b[0m\u001b[0;34m)\u001b[0m\u001b[0;34m\u001b[0m\u001b[0;34m\u001b[0m\u001b[0m\n\u001b[0;32m--> 386\u001b[0;31m     \u001b[0m_assert_stacked_square\u001b[0m\u001b[0;34m(\u001b[0m\u001b[0ma\u001b[0m\u001b[0;34m)\u001b[0m\u001b[0;34m\u001b[0m\u001b[0;34m\u001b[0m\u001b[0m\n\u001b[0m\u001b[1;32m    387\u001b[0m     \u001b[0mb\u001b[0m\u001b[0;34m,\u001b[0m \u001b[0mwrap\u001b[0m \u001b[0;34m=\u001b[0m \u001b[0m_makearray\u001b[0m\u001b[0;34m(\u001b[0m\u001b[0mb\u001b[0m\u001b[0;34m)\u001b[0m\u001b[0;34m\u001b[0m\u001b[0;34m\u001b[0m\u001b[0m\n\u001b[1;32m    388\u001b[0m     \u001b[0mt\u001b[0m\u001b[0;34m,\u001b[0m \u001b[0mresult_t\u001b[0m \u001b[0;34m=\u001b[0m \u001b[0m_commonType\u001b[0m\u001b[0;34m(\u001b[0m\u001b[0ma\u001b[0m\u001b[0;34m,\u001b[0m \u001b[0mb\u001b[0m\u001b[0;34m)\u001b[0m\u001b[0;34m\u001b[0m\u001b[0;34m\u001b[0m\u001b[0m\n",
      "\u001b[0;32m/usr/local/lib/python3.7/site-packages/numpy/linalg/linalg.py\u001b[0m in \u001b[0;36m_assert_stacked_square\u001b[0;34m(*arrays)\u001b[0m\n\u001b[1;32m    211\u001b[0m         \u001b[0mm\u001b[0m\u001b[0;34m,\u001b[0m \u001b[0mn\u001b[0m \u001b[0;34m=\u001b[0m \u001b[0ma\u001b[0m\u001b[0;34m.\u001b[0m\u001b[0mshape\u001b[0m\u001b[0;34m[\u001b[0m\u001b[0;34m-\u001b[0m\u001b[0;36m2\u001b[0m\u001b[0;34m:\u001b[0m\u001b[0;34m]\u001b[0m\u001b[0;34m\u001b[0m\u001b[0;34m\u001b[0m\u001b[0m\n\u001b[1;32m    212\u001b[0m         \u001b[0;32mif\u001b[0m \u001b[0mm\u001b[0m \u001b[0;34m!=\u001b[0m \u001b[0mn\u001b[0m\u001b[0;34m:\u001b[0m\u001b[0;34m\u001b[0m\u001b[0;34m\u001b[0m\u001b[0m\n\u001b[0;32m--> 213\u001b[0;31m             \u001b[0;32mraise\u001b[0m \u001b[0mLinAlgError\u001b[0m\u001b[0;34m(\u001b[0m\u001b[0;34m'Last 2 dimensions of the array must be square'\u001b[0m\u001b[0;34m)\u001b[0m\u001b[0;34m\u001b[0m\u001b[0;34m\u001b[0m\u001b[0m\n\u001b[0m\u001b[1;32m    214\u001b[0m \u001b[0;34m\u001b[0m\u001b[0m\n\u001b[1;32m    215\u001b[0m \u001b[0;32mdef\u001b[0m \u001b[0m_assert_finite\u001b[0m\u001b[0;34m(\u001b[0m\u001b[0;34m*\u001b[0m\u001b[0marrays\u001b[0m\u001b[0;34m)\u001b[0m\u001b[0;34m:\u001b[0m\u001b[0;34m\u001b[0m\u001b[0;34m\u001b[0m\u001b[0m\n",
      "\u001b[0;31mLinAlgError\u001b[0m: Last 2 dimensions of the array must be square"
     ]
    }
   ],
   "source": [
    "np.linalg.solve(A,b)"
   ]
  },
  {
   "cell_type": "markdown",
   "metadata": {},
   "source": [
    "La función nos arroja un error en el que nos dice que las dimensiones de la matriz deben de ser cuadradas."
   ]
  },
  {
   "cell_type": "markdown",
   "metadata": {},
   "source": [
    "**Implementación Programadores - Eliminación por bloques con QR**"
   ]
  },
  {
   "cell_type": "markdown",
   "metadata": {},
   "source": [
    "Utilizaremos la función eliminacion_bloques implementada por los programadores para observar que hace cuando se enfrenta a una matriz que no es cuadrada."
   ]
  },
  {
   "cell_type": "code",
   "execution_count": 23,
   "metadata": {},
   "outputs": [
    {
     "ename": "LinAlgError",
     "evalue": "Last 2 dimensions of the array must be square",
     "output_type": "error",
     "traceback": [
      "\u001b[0;31m---------------------------------------------------------------------------\u001b[0m",
      "\u001b[0;31mLinAlgError\u001b[0m                               Traceback (most recent call last)",
      "\u001b[0;32m<ipython-input-23-382a0b9b7585>\u001b[0m in \u001b[0;36m<module>\u001b[0;34m\u001b[0m\n\u001b[0;32m----> 1\u001b[0;31m \u001b[0meliminacion_bloques\u001b[0m\u001b[0;34m(\u001b[0m\u001b[0mA\u001b[0m\u001b[0;34m,\u001b[0m\u001b[0mb\u001b[0m\u001b[0;34m)\u001b[0m\u001b[0;34m\u001b[0m\u001b[0;34m\u001b[0m\u001b[0m\n\u001b[0m",
      "\u001b[0;32m<ipython-input-9-4001de5c642d>\u001b[0m in \u001b[0;36meliminacion_bloques\u001b[0;34m(A, b)\u001b[0m\n\u001b[1;32m      9\u001b[0m             \u001b[0mx2\u001b[0m \u001b[0mSolucion\u001b[0m \u001b[0mal\u001b[0m \u001b[0;36m2\u001b[0m\u001b[0mdo\u001b[0m \u001b[0msistema\u001b[0m \u001b[0mde\u001b[0m \u001b[0mecuaciones\u001b[0m \u001b[0mobtenido\u001b[0m \u001b[0mcon\u001b[0m \u001b[0mla\u001b[0m \u001b[0mdivisión\u001b[0m \u001b[0mpor\u001b[0m \u001b[0mbloques\u001b[0m\u001b[0;34m\u001b[0m\u001b[0;34m\u001b[0m\u001b[0m\n\u001b[1;32m     10\u001b[0m     \"\"\"\n\u001b[0;32m---> 11\u001b[0;31m     \u001b[0;32mif\u001b[0m \u001b[0mnp\u001b[0m\u001b[0;34m.\u001b[0m\u001b[0mlinalg\u001b[0m\u001b[0;34m.\u001b[0m\u001b[0mdet\u001b[0m\u001b[0;34m(\u001b[0m\u001b[0mA\u001b[0m\u001b[0;34m)\u001b[0m\u001b[0;34m==\u001b[0m\u001b[0;36m0\u001b[0m\u001b[0;34m:\u001b[0m\u001b[0;34m\u001b[0m\u001b[0;34m\u001b[0m\u001b[0m\n\u001b[0m\u001b[1;32m     12\u001b[0m         \u001b[0msys\u001b[0m\u001b[0;34m.\u001b[0m\u001b[0mexit\u001b[0m\u001b[0;34m(\u001b[0m\u001b[0;34m'A debe ser no singular'\u001b[0m\u001b[0;34m)\u001b[0m\u001b[0;34m\u001b[0m\u001b[0;34m\u001b[0m\u001b[0m\n\u001b[1;32m     13\u001b[0m \u001b[0;34m\u001b[0m\u001b[0m\n",
      "\u001b[0;32m<__array_function__ internals>\u001b[0m in \u001b[0;36mdet\u001b[0;34m(*args, **kwargs)\u001b[0m\n",
      "\u001b[0;32m/usr/local/lib/python3.7/site-packages/numpy/linalg/linalg.py\u001b[0m in \u001b[0;36mdet\u001b[0;34m(a)\u001b[0m\n\u001b[1;32m   2111\u001b[0m     \u001b[0ma\u001b[0m \u001b[0;34m=\u001b[0m \u001b[0masarray\u001b[0m\u001b[0;34m(\u001b[0m\u001b[0ma\u001b[0m\u001b[0;34m)\u001b[0m\u001b[0;34m\u001b[0m\u001b[0;34m\u001b[0m\u001b[0m\n\u001b[1;32m   2112\u001b[0m     \u001b[0m_assert_stacked_2d\u001b[0m\u001b[0;34m(\u001b[0m\u001b[0ma\u001b[0m\u001b[0;34m)\u001b[0m\u001b[0;34m\u001b[0m\u001b[0;34m\u001b[0m\u001b[0m\n\u001b[0;32m-> 2113\u001b[0;31m     \u001b[0m_assert_stacked_square\u001b[0m\u001b[0;34m(\u001b[0m\u001b[0ma\u001b[0m\u001b[0;34m)\u001b[0m\u001b[0;34m\u001b[0m\u001b[0;34m\u001b[0m\u001b[0m\n\u001b[0m\u001b[1;32m   2114\u001b[0m     \u001b[0mt\u001b[0m\u001b[0;34m,\u001b[0m \u001b[0mresult_t\u001b[0m \u001b[0;34m=\u001b[0m \u001b[0m_commonType\u001b[0m\u001b[0;34m(\u001b[0m\u001b[0ma\u001b[0m\u001b[0;34m)\u001b[0m\u001b[0;34m\u001b[0m\u001b[0;34m\u001b[0m\u001b[0m\n\u001b[1;32m   2115\u001b[0m     \u001b[0msignature\u001b[0m \u001b[0;34m=\u001b[0m \u001b[0;34m'D->D'\u001b[0m \u001b[0;32mif\u001b[0m \u001b[0misComplexType\u001b[0m\u001b[0;34m(\u001b[0m\u001b[0mt\u001b[0m\u001b[0;34m)\u001b[0m \u001b[0;32melse\u001b[0m \u001b[0;34m'd->d'\u001b[0m\u001b[0;34m\u001b[0m\u001b[0;34m\u001b[0m\u001b[0m\n",
      "\u001b[0;32m/usr/local/lib/python3.7/site-packages/numpy/linalg/linalg.py\u001b[0m in \u001b[0;36m_assert_stacked_square\u001b[0;34m(*arrays)\u001b[0m\n\u001b[1;32m    211\u001b[0m         \u001b[0mm\u001b[0m\u001b[0;34m,\u001b[0m \u001b[0mn\u001b[0m \u001b[0;34m=\u001b[0m \u001b[0ma\u001b[0m\u001b[0;34m.\u001b[0m\u001b[0mshape\u001b[0m\u001b[0;34m[\u001b[0m\u001b[0;34m-\u001b[0m\u001b[0;36m2\u001b[0m\u001b[0;34m:\u001b[0m\u001b[0;34m]\u001b[0m\u001b[0;34m\u001b[0m\u001b[0;34m\u001b[0m\u001b[0m\n\u001b[1;32m    212\u001b[0m         \u001b[0;32mif\u001b[0m \u001b[0mm\u001b[0m \u001b[0;34m!=\u001b[0m \u001b[0mn\u001b[0m\u001b[0;34m:\u001b[0m\u001b[0;34m\u001b[0m\u001b[0;34m\u001b[0m\u001b[0m\n\u001b[0;32m--> 213\u001b[0;31m             \u001b[0;32mraise\u001b[0m \u001b[0mLinAlgError\u001b[0m\u001b[0;34m(\u001b[0m\u001b[0;34m'Last 2 dimensions of the array must be square'\u001b[0m\u001b[0;34m)\u001b[0m\u001b[0;34m\u001b[0m\u001b[0;34m\u001b[0m\u001b[0m\n\u001b[0m\u001b[1;32m    214\u001b[0m \u001b[0;34m\u001b[0m\u001b[0m\n\u001b[1;32m    215\u001b[0m \u001b[0;32mdef\u001b[0m \u001b[0m_assert_finite\u001b[0m\u001b[0;34m(\u001b[0m\u001b[0;34m*\u001b[0m\u001b[0marrays\u001b[0m\u001b[0;34m)\u001b[0m\u001b[0;34m:\u001b[0m\u001b[0;34m\u001b[0m\u001b[0;34m\u001b[0m\u001b[0m\n",
      "\u001b[0;31mLinAlgError\u001b[0m: Last 2 dimensions of the array must be square"
     ]
    }
   ],
   "source": [
    "eliminacion_bloques(A,b)"
   ]
  },
  {
   "cell_type": "markdown",
   "metadata": {},
   "source": [
    "Para este ejemplo podemos apreciar que la función nos arroja el mismo error que numpy. Sería bueno agregar una validación previa a la ejecución, en la que garanticemos que el input es una matriz cuadrada."
   ]
  },
  {
   "cell_type": "markdown",
   "metadata": {},
   "source": [
    "## Resumen de Hallazgos"
   ]
  },
  {
   "cell_type": "markdown",
   "metadata": {},
   "source": [
    "La función eliminacion_bloques(A,b) debería de ser capaz de identificar cuando se enfrenta a un sistema de ecuaciones lineales para los cuales no existe solución. En estos casos la función debería de dar como output un mensaje \"Sistema de ecuaciones sin solución\" o \"Matriz singular\" por ejemplo. \n",
    "\n",
    "Por otra parte, tambien debería validar las dimensiones de la matriz de entrada, si las dimensiones de la matriz de entrada no son cuadradas deberíamos de recibir como output un mensaje \"Las dimensiones de la matriz (A) no son cuadradas, por favor revisa\" por dar algun ejemplo.\n",
    "\n",
    "La finalidad de agregar estas funcionalidades a la función es poder dar retroalimentación al usuario respecto a la naturaleza de los errores que se pudieran presentar al utilizar la función.\n",
    "\n",
    "Dados estos hallazgos levantaremos un issue con las siguientes acciones:\n",
    "\n",
    "**TO DO.** \n",
    "\n",
    "+ Agregar validación para sistema de ecuaciones sin solución. \n",
    "\n",
    "+ Agregar validación para matrices no cuadradas.\n"
   ]
  }
 ],
 "metadata": {
  "kernelspec": {
   "display_name": "Python 3",
   "language": "python",
   "name": "python3"
  },
  "language_info": {
   "codemirror_mode": {
    "name": "ipython",
    "version": 3
   },
   "file_extension": ".py",
   "mimetype": "text/x-python",
   "name": "python",
   "nbconvert_exporter": "python",
   "pygments_lexer": "ipython3",
   "version": "3.7.6"
  }
 },
 "nbformat": 4,
 "nbformat_minor": 4
}
