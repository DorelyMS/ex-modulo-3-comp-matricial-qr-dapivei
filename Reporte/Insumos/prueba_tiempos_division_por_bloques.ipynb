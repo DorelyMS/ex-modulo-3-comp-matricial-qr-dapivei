{
 "cells": [
  {
   "cell_type": "markdown",
   "metadata": {},
   "source": [
    "# **Medición de tiempos por bloques**"
   ]
  },
  {
   "cell_type": "markdown",
   "metadata": {},
   "source": [
    "El presente notebook tiene como objetivo realizar mediciones de los tiempos de ejecución de la función **eliminacion_bloques** considerando distintos tamaños de bloques cuadrados para una matriz de 10^2x10^2. Adicionalmente se incluirán los errores relativos.\n",
    "\n",
    "Las dimensiones de los bloques que utilizaremos son: 20x20, 40x40, 60x60 y 80x80.\n",
    "\n",
    "Referente a los errores relativos, compararemos los resultados obtenidos con la solución de numpy."
   ]
  },
  {
   "cell_type": "markdown",
   "metadata": {},
   "source": [
    "**Cargar librerías**"
   ]
  },
  {
   "cell_type": "code",
   "execution_count": 1,
   "metadata": {},
   "outputs": [],
   "source": [
    "import os\n",
    "import numpy as np\n",
    "import pprint\n",
    "import copy\n",
    "from math import sqrt\n",
    "from scipy.linalg import solve_triangular\n",
    "\n",
    "import time\n",
    "import pandas as pd\n",
    "import matplotlib.pyplot as plt"
   ]
  },
  {
   "cell_type": "markdown",
   "metadata": {},
   "source": [
    "**Cargar las funciones**"
   ]
  },
  {
   "cell_type": "code",
   "execution_count": 2,
   "metadata": {},
   "outputs": [],
   "source": [
    "%run -i funciones_factorizacion_QR.py"
   ]
  },
  {
   "cell_type": "markdown",
   "metadata": {},
   "source": [
    "**Funcion para calcular el error relativo**"
   ]
  },
  {
   "cell_type": "code",
   "execution_count": 3,
   "metadata": {},
   "outputs": [],
   "source": [
    "def err_relativo(aprox, obj):\n",
    "    vector = np.abs(aprox-obj)/np.abs(obj)\n",
    "    prom = np.sum(vector)/len(vector)\n",
    "    return prom"
   ]
  },
  {
   "cell_type": "markdown",
   "metadata": {},
   "source": [
    "**Crear tabla para reportar tiempo y errores**"
   ]
  },
  {
   "cell_type": "code",
   "execution_count": 4,
   "metadata": {},
   "outputs": [],
   "source": [
    "col_names = ['Dimensiones de la matriz','Tiempo','Promedio error relativo']\n",
    "table_df = pd.DataFrame(columns = col_names)"
   ]
  },
  {
   "cell_type": "markdown",
   "metadata": {},
   "source": [
    "## Eliminación por bloques con QR considerando sistemas con única solución"
   ]
  },
  {
   "cell_type": "markdown",
   "metadata": {},
   "source": [
    "### Matriz 10^2 x 10^2"
   ]
  },
  {
   "cell_type": "markdown",
   "metadata": {},
   "source": [
    "Generaremos un sistema de ecuaciones lineales de 10^2 x 10^2"
   ]
  },
  {
   "cell_type": "markdown",
   "metadata": {},
   "source": [
    "Fijamos una semilla para que el ejemplo sea replicable"
   ]
  },
  {
   "cell_type": "code",
   "execution_count": 5,
   "metadata": {},
   "outputs": [],
   "source": [
    "np.random.seed(2020)"
   ]
  },
  {
   "cell_type": "code",
   "execution_count": 6,
   "metadata": {},
   "outputs": [
    {
     "name": "stdout",
     "output_type": "stream",
     "text": [
      "A:\n",
      "array([[ 5.,  4.,  0., ..., -1., -4.,  0.],\n",
      "       [-3.,  5., -2., ...,  3., -3., -1.],\n",
      "       [-4., -5., -3., ..., -1., -5.,  3.],\n",
      "       ...,\n",
      "       [-1., -5., -5., ..., -1., -5., -2.],\n",
      "       [-2.,  1., -3., ...,  5.,  4.,  3.],\n",
      "       [ 3.,  4.,  1., ..., -1.,  3.,  5.]])\n",
      "b:\n",
      "array([  7.,   3., -37., -19., -21.,  33., -21.,  -4., -36.,   4.,  13.,\n",
      "       -74.,  -4., -31.,  21.,   7.,  13.,  -6.,  13.,  10., -58.,  17.,\n",
      "       -50.,  25., -19.,  15., -35.,   4.,  -2.,   6., -26., -15., -65.,\n",
      "       -17.,  75., -22.,  22., -30.,  39.,  39., -67.,  24., -51.,  29.,\n",
      "        -3., -24.,   1.,   8.,  34.,  19.,  13.,  24.,  27., -12.,   9.,\n",
      "       -17., -15., -19.,  25., -31.,  24.,  34.,  19., -25., -42., -13.,\n",
      "       -31., -56., -33.,  11., -19., -48.,  80., -11., -11.,   7., -22.,\n",
      "         2.,  41., -18., -32.,  79., -16.,  29., -36., -31., -15.,  31.,\n",
      "       -31.,  -7.,  34.,  20., -11.,  -2., -16., -10., -47., -28., -78.,\n",
      "        11.])\n"
     ]
    }
   ],
   "source": [
    "m = 100\n",
    "n = 100\n",
    "A = crear_matriz_aleatoria(m, n, 5, -5,True)\n",
    "\n",
    "# sumamos las entradas de las filas para crear el vector b, así nuestro vector x tendrá por solución el valor de 1 en cada entrada.\n",
    "b = np.sum(A, axis=1)\n",
    "\n",
    "print(\"A:\")\n",
    "pprint.pprint(A)\n",
    "print(\"b:\")\n",
    "pprint.pprint(b)"
   ]
  },
  {
   "cell_type": "markdown",
   "metadata": {},
   "source": [
    "## Bloques de 20x20"
   ]
  },
  {
   "cell_type": "markdown",
   "metadata": {},
   "source": [
    "**solución del sistema usando la función implementada**"
   ]
  },
  {
   "cell_type": "code",
   "execution_count": 7,
   "metadata": {},
   "outputs": [],
   "source": [
    "begin = time.time()\n",
    "approx = eliminacion_bloques(A,b,20,20)\n",
    "end = time.time()"
   ]
  },
  {
   "cell_type": "markdown",
   "metadata": {},
   "source": [
    "**Solución del sistema usando Numpy**"
   ]
  },
  {
   "cell_type": "code",
   "execution_count": 8,
   "metadata": {},
   "outputs": [],
   "source": [
    "obj = np.linalg.solve(A,b)"
   ]
  },
  {
   "cell_type": "markdown",
   "metadata": {},
   "source": [
    "**Error relativo**"
   ]
  },
  {
   "cell_type": "code",
   "execution_count": 9,
   "metadata": {},
   "outputs": [],
   "source": [
    "error_relativo = err_relativo(approx,obj)"
   ]
  },
  {
   "cell_type": "markdown",
   "metadata": {},
   "source": [
    "**Agregar resultados a la tabla**"
   ]
  },
  {
   "cell_type": "code",
   "execution_count": 10,
   "metadata": {},
   "outputs": [],
   "source": [
    "table_df.loc[len(table_df)] = ['20x20',end-begin,error_relativo]"
   ]
  },
  {
   "cell_type": "markdown",
   "metadata": {},
   "source": [
    "## Bloques de 40x40"
   ]
  },
  {
   "cell_type": "markdown",
   "metadata": {},
   "source": [
    "**solución del sistema usando la función implementada**"
   ]
  },
  {
   "cell_type": "code",
   "execution_count": 11,
   "metadata": {},
   "outputs": [],
   "source": [
    "begin = time.time()\n",
    "approx = eliminacion_bloques(A,b,40,40)\n",
    "end = time.time()"
   ]
  },
  {
   "cell_type": "markdown",
   "metadata": {},
   "source": [
    "**Error relativo**"
   ]
  },
  {
   "cell_type": "code",
   "execution_count": 12,
   "metadata": {},
   "outputs": [],
   "source": [
    "error_relativo = err_relativo(approx,obj)"
   ]
  },
  {
   "cell_type": "markdown",
   "metadata": {},
   "source": [
    "**Agregar resultados a la tabla**"
   ]
  },
  {
   "cell_type": "code",
   "execution_count": 13,
   "metadata": {},
   "outputs": [],
   "source": [
    "table_df.loc[len(table_df)] = ['40x40',end-begin,error_relativo]"
   ]
  },
  {
   "cell_type": "markdown",
   "metadata": {},
   "source": [
    "## Bloques de 60x60"
   ]
  },
  {
   "cell_type": "markdown",
   "metadata": {},
   "source": [
    "**solución del sistema usando la función implementada**"
   ]
  },
  {
   "cell_type": "code",
   "execution_count": 14,
   "metadata": {},
   "outputs": [],
   "source": [
    "begin = time.time()\n",
    "approx = eliminacion_bloques(A,b,60,60)\n",
    "end = time.time()"
   ]
  },
  {
   "cell_type": "markdown",
   "metadata": {},
   "source": [
    "**Solución del sistema usando Numpy**"
   ]
  },
  {
   "cell_type": "code",
   "execution_count": 15,
   "metadata": {},
   "outputs": [],
   "source": [
    "obj = np.linalg.solve(A,b)"
   ]
  },
  {
   "cell_type": "markdown",
   "metadata": {},
   "source": [
    "**Error relativo**"
   ]
  },
  {
   "cell_type": "code",
   "execution_count": 16,
   "metadata": {},
   "outputs": [],
   "source": [
    "error_relativo = err_relativo(approx,obj)"
   ]
  },
  {
   "cell_type": "markdown",
   "metadata": {},
   "source": [
    "**Agregar resultados a la tabla**"
   ]
  },
  {
   "cell_type": "code",
   "execution_count": 17,
   "metadata": {},
   "outputs": [],
   "source": [
    "table_df.loc[len(table_df)] = ['60x60',end-begin,error_relativo]"
   ]
  },
  {
   "cell_type": "markdown",
   "metadata": {},
   "source": [
    "## Bloques de 80x80"
   ]
  },
  {
   "cell_type": "markdown",
   "metadata": {},
   "source": [
    "**solución del sistema usando la función implementada**"
   ]
  },
  {
   "cell_type": "code",
   "execution_count": 18,
   "metadata": {},
   "outputs": [],
   "source": [
    "begin = time.time()\n",
    "approx = eliminacion_bloques(A,b,80,80)\n",
    "end = time.time()"
   ]
  },
  {
   "cell_type": "markdown",
   "metadata": {},
   "source": [
    "**Solución del sistema usando Numpy**"
   ]
  },
  {
   "cell_type": "code",
   "execution_count": 19,
   "metadata": {},
   "outputs": [],
   "source": [
    "obj = np.linalg.solve(A,b)"
   ]
  },
  {
   "cell_type": "markdown",
   "metadata": {},
   "source": [
    "**Error relativo**"
   ]
  },
  {
   "cell_type": "code",
   "execution_count": 20,
   "metadata": {},
   "outputs": [],
   "source": [
    "error_relativo = err_relativo(approx,obj)"
   ]
  },
  {
   "cell_type": "markdown",
   "metadata": {},
   "source": [
    "**Agregar resultados a la tabla**"
   ]
  },
  {
   "cell_type": "code",
   "execution_count": 21,
   "metadata": {},
   "outputs": [],
   "source": [
    "table_df.loc[len(table_df)] = ['80x80',end-begin,error_relativo]"
   ]
  },
  {
   "cell_type": "markdown",
   "metadata": {},
   "source": [
    "### Mostrar tabla con los resultados"
   ]
  },
  {
   "cell_type": "markdown",
   "metadata": {},
   "source": [
    "A continuación se muestra la tabla con los resultados obtenidos"
   ]
  },
  {
   "cell_type": "code",
   "execution_count": 22,
   "metadata": {},
   "outputs": [
    {
     "data": {
      "text/html": [
       "<div>\n",
       "<style scoped>\n",
       "    .dataframe tbody tr th:only-of-type {\n",
       "        vertical-align: middle;\n",
       "    }\n",
       "\n",
       "    .dataframe tbody tr th {\n",
       "        vertical-align: top;\n",
       "    }\n",
       "\n",
       "    .dataframe thead th {\n",
       "        text-align: right;\n",
       "    }\n",
       "</style>\n",
       "<table border=\"1\" class=\"dataframe\">\n",
       "  <thead>\n",
       "    <tr style=\"text-align: right;\">\n",
       "      <th></th>\n",
       "      <th>Dimensiones de la matriz</th>\n",
       "      <th>Tiempo</th>\n",
       "      <th>Promedio error relativo</th>\n",
       "    </tr>\n",
       "  </thead>\n",
       "  <tbody>\n",
       "    <tr>\n",
       "      <th>0</th>\n",
       "      <td>20x20</td>\n",
       "      <td>0.204144</td>\n",
       "      <td>1.964784e-13</td>\n",
       "    </tr>\n",
       "    <tr>\n",
       "      <th>1</th>\n",
       "      <td>40x40</td>\n",
       "      <td>0.277713</td>\n",
       "      <td>1.237010e-13</td>\n",
       "    </tr>\n",
       "    <tr>\n",
       "      <th>2</th>\n",
       "      <td>60x60</td>\n",
       "      <td>0.334153</td>\n",
       "      <td>2.217670e-14</td>\n",
       "    </tr>\n",
       "    <tr>\n",
       "      <th>3</th>\n",
       "      <td>80x80</td>\n",
       "      <td>0.401231</td>\n",
       "      <td>1.988187e-14</td>\n",
       "    </tr>\n",
       "  </tbody>\n",
       "</table>\n",
       "</div>"
      ],
      "text/plain": [
       "  Dimensiones de la matriz    Tiempo  Promedio error relativo\n",
       "0                    20x20  0.204144             1.964784e-13\n",
       "1                    40x40  0.277713             1.237010e-13\n",
       "2                    60x60  0.334153             2.217670e-14\n",
       "3                    80x80  0.401231             1.988187e-14"
      ]
     },
     "execution_count": 22,
     "metadata": {},
     "output_type": "execute_result"
    }
   ],
   "source": [
    "table_df.head()"
   ]
  },
  {
   "cell_type": "markdown",
   "metadata": {},
   "source": [
    "## Gráficas"
   ]
  },
  {
   "cell_type": "markdown",
   "metadata": {},
   "source": [
    "### Gráfica del tiempo de ejecución"
   ]
  },
  {
   "cell_type": "code",
   "execution_count": 23,
   "metadata": {},
   "outputs": [],
   "source": [
    "dimensiones = table_df['Dimensiones de la matriz']\n",
    "tiempos = table_df['Tiempo']"
   ]
  },
  {
   "cell_type": "code",
   "execution_count": 24,
   "metadata": {},
   "outputs": [
    {
     "data": {
      "image/png": "[encoded data removed]",
      "text/plain": [
       "<Figure size 432x288 with 1 Axes>"
      ]
     },
     "metadata": {
      "needs_background": "light"
     },
     "output_type": "display_data"
    }
   ],
   "source": [
    "plt.plot(dimensiones, tiempos, '^-')\n",
    "plt.xlabel('Dimensiones')\n",
    "plt.ylabel('Tiempo en segundos')\n",
    "plt.grid(True)\n",
    "plt.title('Tiempos de ejecución')\n",
    "plt.show()"
   ]
  },
  {
   "cell_type": "markdown",
   "metadata": {},
   "source": [
    "plt.plot(dimensiones, tiempos, '^-')\n",
    "plt.xlabel('Dimensiones')\n",
    "plt.ylabel('Tiempo en segundos')\n",
    "plt.grid(True)\n",
    "plt.title('Tiempos de ejecución')\n",
    "plt.show()"
   ]
  },
  {
   "cell_type": "markdown",
   "metadata": {},
   "source": [
    "### Gráfica del promedio del error relativo"
   ]
  },
  {
   "cell_type": "code",
   "execution_count": 25,
   "metadata": {},
   "outputs": [],
   "source": [
    "dimensiones = table_df['Dimensiones de la matriz']\n",
    "error = table_df['Promedio error relativo']"
   ]
  },
  {
   "cell_type": "code",
   "execution_count": 26,
   "metadata": {},
   "outputs": [
    {
     "data": {
      "image/png": "[encoded data removed]",
      "text/plain": [
       "<Figure size 432x288 with 1 Axes>"
      ]
     },
     "metadata": {
      "needs_background": "light"
     },
     "output_type": "display_data"
    }
   ],
   "source": [
    "plt.plot(dimensiones, error, '^-')\n",
    "plt.xlabel('Dimensiones')\n",
    "plt.ylabel('Tiempo en segundos')\n",
    "plt.grid(True)\n",
    "plt.title('Promedio error relativo')\n",
    "plt.show()"
   ]
  },
  {
   "cell_type": "markdown",
   "metadata": {},
   "source": [
    "## Summary de los Reultados"
   ]
  },
  {
   "cell_type": "markdown",
   "metadata": {},
   "source": [
    "Observamos que el menor tiempo de ejecución se presenta cuando elegimos bloques más pequeño, mientras que el menor error relativo es cuando elegimos bloques de mayor tamaño"
   ]
  }
 ],
 "metadata": {
  "kernelspec": {
   "display_name": "Python 3",
   "language": "python",
   "name": "python3"
  },
  "language_info": {
   "codemirror_mode": {
    "name": "ipython",
    "version": 3
   },
   "file_extension": ".py",
   "mimetype": "text/x-python",
   "name": "python",
   "nbconvert_exporter": "python",
   "pygments_lexer": "ipython3",
   "version": "3.7.6"
  }
 },
 "nbformat": 4,
 "nbformat_minor": 4
}
