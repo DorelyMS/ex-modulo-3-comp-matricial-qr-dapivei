{
 "cells": [
  {
   "cell_type": "markdown",
   "metadata": {},
   "source": [
    "## MEDICIONES DE TIEMPOS DE EJECUCIÓN DE FUNCIONES A NIVEL GRANULAR"
   ]
  },
  {
   "cell_type": "markdown",
   "metadata": {},
   "source": [
    "Conforme al desarrollo del proyecto, el equipo de programación desarrolló la función **eliminacion_bloques**, la cual resuelve sistemas de ecuaciones lineales utilizando factorización $QR$. Dicha función contiene a su vez otras funciones que ayudan a la solución del problema general; de forma específica podemos enunciar las siguientes:\n",
    "\n",
    "1. matriz_auxiliar_Arv\n",
    "2. matriz_Q_R (se hace uso de la función *matri_auxiliar_Arv*)\n",
    "3. crear_bloques \n",
    "4. Solucion_SEL_QR_nxn (se hace uso de la función *matriz_Q_R*)\n",
    "\n",
    "El presente notebook tiene como objetivo realizar mediciones de los tiempos de ejecución a nivel granular, es decir, medir lAs funciones enlistadas. Adicionalmente se incluye también la medición de la matriz que permite crear matrices aleatorias: *crear_matriz_aleatoria*.\n",
    "\n",
    "Tales mediciones se llevarán acabo para sistemas de dimensiones $2$, $10$, $100$ y $500$.\n",
    "\n",
    "Si bien, la función **Solucion_SEL_QR_nxn** es utilizada cuatro veces en el algoritmo final (**eliminacion_bloques**), en este caso se medirá únicamente el tiempo que tarda en resolver el sistema de ecuaciones correspondiente al primer bloque, es decir, $A_{11}y=b_1$."
   ]
  },
  {
   "cell_type": "code",
   "execution_count": 1,
   "metadata": {},
   "outputs": [],
   "source": [
    "import funciones_factorizacion_QR as fqr\n",
    "import matplotlib.pyplot as plt\n",
    "import numpy as np\n",
    "import pandas as pd\n",
    "import time"
   ]
  },
  {
   "cell_type": "markdown",
   "metadata": {},
   "source": [
    "Se define una función que permitirá almacenar los resultados en una tabla para poder mostrar éstos en un resumen final."
   ]
  },
  {
   "cell_type": "code",
   "execution_count": 2,
   "metadata": {},
   "outputs": [],
   "source": [
    "col_names = ['Dimensión','Tiempo ejecución']\n",
    "table_df0 = pd.DataFrame(columns=col_names)\n",
    "table_df1 = pd.DataFrame(columns=col_names)\n",
    "table_df2 = pd.DataFrame(columns=col_names)\n",
    "table_df3 = pd.DataFrame(columns=col_names)\n",
    "table_df4 = pd.DataFrame(columns=col_names)"
   ]
  },
  {
   "cell_type": "markdown",
   "metadata": {},
   "source": [
    "## MEDICIÓN DE TIEMPOS"
   ]
  },
  {
   "cell_type": "markdown",
   "metadata": {},
   "source": [
    "### EJEMPLO 1 - MATRIZ 2X2"
   ]
  },
  {
   "cell_type": "markdown",
   "metadata": {},
   "source": [
    "\n",
    "\n",
    "A continuación se presenta la medición de tiempos de ejecución de las funciones ya mencionadas, en el siguiente orden:\n",
    "\n",
    "0. crear_matriz_aleatoria\n",
    "1. matriz_auxiliar_Arv\n",
    "2. matriz_Q_R \n",
    "3. crear_bloques \n",
    "4. Solucion_SEL_QR_nxn "
   ]
  },
  {
   "cell_type": "markdown",
   "metadata": {},
   "source": [
    "0. **crear_matriz_aleatoria**"
   ]
  },
  {
   "cell_type": "code",
   "execution_count": 3,
   "metadata": {},
   "outputs": [
    {
     "name": "stdout",
     "output_type": "stream",
     "text": [
      "Tiempo ejecución de creación de matriz aleatoria: 0.0001\n"
     ]
    }
   ],
   "source": [
    "# Definición de sistema de ecuaciones y medición de función crear_matriz_aleatoria\n",
    "\n",
    "funcion = 'crear_matriz_aleatoria'\n",
    "\n",
    "# Dimensiones de la matriz\n",
    "m = 2\n",
    "n = 2\n",
    "\n",
    "# Lado izquierdo del sistema de ecuaciones\n",
    "b= fqr.crear_matriz_aleatoria(m,1,1,2)\n",
    "\n",
    "# Lado derecho del sistema de ecuaciones\n",
    "# Medición tiempos de creación de matriz aleatoria de 10^2x10^2\n",
    "begin = time.time()\n",
    "A = fqr.crear_matriz_aleatoria(m,n,1,2)\n",
    "end = time.time()\n",
    "tiempo = round(end-begin,4)\n",
    "\n",
    "# Almacenamiento de tiempo de ejecución en tabla \n",
    "table_df0.loc[len(table_df0)]=['2x2',tiempo]\n",
    "\n",
    "print('Tiempo ejecución de creación de matriz aleatoria:',tiempo)"
   ]
  },
  {
   "cell_type": "markdown",
   "metadata": {},
   "source": [
    "1. **matriz_auxiliar_Arv**"
   ]
  },
  {
   "cell_type": "code",
   "execution_count": 4,
   "metadata": {},
   "outputs": [
    {
     "name": "stdout",
     "output_type": "stream",
     "text": [
      "Tiempo ejecución de matriz auxiliar para QR: 0.0004\n"
     ]
    }
   ],
   "source": [
    "# Medición de tiempos de función matriz_auxiliar_Arv\n",
    "funcion ='matriz_auxiliar_Arv'\n",
    "\n",
    "begin = time.time()\n",
    "matriz_Arv = fqr.matriz_auxiliar_Arv(A)\n",
    "end = time.time()\n",
    "tiempo = round(end-begin,4)\n",
    "\n",
    "# Almacenamiento de tiempo de ejecución en tabla\n",
    "table_df1.loc[len(table_df1)]=['2x2',tiempo]\n",
    "\n",
    "print('Tiempo ejecución de matriz auxiliar para QR:',tiempo)"
   ]
  },
  {
   "cell_type": "markdown",
   "metadata": {},
   "source": [
    "2. **matriz_QR**"
   ]
  },
  {
   "cell_type": "code",
   "execution_count": 5,
   "metadata": {},
   "outputs": [
    {
     "name": "stdout",
     "output_type": "stream",
     "text": [
      "Tiempo ejecución de Descomposición QR: 0.038\n"
     ]
    }
   ],
   "source": [
    "# Medición de tiempos de descomposición QR\n",
    "funcion ='descomposicon_QR'\n",
    "\n",
    "begin = time.time()\n",
    "fqr.matriz_Q_R(A)\n",
    "end = time.time()\n",
    "tiempo = round(end-begin,4)\n",
    "\n",
    "# Almacenamiento de tiempo de ejecución en tabla\n",
    "table_df2.loc[len(table_df2)]=['2X2',tiempo]\n",
    "\n",
    "print('Tiempo ejecución de Descomposición QR:',tiempo)"
   ]
  },
  {
   "cell_type": "markdown",
   "metadata": {},
   "source": [
    "3. **crear_bloques** "
   ]
  },
  {
   "cell_type": "code",
   "execution_count": 6,
   "metadata": {},
   "outputs": [
    {
     "name": "stdout",
     "output_type": "stream",
     "text": [
      "Tiempo ejecución de creación de bloques: 0.0001\n"
     ]
    }
   ],
   "source": [
    "# Medición de tiempos de función crear_bloques\n",
    "funcion = 'crear_bloques'\n",
    "\n",
    "begin = time.time()\n",
    "A11,A21,A12,A22,b1,b2=fqr.crear_bloques(A,b)\n",
    "end = time.time()\n",
    "tiempo = round(end-begin,4)\n",
    "\n",
    "# Almacenamiento de tiempo de ejecución en tabla\n",
    "table_df3.loc[len(table_df3)]=['2X2',tiempo]\n",
    "\n",
    "print('Tiempo ejecución de creación de bloques:',tiempo)"
   ]
  },
  {
   "cell_type": "markdown",
   "metadata": {},
   "source": [
    "4. **Solucion_SEL_QR_nxn**"
   ]
  },
  {
   "cell_type": "code",
   "execution_count": 7,
   "metadata": {},
   "outputs": [
    {
     "name": "stdout",
     "output_type": "stream",
     "text": [
      "Tiempo ejecución primer sistema de ecuaciones: 0.0011\n"
     ]
    }
   ],
   "source": [
    "# Medición de tiempos de primer sistema de ecuaciones que se resuelve en eliminacion por bloques\n",
    "#Solucion_SEL_QR_nxn(A11,b1)\n",
    "funcion = 'Solucion_SEL_QR_nxn'\n",
    "\n",
    "begin = time.time()\n",
    "fqr.Solucion_SEL_QR_nxn(A11,b1)\n",
    "end = time.time()\n",
    "tiempo = round(end-begin,4)\n",
    "\n",
    "# Almacenamiento de tiempo de ejecución en tabla\n",
    "table_df4.loc[len(table_df4)]=['2X2',tiempo]\n",
    "\n",
    "print('Tiempo ejecución primer sistema de ecuaciones:',tiempo)"
   ]
  },
  {
   "cell_type": "markdown",
   "metadata": {},
   "source": [
    "### EJEMPLO 2 - MATRIZ 10X10\n",
    "\n",
    "De forma análoga al primer ejemplo, se medirán los tiempos de ejecución de las cinco funciones ya mencionadas para un sistema de $10x10$."
   ]
  },
  {
   "cell_type": "markdown",
   "metadata": {},
   "source": [
    "0. **crear_matriz_aleatoria**"
   ]
  },
  {
   "cell_type": "code",
   "execution_count": 8,
   "metadata": {},
   "outputs": [
    {
     "name": "stdout",
     "output_type": "stream",
     "text": [
      "Tiempo ejecución de creación de matriz aleatoria: 0.0027\n"
     ]
    }
   ],
   "source": [
    "# Definición de sistema de ecuaciones y medición de función crear_matriz_aleatoria\n",
    "\n",
    "funcion = 'crear_matriz_aleatoria'\n",
    "\n",
    "# Dimensiones de la matriz\n",
    "m = 10\n",
    "n = 10\n",
    "\n",
    "# Lado izquierdo del sistema de ecuaciones\n",
    "b= fqr.crear_matriz_aleatoria(m,1,1,2)\n",
    "\n",
    "# Lado derecho del sistema de ecuaciones\n",
    "# Medición tiempos de creación de matriz aleatoria de 10^2x10^2\n",
    "begin = time.time()\n",
    "A = fqr.crear_matriz_aleatoria(m,n,1,2)\n",
    "end = time.time()\n",
    "tiempo = round(end-begin,4)\n",
    "\n",
    "# Almacenamiento de tiempo de ejecución en tabla \n",
    "table_df0.loc[len(table_df0)]=['10x10',tiempo]\n",
    "\n",
    "print('Tiempo ejecución de creación de matriz aleatoria:',tiempo)"
   ]
  },
  {
   "cell_type": "markdown",
   "metadata": {},
   "source": [
    "1. **matriz_auxiliar_Arv**"
   ]
  },
  {
   "cell_type": "code",
   "execution_count": 9,
   "metadata": {},
   "outputs": [
    {
     "name": "stdout",
     "output_type": "stream",
     "text": [
      "Tiempo ejecución de matriz auxiliar para QR: 0.0012\n"
     ]
    }
   ],
   "source": [
    "# Medición de tiempos de función matriz_auxiliar_Arv\n",
    "funcion ='matriz_auxiliar_Arv'\n",
    "\n",
    "begin = time.time()\n",
    "matriz_Arv = fqr.matriz_auxiliar_Arv(A)\n",
    "end = time.time()\n",
    "tiempo = round(end-begin,4)\n",
    "\n",
    "# Almacenamiento de tiempo de ejecución en tabla\n",
    "table_df1.loc[len(table_df1)]=['10X10 ',tiempo]\n",
    "\n",
    "print('Tiempo ejecución de matriz auxiliar para QR:',tiempo)"
   ]
  },
  {
   "cell_type": "markdown",
   "metadata": {},
   "source": [
    "2. **matriz_QR**"
   ]
  },
  {
   "cell_type": "code",
   "execution_count": 10,
   "metadata": {},
   "outputs": [
    {
     "name": "stdout",
     "output_type": "stream",
     "text": [
      "Tiempo ejecución de Descomposición QR: 0.0033\n"
     ]
    }
   ],
   "source": [
    "# Medición de tiempos de descomposición QR\n",
    "funcion ='descomposicon_QR'\n",
    "\n",
    "begin = time.time()\n",
    "fqr.matriz_Q_R(A)\n",
    "end = time.time()\n",
    "tiempo = round(end-begin,4)\n",
    "\n",
    "# Almacenamiento de tiempo de ejecución en tabla\n",
    "table_df2.loc[len(table_df2)]=['10X10',tiempo]\n",
    "\n",
    "print('Tiempo ejecución de Descomposición QR:',tiempo)"
   ]
  },
  {
   "cell_type": "markdown",
   "metadata": {},
   "source": [
    "3. **crear_bloques** "
   ]
  },
  {
   "cell_type": "code",
   "execution_count": 11,
   "metadata": {},
   "outputs": [
    {
     "name": "stdout",
     "output_type": "stream",
     "text": [
      "Tiempo ejecución de creación de bloques: 0.0001\n"
     ]
    }
   ],
   "source": [
    "# Medición de tiempos de función crear_bloques\n",
    "funcion = 'crear_bloques'\n",
    "\n",
    "begin = time.time()\n",
    "A11,A21,A12,A22,b1,b2=fqr.crear_bloques(A,b)\n",
    "end = time.time()\n",
    "tiempo = round(end-begin,4)\n",
    "\n",
    "# Almacenamiento de tiempo de ejecución en tabla\n",
    "table_df3.loc[len(table_df3)]=['10X10 ',tiempo]\n",
    "\n",
    "print('Tiempo ejecución de creación de bloques:',tiempo)"
   ]
  },
  {
   "cell_type": "markdown",
   "metadata": {},
   "source": [
    "4. **Solucion_SEL_QR_nxn**"
   ]
  },
  {
   "cell_type": "code",
   "execution_count": 12,
   "metadata": {},
   "outputs": [
    {
     "name": "stdout",
     "output_type": "stream",
     "text": [
      "Tiempo ejecución primer sistema de ecuaciones: 0.0023\n"
     ]
    }
   ],
   "source": [
    "# Medición de tiempos de primer sistema de ecuaciones que se resuelve en eliminacion por bloques\n",
    "#Solucion_SEL_QR_nxn(A11,b1)\n",
    "funcion = 'Solucion_SEL_QR_nxn'\n",
    "\n",
    "begin = time.time()\n",
    "fqr.Solucion_SEL_QR_nxn(A11,b1)\n",
    "end = time.time()\n",
    "tiempo = round(end-begin,4)\n",
    "\n",
    "# Almacenamiento de tiempo de ejecución en tabla\n",
    "table_df4.loc[len(table_df4)]=['10X10 ',tiempo]\n",
    "\n",
    "print('Tiempo ejecución primer sistema de ecuaciones:',tiempo)"
   ]
  },
  {
   "cell_type": "markdown",
   "metadata": {},
   "source": [
    "### EJEMPLO 3 - MATRIZ 100X100"
   ]
  },
  {
   "cell_type": "markdown",
   "metadata": {},
   "source": [
    "0. **crear_matriz_aleatoria**"
   ]
  },
  {
   "cell_type": "code",
   "execution_count": 13,
   "metadata": {},
   "outputs": [
    {
     "name": "stdout",
     "output_type": "stream",
     "text": [
      "Tiempo ejecución de creación de matriz aleatoria: 0.1064\n"
     ]
    }
   ],
   "source": [
    "# Definición de sistema de ecuaciones y medición de función crear_matriz_aleatoria\n",
    "\n",
    "funcion = 'crear_matriz_aleatoria'\n",
    "\n",
    "# Dimensiones de la matriz\n",
    "m = 10**2\n",
    "n = 10**2\n",
    "\n",
    "# Lado izquierdo del sistema de ecuaciones\n",
    "b= fqr.crear_matriz_aleatoria(m,1,1,2)\n",
    "\n",
    "# Lado derecho del sistema de ecuaciones\n",
    "# Medición tiempos de creación de matriz aleatoria de 10^2x10^2\n",
    "begin = time.time()\n",
    "A = fqr.crear_matriz_aleatoria(m,n,1,2)\n",
    "end = time.time()\n",
    "tiempo = round(end-begin,4)\n",
    "\n",
    "# Almacenamiento de tiempo de ejecución en tabla \n",
    "table_df0.loc[len(table_df0)]=['100x100',tiempo]\n",
    "\n",
    "print('Tiempo ejecución de creación de matriz aleatoria:',tiempo)"
   ]
  },
  {
   "cell_type": "markdown",
   "metadata": {},
   "source": [
    "1. **matriz_auxiliar_Arv**"
   ]
  },
  {
   "cell_type": "code",
   "execution_count": 14,
   "metadata": {},
   "outputs": [
    {
     "name": "stdout",
     "output_type": "stream",
     "text": [
      "Tiempo ejecución de matriz auxiliar para QR: 0.0086\n"
     ]
    }
   ],
   "source": [
    "# Medición de tiempos de función matriz_auxiliar_Arv\n",
    "funcion ='matriz_auxiliar_Arv'\n",
    "\n",
    "begin = time.time()\n",
    "matriz_Arv = fqr.matriz_auxiliar_Arv(A)\n",
    "end = time.time()\n",
    "tiempo = round(end-begin,4)\n",
    "\n",
    "# Almacenamiento de tiempo de ejecución en tabla\n",
    "table_df1.loc[len(table_df1)]=['100X100 ',tiempo]\n",
    "\n",
    "print('Tiempo ejecución de matriz auxiliar para QR:',tiempo)"
   ]
  },
  {
   "cell_type": "markdown",
   "metadata": {},
   "source": [
    "2. **matriz_QR**"
   ]
  },
  {
   "cell_type": "code",
   "execution_count": 15,
   "metadata": {},
   "outputs": [
    {
     "name": "stdout",
     "output_type": "stream",
     "text": [
      "Tiempo ejecución de Descomposición QR: 0.0515\n"
     ]
    }
   ],
   "source": [
    "# Medición de tiempos de descomposición QR\n",
    "funcion ='descomposicon_QR'\n",
    "\n",
    "begin = time.time()\n",
    "fqr.matriz_Q_R(A)\n",
    "end = time.time()\n",
    "tiempo = round(end-begin,4)\n",
    "\n",
    "# Almacenamiento de tiempo de ejecución en tabla\n",
    "table_df2.loc[len(table_df2)]=['100X100 ',tiempo]\n",
    "\n",
    "print('Tiempo ejecución de Descomposición QR:',tiempo)"
   ]
  },
  {
   "cell_type": "markdown",
   "metadata": {},
   "source": [
    "3. **crear_bloques** "
   ]
  },
  {
   "cell_type": "code",
   "execution_count": 16,
   "metadata": {},
   "outputs": [
    {
     "name": "stdout",
     "output_type": "stream",
     "text": [
      "Tiempo ejecución de creación de bloques: 0.0001\n"
     ]
    }
   ],
   "source": [
    "# Medición de tiempos de función crear_bloques\n",
    "funcion = 'crear_bloques'\n",
    "\n",
    "begin = time.time()\n",
    "A11,A21,A12,A22,b1,b2=fqr.crear_bloques(A,b)\n",
    "end = time.time()\n",
    "tiempo = round(end-begin,4)\n",
    "\n",
    "# Almacenamiento de tiempo de ejecución en tabla\n",
    "table_df3.loc[len(table_df3)]=['100X100 ',tiempo]\n",
    "\n",
    "print('Tiempo ejecución de creación de bloques:',tiempo)"
   ]
  },
  {
   "cell_type": "markdown",
   "metadata": {},
   "source": [
    "4. **Solucion_SEL_QR_nxn**"
   ]
  },
  {
   "cell_type": "code",
   "execution_count": 17,
   "metadata": {},
   "outputs": [
    {
     "name": "stdout",
     "output_type": "stream",
     "text": [
      "Tiempo ejecución primer sistema de ecuaciones: 0.0101\n"
     ]
    }
   ],
   "source": [
    "# Medición de tiempos de primer sistema de ecuaciones que se resuelve en eliminacion por bloques\n",
    "#Solucion_SEL_QR_nxn(A11,b1)\n",
    "funcion = 'Solucion_SEL_QR_nxn'\n",
    "\n",
    "begin = time.time()\n",
    "fqr.Solucion_SEL_QR_nxn(A11,b1)\n",
    "end = time.time()\n",
    "tiempo = round(end-begin,4)\n",
    "\n",
    "# Almacenamiento de tiempo de ejecución en tabla\n",
    "table_df4.loc[len(table_df4)]=['100X100 ',tiempo]\n",
    "\n",
    "print('Tiempo ejecución primer sistema de ecuaciones:',tiempo)"
   ]
  },
  {
   "cell_type": "markdown",
   "metadata": {},
   "source": []
  },
  {
   "cell_type": "markdown",
   "metadata": {},
   "source": [
    "### EJEMPLO 4 - MATRIZ 500X500"
   ]
  },
  {
   "cell_type": "markdown",
   "metadata": {},
   "source": [
    "0. **crear_matriz_aleatoria**"
   ]
  },
  {
   "cell_type": "code",
   "execution_count": 18,
   "metadata": {},
   "outputs": [
    {
     "name": "stdout",
     "output_type": "stream",
     "text": [
      "Tiempo ejecución de creación de matriz aleatoria: 1.1674\n"
     ]
    }
   ],
   "source": [
    "# Definición de sistema de ecuaciones y medición de función crear_matriz_aleatoria\n",
    "\n",
    "funcion = 'crear_matriz_aleatoria'\n",
    "\n",
    "# Dimensiones de la matriz\n",
    "m = 500\n",
    "n = 500\n",
    "\n",
    "# Lado izquierdo del sistema de ecuaciones\n",
    "b= fqr.crear_matriz_aleatoria(m,1,1,2)\n",
    "\n",
    "# Lado derecho del sistema de ecuaciones\n",
    "# Medición tiempos de creación de matriz aleatoria de 10^2x10^2\n",
    "begin = time.time()\n",
    "A = fqr.crear_matriz_aleatoria(m,n,1,2)\n",
    "end = time.time()\n",
    "tiempo = round(end-begin,4)\n",
    "\n",
    "# Almacenamiento de tiempo de ejecución en tabla \n",
    "table_df0.loc[len(table_df0)]=['500x500',tiempo]\n",
    "\n",
    "print('Tiempo ejecución de creación de matriz aleatoria:',tiempo)"
   ]
  },
  {
   "cell_type": "markdown",
   "metadata": {},
   "source": [
    "1. **matriz_auxiliar_Arv**"
   ]
  },
  {
   "cell_type": "code",
   "execution_count": 19,
   "metadata": {},
   "outputs": [
    {
     "name": "stdout",
     "output_type": "stream",
     "text": [
      "Tiempo ejecución de matriz auxiliar para QR: 0.2755\n"
     ]
    }
   ],
   "source": [
    "# Medición de tiempos de función matriz_auxiliar_Arv\n",
    "funcion ='matriz_auxiliar_Arv'\n",
    "\n",
    "begin = time.time()\n",
    "matriz_Arv = fqr.matriz_auxiliar_Arv(A)\n",
    "end = time.time()\n",
    "tiempo = round(end-begin,4)\n",
    "\n",
    "# Almacenamiento de tiempo de ejecución en tabla\n",
    "table_df1.loc[len(table_df1)]=['500X500 ',tiempo]\n",
    "\n",
    "print('Tiempo ejecución de matriz auxiliar para QR:',tiempo)"
   ]
  },
  {
   "cell_type": "markdown",
   "metadata": {},
   "source": [
    "2. **matriz_QR**"
   ]
  },
  {
   "cell_type": "code",
   "execution_count": 20,
   "metadata": {},
   "outputs": [
    {
     "name": "stdout",
     "output_type": "stream",
     "text": [
      "Tiempo ejecución de Descomposición QR: 7.4451\n"
     ]
    }
   ],
   "source": [
    "# Medición de tiempos de descomposición QR\n",
    "funcion ='descomposicon_QR'\n",
    "\n",
    "begin = time.time()\n",
    "fqr.matriz_Q_R(A)\n",
    "end = time.time()\n",
    "tiempo = round(end-begin,4)\n",
    "\n",
    "# Almacenamiento de tiempo de ejecución en tabla\n",
    "table_df2.loc[len(table_df2)]=['500X500 ',tiempo]\n",
    "\n",
    "print('Tiempo ejecución de Descomposición QR:',tiempo)"
   ]
  },
  {
   "cell_type": "markdown",
   "metadata": {},
   "source": [
    "3. **crear_bloques** "
   ]
  },
  {
   "cell_type": "code",
   "execution_count": 21,
   "metadata": {},
   "outputs": [
    {
     "name": "stdout",
     "output_type": "stream",
     "text": [
      "Tiempo ejecución de creación de bloques: 0.0001\n"
     ]
    }
   ],
   "source": [
    "# Medición de tiempos de función crear_bloques\n",
    "funcion = 'crear_bloques'\n",
    "\n",
    "begin = time.time()\n",
    "A11,A21,A12,A22,b1,b2=fqr.crear_bloques(A,b)\n",
    "end = time.time()\n",
    "tiempo = round(end-begin,4)\n",
    "\n",
    "# Almacenamiento de tiempo de ejecución en tabla\n",
    "table_df3.loc[len(table_df3)]=['500X500 ',tiempo]\n",
    "\n",
    "print('Tiempo ejecución de creación de bloques:',tiempo)"
   ]
  },
  {
   "cell_type": "markdown",
   "metadata": {},
   "source": [
    "4. **Solucion_SEL_QR_nxn**"
   ]
  },
  {
   "cell_type": "code",
   "execution_count": 22,
   "metadata": {},
   "outputs": [
    {
     "name": "stdout",
     "output_type": "stream",
     "text": [
      "Tiempo ejecución primer sistema de ecuaciones: 0.7841\n"
     ]
    }
   ],
   "source": [
    "# Medición de tiempos de primer sistema de ecuaciones que se resuelve en eliminacion por bloques\n",
    "#Solucion_SEL_QR_nxn(A11,b1)\n",
    "funcion = 'Solucion_SEL_QR_nxn'\n",
    "\n",
    "begin = time.time()\n",
    "fqr.Solucion_SEL_QR_nxn(A11,b1)\n",
    "end = time.time()\n",
    "tiempo = round(end-begin,4)\n",
    "\n",
    "# Almacenamiento de tiempo de ejecución en tabla\n",
    "table_df4.loc[len(table_df4)]=['500X500 ',tiempo]\n",
    "\n",
    "print('Tiempo ejecución primer sistema de ecuaciones:',tiempo)"
   ]
  },
  {
   "cell_type": "markdown",
   "metadata": {},
   "source": [
    "## RESULTADOS\n",
    "\n",
    "En seguida se muestra una comparación de los tiempos obtenidos en la ejecución de cada función, al variar las dimensiones de la matriz de entrada:"
   ]
  },
  {
   "cell_type": "markdown",
   "metadata": {},
   "source": [
    "0. **crear_matriz_aleatoria**"
   ]
  },
  {
   "cell_type": "code",
   "execution_count": 23,
   "metadata": {},
   "outputs": [
    {
     "name": "stdout",
     "output_type": "stream",
     "text": [
      "\n",
      "Función: crear_matriz_aleatoria\n",
      "\n"
     ]
    },
    {
     "data": {
      "image/png": "[encoded data removed]",
      "text/plain": [
       "<Figure size 432x288 with 1 Axes>"
      ]
     },
     "metadata": {
      "needs_background": "light"
     },
     "output_type": "display_data"
    }
   ],
   "source": [
    "print('\\nFunción: crear_matriz_aleatoria\\n')\n",
    "table_df0\n",
    "\n",
    "dimensiones = table_df0['Dimensión']\n",
    "tiempos = table_df0['Tiempo ejecución']\n",
    "\n",
    "plt.plot(dimensiones, tiempos, '^-')\n",
    "plt.xlabel('Dimensiones')\n",
    "plt.ylabel('Tiempo en segundos')\n",
    "plt.grid(True)\n",
    "plt.title('Tiempos de ejecución')\n",
    "plt.show()"
   ]
  },
  {
   "cell_type": "markdown",
   "metadata": {},
   "source": [
    "1. **matriz_auxiliar_Arv**"
   ]
  },
  {
   "cell_type": "code",
   "execution_count": 24,
   "metadata": {},
   "outputs": [
    {
     "name": "stdout",
     "output_type": "stream",
     "text": [
      "\n",
      "Función: matriz_auxiliar_Arv\n",
      "\n"
     ]
    },
    {
     "data": {
      "image/png": "[encoded data removed]",
      "text/plain": [
       "<Figure size 432x288 with 1 Axes>"
      ]
     },
     "metadata": {
      "needs_background": "light"
     },
     "output_type": "display_data"
    }
   ],
   "source": [
    "print('\\nFunción: matriz_auxiliar_Arv\\n')\n",
    "table_df1\n",
    "\n",
    "\n",
    "dimensiones = table_df1['Dimensión']\n",
    "tiempos = table_df1['Tiempo ejecución']\n",
    "\n",
    "plt.plot(dimensiones, tiempos, '^-')\n",
    "plt.xlabel('Dimensiones')\n",
    "plt.ylabel('Tiempo en segundos')\n",
    "plt.grid(True)\n",
    "plt.title('Tiempos de ejecución')\n",
    "plt.show()"
   ]
  },
  {
   "cell_type": "markdown",
   "metadata": {},
   "source": [
    "2. **matriz_QR**"
   ]
  },
  {
   "cell_type": "code",
   "execution_count": 25,
   "metadata": {},
   "outputs": [
    {
     "name": "stdout",
     "output_type": "stream",
     "text": [
      "\n",
      "Función: Factorizacion_QR\n",
      "\n"
     ]
    },
    {
     "data": {
      "image/png": "[encoded data removed]",
      "text/plain": [
       "<Figure size 432x288 with 1 Axes>"
      ]
     },
     "metadata": {
      "needs_background": "light"
     },
     "output_type": "display_data"
    }
   ],
   "source": [
    "print('\\nFunción: Factorizacion_QR\\n')\n",
    "table_df2\n",
    "\n",
    "dimensiones = table_df2['Dimensión']\n",
    "tiempos = table_df2['Tiempo ejecución']\n",
    "\n",
    "plt.plot(dimensiones, tiempos, '^-')\n",
    "plt.xlabel('Dimensiones')\n",
    "plt.ylabel('Tiempo en segundos')\n",
    "plt.grid(True)\n",
    "plt.title('Tiempos de ejecución')\n",
    "plt.show()"
   ]
  },
  {
   "cell_type": "markdown",
   "metadata": {},
   "source": [
    "3. **crear_bloques** "
   ]
  },
  {
   "cell_type": "code",
   "execution_count": 26,
   "metadata": {},
   "outputs": [
    {
     "name": "stdout",
     "output_type": "stream",
     "text": [
      "\n",
      "Función: crear_bloques\n",
      "\n"
     ]
    },
    {
     "data": {
      "image/png": "[encoded data removed]",
      "text/plain": [
       "<Figure size 432x288 with 1 Axes>"
      ]
     },
     "metadata": {
      "needs_background": "light"
     },
     "output_type": "display_data"
    }
   ],
   "source": [
    "print('\\nFunción: crear_bloques\\n')\n",
    "table_df3\n",
    "\n",
    "dimensiones = table_df3['Dimensión']\n",
    "tiempos = table_df3['Tiempo ejecución']\n",
    "\n",
    "plt.plot(dimensiones, tiempos, '^-')\n",
    "plt.xlabel('Dimensiones')\n",
    "plt.ylabel('Tiempo en segundos')\n",
    "plt.grid(True)\n",
    "plt.title('Tiempos de ejecución')\n",
    "plt.show()"
   ]
  },
  {
   "cell_type": "markdown",
   "metadata": {},
   "source": [
    "4. **Solucion_SEL_QR_nxn**"
   ]
  },
  {
   "cell_type": "code",
   "execution_count": 27,
   "metadata": {},
   "outputs": [
    {
     "name": "stdout",
     "output_type": "stream",
     "text": [
      "\n",
      "Función: Solucion_SEL_QR_nxn\n",
      "\n"
     ]
    },
    {
     "data": {
      "image/png": "[encoded data removed]",
      "text/plain": [
       "<Figure size 432x288 with 1 Axes>"
      ]
     },
     "metadata": {
      "needs_background": "light"
     },
     "output_type": "display_data"
    }
   ],
   "source": [
    "print('\\nFunción: Solucion_SEL_QR_nxn\\n')\n",
    "table_df4\n",
    "\n",
    "dimensiones = table_df4['Dimensión']\n",
    "tiempos = table_df4['Tiempo ejecución']\n",
    "\n",
    "plt.plot(dimensiones, tiempos, '^-')\n",
    "plt.xlabel('Dimensiones')\n",
    "plt.ylabel('Tiempo en segundos')\n",
    "plt.grid(True)\n",
    "plt.title('Tiempos de ejecución')\n",
    "plt.show()"
   ]
  },
  {
   "cell_type": "markdown",
   "metadata": {},
   "source": [
    "## CONCLUSIONES\n",
    "+ Función **matriz_QR** es la que tarda más tiempo en ejecutarse."
   ]
  }
 ],
 "metadata": {
  "kernelspec": {
   "display_name": "Python 3",
   "language": "python",
   "name": "python3"
  },
  "language_info": {
   "codemirror_mode": {
    "name": "ipython",
    "version": 3
   },
   "file_extension": ".py",
   "mimetype": "text/x-python",
   "name": "python",
   "nbconvert_exporter": "python",
   "pygments_lexer": "ipython3",
   "version": "3.7.3"
  }
 },
 "nbformat": 4,
 "nbformat_minor": 4
}
