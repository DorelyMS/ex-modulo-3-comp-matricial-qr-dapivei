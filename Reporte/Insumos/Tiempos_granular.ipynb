{
 "cells": [
  {
   "cell_type": "markdown",
   "metadata": {},
   "source": [
    "## MEDICIONES DE TIEMPOS DE EJECUCIÓN DE FUNCIONES A NIVEL GRANULAR"
   ]
  },
  {
   "cell_type": "markdown",
   "metadata": {},
   "source": [
    "Conforme al desarrollo del proyecto, el equipo de programación desarrolló la función **eliminacion_bloques**, la cual resuelve sistemas de ecuaciones lineales utilizando factorización $QR$. Dicha función contiene a su vez otras funciones que ayudan a la solución del problema general; de forma específica podemos enunciar las siguientes:\n",
    "\n",
    "1. matriz_auxiliar_Arv\n",
    "2. matriz_Q_R (se hace uso de la función *matri_auxiliar_Arv*)\n",
    "3. crear_bloques \n",
    "4. Solucion_SEL_QR_nxn (se hace uso de la función *matriz_Q_R*)\n",
    "\n",
    "El presente notebook tiene como objetivo realizar mediciones de los tiempos de ejecución a nivel granular, es decir, medir lAs funciones enlistadas. Adicionalmente se incluye también la medición de la matriz que permite crear matrices aleatorias: *crear_matriz_aleatoria*.\n",
    "\n",
    "Tales mediciones se llevarán acabo para sistemas de dimensiones $2$, $10$, $100$ y $500$.\n",
    "\n",
    "Si bien, la función **Solucion_SEL_QR_nxn** es utilizada cuatro veces en el algoritmo final (**eliminacion_bloques**), en este caso se medirá únicamente el tiempo que tarda en resolver el sistema de ecuaciones correspondiente al primer bloque, es decir, $A_{11}y=b_1$."
   ]
  },
  {
   "cell_type": "code",
   "execution_count": 1,
   "metadata": {},
   "outputs": [],
   "source": [
    "import funciones_factorizacion_QR as fqr\n",
    "import matplotlib.pyplot as plt\n",
    "import numpy as np\n",
    "import pandas as pd\n",
    "import time"
   ]
  },
  {
   "cell_type": "markdown",
   "metadata": {},
   "source": [
    "Se define una función que permitirá almacenar los resultados en una tabla para poder mostrar éstos en un resumen final."
   ]
  },
  {
   "cell_type": "code",
   "execution_count": 2,
   "metadata": {},
   "outputs": [],
   "source": [
    "col_names = ['Dimensión','Tiempo ejecución']\n",
    "table_df0 = pd.DataFrame(columns=col_names)\n",
    "table_df1 = pd.DataFrame(columns=col_names)\n",
    "table_df2 = pd.DataFrame(columns=col_names)\n",
    "table_df3 = pd.DataFrame(columns=col_names)\n",
    "table_df4 = pd.DataFrame(columns=col_names)"
   ]
  },
  {
   "cell_type": "markdown",
   "metadata": {},
   "source": [
    "## MEDICIÓN DE TIEMPOS"
   ]
  },
  {
   "cell_type": "markdown",
   "metadata": {},
   "source": [
    "### EJEMPLO 1 - MATRIZ 2X2"
   ]
  },
  {
   "cell_type": "markdown",
   "metadata": {},
   "source": [
    "\n",
    "\n",
    "A continuación se presenta la medición de tiempos de ejecución de las funciones ya mencionadas, en el siguiente orden:\n",
    "\n",
    "0. crear_matriz_aleatoria\n",
    "1. matriz_auxiliar_Arv\n",
    "2. matriz_Q_R \n",
    "3. crear_bloques \n",
    "4. Solucion_SEL_QR_nxn "
   ]
  },
  {
   "cell_type": "markdown",
   "metadata": {},
   "source": [
    "0. **crear_matriz_aleatoria**"
   ]
  },
  {
   "cell_type": "code",
   "execution_count": 3,
   "metadata": {},
   "outputs": [
    {
     "name": "stdout",
     "output_type": "stream",
     "text": [
      "Tiempo ejecución de creación de matriz aleatoria: 0.0001\n"
     ]
    }
   ],
   "source": [
    "# Definición de sistema de ecuaciones y medición de función crear_matriz_aleatoria\n",
    "\n",
    "funcion = 'crear_matriz_aleatoria'\n",
    "\n",
    "# Dimensiones de la matriz\n",
    "m = 2\n",
    "n = 2\n",
    "\n",
    "# Lado izquierdo del sistema de ecuaciones\n",
    "b= fqr.crear_matriz_aleatoria(m,1,1,2)\n",
    "\n",
    "# Lado derecho del sistema de ecuaciones\n",
    "# Medición tiempos de creación de matriz aleatoria de 2x2\n",
    "begin = time.time()\n",
    "A = fqr.crear_matriz_aleatoria(m,n,1,2)\n",
    "end = time.time()\n",
    "tiempo = round(end-begin,4)\n",
    "\n",
    "# Almacenamiento de tiempo de ejecución en tabla \n",
    "table_df0.loc[len(table_df0)]=['2x2',tiempo]\n",
    "\n",
    "print('Tiempo ejecución de creación de matriz aleatoria:',tiempo)"
   ]
  },
  {
   "cell_type": "markdown",
   "metadata": {},
   "source": [
    "1. **matriz_auxiliar_Arv**"
   ]
  },
  {
   "cell_type": "code",
   "execution_count": 4,
   "metadata": {},
   "outputs": [
    {
     "name": "stdout",
     "output_type": "stream",
     "text": [
      "Tiempo ejecución de matriz auxiliar para QR: 0.0005\n"
     ]
    }
   ],
   "source": [
    "# Medición de tiempos de función matriz_auxiliar_Arv\n",
    "\n",
    "begin = time.time()\n",
    "matriz_Arv = fqr.matriz_auxiliar_Arv(A)\n",
    "end = time.time()\n",
    "tiempo = round(end-begin,4)\n",
    "\n",
    "# Almacenamiento de tiempo de ejecución en tabla\n",
    "table_df1.loc[len(table_df1)]=['2x2',tiempo]\n",
    "\n",
    "print('Tiempo ejecución de matriz auxiliar para QR:',tiempo)"
   ]
  },
  {
   "cell_type": "markdown",
   "metadata": {},
   "source": [
    "2. **matriz_QR**"
   ]
  },
  {
   "cell_type": "code",
   "execution_count": 5,
   "metadata": {},
   "outputs": [
    {
     "name": "stdout",
     "output_type": "stream",
     "text": [
      "Tiempo ejecución de Descomposición QR: 0.0007\n"
     ]
    }
   ],
   "source": [
    "# Medición de tiempos de descomposición QR\n",
    "\n",
    "begin = time.time()\n",
    "Q,R = fqr.matriz_Q_R(A)\n",
    "end = time.time()\n",
    "tiempo = round(end-begin,4)\n",
    "\n",
    "# Almacenamiento de tiempo de ejecución en tabla\n",
    "table_df2.loc[len(table_df2)]=['2X2',tiempo]\n",
    "\n",
    "print('Tiempo ejecución de Descomposición QR:',tiempo)"
   ]
  },
  {
   "cell_type": "markdown",
   "metadata": {},
   "source": [
    "3. **crear_bloques** "
   ]
  },
  {
   "cell_type": "code",
   "execution_count": 6,
   "metadata": {},
   "outputs": [
    {
     "name": "stdout",
     "output_type": "stream",
     "text": [
      "Tiempo ejecución de creación de bloques: 0.0001\n"
     ]
    }
   ],
   "source": [
    "# Medición de tiempos de función crear_bloques\n",
    "\n",
    "begin = time.time()\n",
    "A11,A21,A12,A22,b1,b2=fqr.crear_bloques(A,b)\n",
    "end = time.time()\n",
    "tiempo = round(end-begin,4)\n",
    "\n",
    "# Almacenamiento de tiempo de ejecución en tabla\n",
    "table_df3.loc[len(table_df3)]=['2X2',tiempo]\n",
    "\n",
    "print('Tiempo ejecución de creación de bloques:',tiempo)"
   ]
  },
  {
   "cell_type": "markdown",
   "metadata": {},
   "source": [
    "4. **Solucion_SEL_QR_nxn**"
   ]
  },
  {
   "cell_type": "code",
   "execution_count": 7,
   "metadata": {},
   "outputs": [
    {
     "name": "stdout",
     "output_type": "stream",
     "text": [
      "Tiempo ejecución primer sistema de ecuaciones: 0.0006\n"
     ]
    }
   ],
   "source": [
    "# Medición de tiempos de primer sistema de ecuaciones que se resuelve en eliminacion por bloques\n",
    "#Solucion_SEL_QR_nxn(A11,b1)\n",
    "\n",
    "begin = time.time()\n",
    "fqr.Solucion_SEL_QR_nxn(A11,b1)\n",
    "end = time.time()\n",
    "tiempo = round(end-begin,4)\n",
    "\n",
    "# Almacenamiento de tiempo de ejecución en tabla\n",
    "table_df4.loc[len(table_df4)]=['2X2',tiempo]\n",
    "\n",
    "print('Tiempo ejecución primer sistema de ecuaciones:',tiempo)"
   ]
  },
  {
   "cell_type": "markdown",
   "metadata": {},
   "source": [
    "### EJEMPLO 2 - MATRIZ 10X10\n",
    "\n",
    "De forma análoga al primer ejemplo, se medirán los tiempos de ejecución de las cinco funciones ya mencionadas para un sistema de $10x10$."
   ]
  },
  {
   "cell_type": "markdown",
   "metadata": {},
   "source": [
    "0. **crear_matriz_aleatoria**"
   ]
  },
  {
   "cell_type": "code",
   "execution_count": 8,
   "metadata": {},
   "outputs": [
    {
     "name": "stdout",
     "output_type": "stream",
     "text": [
      "Tiempo ejecución de creación de matriz aleatoria: 0.0012\n"
     ]
    }
   ],
   "source": [
    "# Definición de sistema de ecuaciones y medición de función crear_matriz_aleatoria\n",
    "\n",
    "# Dimensiones de la matriz\n",
    "m = 10\n",
    "n = 10\n",
    "\n",
    "# Lado izquierdo del sistema de ecuaciones\n",
    "b= fqr.crear_matriz_aleatoria(m,1,1,2)\n",
    "\n",
    "# Lado derecho del sistema de ecuaciones\n",
    "# Medición tiempos de creación de matriz aleatoria de 10x10\n",
    "begin = time.time()\n",
    "A = fqr.crear_matriz_aleatoria(m,n,1,2)\n",
    "end = time.time()\n",
    "tiempo = round(end-begin,4)\n",
    "\n",
    "# Almacenamiento de tiempo de ejecución en tabla \n",
    "table_df0.loc[len(table_df0)]=['10x10',tiempo]\n",
    "\n",
    "print('Tiempo ejecución de creación de matriz aleatoria:',tiempo)"
   ]
  },
  {
   "cell_type": "markdown",
   "metadata": {},
   "source": [
    "1. **matriz_auxiliar_Arv**"
   ]
  },
  {
   "cell_type": "code",
   "execution_count": 9,
   "metadata": {},
   "outputs": [
    {
     "name": "stdout",
     "output_type": "stream",
     "text": [
      "Tiempo ejecución de matriz auxiliar para QR: 0.0011\n"
     ]
    }
   ],
   "source": [
    "# Medición de tiempos de función matriz_auxiliar_Arv\n",
    "\n",
    "begin = time.time()\n",
    "matriz_Arv = fqr.matriz_auxiliar_Arv(A)\n",
    "end = time.time()\n",
    "tiempo = round(end-begin,4)\n",
    "\n",
    "# Almacenamiento de tiempo de ejecución en tabla\n",
    "table_df1.loc[len(table_df1)]=['10X10 ',tiempo]\n",
    "\n",
    "print('Tiempo ejecución de matriz auxiliar para QR:',tiempo)"
   ]
  },
  {
   "cell_type": "markdown",
   "metadata": {},
   "source": [
    "2. **matriz_QR**"
   ]
  },
  {
   "cell_type": "code",
   "execution_count": 10,
   "metadata": {},
   "outputs": [
    {
     "name": "stdout",
     "output_type": "stream",
     "text": [
      "Tiempo ejecución de Descomposición QR: 0.0023\n"
     ]
    }
   ],
   "source": [
    "# Medición de tiempos de descomposición QR\n",
    "\n",
    "begin = time.time()\n",
    "fqr.matriz_Q_R(A)\n",
    "end = time.time()\n",
    "tiempo = round(end-begin,4)\n",
    "\n",
    "# Almacenamiento de tiempo de ejecución en tabla\n",
    "table_df2.loc[len(table_df2)]=['10X10',tiempo]\n",
    "\n",
    "print('Tiempo ejecución de Descomposición QR:',tiempo)"
   ]
  },
  {
   "cell_type": "markdown",
   "metadata": {},
   "source": [
    "3. **crear_bloques** "
   ]
  },
  {
   "cell_type": "code",
   "execution_count": 11,
   "metadata": {},
   "outputs": [
    {
     "name": "stdout",
     "output_type": "stream",
     "text": [
      "Tiempo ejecución de creación de bloques: 0.0001\n"
     ]
    }
   ],
   "source": [
    "# Medición de tiempos de función crear_bloques\n",
    "\n",
    "begin = time.time()\n",
    "A11,A21,A12,A22,b1,b2=fqr.crear_bloques(A,b)\n",
    "end = time.time()\n",
    "tiempo = round(end-begin,4)\n",
    "\n",
    "# Almacenamiento de tiempo de ejecución en tabla\n",
    "table_df3.loc[len(table_df3)]=['10X10 ',tiempo]\n",
    "\n",
    "print('Tiempo ejecución de creación de bloques:',tiempo)"
   ]
  },
  {
   "cell_type": "markdown",
   "metadata": {},
   "source": [
    "4. **Solucion_SEL_QR_nxn**"
   ]
  },
  {
   "cell_type": "code",
   "execution_count": 12,
   "metadata": {},
   "outputs": [
    {
     "name": "stdout",
     "output_type": "stream",
     "text": [
      "Tiempo ejecución primer sistema de ecuaciones: 0.0019\n"
     ]
    }
   ],
   "source": [
    "# Medición de tiempos de primer sistema de ecuaciones que se resuelve en eliminacion por bloques\n",
    "#Solucion_SEL_QR_nxn(A11,b1)\n",
    "\n",
    "begin = time.time()\n",
    "fqr.Solucion_SEL_QR_nxn(A11,b1)\n",
    "end = time.time()\n",
    "tiempo = round(end-begin,4)\n",
    "\n",
    "# Almacenamiento de tiempo de ejecución en tabla\n",
    "table_df4.loc[len(table_df4)]=['10X10 ',tiempo]\n",
    "\n",
    "print('Tiempo ejecución primer sistema de ecuaciones:',tiempo)"
   ]
  },
  {
   "cell_type": "markdown",
   "metadata": {},
   "source": [
    "### EJEMPLO 3 - MATRIZ 100X100"
   ]
  },
  {
   "cell_type": "markdown",
   "metadata": {},
   "source": [
    "0. **crear_matriz_aleatoria**"
   ]
  },
  {
   "cell_type": "code",
   "execution_count": 13,
   "metadata": {},
   "outputs": [
    {
     "name": "stdout",
     "output_type": "stream",
     "text": [
      "Tiempo ejecución de creación de matriz aleatoria: 0.072\n"
     ]
    }
   ],
   "source": [
    "# Definición de sistema de ecuaciones y medición de función crear_matriz_aleatoria\n",
    "\n",
    "# Dimensiones de la matriz\n",
    "m = 10**2\n",
    "n = 10**2\n",
    "\n",
    "# Lado izquierdo del sistema de ecuaciones\n",
    "b= fqr.crear_matriz_aleatoria(m,1,1,2)\n",
    "\n",
    "# Lado derecho del sistema de ecuaciones\n",
    "# Medición tiempos de creación de matriz aleatoria de 10^2x10^2\n",
    "begin = time.time()\n",
    "A = fqr.crear_matriz_aleatoria(m,n,1,2)\n",
    "end = time.time()\n",
    "tiempo = round(end-begin,4)\n",
    "\n",
    "# Almacenamiento de tiempo de ejecución en tabla \n",
    "table_df0.loc[len(table_df0)]=['100x100',tiempo]\n",
    "\n",
    "print('Tiempo ejecución de creación de matriz aleatoria:',tiempo)"
   ]
  },
  {
   "cell_type": "markdown",
   "metadata": {},
   "source": [
    "1. **matriz_auxiliar_Arv**"
   ]
  },
  {
   "cell_type": "code",
   "execution_count": 14,
   "metadata": {},
   "outputs": [
    {
     "name": "stdout",
     "output_type": "stream",
     "text": [
      "Tiempo ejecución de matriz auxiliar para QR: 0.0064\n"
     ]
    }
   ],
   "source": [
    "# Medición de tiempos de función matriz_auxiliar_Arv\n",
    "\n",
    "begin = time.time()\n",
    "matriz_Arv = fqr.matriz_auxiliar_Arv(A)\n",
    "end = time.time()\n",
    "tiempo = round(end-begin,4)\n",
    "\n",
    "# Almacenamiento de tiempo de ejecución en tabla\n",
    "table_df1.loc[len(table_df1)]=['100X100 ',tiempo]\n",
    "\n",
    "print('Tiempo ejecución de matriz auxiliar para QR:',tiempo)"
   ]
  },
  {
   "cell_type": "markdown",
   "metadata": {},
   "source": [
    "2. **matriz_QR**"
   ]
  },
  {
   "cell_type": "code",
   "execution_count": 15,
   "metadata": {},
   "outputs": [
    {
     "name": "stdout",
     "output_type": "stream",
     "text": [
      "Tiempo ejecución de Descomposición QR: 0.0231\n"
     ]
    }
   ],
   "source": [
    "# Medición de tiempos de descomposición QR\n",
    "\n",
    "begin = time.time()\n",
    "fqr.matriz_Q_R(A)\n",
    "end = time.time()\n",
    "tiempo = round(end-begin,4)\n",
    "\n",
    "# Almacenamiento de tiempo de ejecución en tabla\n",
    "table_df2.loc[len(table_df2)]=['100X100 ',tiempo]\n",
    "\n",
    "print('Tiempo ejecución de Descomposición QR:',tiempo)"
   ]
  },
  {
   "cell_type": "markdown",
   "metadata": {},
   "source": [
    "3. **crear_bloques** "
   ]
  },
  {
   "cell_type": "code",
   "execution_count": 16,
   "metadata": {},
   "outputs": [
    {
     "name": "stdout",
     "output_type": "stream",
     "text": [
      "Tiempo ejecución de creación de bloques: 0.0001\n"
     ]
    }
   ],
   "source": [
    "# Medición de tiempos de función crear_bloques\n",
    "\n",
    "begin = time.time()\n",
    "A11,A21,A12,A22,b1,b2=fqr.crear_bloques(A,b)\n",
    "end = time.time()\n",
    "tiempo = round(end-begin,4)\n",
    "\n",
    "# Almacenamiento de tiempo de ejecución en tabla\n",
    "table_df3.loc[len(table_df3)]=['100X100 ',tiempo]\n",
    "\n",
    "print('Tiempo ejecución de creación de bloques:',tiempo)"
   ]
  },
  {
   "cell_type": "markdown",
   "metadata": {},
   "source": [
    "4. **Solucion_SEL_QR_nxn**"
   ]
  },
  {
   "cell_type": "code",
   "execution_count": 17,
   "metadata": {},
   "outputs": [
    {
     "name": "stdout",
     "output_type": "stream",
     "text": [
      "Tiempo ejecución primer sistema de ecuaciones: 0.0091\n"
     ]
    }
   ],
   "source": [
    "# Medición de tiempos de primer sistema de ecuaciones que se resuelve en eliminacion por bloques\n",
    "#Solucion_SEL_QR_nxn(A11,b1)\n",
    "\n",
    "begin = time.time()\n",
    "fqr.Solucion_SEL_QR_nxn(A11,b1)\n",
    "end = time.time()\n",
    "tiempo = round(end-begin,4)\n",
    "\n",
    "# Almacenamiento de tiempo de ejecución en tabla\n",
    "table_df4.loc[len(table_df4)]=['100X100 ',tiempo]\n",
    "\n",
    "print('Tiempo ejecución primer sistema de ecuaciones:',tiempo)"
   ]
  },
  {
   "cell_type": "markdown",
   "metadata": {},
   "source": []
  },
  {
   "cell_type": "markdown",
   "metadata": {},
   "source": [
    "### EJEMPLO 4 - MATRIZ 500X500"
   ]
  },
  {
   "cell_type": "markdown",
   "metadata": {},
   "source": [
    "0. **crear_matriz_aleatoria**"
   ]
  },
  {
   "cell_type": "code",
   "execution_count": 18,
   "metadata": {},
   "outputs": [
    {
     "name": "stdout",
     "output_type": "stream",
     "text": [
      "Tiempo ejecución de creación de matriz aleatoria: 0.9434\n"
     ]
    }
   ],
   "source": [
    "# Definición de sistema de ecuaciones y medición de función crear_matriz_aleatoria\n",
    "\n",
    "# Dimensiones de la matriz\n",
    "m = 500\n",
    "n = 500\n",
    "\n",
    "# Lado izquierdo del sistema de ecuaciones\n",
    "b= fqr.crear_matriz_aleatoria(m,1,1,2)\n",
    "\n",
    "# Lado derecho del sistema de ecuaciones\n",
    "# Medición tiempos de creación de matriz aleatoria de 500x500\n",
    "begin = time.time()\n",
    "A = fqr.crear_matriz_aleatoria(m,n,1,2)\n",
    "end = time.time()\n",
    "tiempo = round(end-begin,4)\n",
    "\n",
    "# Almacenamiento de tiempo de ejecución en tabla \n",
    "table_df0.loc[len(table_df0)]=['500x500',tiempo]\n",
    "\n",
    "print('Tiempo ejecución de creación de matriz aleatoria:',tiempo)"
   ]
  },
  {
   "cell_type": "markdown",
   "metadata": {},
   "source": [
    "1. **matriz_auxiliar_Arv**"
   ]
  },
  {
   "cell_type": "code",
   "execution_count": 19,
   "metadata": {},
   "outputs": [
    {
     "name": "stdout",
     "output_type": "stream",
     "text": [
      "Tiempo ejecución de matriz auxiliar para QR: 0.1813\n"
     ]
    }
   ],
   "source": [
    "# Medición de tiempos de función matriz_auxiliar_Arv\n",
    "\n",
    "begin = time.time()\n",
    "matriz_Arv = fqr.matriz_auxiliar_Arv(A)\n",
    "end = time.time()\n",
    "tiempo = round(end-begin,4)\n",
    "\n",
    "# Almacenamiento de tiempo de ejecución en tabla\n",
    "table_df1.loc[len(table_df1)]=['500X500 ',tiempo]\n",
    "\n",
    "print('Tiempo ejecución de matriz auxiliar para QR:',tiempo)"
   ]
  },
  {
   "cell_type": "markdown",
   "metadata": {},
   "source": [
    "2. **matriz_QR**"
   ]
  },
  {
   "cell_type": "code",
   "execution_count": 20,
   "metadata": {},
   "outputs": [
    {
     "name": "stdout",
     "output_type": "stream",
     "text": [
      "Tiempo ejecución de Descomposición QR: 2.5199\n"
     ]
    }
   ],
   "source": [
    "# Medición de tiempos de descomposición QR\n",
    "\n",
    "begin = time.time()\n",
    "fqr.matriz_Q_R(A)\n",
    "end = time.time()\n",
    "tiempo = round(end-begin,4)\n",
    "\n",
    "# Almacenamiento de tiempo de ejecución en tabla\n",
    "table_df2.loc[len(table_df2)]=['500X500 ',tiempo]\n",
    "\n",
    "print('Tiempo ejecución de Descomposición QR:',tiempo)"
   ]
  },
  {
   "cell_type": "markdown",
   "metadata": {},
   "source": [
    "3. **crear_bloques** "
   ]
  },
  {
   "cell_type": "code",
   "execution_count": 21,
   "metadata": {},
   "outputs": [
    {
     "name": "stdout",
     "output_type": "stream",
     "text": [
      "Tiempo ejecución de creación de bloques: 0.0002\n"
     ]
    }
   ],
   "source": [
    "# Medición de tiempos de función crear_bloques\n",
    "\n",
    "begin = time.time()\n",
    "A11,A21,A12,A22,b1,b2=fqr.crear_bloques(A,b)\n",
    "end = time.time()\n",
    "tiempo = round(end-begin,4)\n",
    "\n",
    "# Almacenamiento de tiempo de ejecución en tabla\n",
    "table_df3.loc[len(table_df3)]=['500X500 ',tiempo]\n",
    "\n",
    "print('Tiempo ejecución de creación de bloques:',tiempo)"
   ]
  },
  {
   "cell_type": "markdown",
   "metadata": {},
   "source": [
    "4. **Solucion_SEL_QR_nxn**"
   ]
  },
  {
   "cell_type": "code",
   "execution_count": 22,
   "metadata": {},
   "outputs": [
    {
     "name": "stdout",
     "output_type": "stream",
     "text": [
      "Tiempo ejecución primer sistema de ecuaciones: 0.1933\n"
     ]
    }
   ],
   "source": [
    "# Medición de tiempos de primer sistema de ecuaciones que se resuelve en eliminacion por bloques\n",
    "#Solucion_SEL_QR_nxn(A11,b1)\n",
    "\n",
    "begin = time.time()\n",
    "fqr.Solucion_SEL_QR_nxn(A11,b1)\n",
    "end = time.time()\n",
    "tiempo = round(end-begin,4)\n",
    "\n",
    "# Almacenamiento de tiempo de ejecución en tabla\n",
    "table_df4.loc[len(table_df4)]=['500X500 ',tiempo]\n",
    "\n",
    "print('Tiempo ejecución primer sistema de ecuaciones:',tiempo)"
   ]
  },
  {
   "cell_type": "markdown",
   "metadata": {},
   "source": [
    "## RESULTADOS\n",
    "\n",
    "En seguida se muestra una comparación de los tiempos obtenidos en la ejecución de cada función, al variar las dimensiones de la matriz de entrada. Se presentan tanto la tabla con los tiempos en segundos redeondeados a cuatro decimales, como las gráficas asociadas"
   ]
  },
  {
   "cell_type": "markdown",
   "metadata": {},
   "source": [
    "0. **crear_matriz_aleatoria**"
   ]
  },
  {
   "cell_type": "code",
   "execution_count": 23,
   "metadata": {},
   "outputs": [
    {
     "name": "stdout",
     "output_type": "stream",
     "text": [
      "\n",
      "Función: crear_matriz_aleatoria\n",
      "\n"
     ]
    },
    {
     "data": {
      "text/html": [
       "<div>\n",
       "<style scoped>\n",
       "    .dataframe tbody tr th:only-of-type {\n",
       "        vertical-align: middle;\n",
       "    }\n",
       "\n",
       "    .dataframe tbody tr th {\n",
       "        vertical-align: top;\n",
       "    }\n",
       "\n",
       "    .dataframe thead th {\n",
       "        text-align: right;\n",
       "    }\n",
       "</style>\n",
       "<table border=\"1\" class=\"dataframe\">\n",
       "  <thead>\n",
       "    <tr style=\"text-align: right;\">\n",
       "      <th></th>\n",
       "      <th>Dimensión</th>\n",
       "      <th>Tiempo ejecución</th>\n",
       "    </tr>\n",
       "  </thead>\n",
       "  <tbody>\n",
       "    <tr>\n",
       "      <th>0</th>\n",
       "      <td>2x2</td>\n",
       "      <td>0.0001</td>\n",
       "    </tr>\n",
       "    <tr>\n",
       "      <th>1</th>\n",
       "      <td>10x10</td>\n",
       "      <td>0.0012</td>\n",
       "    </tr>\n",
       "    <tr>\n",
       "      <th>2</th>\n",
       "      <td>100x100</td>\n",
       "      <td>0.0720</td>\n",
       "    </tr>\n",
       "    <tr>\n",
       "      <th>3</th>\n",
       "      <td>500x500</td>\n",
       "      <td>0.9434</td>\n",
       "    </tr>\n",
       "  </tbody>\n",
       "</table>\n",
       "</div>"
      ],
      "text/plain": [
       "  Dimensión  Tiempo ejecución\n",
       "0       2x2            0.0001\n",
       "1     10x10            0.0012\n",
       "2   100x100            0.0720\n",
       "3   500x500            0.9434"
      ]
     },
     "execution_count": 23,
     "metadata": {},
     "output_type": "execute_result"
    }
   ],
   "source": [
    "# Tabla de tiempos función crear_matriz_aleatoria\n",
    "print('\\nFunción: crear_matriz_aleatoria\\n')\n",
    "table_df0"
   ]
  },
  {
   "cell_type": "code",
   "execution_count": 24,
   "metadata": {},
   "outputs": [
    {
     "data": {
      "image/png": "[encoded data removed]",
      "text/plain": [
       "<Figure size 432x288 with 1 Axes>"
      ]
     },
     "metadata": {
      "needs_background": "light"
     },
     "output_type": "display_data"
    }
   ],
   "source": [
    "# Gráfica de tiempos función crear_matriz_aleatoria\n",
    "dimensiones = table_df0['Dimensión']\n",
    "tiempos = table_df0['Tiempo ejecución']\n",
    "\n",
    "plt.plot(dimensiones, tiempos, '^-')\n",
    "plt.xlabel('Dimensiones')\n",
    "plt.ylabel('Tiempo en segundos')\n",
    "plt.grid(True)\n",
    "plt.title('Tiempos de ejecución \"crear_matriz_aleatoria\"\\n')\n",
    "plt.show()"
   ]
  },
  {
   "cell_type": "markdown",
   "metadata": {},
   "source": [
    "La tabla y gráfica anteriores muestran que los tiempos de creación de una matriz aleatoria aumentan, conforme aumentan las dimensiones de las matriz de entrada; y van del orden de $10^{⁻4}s$ hasta $1s$, dependiendo del tamaño de la matriz."
   ]
  },
  {
   "cell_type": "markdown",
   "metadata": {},
   "source": [
    "1. **matriz_auxiliar_Arv**"
   ]
  },
  {
   "cell_type": "code",
   "execution_count": 25,
   "metadata": {},
   "outputs": [
    {
     "name": "stdout",
     "output_type": "stream",
     "text": [
      "\n",
      "Función: matriz_auxiliar_Arv\n",
      "\n"
     ]
    },
    {
     "data": {
      "text/html": [
       "<div>\n",
       "<style scoped>\n",
       "    .dataframe tbody tr th:only-of-type {\n",
       "        vertical-align: middle;\n",
       "    }\n",
       "\n",
       "    .dataframe tbody tr th {\n",
       "        vertical-align: top;\n",
       "    }\n",
       "\n",
       "    .dataframe thead th {\n",
       "        text-align: right;\n",
       "    }\n",
       "</style>\n",
       "<table border=\"1\" class=\"dataframe\">\n",
       "  <thead>\n",
       "    <tr style=\"text-align: right;\">\n",
       "      <th></th>\n",
       "      <th>Dimensión</th>\n",
       "      <th>Tiempo ejecución</th>\n",
       "    </tr>\n",
       "  </thead>\n",
       "  <tbody>\n",
       "    <tr>\n",
       "      <th>0</th>\n",
       "      <td>2x2</td>\n",
       "      <td>0.0005</td>\n",
       "    </tr>\n",
       "    <tr>\n",
       "      <th>1</th>\n",
       "      <td>10X10</td>\n",
       "      <td>0.0011</td>\n",
       "    </tr>\n",
       "    <tr>\n",
       "      <th>2</th>\n",
       "      <td>100X100</td>\n",
       "      <td>0.0064</td>\n",
       "    </tr>\n",
       "    <tr>\n",
       "      <th>3</th>\n",
       "      <td>500X500</td>\n",
       "      <td>0.1813</td>\n",
       "    </tr>\n",
       "  </tbody>\n",
       "</table>\n",
       "</div>"
      ],
      "text/plain": [
       "  Dimensión  Tiempo ejecución\n",
       "0       2x2            0.0005\n",
       "1    10X10             0.0011\n",
       "2  100X100             0.0064\n",
       "3  500X500             0.1813"
      ]
     },
     "execution_count": 25,
     "metadata": {},
     "output_type": "execute_result"
    }
   ],
   "source": [
    "# Tabla de tiempos función matriz_auxiliar_Arv\n",
    "print('\\nFunción: matriz_auxiliar_Arv\\n')\n",
    "table_df1"
   ]
  },
  {
   "cell_type": "code",
   "execution_count": 26,
   "metadata": {},
   "outputs": [
    {
     "data": {
      "image/png": "[encoded data removed]",
      "text/plain": [
       "<Figure size 432x288 with 1 Axes>"
      ]
     },
     "metadata": {
      "needs_background": "light"
     },
     "output_type": "display_data"
    }
   ],
   "source": [
    "# Gráfica de tiempos función matriz_auxiliar_Arv\n",
    "dimensiones = table_df1['Dimensión']\n",
    "tiempos = table_df1['Tiempo ejecución']\n",
    "\n",
    "plt.plot(dimensiones, tiempos, '^-')\n",
    "plt.xlabel('Dimensiones')\n",
    "plt.ylabel('Tiempo en segundos')\n",
    "plt.grid(True)\n",
    "plt.title('Tiempos de ejecución \"matriz_auxiliar_Arv\"\\n')\n",
    "plt.show()"
   ]
  },
  {
   "cell_type": "markdown",
   "metadata": {},
   "source": [
    "De igual forma que en la función anterior, el tiempo de ejecución de la función **matriz_auxiliar_Arv** se incrementa al aumentar las dimensiones de la matriz de entrada. En este caso los tiempos de ejecución son del orden de $10^{-4} s$ a $10^{-1} s$."
   ]
  },
  {
   "cell_type": "markdown",
   "metadata": {},
   "source": [
    "2. **matriz_QR**"
   ]
  },
  {
   "cell_type": "code",
   "execution_count": 27,
   "metadata": {},
   "outputs": [
    {
     "name": "stdout",
     "output_type": "stream",
     "text": [
      "\n",
      "Función: matriz_QR\n",
      "\n"
     ]
    },
    {
     "data": {
      "text/html": [
       "<div>\n",
       "<style scoped>\n",
       "    .dataframe tbody tr th:only-of-type {\n",
       "        vertical-align: middle;\n",
       "    }\n",
       "\n",
       "    .dataframe tbody tr th {\n",
       "        vertical-align: top;\n",
       "    }\n",
       "\n",
       "    .dataframe thead th {\n",
       "        text-align: right;\n",
       "    }\n",
       "</style>\n",
       "<table border=\"1\" class=\"dataframe\">\n",
       "  <thead>\n",
       "    <tr style=\"text-align: right;\">\n",
       "      <th></th>\n",
       "      <th>Dimensión</th>\n",
       "      <th>Tiempo ejecución</th>\n",
       "    </tr>\n",
       "  </thead>\n",
       "  <tbody>\n",
       "    <tr>\n",
       "      <th>0</th>\n",
       "      <td>2X2</td>\n",
       "      <td>0.0007</td>\n",
       "    </tr>\n",
       "    <tr>\n",
       "      <th>1</th>\n",
       "      <td>10X10</td>\n",
       "      <td>0.0023</td>\n",
       "    </tr>\n",
       "    <tr>\n",
       "      <th>2</th>\n",
       "      <td>100X100</td>\n",
       "      <td>0.0231</td>\n",
       "    </tr>\n",
       "    <tr>\n",
       "      <th>3</th>\n",
       "      <td>500X500</td>\n",
       "      <td>2.5199</td>\n",
       "    </tr>\n",
       "  </tbody>\n",
       "</table>\n",
       "</div>"
      ],
      "text/plain": [
       "  Dimensión  Tiempo ejecución\n",
       "0       2X2            0.0007\n",
       "1     10X10            0.0023\n",
       "2  100X100             0.0231\n",
       "3  500X500             2.5199"
      ]
     },
     "execution_count": 27,
     "metadata": {},
     "output_type": "execute_result"
    }
   ],
   "source": [
    "# Tabla de tiempos función Factorizacion_QR\n",
    "print('\\nFunción: matriz_QR\\n')\n",
    "table_df2"
   ]
  },
  {
   "cell_type": "code",
   "execution_count": 28,
   "metadata": {},
   "outputs": [
    {
     "data": {
      "image/png": "[encoded data removed]",
      "text/plain": [
       "<Figure size 432x288 with 1 Axes>"
      ]
     },
     "metadata": {
      "needs_background": "light"
     },
     "output_type": "display_data"
    }
   ],
   "source": [
    "# Gráfica de tiempos función Factorizacion_QR\n",
    "dimensiones = table_df2['Dimensión']\n",
    "tiempos = table_df2['Tiempo ejecución']\n",
    "\n",
    "plt.plot(dimensiones, tiempos, '^-')\n",
    "plt.xlabel('Dimensiones')\n",
    "plt.ylabel('Tiempo en segundos')\n",
    "plt.grid(True)\n",
    "plt.title('Tiempos de ejecución \"matriz_QR\"\\n')\n",
    "plt.show()"
   ]
  },
  {
   "cell_type": "markdown",
   "metadata": {},
   "source": [
    "A pesar de que las matrices de dimensión $100x100$ y $500x500$, son del mismo orden: $10^3$, la función **matriz_QR** tarda aproximadamente $100$ veces más en calcular la factorización QR de la segunda. Por otro lado, el tiempo de ejecución de las matrices de tamaño $2x2$ y $100x100$ es del mismo orden, a pesar de sus dimensiones varían en un orden de magnitud. Los tiempos de esta función van del orden de $10^{-4} s$ hasta aproximadamente $3s$."
   ]
  },
  {
   "cell_type": "markdown",
   "metadata": {},
   "source": [
    "3. **crear_bloques** "
   ]
  },
  {
   "cell_type": "code",
   "execution_count": 30,
   "metadata": {},
   "outputs": [
    {
     "name": "stdout",
     "output_type": "stream",
     "text": [
      "\n",
      "Función: crear_bloques\n",
      "\n"
     ]
    },
    {
     "data": {
      "text/html": [
       "<div>\n",
       "<style scoped>\n",
       "    .dataframe tbody tr th:only-of-type {\n",
       "        vertical-align: middle;\n",
       "    }\n",
       "\n",
       "    .dataframe tbody tr th {\n",
       "        vertical-align: top;\n",
       "    }\n",
       "\n",
       "    .dataframe thead th {\n",
       "        text-align: right;\n",
       "    }\n",
       "</style>\n",
       "<table border=\"1\" class=\"dataframe\">\n",
       "  <thead>\n",
       "    <tr style=\"text-align: right;\">\n",
       "      <th></th>\n",
       "      <th>Dimensión</th>\n",
       "      <th>Tiempo ejecución</th>\n",
       "    </tr>\n",
       "  </thead>\n",
       "  <tbody>\n",
       "    <tr>\n",
       "      <th>0</th>\n",
       "      <td>2X2</td>\n",
       "      <td>0.0001</td>\n",
       "    </tr>\n",
       "    <tr>\n",
       "      <th>1</th>\n",
       "      <td>10X10</td>\n",
       "      <td>0.0001</td>\n",
       "    </tr>\n",
       "    <tr>\n",
       "      <th>2</th>\n",
       "      <td>100X100</td>\n",
       "      <td>0.0001</td>\n",
       "    </tr>\n",
       "    <tr>\n",
       "      <th>3</th>\n",
       "      <td>500X500</td>\n",
       "      <td>0.0002</td>\n",
       "    </tr>\n",
       "  </tbody>\n",
       "</table>\n",
       "</div>"
      ],
      "text/plain": [
       "  Dimensión  Tiempo ejecución\n",
       "0       2X2            0.0001\n",
       "1    10X10             0.0001\n",
       "2  100X100             0.0001\n",
       "3  500X500             0.0002"
      ]
     },
     "execution_count": 30,
     "metadata": {},
     "output_type": "execute_result"
    }
   ],
   "source": [
    "# Tabla de tiempos función crear_bloques\n",
    "print('\\nFunción: crear_bloques\\n')\n",
    "table_df3"
   ]
  },
  {
   "cell_type": "code",
   "execution_count": 31,
   "metadata": {},
   "outputs": [
    {
     "data": {
      "image/png": "[encoded data removed]",
      "text/plain": [
       "<Figure size 432x288 with 1 Axes>"
      ]
     },
     "metadata": {
      "needs_background": "light"
     },
     "output_type": "display_data"
    }
   ],
   "source": [
    "# Gráfica de tiempos función crear_bloques\n",
    "dimensiones = table_df3['Dimensión']\n",
    "tiempos = table_df3['Tiempo ejecución']\n",
    "\n",
    "plt.plot(dimensiones, tiempos, '^-')\n",
    "plt.xlabel('Dimensiones')\n",
    "plt.ylabel('Tiempo en segundos')\n",
    "plt.grid(True)\n",
    "plt.title('Tiempos de ejecución \"crear_bloques\"\\n')\n",
    "plt.show()"
   ]
  },
  {
   "cell_type": "markdown",
   "metadata": {},
   "source": [
    "Debemos ser cuidadosos al interpretar la gráfica anterior por la escala que se está manejando, los tiempos de la función **crear_bloques** son del orden $10^{-4}s$ para las 4 matrices que fueron probadas. Por lo tanto, los datos de la tabla sugieren que este tiempo se mantiene constante independiente del tamaño de la matriz."
   ]
  },
  {
   "cell_type": "markdown",
   "metadata": {},
   "source": [
    "4. **Solucion_SEL_QR_nxn**"
   ]
  },
  {
   "cell_type": "code",
   "execution_count": 32,
   "metadata": {},
   "outputs": [
    {
     "name": "stdout",
     "output_type": "stream",
     "text": [
      "\n",
      "Función: Solucion_SEL_QR_nxn\n",
      "\n"
     ]
    },
    {
     "data": {
      "text/html": [
       "<div>\n",
       "<style scoped>\n",
       "    .dataframe tbody tr th:only-of-type {\n",
       "        vertical-align: middle;\n",
       "    }\n",
       "\n",
       "    .dataframe tbody tr th {\n",
       "        vertical-align: top;\n",
       "    }\n",
       "\n",
       "    .dataframe thead th {\n",
       "        text-align: right;\n",
       "    }\n",
       "</style>\n",
       "<table border=\"1\" class=\"dataframe\">\n",
       "  <thead>\n",
       "    <tr style=\"text-align: right;\">\n",
       "      <th></th>\n",
       "      <th>Dimensión</th>\n",
       "      <th>Tiempo ejecución</th>\n",
       "    </tr>\n",
       "  </thead>\n",
       "  <tbody>\n",
       "    <tr>\n",
       "      <th>0</th>\n",
       "      <td>2X2</td>\n",
       "      <td>0.0006</td>\n",
       "    </tr>\n",
       "    <tr>\n",
       "      <th>1</th>\n",
       "      <td>10X10</td>\n",
       "      <td>0.0019</td>\n",
       "    </tr>\n",
       "    <tr>\n",
       "      <th>2</th>\n",
       "      <td>100X100</td>\n",
       "      <td>0.0091</td>\n",
       "    </tr>\n",
       "    <tr>\n",
       "      <th>3</th>\n",
       "      <td>500X500</td>\n",
       "      <td>0.1933</td>\n",
       "    </tr>\n",
       "  </tbody>\n",
       "</table>\n",
       "</div>"
      ],
      "text/plain": [
       "  Dimensión  Tiempo ejecución\n",
       "0       2X2            0.0006\n",
       "1    10X10             0.0019\n",
       "2  100X100             0.0091\n",
       "3  500X500             0.1933"
      ]
     },
     "execution_count": 32,
     "metadata": {},
     "output_type": "execute_result"
    }
   ],
   "source": [
    "# Tabla de tiempos función Solucion_SEL_QR\n",
    "print('\\nFunción: Solucion_SEL_QR_nxn\\n')\n",
    "table_df4"
   ]
  },
  {
   "cell_type": "code",
   "execution_count": 33,
   "metadata": {},
   "outputs": [
    {
     "data": {
      "image/png": "[encoded data removed]",
      "text/plain": [
       "<Figure size 432x288 with 1 Axes>"
      ]
     },
     "metadata": {
      "needs_background": "light"
     },
     "output_type": "display_data"
    }
   ],
   "source": [
    "# Gráfica de tiempos función Solucion_SEL_QR\n",
    "dimensiones = table_df4['Dimensión']\n",
    "tiempos = table_df4['Tiempo ejecución']\n",
    "\n",
    "plt.plot(dimensiones, tiempos, '^-')\n",
    "plt.xlabel('Dimensiones')\n",
    "plt.ylabel('Tiempo en segundos')\n",
    "plt.grid(True)\n",
    "plt.title('Tiempos de ejecución \"Solucion_SEL_QR\"\\n')\n",
    "plt.show()"
   ]
  },
  {
   "cell_type": "markdown",
   "metadata": {},
   "source": [
    "Finalmente, al resolver el primer sistema de ecuaciones de la división por bloques, se observa de igual forma que en las funciones anteriores, un incremento en los tiempos conforme aumenta el tamaño de la matriz de entrada. Los tiempos de ejecución varían entre $10^{-4} s$ y $10^{-1} s$."
   ]
  },
  {
   "cell_type": "markdown",
   "metadata": {},
   "source": [
    "Como resumen de los resultados mostrados en las gráficas y tablas, sobre los tiempos de ejecución de las funciones al variar el tamaño de la matriz de entrada, destacan los siguientes puntos:\n",
    "\n",
    "+ En general, los tiempos de ejecución de las funciones aumentan conforme aumentan las dimensiones de la matriz. Excepto en la función **crear_bloques**, la cual mantiene un tiempo constante en la creación de submatrices para las 4 matrices que fueron probadas.\n",
    "+ La función **matriz_QR** es la que tiene asociada los tiempos más altos de ejecución, alcanzando los $3s$ en matrices de tamaño $500x500$.\n",
    "+ La función **matriz_auxiliar_Arv** y **Solucion_SEL_QR** son las que presentan menores tiempos de ejecución, variando entre $10^{-4} s$ y $10^{-1} s$."
   ]
  }
 ],
 "metadata": {
  "kernelspec": {
   "display_name": "Python 3",
   "language": "python",
   "name": "python3"
  },
  "language_info": {
   "codemirror_mode": {
    "name": "ipython",
    "version": 3
   },
   "file_extension": ".py",
   "mimetype": "text/x-python",
   "name": "python",
   "nbconvert_exporter": "python",
   "pygments_lexer": "ipython3",
   "version": "3.7.3"
  }
 },
 "nbformat": 4,
 "nbformat_minor": 4
}
