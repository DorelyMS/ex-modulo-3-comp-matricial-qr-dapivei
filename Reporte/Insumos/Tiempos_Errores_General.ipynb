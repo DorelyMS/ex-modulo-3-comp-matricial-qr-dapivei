{
 "cells": [
  {
   "cell_type": "markdown",
   "metadata": {},
   "source": [
    "## MEDICIONES DE TIEMPOS Y ERRORES RELATIVOS A NIVEL GENERAL"
   ]
  },
  {
   "cell_type": "markdown",
   "metadata": {},
   "source": [
    "Este notebook tiene como finalidad medir los tiempos de ejecución y errores relativos para la función eliminacion_bloques para matrices de dimensiones 2x2, 10x10, 100x100 y 500x500.\n",
    "\n",
    "Para la parte de errores relativos, estaremos comparando los resultados obtenidos de la función implementada por los programadores contra la librería numpy."
   ]
  },
  {
   "cell_type": "markdown",
   "metadata": {},
   "source": [
    "Empezamos por importar la librerias necesarias."
   ]
  },
  {
   "cell_type": "code",
   "execution_count": 1,
   "metadata": {},
   "outputs": [],
   "source": [
    "import pandas as pd\n",
    "import numpy as np\n",
    "import funciones_factorizacion_QR as fqr\n",
    "import time\n",
    "import matplotlib.pyplot as plt"
   ]
  },
  {
   "cell_type": "markdown",
   "metadata": {},
   "source": [
    "Creamos una tabla vacía en la que guardaremos los resultados de cada iteración."
   ]
  },
  {
   "cell_type": "code",
   "execution_count": 2,
   "metadata": {},
   "outputs": [],
   "source": [
    "# Creamos la tabla resumen\n",
    "col_names = ['Dimensiones de la matriz', 'Tiempos', 'Promedio error relativo']\n",
    "table_df = pd.DataFrame(columns=col_names)"
   ]
  },
  {
   "cell_type": "markdown",
   "metadata": {},
   "source": [
    "### EJEMPLO 1 - MATRIZ 2X2"
   ]
  },
  {
   "cell_type": "markdown",
   "metadata": {},
   "source": [
    "**Medición tiempos**"
   ]
  },
  {
   "cell_type": "code",
   "execution_count": 3,
   "metadata": {},
   "outputs": [],
   "source": [
    "# Creamos una matriz aleatoria 2x2\n",
    "m = 2\n",
    "n = 2\n",
    "A = fqr.crear_matriz_aleatoria(m,n,1,2)\n",
    "b= fqr.crear_matriz_aleatoria(m,1,1,2)\n",
    "dim_2_2 = str(m) + ' x ' + str(n) "
   ]
  },
  {
   "cell_type": "code",
   "execution_count": 4,
   "metadata": {},
   "outputs": [],
   "source": [
    "# Medición de tiempos utilizando la función implementada por los programadores\n",
    "begin = time.time()\n",
    "solucion = fqr.eliminacion_bloques(A,b)\n",
    "end = time.time()\n",
    "time_2_2 = end - begin"
   ]
  },
  {
   "cell_type": "markdown",
   "metadata": {},
   "source": [
    "**Medición error relativo**"
   ]
  },
  {
   "cell_type": "markdown",
   "metadata": {},
   "source": [
    "Compararemos la función de la librería numpy vs la implementación de los programadores."
   ]
  },
  {
   "cell_type": "code",
   "execution_count": 5,
   "metadata": {},
   "outputs": [],
   "source": [
    "solucion_numpy = np.linalg.solve(A,b)\n",
    "error_relativo_2_2 = abs(solucion - solucion_numpy)/abs(solucion_numpy)"
   ]
  },
  {
   "cell_type": "code",
   "execution_count": 6,
   "metadata": {},
   "outputs": [],
   "source": [
    "table_df.loc[len(table_df)] = [dim_2_2, time_2_2, np.mean(error_relativo_2_2)]"
   ]
  },
  {
   "cell_type": "markdown",
   "metadata": {},
   "source": [
    "### EJEMPLO 2 - MATRIZ 10X10"
   ]
  },
  {
   "cell_type": "markdown",
   "metadata": {},
   "source": [
    "**Medición tiempos**"
   ]
  },
  {
   "cell_type": "code",
   "execution_count": 7,
   "metadata": {},
   "outputs": [],
   "source": [
    "# Creamos una matriz aleatoria 10x10\n",
    "m = 10\n",
    "n = 10\n",
    "A = fqr.crear_matriz_aleatoria(m,n,1,2)\n",
    "b = fqr.crear_matriz_aleatoria(m,1,1,2)\n",
    "dim_10_10 = str(m) + ' x ' + str(n) "
   ]
  },
  {
   "cell_type": "code",
   "execution_count": 8,
   "metadata": {},
   "outputs": [],
   "source": [
    "# Medición de tiempos utilizando la función implementada por los programadores\n",
    "begin = time.time()\n",
    "solucion = fqr.eliminacion_bloques(A,b)\n",
    "end = time.time()\n",
    "time_10_10 = end - begin"
   ]
  },
  {
   "cell_type": "markdown",
   "metadata": {},
   "source": [
    "**Medición error relativo**"
   ]
  },
  {
   "cell_type": "markdown",
   "metadata": {},
   "source": [
    "Compararemos la función de la librería numpy vs la implementación de los programadores."
   ]
  },
  {
   "cell_type": "code",
   "execution_count": 9,
   "metadata": {},
   "outputs": [],
   "source": [
    "solucion_numpy = np.linalg.solve(A,b)\n",
    "error_relativo_10_10 = abs(solucion - solucion_numpy)/abs(solucion_numpy)"
   ]
  },
  {
   "cell_type": "code",
   "execution_count": 10,
   "metadata": {},
   "outputs": [],
   "source": [
    "table_df.loc[len(table_df)] = [dim_10_10, time_10_10, np.mean(error_relativo_10_10)]"
   ]
  },
  {
   "cell_type": "markdown",
   "metadata": {},
   "source": [
    "### EJEMPLO 3 - MATRIZ 100X100"
   ]
  },
  {
   "cell_type": "markdown",
   "metadata": {},
   "source": [
    "**Medición tiempos**"
   ]
  },
  {
   "cell_type": "code",
   "execution_count": 11,
   "metadata": {},
   "outputs": [],
   "source": [
    "# Creamos una matriz aleatoria 2x2\n",
    "m = 10**2\n",
    "n = 10**2\n",
    "A = fqr.crear_matriz_aleatoria(m,n,1,2)\n",
    "b= fqr.crear_matriz_aleatoria(m,1,1,2)\n",
    "dim_100_100 = str(m) + ' x ' + str(n) "
   ]
  },
  {
   "cell_type": "code",
   "execution_count": 12,
   "metadata": {},
   "outputs": [],
   "source": [
    "# Medición de tiempos utilizando la función implementada por los programadores\n",
    "begin = time.time()\n",
    "solucion = fqr.eliminacion_bloques(A,b)\n",
    "end = time.time()\n",
    "time_100_100 = end - begin"
   ]
  },
  {
   "cell_type": "markdown",
   "metadata": {},
   "source": [
    "**Medición error relativo**"
   ]
  },
  {
   "cell_type": "markdown",
   "metadata": {},
   "source": [
    "Compararemos la función de la librería numpy vs la implementación de los programadores."
   ]
  },
  {
   "cell_type": "code",
   "execution_count": 13,
   "metadata": {},
   "outputs": [],
   "source": [
    "solucion_numpy = np.linalg.solve(A,b)\n",
    "error_relativo_100_100 = abs(solucion - solucion_numpy)/abs(solucion_numpy)"
   ]
  },
  {
   "cell_type": "code",
   "execution_count": 14,
   "metadata": {},
   "outputs": [],
   "source": [
    "table_df.loc[len(table_df)] = [dim_100_100, time_100_100, np.mean(error_relativo_100_100)]"
   ]
  },
  {
   "cell_type": "markdown",
   "metadata": {},
   "source": [
    "### EJEMPLO 4 - MATRIZ 500X500"
   ]
  },
  {
   "cell_type": "markdown",
   "metadata": {},
   "source": [
    "**Medición tiempos**"
   ]
  },
  {
   "cell_type": "code",
   "execution_count": 15,
   "metadata": {},
   "outputs": [],
   "source": [
    "# Creamos una matriz aleatoria 2x2\n",
    "m = 500\n",
    "n = 500\n",
    "A = fqr.crear_matriz_aleatoria(m,n,1,2)\n",
    "b= fqr.crear_matriz_aleatoria(m,1,1,2)\n",
    "dim_500_500 = str(m) + ' x ' + str(n) "
   ]
  },
  {
   "cell_type": "code",
   "execution_count": 16,
   "metadata": {},
   "outputs": [],
   "source": [
    "# Medición de tiempos utilizando la función implementada por los programadores\n",
    "begin = time.time()\n",
    "solucion = fqr.eliminacion_bloques(A,b)\n",
    "end = time.time()\n",
    "time_500_500 = end - begin"
   ]
  },
  {
   "cell_type": "markdown",
   "metadata": {},
   "source": [
    "**Medición error relativo**"
   ]
  },
  {
   "cell_type": "markdown",
   "metadata": {},
   "source": [
    "Compararemos la función de la librería numpy vs la implementación de los programadores."
   ]
  },
  {
   "cell_type": "code",
   "execution_count": 17,
   "metadata": {},
   "outputs": [],
   "source": [
    "solucion_numpy = np.linalg.solve(A,b)\n",
    "error_relativo_500_500 = abs(solucion - solucion_numpy)/abs(solucion_numpy)"
   ]
  },
  {
   "cell_type": "code",
   "execution_count": 18,
   "metadata": {},
   "outputs": [],
   "source": [
    "table_df.loc[len(table_df)] = [dim_500_500, time_500_500, np.mean(error_relativo_500_500)]"
   ]
  },
  {
   "cell_type": "markdown",
   "metadata": {},
   "source": [
    "## Tabla Resumen"
   ]
  },
  {
   "cell_type": "markdown",
   "metadata": {},
   "source": [
    "Esta tabla resumen consolida los resultados obtenidos en las pruebas anteriores con la finalidad de comparar dichos resultados."
   ]
  },
  {
   "cell_type": "code",
   "execution_count": 19,
   "metadata": {},
   "outputs": [
    {
     "data": {
      "text/html": [
       "<div>\n",
       "<style scoped>\n",
       "    .dataframe tbody tr th:only-of-type {\n",
       "        vertical-align: middle;\n",
       "    }\n",
       "\n",
       "    .dataframe tbody tr th {\n",
       "        vertical-align: top;\n",
       "    }\n",
       "\n",
       "    .dataframe thead th {\n",
       "        text-align: right;\n",
       "    }\n",
       "</style>\n",
       "<table border=\"1\" class=\"dataframe\">\n",
       "  <thead>\n",
       "    <tr style=\"text-align: right;\">\n",
       "      <th></th>\n",
       "      <th>Dimensiones de la matriz</th>\n",
       "      <th>Tiempos</th>\n",
       "      <th>Promedio error relativo</th>\n",
       "    </tr>\n",
       "  </thead>\n",
       "  <tbody>\n",
       "    <tr>\n",
       "      <th>0</th>\n",
       "      <td>2 x 2</td>\n",
       "      <td>0.001669</td>\n",
       "      <td>0.000000e+00</td>\n",
       "    </tr>\n",
       "    <tr>\n",
       "      <th>1</th>\n",
       "      <td>10 x 10</td>\n",
       "      <td>0.007923</td>\n",
       "      <td>1.949294e-14</td>\n",
       "    </tr>\n",
       "    <tr>\n",
       "      <th>2</th>\n",
       "      <td>100 x 100</td>\n",
       "      <td>0.364109</td>\n",
       "      <td>4.724333e-13</td>\n",
       "    </tr>\n",
       "    <tr>\n",
       "      <th>3</th>\n",
       "      <td>500 x 500</td>\n",
       "      <td>52.609829</td>\n",
       "      <td>2.852633e-12</td>\n",
       "    </tr>\n",
       "  </tbody>\n",
       "</table>\n",
       "</div>"
      ],
      "text/plain": [
       "  Dimensiones de la matriz    Tiempos  Promedio error relativo\n",
       "0                    2 x 2   0.001669             0.000000e+00\n",
       "1                  10 x 10   0.007923             1.949294e-14\n",
       "2                100 x 100   0.364109             4.724333e-13\n",
       "3                500 x 500  52.609829             2.852633e-12"
      ]
     },
     "execution_count": 19,
     "metadata": {},
     "output_type": "execute_result"
    }
   ],
   "source": [
    "table_df"
   ]
  },
  {
   "cell_type": "markdown",
   "metadata": {},
   "source": [
    "Se puede observar que al aumentar las dimensiones de las matrices de entrada, tanto los tiempos de ejecución como el promedio del error relativo van aumentando.\n",
    "\n",
    "Particularmente se aprecia un cambio muy brusco en los tiempos de ejecución cuando cambiamos de una matriz 100x100 a una de 500x500. Mientras que por otro lado, el cambio en el promedio del error relativo es mucho mas sutil para este mismo caso. "
   ]
  },
  {
   "cell_type": "markdown",
   "metadata": {},
   "source": [
    "## Gráficas"
   ]
  },
  {
   "cell_type": "markdown",
   "metadata": {},
   "source": [
    "### Tiempos "
   ]
  },
  {
   "cell_type": "code",
   "execution_count": 20,
   "metadata": {},
   "outputs": [],
   "source": [
    "dimensiones = table_df['Dimensiones de la matriz']\n",
    "tiempos = table_df['Tiempos']"
   ]
  },
  {
   "cell_type": "code",
   "execution_count": 21,
   "metadata": {},
   "outputs": [
    {
     "data": {
      "image/png": "[encoded data removed]",
      "text/plain": [
       "<Figure size 432x288 with 1 Axes>"
      ]
     },
     "metadata": {
      "needs_background": "light"
     },
     "output_type": "display_data"
    }
   ],
   "source": [
    "plt.plot(dimensiones, tiempos, '^-')\n",
    "plt.xlabel('Dimensiones')\n",
    "plt.ylabel('Tiempo en segundos')\n",
    "plt.grid(True)\n",
    "plt.title('Tiempos de ejecución')\n",
    "plt.show()"
   ]
  },
  {
   "cell_type": "markdown",
   "metadata": {},
   "source": [
    "### Promedio error relativo"
   ]
  },
  {
   "cell_type": "code",
   "execution_count": 22,
   "metadata": {},
   "outputs": [],
   "source": [
    "dimensiones = table_df['Dimensiones de la matriz']\n",
    "error = table_df['Promedio error relativo']"
   ]
  },
  {
   "cell_type": "code",
   "execution_count": 23,
   "metadata": {},
   "outputs": [
    {
     "data": {
      "image/png": "[encoded data removed]",
      "text/plain": [
       "<Figure size 432x288 with 1 Axes>"
      ]
     },
     "metadata": {
      "needs_background": "light"
     },
     "output_type": "display_data"
    }
   ],
   "source": [
    "plt.plot(dimensiones, error, '^-')\n",
    "plt.xlabel('Dimensiones')\n",
    "plt.ylabel('Tiempo en segundos')\n",
    "plt.grid(True)\n",
    "plt.title('Promedio error relativo')\n",
    "plt.show()"
   ]
  },
  {
   "cell_type": "markdown",
   "metadata": {},
   "source": [
    "Estas gráficas nos ayudan a corroborar lo que se mencionaba anteriormente, podemos observar como la pendiente de la grafica de tiempos de ejecución se vuelve mas empinada que la de promedio relativo cuando cambiamos de una matriz 100x100 a 500x500."
   ]
  }
 ],
 "metadata": {
  "kernelspec": {
   "display_name": "Python 3",
   "language": "python",
   "name": "python3"
  },
  "language_info": {
   "codemirror_mode": {
    "name": "ipython",
    "version": 3
   },
   "file_extension": ".py",
   "mimetype": "text/x-python",
   "name": "python",
   "nbconvert_exporter": "python",
   "pygments_lexer": "ipython3",
   "version": "3.7.6"
  }
 },
 "nbformat": 4,
 "nbformat_minor": 4
}
