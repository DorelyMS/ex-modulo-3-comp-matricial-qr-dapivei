{
 "cells": [
  {
   "cell_type": "markdown",
   "metadata": {},
   "source": [
    "# FUNCIONES"
   ]
  },
  {
   "cell_type": "code",
   "execution_count": 1,
   "metadata": {},
   "outputs": [],
   "source": [
    "import os\n",
    "import numpy as np\n",
    "import pprint\n",
    "import copy\n",
    "from math import sqrt\n",
    "from scipy.linalg import solve_triangular"
   ]
  },
  {
   "cell_type": "markdown",
   "metadata": {},
   "source": [
    "### Creación matrices"
   ]
  },
  {
   "cell_type": "code",
   "execution_count": 2,
   "metadata": {},
   "outputs": [],
   "source": [
    "def crea_matriz(renglones,columnas,maximo_valor,minimo_valor,entero=False):\n",
    "    \"\"\"\n",
    "    Función de apoyo para genear matrices aleatorias\n",
    "                            \n",
    "    params: renglones       no. de renglones de la matriz\n",
    "            columnas        no. de renglones de la matriz\n",
    "            maximo_valor    valor máximo de las entradas de la matriz\n",
    "            minimo_valor    valor mínimo de las entradas de la matriz\n",
    "            entero          Indica si las entradas serán enteras (True) o no\n",
    "            \n",
    "    return: M               Matriz con numeros al azar\n",
    "    \"\"\"\n",
    "    M=np.zeros((renglones, columnas))\n",
    "    for i in range(renglones):\n",
    "        for j in range(columnas):\n",
    "            if entero:\n",
    "                M[i][j]=(np.random.rand(1)*(maximo_valor+1-minimo_valor)+minimo_valor)//1\n",
    "            else:\n",
    "                M[i][j]=np.random.rand(1)*(maximo_valor-minimo_valor)+minimo_valor\n",
    "    return M"
   ]
  },
  {
   "cell_type": "markdown",
   "metadata": {},
   "source": [
    "### Factorización QR"
   ]
  },
  {
   "cell_type": "code",
   "execution_count": 3,
   "metadata": {},
   "outputs": [],
   "source": [
    "def house(x):\n",
    "    \"\"\"\n",
    "    Función que calcula la proyección de householder\n",
    "    \n",
    "    params: x       vector al que se le hará la reflexión householder\n",
    "                    \n",
    "    return: Beta    constante utilizada para obtener v\n",
    "            v       vector que representa la reflexión de householder\n",
    "    \"\"\"\n",
    "    m=len(x)\n",
    "    norm_2_m=x[1:m].dot(np.transpose(x[1:m]))\n",
    "    v=np.concatenate((1,x[1:m]), axis=None)\n",
    "    Beta=0\n",
    "    if (norm_2_m==0 and x[0]>=0):\n",
    "        Beta=0\n",
    "    elif (norm_2_m==0 and x[0]<0):\n",
    "        Beta=2\n",
    "    else:\n",
    "        norm_x=np.sqrt(pow(x[0],2)+norm_2_m)\n",
    "        if (x[0]<=0):\n",
    "            v[0]=x[0]-norm_x\n",
    "        else:\n",
    "            v[0]=-norm_2_m/(x[0]+norm_x)\n",
    "        Beta=2*pow(v[0],2)/(norm_2_m+pow(v[0],2))\n",
    "        v=v/v[0]\n",
    "    return Beta, v"
   ]
  },
  {
   "cell_type": "code",
   "execution_count": 4,
   "metadata": {},
   "outputs": [],
   "source": [
    "def factorizacion_QR(A):\n",
    "    \"\"\"\n",
    "    Función que genera una matriz que contendrá información escencial de las proyecciones householder\n",
    "    (vectores v's) y componentes de la matriz triangular superior R, del estilo:\n",
    "    [r11      r12      r13      r14    ]\n",
    "    [v_2_(1)  r22      r23      r24    ]\n",
    "    [v_3_(1)  v_3_(2)  r33      r34    ]\n",
    "    [v_4_(1)  v_4_(2)  v_4_(3)  r44    ]\n",
    "    [v_5_(1)  v_5_(2)  v_5_(3)  v_5_(4)]\n",
    "    \n",
    "    params: A      Matriz (mxn) de la que se desea obtner factorización QR\n",
    "            \n",
    "    return: A_r_v  Matriz (mxn) con la información escencial (es igual a la matriz R, pero en lugar de tener ceros\n",
    "                   en la parte inferior, contiene info de los vectores householder que serán útiles para\n",
    "                   futuros cálculos, que entre otros están el calcular la matriz ortonormal Q)\n",
    "    \"\"\"\n",
    "    m=A.shape[0]\n",
    "    n=A.shape[1]\n",
    "    A_r_v=copy.copy(A)\n",
    "    for j in range(n):\n",
    "        beta, v=house(A_r_v[j:m,j])\n",
    "        A_r_v[j:m,j:n]=A_r_v[j:m,j:n]-beta*(np.outer(v,v)@A_r_v[j:m,j:n])\n",
    "        A_r_v[(j+1):m,j]=v[1:(m-j)]\n",
    "    return A_r_v"
   ]
  },
  {
   "cell_type": "code",
   "execution_count": 5,
   "metadata": {},
   "outputs": [],
   "source": [
    "def QT_C(A_r_v,C):\n",
    "    \"\"\"\n",
    "    Función que calcula el producto matricial de Q_transpuesta por una matriz dada C\n",
    "                            \n",
    "    params: A_r_v   Matriz (mxn) con la info escencial\n",
    "            C       Matriz (mxp) (si se pasa por ejemplo C=Identidad (mxm) la funcion devolverá Q)\n",
    "\n",
    "    return: M       Matriz con numero al azar\n",
    "    \"\"\"\n",
    "    m=A_r_v.shape[0]\n",
    "    n=A_r_v.shape[1]\n",
    "    QT_por_C=np.eye(m)\n",
    "    for j in range(n-1,-1,-1):\n",
    "        v=np.concatenate((1,A_r_v[(j+1):m,j]), axis=None)\n",
    "        beta=2/(1+A_r_v[(j+1):m,j].dot(A_r_v[(j+1):m,j]))\n",
    "        QT_por_C[j:m,j:m]=C[j:m,j:m]-beta*np.outer(v,v)@C[j:m,j:m]\n",
    "    return QT_por_C"
   ]
  },
  {
   "cell_type": "code",
   "execution_count": 6,
   "metadata": {},
   "outputs": [],
   "source": [
    "def Q_j(A_r_v,j):\n",
    "    \"\"\"\n",
    "    Función que calcula la matriz Qj (en el proceso de obtención de factorización QR se van obteniendo n Qj's,\n",
    "    que si se multiplican todas da por resultado Q=Q1*Q2*...*Qn)\n",
    "                            \n",
    "    params: A_r_v   Matriz (mxn) con la info escencial\n",
    "            C       Matriz (mxp) (si se pasa por ejemplo C=Identidad (mxm) la funcion devolverá Q)\n",
    "\n",
    "    return: Qj      Matriz Q de la j-esima iteración del proceso iterativo de factorización QR\n",
    "    \"\"\"\n",
    "    m=A_r_v.shape[0]\n",
    "    n=A_r_v.shape[1]\n",
    "    Qj=np.eye(m)\n",
    "    v=np.concatenate((1,A_r_v[(j+1):m,j]), axis=None)\n",
    "    beta=2/(1+A_r_v[(j+1):m,j].dot(A_r_v[(j+1):m,j]))\n",
    "    Qj[j:m,j:m]=np.eye(m-j)-beta*np.outer(v,v)\n",
    "    return Qj"
   ]
  },
  {
   "cell_type": "markdown",
   "metadata": {},
   "source": [
    "### Funciones para solución de Sistemas de Ecuaciones Lineales"
   ]
  },
  {
   "cell_type": "code",
   "execution_count": 7,
   "metadata": {},
   "outputs": [],
   "source": [
    "def Solucion_SEL_QR_nxn(A,b):\n",
    "    \"\"\"\n",
    "    Función que obtiene la solución de un sistema de ecuaciones lineala (SEL) con n ecuaciones y n incognitas\n",
    "            \n",
    "    params: A   Matriz (nxn) que representa los coeficientas de las ecuaciones\n",
    "            b   vector (nx1) constantes del sistema\n",
    "\n",
    "    return: x   vector que satisface (Ax=b)\n",
    "    \"\"\"\n",
    "    A_r_v=factorizacion_QR(A)\n",
    "    m=A_r_v.shape[0]\n",
    "    #Q=np.transpose(QT_C(A_r_v,np.eye(m)))\n",
    "    #R=np.transpose(Q)@A\n",
    "    n=A_r_v.shape[0]\n",
    "    Q=np.eye(m)\n",
    "    R=copy.copy(A)\n",
    "    for j in range(m):\n",
    "        Qj=Q_j(A_r_v,j)\n",
    "        Q=Q@Qj\n",
    "        R=Q_j(A_r_v,j)@R\n",
    "    b_prima=np.transpose(Q)@b\n",
    "    x = solve_triangular(R, np.transpose(Q)@b)\n",
    "    return x"
   ]
  },
  {
   "cell_type": "markdown",
   "metadata": {},
   "source": [
    "#### Eliminación por bloques"
   ]
  },
  {
   "cell_type": "code",
   "execution_count": 8,
   "metadata": {},
   "outputs": [],
   "source": [
    "def bloques(A, b=False, n1=False, n2=False):\n",
    "    \"\"\"\n",
    "    Esta es la función para la creación de bloques usando un arreglo de numpy\n",
    "    \n",
    "    params: A   Matriz (nxn) que representa los coeficientas de las ecuaciones\n",
    "            b   vector (nx1) constantes del sistema\n",
    "            n1  Numero de renglones que tendrá el 1er bloque\n",
    "            n2  Numero de renglones que tendrá el 2do bloque\n",
    "    \n",
    "    return: A11 Fraccion de la matriz dividida\n",
    "            A12 Fraccion de la matriz dividida\n",
    "            A12 Fraccion de la matriz dividida\n",
    "            A12 Fraccion de la matriz dividida\n",
    "            b1  Fraccion del vector dividido\n",
    "            b2  Fraccion del vector dividido\n",
    "    \"\"\"\n",
    "\n",
    "    # Primero definimos el n\n",
    "    m,n = A.shape\n",
    "\n",
    "    # Condiciones de A\n",
    "    # Si no se dan los n deseados, se intentan hacer los bloques casi iguales\n",
    "    if  not (n1&n2):\n",
    "        n1 = n//2\n",
    "        n2 = n - n1\n",
    "    # Los bloques deben cumplir la condicion de tamaño\n",
    "    elif n1+n1 != n:\n",
    "        sys.exit('n1 + n2 debe ser igual a n')\n",
    "    else:\n",
    "        None\n",
    "\n",
    "    # Condiciones de b\n",
    "    if  b is False:\n",
    "        b1 = None\n",
    "        b2 = None\n",
    "        print('condicion1')\n",
    "    elif len(b) == m:\n",
    "        b1 = b[:n1]\n",
    "        b2 = b[n1:m]\n",
    "    else:\n",
    "        sys.exit('los renglones de A y b deben ser del mismo tamaño')\n",
    "\n",
    "    A11 = A[:n1,:n1]\n",
    "    A12 = A[:n1,n1:n]\n",
    "    A21 = A[n1:m,:n1]\n",
    "    A22 = A[n1:m,n1:n]\n",
    "\n",
    "    return A11,A12,A21,A22,b1,b2"
   ]
  },
  {
   "cell_type": "code",
   "execution_count": 9,
   "metadata": {},
   "outputs": [],
   "source": [
    "def eliminacion_bloques(A,b):\n",
    "    \"\"\"\n",
    "    Función que obtiene la solución de un sistema de ecuaciones lineala (SEL) con n ecuaciones y n incognitas\n",
    "            \n",
    "    params: A   Matriz (nxn) que representa los coeficientas de las ecuaciones\n",
    "            b   vector (nx1) constantes del sistema\n",
    "    \n",
    "    return: x1 Solucion al 1er sistema de ecuaciones obtenido con la división por bloques\n",
    "            x2 Solucion al 2do sistema de ecuaciones obtenido con la división por bloques\n",
    "    \"\"\"\n",
    "    if np.linalg.det(A)==0:\n",
    "        sys.exit('A debe ser no singular')\n",
    "\n",
    "    A11,A12,A21,A22,b1,b2 = bloques(A,b)\n",
    "\n",
    "    if np.linalg.det(A11)==0:\n",
    "        ys.exit('A11 debe ser no singular')\n",
    "\n",
    "    ## 1. Calcular A11^{-1}A12 y A11^{-1}b1 teniendo cuidado en no calcular la inversa sino un sistema de ecuaciones lineales\n",
    "    ## Aquí se debe usar el método QR una vez que esté desarrollado\n",
    "\n",
    "    ## Definimos y = A11^{-1}b1, por tanto A11y=b1. Resolviendo el sistema anterior para 11y:\n",
    "    y = Solucion_SEL_QR_nxn(A11,b1)\n",
    "    #y = np.linalg.solve(A11,b1)\n",
    "\n",
    "    ## Definimos Y = A11^{-1}A12\n",
    "    Y = Solucion_SEL_QR_nxn(A11,A12)\n",
    "    #Y = np.linalg.solve(A11,A12)\n",
    "\n",
    "    ## 2. Calcular el complemento de Schur del bloque A11 en A. Calcular b_hat\n",
    "    S = A22 - A21@Y\n",
    "    b_h = b2 - A21@y\n",
    "\n",
    "    ## 3. Resolver Sx2 = b_hat\n",
    "    x2 = Solucion_SEL_QR_nxn(S,b_h)\n",
    "    #x2 = np.linalg.solve(S,b_h)\n",
    "\n",
    "    ## 4. Resolver A11x1 = b1-A12X2\n",
    "    x1 = Solucion_SEL_QR_nxn(A11,b1-A12@x2)\n",
    "    #x1 = np.linalg.solve(A11,b1-A12@x2)\n",
    "\n",
    "    return np.concatenate((x1,x2), axis=0)"
   ]
  },
  {
   "cell_type": "markdown",
   "metadata": {},
   "source": [
    "# Prueba Unitaria"
   ]
  },
  {
   "cell_type": "markdown",
   "metadata": {},
   "source": [
    "## Eliminación por bloques con QR considerando sistemas con única solución"
   ]
  },
  {
   "cell_type": "markdown",
   "metadata": {},
   "source": [
    "### Ejemplo 1 - Matriz 2 x 2"
   ]
  },
  {
   "cell_type": "markdown",
   "metadata": {},
   "source": [
    "Empezaremos por generar un sistema de ecuaciones lineales con solución unica."
   ]
  },
  {
   "cell_type": "code",
   "execution_count": 10,
   "metadata": {},
   "outputs": [
    {
     "name": "stdout",
     "output_type": "stream",
     "text": [
      "A:\n",
      "array([[ 2.,  3.],\n",
      "       [ 3., -1.]])\n",
      "b:\n",
      "array([[ 1.],\n",
      "       [-1.]])\n"
     ]
    }
   ],
   "source": [
    "# Generamos una matriz 2 x 2\n",
    "A = np.array([[2, 3], [3, -1]], dtype='d')\n",
    "b = np.array([[1], [-1]], dtype='d')\n",
    "print(\"A:\")\n",
    "pprint.pprint(A)\n",
    "print(\"b:\")\n",
    "pprint.pprint(b)"
   ]
  },
  {
   "cell_type": "markdown",
   "metadata": {},
   "source": [
    "Calculamos el determinante de la matriz A"
   ]
  },
  {
   "cell_type": "code",
   "execution_count": 11,
   "metadata": {},
   "outputs": [
    {
     "data": {
      "text/plain": [
       "-11.000000000000002"
      ]
     },
     "execution_count": 11,
     "metadata": {},
     "output_type": "execute_result"
    }
   ],
   "source": [
    "np.linalg.det(A)"
   ]
  },
  {
   "cell_type": "markdown",
   "metadata": {},
   "source": [
    "Dado que el determinante de la matriz es distinto de cero la matriz A tiene solución única"
   ]
  },
  {
   "cell_type": "markdown",
   "metadata": {},
   "source": [
    "**Solución del sistema usando Numpy**"
   ]
  },
  {
   "cell_type": "markdown",
   "metadata": {},
   "source": [
    "Utilizaremos la función de numpy *np.linalg.solve(A,b)*  para validar que el sistema de ecuaciones efectivamente no tiene solución."
   ]
  },
  {
   "cell_type": "code",
   "execution_count": 12,
   "metadata": {},
   "outputs": [
    {
     "data": {
      "text/plain": [
       "array([[-0.18181818],\n",
       "       [ 0.45454545]])"
      ]
     },
     "execution_count": 12,
     "metadata": {},
     "output_type": "execute_result"
    }
   ],
   "source": [
    "np.linalg.solve(A,b)"
   ]
  },
  {
   "cell_type": "markdown",
   "metadata": {},
   "source": [
    "Podemos observar que la función de numpy nos arroja la solución al sistema de ecuaciones lineales propuesto."
   ]
  },
  {
   "cell_type": "markdown",
   "metadata": {},
   "source": [
    "**Implementación Programadores - Eliminación por bloques con QR**"
   ]
  },
  {
   "cell_type": "markdown",
   "metadata": {},
   "source": [
    "Utilizaremos la función eliminacion_bloques implementada por los programadores para validar sus funcionalidad cuando trata de resolver un sistema de ecuaciones lineales con solución única."
   ]
  },
  {
   "cell_type": "code",
   "execution_count": 13,
   "metadata": {},
   "outputs": [
    {
     "data": {
      "text/plain": [
       "array([[-0.18181818],\n",
       "       [ 0.45454545]])"
      ]
     },
     "execution_count": 13,
     "metadata": {},
     "output_type": "execute_result"
    }
   ],
   "source": [
    "eliminacion_bloques(A,b)"
   ]
  },
  {
   "cell_type": "markdown",
   "metadata": {},
   "source": [
    "Podemos observar que la función nos arroja la misma solución que numpy."
   ]
  },
  {
   "cell_type": "markdown",
   "metadata": {},
   "source": [
    "### Ejemplo 2 - Matriz 10^2 x 10^2"
   ]
  },
  {
   "cell_type": "markdown",
   "metadata": {},
   "source": [
    "Generaremos un sistema de ecuaciones lineales de 10^2 x 10^2"
   ]
  },
  {
   "cell_type": "markdown",
   "metadata": {},
   "source": [
    "Fijamos una semilla para que el ejemplo sea replicable"
   ]
  },
  {
   "cell_type": "code",
   "execution_count": 14,
   "metadata": {},
   "outputs": [],
   "source": [
    "np.random.seed(2020)"
   ]
  },
  {
   "cell_type": "code",
   "execution_count": 15,
   "metadata": {},
   "outputs": [
    {
     "name": "stdout",
     "output_type": "stream",
     "text": [
      "A:\n",
      "array([[ 5.,  4.,  0., ..., -1., -4.,  0.],\n",
      "       [-3.,  5., -2., ...,  3., -3., -1.],\n",
      "       [-4., -5., -3., ..., -1., -5.,  3.],\n",
      "       ...,\n",
      "       [-1., -5., -5., ..., -1., -5., -2.],\n",
      "       [-2.,  1., -3., ...,  5.,  4.,  3.],\n",
      "       [ 3.,  4.,  1., ..., -1.,  3.,  5.]])\n",
      "b:\n",
      "array([  7.,   3., -37., -19., -21.,  33., -21.,  -4., -36.,   4.,  13.,\n",
      "       -74.,  -4., -31.,  21.,   7.,  13.,  -6.,  13.,  10., -58.,  17.,\n",
      "       -50.,  25., -19.,  15., -35.,   4.,  -2.,   6., -26., -15., -65.,\n",
      "       -17.,  75., -22.,  22., -30.,  39.,  39., -67.,  24., -51.,  29.,\n",
      "        -3., -24.,   1.,   8.,  34.,  19.,  13.,  24.,  27., -12.,   9.,\n",
      "       -17., -15., -19.,  25., -31.,  24.,  34.,  19., -25., -42., -13.,\n",
      "       -31., -56., -33.,  11., -19., -48.,  80., -11., -11.,   7., -22.,\n",
      "         2.,  41., -18., -32.,  79., -16.,  29., -36., -31., -15.,  31.,\n",
      "       -31.,  -7.,  34.,  20., -11.,  -2., -16., -10., -47., -28., -78.,\n",
      "        11.])\n"
     ]
    }
   ],
   "source": [
    "m = 100\n",
    "n = 100\n",
    "A = crea_matriz(m, n, 5, -5,True)\n",
    "\n",
    "# sumamos las entradas de las filas para crear el vector b, así nuestro vector x tendrá por solución el valor de 1 en cada entrada.\n",
    "b = np.sum(A, axis=1)\n",
    "\n",
    "print(\"A:\")\n",
    "pprint.pprint(A)\n",
    "print(\"b:\")\n",
    "pprint.pprint(b)"
   ]
  },
  {
   "cell_type": "markdown",
   "metadata": {},
   "source": [
    "Calculamos el determinante"
   ]
  },
  {
   "cell_type": "code",
   "execution_count": 16,
   "metadata": {},
   "outputs": [
    {
     "data": {
      "text/plain": [
       "-4.212288088814109e+127"
      ]
     },
     "execution_count": 16,
     "metadata": {},
     "output_type": "execute_result"
    }
   ],
   "source": [
    "np.linalg.det(A)"
   ]
  },
  {
   "cell_type": "markdown",
   "metadata": {},
   "source": [
    "El determinante es cercano a cero, pero no es cero."
   ]
  },
  {
   "cell_type": "markdown",
   "metadata": {},
   "source": [
    "**Solución del sistema usando Numpy**"
   ]
  },
  {
   "cell_type": "markdown",
   "metadata": {},
   "source": [
    "Utilizaremos la función de numpy *np.linalg.solve(A,b)*  una vez mas para validar que el sistema de ecuaciones dado tiene solución."
   ]
  },
  {
   "cell_type": "code",
   "execution_count": 17,
   "metadata": {},
   "outputs": [
    {
     "data": {
      "text/plain": [
       "array([1., 1., 1., 1., 1., 1., 1., 1., 1., 1., 1., 1., 1., 1., 1., 1., 1.,\n",
       "       1., 1., 1., 1., 1., 1., 1., 1., 1., 1., 1., 1., 1., 1., 1., 1., 1.,\n",
       "       1., 1., 1., 1., 1., 1., 1., 1., 1., 1., 1., 1., 1., 1., 1., 1., 1.,\n",
       "       1., 1., 1., 1., 1., 1., 1., 1., 1., 1., 1., 1., 1., 1., 1., 1., 1.,\n",
       "       1., 1., 1., 1., 1., 1., 1., 1., 1., 1., 1., 1., 1., 1., 1., 1., 1.,\n",
       "       1., 1., 1., 1., 1., 1., 1., 1., 1., 1., 1., 1., 1., 1., 1.])"
      ]
     },
     "execution_count": 17,
     "metadata": {},
     "output_type": "execute_result"
    }
   ],
   "source": [
    "np.linalg.solve(A,b)"
   ]
  },
  {
   "cell_type": "markdown",
   "metadata": {},
   "source": [
    "Podemos observar que la función de numpy nos arroja la solución que esperabamos."
   ]
  },
  {
   "cell_type": "markdown",
   "metadata": {},
   "source": [
    "**Implementación Programadores - Eliminación por bloques con QR**"
   ]
  },
  {
   "cell_type": "markdown",
   "metadata": {},
   "source": [
    "Utilizaremos la función eliminacion_bloques implementada por los programadores para validar su funcionalidad cuando trata de resolver un sistema de ecuaciones lineales de 10^2x100^2."
   ]
  },
  {
   "cell_type": "code",
   "execution_count": 18,
   "metadata": {},
   "outputs": [
    {
     "data": {
      "text/plain": [
       "array([1., 1., 1., 1., 1., 1., 1., 1., 1., 1., 1., 1., 1., 1., 1., 1., 1.,\n",
       "       1., 1., 1., 1., 1., 1., 1., 1., 1., 1., 1., 1., 1., 1., 1., 1., 1.,\n",
       "       1., 1., 1., 1., 1., 1., 1., 1., 1., 1., 1., 1., 1., 1., 1., 1., 1.,\n",
       "       1., 1., 1., 1., 1., 1., 1., 1., 1., 1., 1., 1., 1., 1., 1., 1., 1.,\n",
       "       1., 1., 1., 1., 1., 1., 1., 1., 1., 1., 1., 1., 1., 1., 1., 1., 1.,\n",
       "       1., 1., 1., 1., 1., 1., 1., 1., 1., 1., 1., 1., 1., 1., 1.])"
      ]
     },
     "execution_count": 18,
     "metadata": {},
     "output_type": "execute_result"
    }
   ],
   "source": [
    "eliminacion_bloques(A,b)"
   ]
  },
  {
   "cell_type": "markdown",
   "metadata": {},
   "source": [
    "Podemos observar que la función nos arroja el mismo resultado."
   ]
  },
  {
   "cell_type": "markdown",
   "metadata": {},
   "source": [
    "## Resumen"
   ]
  },
  {
   "cell_type": "markdown",
   "metadata": {},
   "source": [
    "La función eliminacion_bloques(A,b) es capaz de resolver efectivamente sistemas de ecuaciones con solución única. \n",
    "Dados que sólo se revisaron 2 ejemplos, es necesario realizar más pruebas.\n",
    "\n",
    "**TO DO.** \n",
    "\n",
    "+ Realizar más pruebas. \n",
    "\n",
    "\n"
   ]
  },
  {
   "cell_type": "code",
   "execution_count": null,
   "metadata": {},
   "outputs": [],
   "source": []
  }
 ],
 "metadata": {
  "kernelspec": {
   "display_name": "Python 3",
   "language": "python",
   "name": "python3"
  },
  "language_info": {
   "codemirror_mode": {
    "name": "ipython",
    "version": 3
   },
   "file_extension": ".py",
   "mimetype": "text/x-python",
   "name": "python",
   "nbconvert_exporter": "python",
   "pygments_lexer": "ipython3",
   "version": "3.7.3"
  }
 },
 "nbformat": 4,
 "nbformat_minor": 4
}
