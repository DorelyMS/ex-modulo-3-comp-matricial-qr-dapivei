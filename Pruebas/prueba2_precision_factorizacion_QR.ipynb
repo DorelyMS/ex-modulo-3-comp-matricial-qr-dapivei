{
 "cells": [
  {
   "cell_type": "markdown",
   "metadata": {},
   "source": [
    "# Prueba Precisión - Factorización QR (Revisión 2)"
   ]
  },
  {
   "cell_type": "markdown",
   "metadata": {},
   "source": [
    "Importamos la librerías necesarias."
   ]
  },
  {
   "cell_type": "code",
   "execution_count": 1,
   "metadata": {},
   "outputs": [],
   "source": [
    "#paquetes python\n",
    "import os\n",
    "import numpy as np\n",
    "import copy\n",
    "import pprint\n",
    "from math import sqrt\n",
    "from scipy.linalg import solve_triangular\n",
    "import inspect\n",
    "import sys\n",
    "\n",
    "# paquetes funciones definidas obtenidas de archivos .py\n",
    "import funciones_factorizacion_QR as fqr"
   ]
  },
  {
   "cell_type": "markdown",
   "metadata": {},
   "source": [
    "## EJEMPLO 1 - Matriz de dimensión 5x3 (Filas > Columnas)"
   ]
  },
  {
   "cell_type": "markdown",
   "metadata": {},
   "source": [
    "Verificaremos que la factorización QR de una matriz obtenida con la función de numpy, es igual a la obtenida con la función implementada por los programadores."
   ]
  },
  {
   "cell_type": "markdown",
   "metadata": {},
   "source": [
    "Empezaremos por generar una matriz aleatoria con la función crea_matriz"
   ]
  },
  {
   "cell_type": "code",
   "execution_count": 2,
   "metadata": {},
   "outputs": [
    {
     "data": {
      "text/plain": [
       "array([[-2.28, -1.11,  2.86],\n",
       "       [ 5.92, -1.6 , -4.19],\n",
       "       [-2.14,  3.16,  4.57],\n",
       "       [-5.2 ,  2.85, -3.7 ],\n",
       "       [-4.8 , -0.43,  2.23]])"
      ]
     },
     "execution_count": 2,
     "metadata": {},
     "output_type": "execute_result"
    }
   ],
   "source": [
    "# Generamos una matriz aleatoria de tamaño definido (renglones y columnas) y valores aleatorios comprendidos en un rango, pudiendo ser sus entradas de tipo enteros o dobles\n",
    "m=5\n",
    "n=3\n",
    "A=np.round(fqr.crear_matriz_aleatoria(m,n,6,-6,False),2)\n",
    "A"
   ]
  },
  {
   "cell_type": "markdown",
   "metadata": {},
   "source": [
    "### Implementación programadores"
   ]
  },
  {
   "cell_type": "markdown",
   "metadata": {},
   "source": [
    "Primero, utilizaremos la función matriz_auxiliar_Arv para obtener la matriz auxiliar Arv."
   ]
  },
  {
   "cell_type": "code",
   "execution_count": 3,
   "metadata": {},
   "outputs": [
    {
     "data": {
      "text/plain": [
       "array([[ 9.7419, -2.7161, -3.3432],\n",
       "       [-0.4924,  3.8351, -0.6815],\n",
       "       [ 0.178 , -0.6189,  7.3241],\n",
       "       [ 0.4325, -0.4641,  1.593 ],\n",
       "       [ 0.3993,  0.2307,  0.0343]])"
      ]
     },
     "execution_count": 3,
     "metadata": {},
     "output_type": "execute_result"
    }
   ],
   "source": [
    "Arv = fqr.matriz_auxiliar_Arv(A)\n",
    "np.round(Arv,4)"
   ]
  },
  {
   "cell_type": "markdown",
   "metadata": {},
   "source": [
    "Utilizamos la función matriz_Q para obetener Q."
   ]
  },
  {
   "cell_type": "code",
   "execution_count": 4,
   "metadata": {},
   "outputs": [
    {
     "data": {
      "text/plain": [
       "array([[-0.234 , -0.4552,  0.2413, -0.354 , -0.7446],\n",
       "       [ 0.6077,  0.0132, -0.2935, -0.7357,  0.0556],\n",
       "       [-0.2197,  0.6684,  0.5859, -0.4001,  0.0405],\n",
       "       [-0.5338,  0.3651, -0.7149, -0.165 , -0.2086],\n",
       "       [-0.4927, -0.4611,  0.0367, -0.3822,  0.6303]])"
      ]
     },
     "execution_count": 4,
     "metadata": {},
     "output_type": "execute_result"
    }
   ],
   "source": [
    "Q = fqr.matriz_Q(Arv)\n",
    "np.round(Q,4)"
   ]
  },
  {
   "cell_type": "markdown",
   "metadata": {},
   "source": [
    "Utilizamos la función matriz_R para obetener R."
   ]
  },
  {
   "cell_type": "code",
   "execution_count": 5,
   "metadata": {},
   "outputs": [
    {
     "data": {
      "text/plain": [
       "array([[ 9.7419, -2.7161, -3.3432],\n",
       "       [ 0.    ,  3.8351, -0.6815],\n",
       "       [ 0.    ,  0.    ,  7.3241],\n",
       "       [ 0.    ,  0.    ,  0.    ],\n",
       "       [ 0.    ,  0.    ,  0.    ]])"
      ]
     },
     "execution_count": 5,
     "metadata": {},
     "output_type": "execute_result"
    }
   ],
   "source": [
    "R = fqr.matriz_R(Arv)\n",
    "np.round(R,4)"
   ]
  },
  {
   "cell_type": "markdown",
   "metadata": {},
   "source": [
    "Calcularemos la multiplicación de las matrices Q y R para validar que obtenemos A."
   ]
  },
  {
   "cell_type": "code",
   "execution_count": 6,
   "metadata": {},
   "outputs": [
    {
     "name": "stdout",
     "output_type": "stream",
     "text": [
      "Q@R:\n",
      "array([[-2.28, -1.11,  2.86],\n",
      "       [ 5.92, -1.6 , -4.19],\n",
      "       [-2.14,  3.16,  4.57],\n",
      "       [-5.2 ,  2.85, -3.7 ],\n",
      "       [-4.8 , -0.43,  2.23]])\n",
      "A:\n",
      "array([[-2.28, -1.11,  2.86],\n",
      "       [ 5.92, -1.6 , -4.19],\n",
      "       [-2.14,  3.16,  4.57],\n",
      "       [-5.2 ,  2.85, -3.7 ],\n",
      "       [-4.8 , -0.43,  2.23]])\n"
     ]
    }
   ],
   "source": [
    "print('Q@R:')\n",
    "pprint.pprint(Q@R)\n",
    "print('A:')\n",
    "pprint.pprint(A)"
   ]
  },
  {
   "cell_type": "markdown",
   "metadata": {},
   "source": [
    "### Implementación Numpy"
   ]
  },
  {
   "cell_type": "markdown",
   "metadata": {},
   "source": [
    "Obtenemos Q y R con la función *numpy.linalg.qr()*"
   ]
  },
  {
   "cell_type": "code",
   "execution_count": 7,
   "metadata": {},
   "outputs": [
    {
     "name": "stdout",
     "output_type": "stream",
     "text": [
      "Q_np:\n",
      "array([[-0.23404085, -0.45518086, -0.24130459],\n",
      "       [ 0.60768502,  0.01317088,  0.29347003],\n",
      "       [-0.21966992,  0.66839287, -0.58589391],\n",
      "       [-0.53377738,  0.36510686,  0.71486489],\n",
      "       [-0.49271759, -0.46106927, -0.03665988]])\n",
      "R_np:\n",
      "array([[ 9.74188893, -2.71606463, -3.34323253],\n",
      "       [ 0.        ,  3.83511315, -0.68152765],\n",
      "       [ 0.        ,  0.        , -7.32405737]])\n"
     ]
    }
   ],
   "source": [
    "Q_np, R_np = np.linalg.qr(A)\n",
    "print('Q_np:')\n",
    "pprint.pprint(Q_np)\n",
    "print('R_np:')\n",
    "pprint.pprint(R_np)"
   ]
  },
  {
   "cell_type": "markdown",
   "metadata": {},
   "source": [
    "Calcularemos la multiplicación de las matrices Q y R para validar que obtenemos A."
   ]
  },
  {
   "cell_type": "code",
   "execution_count": 8,
   "metadata": {},
   "outputs": [
    {
     "name": "stdout",
     "output_type": "stream",
     "text": [
      "Q_np@R_np:\n",
      "array([[-2.28, -1.11,  2.86],\n",
      "       [ 5.92, -1.6 , -4.19],\n",
      "       [-2.14,  3.16,  4.57],\n",
      "       [-5.2 ,  2.85, -3.7 ],\n",
      "       [-4.8 , -0.43,  2.23]])\n",
      "A:\n",
      "array([[-2.28, -1.11,  2.86],\n",
      "       [ 5.92, -1.6 , -4.19],\n",
      "       [-2.14,  3.16,  4.57],\n",
      "       [-5.2 ,  2.85, -3.7 ],\n",
      "       [-4.8 , -0.43,  2.23]])\n"
     ]
    }
   ],
   "source": [
    "print('Q_np@R_np:')\n",
    "pprint.pprint(Q_np@R_np)\n",
    "print('A:')\n",
    "pprint.pprint(A)"
   ]
  },
  {
   "cell_type": "markdown",
   "metadata": {},
   "source": [
    "### Comparación"
   ]
  },
  {
   "cell_type": "markdown",
   "metadata": {},
   "source": [
    "**Validación A = QR**"
   ]
  },
  {
   "cell_type": "markdown",
   "metadata": {},
   "source": [
    "Valores obtenidos con la función implementada por los programadores."
   ]
  },
  {
   "cell_type": "code",
   "execution_count": 9,
   "metadata": {},
   "outputs": [
    {
     "name": "stdout",
     "output_type": "stream",
     "text": [
      "Q@R:\n",
      "array([[-2.28, -1.11,  2.86],\n",
      "       [ 5.92, -1.6 , -4.19],\n",
      "       [-2.14,  3.16,  4.57],\n",
      "       [-5.2 ,  2.85, -3.7 ],\n",
      "       [-4.8 , -0.43,  2.23]])\n",
      "A:\n",
      "array([[-2.28, -1.11,  2.86],\n",
      "       [ 5.92, -1.6 , -4.19],\n",
      "       [-2.14,  3.16,  4.57],\n",
      "       [-5.2 ,  2.85, -3.7 ],\n",
      "       [-4.8 , -0.43,  2.23]])\n"
     ]
    }
   ],
   "source": [
    "print('Q@R:')\n",
    "pprint.pprint(Q@R)\n",
    "print('A:')\n",
    "pprint.pprint(A)"
   ]
  },
  {
   "cell_type": "markdown",
   "metadata": {},
   "source": [
    "Valores obtenidos con la función de numpy."
   ]
  },
  {
   "cell_type": "code",
   "execution_count": 10,
   "metadata": {},
   "outputs": [
    {
     "name": "stdout",
     "output_type": "stream",
     "text": [
      "Q_np@R_np:\n",
      "array([[-2.28, -1.11,  2.86],\n",
      "       [ 5.92, -1.6 , -4.19],\n",
      "       [-2.14,  3.16,  4.57],\n",
      "       [-5.2 ,  2.85, -3.7 ],\n",
      "       [-4.8 , -0.43,  2.23]])\n",
      "A:\n",
      "array([[-2.28, -1.11,  2.86],\n",
      "       [ 5.92, -1.6 , -4.19],\n",
      "       [-2.14,  3.16,  4.57],\n",
      "       [-5.2 ,  2.85, -3.7 ],\n",
      "       [-4.8 , -0.43,  2.23]])\n"
     ]
    }
   ],
   "source": [
    "print('Q_np@R_np:')\n",
    "pprint.pprint(Q_np@R_np)\n",
    "print('A:')\n",
    "pprint.pprint(A)"
   ]
  },
  {
   "cell_type": "markdown",
   "metadata": {},
   "source": [
    "Las dos funciones cumplen que A = QR.\n",
    "\n",
    "Podemos ver que obtenemos los mismos resultados al multiplicar las matrices Q y R obtenidas por cada función respectivamente."
   ]
  },
  {
   "cell_type": "markdown",
   "metadata": {},
   "source": [
    "**Validación Q**"
   ]
  },
  {
   "cell_type": "markdown",
   "metadata": {},
   "source": [
    "Valores obtenidos con la función implementada por los programadores."
   ]
  },
  {
   "cell_type": "code",
   "execution_count": 11,
   "metadata": {},
   "outputs": [
    {
     "name": "stdout",
     "output_type": "stream",
     "text": [
      "Q:\n",
      "array([[-0.23404085, -0.45518086,  0.24130459, -0.35400715, -0.74463837],\n",
      "       [ 0.60768502,  0.01317088, -0.29347003, -0.73574845,  0.05563276],\n",
      "       [-0.21966992,  0.66839287,  0.58589391, -0.40010089,  0.04054258],\n",
      "       [-0.53377738,  0.36510686, -0.71486489, -0.16496906, -0.20864341],\n",
      "       [-0.49271759, -0.46106927,  0.03665988, -0.38217489,  0.6302721 ]])\n"
     ]
    }
   ],
   "source": [
    "print('Q:')\n",
    "pprint.pprint(Q)"
   ]
  },
  {
   "cell_type": "markdown",
   "metadata": {},
   "source": [
    "Valores obtenidos con la función de numpy."
   ]
  },
  {
   "cell_type": "code",
   "execution_count": 12,
   "metadata": {},
   "outputs": [
    {
     "name": "stdout",
     "output_type": "stream",
     "text": [
      "Q_np:\n",
      "array([[-0.23404085, -0.45518086, -0.24130459],\n",
      "       [ 0.60768502,  0.01317088,  0.29347003],\n",
      "       [-0.21966992,  0.66839287, -0.58589391],\n",
      "       [-0.53377738,  0.36510686,  0.71486489],\n",
      "       [-0.49271759, -0.46106927, -0.03665988]])\n"
     ]
    }
   ],
   "source": [
    "print('Q_np:')\n",
    "pprint.pprint(Q_np)"
   ]
  },
  {
   "cell_type": "markdown",
   "metadata": {},
   "source": [
    "**Validación R**"
   ]
  },
  {
   "cell_type": "markdown",
   "metadata": {},
   "source": [
    "Valores obtenidos con la función implementada por los programadores."
   ]
  },
  {
   "cell_type": "code",
   "execution_count": 13,
   "metadata": {},
   "outputs": [
    {
     "name": "stdout",
     "output_type": "stream",
     "text": [
      "R:\n",
      "array([[ 9.74188893, -2.71606463, -3.34323253],\n",
      "       [ 0.        ,  3.83511315, -0.68152765],\n",
      "       [ 0.        ,  0.        ,  7.32405737],\n",
      "       [ 0.        ,  0.        ,  0.        ],\n",
      "       [ 0.        ,  0.        ,  0.        ]])\n"
     ]
    }
   ],
   "source": [
    "print('R:')\n",
    "pprint.pprint(R)"
   ]
  },
  {
   "cell_type": "markdown",
   "metadata": {},
   "source": [
    "Valores obtenidos con la función de numpy."
   ]
  },
  {
   "cell_type": "code",
   "execution_count": 14,
   "metadata": {},
   "outputs": [
    {
     "name": "stdout",
     "output_type": "stream",
     "text": [
      "R_np:\n",
      "array([[ 9.74188893, -2.71606463, -3.34323253],\n",
      "       [ 0.        ,  3.83511315, -0.68152765],\n",
      "       [ 0.        ,  0.        , -7.32405737]])\n"
     ]
    }
   ],
   "source": [
    "print('R_np:')\n",
    "pprint.pprint(R_np)"
   ]
  },
  {
   "cell_type": "markdown",
   "metadata": {},
   "source": [
    "Tanto las funciones implementadas por los programadores para obtener la factorización $QR$ de una matriz, como la función *linalg.qr* de la librería numpy consideran una matriz de entrada A de dimensiones $mxn$. Como resultado se obtienen las siguientes dos matrices:\n",
    "\n",
    "+ Función implementa por los programadores:\n",
    "    + matriz ortogonal $Q$ de dimensiones $mxm$\n",
    "    + matriz triangular superior $R$ de dimensiones $mxn$\n",
    "\n",
    "+ Función linalg.qr de numpy\n",
    "    + matriz con columnas ortonormales $Q$ de dimensiones $mxn$\n",
    "    + matriz traingular superior $R$ con dimensiones $nxn$\n",
    "    \n",
    " \n",
    "En el caso de la función implementada en numpy, se obtiene lo que se conoce como \"Factorización thin QR\", en donde $Q$ ya no es una matriz ortogonal, si no una matriz con entradas ortonormales.\n",
    "\n",
    "Lo anterior muestra por qué en las secciones de **Validación Q** y **Validación R** se obtienen matrices distintas; sin embargo, como se demuestra en la sección **Comparación A=QR**, al multiplicar uno u otro par de matrices $QR$, se recupera la matriz original $A$."
   ]
  },
  {
   "cell_type": "markdown",
   "metadata": {},
   "source": [
    "## Resumen de Hallazgos"
   ]
  },
  {
   "cell_type": "markdown",
   "metadata": {},
   "source": [
    "En esta segunda iteración de validaciones para el caso de una matriz de 5x3 (donde el número de filas es mayor al de columnas) queda confirmado que las funciones para la factorización QR se encuentran funcionando correctamente considerando los resultados obtenidos en este análisis. Al comparar numpy vs la implementación por parte de los programadores validamos que se cumple que A = QR.\n",
    "\n",
    "La diferencias entre Q y R que también se identificaron en la primera iteración de validaciones se explican en la parte de arriba.\n",
    "\n",
    "Además, quisiera mencionar que no se presentó ningun problema al utilizar el modulo de funciones py que recientemente se implementó por parte del equipo de programación. "
   ]
  }
 ],
 "metadata": {
  "kernelspec": {
   "display_name": "Python 3",
   "language": "python",
   "name": "python3"
  },
  "language_info": {
   "codemirror_mode": {
    "name": "ipython",
    "version": 3
   },
   "file_extension": ".py",
   "mimetype": "text/x-python",
   "name": "python",
   "nbconvert_exporter": "python",
   "pygments_lexer": "ipython3",
   "version": "3.7.6"
  }
 },
 "nbformat": 4,
 "nbformat_minor": 4
}
