{
 "cells": [
  {
   "cell_type": "markdown",
   "metadata": {},
   "source": [
    "# Prueba Precisión - Factorización QR (Revisión 2)"
   ]
  },
  {
   "cell_type": "markdown",
   "metadata": {},
   "source": [
    "Importamos la librerías necesarias."
   ]
  },
  {
   "cell_type": "code",
   "execution_count": 1,
   "metadata": {},
   "outputs": [],
   "source": [
    "#paquetes python\n",
    "import numpy as np\n",
    "import pprint\n",
    "\n",
    "# paquetes funciones definidas obtenidas de archivos .py\n",
    "import funciones_factorizacion_QR as fqr"
   ]
  },
  {
   "cell_type": "markdown",
   "metadata": {},
   "source": [
    "## EJEMPLO 1 - Matriz de dimensión 5x3 (Filas > Columnas)"
   ]
  },
  {
   "cell_type": "markdown",
   "metadata": {},
   "source": [
    "Verificaremos que la factorización QR de una matriz obtenida con la función de numpy, es igual a la obtenida con la función implementada por los programadores."
   ]
  },
  {
   "cell_type": "markdown",
   "metadata": {},
   "source": [
    "Empezaremos por generar una matriz aleatoria con la función crea_matriz"
   ]
  },
  {
   "cell_type": "code",
   "execution_count": 2,
   "metadata": {},
   "outputs": [
    {
     "data": {
      "text/plain": [
       "array([[-4.2 ,  0.15,  4.35],\n",
       "       [-4.78,  0.57, -5.44],\n",
       "       [ 0.99, -0.43, -2.78],\n",
       "       [ 1.55,  2.61, -2.56],\n",
       "       [-1.67,  5.46, -1.62]])"
      ]
     },
     "execution_count": 2,
     "metadata": {},
     "output_type": "execute_result"
    }
   ],
   "source": [
    "# Generamos una matriz aleatoria de tamaño definido (renglones y columnas) y valores aleatorios comprendidos en un rango, pudiendo ser sus entradas de tipo enteros o dobles\n",
    "m=5\n",
    "n=3\n",
    "A=np.round(fqr.crear_matriz_aleatoria(m,n,6,-6,False),2)\n",
    "A"
   ]
  },
  {
   "cell_type": "markdown",
   "metadata": {},
   "source": [
    "### Implementación programadores"
   ]
  },
  {
   "cell_type": "markdown",
   "metadata": {},
   "source": [
    "Utilizamos la función matriz_Q_R para obtener Q y R a partir de A."
   ]
  },
  {
   "cell_type": "code",
   "execution_count": 3,
   "metadata": {},
   "outputs": [],
   "source": [
    "Q , R = fqr.matriz_Q_R(A)"
   ]
  },
  {
   "cell_type": "markdown",
   "metadata": {},
   "source": [
    "Visualizamos Q."
   ]
  },
  {
   "cell_type": "code",
   "execution_count": 4,
   "metadata": {},
   "outputs": [
    {
     "data": {
      "text/plain": [
       "array([[-0.6149, -0.1086,  0.5774,  0.1177, -0.5127],\n",
       "       [-0.6998, -0.0566, -0.6853,  0.1558,  0.1152],\n",
       "       [ 0.1449, -0.0407, -0.3903, -0.5417, -0.7291],\n",
       "       [ 0.2269,  0.4876, -0.1798,  0.7117, -0.4146],\n",
       "       [-0.2445,  0.8635,  0.1109, -0.4024,  0.1428]])"
      ]
     },
     "execution_count": 4,
     "metadata": {},
     "output_type": "execute_result"
    }
   ],
   "source": [
    "np.round(Q,4)"
   ]
  },
  {
   "cell_type": "markdown",
   "metadata": {},
   "source": [
    "Visualizamos R."
   ]
  },
  {
   "cell_type": "code",
   "execution_count": 5,
   "metadata": {},
   "outputs": [
    {
     "data": {
      "text/plain": [
       "array([[ 6.8308, -1.296 ,  0.5444],\n",
       "       [ 0.    ,  5.9562, -2.6987],\n",
       "       [-0.    , -0.    ,  7.6055],\n",
       "       [ 0.    ,  0.    ,  0.    ],\n",
       "       [-0.    , -0.    , -0.    ]])"
      ]
     },
     "execution_count": 5,
     "metadata": {},
     "output_type": "execute_result"
    }
   ],
   "source": [
    "np.round(R,4)"
   ]
  },
  {
   "cell_type": "markdown",
   "metadata": {},
   "source": [
    "Calcularemos la multiplicación de las matrices Q y R para validar que obtenemos A."
   ]
  },
  {
   "cell_type": "code",
   "execution_count": 6,
   "metadata": {},
   "outputs": [
    {
     "name": "stdout",
     "output_type": "stream",
     "text": [
      "Q@R:\n",
      "array([[-4.2 ,  0.15,  4.35],\n",
      "       [-4.78,  0.57, -5.44],\n",
      "       [ 0.99, -0.43, -2.78],\n",
      "       [ 1.55,  2.61, -2.56],\n",
      "       [-1.67,  5.46, -1.62]])\n",
      "A:\n",
      "array([[-4.2 ,  0.15,  4.35],\n",
      "       [-4.78,  0.57, -5.44],\n",
      "       [ 0.99, -0.43, -2.78],\n",
      "       [ 1.55,  2.61, -2.56],\n",
      "       [-1.67,  5.46, -1.62]])\n"
     ]
    }
   ],
   "source": [
    "print('Q@R:')\n",
    "pprint.pprint(Q@R)\n",
    "print('A:')\n",
    "pprint.pprint(A)"
   ]
  },
  {
   "cell_type": "markdown",
   "metadata": {},
   "source": [
    "### Implementación Numpy"
   ]
  },
  {
   "cell_type": "markdown",
   "metadata": {},
   "source": [
    "Obtenemos Q y R con la función *numpy.linalg.qr()*"
   ]
  },
  {
   "cell_type": "code",
   "execution_count": 7,
   "metadata": {},
   "outputs": [
    {
     "name": "stdout",
     "output_type": "stream",
     "text": [
      "Q_np:\n",
      "array([[-0.61486163, -0.10860715,  0.57742769],\n",
      "       [-0.69977109, -0.05656825, -0.68526264],\n",
      "       [ 0.14493167, -0.04065727, -0.39032723],\n",
      "       [ 0.22691322,  0.48757435, -0.17982983],\n",
      "       [-0.24448069,  0.86349451,  0.11089756]])\n",
      "R_np:\n",
      "array([[ 6.83080522, -1.29604047,  0.54435749],\n",
      "       [ 0.        ,  5.9561967 , -2.69873402],\n",
      "       [ 0.        ,  0.        ,  7.6054592 ]])\n"
     ]
    }
   ],
   "source": [
    "Q_np, R_np = np.linalg.qr(A)\n",
    "print('Q_np:')\n",
    "pprint.pprint(Q_np)\n",
    "print('R_np:')\n",
    "pprint.pprint(R_np)"
   ]
  },
  {
   "cell_type": "markdown",
   "metadata": {},
   "source": [
    "Calcularemos la multiplicación de las matrices Q y R para validar que obtenemos A."
   ]
  },
  {
   "cell_type": "code",
   "execution_count": 8,
   "metadata": {},
   "outputs": [
    {
     "name": "stdout",
     "output_type": "stream",
     "text": [
      "Q_np@R_np:\n",
      "array([[-4.2 ,  0.15,  4.35],\n",
      "       [-4.78,  0.57, -5.44],\n",
      "       [ 0.99, -0.43, -2.78],\n",
      "       [ 1.55,  2.61, -2.56],\n",
      "       [-1.67,  5.46, -1.62]])\n",
      "A:\n",
      "array([[-4.2 ,  0.15,  4.35],\n",
      "       [-4.78,  0.57, -5.44],\n",
      "       [ 0.99, -0.43, -2.78],\n",
      "       [ 1.55,  2.61, -2.56],\n",
      "       [-1.67,  5.46, -1.62]])\n"
     ]
    }
   ],
   "source": [
    "print('Q_np@R_np:')\n",
    "pprint.pprint(Q_np@R_np)\n",
    "print('A:')\n",
    "pprint.pprint(A)"
   ]
  },
  {
   "cell_type": "markdown",
   "metadata": {},
   "source": [
    "### Comparación"
   ]
  },
  {
   "cell_type": "markdown",
   "metadata": {},
   "source": [
    "**Validación A = QR**"
   ]
  },
  {
   "cell_type": "markdown",
   "metadata": {},
   "source": [
    "Valores obtenidos con la función implementada por los programadores."
   ]
  },
  {
   "cell_type": "code",
   "execution_count": 9,
   "metadata": {},
   "outputs": [
    {
     "name": "stdout",
     "output_type": "stream",
     "text": [
      "Q@R:\n",
      "array([[-4.2 ,  0.15,  4.35],\n",
      "       [-4.78,  0.57, -5.44],\n",
      "       [ 0.99, -0.43, -2.78],\n",
      "       [ 1.55,  2.61, -2.56],\n",
      "       [-1.67,  5.46, -1.62]])\n",
      "A:\n",
      "array([[-4.2 ,  0.15,  4.35],\n",
      "       [-4.78,  0.57, -5.44],\n",
      "       [ 0.99, -0.43, -2.78],\n",
      "       [ 1.55,  2.61, -2.56],\n",
      "       [-1.67,  5.46, -1.62]])\n"
     ]
    }
   ],
   "source": [
    "print('Q@R:')\n",
    "pprint.pprint(Q@R)\n",
    "print('A:')\n",
    "pprint.pprint(A)"
   ]
  },
  {
   "cell_type": "markdown",
   "metadata": {},
   "source": [
    "Valores obtenidos con la función de numpy."
   ]
  },
  {
   "cell_type": "code",
   "execution_count": 10,
   "metadata": {},
   "outputs": [
    {
     "name": "stdout",
     "output_type": "stream",
     "text": [
      "Q_np@R_np:\n",
      "array([[-4.2 ,  0.15,  4.35],\n",
      "       [-4.78,  0.57, -5.44],\n",
      "       [ 0.99, -0.43, -2.78],\n",
      "       [ 1.55,  2.61, -2.56],\n",
      "       [-1.67,  5.46, -1.62]])\n",
      "A:\n",
      "array([[-4.2 ,  0.15,  4.35],\n",
      "       [-4.78,  0.57, -5.44],\n",
      "       [ 0.99, -0.43, -2.78],\n",
      "       [ 1.55,  2.61, -2.56],\n",
      "       [-1.67,  5.46, -1.62]])\n"
     ]
    }
   ],
   "source": [
    "print('Q_np@R_np:')\n",
    "pprint.pprint(Q_np@R_np)\n",
    "print('A:')\n",
    "pprint.pprint(A)"
   ]
  },
  {
   "cell_type": "markdown",
   "metadata": {},
   "source": [
    "Las dos funciones cumplen que A = QR.\n",
    "\n",
    "Podemos ver que obtenemos los mismos resultados al multiplicar las matrices Q y R obtenidas por cada función respectivamente."
   ]
  },
  {
   "cell_type": "markdown",
   "metadata": {},
   "source": [
    "**Validación Q**"
   ]
  },
  {
   "cell_type": "markdown",
   "metadata": {},
   "source": [
    "Valores obtenidos con la función implementada por los programadores."
   ]
  },
  {
   "cell_type": "code",
   "execution_count": 11,
   "metadata": {},
   "outputs": [
    {
     "name": "stdout",
     "output_type": "stream",
     "text": [
      "Q:\n",
      "array([[-0.61486163, -0.10860715,  0.57742769,  0.11765035, -0.51272344],\n",
      "       [-0.69977109, -0.05656825, -0.68526264,  0.15579885,  0.11516203],\n",
      "       [ 0.14493167, -0.04065727, -0.39032723, -0.54169732, -0.72907507],\n",
      "       [ 0.22691322,  0.48757435, -0.17982983,  0.7117186 , -0.41460766],\n",
      "       [-0.24448069,  0.86349451,  0.11089756, -0.40237514,  0.14283697]])\n"
     ]
    }
   ],
   "source": [
    "print('Q:')\n",
    "pprint.pprint(Q)"
   ]
  },
  {
   "cell_type": "markdown",
   "metadata": {},
   "source": [
    "Valores obtenidos con la función de numpy."
   ]
  },
  {
   "cell_type": "code",
   "execution_count": 12,
   "metadata": {},
   "outputs": [
    {
     "name": "stdout",
     "output_type": "stream",
     "text": [
      "Q_np:\n",
      "array([[-0.61486163, -0.10860715,  0.57742769],\n",
      "       [-0.69977109, -0.05656825, -0.68526264],\n",
      "       [ 0.14493167, -0.04065727, -0.39032723],\n",
      "       [ 0.22691322,  0.48757435, -0.17982983],\n",
      "       [-0.24448069,  0.86349451,  0.11089756]])\n"
     ]
    }
   ],
   "source": [
    "print('Q_np:')\n",
    "pprint.pprint(Q_np)"
   ]
  },
  {
   "cell_type": "markdown",
   "metadata": {},
   "source": [
    "**Validación R**"
   ]
  },
  {
   "cell_type": "markdown",
   "metadata": {},
   "source": [
    "Valores obtenidos con la función implementada por los programadores."
   ]
  },
  {
   "cell_type": "code",
   "execution_count": 13,
   "metadata": {},
   "outputs": [
    {
     "name": "stdout",
     "output_type": "stream",
     "text": [
      "R:\n",
      "array([[ 6.83080522e+00, -1.29604047e+00,  5.44357492e-01],\n",
      "       [ 6.23432724e-17,  5.95619670e+00, -2.69873402e+00],\n",
      "       [-2.25448082e-16, -8.05517528e-17,  7.60545920e+00],\n",
      "       [ 2.24700516e-16,  4.92810237e-17,  7.94325854e-16],\n",
      "       [-1.40857430e-16, -5.26886249e-17, -1.20910315e-16]])\n"
     ]
    }
   ],
   "source": [
    "print('R:')\n",
    "pprint.pprint(R)"
   ]
  },
  {
   "cell_type": "markdown",
   "metadata": {},
   "source": [
    "Valores obtenidos con la función de numpy."
   ]
  },
  {
   "cell_type": "code",
   "execution_count": 14,
   "metadata": {},
   "outputs": [
    {
     "name": "stdout",
     "output_type": "stream",
     "text": [
      "R_np:\n",
      "array([[ 6.83080522, -1.29604047,  0.54435749],\n",
      "       [ 0.        ,  5.9561967 , -2.69873402],\n",
      "       [ 0.        ,  0.        ,  7.6054592 ]])\n"
     ]
    }
   ],
   "source": [
    "print('R_np:')\n",
    "pprint.pprint(R_np)"
   ]
  },
  {
   "cell_type": "markdown",
   "metadata": {},
   "source": [
    "Tanto las funciones implementadas por los programadores para obtener la factorización $QR$ de una matriz, como la función *linalg.qr* de la librería numpy consideran una matriz de entrada A de dimensiones $mxn$. Como resultado se obtienen las siguientes dos matrices:\n",
    "\n",
    "+ Función implementa por los programadores:\n",
    "    + matriz ortogonal $Q$ de dimensiones $mxm$\n",
    "    + matriz triangular superior $R$ de dimensiones $mxn$\n",
    "\n",
    "+ Función linalg.qr de numpy\n",
    "    + matriz con columnas ortonormales $Q$ de dimensiones $mxn$\n",
    "    + matriz traingular superior $R$ con dimensiones $nxn$\n",
    "    \n",
    " \n",
    "En el caso de la función implementada en numpy, se obtiene lo que se conoce como \"Factorización thin QR\", en donde $Q$ ya no es una matriz ortogonal, si no una matriz con entradas ortonormales.\n",
    "\n",
    "Lo anterior muestra por qué en las secciones de **Validación Q** y **Validación R** se obtienen matrices distintas; sin embargo, como se demuestra en la sección **Comparación A=QR**, al multiplicar uno u otro par de matrices $QR$, se recupera la matriz original $A$."
   ]
  },
  {
   "cell_type": "markdown",
   "metadata": {},
   "source": [
    "## EJEMPLO 2 - Matriz de dimensión 3x5 (Columnas > Filas)"
   ]
  },
  {
   "cell_type": "markdown",
   "metadata": {},
   "source": [
    "En este caso consideramos una matriz con las dimensiones invertidas con respecto al Ejemplo 1, es decir, el número de columnas es mayor al número de filas."
   ]
  },
  {
   "cell_type": "code",
   "execution_count": 5,
   "metadata": {},
   "outputs": [
    {
     "data": {
      "text/plain": [
       "array([[ 0.82,  2.48, -1.5 ,  2.4 , -2.2 ],\n",
       "       [ 4.34,  5.38, -3.54,  4.34, -5.46],\n",
       "       [ 3.27, -4.45,  4.57,  0.35, -0.02]])"
      ]
     },
     "execution_count": 5,
     "metadata": {},
     "output_type": "execute_result"
    }
   ],
   "source": [
    "# Generación de matriz aleatorio de tamaño 3x5\n",
    "m=3\n",
    "n=5\n",
    "A=np.round(fqr.crear_matriz_aleatoria(m,n,6,-6,False),2)\n",
    "A"
   ]
  },
  {
   "cell_type": "markdown",
   "metadata": {},
   "source": [
    "### Implementación programadores"
   ]
  },
  {
   "cell_type": "markdown",
   "metadata": {},
   "source": [
    "De igual forma que en el ejemplo anterior, utilizamos la función **matriz_Q_R** para obtener las matrices **Q** y **R**, resultantes de la factorización de la matriz inicial $A$."
   ]
  },
  {
   "cell_type": "code",
   "execution_count": 7,
   "metadata": {},
   "outputs": [
    {
     "ename": "SystemExit",
     "evalue": "El numero de renglones de A tiene que ser igual o mayor al no. de columnas",
     "output_type": "error",
     "traceback": [
      "An exception has occurred, use %tb to see the full traceback.\n",
      "\u001b[0;31mSystemExit\u001b[0m\u001b[0;31m:\u001b[0m El numero de renglones de A tiene que ser igual o mayor al no. de columnas\n"
     ]
    },
    {
     "name": "stderr",
     "output_type": "stream",
     "text": [
      "/home/lauragmz/anaconda3/lib/python3.7/site-packages/IPython/core/interactiveshell.py:3333: UserWarning: To exit: use 'exit', 'quit', or Ctrl-D.\n",
      "  warn(\"To exit: use 'exit', 'quit', or Ctrl-D.\", stacklevel=1)\n"
     ]
    }
   ],
   "source": [
    "Q,R = fqr.matriz_Q_R(A)"
   ]
  },
  {
   "cell_type": "markdown",
   "metadata": {},
   "source": [
    "Debido a que la factorización $QR$ únicamente puede aplicarse a matrices de dimensiones $mxn$, tal que $m \\leq n$; y la matriz inicial $A$, no cumple esta condición, el mensaje de error que muestra la función es correcto. \n",
    "\n",
    "De esta forma se valida la sugerencia propuesta en la revisión anterior \"prueba_precision_factorizacion_QR\", en donde era claro para el usuario la razón por la cual este tipo de matrices presentaban un error."
   ]
  },
  {
   "cell_type": "markdown",
   "metadata": {},
   "source": [
    "## Resumen de Hallazgos"
   ]
  },
  {
   "cell_type": "markdown",
   "metadata": {},
   "source": [
    "En esta segunda iteración de validaciones para el caso de una matriz de $5x3$ (donde el número de filas es mayor al de columnas) queda confirmado que las funciones para la factorización $Q$R se encuentran funcionando correctamente considerando los resultados obtenidos en este análisis. Al comparar numpy vs la implementación por parte de los programadores validamos que se cumple que $A = QR$.\n",
    "\n",
    "Las diferencias entre $Q$ y $R$ que también se identificaron en la primera iteración de validaciones se explican en la parte de arriba y son debidas a la \"factorización thin QR\" utilizada por numpy.\n",
    "\n",
    "Con respecto a la matriz de tamaño $3x5$ (donde el número de columnas es mayor al número de filas),, a la cual no es posible aplicarle la factorización $QR$, queda validado que el mensaje de error desplegado al correr dicha función es informativo para el usuario.\n",
    "\n",
    "Además, quisiera mencionar que no se presentó ningun problema al utilizar el módulo de funciones .py que recientemente se implementó por parte del equipo de programación. "
   ]
  }
 ],
 "metadata": {
  "kernelspec": {
   "display_name": "Python 3",
   "language": "python",
   "name": "python3"
  },
  "language_info": {
   "codemirror_mode": {
    "name": "ipython",
    "version": 3
   },
   "file_extension": ".py",
   "mimetype": "text/x-python",
   "name": "python",
   "nbconvert_exporter": "python",
   "pygments_lexer": "ipython3",
   "version": "3.7.3"
  }
 },
 "nbformat": 4,
 "nbformat_minor": 4
}
